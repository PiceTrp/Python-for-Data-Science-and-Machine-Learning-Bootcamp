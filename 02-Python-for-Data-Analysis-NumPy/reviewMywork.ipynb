{
 "cells": [
  {
   "cell_type": "code",
   "execution_count": 2,
   "metadata": {},
   "outputs": [],
   "source": [
    "import numpy as np\n",
    "import pandas as pd\n",
    "import matplotlib.pyplot as plt\n",
    "import seaborn as sns"
   ]
  },
  {
   "cell_type": "code",
   "execution_count": 3,
   "metadata": {},
   "outputs": [],
   "source": [
    "a = [1,2,3]"
   ]
  },
  {
   "cell_type": "code",
   "execution_count": 4,
   "metadata": {},
   "outputs": [
    {
     "data": {
      "text/plain": [
       "[1, 2, 3]"
      ]
     },
     "execution_count": 4,
     "metadata": {},
     "output_type": "execute_result"
    }
   ],
   "source": [
    "a"
   ]
  },
  {
   "cell_type": "code",
   "execution_count": 5,
   "metadata": {},
   "outputs": [
    {
     "data": {
      "text/plain": [
       "array([1, 2, 3])"
      ]
     },
     "execution_count": 5,
     "metadata": {},
     "output_type": "execute_result"
    }
   ],
   "source": [
    "np.array(a)"
   ]
  },
  {
   "cell_type": "code",
   "execution_count": 24,
   "metadata": {},
   "outputs": [
    {
     "name": "stdout",
     "output_type": "stream",
     "text": [
      "Enter degree of square matrix : 4\n",
      "Input number to metrix 1\n",
      "Enter number in row 1st :\n",
      "1 22\n",
      "You inputed wrong amount of number. Please try again.\n",
      "1 2 3 4\n",
      "Enter number in row 2nd :\n",
      "5 6 7 88\n",
      "Enter number in row 3rd :\n",
      "89 46165 154 \n",
      "You inputed wrong amount of number. Please try again.\n",
      "6 5 6 45\n",
      "Enter number in row 4None :\n",
      "546 54 5  6\n",
      "input number to metrix 2\n",
      "Enter number in row 1st :\n",
      "2 2  2 2\n",
      "Enter number in row 2nd :\n",
      "3 3 3 3 3 \n",
      "You inputed wrong amount of number. Please try again.\n",
      "3 3 3    3\n",
      "Enter number in row 3rd :\n",
      "4 5 68 9\n",
      "Enter number in row 4None :\n",
      "4 5 6 7\n",
      "\n",
      "matrix1    matrix2\n",
      "[1, 2, 3, 4]     [2, 2, 2, 2]\n",
      "[5, 6, 7, 88]     [3, 3, 3, 3]\n",
      "[6, 5, 6, 45]     [4, 5, 68, 9]\n",
      "[546, 54, 5, 6]     [4, 5, 6, 7]\n"
     ]
    }
   ],
   "source": [
    "def checkOrderSpecifying(num):\n",
    "    if num == 1:\n",
    "        return \"st\"\n",
    "    elif num == 2:\n",
    "        return \"nd\"\n",
    "    elif num == 3:\n",
    "        return \"rd\"\n",
    "\n",
    "m1 = []\n",
    "m2 = []\n",
    "degree = int(input(\"Enter degree of square matrix : \"))\n",
    "\n",
    "print(\"Input number to metrix 1\")\n",
    "for i in range(0,degree):\n",
    "    print(\"Enter number in row {}{} :\".format(i+1, checkOrderSpecifying(i+1)))\n",
    "    elem = [int(j) for j in input().split()]\n",
    "    while(len(elem) != degree):\n",
    "        print(\"You inputed wrong amount of number. Please try again.\")\n",
    "        elem = [int(j) for j in input().split()]\n",
    "    m1.append(elem)\n",
    "\n",
    "print(\"input number to metrix 2\")\n",
    "for i in range(0,degree):\n",
    "    print(\"Enter number in row {}{} :\".format(i+1, checkOrderSpecifying(i+1)))\n",
    "    elem = [int(j) for j in input().split()]\n",
    "    while(len(elem) != degree):\n",
    "        print(\"You inputed wrong amount of number. Please try again.\")\n",
    "        elem = [int(j) for j in input().split()]\n",
    "    m2.append(elem)\n",
    "\n",
    "print()\n",
    "print(\"matrix1    matrix2\")\n",
    "for i in range(0,degree):\n",
    "    print(\"{}     {}\".format(m1[i],m2[i]))\n",
    "\n"
   ]
  },
  {
   "cell_type": "code",
   "execution_count": 19,
   "metadata": {},
   "outputs": [
    {
     "data": {
      "text/plain": [
       "[1, 2, 3]"
      ]
     },
     "execution_count": 19,
     "metadata": {},
     "output_type": "execute_result"
    }
   ],
   "source": [
    "a = [[1, 2, 3], [4, 5, 6], [7, 8, 9]]\n",
    "b = [[1, 2, 3], [4, 5, 6], [7, 8, 9]]\n",
    "a[0]"
   ]
  },
  {
   "cell_type": "code",
   "execution_count": 12,
   "metadata": {},
   "outputs": [
    {
     "name": "stdout",
     "output_type": "stream",
     "text": [
      "1 2 3\n",
      "[1, 2, 3]\n",
      "Enter lis of num : 5 6 7 8 9 10\n",
      "[5, 6, 7, 8, 9, 10]\n"
     ]
    }
   ],
   "source": [
    "a = input().split()\n",
    "for i in range(0,3):\n",
    "    a[i] = int(a[i])\n",
    "print(a)\n",
    "\n",
    "b = [int(n) for n in input(\"Enter lis of num : \").split()]\n",
    "print(b)"
   ]
  },
  {
   "cell_type": "code",
   "execution_count": 15,
   "metadata": {},
   "outputs": [
    {
     "data": {
      "text/plain": [
       "5"
      ]
     },
     "execution_count": 15,
     "metadata": {},
     "output_type": "execute_result"
    }
   ],
   "source": [
    "a = [1,2,3,4,5]\n",
    "len(a)"
   ]
  },
  {
   "cell_type": "code",
   "execution_count": null,
   "metadata": {},
   "outputs": [],
   "source": []
  }
 ],
 "metadata": {
  "kernelspec": {
   "display_name": "Python 3",
   "language": "python",
   "name": "python3"
  },
  "language_info": {
   "codemirror_mode": {
    "name": "ipython",
    "version": 3
   },
   "file_extension": ".py",
   "mimetype": "text/x-python",
   "name": "python",
   "nbconvert_exporter": "python",
   "pygments_lexer": "ipython3",
   "version": "3.8.3"
  }
 },
 "nbformat": 4,
 "nbformat_minor": 4
}
