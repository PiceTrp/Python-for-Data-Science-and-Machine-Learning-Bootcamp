{
 "cells": [
  {
   "cell_type": "markdown",
   "metadata": {},
   "source": [
    "# Reference"
   ]
  },
  {
   "cell_type": "markdown",
   "metadata": {},
   "source": [
    "##### https://github.com/santosjorge/cufflinks"
   ]
  },
  {
   "cell_type": "code",
   "execution_count": 1,
   "metadata": {},
   "outputs": [],
   "source": [
    "import pandas as pd\n",
    "import numpy as np"
   ]
  },
  {
   "cell_type": "code",
   "execution_count": 2,
   "metadata": {},
   "outputs": [],
   "source": [
    "from plotly import __version__"
   ]
  },
  {
   "cell_type": "code",
   "execution_count": 3,
   "metadata": {},
   "outputs": [
    {
     "name": "stdout",
     "output_type": "stream",
     "text": [
      "4.14.1\n"
     ]
    }
   ],
   "source": [
    "print(__version__)"
   ]
  },
  {
   "cell_type": "code",
   "execution_count": 4,
   "metadata": {},
   "outputs": [],
   "source": [
    "import cufflinks as cf"
   ]
  },
  {
   "cell_type": "code",
   "execution_count": 5,
   "metadata": {},
   "outputs": [],
   "source": [
    "from plotly.offline import download_plotlyjs,init_notebook_mode,plot,iplot"
   ]
  },
  {
   "cell_type": "code",
   "execution_count": 6,
   "metadata": {},
   "outputs": [
    {
     "data": {
      "text/html": [
       "        <script type=\"text/javascript\">\n",
       "        window.PlotlyConfig = {MathJaxConfig: 'local'};\n",
       "        if (window.MathJax) {MathJax.Hub.Config({SVG: {font: \"STIX-Web\"}});}\n",
       "        if (typeof require !== 'undefined') {\n",
       "        require.undef(\"plotly\");\n",
       "        requirejs.config({\n",
       "            paths: {\n",
       "                'plotly': ['https://cdn.plot.ly/plotly-latest.min']\n",
       "            }\n",
       "        });\n",
       "        require(['plotly'], function(Plotly) {\n",
       "            window._Plotly = Plotly;\n",
       "        });\n",
       "        }\n",
       "        </script>\n",
       "        "
      ]
     },
     "metadata": {},
     "output_type": "display_data"
    }
   ],
   "source": [
    "init_notebook_mode(connected=True)"
   ]
  },
  {
   "cell_type": "code",
   "execution_count": 7,
   "metadata": {},
   "outputs": [
    {
     "data": {
      "text/html": [
       "        <script type=\"text/javascript\">\n",
       "        window.PlotlyConfig = {MathJaxConfig: 'local'};\n",
       "        if (window.MathJax) {MathJax.Hub.Config({SVG: {font: \"STIX-Web\"}});}\n",
       "        if (typeof require !== 'undefined') {\n",
       "        require.undef(\"plotly\");\n",
       "        requirejs.config({\n",
       "            paths: {\n",
       "                'plotly': ['https://cdn.plot.ly/plotly-latest.min']\n",
       "            }\n",
       "        });\n",
       "        require(['plotly'], function(Plotly) {\n",
       "            window._Plotly = Plotly;\n",
       "        });\n",
       "        }\n",
       "        </script>\n",
       "        "
      ]
     },
     "metadata": {},
     "output_type": "display_data"
    }
   ],
   "source": [
    "cf.go_offline()"
   ]
  },
  {
   "cell_type": "code",
   "execution_count": 8,
   "metadata": {},
   "outputs": [],
   "source": [
    "df = pd.DataFrame(np.random.randn(100,4),columns='A B C D'.split())"
   ]
  },
  {
   "cell_type": "code",
   "execution_count": 15,
   "metadata": {},
   "outputs": [],
   "source": [
    "import chart_studio.plotly as py"
   ]
  },
  {
   "cell_type": "code",
   "execution_count": 9,
   "metadata": {},
   "outputs": [
    {
     "data": {
      "text/html": [
       "<div>\n",
       "<style scoped>\n",
       "    .dataframe tbody tr th:only-of-type {\n",
       "        vertical-align: middle;\n",
       "    }\n",
       "\n",
       "    .dataframe tbody tr th {\n",
       "        vertical-align: top;\n",
       "    }\n",
       "\n",
       "    .dataframe thead th {\n",
       "        text-align: right;\n",
       "    }\n",
       "</style>\n",
       "<table border=\"1\" class=\"dataframe\">\n",
       "  <thead>\n",
       "    <tr style=\"text-align: right;\">\n",
       "      <th></th>\n",
       "      <th>A</th>\n",
       "      <th>B</th>\n",
       "      <th>C</th>\n",
       "      <th>D</th>\n",
       "    </tr>\n",
       "  </thead>\n",
       "  <tbody>\n",
       "    <tr>\n",
       "      <th>0</th>\n",
       "      <td>-0.160118</td>\n",
       "      <td>-0.264463</td>\n",
       "      <td>-0.113488</td>\n",
       "      <td>-0.314105</td>\n",
       "    </tr>\n",
       "    <tr>\n",
       "      <th>1</th>\n",
       "      <td>0.159409</td>\n",
       "      <td>1.571430</td>\n",
       "      <td>-0.131152</td>\n",
       "      <td>-0.897019</td>\n",
       "    </tr>\n",
       "    <tr>\n",
       "      <th>2</th>\n",
       "      <td>-0.869141</td>\n",
       "      <td>-0.022061</td>\n",
       "      <td>0.506578</td>\n",
       "      <td>0.573691</td>\n",
       "    </tr>\n",
       "    <tr>\n",
       "      <th>3</th>\n",
       "      <td>2.101028</td>\n",
       "      <td>0.446960</td>\n",
       "      <td>-0.046413</td>\n",
       "      <td>-0.520641</td>\n",
       "    </tr>\n",
       "    <tr>\n",
       "      <th>4</th>\n",
       "      <td>0.171641</td>\n",
       "      <td>1.643762</td>\n",
       "      <td>0.392212</td>\n",
       "      <td>0.165765</td>\n",
       "    </tr>\n",
       "    <tr>\n",
       "      <th>...</th>\n",
       "      <td>...</td>\n",
       "      <td>...</td>\n",
       "      <td>...</td>\n",
       "      <td>...</td>\n",
       "    </tr>\n",
       "    <tr>\n",
       "      <th>95</th>\n",
       "      <td>0.440741</td>\n",
       "      <td>2.570985</td>\n",
       "      <td>0.539888</td>\n",
       "      <td>0.080005</td>\n",
       "    </tr>\n",
       "    <tr>\n",
       "      <th>96</th>\n",
       "      <td>0.546935</td>\n",
       "      <td>-0.360309</td>\n",
       "      <td>0.309106</td>\n",
       "      <td>0.278215</td>\n",
       "    </tr>\n",
       "    <tr>\n",
       "      <th>97</th>\n",
       "      <td>-1.756856</td>\n",
       "      <td>0.264949</td>\n",
       "      <td>-0.916219</td>\n",
       "      <td>0.248661</td>\n",
       "    </tr>\n",
       "    <tr>\n",
       "      <th>98</th>\n",
       "      <td>1.824430</td>\n",
       "      <td>-1.326365</td>\n",
       "      <td>1.442957</td>\n",
       "      <td>-1.005338</td>\n",
       "    </tr>\n",
       "    <tr>\n",
       "      <th>99</th>\n",
       "      <td>-1.403142</td>\n",
       "      <td>0.325662</td>\n",
       "      <td>0.815955</td>\n",
       "      <td>1.490533</td>\n",
       "    </tr>\n",
       "  </tbody>\n",
       "</table>\n",
       "<p>100 rows × 4 columns</p>\n",
       "</div>"
      ],
      "text/plain": [
       "           A         B         C         D\n",
       "0  -0.160118 -0.264463 -0.113488 -0.314105\n",
       "1   0.159409  1.571430 -0.131152 -0.897019\n",
       "2  -0.869141 -0.022061  0.506578  0.573691\n",
       "3   2.101028  0.446960 -0.046413 -0.520641\n",
       "4   0.171641  1.643762  0.392212  0.165765\n",
       "..       ...       ...       ...       ...\n",
       "95  0.440741  2.570985  0.539888  0.080005\n",
       "96  0.546935 -0.360309  0.309106  0.278215\n",
       "97 -1.756856  0.264949 -0.916219  0.248661\n",
       "98  1.824430 -1.326365  1.442957 -1.005338\n",
       "99 -1.403142  0.325662  0.815955  1.490533\n",
       "\n",
       "[100 rows x 4 columns]"
      ]
     },
     "execution_count": 9,
     "metadata": {},
     "output_type": "execute_result"
    }
   ],
   "source": [
    "df"
   ]
  },
  {
   "cell_type": "code",
   "execution_count": 10,
   "metadata": {},
   "outputs": [],
   "source": [
    "df2 = pd.DataFrame({'Category':['A','B','C'],'Value':[32,43,50]})"
   ]
  },
  {
   "cell_type": "code",
   "execution_count": 11,
   "metadata": {},
   "outputs": [
    {
     "data": {
      "text/html": [
       "<div>\n",
       "<style scoped>\n",
       "    .dataframe tbody tr th:only-of-type {\n",
       "        vertical-align: middle;\n",
       "    }\n",
       "\n",
       "    .dataframe tbody tr th {\n",
       "        vertical-align: top;\n",
       "    }\n",
       "\n",
       "    .dataframe thead th {\n",
       "        text-align: right;\n",
       "    }\n",
       "</style>\n",
       "<table border=\"1\" class=\"dataframe\">\n",
       "  <thead>\n",
       "    <tr style=\"text-align: right;\">\n",
       "      <th></th>\n",
       "      <th>Category</th>\n",
       "      <th>Value</th>\n",
       "    </tr>\n",
       "  </thead>\n",
       "  <tbody>\n",
       "    <tr>\n",
       "      <th>0</th>\n",
       "      <td>A</td>\n",
       "      <td>32</td>\n",
       "    </tr>\n",
       "    <tr>\n",
       "      <th>1</th>\n",
       "      <td>B</td>\n",
       "      <td>43</td>\n",
       "    </tr>\n",
       "    <tr>\n",
       "      <th>2</th>\n",
       "      <td>C</td>\n",
       "      <td>50</td>\n",
       "    </tr>\n",
       "  </tbody>\n",
       "</table>\n",
       "</div>"
      ],
      "text/plain": [
       "  Category  Value\n",
       "0        A     32\n",
       "1        B     43\n",
       "2        C     50"
      ]
     },
     "execution_count": 11,
     "metadata": {},
     "output_type": "execute_result"
    }
   ],
   "source": [
    "df2"
   ]
  },
  {
   "cell_type": "code",
   "execution_count": 12,
   "metadata": {},
   "outputs": [
    {
     "data": {
      "text/plain": [
       "<matplotlib.axes._subplots.AxesSubplot at 0x1e5bb786400>"
      ]
     },
     "execution_count": 12,
     "metadata": {},
     "output_type": "execute_result"
    },
    {
     "data": {
      "image/png": "[encoded data removed]",
      "text/plain": [
       "<Figure size 432x288 with 1 Axes>"
      ]
     },
     "metadata": {
      "needs_background": "light"
     },
     "output_type": "display_data"
    }
   ],
   "source": [
    "df.plot()"
   ]
  },
  {
   "cell_type": "code",
   "execution_count": 13,
   "metadata": {},
   "outputs": [
    {
     "data": {
      "application/vnd.plotly.v1+json": {
       "config": {
        "linkText": "Export to plot.ly",
        "plotlyServerURL": "https://plot.ly",
        "showLink": true
       },
       "data": [
        {
         "line": {
          "color": "rgba(255, 153, 51, 1.0)",
          "dash": "solid",
          "shape": "linear",
          "width": 1.3
         },
         "mode": "lines",
         "name": "A",
         "text": "",
         "type": "scatter",
         "x": [
          0,
          1,
          2,
          3,
          4,
          5,
          6,
          7,
          8,
          9,
          10,
          11,
          12,
          13,
          14,
          15,
          16,
          17,
          18,
          19,
          20,
          21,
          22,
          23,
          24,
          25,
          26,
          27,
          28,
          29,
          30,
          31,
          32,
          33,
          34,
          35,
          36,
          37,
          38,
          39,
          40,
          41,
          42,
          43,
          44,
          45,
          46,
          47,
          48,
          49,
          50,
          51,
          52,
          53,
          54,
          55,
          56,
          57,
          58,
          59,
          60,
          61,
          62,
          63,
          64,
          65,
          66,
          67,
          68,
          69,
          70,
          71,
          72,
          73,
          74,
          75,
          76,
          77,
          78,
          79,
          80,
          81,
          82,
          83,
          84,
          85,
          86,
          87,
          88,
          89,
          90,
          91,
          92,
          93,
          94,
          95,
          96,
          97,
          98,
          99
         ],
         "y": [
          -0.1601183780470847,
          0.15940940597672718,
          -0.8691414452109293,
          2.1010276114389423,
          0.17164077472576567,
          -0.3615969648072336,
          -1.4329312503554597,
          1.0348622009763033,
          -0.9530959678937821,
          -1.949144277250312,
          -0.653801018600976,
          -1.0586602896818622,
          0.28861617739230505,
          1.6481156904717285,
          0.5021988384451932,
          0.7419461664678879,
          0.17745499512664956,
          -0.38325620812446526,
          0.12849351472190346,
          0.15024354836000892,
          -1.9046735986048597,
          0.06729564255980032,
          1.3114167690497167,
          0.6532864418010814,
          0.7736641644900281,
          0.9710332051307252,
          -1.2950688683078926,
          -0.2330559856021781,
          -0.2506005785170448,
          0.8746518298457197,
          0.49012434927847653,
          1.952542960328725,
          1.422053288373496,
          -0.041017606165554964,
          -0.5696189873368337,
          1.3796194148641876,
          -0.9684850941850984,
          -0.6867169752967174,
          1.2175982302306936,
          -0.7950270858687128,
          -0.20268130839797435,
          -0.3166116775607073,
          0.013265786411123252,
          1.3609161101425622,
          0.918899536952606,
          0.8946799623180145,
          -0.32355619688753906,
          -0.26159337861282134,
          1.7316425076849074,
          0.18598089946101812,
          0.5735137879874297,
          0.5584074518494194,
          -0.39038838391341496,
          0.9879393225390422,
          2.5030105940459157,
          -0.48432032452495916,
          -0.41613166505421517,
          -1.3139722396678235,
          0.22869715598900986,
          -0.5435803703335473,
          2.487064416501825,
          -0.44198082209238426,
          -0.3539645120194969,
          0.27099557207341957,
          0.45250919764242253,
          -0.0576693407543129,
          -0.7573808849544862,
          -1.3875401356438606,
          0.5770513485881394,
          1.2340897966166007,
          1.014934806523684,
          0.1530954629770791,
          -1.0723060534055624,
          1.085507498157262,
          1.3346837122325887,
          -1.3698512217275174,
          -0.10433179640403041,
          -1.201928853898415,
          -0.30352824810029955,
          0.33826194670927395,
          -0.7785433241744303,
          -0.14302780228701797,
          0.6172268757774699,
          -1.5310619955784,
          -0.9632272022705074,
          0.8562948380132994,
          -0.137384953960321,
          -0.9653087534475998,
          -0.4426437998567408,
          0.5304095588563396,
          1.4850884827390285,
          0.1906684616642033,
          0.246574144712053,
          -0.2369541408221221,
          0.963784194598969,
          0.44074100274933714,
          0.546935093537091,
          -1.756855506983355,
          1.8244298964505592,
          -1.4031423867604629
         ]
        },
        {
         "line": {
          "color": "rgba(55, 128, 191, 1.0)",
          "dash": "solid",
          "shape": "linear",
          "width": 1.3
         },
         "mode": "lines",
         "name": "B",
         "text": "",
         "type": "scatter",
         "x": [
          0,
          1,
          2,
          3,
          4,
          5,
          6,
          7,
          8,
          9,
          10,
          11,
          12,
          13,
          14,
          15,
          16,
          17,
          18,
          19,
          20,
          21,
          22,
          23,
          24,
          25,
          26,
          27,
          28,
          29,
          30,
          31,
          32,
          33,
          34,
          35,
          36,
          37,
          38,
          39,
          40,
          41,
          42,
          43,
          44,
          45,
          46,
          47,
          48,
          49,
          50,
          51,
          52,
          53,
          54,
          55,
          56,
          57,
          58,
          59,
          60,
          61,
          62,
          63,
          64,
          65,
          66,
          67,
          68,
          69,
          70,
          71,
          72,
          73,
          74,
          75,
          76,
          77,
          78,
          79,
          80,
          81,
          82,
          83,
          84,
          85,
          86,
          87,
          88,
          89,
          90,
          91,
          92,
          93,
          94,
          95,
          96,
          97,
          98,
          99
         ],
         "y": [
          -0.2644633545863186,
          1.5714302027771738,
          -0.022060694285092157,
          0.44695975606255306,
          1.6437621966592817,
          -2.1304958014639213,
          -0.34165423712052057,
          0.7735034696623291,
          0.4361167369817292,
          0.38315007358375436,
          -0.13683266188575985,
          0.2963414389906744,
          -2.1731658439592922,
          0.20259417441792585,
          0.09984009734314357,
          0.691047349227367,
          1.314807118205364,
          -0.521105250810098,
          -0.2822920873303137,
          -1.815604989842956,
          -1.0381784939062224,
          -1.540817803928697,
          0.7999428656890234,
          -1.719359604418866,
          1.2745453748761055,
          1.504906159003659,
          -0.03548530175341141,
          -0.47520221229360315,
          -0.03341052408579652,
          0.41606932003300406,
          -1.4669960816172585,
          0.3399043588728614,
          -0.1322471972177475,
          0.3885005500255243,
          -0.1296864888337782,
          0.3725902163354231,
          -0.1681840505469514,
          -0.5380402156473689,
          -1.7400857956585742,
          1.1274655014808161,
          -0.1642696740906239,
          0.3284104283712735,
          1.6754071912755992,
          0.19180608461248194,
          1.370769793189238,
          1.7483301226382149,
          -0.25010508806739873,
          0.13449895716815247,
          0.4234980413886394,
          -0.6292563951712109,
          2.2953199758200236,
          -0.17969684632277028,
          1.2987890271027225,
          0.4030094700678754,
          0.08036747531795806,
          -0.08069390393910325,
          1.9924420651500254,
          -0.2698486232006421,
          0.9189127955439805,
          1.4636227816733902,
          0.938845731900176,
          0.3774223763929635,
          -0.06039266365866485,
          0.9786792112048589,
          0.18303575909528905,
          1.6213974948934198,
          -0.9011226730985576,
          1.5550696967051754,
          -0.5287319696533463,
          -2.134382600497725,
          -2.4884498634990253,
          0.9141044261447112,
          -1.0929243882156412,
          0.33144393850878756,
          -0.11164949938320748,
          -0.3069432766632717,
          1.1173680553813508,
          0.26683988452577584,
          2.572799719475098,
          0.15916196813082964,
          0.07842255156767423,
          -0.3913927786082702,
          -0.6787973075228827,
          -0.42382151492180364,
          -0.3450314270380239,
          -2.2701907481405805,
          -0.25405633676066053,
          -1.1065213219948289,
          -0.9709405991456087,
          -0.4193028156423804,
          -0.7262378201660576,
          1.0725696136192406,
          -0.5523869569628342,
          1.6427537695901733,
          1.5568589945640556,
          2.570984921845135,
          -0.36030875900544634,
          0.26494896940570273,
          -1.3263649914452567,
          0.3256623316086684
         ]
        },
        {
         "line": {
          "color": "rgba(50, 171, 96, 1.0)",
          "dash": "solid",
          "shape": "linear",
          "width": 1.3
         },
         "mode": "lines",
         "name": "C",
         "text": "",
         "type": "scatter",
         "x": [
          0,
          1,
          2,
          3,
          4,
          5,
          6,
          7,
          8,
          9,
          10,
          11,
          12,
          13,
          14,
          15,
          16,
          17,
          18,
          19,
          20,
          21,
          22,
          23,
          24,
          25,
          26,
          27,
          28,
          29,
          30,
          31,
          32,
          33,
          34,
          35,
          36,
          37,
          38,
          39,
          40,
          41,
          42,
          43,
          44,
          45,
          46,
          47,
          48,
          49,
          50,
          51,
          52,
          53,
          54,
          55,
          56,
          57,
          58,
          59,
          60,
          61,
          62,
          63,
          64,
          65,
          66,
          67,
          68,
          69,
          70,
          71,
          72,
          73,
          74,
          75,
          76,
          77,
          78,
          79,
          80,
          81,
          82,
          83,
          84,
          85,
          86,
          87,
          88,
          89,
          90,
          91,
          92,
          93,
          94,
          95,
          96,
          97,
          98,
          99
         ],
         "y": [
          -0.11348786453792516,
          -0.1311524782899683,
          0.506578319243623,
          -0.04641283626244963,
          0.392212467710873,
          -0.6553786708887571,
          0.5571977672878804,
          2.1052672448775063,
          0.10340710707386995,
          -0.8974770305577208,
          1.9384578639188583,
          0.15974699198145836,
          0.31680044214315034,
          0.3530189009363819,
          -0.6863570397708625,
          0.6748926487769098,
          -1.53963708500794,
          -0.6064150850079467,
          -2.285154574606842,
          1.6087609096634756,
          1.4703270008301461,
          -0.9055417363838063,
          -0.48767724288311354,
          1.6677638524446878,
          0.4953296083138165,
          -1.2837673697054308,
          -0.17466900588527673,
          1.7550914473984882,
          -0.08137639105933259,
          -0.7303431206142009,
          -2.2602950720275503,
          0.33518836539457775,
          -0.07526806056324023,
          -0.036577505440543064,
          0.710015868627727,
          0.6998353100073591,
          0.19950402567226277,
          -1.092821161366645,
          1.038682114597619,
          -0.943972451379481,
          -0.33186493395713546,
          0.009566765795468796,
          -1.3043815067990907,
          -0.47903710828837115,
          -1.681324460350031,
          -0.1004688071250641,
          0.34107993712471174,
          -0.02319459821086625,
          -0.3172287282686062,
          0.25571725829735864,
          -1.1537289156229074,
          0.04125732193811072,
          -0.37183401874919636,
          0.4800509318471511,
          0.6829947057833371,
          0.03647745140630001,
          0.08589699451217257,
          -0.3506312190885835,
          0.19439322728550584,
          -0.28144931640232496,
          -0.06229460813495941,
          0.860135991154396,
          -0.6336830074983791,
          2.1614194464065206,
          1.4886188417324488,
          1.948739186374998,
          -1.65932556580322,
          -1.7890236709376695,
          -1.024603199127202,
          -0.2839461673175258,
          -1.5504822872573811,
          -0.3173611535046725,
          1.2497166679966984,
          -0.8689612255158649,
          0.1308449392924964,
          -0.11046281885570239,
          -2.4373915395181656,
          -1.0245728612602316,
          -0.5055241101912172,
          0.056595626695443206,
          0.5176723372772564,
          0.15009361114403955,
          0.15658771344225464,
          0.33471699558951534,
          0.8813025543563201,
          -0.8391595392038008,
          -2.490208577476746,
          0.6042632646657747,
          -0.331476611827571,
          1.5813863192310202,
          0.7390671386615796,
          -0.23184846099447173,
          0.5662094173049512,
          1.827832646415857,
          0.15221010404191296,
          0.5398875261115618,
          0.30910642989010956,
          -0.9162187067758907,
          1.4429566269436902,
          0.8159551231165043
         ]
        },
        {
         "line": {
          "color": "rgba(128, 0, 128, 1.0)",
          "dash": "solid",
          "shape": "linear",
          "width": 1.3
         },
         "mode": "lines",
         "name": "D",
         "text": "",
         "type": "scatter",
         "x": [
          0,
          1,
          2,
          3,
          4,
          5,
          6,
          7,
          8,
          9,
          10,
          11,
          12,
          13,
          14,
          15,
          16,
          17,
          18,
          19,
          20,
          21,
          22,
          23,
          24,
          25,
          26,
          27,
          28,
          29,
          30,
          31,
          32,
          33,
          34,
          35,
          36,
          37,
          38,
          39,
          40,
          41,
          42,
          43,
          44,
          45,
          46,
          47,
          48,
          49,
          50,
          51,
          52,
          53,
          54,
          55,
          56,
          57,
          58,
          59,
          60,
          61,
          62,
          63,
          64,
          65,
          66,
          67,
          68,
          69,
          70,
          71,
          72,
          73,
          74,
          75,
          76,
          77,
          78,
          79,
          80,
          81,
          82,
          83,
          84,
          85,
          86,
          87,
          88,
          89,
          90,
          91,
          92,
          93,
          94,
          95,
          96,
          97,
          98,
          99
         ],
         "y": [
          -0.3141047776814371,
          -0.8970192710960458,
          0.5736914479068228,
          -0.5206411120771636,
          0.16576510518810794,
          -0.5587118804610727,
          0.9878309483052345,
          0.5023609075433647,
          0.9745608398826814,
          0.16655342964635966,
          0.9788192259549774,
          -0.09074367425800649,
          1.5829907682035778,
          -0.764247292231081,
          0.17308183983488762,
          -0.24791312488305745,
          -0.6938234905748255,
          0.30415868202200325,
          -1.4573797696393782,
          -0.8029910175529617,
          -0.7457353564480751,
          3.0306751179427884,
          0.045915555843682884,
          1.196333482147036,
          1.2186397325655025,
          -0.2512862780510248,
          -0.5218023758906899,
          0.0006545154733645155,
          0.0882807793245977,
          0.08032544568298304,
          0.300452263420204,
          -0.7004037709231044,
          1.5959195349326478,
          -1.1456317403017728,
          -1.6090083148862744,
          -0.024979196647730097,
          -2.7855243796398645,
          0.19365146667022942,
          0.9458482394605472,
          -0.6450285898838843,
          -0.6619920977863117,
          -0.286079247403523,
          0.6729421552051487,
          -0.7424158022191921,
          0.15674906928135854,
          1.525833682709512,
          0.8354744054671075,
          -0.10945542092806206,
          -0.7903659987502104,
          2.252293455006751,
          1.0305338642195672,
          -2.143230338789938,
          0.3854367833308197,
          0.5065383599856818,
          0.012066202860070952,
          -1.4437774899649107,
          -0.6746762056654647,
          -0.19410968709492404,
          -1.147512403615673,
          0.33062408255489073,
          -0.28855419839694224,
          -1.3760381340868197,
          0.89767228673124,
          0.199628224052539,
          -0.8269461131144589,
          -2.0310134868416885,
          -1.311605317804653,
          1.0244985960728157,
          0.34724634350785616,
          0.8354198106887961,
          0.8379992652748512,
          0.2130903288179697,
          0.41486346653232337,
          -0.021864543671643935,
          -1.1005092230234894,
          -0.8906576571862331,
          -0.676797498832179,
          -0.35325718962322256,
          -0.08108079990629014,
          1.1853695718411121,
          0.30057746921104944,
          -0.40043517461693023,
          -1.5278058799076497,
          -0.8711964279517036,
          -1.5409210468656107,
          0.22816741726104836,
          -0.03255898174171499,
          0.026687251866059098,
          0.4294202743518761,
          0.3950280004384783,
          1.0450196729200016,
          -0.875516508014222,
          -0.4722584961793411,
          -0.5692715168213826,
          0.9682407212914111,
          0.08000451194139384,
          0.2782152013702495,
          0.24866085181437123,
          -1.005337704907483,
          1.490533209873795
         ]
        }
       ],
       "layout": {
        "legend": {
         "bgcolor": "#F5F6F9",
         "font": {
          "color": "#4D5663"
         }
        },
        "paper_bgcolor": "#F5F6F9",
        "plot_bgcolor": "#F5F6F9",
        "template": {
         "data": {
          "bar": [
           {
            "error_x": {
             "color": "#2a3f5f"
            },
            "error_y": {
             "color": "#2a3f5f"
            },
            "marker": {
             "line": {
              "color": "#E5ECF6",
              "width": 0.5
             }
            },
            "type": "bar"
           }
          ],
          "barpolar": [
           {
            "marker": {
             "line": {
              "color": "#E5ECF6",
              "width": 0.5
             }
            },
            "type": "barpolar"
           }
          ],
          "carpet": [
           {
            "aaxis": {
             "endlinecolor": "#2a3f5f",
             "gridcolor": "white",
             "linecolor": "white",
             "minorgridcolor": "white",
             "startlinecolor": "#2a3f5f"
            },
            "baxis": {
             "endlinecolor": "#2a3f5f",
             "gridcolor": "white",
             "linecolor": "white",
             "minorgridcolor": "white",
             "startlinecolor": "#2a3f5f"
            },
            "type": "carpet"
           }
          ],
          "choropleth": [
           {
            "colorbar": {
             "outlinewidth": 0,
             "ticks": ""
            },
            "type": "choropleth"
           }
          ],
          "contour": [
           {
            "colorbar": {
             "outlinewidth": 0,
             "ticks": ""
            },
            "colorscale": [
             [
              0,
              "#0d0887"
             ],
             [
              0.1111111111111111,
              "#46039f"
             ],
             [
              0.2222222222222222,
              "#7201a8"
             ],
             [
              0.3333333333333333,
              "#9c179e"
             ],
             [
              0.4444444444444444,
              "#bd3786"
             ],
             [
              0.5555555555555556,
              "#d8576b"
             ],
             [
              0.6666666666666666,
              "#ed7953"
             ],
             [
              0.7777777777777778,
              "#fb9f3a"
             ],
             [
              0.8888888888888888,
              "#fdca26"
             ],
             [
              1,
              "#f0f921"
             ]
            ],
            "type": "contour"
           }
          ],
          "contourcarpet": [
           {
            "colorbar": {
             "outlinewidth": 0,
             "ticks": ""
            },
            "type": "contourcarpet"
           }
          ],
          "heatmap": [
           {
            "colorbar": {
             "outlinewidth": 0,
             "ticks": ""
            },
            "colorscale": [
             [
              0,
              "#0d0887"
             ],
             [
              0.1111111111111111,
              "#46039f"
             ],
             [
              0.2222222222222222,
              "#7201a8"
             ],
             [
              0.3333333333333333,
              "#9c179e"
             ],
             [
              0.4444444444444444,
              "#bd3786"
             ],
             [
              0.5555555555555556,
              "#d8576b"
             ],
             [
              0.6666666666666666,
              "#ed7953"
             ],
             [
              0.7777777777777778,
              "#fb9f3a"
             ],
             [
              0.8888888888888888,
              "#fdca26"
             ],
             [
              1,
              "#f0f921"
             ]
            ],
            "type": "heatmap"
           }
          ],
          "heatmapgl": [
           {
            "colorbar": {
             "outlinewidth": 0,
             "ticks": ""
            },
            "colorscale": [
             [
              0,
              "#0d0887"
             ],
             [
              0.1111111111111111,
              "#46039f"
             ],
             [
              0.2222222222222222,
              "#7201a8"
             ],
             [
              0.3333333333333333,
              "#9c179e"
             ],
             [
              0.4444444444444444,
              "#bd3786"
             ],
             [
              0.5555555555555556,
              "#d8576b"
             ],
             [
              0.6666666666666666,
              "#ed7953"
             ],
             [
              0.7777777777777778,
              "#fb9f3a"
             ],
             [
              0.8888888888888888,
              "#fdca26"
             ],
             [
              1,
              "#f0f921"
             ]
            ],
            "type": "heatmapgl"
           }
          ],
          "histogram": [
           {
            "marker": {
             "colorbar": {
              "outlinewidth": 0,
              "ticks": ""
             }
            },
            "type": "histogram"
           }
          ],
          "histogram2d": [
           {
            "colorbar": {
             "outlinewidth": 0,
             "ticks": ""
            },
            "colorscale": [
             [
              0,
              "#0d0887"
             ],
             [
              0.1111111111111111,
              "#46039f"
             ],
             [
              0.2222222222222222,
              "#7201a8"
             ],
             [
              0.3333333333333333,
              "#9c179e"
             ],
             [
              0.4444444444444444,
              "#bd3786"
             ],
             [
              0.5555555555555556,
              "#d8576b"
             ],
             [
              0.6666666666666666,
              "#ed7953"
             ],
             [
              0.7777777777777778,
              "#fb9f3a"
             ],
             [
              0.8888888888888888,
              "#fdca26"
             ],
             [
              1,
              "#f0f921"
             ]
            ],
            "type": "histogram2d"
           }
          ],
          "histogram2dcontour": [
           {
            "colorbar": {
             "outlinewidth": 0,
             "ticks": ""
            },
            "colorscale": [
             [
              0,
              "#0d0887"
             ],
             [
              0.1111111111111111,
              "#46039f"
             ],
             [
              0.2222222222222222,
              "#7201a8"
             ],
             [
              0.3333333333333333,
              "#9c179e"
             ],
             [
              0.4444444444444444,
              "#bd3786"
             ],
             [
              0.5555555555555556,
              "#d8576b"
             ],
             [
              0.6666666666666666,
              "#ed7953"
             ],
             [
              0.7777777777777778,
              "#fb9f3a"
             ],
             [
              0.8888888888888888,
              "#fdca26"
             ],
             [
              1,
              "#f0f921"
             ]
            ],
            "type": "histogram2dcontour"
           }
          ],
          "mesh3d": [
           {
            "colorbar": {
             "outlinewidth": 0,
             "ticks": ""
            },
            "type": "mesh3d"
           }
          ],
          "parcoords": [
           {
            "line": {
             "colorbar": {
              "outlinewidth": 0,
              "ticks": ""
             }
            },
            "type": "parcoords"
           }
          ],
          "pie": [
           {
            "automargin": true,
            "type": "pie"
           }
          ],
          "scatter": [
           {
            "marker": {
             "colorbar": {
              "outlinewidth": 0,
              "ticks": ""
             }
            },
            "type": "scatter"
           }
          ],
          "scatter3d": [
           {
            "line": {
             "colorbar": {
              "outlinewidth": 0,
              "ticks": ""
             }
            },
            "marker": {
             "colorbar": {
              "outlinewidth": 0,
              "ticks": ""
             }
            },
            "type": "scatter3d"
           }
          ],
          "scattercarpet": [
           {
            "marker": {
             "colorbar": {
              "outlinewidth": 0,
              "ticks": ""
             }
            },
            "type": "scattercarpet"
           }
          ],
          "scattergeo": [
           {
            "marker": {
             "colorbar": {
              "outlinewidth": 0,
              "ticks": ""
             }
            },
            "type": "scattergeo"
           }
          ],
          "scattergl": [
           {
            "marker": {
             "colorbar": {
              "outlinewidth": 0,
              "ticks": ""
             }
            },
            "type": "scattergl"
           }
          ],
          "scattermapbox": [
           {
            "marker": {
             "colorbar": {
              "outlinewidth": 0,
              "ticks": ""
             }
            },
            "type": "scattermapbox"
           }
          ],
          "scatterpolar": [
           {
            "marker": {
             "colorbar": {
              "outlinewidth": 0,
              "ticks": ""
             }
            },
            "type": "scatterpolar"
           }
          ],
          "scatterpolargl": [
           {
            "marker": {
             "colorbar": {
              "outlinewidth": 0,
              "ticks": ""
             }
            },
            "type": "scatterpolargl"
           }
          ],
          "scatterternary": [
           {
            "marker": {
             "colorbar": {
              "outlinewidth": 0,
              "ticks": ""
             }
            },
            "type": "scatterternary"
           }
          ],
          "surface": [
           {
            "colorbar": {
             "outlinewidth": 0,
             "ticks": ""
            },
            "colorscale": [
             [
              0,
              "#0d0887"
             ],
             [
              0.1111111111111111,
              "#46039f"
             ],
             [
              0.2222222222222222,
              "#7201a8"
             ],
             [
              0.3333333333333333,
              "#9c179e"
             ],
             [
              0.4444444444444444,
              "#bd3786"
             ],
             [
              0.5555555555555556,
              "#d8576b"
             ],
             [
              0.6666666666666666,
              "#ed7953"
             ],
             [
              0.7777777777777778,
              "#fb9f3a"
             ],
             [
              0.8888888888888888,
              "#fdca26"
             ],
             [
              1,
              "#f0f921"
             ]
            ],
            "type": "surface"
           }
          ],
          "table": [
           {
            "cells": {
             "fill": {
              "color": "#EBF0F8"
             },
             "line": {
              "color": "white"
             }
            },
            "header": {
             "fill": {
              "color": "#C8D4E3"
             },
             "line": {
              "color": "white"
             }
            },
            "type": "table"
           }
          ]
         },
         "layout": {
          "annotationdefaults": {
           "arrowcolor": "#2a3f5f",
           "arrowhead": 0,
           "arrowwidth": 1
          },
          "autotypenumbers": "strict",
          "coloraxis": {
           "colorbar": {
            "outlinewidth": 0,
            "ticks": ""
           }
          },
          "colorscale": {
           "diverging": [
            [
             0,
             "#8e0152"
            ],
            [
             0.1,
             "#c51b7d"
            ],
            [
             0.2,
             "#de77ae"
            ],
            [
             0.3,
             "#f1b6da"
            ],
            [
             0.4,
             "#fde0ef"
            ],
            [
             0.5,
             "#f7f7f7"
            ],
            [
             0.6,
             "#e6f5d0"
            ],
            [
             0.7,
             "#b8e186"
            ],
            [
             0.8,
             "#7fbc41"
            ],
            [
             0.9,
             "#4d9221"
            ],
            [
             1,
             "#276419"
            ]
           ],
           "sequential": [
            [
             0,
             "#0d0887"
            ],
            [
             0.1111111111111111,
             "#46039f"
            ],
            [
             0.2222222222222222,
             "#7201a8"
            ],
            [
             0.3333333333333333,
             "#9c179e"
            ],
            [
             0.4444444444444444,
             "#bd3786"
            ],
            [
             0.5555555555555556,
             "#d8576b"
            ],
            [
             0.6666666666666666,
             "#ed7953"
            ],
            [
             0.7777777777777778,
             "#fb9f3a"
            ],
            [
             0.8888888888888888,
             "#fdca26"
            ],
            [
             1,
             "#f0f921"
            ]
           ],
           "sequentialminus": [
            [
             0,
             "#0d0887"
            ],
            [
             0.1111111111111111,
             "#46039f"
            ],
            [
             0.2222222222222222,
             "#7201a8"
            ],
            [
             0.3333333333333333,
             "#9c179e"
            ],
            [
             0.4444444444444444,
             "#bd3786"
            ],
            [
             0.5555555555555556,
             "#d8576b"
            ],
            [
             0.6666666666666666,
             "#ed7953"
            ],
            [
             0.7777777777777778,
             "#fb9f3a"
            ],
            [
             0.8888888888888888,
             "#fdca26"
            ],
            [
             1,
             "#f0f921"
            ]
           ]
          },
          "colorway": [
           "#636efa",
           "#EF553B",
           "#00cc96",
           "#ab63fa",
           "#FFA15A",
           "#19d3f3",
           "#FF6692",
           "#B6E880",
           "#FF97FF",
           "#FECB52"
          ],
          "font": {
           "color": "#2a3f5f"
          },
          "geo": {
           "bgcolor": "white",
           "lakecolor": "white",
           "landcolor": "#E5ECF6",
           "showlakes": true,
           "showland": true,
           "subunitcolor": "white"
          },
          "hoverlabel": {
           "align": "left"
          },
          "hovermode": "closest",
          "mapbox": {
           "style": "light"
          },
          "paper_bgcolor": "white",
          "plot_bgcolor": "#E5ECF6",
          "polar": {
           "angularaxis": {
            "gridcolor": "white",
            "linecolor": "white",
            "ticks": ""
           },
           "bgcolor": "#E5ECF6",
           "radialaxis": {
            "gridcolor": "white",
            "linecolor": "white",
            "ticks": ""
           }
          },
          "scene": {
           "xaxis": {
            "backgroundcolor": "#E5ECF6",
            "gridcolor": "white",
            "gridwidth": 2,
            "linecolor": "white",
            "showbackground": true,
            "ticks": "",
            "zerolinecolor": "white"
           },
           "yaxis": {
            "backgroundcolor": "#E5ECF6",
            "gridcolor": "white",
            "gridwidth": 2,
            "linecolor": "white",
            "showbackground": true,
            "ticks": "",
            "zerolinecolor": "white"
           },
           "zaxis": {
            "backgroundcolor": "#E5ECF6",
            "gridcolor": "white",
            "gridwidth": 2,
            "linecolor": "white",
            "showbackground": true,
            "ticks": "",
            "zerolinecolor": "white"
           }
          },
          "shapedefaults": {
           "line": {
            "color": "#2a3f5f"
           }
          },
          "ternary": {
           "aaxis": {
            "gridcolor": "white",
            "linecolor": "white",
            "ticks": ""
           },
           "baxis": {
            "gridcolor": "white",
            "linecolor": "white",
            "ticks": ""
           },
           "bgcolor": "#E5ECF6",
           "caxis": {
            "gridcolor": "white",
            "linecolor": "white",
            "ticks": ""
           }
          },
          "title": {
           "x": 0.05
          },
          "xaxis": {
           "automargin": true,
           "gridcolor": "white",
           "linecolor": "white",
           "ticks": "",
           "title": {
            "standoff": 15
           },
           "zerolinecolor": "white",
           "zerolinewidth": 2
          },
          "yaxis": {
           "automargin": true,
           "gridcolor": "white",
           "linecolor": "white",
           "ticks": "",
           "title": {
            "standoff": 15
           },
           "zerolinecolor": "white",
           "zerolinewidth": 2
          }
         }
        },
        "title": {
         "font": {
          "color": "#4D5663"
         }
        },
        "xaxis": {
         "gridcolor": "#E1E5ED",
         "showgrid": true,
         "tickfont": {
          "color": "#4D5663"
         },
         "title": {
          "font": {
           "color": "#4D5663"
          },
          "text": ""
         },
         "zerolinecolor": "#E1E5ED"
        },
        "yaxis": {
         "gridcolor": "#E1E5ED",
         "showgrid": true,
         "tickfont": {
          "color": "#4D5663"
         },
         "title": {
          "font": {
           "color": "#4D5663"
          },
          "text": ""
         },
         "zerolinecolor": "#E1E5ED"
        }
       }
      },
      "text/html": [
       "<div>                            <div id=\"3e254343-0d3d-4be1-b700-d5b652d75077\" class=\"plotly-graph-div\" style=\"height:525px; width:100%;\"></div>            <script type=\"text/javascript\">                require([\"plotly\"], function(Plotly) {                    window.PLOTLYENV=window.PLOTLYENV || {};\n",
       "                    window.PLOTLYENV.BASE_URL='https://plot.ly';                                    if (document.getElementById(\"3e254343-0d3d-4be1-b700-d5b652d75077\")) {                    Plotly.newPlot(                        \"3e254343-0d3d-4be1-b700-d5b652d75077\",                        [{\"line\": {\"color\": \"rgba(255, 153, 51, 1.0)\", \"dash\": \"solid\", \"shape\": \"linear\", \"width\": 1.3}, \"mode\": \"lines\", \"name\": \"A\", \"text\": \"\", \"type\": \"scatter\", \"x\": [0, 1, 2, 3, 4, 5, 6, 7, 8, 9, 10, 11, 12, 13, 14, 15, 16, 17, 18, 19, 20, 21, 22, 23, 24, 25, 26, 27, 28, 29, 30, 31, 32, 33, 34, 35, 36, 37, 38, 39, 40, 41, 42, 43, 44, 45, 46, 47, 48, 49, 50, 51, 52, 53, 54, 55, 56, 57, 58, 59, 60, 61, 62, 63, 64, 65, 66, 67, 68, 69, 70, 71, 72, 73, 74, 75, 76, 77, 78, 79, 80, 81, 82, 83, 84, 85, 86, 87, 88, 89, 90, 91, 92, 93, 94, 95, 96, 97, 98, 99], \"y\": [-0.1601183780470847, 0.15940940597672718, -0.8691414452109293, 2.1010276114389423, 0.17164077472576567, -0.3615969648072336, -1.4329312503554597, 1.0348622009763033, -0.9530959678937821, -1.949144277250312, -0.653801018600976, -1.0586602896818622, 0.28861617739230505, 1.6481156904717285, 0.5021988384451932, 0.7419461664678879, 0.17745499512664956, -0.38325620812446526, 0.12849351472190346, 0.15024354836000892, -1.9046735986048597, 0.06729564255980032, 1.3114167690497167, 0.6532864418010814, 0.7736641644900281, 0.9710332051307252, -1.2950688683078926, -0.2330559856021781, -0.2506005785170448, 0.8746518298457197, 0.49012434927847653, 1.952542960328725, 1.422053288373496, -0.041017606165554964, -0.5696189873368337, 1.3796194148641876, -0.9684850941850984, -0.6867169752967174, 1.2175982302306936, -0.7950270858687128, -0.20268130839797435, -0.3166116775607073, 0.013265786411123252, 1.3609161101425622, 0.918899536952606, 0.8946799623180145, -0.32355619688753906, -0.26159337861282134, 1.7316425076849074, 0.18598089946101812, 0.5735137879874297, 0.5584074518494194, -0.39038838391341496, 0.9879393225390422, 2.5030105940459157, -0.48432032452495916, -0.41613166505421517, -1.3139722396678235, 0.22869715598900986, -0.5435803703335473, 2.487064416501825, -0.44198082209238426, -0.3539645120194969, 0.27099557207341957, 0.45250919764242253, -0.0576693407543129, -0.7573808849544862, -1.3875401356438606, 0.5770513485881394, 1.2340897966166007, 1.014934806523684, 0.1530954629770791, -1.0723060534055624, 1.085507498157262, 1.3346837122325887, -1.3698512217275174, -0.10433179640403041, -1.201928853898415, -0.30352824810029955, 0.33826194670927395, -0.7785433241744303, -0.14302780228701797, 0.6172268757774699, -1.5310619955784, -0.9632272022705074, 0.8562948380132994, -0.137384953960321, -0.9653087534475998, -0.4426437998567408, 0.5304095588563396, 1.4850884827390285, 0.1906684616642033, 0.246574144712053, -0.2369541408221221, 0.963784194598969, 0.44074100274933714, 0.546935093537091, -1.756855506983355, 1.8244298964505592, -1.4031423867604629]}, {\"line\": {\"color\": \"rgba(55, 128, 191, 1.0)\", \"dash\": \"solid\", \"shape\": \"linear\", \"width\": 1.3}, \"mode\": \"lines\", \"name\": \"B\", \"text\": \"\", \"type\": \"scatter\", \"x\": [0, 1, 2, 3, 4, 5, 6, 7, 8, 9, 10, 11, 12, 13, 14, 15, 16, 17, 18, 19, 20, 21, 22, 23, 24, 25, 26, 27, 28, 29, 30, 31, 32, 33, 34, 35, 36, 37, 38, 39, 40, 41, 42, 43, 44, 45, 46, 47, 48, 49, 50, 51, 52, 53, 54, 55, 56, 57, 58, 59, 60, 61, 62, 63, 64, 65, 66, 67, 68, 69, 70, 71, 72, 73, 74, 75, 76, 77, 78, 79, 80, 81, 82, 83, 84, 85, 86, 87, 88, 89, 90, 91, 92, 93, 94, 95, 96, 97, 98, 99], \"y\": [-0.2644633545863186, 1.5714302027771738, -0.022060694285092157, 0.44695975606255306, 1.6437621966592817, -2.1304958014639213, -0.34165423712052057, 0.7735034696623291, 0.4361167369817292, 0.38315007358375436, -0.13683266188575985, 0.2963414389906744, -2.1731658439592922, 0.20259417441792585, 0.09984009734314357, 0.691047349227367, 1.314807118205364, -0.521105250810098, -0.2822920873303137, -1.815604989842956, -1.0381784939062224, -1.540817803928697, 0.7999428656890234, -1.719359604418866, 1.2745453748761055, 1.504906159003659, -0.03548530175341141, -0.47520221229360315, -0.03341052408579652, 0.41606932003300406, -1.4669960816172585, 0.3399043588728614, -0.1322471972177475, 0.3885005500255243, -0.1296864888337782, 0.3725902163354231, -0.1681840505469514, -0.5380402156473689, -1.7400857956585742, 1.1274655014808161, -0.1642696740906239, 0.3284104283712735, 1.6754071912755992, 0.19180608461248194, 1.370769793189238, 1.7483301226382149, -0.25010508806739873, 0.13449895716815247, 0.4234980413886394, -0.6292563951712109, 2.2953199758200236, -0.17969684632277028, 1.2987890271027225, 0.4030094700678754, 0.08036747531795806, -0.08069390393910325, 1.9924420651500254, -0.2698486232006421, 0.9189127955439805, 1.4636227816733902, 0.938845731900176, 0.3774223763929635, -0.06039266365866485, 0.9786792112048589, 0.18303575909528905, 1.6213974948934198, -0.9011226730985576, 1.5550696967051754, -0.5287319696533463, -2.134382600497725, -2.4884498634990253, 0.9141044261447112, -1.0929243882156412, 0.33144393850878756, -0.11164949938320748, -0.3069432766632717, 1.1173680553813508, 0.26683988452577584, 2.572799719475098, 0.15916196813082964, 0.07842255156767423, -0.3913927786082702, -0.6787973075228827, -0.42382151492180364, -0.3450314270380239, -2.2701907481405805, -0.25405633676066053, -1.1065213219948289, -0.9709405991456087, -0.4193028156423804, -0.7262378201660576, 1.0725696136192406, -0.5523869569628342, 1.6427537695901733, 1.5568589945640556, 2.570984921845135, -0.36030875900544634, 0.26494896940570273, -1.3263649914452567, 0.3256623316086684]}, {\"line\": {\"color\": \"rgba(50, 171, 96, 1.0)\", \"dash\": \"solid\", \"shape\": \"linear\", \"width\": 1.3}, \"mode\": \"lines\", \"name\": \"C\", \"text\": \"\", \"type\": \"scatter\", \"x\": [0, 1, 2, 3, 4, 5, 6, 7, 8, 9, 10, 11, 12, 13, 14, 15, 16, 17, 18, 19, 20, 21, 22, 23, 24, 25, 26, 27, 28, 29, 30, 31, 32, 33, 34, 35, 36, 37, 38, 39, 40, 41, 42, 43, 44, 45, 46, 47, 48, 49, 50, 51, 52, 53, 54, 55, 56, 57, 58, 59, 60, 61, 62, 63, 64, 65, 66, 67, 68, 69, 70, 71, 72, 73, 74, 75, 76, 77, 78, 79, 80, 81, 82, 83, 84, 85, 86, 87, 88, 89, 90, 91, 92, 93, 94, 95, 96, 97, 98, 99], \"y\": [-0.11348786453792516, -0.1311524782899683, 0.506578319243623, -0.04641283626244963, 0.392212467710873, -0.6553786708887571, 0.5571977672878804, 2.1052672448775063, 0.10340710707386995, -0.8974770305577208, 1.9384578639188583, 0.15974699198145836, 0.31680044214315034, 0.3530189009363819, -0.6863570397708625, 0.6748926487769098, -1.53963708500794, -0.6064150850079467, -2.285154574606842, 1.6087609096634756, 1.4703270008301461, -0.9055417363838063, -0.48767724288311354, 1.6677638524446878, 0.4953296083138165, -1.2837673697054308, -0.17466900588527673, 1.7550914473984882, -0.08137639105933259, -0.7303431206142009, -2.2602950720275503, 0.33518836539457775, -0.07526806056324023, -0.036577505440543064, 0.710015868627727, 0.6998353100073591, 0.19950402567226277, -1.092821161366645, 1.038682114597619, -0.943972451379481, -0.33186493395713546, 0.009566765795468796, -1.3043815067990907, -0.47903710828837115, -1.681324460350031, -0.1004688071250641, 0.34107993712471174, -0.02319459821086625, -0.3172287282686062, 0.25571725829735864, -1.1537289156229074, 0.04125732193811072, -0.37183401874919636, 0.4800509318471511, 0.6829947057833371, 0.03647745140630001, 0.08589699451217257, -0.3506312190885835, 0.19439322728550584, -0.28144931640232496, -0.06229460813495941, 0.860135991154396, -0.6336830074983791, 2.1614194464065206, 1.4886188417324488, 1.948739186374998, -1.65932556580322, -1.7890236709376695, -1.024603199127202, -0.2839461673175258, -1.5504822872573811, -0.3173611535046725, 1.2497166679966984, -0.8689612255158649, 0.1308449392924964, -0.11046281885570239, -2.4373915395181656, -1.0245728612602316, -0.5055241101912172, 0.056595626695443206, 0.5176723372772564, 0.15009361114403955, 0.15658771344225464, 0.33471699558951534, 0.8813025543563201, -0.8391595392038008, -2.490208577476746, 0.6042632646657747, -0.331476611827571, 1.5813863192310202, 0.7390671386615796, -0.23184846099447173, 0.5662094173049512, 1.827832646415857, 0.15221010404191296, 0.5398875261115618, 0.30910642989010956, -0.9162187067758907, 1.4429566269436902, 0.8159551231165043]}, {\"line\": {\"color\": \"rgba(128, 0, 128, 1.0)\", \"dash\": \"solid\", \"shape\": \"linear\", \"width\": 1.3}, \"mode\": \"lines\", \"name\": \"D\", \"text\": \"\", \"type\": \"scatter\", \"x\": [0, 1, 2, 3, 4, 5, 6, 7, 8, 9, 10, 11, 12, 13, 14, 15, 16, 17, 18, 19, 20, 21, 22, 23, 24, 25, 26, 27, 28, 29, 30, 31, 32, 33, 34, 35, 36, 37, 38, 39, 40, 41, 42, 43, 44, 45, 46, 47, 48, 49, 50, 51, 52, 53, 54, 55, 56, 57, 58, 59, 60, 61, 62, 63, 64, 65, 66, 67, 68, 69, 70, 71, 72, 73, 74, 75, 76, 77, 78, 79, 80, 81, 82, 83, 84, 85, 86, 87, 88, 89, 90, 91, 92, 93, 94, 95, 96, 97, 98, 99], \"y\": [-0.3141047776814371, -0.8970192710960458, 0.5736914479068228, -0.5206411120771636, 0.16576510518810794, -0.5587118804610727, 0.9878309483052345, 0.5023609075433647, 0.9745608398826814, 0.16655342964635966, 0.9788192259549774, -0.09074367425800649, 1.5829907682035778, -0.764247292231081, 0.17308183983488762, -0.24791312488305745, -0.6938234905748255, 0.30415868202200325, -1.4573797696393782, -0.8029910175529617, -0.7457353564480751, 3.0306751179427884, 0.045915555843682884, 1.196333482147036, 1.2186397325655025, -0.2512862780510248, -0.5218023758906899, 0.0006545154733645155, 0.0882807793245977, 0.08032544568298304, 0.300452263420204, -0.7004037709231044, 1.5959195349326478, -1.1456317403017728, -1.6090083148862744, -0.024979196647730097, -2.7855243796398645, 0.19365146667022942, 0.9458482394605472, -0.6450285898838843, -0.6619920977863117, -0.286079247403523, 0.6729421552051487, -0.7424158022191921, 0.15674906928135854, 1.525833682709512, 0.8354744054671075, -0.10945542092806206, -0.7903659987502104, 2.252293455006751, 1.0305338642195672, -2.143230338789938, 0.3854367833308197, 0.5065383599856818, 0.012066202860070952, -1.4437774899649107, -0.6746762056654647, -0.19410968709492404, -1.147512403615673, 0.33062408255489073, -0.28855419839694224, -1.3760381340868197, 0.89767228673124, 0.199628224052539, -0.8269461131144589, -2.0310134868416885, -1.311605317804653, 1.0244985960728157, 0.34724634350785616, 0.8354198106887961, 0.8379992652748512, 0.2130903288179697, 0.41486346653232337, -0.021864543671643935, -1.1005092230234894, -0.8906576571862331, -0.676797498832179, -0.35325718962322256, -0.08108079990629014, 1.1853695718411121, 0.30057746921104944, -0.40043517461693023, -1.5278058799076497, -0.8711964279517036, -1.5409210468656107, 0.22816741726104836, -0.03255898174171499, 0.026687251866059098, 0.4294202743518761, 0.3950280004384783, 1.0450196729200016, -0.875516508014222, -0.4722584961793411, -0.5692715168213826, 0.9682407212914111, 0.08000451194139384, 0.2782152013702495, 0.24866085181437123, -1.005337704907483, 1.490533209873795]}],                        {\"legend\": {\"bgcolor\": \"#F5F6F9\", \"font\": {\"color\": \"#4D5663\"}}, \"paper_bgcolor\": \"#F5F6F9\", \"plot_bgcolor\": \"#F5F6F9\", \"template\": {\"data\": {\"bar\": [{\"error_x\": {\"color\": \"#2a3f5f\"}, \"error_y\": {\"color\": \"#2a3f5f\"}, \"marker\": {\"line\": {\"color\": \"#E5ECF6\", \"width\": 0.5}}, \"type\": \"bar\"}], \"barpolar\": [{\"marker\": {\"line\": {\"color\": \"#E5ECF6\", \"width\": 0.5}}, \"type\": \"barpolar\"}], \"carpet\": [{\"aaxis\": {\"endlinecolor\": \"#2a3f5f\", \"gridcolor\": \"white\", \"linecolor\": \"white\", \"minorgridcolor\": \"white\", \"startlinecolor\": \"#2a3f5f\"}, \"baxis\": {\"endlinecolor\": \"#2a3f5f\", \"gridcolor\": \"white\", \"linecolor\": \"white\", \"minorgridcolor\": \"white\", \"startlinecolor\": \"#2a3f5f\"}, \"type\": \"carpet\"}], \"choropleth\": [{\"colorbar\": {\"outlinewidth\": 0, \"ticks\": \"\"}, \"type\": \"choropleth\"}], \"contour\": [{\"colorbar\": {\"outlinewidth\": 0, \"ticks\": \"\"}, \"colorscale\": [[0.0, \"#0d0887\"], [0.1111111111111111, \"#46039f\"], [0.2222222222222222, \"#7201a8\"], [0.3333333333333333, \"#9c179e\"], [0.4444444444444444, \"#bd3786\"], [0.5555555555555556, \"#d8576b\"], [0.6666666666666666, \"#ed7953\"], [0.7777777777777778, \"#fb9f3a\"], [0.8888888888888888, \"#fdca26\"], [1.0, \"#f0f921\"]], \"type\": \"contour\"}], \"contourcarpet\": [{\"colorbar\": {\"outlinewidth\": 0, \"ticks\": \"\"}, \"type\": \"contourcarpet\"}], \"heatmap\": [{\"colorbar\": {\"outlinewidth\": 0, \"ticks\": \"\"}, \"colorscale\": [[0.0, \"#0d0887\"], [0.1111111111111111, \"#46039f\"], [0.2222222222222222, \"#7201a8\"], [0.3333333333333333, \"#9c179e\"], [0.4444444444444444, \"#bd3786\"], [0.5555555555555556, \"#d8576b\"], [0.6666666666666666, \"#ed7953\"], [0.7777777777777778, \"#fb9f3a\"], [0.8888888888888888, \"#fdca26\"], [1.0, \"#f0f921\"]], \"type\": \"heatmap\"}], \"heatmapgl\": [{\"colorbar\": {\"outlinewidth\": 0, \"ticks\": \"\"}, \"colorscale\": [[0.0, \"#0d0887\"], [0.1111111111111111, \"#46039f\"], [0.2222222222222222, \"#7201a8\"], [0.3333333333333333, \"#9c179e\"], [0.4444444444444444, \"#bd3786\"], [0.5555555555555556, \"#d8576b\"], [0.6666666666666666, \"#ed7953\"], [0.7777777777777778, \"#fb9f3a\"], [0.8888888888888888, \"#fdca26\"], [1.0, \"#f0f921\"]], \"type\": \"heatmapgl\"}], \"histogram\": [{\"marker\": {\"colorbar\": {\"outlinewidth\": 0, \"ticks\": \"\"}}, \"type\": \"histogram\"}], \"histogram2d\": [{\"colorbar\": {\"outlinewidth\": 0, \"ticks\": \"\"}, \"colorscale\": [[0.0, \"#0d0887\"], [0.1111111111111111, \"#46039f\"], [0.2222222222222222, \"#7201a8\"], [0.3333333333333333, \"#9c179e\"], [0.4444444444444444, \"#bd3786\"], [0.5555555555555556, \"#d8576b\"], [0.6666666666666666, \"#ed7953\"], [0.7777777777777778, \"#fb9f3a\"], [0.8888888888888888, \"#fdca26\"], [1.0, \"#f0f921\"]], \"type\": \"histogram2d\"}], \"histogram2dcontour\": [{\"colorbar\": {\"outlinewidth\": 0, \"ticks\": \"\"}, \"colorscale\": [[0.0, \"#0d0887\"], [0.1111111111111111, \"#46039f\"], [0.2222222222222222, \"#7201a8\"], [0.3333333333333333, \"#9c179e\"], [0.4444444444444444, \"#bd3786\"], [0.5555555555555556, \"#d8576b\"], [0.6666666666666666, \"#ed7953\"], [0.7777777777777778, \"#fb9f3a\"], [0.8888888888888888, \"#fdca26\"], [1.0, \"#f0f921\"]], \"type\": \"histogram2dcontour\"}], \"mesh3d\": [{\"colorbar\": {\"outlinewidth\": 0, \"ticks\": \"\"}, \"type\": \"mesh3d\"}], \"parcoords\": [{\"line\": {\"colorbar\": {\"outlinewidth\": 0, \"ticks\": \"\"}}, \"type\": \"parcoords\"}], \"pie\": [{\"automargin\": true, \"type\": \"pie\"}], \"scatter\": [{\"marker\": {\"colorbar\": {\"outlinewidth\": 0, \"ticks\": \"\"}}, \"type\": \"scatter\"}], \"scatter3d\": [{\"line\": {\"colorbar\": {\"outlinewidth\": 0, \"ticks\": \"\"}}, \"marker\": {\"colorbar\": {\"outlinewidth\": 0, \"ticks\": \"\"}}, \"type\": \"scatter3d\"}], \"scattercarpet\": [{\"marker\": {\"colorbar\": {\"outlinewidth\": 0, \"ticks\": \"\"}}, \"type\": \"scattercarpet\"}], \"scattergeo\": [{\"marker\": {\"colorbar\": {\"outlinewidth\": 0, \"ticks\": \"\"}}, \"type\": \"scattergeo\"}], \"scattergl\": [{\"marker\": {\"colorbar\": {\"outlinewidth\": 0, \"ticks\": \"\"}}, \"type\": \"scattergl\"}], \"scattermapbox\": [{\"marker\": {\"colorbar\": {\"outlinewidth\": 0, \"ticks\": \"\"}}, \"type\": \"scattermapbox\"}], \"scatterpolar\": [{\"marker\": {\"colorbar\": {\"outlinewidth\": 0, \"ticks\": \"\"}}, \"type\": \"scatterpolar\"}], \"scatterpolargl\": [{\"marker\": {\"colorbar\": {\"outlinewidth\": 0, \"ticks\": \"\"}}, \"type\": \"scatterpolargl\"}], \"scatterternary\": [{\"marker\": {\"colorbar\": {\"outlinewidth\": 0, \"ticks\": \"\"}}, \"type\": \"scatterternary\"}], \"surface\": [{\"colorbar\": {\"outlinewidth\": 0, \"ticks\": \"\"}, \"colorscale\": [[0.0, \"#0d0887\"], [0.1111111111111111, \"#46039f\"], [0.2222222222222222, \"#7201a8\"], [0.3333333333333333, \"#9c179e\"], [0.4444444444444444, \"#bd3786\"], [0.5555555555555556, \"#d8576b\"], [0.6666666666666666, \"#ed7953\"], [0.7777777777777778, \"#fb9f3a\"], [0.8888888888888888, \"#fdca26\"], [1.0, \"#f0f921\"]], \"type\": \"surface\"}], \"table\": [{\"cells\": {\"fill\": {\"color\": \"#EBF0F8\"}, \"line\": {\"color\": \"white\"}}, \"header\": {\"fill\": {\"color\": \"#C8D4E3\"}, \"line\": {\"color\": \"white\"}}, \"type\": \"table\"}]}, \"layout\": {\"annotationdefaults\": {\"arrowcolor\": \"#2a3f5f\", \"arrowhead\": 0, \"arrowwidth\": 1}, \"autotypenumbers\": \"strict\", \"coloraxis\": {\"colorbar\": {\"outlinewidth\": 0, \"ticks\": \"\"}}, \"colorscale\": {\"diverging\": [[0, \"#8e0152\"], [0.1, \"#c51b7d\"], [0.2, \"#de77ae\"], [0.3, \"#f1b6da\"], [0.4, \"#fde0ef\"], [0.5, \"#f7f7f7\"], [0.6, \"#e6f5d0\"], [0.7, \"#b8e186\"], [0.8, \"#7fbc41\"], [0.9, \"#4d9221\"], [1, \"#276419\"]], \"sequential\": [[0.0, \"#0d0887\"], [0.1111111111111111, \"#46039f\"], [0.2222222222222222, \"#7201a8\"], [0.3333333333333333, \"#9c179e\"], [0.4444444444444444, \"#bd3786\"], [0.5555555555555556, \"#d8576b\"], [0.6666666666666666, \"#ed7953\"], [0.7777777777777778, \"#fb9f3a\"], [0.8888888888888888, \"#fdca26\"], [1.0, \"#f0f921\"]], \"sequentialminus\": [[0.0, \"#0d0887\"], [0.1111111111111111, \"#46039f\"], [0.2222222222222222, \"#7201a8\"], [0.3333333333333333, \"#9c179e\"], [0.4444444444444444, \"#bd3786\"], [0.5555555555555556, \"#d8576b\"], [0.6666666666666666, \"#ed7953\"], [0.7777777777777778, \"#fb9f3a\"], [0.8888888888888888, \"#fdca26\"], [1.0, \"#f0f921\"]]}, \"colorway\": [\"#636efa\", \"#EF553B\", \"#00cc96\", \"#ab63fa\", \"#FFA15A\", \"#19d3f3\", \"#FF6692\", \"#B6E880\", \"#FF97FF\", \"#FECB52\"], \"font\": {\"color\": \"#2a3f5f\"}, \"geo\": {\"bgcolor\": \"white\", \"lakecolor\": \"white\", \"landcolor\": \"#E5ECF6\", \"showlakes\": true, \"showland\": true, \"subunitcolor\": \"white\"}, \"hoverlabel\": {\"align\": \"left\"}, \"hovermode\": \"closest\", \"mapbox\": {\"style\": \"light\"}, \"paper_bgcolor\": \"white\", \"plot_bgcolor\": \"#E5ECF6\", \"polar\": {\"angularaxis\": {\"gridcolor\": \"white\", \"linecolor\": \"white\", \"ticks\": \"\"}, \"bgcolor\": \"#E5ECF6\", \"radialaxis\": {\"gridcolor\": \"white\", \"linecolor\": \"white\", \"ticks\": \"\"}}, \"scene\": {\"xaxis\": {\"backgroundcolor\": \"#E5ECF6\", \"gridcolor\": \"white\", \"gridwidth\": 2, \"linecolor\": \"white\", \"showbackground\": true, \"ticks\": \"\", \"zerolinecolor\": \"white\"}, \"yaxis\": {\"backgroundcolor\": \"#E5ECF6\", \"gridcolor\": \"white\", \"gridwidth\": 2, \"linecolor\": \"white\", \"showbackground\": true, \"ticks\": \"\", \"zerolinecolor\": \"white\"}, \"zaxis\": {\"backgroundcolor\": \"#E5ECF6\", \"gridcolor\": \"white\", \"gridwidth\": 2, \"linecolor\": \"white\", \"showbackground\": true, \"ticks\": \"\", \"zerolinecolor\": \"white\"}}, \"shapedefaults\": {\"line\": {\"color\": \"#2a3f5f\"}}, \"ternary\": {\"aaxis\": {\"gridcolor\": \"white\", \"linecolor\": \"white\", \"ticks\": \"\"}, \"baxis\": {\"gridcolor\": \"white\", \"linecolor\": \"white\", \"ticks\": \"\"}, \"bgcolor\": \"#E5ECF6\", \"caxis\": {\"gridcolor\": \"white\", \"linecolor\": \"white\", \"ticks\": \"\"}}, \"title\": {\"x\": 0.05}, \"xaxis\": {\"automargin\": true, \"gridcolor\": \"white\", \"linecolor\": \"white\", \"ticks\": \"\", \"title\": {\"standoff\": 15}, \"zerolinecolor\": \"white\", \"zerolinewidth\": 2}, \"yaxis\": {\"automargin\": true, \"gridcolor\": \"white\", \"linecolor\": \"white\", \"ticks\": \"\", \"title\": {\"standoff\": 15}, \"zerolinecolor\": \"white\", \"zerolinewidth\": 2}}}, \"title\": {\"font\": {\"color\": \"#4D5663\"}}, \"xaxis\": {\"gridcolor\": \"#E1E5ED\", \"showgrid\": true, \"tickfont\": {\"color\": \"#4D5663\"}, \"title\": {\"font\": {\"color\": \"#4D5663\"}, \"text\": \"\"}, \"zerolinecolor\": \"#E1E5ED\"}, \"yaxis\": {\"gridcolor\": \"#E1E5ED\", \"showgrid\": true, \"tickfont\": {\"color\": \"#4D5663\"}, \"title\": {\"font\": {\"color\": \"#4D5663\"}, \"text\": \"\"}, \"zerolinecolor\": \"#E1E5ED\"}},                        {\"showLink\": true, \"linkText\": \"Export to plot.ly\", \"plotlyServerURL\": \"https://plot.ly\", \"responsive\": true}                    ).then(function(){\n",
       "                            \n",
       "var gd = document.getElementById('3e254343-0d3d-4be1-b700-d5b652d75077');\n",
       "var x = new MutationObserver(function (mutations, observer) {{\n",
       "        var display = window.getComputedStyle(gd).display;\n",
       "        if (!display || display === 'none') {{\n",
       "            console.log([gd, 'removed!']);\n",
       "            Plotly.purge(gd);\n",
       "            observer.disconnect();\n",
       "        }}\n",
       "}});\n",
       "\n",
       "// Listen for the removal of the full notebook cells\n",
       "var notebookContainer = gd.closest('#notebook-container');\n",
       "if (notebookContainer) {{\n",
       "    x.observe(notebookContainer, {childList: true});\n",
       "}}\n",
       "\n",
       "// Listen for the clearing of the current output cell\n",
       "var outputEl = gd.closest('.output');\n",
       "if (outputEl) {{\n",
       "    x.observe(outputEl, {childList: true});\n",
       "}}\n",
       "\n",
       "                        })                };                });            </script>        </div>"
      ]
     },
     "metadata": {},
     "output_type": "display_data"
    }
   ],
   "source": [
    "df.iplot()"
   ]
  },
  {
   "cell_type": "code",
   "execution_count": 17,
   "metadata": {},
   "outputs": [
    {
     "data": {
      "application/vnd.plotly.v1+json": {
       "config": {
        "linkText": "Export to plot.ly",
        "plotlyServerURL": "https://plot.ly",
        "showLink": true
       },
       "data": [
        {
         "line": {
          "color": "rgba(255, 153, 51, 1.0)",
          "dash": "solid",
          "shape": "linear",
          "width": 1.3
         },
         "mode": "lines",
         "name": "B",
         "text": "",
         "type": "scatter",
         "x": [
          -0.1601183780470847,
          0.15940940597672718,
          -0.8691414452109293,
          2.1010276114389423,
          0.17164077472576567,
          -0.3615969648072336,
          -1.4329312503554597,
          1.0348622009763033,
          -0.9530959678937821,
          -1.949144277250312,
          -0.653801018600976,
          -1.0586602896818622,
          0.28861617739230505,
          1.6481156904717285,
          0.5021988384451932,
          0.7419461664678879,
          0.17745499512664956,
          -0.38325620812446526,
          0.12849351472190346,
          0.15024354836000892,
          -1.9046735986048597,
          0.06729564255980032,
          1.3114167690497167,
          0.6532864418010814,
          0.7736641644900281,
          0.9710332051307252,
          -1.2950688683078926,
          -0.2330559856021781,
          -0.2506005785170448,
          0.8746518298457197,
          0.49012434927847653,
          1.952542960328725,
          1.422053288373496,
          -0.041017606165554964,
          -0.5696189873368337,
          1.3796194148641876,
          -0.9684850941850984,
          -0.6867169752967174,
          1.2175982302306936,
          -0.7950270858687128,
          -0.20268130839797435,
          -0.3166116775607073,
          0.013265786411123252,
          1.3609161101425622,
          0.918899536952606,
          0.8946799623180145,
          -0.32355619688753906,
          -0.26159337861282134,
          1.7316425076849074,
          0.18598089946101812,
          0.5735137879874297,
          0.5584074518494194,
          -0.39038838391341496,
          0.9879393225390422,
          2.5030105940459157,
          -0.48432032452495916,
          -0.41613166505421517,
          -1.3139722396678235,
          0.22869715598900986,
          -0.5435803703335473,
          2.487064416501825,
          -0.44198082209238426,
          -0.3539645120194969,
          0.27099557207341957,
          0.45250919764242253,
          -0.0576693407543129,
          -0.7573808849544862,
          -1.3875401356438606,
          0.5770513485881394,
          1.2340897966166007,
          1.014934806523684,
          0.1530954629770791,
          -1.0723060534055624,
          1.085507498157262,
          1.3346837122325887,
          -1.3698512217275174,
          -0.10433179640403041,
          -1.201928853898415,
          -0.30352824810029955,
          0.33826194670927395,
          -0.7785433241744303,
          -0.14302780228701797,
          0.6172268757774699,
          -1.5310619955784,
          -0.9632272022705074,
          0.8562948380132994,
          -0.137384953960321,
          -0.9653087534475998,
          -0.4426437998567408,
          0.5304095588563396,
          1.4850884827390285,
          0.1906684616642033,
          0.246574144712053,
          -0.2369541408221221,
          0.963784194598969,
          0.44074100274933714,
          0.546935093537091,
          -1.756855506983355,
          1.8244298964505592,
          -1.4031423867604629
         ],
         "y": [
          -0.2644633545863186,
          1.5714302027771738,
          -0.022060694285092157,
          0.44695975606255306,
          1.6437621966592817,
          -2.1304958014639213,
          -0.34165423712052057,
          0.7735034696623291,
          0.4361167369817292,
          0.38315007358375436,
          -0.13683266188575985,
          0.2963414389906744,
          -2.1731658439592922,
          0.20259417441792585,
          0.09984009734314357,
          0.691047349227367,
          1.314807118205364,
          -0.521105250810098,
          -0.2822920873303137,
          -1.815604989842956,
          -1.0381784939062224,
          -1.540817803928697,
          0.7999428656890234,
          -1.719359604418866,
          1.2745453748761055,
          1.504906159003659,
          -0.03548530175341141,
          -0.47520221229360315,
          -0.03341052408579652,
          0.41606932003300406,
          -1.4669960816172585,
          0.3399043588728614,
          -0.1322471972177475,
          0.3885005500255243,
          -0.1296864888337782,
          0.3725902163354231,
          -0.1681840505469514,
          -0.5380402156473689,
          -1.7400857956585742,
          1.1274655014808161,
          -0.1642696740906239,
          0.3284104283712735,
          1.6754071912755992,
          0.19180608461248194,
          1.370769793189238,
          1.7483301226382149,
          -0.25010508806739873,
          0.13449895716815247,
          0.4234980413886394,
          -0.6292563951712109,
          2.2953199758200236,
          -0.17969684632277028,
          1.2987890271027225,
          0.4030094700678754,
          0.08036747531795806,
          -0.08069390393910325,
          1.9924420651500254,
          -0.2698486232006421,
          0.9189127955439805,
          1.4636227816733902,
          0.938845731900176,
          0.3774223763929635,
          -0.06039266365866485,
          0.9786792112048589,
          0.18303575909528905,
          1.6213974948934198,
          -0.9011226730985576,
          1.5550696967051754,
          -0.5287319696533463,
          -2.134382600497725,
          -2.4884498634990253,
          0.9141044261447112,
          -1.0929243882156412,
          0.33144393850878756,
          -0.11164949938320748,
          -0.3069432766632717,
          1.1173680553813508,
          0.26683988452577584,
          2.572799719475098,
          0.15916196813082964,
          0.07842255156767423,
          -0.3913927786082702,
          -0.6787973075228827,
          -0.42382151492180364,
          -0.3450314270380239,
          -2.2701907481405805,
          -0.25405633676066053,
          -1.1065213219948289,
          -0.9709405991456087,
          -0.4193028156423804,
          -0.7262378201660576,
          1.0725696136192406,
          -0.5523869569628342,
          1.6427537695901733,
          1.5568589945640556,
          2.570984921845135,
          -0.36030875900544634,
          0.26494896940570273,
          -1.3263649914452567,
          0.3256623316086684
         ]
        }
       ],
       "layout": {
        "legend": {
         "bgcolor": "#F5F6F9",
         "font": {
          "color": "#4D5663"
         }
        },
        "paper_bgcolor": "#F5F6F9",
        "plot_bgcolor": "#F5F6F9",
        "template": {
         "data": {
          "bar": [
           {
            "error_x": {
             "color": "#2a3f5f"
            },
            "error_y": {
             "color": "#2a3f5f"
            },
            "marker": {
             "line": {
              "color": "#E5ECF6",
              "width": 0.5
             }
            },
            "type": "bar"
           }
          ],
          "barpolar": [
           {
            "marker": {
             "line": {
              "color": "#E5ECF6",
              "width": 0.5
             }
            },
            "type": "barpolar"
           }
          ],
          "carpet": [
           {
            "aaxis": {
             "endlinecolor": "#2a3f5f",
             "gridcolor": "white",
             "linecolor": "white",
             "minorgridcolor": "white",
             "startlinecolor": "#2a3f5f"
            },
            "baxis": {
             "endlinecolor": "#2a3f5f",
             "gridcolor": "white",
             "linecolor": "white",
             "minorgridcolor": "white",
             "startlinecolor": "#2a3f5f"
            },
            "type": "carpet"
           }
          ],
          "choropleth": [
           {
            "colorbar": {
             "outlinewidth": 0,
             "ticks": ""
            },
            "type": "choropleth"
           }
          ],
          "contour": [
           {
            "colorbar": {
             "outlinewidth": 0,
             "ticks": ""
            },
            "colorscale": [
             [
              0,
              "#0d0887"
             ],
             [
              0.1111111111111111,
              "#46039f"
             ],
             [
              0.2222222222222222,
              "#7201a8"
             ],
             [
              0.3333333333333333,
              "#9c179e"
             ],
             [
              0.4444444444444444,
              "#bd3786"
             ],
             [
              0.5555555555555556,
              "#d8576b"
             ],
             [
              0.6666666666666666,
              "#ed7953"
             ],
             [
              0.7777777777777778,
              "#fb9f3a"
             ],
             [
              0.8888888888888888,
              "#fdca26"
             ],
             [
              1,
              "#f0f921"
             ]
            ],
            "type": "contour"
           }
          ],
          "contourcarpet": [
           {
            "colorbar": {
             "outlinewidth": 0,
             "ticks": ""
            },
            "type": "contourcarpet"
           }
          ],
          "heatmap": [
           {
            "colorbar": {
             "outlinewidth": 0,
             "ticks": ""
            },
            "colorscale": [
             [
              0,
              "#0d0887"
             ],
             [
              0.1111111111111111,
              "#46039f"
             ],
             [
              0.2222222222222222,
              "#7201a8"
             ],
             [
              0.3333333333333333,
              "#9c179e"
             ],
             [
              0.4444444444444444,
              "#bd3786"
             ],
             [
              0.5555555555555556,
              "#d8576b"
             ],
             [
              0.6666666666666666,
              "#ed7953"
             ],
             [
              0.7777777777777778,
              "#fb9f3a"
             ],
             [
              0.8888888888888888,
              "#fdca26"
             ],
             [
              1,
              "#f0f921"
             ]
            ],
            "type": "heatmap"
           }
          ],
          "heatmapgl": [
           {
            "colorbar": {
             "outlinewidth": 0,
             "ticks": ""
            },
            "colorscale": [
             [
              0,
              "#0d0887"
             ],
             [
              0.1111111111111111,
              "#46039f"
             ],
             [
              0.2222222222222222,
              "#7201a8"
             ],
             [
              0.3333333333333333,
              "#9c179e"
             ],
             [
              0.4444444444444444,
              "#bd3786"
             ],
             [
              0.5555555555555556,
              "#d8576b"
             ],
             [
              0.6666666666666666,
              "#ed7953"
             ],
             [
              0.7777777777777778,
              "#fb9f3a"
             ],
             [
              0.8888888888888888,
              "#fdca26"
             ],
             [
              1,
              "#f0f921"
             ]
            ],
            "type": "heatmapgl"
           }
          ],
          "histogram": [
           {
            "marker": {
             "colorbar": {
              "outlinewidth": 0,
              "ticks": ""
             }
            },
            "type": "histogram"
           }
          ],
          "histogram2d": [
           {
            "colorbar": {
             "outlinewidth": 0,
             "ticks": ""
            },
            "colorscale": [
             [
              0,
              "#0d0887"
             ],
             [
              0.1111111111111111,
              "#46039f"
             ],
             [
              0.2222222222222222,
              "#7201a8"
             ],
             [
              0.3333333333333333,
              "#9c179e"
             ],
             [
              0.4444444444444444,
              "#bd3786"
             ],
             [
              0.5555555555555556,
              "#d8576b"
             ],
             [
              0.6666666666666666,
              "#ed7953"
             ],
             [
              0.7777777777777778,
              "#fb9f3a"
             ],
             [
              0.8888888888888888,
              "#fdca26"
             ],
             [
              1,
              "#f0f921"
             ]
            ],
            "type": "histogram2d"
           }
          ],
          "histogram2dcontour": [
           {
            "colorbar": {
             "outlinewidth": 0,
             "ticks": ""
            },
            "colorscale": [
             [
              0,
              "#0d0887"
             ],
             [
              0.1111111111111111,
              "#46039f"
             ],
             [
              0.2222222222222222,
              "#7201a8"
             ],
             [
              0.3333333333333333,
              "#9c179e"
             ],
             [
              0.4444444444444444,
              "#bd3786"
             ],
             [
              0.5555555555555556,
              "#d8576b"
             ],
             [
              0.6666666666666666,
              "#ed7953"
             ],
             [
              0.7777777777777778,
              "#fb9f3a"
             ],
             [
              0.8888888888888888,
              "#fdca26"
             ],
             [
              1,
              "#f0f921"
             ]
            ],
            "type": "histogram2dcontour"
           }
          ],
          "mesh3d": [
           {
            "colorbar": {
             "outlinewidth": 0,
             "ticks": ""
            },
            "type": "mesh3d"
           }
          ],
          "parcoords": [
           {
            "line": {
             "colorbar": {
              "outlinewidth": 0,
              "ticks": ""
             }
            },
            "type": "parcoords"
           }
          ],
          "pie": [
           {
            "automargin": true,
            "type": "pie"
           }
          ],
          "scatter": [
           {
            "marker": {
             "colorbar": {
              "outlinewidth": 0,
              "ticks": ""
             }
            },
            "type": "scatter"
           }
          ],
          "scatter3d": [
           {
            "line": {
             "colorbar": {
              "outlinewidth": 0,
              "ticks": ""
             }
            },
            "marker": {
             "colorbar": {
              "outlinewidth": 0,
              "ticks": ""
             }
            },
            "type": "scatter3d"
           }
          ],
          "scattercarpet": [
           {
            "marker": {
             "colorbar": {
              "outlinewidth": 0,
              "ticks": ""
             }
            },
            "type": "scattercarpet"
           }
          ],
          "scattergeo": [
           {
            "marker": {
             "colorbar": {
              "outlinewidth": 0,
              "ticks": ""
             }
            },
            "type": "scattergeo"
           }
          ],
          "scattergl": [
           {
            "marker": {
             "colorbar": {
              "outlinewidth": 0,
              "ticks": ""
             }
            },
            "type": "scattergl"
           }
          ],
          "scattermapbox": [
           {
            "marker": {
             "colorbar": {
              "outlinewidth": 0,
              "ticks": ""
             }
            },
            "type": "scattermapbox"
           }
          ],
          "scatterpolar": [
           {
            "marker": {
             "colorbar": {
              "outlinewidth": 0,
              "ticks": ""
             }
            },
            "type": "scatterpolar"
           }
          ],
          "scatterpolargl": [
           {
            "marker": {
             "colorbar": {
              "outlinewidth": 0,
              "ticks": ""
             }
            },
            "type": "scatterpolargl"
           }
          ],
          "scatterternary": [
           {
            "marker": {
             "colorbar": {
              "outlinewidth": 0,
              "ticks": ""
             }
            },
            "type": "scatterternary"
           }
          ],
          "surface": [
           {
            "colorbar": {
             "outlinewidth": 0,
             "ticks": ""
            },
            "colorscale": [
             [
              0,
              "#0d0887"
             ],
             [
              0.1111111111111111,
              "#46039f"
             ],
             [
              0.2222222222222222,
              "#7201a8"
             ],
             [
              0.3333333333333333,
              "#9c179e"
             ],
             [
              0.4444444444444444,
              "#bd3786"
             ],
             [
              0.5555555555555556,
              "#d8576b"
             ],
             [
              0.6666666666666666,
              "#ed7953"
             ],
             [
              0.7777777777777778,
              "#fb9f3a"
             ],
             [
              0.8888888888888888,
              "#fdca26"
             ],
             [
              1,
              "#f0f921"
             ]
            ],
            "type": "surface"
           }
          ],
          "table": [
           {
            "cells": {
             "fill": {
              "color": "#EBF0F8"
             },
             "line": {
              "color": "white"
             }
            },
            "header": {
             "fill": {
              "color": "#C8D4E3"
             },
             "line": {
              "color": "white"
             }
            },
            "type": "table"
           }
          ]
         },
         "layout": {
          "annotationdefaults": {
           "arrowcolor": "#2a3f5f",
           "arrowhead": 0,
           "arrowwidth": 1
          },
          "autotypenumbers": "strict",
          "coloraxis": {
           "colorbar": {
            "outlinewidth": 0,
            "ticks": ""
           }
          },
          "colorscale": {
           "diverging": [
            [
             0,
             "#8e0152"
            ],
            [
             0.1,
             "#c51b7d"
            ],
            [
             0.2,
             "#de77ae"
            ],
            [
             0.3,
             "#f1b6da"
            ],
            [
             0.4,
             "#fde0ef"
            ],
            [
             0.5,
             "#f7f7f7"
            ],
            [
             0.6,
             "#e6f5d0"
            ],
            [
             0.7,
             "#b8e186"
            ],
            [
             0.8,
             "#7fbc41"
            ],
            [
             0.9,
             "#4d9221"
            ],
            [
             1,
             "#276419"
            ]
           ],
           "sequential": [
            [
             0,
             "#0d0887"
            ],
            [
             0.1111111111111111,
             "#46039f"
            ],
            [
             0.2222222222222222,
             "#7201a8"
            ],
            [
             0.3333333333333333,
             "#9c179e"
            ],
            [
             0.4444444444444444,
             "#bd3786"
            ],
            [
             0.5555555555555556,
             "#d8576b"
            ],
            [
             0.6666666666666666,
             "#ed7953"
            ],
            [
             0.7777777777777778,
             "#fb9f3a"
            ],
            [
             0.8888888888888888,
             "#fdca26"
            ],
            [
             1,
             "#f0f921"
            ]
           ],
           "sequentialminus": [
            [
             0,
             "#0d0887"
            ],
            [
             0.1111111111111111,
             "#46039f"
            ],
            [
             0.2222222222222222,
             "#7201a8"
            ],
            [
             0.3333333333333333,
             "#9c179e"
            ],
            [
             0.4444444444444444,
             "#bd3786"
            ],
            [
             0.5555555555555556,
             "#d8576b"
            ],
            [
             0.6666666666666666,
             "#ed7953"
            ],
            [
             0.7777777777777778,
             "#fb9f3a"
            ],
            [
             0.8888888888888888,
             "#fdca26"
            ],
            [
             1,
             "#f0f921"
            ]
           ]
          },
          "colorway": [
           "#636efa",
           "#EF553B",
           "#00cc96",
           "#ab63fa",
           "#FFA15A",
           "#19d3f3",
           "#FF6692",
           "#B6E880",
           "#FF97FF",
           "#FECB52"
          ],
          "font": {
           "color": "#2a3f5f"
          },
          "geo": {
           "bgcolor": "white",
           "lakecolor": "white",
           "landcolor": "#E5ECF6",
           "showlakes": true,
           "showland": true,
           "subunitcolor": "white"
          },
          "hoverlabel": {
           "align": "left"
          },
          "hovermode": "closest",
          "mapbox": {
           "style": "light"
          },
          "paper_bgcolor": "white",
          "plot_bgcolor": "#E5ECF6",
          "polar": {
           "angularaxis": {
            "gridcolor": "white",
            "linecolor": "white",
            "ticks": ""
           },
           "bgcolor": "#E5ECF6",
           "radialaxis": {
            "gridcolor": "white",
            "linecolor": "white",
            "ticks": ""
           }
          },
          "scene": {
           "xaxis": {
            "backgroundcolor": "#E5ECF6",
            "gridcolor": "white",
            "gridwidth": 2,
            "linecolor": "white",
            "showbackground": true,
            "ticks": "",
            "zerolinecolor": "white"
           },
           "yaxis": {
            "backgroundcolor": "#E5ECF6",
            "gridcolor": "white",
            "gridwidth": 2,
            "linecolor": "white",
            "showbackground": true,
            "ticks": "",
            "zerolinecolor": "white"
           },
           "zaxis": {
            "backgroundcolor": "#E5ECF6",
            "gridcolor": "white",
            "gridwidth": 2,
            "linecolor": "white",
            "showbackground": true,
            "ticks": "",
            "zerolinecolor": "white"
           }
          },
          "shapedefaults": {
           "line": {
            "color": "#2a3f5f"
           }
          },
          "ternary": {
           "aaxis": {
            "gridcolor": "white",
            "linecolor": "white",
            "ticks": ""
           },
           "baxis": {
            "gridcolor": "white",
            "linecolor": "white",
            "ticks": ""
           },
           "bgcolor": "#E5ECF6",
           "caxis": {
            "gridcolor": "white",
            "linecolor": "white",
            "ticks": ""
           }
          },
          "title": {
           "x": 0.05
          },
          "xaxis": {
           "automargin": true,
           "gridcolor": "white",
           "linecolor": "white",
           "ticks": "",
           "title": {
            "standoff": 15
           },
           "zerolinecolor": "white",
           "zerolinewidth": 2
          },
          "yaxis": {
           "automargin": true,
           "gridcolor": "white",
           "linecolor": "white",
           "ticks": "",
           "title": {
            "standoff": 15
           },
           "zerolinecolor": "white",
           "zerolinewidth": 2
          }
         }
        },
        "title": {
         "font": {
          "color": "#4D5663"
         }
        },
        "xaxis": {
         "gridcolor": "#E1E5ED",
         "showgrid": true,
         "tickfont": {
          "color": "#4D5663"
         },
         "title": {
          "font": {
           "color": "#4D5663"
          },
          "text": ""
         },
         "zerolinecolor": "#E1E5ED"
        },
        "yaxis": {
         "gridcolor": "#E1E5ED",
         "showgrid": true,
         "tickfont": {
          "color": "#4D5663"
         },
         "title": {
          "font": {
           "color": "#4D5663"
          },
          "text": ""
         },
         "zerolinecolor": "#E1E5ED"
        }
       }
      },
      "text/html": [
       "<div>                            <div id=\"3b7822e5-48c5-4c10-887e-7cb8f17f5dc4\" class=\"plotly-graph-div\" style=\"height:525px; width:100%;\"></div>            <script type=\"text/javascript\">                require([\"plotly\"], function(Plotly) {                    window.PLOTLYENV=window.PLOTLYENV || {};\n",
       "                    window.PLOTLYENV.BASE_URL='https://plot.ly';                                    if (document.getElementById(\"3b7822e5-48c5-4c10-887e-7cb8f17f5dc4\")) {                    Plotly.newPlot(                        \"3b7822e5-48c5-4c10-887e-7cb8f17f5dc4\",                        [{\"line\": {\"color\": \"rgba(255, 153, 51, 1.0)\", \"dash\": \"solid\", \"shape\": \"linear\", \"width\": 1.3}, \"mode\": \"lines\", \"name\": \"B\", \"text\": \"\", \"type\": \"scatter\", \"x\": [-0.1601183780470847, 0.15940940597672718, -0.8691414452109293, 2.1010276114389423, 0.17164077472576567, -0.3615969648072336, -1.4329312503554597, 1.0348622009763033, -0.9530959678937821, -1.949144277250312, -0.653801018600976, -1.0586602896818622, 0.28861617739230505, 1.6481156904717285, 0.5021988384451932, 0.7419461664678879, 0.17745499512664956, -0.38325620812446526, 0.12849351472190346, 0.15024354836000892, -1.9046735986048597, 0.06729564255980032, 1.3114167690497167, 0.6532864418010814, 0.7736641644900281, 0.9710332051307252, -1.2950688683078926, -0.2330559856021781, -0.2506005785170448, 0.8746518298457197, 0.49012434927847653, 1.952542960328725, 1.422053288373496, -0.041017606165554964, -0.5696189873368337, 1.3796194148641876, -0.9684850941850984, -0.6867169752967174, 1.2175982302306936, -0.7950270858687128, -0.20268130839797435, -0.3166116775607073, 0.013265786411123252, 1.3609161101425622, 0.918899536952606, 0.8946799623180145, -0.32355619688753906, -0.26159337861282134, 1.7316425076849074, 0.18598089946101812, 0.5735137879874297, 0.5584074518494194, -0.39038838391341496, 0.9879393225390422, 2.5030105940459157, -0.48432032452495916, -0.41613166505421517, -1.3139722396678235, 0.22869715598900986, -0.5435803703335473, 2.487064416501825, -0.44198082209238426, -0.3539645120194969, 0.27099557207341957, 0.45250919764242253, -0.0576693407543129, -0.7573808849544862, -1.3875401356438606, 0.5770513485881394, 1.2340897966166007, 1.014934806523684, 0.1530954629770791, -1.0723060534055624, 1.085507498157262, 1.3346837122325887, -1.3698512217275174, -0.10433179640403041, -1.201928853898415, -0.30352824810029955, 0.33826194670927395, -0.7785433241744303, -0.14302780228701797, 0.6172268757774699, -1.5310619955784, -0.9632272022705074, 0.8562948380132994, -0.137384953960321, -0.9653087534475998, -0.4426437998567408, 0.5304095588563396, 1.4850884827390285, 0.1906684616642033, 0.246574144712053, -0.2369541408221221, 0.963784194598969, 0.44074100274933714, 0.546935093537091, -1.756855506983355, 1.8244298964505592, -1.4031423867604629], \"y\": [-0.2644633545863186, 1.5714302027771738, -0.022060694285092157, 0.44695975606255306, 1.6437621966592817, -2.1304958014639213, -0.34165423712052057, 0.7735034696623291, 0.4361167369817292, 0.38315007358375436, -0.13683266188575985, 0.2963414389906744, -2.1731658439592922, 0.20259417441792585, 0.09984009734314357, 0.691047349227367, 1.314807118205364, -0.521105250810098, -0.2822920873303137, -1.815604989842956, -1.0381784939062224, -1.540817803928697, 0.7999428656890234, -1.719359604418866, 1.2745453748761055, 1.504906159003659, -0.03548530175341141, -0.47520221229360315, -0.03341052408579652, 0.41606932003300406, -1.4669960816172585, 0.3399043588728614, -0.1322471972177475, 0.3885005500255243, -0.1296864888337782, 0.3725902163354231, -0.1681840505469514, -0.5380402156473689, -1.7400857956585742, 1.1274655014808161, -0.1642696740906239, 0.3284104283712735, 1.6754071912755992, 0.19180608461248194, 1.370769793189238, 1.7483301226382149, -0.25010508806739873, 0.13449895716815247, 0.4234980413886394, -0.6292563951712109, 2.2953199758200236, -0.17969684632277028, 1.2987890271027225, 0.4030094700678754, 0.08036747531795806, -0.08069390393910325, 1.9924420651500254, -0.2698486232006421, 0.9189127955439805, 1.4636227816733902, 0.938845731900176, 0.3774223763929635, -0.06039266365866485, 0.9786792112048589, 0.18303575909528905, 1.6213974948934198, -0.9011226730985576, 1.5550696967051754, -0.5287319696533463, -2.134382600497725, -2.4884498634990253, 0.9141044261447112, -1.0929243882156412, 0.33144393850878756, -0.11164949938320748, -0.3069432766632717, 1.1173680553813508, 0.26683988452577584, 2.572799719475098, 0.15916196813082964, 0.07842255156767423, -0.3913927786082702, -0.6787973075228827, -0.42382151492180364, -0.3450314270380239, -2.2701907481405805, -0.25405633676066053, -1.1065213219948289, -0.9709405991456087, -0.4193028156423804, -0.7262378201660576, 1.0725696136192406, -0.5523869569628342, 1.6427537695901733, 1.5568589945640556, 2.570984921845135, -0.36030875900544634, 0.26494896940570273, -1.3263649914452567, 0.3256623316086684]}],                        {\"legend\": {\"bgcolor\": \"#F5F6F9\", \"font\": {\"color\": \"#4D5663\"}}, \"paper_bgcolor\": \"#F5F6F9\", \"plot_bgcolor\": \"#F5F6F9\", \"template\": {\"data\": {\"bar\": [{\"error_x\": {\"color\": \"#2a3f5f\"}, \"error_y\": {\"color\": \"#2a3f5f\"}, \"marker\": {\"line\": {\"color\": \"#E5ECF6\", \"width\": 0.5}}, \"type\": \"bar\"}], \"barpolar\": [{\"marker\": {\"line\": {\"color\": \"#E5ECF6\", \"width\": 0.5}}, \"type\": \"barpolar\"}], \"carpet\": [{\"aaxis\": {\"endlinecolor\": \"#2a3f5f\", \"gridcolor\": \"white\", \"linecolor\": \"white\", \"minorgridcolor\": \"white\", \"startlinecolor\": \"#2a3f5f\"}, \"baxis\": {\"endlinecolor\": \"#2a3f5f\", \"gridcolor\": \"white\", \"linecolor\": \"white\", \"minorgridcolor\": \"white\", \"startlinecolor\": \"#2a3f5f\"}, \"type\": \"carpet\"}], \"choropleth\": [{\"colorbar\": {\"outlinewidth\": 0, \"ticks\": \"\"}, \"type\": \"choropleth\"}], \"contour\": [{\"colorbar\": {\"outlinewidth\": 0, \"ticks\": \"\"}, \"colorscale\": [[0.0, \"#0d0887\"], [0.1111111111111111, \"#46039f\"], [0.2222222222222222, \"#7201a8\"], [0.3333333333333333, \"#9c179e\"], [0.4444444444444444, \"#bd3786\"], [0.5555555555555556, \"#d8576b\"], [0.6666666666666666, \"#ed7953\"], [0.7777777777777778, \"#fb9f3a\"], [0.8888888888888888, \"#fdca26\"], [1.0, \"#f0f921\"]], \"type\": \"contour\"}], \"contourcarpet\": [{\"colorbar\": {\"outlinewidth\": 0, \"ticks\": \"\"}, \"type\": \"contourcarpet\"}], \"heatmap\": [{\"colorbar\": {\"outlinewidth\": 0, \"ticks\": \"\"}, \"colorscale\": [[0.0, \"#0d0887\"], [0.1111111111111111, \"#46039f\"], [0.2222222222222222, \"#7201a8\"], [0.3333333333333333, \"#9c179e\"], [0.4444444444444444, \"#bd3786\"], [0.5555555555555556, \"#d8576b\"], [0.6666666666666666, \"#ed7953\"], [0.7777777777777778, \"#fb9f3a\"], [0.8888888888888888, \"#fdca26\"], [1.0, \"#f0f921\"]], \"type\": \"heatmap\"}], \"heatmapgl\": [{\"colorbar\": {\"outlinewidth\": 0, \"ticks\": \"\"}, \"colorscale\": [[0.0, \"#0d0887\"], [0.1111111111111111, \"#46039f\"], [0.2222222222222222, \"#7201a8\"], [0.3333333333333333, \"#9c179e\"], [0.4444444444444444, \"#bd3786\"], [0.5555555555555556, \"#d8576b\"], [0.6666666666666666, \"#ed7953\"], [0.7777777777777778, \"#fb9f3a\"], [0.8888888888888888, \"#fdca26\"], [1.0, \"#f0f921\"]], \"type\": \"heatmapgl\"}], \"histogram\": [{\"marker\": {\"colorbar\": {\"outlinewidth\": 0, \"ticks\": \"\"}}, \"type\": \"histogram\"}], \"histogram2d\": [{\"colorbar\": {\"outlinewidth\": 0, \"ticks\": \"\"}, \"colorscale\": [[0.0, \"#0d0887\"], [0.1111111111111111, \"#46039f\"], [0.2222222222222222, \"#7201a8\"], [0.3333333333333333, \"#9c179e\"], [0.4444444444444444, \"#bd3786\"], [0.5555555555555556, \"#d8576b\"], [0.6666666666666666, \"#ed7953\"], [0.7777777777777778, \"#fb9f3a\"], [0.8888888888888888, \"#fdca26\"], [1.0, \"#f0f921\"]], \"type\": \"histogram2d\"}], \"histogram2dcontour\": [{\"colorbar\": {\"outlinewidth\": 0, \"ticks\": \"\"}, \"colorscale\": [[0.0, \"#0d0887\"], [0.1111111111111111, \"#46039f\"], [0.2222222222222222, \"#7201a8\"], [0.3333333333333333, \"#9c179e\"], [0.4444444444444444, \"#bd3786\"], [0.5555555555555556, \"#d8576b\"], [0.6666666666666666, \"#ed7953\"], [0.7777777777777778, \"#fb9f3a\"], [0.8888888888888888, \"#fdca26\"], [1.0, \"#f0f921\"]], \"type\": \"histogram2dcontour\"}], \"mesh3d\": [{\"colorbar\": {\"outlinewidth\": 0, \"ticks\": \"\"}, \"type\": \"mesh3d\"}], \"parcoords\": [{\"line\": {\"colorbar\": {\"outlinewidth\": 0, \"ticks\": \"\"}}, \"type\": \"parcoords\"}], \"pie\": [{\"automargin\": true, \"type\": \"pie\"}], \"scatter\": [{\"marker\": {\"colorbar\": {\"outlinewidth\": 0, \"ticks\": \"\"}}, \"type\": \"scatter\"}], \"scatter3d\": [{\"line\": {\"colorbar\": {\"outlinewidth\": 0, \"ticks\": \"\"}}, \"marker\": {\"colorbar\": {\"outlinewidth\": 0, \"ticks\": \"\"}}, \"type\": \"scatter3d\"}], \"scattercarpet\": [{\"marker\": {\"colorbar\": {\"outlinewidth\": 0, \"ticks\": \"\"}}, \"type\": \"scattercarpet\"}], \"scattergeo\": [{\"marker\": {\"colorbar\": {\"outlinewidth\": 0, \"ticks\": \"\"}}, \"type\": \"scattergeo\"}], \"scattergl\": [{\"marker\": {\"colorbar\": {\"outlinewidth\": 0, \"ticks\": \"\"}}, \"type\": \"scattergl\"}], \"scattermapbox\": [{\"marker\": {\"colorbar\": {\"outlinewidth\": 0, \"ticks\": \"\"}}, \"type\": \"scattermapbox\"}], \"scatterpolar\": [{\"marker\": {\"colorbar\": {\"outlinewidth\": 0, \"ticks\": \"\"}}, \"type\": \"scatterpolar\"}], \"scatterpolargl\": [{\"marker\": {\"colorbar\": {\"outlinewidth\": 0, \"ticks\": \"\"}}, \"type\": \"scatterpolargl\"}], \"scatterternary\": [{\"marker\": {\"colorbar\": {\"outlinewidth\": 0, \"ticks\": \"\"}}, \"type\": \"scatterternary\"}], \"surface\": [{\"colorbar\": {\"outlinewidth\": 0, \"ticks\": \"\"}, \"colorscale\": [[0.0, \"#0d0887\"], [0.1111111111111111, \"#46039f\"], [0.2222222222222222, \"#7201a8\"], [0.3333333333333333, \"#9c179e\"], [0.4444444444444444, \"#bd3786\"], [0.5555555555555556, \"#d8576b\"], [0.6666666666666666, \"#ed7953\"], [0.7777777777777778, \"#fb9f3a\"], [0.8888888888888888, \"#fdca26\"], [1.0, \"#f0f921\"]], \"type\": \"surface\"}], \"table\": [{\"cells\": {\"fill\": {\"color\": \"#EBF0F8\"}, \"line\": {\"color\": \"white\"}}, \"header\": {\"fill\": {\"color\": \"#C8D4E3\"}, \"line\": {\"color\": \"white\"}}, \"type\": \"table\"}]}, \"layout\": {\"annotationdefaults\": {\"arrowcolor\": \"#2a3f5f\", \"arrowhead\": 0, \"arrowwidth\": 1}, \"autotypenumbers\": \"strict\", \"coloraxis\": {\"colorbar\": {\"outlinewidth\": 0, \"ticks\": \"\"}}, \"colorscale\": {\"diverging\": [[0, \"#8e0152\"], [0.1, \"#c51b7d\"], [0.2, \"#de77ae\"], [0.3, \"#f1b6da\"], [0.4, \"#fde0ef\"], [0.5, \"#f7f7f7\"], [0.6, \"#e6f5d0\"], [0.7, \"#b8e186\"], [0.8, \"#7fbc41\"], [0.9, \"#4d9221\"], [1, \"#276419\"]], \"sequential\": [[0.0, \"#0d0887\"], [0.1111111111111111, \"#46039f\"], [0.2222222222222222, \"#7201a8\"], [0.3333333333333333, \"#9c179e\"], [0.4444444444444444, \"#bd3786\"], [0.5555555555555556, \"#d8576b\"], [0.6666666666666666, \"#ed7953\"], [0.7777777777777778, \"#fb9f3a\"], [0.8888888888888888, \"#fdca26\"], [1.0, \"#f0f921\"]], \"sequentialminus\": [[0.0, \"#0d0887\"], [0.1111111111111111, \"#46039f\"], [0.2222222222222222, \"#7201a8\"], [0.3333333333333333, \"#9c179e\"], [0.4444444444444444, \"#bd3786\"], [0.5555555555555556, \"#d8576b\"], [0.6666666666666666, \"#ed7953\"], [0.7777777777777778, \"#fb9f3a\"], [0.8888888888888888, \"#fdca26\"], [1.0, \"#f0f921\"]]}, \"colorway\": [\"#636efa\", \"#EF553B\", \"#00cc96\", \"#ab63fa\", \"#FFA15A\", \"#19d3f3\", \"#FF6692\", \"#B6E880\", \"#FF97FF\", \"#FECB52\"], \"font\": {\"color\": \"#2a3f5f\"}, \"geo\": {\"bgcolor\": \"white\", \"lakecolor\": \"white\", \"landcolor\": \"#E5ECF6\", \"showlakes\": true, \"showland\": true, \"subunitcolor\": \"white\"}, \"hoverlabel\": {\"align\": \"left\"}, \"hovermode\": \"closest\", \"mapbox\": {\"style\": \"light\"}, \"paper_bgcolor\": \"white\", \"plot_bgcolor\": \"#E5ECF6\", \"polar\": {\"angularaxis\": {\"gridcolor\": \"white\", \"linecolor\": \"white\", \"ticks\": \"\"}, \"bgcolor\": \"#E5ECF6\", \"radialaxis\": {\"gridcolor\": \"white\", \"linecolor\": \"white\", \"ticks\": \"\"}}, \"scene\": {\"xaxis\": {\"backgroundcolor\": \"#E5ECF6\", \"gridcolor\": \"white\", \"gridwidth\": 2, \"linecolor\": \"white\", \"showbackground\": true, \"ticks\": \"\", \"zerolinecolor\": \"white\"}, \"yaxis\": {\"backgroundcolor\": \"#E5ECF6\", \"gridcolor\": \"white\", \"gridwidth\": 2, \"linecolor\": \"white\", \"showbackground\": true, \"ticks\": \"\", \"zerolinecolor\": \"white\"}, \"zaxis\": {\"backgroundcolor\": \"#E5ECF6\", \"gridcolor\": \"white\", \"gridwidth\": 2, \"linecolor\": \"white\", \"showbackground\": true, \"ticks\": \"\", \"zerolinecolor\": \"white\"}}, \"shapedefaults\": {\"line\": {\"color\": \"#2a3f5f\"}}, \"ternary\": {\"aaxis\": {\"gridcolor\": \"white\", \"linecolor\": \"white\", \"ticks\": \"\"}, \"baxis\": {\"gridcolor\": \"white\", \"linecolor\": \"white\", \"ticks\": \"\"}, \"bgcolor\": \"#E5ECF6\", \"caxis\": {\"gridcolor\": \"white\", \"linecolor\": \"white\", \"ticks\": \"\"}}, \"title\": {\"x\": 0.05}, \"xaxis\": {\"automargin\": true, \"gridcolor\": \"white\", \"linecolor\": \"white\", \"ticks\": \"\", \"title\": {\"standoff\": 15}, \"zerolinecolor\": \"white\", \"zerolinewidth\": 2}, \"yaxis\": {\"automargin\": true, \"gridcolor\": \"white\", \"linecolor\": \"white\", \"ticks\": \"\", \"title\": {\"standoff\": 15}, \"zerolinecolor\": \"white\", \"zerolinewidth\": 2}}}, \"title\": {\"font\": {\"color\": \"#4D5663\"}}, \"xaxis\": {\"gridcolor\": \"#E1E5ED\", \"showgrid\": true, \"tickfont\": {\"color\": \"#4D5663\"}, \"title\": {\"font\": {\"color\": \"#4D5663\"}, \"text\": \"\"}, \"zerolinecolor\": \"#E1E5ED\"}, \"yaxis\": {\"gridcolor\": \"#E1E5ED\", \"showgrid\": true, \"tickfont\": {\"color\": \"#4D5663\"}, \"title\": {\"font\": {\"color\": \"#4D5663\"}, \"text\": \"\"}, \"zerolinecolor\": \"#E1E5ED\"}},                        {\"showLink\": true, \"linkText\": \"Export to plot.ly\", \"plotlyServerURL\": \"https://plot.ly\", \"responsive\": true}                    ).then(function(){\n",
       "                            \n",
       "var gd = document.getElementById('3b7822e5-48c5-4c10-887e-7cb8f17f5dc4');\n",
       "var x = new MutationObserver(function (mutations, observer) {{\n",
       "        var display = window.getComputedStyle(gd).display;\n",
       "        if (!display || display === 'none') {{\n",
       "            console.log([gd, 'removed!']);\n",
       "            Plotly.purge(gd);\n",
       "            observer.disconnect();\n",
       "        }}\n",
       "}});\n",
       "\n",
       "// Listen for the removal of the full notebook cells\n",
       "var notebookContainer = gd.closest('#notebook-container');\n",
       "if (notebookContainer) {{\n",
       "    x.observe(notebookContainer, {childList: true});\n",
       "}}\n",
       "\n",
       "// Listen for the clearing of the current output cell\n",
       "var outputEl = gd.closest('.output');\n",
       "if (outputEl) {{\n",
       "    x.observe(outputEl, {childList: true});\n",
       "}}\n",
       "\n",
       "                        })                };                });            </script>        </div>"
      ]
     },
     "metadata": {},
     "output_type": "display_data"
    }
   ],
   "source": [
    "#plotly try to make a line\n",
    "df.iplot(kind='scatter',x='A',y='B')"
   ]
  },
  {
   "cell_type": "code",
   "execution_count": 18,
   "metadata": {},
   "outputs": [
    {
     "data": {
      "application/vnd.plotly.v1+json": {
       "config": {
        "linkText": "Export to plot.ly",
        "plotlyServerURL": "https://plot.ly",
        "showLink": true
       },
       "data": [
        {
         "line": {
          "color": "rgba(255, 153, 51, 1.0)",
          "dash": "solid",
          "shape": "linear",
          "width": 1.3
         },
         "marker": {
          "size": 12,
          "symbol": "circle"
         },
         "mode": "markers",
         "name": "B",
         "text": "",
         "type": "scatter",
         "x": [
          -0.1601183780470847,
          0.15940940597672718,
          -0.8691414452109293,
          2.1010276114389423,
          0.17164077472576567,
          -0.3615969648072336,
          -1.4329312503554597,
          1.0348622009763033,
          -0.9530959678937821,
          -1.949144277250312,
          -0.653801018600976,
          -1.0586602896818622,
          0.28861617739230505,
          1.6481156904717285,
          0.5021988384451932,
          0.7419461664678879,
          0.17745499512664956,
          -0.38325620812446526,
          0.12849351472190346,
          0.15024354836000892,
          -1.9046735986048597,
          0.06729564255980032,
          1.3114167690497167,
          0.6532864418010814,
          0.7736641644900281,
          0.9710332051307252,
          -1.2950688683078926,
          -0.2330559856021781,
          -0.2506005785170448,
          0.8746518298457197,
          0.49012434927847653,
          1.952542960328725,
          1.422053288373496,
          -0.041017606165554964,
          -0.5696189873368337,
          1.3796194148641876,
          -0.9684850941850984,
          -0.6867169752967174,
          1.2175982302306936,
          -0.7950270858687128,
          -0.20268130839797435,
          -0.3166116775607073,
          0.013265786411123252,
          1.3609161101425622,
          0.918899536952606,
          0.8946799623180145,
          -0.32355619688753906,
          -0.26159337861282134,
          1.7316425076849074,
          0.18598089946101812,
          0.5735137879874297,
          0.5584074518494194,
          -0.39038838391341496,
          0.9879393225390422,
          2.5030105940459157,
          -0.48432032452495916,
          -0.41613166505421517,
          -1.3139722396678235,
          0.22869715598900986,
          -0.5435803703335473,
          2.487064416501825,
          -0.44198082209238426,
          -0.3539645120194969,
          0.27099557207341957,
          0.45250919764242253,
          -0.0576693407543129,
          -0.7573808849544862,
          -1.3875401356438606,
          0.5770513485881394,
          1.2340897966166007,
          1.014934806523684,
          0.1530954629770791,
          -1.0723060534055624,
          1.085507498157262,
          1.3346837122325887,
          -1.3698512217275174,
          -0.10433179640403041,
          -1.201928853898415,
          -0.30352824810029955,
          0.33826194670927395,
          -0.7785433241744303,
          -0.14302780228701797,
          0.6172268757774699,
          -1.5310619955784,
          -0.9632272022705074,
          0.8562948380132994,
          -0.137384953960321,
          -0.9653087534475998,
          -0.4426437998567408,
          0.5304095588563396,
          1.4850884827390285,
          0.1906684616642033,
          0.246574144712053,
          -0.2369541408221221,
          0.963784194598969,
          0.44074100274933714,
          0.546935093537091,
          -1.756855506983355,
          1.8244298964505592,
          -1.4031423867604629
         ],
         "y": [
          -0.2644633545863186,
          1.5714302027771738,
          -0.022060694285092157,
          0.44695975606255306,
          1.6437621966592817,
          -2.1304958014639213,
          -0.34165423712052057,
          0.7735034696623291,
          0.4361167369817292,
          0.38315007358375436,
          -0.13683266188575985,
          0.2963414389906744,
          -2.1731658439592922,
          0.20259417441792585,
          0.09984009734314357,
          0.691047349227367,
          1.314807118205364,
          -0.521105250810098,
          -0.2822920873303137,
          -1.815604989842956,
          -1.0381784939062224,
          -1.540817803928697,
          0.7999428656890234,
          -1.719359604418866,
          1.2745453748761055,
          1.504906159003659,
          -0.03548530175341141,
          -0.47520221229360315,
          -0.03341052408579652,
          0.41606932003300406,
          -1.4669960816172585,
          0.3399043588728614,
          -0.1322471972177475,
          0.3885005500255243,
          -0.1296864888337782,
          0.3725902163354231,
          -0.1681840505469514,
          -0.5380402156473689,
          -1.7400857956585742,
          1.1274655014808161,
          -0.1642696740906239,
          0.3284104283712735,
          1.6754071912755992,
          0.19180608461248194,
          1.370769793189238,
          1.7483301226382149,
          -0.25010508806739873,
          0.13449895716815247,
          0.4234980413886394,
          -0.6292563951712109,
          2.2953199758200236,
          -0.17969684632277028,
          1.2987890271027225,
          0.4030094700678754,
          0.08036747531795806,
          -0.08069390393910325,
          1.9924420651500254,
          -0.2698486232006421,
          0.9189127955439805,
          1.4636227816733902,
          0.938845731900176,
          0.3774223763929635,
          -0.06039266365866485,
          0.9786792112048589,
          0.18303575909528905,
          1.6213974948934198,
          -0.9011226730985576,
          1.5550696967051754,
          -0.5287319696533463,
          -2.134382600497725,
          -2.4884498634990253,
          0.9141044261447112,
          -1.0929243882156412,
          0.33144393850878756,
          -0.11164949938320748,
          -0.3069432766632717,
          1.1173680553813508,
          0.26683988452577584,
          2.572799719475098,
          0.15916196813082964,
          0.07842255156767423,
          -0.3913927786082702,
          -0.6787973075228827,
          -0.42382151492180364,
          -0.3450314270380239,
          -2.2701907481405805,
          -0.25405633676066053,
          -1.1065213219948289,
          -0.9709405991456087,
          -0.4193028156423804,
          -0.7262378201660576,
          1.0725696136192406,
          -0.5523869569628342,
          1.6427537695901733,
          1.5568589945640556,
          2.570984921845135,
          -0.36030875900544634,
          0.26494896940570273,
          -1.3263649914452567,
          0.3256623316086684
         ]
        }
       ],
       "layout": {
        "legend": {
         "bgcolor": "#F5F6F9",
         "font": {
          "color": "#4D5663"
         }
        },
        "paper_bgcolor": "#F5F6F9",
        "plot_bgcolor": "#F5F6F9",
        "template": {
         "data": {
          "bar": [
           {
            "error_x": {
             "color": "#2a3f5f"
            },
            "error_y": {
             "color": "#2a3f5f"
            },
            "marker": {
             "line": {
              "color": "#E5ECF6",
              "width": 0.5
             }
            },
            "type": "bar"
           }
          ],
          "barpolar": [
           {
            "marker": {
             "line": {
              "color": "#E5ECF6",
              "width": 0.5
             }
            },
            "type": "barpolar"
           }
          ],
          "carpet": [
           {
            "aaxis": {
             "endlinecolor": "#2a3f5f",
             "gridcolor": "white",
             "linecolor": "white",
             "minorgridcolor": "white",
             "startlinecolor": "#2a3f5f"
            },
            "baxis": {
             "endlinecolor": "#2a3f5f",
             "gridcolor": "white",
             "linecolor": "white",
             "minorgridcolor": "white",
             "startlinecolor": "#2a3f5f"
            },
            "type": "carpet"
           }
          ],
          "choropleth": [
           {
            "colorbar": {
             "outlinewidth": 0,
             "ticks": ""
            },
            "type": "choropleth"
           }
          ],
          "contour": [
           {
            "colorbar": {
             "outlinewidth": 0,
             "ticks": ""
            },
            "colorscale": [
             [
              0,
              "#0d0887"
             ],
             [
              0.1111111111111111,
              "#46039f"
             ],
             [
              0.2222222222222222,
              "#7201a8"
             ],
             [
              0.3333333333333333,
              "#9c179e"
             ],
             [
              0.4444444444444444,
              "#bd3786"
             ],
             [
              0.5555555555555556,
              "#d8576b"
             ],
             [
              0.6666666666666666,
              "#ed7953"
             ],
             [
              0.7777777777777778,
              "#fb9f3a"
             ],
             [
              0.8888888888888888,
              "#fdca26"
             ],
             [
              1,
              "#f0f921"
             ]
            ],
            "type": "contour"
           }
          ],
          "contourcarpet": [
           {
            "colorbar": {
             "outlinewidth": 0,
             "ticks": ""
            },
            "type": "contourcarpet"
           }
          ],
          "heatmap": [
           {
            "colorbar": {
             "outlinewidth": 0,
             "ticks": ""
            },
            "colorscale": [
             [
              0,
              "#0d0887"
             ],
             [
              0.1111111111111111,
              "#46039f"
             ],
             [
              0.2222222222222222,
              "#7201a8"
             ],
             [
              0.3333333333333333,
              "#9c179e"
             ],
             [
              0.4444444444444444,
              "#bd3786"
             ],
             [
              0.5555555555555556,
              "#d8576b"
             ],
             [
              0.6666666666666666,
              "#ed7953"
             ],
             [
              0.7777777777777778,
              "#fb9f3a"
             ],
             [
              0.8888888888888888,
              "#fdca26"
             ],
             [
              1,
              "#f0f921"
             ]
            ],
            "type": "heatmap"
           }
          ],
          "heatmapgl": [
           {
            "colorbar": {
             "outlinewidth": 0,
             "ticks": ""
            },
            "colorscale": [
             [
              0,
              "#0d0887"
             ],
             [
              0.1111111111111111,
              "#46039f"
             ],
             [
              0.2222222222222222,
              "#7201a8"
             ],
             [
              0.3333333333333333,
              "#9c179e"
             ],
             [
              0.4444444444444444,
              "#bd3786"
             ],
             [
              0.5555555555555556,
              "#d8576b"
             ],
             [
              0.6666666666666666,
              "#ed7953"
             ],
             [
              0.7777777777777778,
              "#fb9f3a"
             ],
             [
              0.8888888888888888,
              "#fdca26"
             ],
             [
              1,
              "#f0f921"
             ]
            ],
            "type": "heatmapgl"
           }
          ],
          "histogram": [
           {
            "marker": {
             "colorbar": {
              "outlinewidth": 0,
              "ticks": ""
             }
            },
            "type": "histogram"
           }
          ],
          "histogram2d": [
           {
            "colorbar": {
             "outlinewidth": 0,
             "ticks": ""
            },
            "colorscale": [
             [
              0,
              "#0d0887"
             ],
             [
              0.1111111111111111,
              "#46039f"
             ],
             [
              0.2222222222222222,
              "#7201a8"
             ],
             [
              0.3333333333333333,
              "#9c179e"
             ],
             [
              0.4444444444444444,
              "#bd3786"
             ],
             [
              0.5555555555555556,
              "#d8576b"
             ],
             [
              0.6666666666666666,
              "#ed7953"
             ],
             [
              0.7777777777777778,
              "#fb9f3a"
             ],
             [
              0.8888888888888888,
              "#fdca26"
             ],
             [
              1,
              "#f0f921"
             ]
            ],
            "type": "histogram2d"
           }
          ],
          "histogram2dcontour": [
           {
            "colorbar": {
             "outlinewidth": 0,
             "ticks": ""
            },
            "colorscale": [
             [
              0,
              "#0d0887"
             ],
             [
              0.1111111111111111,
              "#46039f"
             ],
             [
              0.2222222222222222,
              "#7201a8"
             ],
             [
              0.3333333333333333,
              "#9c179e"
             ],
             [
              0.4444444444444444,
              "#bd3786"
             ],
             [
              0.5555555555555556,
              "#d8576b"
             ],
             [
              0.6666666666666666,
              "#ed7953"
             ],
             [
              0.7777777777777778,
              "#fb9f3a"
             ],
             [
              0.8888888888888888,
              "#fdca26"
             ],
             [
              1,
              "#f0f921"
             ]
            ],
            "type": "histogram2dcontour"
           }
          ],
          "mesh3d": [
           {
            "colorbar": {
             "outlinewidth": 0,
             "ticks": ""
            },
            "type": "mesh3d"
           }
          ],
          "parcoords": [
           {
            "line": {
             "colorbar": {
              "outlinewidth": 0,
              "ticks": ""
             }
            },
            "type": "parcoords"
           }
          ],
          "pie": [
           {
            "automargin": true,
            "type": "pie"
           }
          ],
          "scatter": [
           {
            "marker": {
             "colorbar": {
              "outlinewidth": 0,
              "ticks": ""
             }
            },
            "type": "scatter"
           }
          ],
          "scatter3d": [
           {
            "line": {
             "colorbar": {
              "outlinewidth": 0,
              "ticks": ""
             }
            },
            "marker": {
             "colorbar": {
              "outlinewidth": 0,
              "ticks": ""
             }
            },
            "type": "scatter3d"
           }
          ],
          "scattercarpet": [
           {
            "marker": {
             "colorbar": {
              "outlinewidth": 0,
              "ticks": ""
             }
            },
            "type": "scattercarpet"
           }
          ],
          "scattergeo": [
           {
            "marker": {
             "colorbar": {
              "outlinewidth": 0,
              "ticks": ""
             }
            },
            "type": "scattergeo"
           }
          ],
          "scattergl": [
           {
            "marker": {
             "colorbar": {
              "outlinewidth": 0,
              "ticks": ""
             }
            },
            "type": "scattergl"
           }
          ],
          "scattermapbox": [
           {
            "marker": {
             "colorbar": {
              "outlinewidth": 0,
              "ticks": ""
             }
            },
            "type": "scattermapbox"
           }
          ],
          "scatterpolar": [
           {
            "marker": {
             "colorbar": {
              "outlinewidth": 0,
              "ticks": ""
             }
            },
            "type": "scatterpolar"
           }
          ],
          "scatterpolargl": [
           {
            "marker": {
             "colorbar": {
              "outlinewidth": 0,
              "ticks": ""
             }
            },
            "type": "scatterpolargl"
           }
          ],
          "scatterternary": [
           {
            "marker": {
             "colorbar": {
              "outlinewidth": 0,
              "ticks": ""
             }
            },
            "type": "scatterternary"
           }
          ],
          "surface": [
           {
            "colorbar": {
             "outlinewidth": 0,
             "ticks": ""
            },
            "colorscale": [
             [
              0,
              "#0d0887"
             ],
             [
              0.1111111111111111,
              "#46039f"
             ],
             [
              0.2222222222222222,
              "#7201a8"
             ],
             [
              0.3333333333333333,
              "#9c179e"
             ],
             [
              0.4444444444444444,
              "#bd3786"
             ],
             [
              0.5555555555555556,
              "#d8576b"
             ],
             [
              0.6666666666666666,
              "#ed7953"
             ],
             [
              0.7777777777777778,
              "#fb9f3a"
             ],
             [
              0.8888888888888888,
              "#fdca26"
             ],
             [
              1,
              "#f0f921"
             ]
            ],
            "type": "surface"
           }
          ],
          "table": [
           {
            "cells": {
             "fill": {
              "color": "#EBF0F8"
             },
             "line": {
              "color": "white"
             }
            },
            "header": {
             "fill": {
              "color": "#C8D4E3"
             },
             "line": {
              "color": "white"
             }
            },
            "type": "table"
           }
          ]
         },
         "layout": {
          "annotationdefaults": {
           "arrowcolor": "#2a3f5f",
           "arrowhead": 0,
           "arrowwidth": 1
          },
          "autotypenumbers": "strict",
          "coloraxis": {
           "colorbar": {
            "outlinewidth": 0,
            "ticks": ""
           }
          },
          "colorscale": {
           "diverging": [
            [
             0,
             "#8e0152"
            ],
            [
             0.1,
             "#c51b7d"
            ],
            [
             0.2,
             "#de77ae"
            ],
            [
             0.3,
             "#f1b6da"
            ],
            [
             0.4,
             "#fde0ef"
            ],
            [
             0.5,
             "#f7f7f7"
            ],
            [
             0.6,
             "#e6f5d0"
            ],
            [
             0.7,
             "#b8e186"
            ],
            [
             0.8,
             "#7fbc41"
            ],
            [
             0.9,
             "#4d9221"
            ],
            [
             1,
             "#276419"
            ]
           ],
           "sequential": [
            [
             0,
             "#0d0887"
            ],
            [
             0.1111111111111111,
             "#46039f"
            ],
            [
             0.2222222222222222,
             "#7201a8"
            ],
            [
             0.3333333333333333,
             "#9c179e"
            ],
            [
             0.4444444444444444,
             "#bd3786"
            ],
            [
             0.5555555555555556,
             "#d8576b"
            ],
            [
             0.6666666666666666,
             "#ed7953"
            ],
            [
             0.7777777777777778,
             "#fb9f3a"
            ],
            [
             0.8888888888888888,
             "#fdca26"
            ],
            [
             1,
             "#f0f921"
            ]
           ],
           "sequentialminus": [
            [
             0,
             "#0d0887"
            ],
            [
             0.1111111111111111,
             "#46039f"
            ],
            [
             0.2222222222222222,
             "#7201a8"
            ],
            [
             0.3333333333333333,
             "#9c179e"
            ],
            [
             0.4444444444444444,
             "#bd3786"
            ],
            [
             0.5555555555555556,
             "#d8576b"
            ],
            [
             0.6666666666666666,
             "#ed7953"
            ],
            [
             0.7777777777777778,
             "#fb9f3a"
            ],
            [
             0.8888888888888888,
             "#fdca26"
            ],
            [
             1,
             "#f0f921"
            ]
           ]
          },
          "colorway": [
           "#636efa",
           "#EF553B",
           "#00cc96",
           "#ab63fa",
           "#FFA15A",
           "#19d3f3",
           "#FF6692",
           "#B6E880",
           "#FF97FF",
           "#FECB52"
          ],
          "font": {
           "color": "#2a3f5f"
          },
          "geo": {
           "bgcolor": "white",
           "lakecolor": "white",
           "landcolor": "#E5ECF6",
           "showlakes": true,
           "showland": true,
           "subunitcolor": "white"
          },
          "hoverlabel": {
           "align": "left"
          },
          "hovermode": "closest",
          "mapbox": {
           "style": "light"
          },
          "paper_bgcolor": "white",
          "plot_bgcolor": "#E5ECF6",
          "polar": {
           "angularaxis": {
            "gridcolor": "white",
            "linecolor": "white",
            "ticks": ""
           },
           "bgcolor": "#E5ECF6",
           "radialaxis": {
            "gridcolor": "white",
            "linecolor": "white",
            "ticks": ""
           }
          },
          "scene": {
           "xaxis": {
            "backgroundcolor": "#E5ECF6",
            "gridcolor": "white",
            "gridwidth": 2,
            "linecolor": "white",
            "showbackground": true,
            "ticks": "",
            "zerolinecolor": "white"
           },
           "yaxis": {
            "backgroundcolor": "#E5ECF6",
            "gridcolor": "white",
            "gridwidth": 2,
            "linecolor": "white",
            "showbackground": true,
            "ticks": "",
            "zerolinecolor": "white"
           },
           "zaxis": {
            "backgroundcolor": "#E5ECF6",
            "gridcolor": "white",
            "gridwidth": 2,
            "linecolor": "white",
            "showbackground": true,
            "ticks": "",
            "zerolinecolor": "white"
           }
          },
          "shapedefaults": {
           "line": {
            "color": "#2a3f5f"
           }
          },
          "ternary": {
           "aaxis": {
            "gridcolor": "white",
            "linecolor": "white",
            "ticks": ""
           },
           "baxis": {
            "gridcolor": "white",
            "linecolor": "white",
            "ticks": ""
           },
           "bgcolor": "#E5ECF6",
           "caxis": {
            "gridcolor": "white",
            "linecolor": "white",
            "ticks": ""
           }
          },
          "title": {
           "x": 0.05
          },
          "xaxis": {
           "automargin": true,
           "gridcolor": "white",
           "linecolor": "white",
           "ticks": "",
           "title": {
            "standoff": 15
           },
           "zerolinecolor": "white",
           "zerolinewidth": 2
          },
          "yaxis": {
           "automargin": true,
           "gridcolor": "white",
           "linecolor": "white",
           "ticks": "",
           "title": {
            "standoff": 15
           },
           "zerolinecolor": "white",
           "zerolinewidth": 2
          }
         }
        },
        "title": {
         "font": {
          "color": "#4D5663"
         }
        },
        "xaxis": {
         "gridcolor": "#E1E5ED",
         "showgrid": true,
         "tickfont": {
          "color": "#4D5663"
         },
         "title": {
          "font": {
           "color": "#4D5663"
          },
          "text": ""
         },
         "zerolinecolor": "#E1E5ED"
        },
        "yaxis": {
         "gridcolor": "#E1E5ED",
         "showgrid": true,
         "tickfont": {
          "color": "#4D5663"
         },
         "title": {
          "font": {
           "color": "#4D5663"
          },
          "text": ""
         },
         "zerolinecolor": "#E1E5ED"
        }
       }
      },
      "text/html": [
       "<div>                            <div id=\"3678e4e0-1d71-41ce-803a-81ea1eb896c9\" class=\"plotly-graph-div\" style=\"height:525px; width:100%;\"></div>            <script type=\"text/javascript\">                require([\"plotly\"], function(Plotly) {                    window.PLOTLYENV=window.PLOTLYENV || {};\n",
       "                    window.PLOTLYENV.BASE_URL='https://plot.ly';                                    if (document.getElementById(\"3678e4e0-1d71-41ce-803a-81ea1eb896c9\")) {                    Plotly.newPlot(                        \"3678e4e0-1d71-41ce-803a-81ea1eb896c9\",                        [{\"line\": {\"color\": \"rgba(255, 153, 51, 1.0)\", \"dash\": \"solid\", \"shape\": \"linear\", \"width\": 1.3}, \"marker\": {\"size\": 12, \"symbol\": \"circle\"}, \"mode\": \"markers\", \"name\": \"B\", \"text\": \"\", \"type\": \"scatter\", \"x\": [-0.1601183780470847, 0.15940940597672718, -0.8691414452109293, 2.1010276114389423, 0.17164077472576567, -0.3615969648072336, -1.4329312503554597, 1.0348622009763033, -0.9530959678937821, -1.949144277250312, -0.653801018600976, -1.0586602896818622, 0.28861617739230505, 1.6481156904717285, 0.5021988384451932, 0.7419461664678879, 0.17745499512664956, -0.38325620812446526, 0.12849351472190346, 0.15024354836000892, -1.9046735986048597, 0.06729564255980032, 1.3114167690497167, 0.6532864418010814, 0.7736641644900281, 0.9710332051307252, -1.2950688683078926, -0.2330559856021781, -0.2506005785170448, 0.8746518298457197, 0.49012434927847653, 1.952542960328725, 1.422053288373496, -0.041017606165554964, -0.5696189873368337, 1.3796194148641876, -0.9684850941850984, -0.6867169752967174, 1.2175982302306936, -0.7950270858687128, -0.20268130839797435, -0.3166116775607073, 0.013265786411123252, 1.3609161101425622, 0.918899536952606, 0.8946799623180145, -0.32355619688753906, -0.26159337861282134, 1.7316425076849074, 0.18598089946101812, 0.5735137879874297, 0.5584074518494194, -0.39038838391341496, 0.9879393225390422, 2.5030105940459157, -0.48432032452495916, -0.41613166505421517, -1.3139722396678235, 0.22869715598900986, -0.5435803703335473, 2.487064416501825, -0.44198082209238426, -0.3539645120194969, 0.27099557207341957, 0.45250919764242253, -0.0576693407543129, -0.7573808849544862, -1.3875401356438606, 0.5770513485881394, 1.2340897966166007, 1.014934806523684, 0.1530954629770791, -1.0723060534055624, 1.085507498157262, 1.3346837122325887, -1.3698512217275174, -0.10433179640403041, -1.201928853898415, -0.30352824810029955, 0.33826194670927395, -0.7785433241744303, -0.14302780228701797, 0.6172268757774699, -1.5310619955784, -0.9632272022705074, 0.8562948380132994, -0.137384953960321, -0.9653087534475998, -0.4426437998567408, 0.5304095588563396, 1.4850884827390285, 0.1906684616642033, 0.246574144712053, -0.2369541408221221, 0.963784194598969, 0.44074100274933714, 0.546935093537091, -1.756855506983355, 1.8244298964505592, -1.4031423867604629], \"y\": [-0.2644633545863186, 1.5714302027771738, -0.022060694285092157, 0.44695975606255306, 1.6437621966592817, -2.1304958014639213, -0.34165423712052057, 0.7735034696623291, 0.4361167369817292, 0.38315007358375436, -0.13683266188575985, 0.2963414389906744, -2.1731658439592922, 0.20259417441792585, 0.09984009734314357, 0.691047349227367, 1.314807118205364, -0.521105250810098, -0.2822920873303137, -1.815604989842956, -1.0381784939062224, -1.540817803928697, 0.7999428656890234, -1.719359604418866, 1.2745453748761055, 1.504906159003659, -0.03548530175341141, -0.47520221229360315, -0.03341052408579652, 0.41606932003300406, -1.4669960816172585, 0.3399043588728614, -0.1322471972177475, 0.3885005500255243, -0.1296864888337782, 0.3725902163354231, -0.1681840505469514, -0.5380402156473689, -1.7400857956585742, 1.1274655014808161, -0.1642696740906239, 0.3284104283712735, 1.6754071912755992, 0.19180608461248194, 1.370769793189238, 1.7483301226382149, -0.25010508806739873, 0.13449895716815247, 0.4234980413886394, -0.6292563951712109, 2.2953199758200236, -0.17969684632277028, 1.2987890271027225, 0.4030094700678754, 0.08036747531795806, -0.08069390393910325, 1.9924420651500254, -0.2698486232006421, 0.9189127955439805, 1.4636227816733902, 0.938845731900176, 0.3774223763929635, -0.06039266365866485, 0.9786792112048589, 0.18303575909528905, 1.6213974948934198, -0.9011226730985576, 1.5550696967051754, -0.5287319696533463, -2.134382600497725, -2.4884498634990253, 0.9141044261447112, -1.0929243882156412, 0.33144393850878756, -0.11164949938320748, -0.3069432766632717, 1.1173680553813508, 0.26683988452577584, 2.572799719475098, 0.15916196813082964, 0.07842255156767423, -0.3913927786082702, -0.6787973075228827, -0.42382151492180364, -0.3450314270380239, -2.2701907481405805, -0.25405633676066053, -1.1065213219948289, -0.9709405991456087, -0.4193028156423804, -0.7262378201660576, 1.0725696136192406, -0.5523869569628342, 1.6427537695901733, 1.5568589945640556, 2.570984921845135, -0.36030875900544634, 0.26494896940570273, -1.3263649914452567, 0.3256623316086684]}],                        {\"legend\": {\"bgcolor\": \"#F5F6F9\", \"font\": {\"color\": \"#4D5663\"}}, \"paper_bgcolor\": \"#F5F6F9\", \"plot_bgcolor\": \"#F5F6F9\", \"template\": {\"data\": {\"bar\": [{\"error_x\": {\"color\": \"#2a3f5f\"}, \"error_y\": {\"color\": \"#2a3f5f\"}, \"marker\": {\"line\": {\"color\": \"#E5ECF6\", \"width\": 0.5}}, \"type\": \"bar\"}], \"barpolar\": [{\"marker\": {\"line\": {\"color\": \"#E5ECF6\", \"width\": 0.5}}, \"type\": \"barpolar\"}], \"carpet\": [{\"aaxis\": {\"endlinecolor\": \"#2a3f5f\", \"gridcolor\": \"white\", \"linecolor\": \"white\", \"minorgridcolor\": \"white\", \"startlinecolor\": \"#2a3f5f\"}, \"baxis\": {\"endlinecolor\": \"#2a3f5f\", \"gridcolor\": \"white\", \"linecolor\": \"white\", \"minorgridcolor\": \"white\", \"startlinecolor\": \"#2a3f5f\"}, \"type\": \"carpet\"}], \"choropleth\": [{\"colorbar\": {\"outlinewidth\": 0, \"ticks\": \"\"}, \"type\": \"choropleth\"}], \"contour\": [{\"colorbar\": {\"outlinewidth\": 0, \"ticks\": \"\"}, \"colorscale\": [[0.0, \"#0d0887\"], [0.1111111111111111, \"#46039f\"], [0.2222222222222222, \"#7201a8\"], [0.3333333333333333, \"#9c179e\"], [0.4444444444444444, \"#bd3786\"], [0.5555555555555556, \"#d8576b\"], [0.6666666666666666, \"#ed7953\"], [0.7777777777777778, \"#fb9f3a\"], [0.8888888888888888, \"#fdca26\"], [1.0, \"#f0f921\"]], \"type\": \"contour\"}], \"contourcarpet\": [{\"colorbar\": {\"outlinewidth\": 0, \"ticks\": \"\"}, \"type\": \"contourcarpet\"}], \"heatmap\": [{\"colorbar\": {\"outlinewidth\": 0, \"ticks\": \"\"}, \"colorscale\": [[0.0, \"#0d0887\"], [0.1111111111111111, \"#46039f\"], [0.2222222222222222, \"#7201a8\"], [0.3333333333333333, \"#9c179e\"], [0.4444444444444444, \"#bd3786\"], [0.5555555555555556, \"#d8576b\"], [0.6666666666666666, \"#ed7953\"], [0.7777777777777778, \"#fb9f3a\"], [0.8888888888888888, \"#fdca26\"], [1.0, \"#f0f921\"]], \"type\": \"heatmap\"}], \"heatmapgl\": [{\"colorbar\": {\"outlinewidth\": 0, \"ticks\": \"\"}, \"colorscale\": [[0.0, \"#0d0887\"], [0.1111111111111111, \"#46039f\"], [0.2222222222222222, \"#7201a8\"], [0.3333333333333333, \"#9c179e\"], [0.4444444444444444, \"#bd3786\"], [0.5555555555555556, \"#d8576b\"], [0.6666666666666666, \"#ed7953\"], [0.7777777777777778, \"#fb9f3a\"], [0.8888888888888888, \"#fdca26\"], [1.0, \"#f0f921\"]], \"type\": \"heatmapgl\"}], \"histogram\": [{\"marker\": {\"colorbar\": {\"outlinewidth\": 0, \"ticks\": \"\"}}, \"type\": \"histogram\"}], \"histogram2d\": [{\"colorbar\": {\"outlinewidth\": 0, \"ticks\": \"\"}, \"colorscale\": [[0.0, \"#0d0887\"], [0.1111111111111111, \"#46039f\"], [0.2222222222222222, \"#7201a8\"], [0.3333333333333333, \"#9c179e\"], [0.4444444444444444, \"#bd3786\"], [0.5555555555555556, \"#d8576b\"], [0.6666666666666666, \"#ed7953\"], [0.7777777777777778, \"#fb9f3a\"], [0.8888888888888888, \"#fdca26\"], [1.0, \"#f0f921\"]], \"type\": \"histogram2d\"}], \"histogram2dcontour\": [{\"colorbar\": {\"outlinewidth\": 0, \"ticks\": \"\"}, \"colorscale\": [[0.0, \"#0d0887\"], [0.1111111111111111, \"#46039f\"], [0.2222222222222222, \"#7201a8\"], [0.3333333333333333, \"#9c179e\"], [0.4444444444444444, \"#bd3786\"], [0.5555555555555556, \"#d8576b\"], [0.6666666666666666, \"#ed7953\"], [0.7777777777777778, \"#fb9f3a\"], [0.8888888888888888, \"#fdca26\"], [1.0, \"#f0f921\"]], \"type\": \"histogram2dcontour\"}], \"mesh3d\": [{\"colorbar\": {\"outlinewidth\": 0, \"ticks\": \"\"}, \"type\": \"mesh3d\"}], \"parcoords\": [{\"line\": {\"colorbar\": {\"outlinewidth\": 0, \"ticks\": \"\"}}, \"type\": \"parcoords\"}], \"pie\": [{\"automargin\": true, \"type\": \"pie\"}], \"scatter\": [{\"marker\": {\"colorbar\": {\"outlinewidth\": 0, \"ticks\": \"\"}}, \"type\": \"scatter\"}], \"scatter3d\": [{\"line\": {\"colorbar\": {\"outlinewidth\": 0, \"ticks\": \"\"}}, \"marker\": {\"colorbar\": {\"outlinewidth\": 0, \"ticks\": \"\"}}, \"type\": \"scatter3d\"}], \"scattercarpet\": [{\"marker\": {\"colorbar\": {\"outlinewidth\": 0, \"ticks\": \"\"}}, \"type\": \"scattercarpet\"}], \"scattergeo\": [{\"marker\": {\"colorbar\": {\"outlinewidth\": 0, \"ticks\": \"\"}}, \"type\": \"scattergeo\"}], \"scattergl\": [{\"marker\": {\"colorbar\": {\"outlinewidth\": 0, \"ticks\": \"\"}}, \"type\": \"scattergl\"}], \"scattermapbox\": [{\"marker\": {\"colorbar\": {\"outlinewidth\": 0, \"ticks\": \"\"}}, \"type\": \"scattermapbox\"}], \"scatterpolar\": [{\"marker\": {\"colorbar\": {\"outlinewidth\": 0, \"ticks\": \"\"}}, \"type\": \"scatterpolar\"}], \"scatterpolargl\": [{\"marker\": {\"colorbar\": {\"outlinewidth\": 0, \"ticks\": \"\"}}, \"type\": \"scatterpolargl\"}], \"scatterternary\": [{\"marker\": {\"colorbar\": {\"outlinewidth\": 0, \"ticks\": \"\"}}, \"type\": \"scatterternary\"}], \"surface\": [{\"colorbar\": {\"outlinewidth\": 0, \"ticks\": \"\"}, \"colorscale\": [[0.0, \"#0d0887\"], [0.1111111111111111, \"#46039f\"], [0.2222222222222222, \"#7201a8\"], [0.3333333333333333, \"#9c179e\"], [0.4444444444444444, \"#bd3786\"], [0.5555555555555556, \"#d8576b\"], [0.6666666666666666, \"#ed7953\"], [0.7777777777777778, \"#fb9f3a\"], [0.8888888888888888, \"#fdca26\"], [1.0, \"#f0f921\"]], \"type\": \"surface\"}], \"table\": [{\"cells\": {\"fill\": {\"color\": \"#EBF0F8\"}, \"line\": {\"color\": \"white\"}}, \"header\": {\"fill\": {\"color\": \"#C8D4E3\"}, \"line\": {\"color\": \"white\"}}, \"type\": \"table\"}]}, \"layout\": {\"annotationdefaults\": {\"arrowcolor\": \"#2a3f5f\", \"arrowhead\": 0, \"arrowwidth\": 1}, \"autotypenumbers\": \"strict\", \"coloraxis\": {\"colorbar\": {\"outlinewidth\": 0, \"ticks\": \"\"}}, \"colorscale\": {\"diverging\": [[0, \"#8e0152\"], [0.1, \"#c51b7d\"], [0.2, \"#de77ae\"], [0.3, \"#f1b6da\"], [0.4, \"#fde0ef\"], [0.5, \"#f7f7f7\"], [0.6, \"#e6f5d0\"], [0.7, \"#b8e186\"], [0.8, \"#7fbc41\"], [0.9, \"#4d9221\"], [1, \"#276419\"]], \"sequential\": [[0.0, \"#0d0887\"], [0.1111111111111111, \"#46039f\"], [0.2222222222222222, \"#7201a8\"], [0.3333333333333333, \"#9c179e\"], [0.4444444444444444, \"#bd3786\"], [0.5555555555555556, \"#d8576b\"], [0.6666666666666666, \"#ed7953\"], [0.7777777777777778, \"#fb9f3a\"], [0.8888888888888888, \"#fdca26\"], [1.0, \"#f0f921\"]], \"sequentialminus\": [[0.0, \"#0d0887\"], [0.1111111111111111, \"#46039f\"], [0.2222222222222222, \"#7201a8\"], [0.3333333333333333, \"#9c179e\"], [0.4444444444444444, \"#bd3786\"], [0.5555555555555556, \"#d8576b\"], [0.6666666666666666, \"#ed7953\"], [0.7777777777777778, \"#fb9f3a\"], [0.8888888888888888, \"#fdca26\"], [1.0, \"#f0f921\"]]}, \"colorway\": [\"#636efa\", \"#EF553B\", \"#00cc96\", \"#ab63fa\", \"#FFA15A\", \"#19d3f3\", \"#FF6692\", \"#B6E880\", \"#FF97FF\", \"#FECB52\"], \"font\": {\"color\": \"#2a3f5f\"}, \"geo\": {\"bgcolor\": \"white\", \"lakecolor\": \"white\", \"landcolor\": \"#E5ECF6\", \"showlakes\": true, \"showland\": true, \"subunitcolor\": \"white\"}, \"hoverlabel\": {\"align\": \"left\"}, \"hovermode\": \"closest\", \"mapbox\": {\"style\": \"light\"}, \"paper_bgcolor\": \"white\", \"plot_bgcolor\": \"#E5ECF6\", \"polar\": {\"angularaxis\": {\"gridcolor\": \"white\", \"linecolor\": \"white\", \"ticks\": \"\"}, \"bgcolor\": \"#E5ECF6\", \"radialaxis\": {\"gridcolor\": \"white\", \"linecolor\": \"white\", \"ticks\": \"\"}}, \"scene\": {\"xaxis\": {\"backgroundcolor\": \"#E5ECF6\", \"gridcolor\": \"white\", \"gridwidth\": 2, \"linecolor\": \"white\", \"showbackground\": true, \"ticks\": \"\", \"zerolinecolor\": \"white\"}, \"yaxis\": {\"backgroundcolor\": \"#E5ECF6\", \"gridcolor\": \"white\", \"gridwidth\": 2, \"linecolor\": \"white\", \"showbackground\": true, \"ticks\": \"\", \"zerolinecolor\": \"white\"}, \"zaxis\": {\"backgroundcolor\": \"#E5ECF6\", \"gridcolor\": \"white\", \"gridwidth\": 2, \"linecolor\": \"white\", \"showbackground\": true, \"ticks\": \"\", \"zerolinecolor\": \"white\"}}, \"shapedefaults\": {\"line\": {\"color\": \"#2a3f5f\"}}, \"ternary\": {\"aaxis\": {\"gridcolor\": \"white\", \"linecolor\": \"white\", \"ticks\": \"\"}, \"baxis\": {\"gridcolor\": \"white\", \"linecolor\": \"white\", \"ticks\": \"\"}, \"bgcolor\": \"#E5ECF6\", \"caxis\": {\"gridcolor\": \"white\", \"linecolor\": \"white\", \"ticks\": \"\"}}, \"title\": {\"x\": 0.05}, \"xaxis\": {\"automargin\": true, \"gridcolor\": \"white\", \"linecolor\": \"white\", \"ticks\": \"\", \"title\": {\"standoff\": 15}, \"zerolinecolor\": \"white\", \"zerolinewidth\": 2}, \"yaxis\": {\"automargin\": true, \"gridcolor\": \"white\", \"linecolor\": \"white\", \"ticks\": \"\", \"title\": {\"standoff\": 15}, \"zerolinecolor\": \"white\", \"zerolinewidth\": 2}}}, \"title\": {\"font\": {\"color\": \"#4D5663\"}}, \"xaxis\": {\"gridcolor\": \"#E1E5ED\", \"showgrid\": true, \"tickfont\": {\"color\": \"#4D5663\"}, \"title\": {\"font\": {\"color\": \"#4D5663\"}, \"text\": \"\"}, \"zerolinecolor\": \"#E1E5ED\"}, \"yaxis\": {\"gridcolor\": \"#E1E5ED\", \"showgrid\": true, \"tickfont\": {\"color\": \"#4D5663\"}, \"title\": {\"font\": {\"color\": \"#4D5663\"}, \"text\": \"\"}, \"zerolinecolor\": \"#E1E5ED\"}},                        {\"showLink\": true, \"linkText\": \"Export to plot.ly\", \"plotlyServerURL\": \"https://plot.ly\", \"responsive\": true}                    ).then(function(){\n",
       "                            \n",
       "var gd = document.getElementById('3678e4e0-1d71-41ce-803a-81ea1eb896c9');\n",
       "var x = new MutationObserver(function (mutations, observer) {{\n",
       "        var display = window.getComputedStyle(gd).display;\n",
       "        if (!display || display === 'none') {{\n",
       "            console.log([gd, 'removed!']);\n",
       "            Plotly.purge(gd);\n",
       "            observer.disconnect();\n",
       "        }}\n",
       "}});\n",
       "\n",
       "// Listen for the removal of the full notebook cells\n",
       "var notebookContainer = gd.closest('#notebook-container');\n",
       "if (notebookContainer) {{\n",
       "    x.observe(notebookContainer, {childList: true});\n",
       "}}\n",
       "\n",
       "// Listen for the clearing of the current output cell\n",
       "var outputEl = gd.closest('.output');\n",
       "if (outputEl) {{\n",
       "    x.observe(outputEl, {childList: true});\n",
       "}}\n",
       "\n",
       "                        })                };                });            </script>        </div>"
      ]
     },
     "metadata": {},
     "output_type": "display_data"
    }
   ],
   "source": [
    "df.iplot(kind='scatter',x='A',y='B',mode='markers')\n",
    "#double clicks to zoom out"
   ]
  },
  {
   "cell_type": "code",
   "execution_count": 21,
   "metadata": {},
   "outputs": [
    {
     "data": {
      "application/vnd.plotly.v1+json": {
       "config": {
        "linkText": "Export to plot.ly",
        "plotlyServerURL": "https://plot.ly",
        "showLink": true
       },
       "data": [
        {
         "marker": {
          "color": "rgba(255, 153, 51, 0.6)",
          "line": {
           "color": "rgba(255, 153, 51, 1.0)",
           "width": 1
          }
         },
         "name": "Value",
         "orientation": "v",
         "text": "",
         "type": "bar",
         "x": [
          "A",
          "B",
          "C"
         ],
         "y": [
          32,
          43,
          50
         ]
        }
       ],
       "layout": {
        "legend": {
         "bgcolor": "#F5F6F9",
         "font": {
          "color": "#4D5663"
         }
        },
        "paper_bgcolor": "#F5F6F9",
        "plot_bgcolor": "#F5F6F9",
        "template": {
         "data": {
          "bar": [
           {
            "error_x": {
             "color": "#2a3f5f"
            },
            "error_y": {
             "color": "#2a3f5f"
            },
            "marker": {
             "line": {
              "color": "#E5ECF6",
              "width": 0.5
             }
            },
            "type": "bar"
           }
          ],
          "barpolar": [
           {
            "marker": {
             "line": {
              "color": "#E5ECF6",
              "width": 0.5
             }
            },
            "type": "barpolar"
           }
          ],
          "carpet": [
           {
            "aaxis": {
             "endlinecolor": "#2a3f5f",
             "gridcolor": "white",
             "linecolor": "white",
             "minorgridcolor": "white",
             "startlinecolor": "#2a3f5f"
            },
            "baxis": {
             "endlinecolor": "#2a3f5f",
             "gridcolor": "white",
             "linecolor": "white",
             "minorgridcolor": "white",
             "startlinecolor": "#2a3f5f"
            },
            "type": "carpet"
           }
          ],
          "choropleth": [
           {
            "colorbar": {
             "outlinewidth": 0,
             "ticks": ""
            },
            "type": "choropleth"
           }
          ],
          "contour": [
           {
            "colorbar": {
             "outlinewidth": 0,
             "ticks": ""
            },
            "colorscale": [
             [
              0,
              "#0d0887"
             ],
             [
              0.1111111111111111,
              "#46039f"
             ],
             [
              0.2222222222222222,
              "#7201a8"
             ],
             [
              0.3333333333333333,
              "#9c179e"
             ],
             [
              0.4444444444444444,
              "#bd3786"
             ],
             [
              0.5555555555555556,
              "#d8576b"
             ],
             [
              0.6666666666666666,
              "#ed7953"
             ],
             [
              0.7777777777777778,
              "#fb9f3a"
             ],
             [
              0.8888888888888888,
              "#fdca26"
             ],
             [
              1,
              "#f0f921"
             ]
            ],
            "type": "contour"
           }
          ],
          "contourcarpet": [
           {
            "colorbar": {
             "outlinewidth": 0,
             "ticks": ""
            },
            "type": "contourcarpet"
           }
          ],
          "heatmap": [
           {
            "colorbar": {
             "outlinewidth": 0,
             "ticks": ""
            },
            "colorscale": [
             [
              0,
              "#0d0887"
             ],
             [
              0.1111111111111111,
              "#46039f"
             ],
             [
              0.2222222222222222,
              "#7201a8"
             ],
             [
              0.3333333333333333,
              "#9c179e"
             ],
             [
              0.4444444444444444,
              "#bd3786"
             ],
             [
              0.5555555555555556,
              "#d8576b"
             ],
             [
              0.6666666666666666,
              "#ed7953"
             ],
             [
              0.7777777777777778,
              "#fb9f3a"
             ],
             [
              0.8888888888888888,
              "#fdca26"
             ],
             [
              1,
              "#f0f921"
             ]
            ],
            "type": "heatmap"
           }
          ],
          "heatmapgl": [
           {
            "colorbar": {
             "outlinewidth": 0,
             "ticks": ""
            },
            "colorscale": [
             [
              0,
              "#0d0887"
             ],
             [
              0.1111111111111111,
              "#46039f"
             ],
             [
              0.2222222222222222,
              "#7201a8"
             ],
             [
              0.3333333333333333,
              "#9c179e"
             ],
             [
              0.4444444444444444,
              "#bd3786"
             ],
             [
              0.5555555555555556,
              "#d8576b"
             ],
             [
              0.6666666666666666,
              "#ed7953"
             ],
             [
              0.7777777777777778,
              "#fb9f3a"
             ],
             [
              0.8888888888888888,
              "#fdca26"
             ],
             [
              1,
              "#f0f921"
             ]
            ],
            "type": "heatmapgl"
           }
          ],
          "histogram": [
           {
            "marker": {
             "colorbar": {
              "outlinewidth": 0,
              "ticks": ""
             }
            },
            "type": "histogram"
           }
          ],
          "histogram2d": [
           {
            "colorbar": {
             "outlinewidth": 0,
             "ticks": ""
            },
            "colorscale": [
             [
              0,
              "#0d0887"
             ],
             [
              0.1111111111111111,
              "#46039f"
             ],
             [
              0.2222222222222222,
              "#7201a8"
             ],
             [
              0.3333333333333333,
              "#9c179e"
             ],
             [
              0.4444444444444444,
              "#bd3786"
             ],
             [
              0.5555555555555556,
              "#d8576b"
             ],
             [
              0.6666666666666666,
              "#ed7953"
             ],
             [
              0.7777777777777778,
              "#fb9f3a"
             ],
             [
              0.8888888888888888,
              "#fdca26"
             ],
             [
              1,
              "#f0f921"
             ]
            ],
            "type": "histogram2d"
           }
          ],
          "histogram2dcontour": [
           {
            "colorbar": {
             "outlinewidth": 0,
             "ticks": ""
            },
            "colorscale": [
             [
              0,
              "#0d0887"
             ],
             [
              0.1111111111111111,
              "#46039f"
             ],
             [
              0.2222222222222222,
              "#7201a8"
             ],
             [
              0.3333333333333333,
              "#9c179e"
             ],
             [
              0.4444444444444444,
              "#bd3786"
             ],
             [
              0.5555555555555556,
              "#d8576b"
             ],
             [
              0.6666666666666666,
              "#ed7953"
             ],
             [
              0.7777777777777778,
              "#fb9f3a"
             ],
             [
              0.8888888888888888,
              "#fdca26"
             ],
             [
              1,
              "#f0f921"
             ]
            ],
            "type": "histogram2dcontour"
           }
          ],
          "mesh3d": [
           {
            "colorbar": {
             "outlinewidth": 0,
             "ticks": ""
            },
            "type": "mesh3d"
           }
          ],
          "parcoords": [
           {
            "line": {
             "colorbar": {
              "outlinewidth": 0,
              "ticks": ""
             }
            },
            "type": "parcoords"
           }
          ],
          "pie": [
           {
            "automargin": true,
            "type": "pie"
           }
          ],
          "scatter": [
           {
            "marker": {
             "colorbar": {
              "outlinewidth": 0,
              "ticks": ""
             }
            },
            "type": "scatter"
           }
          ],
          "scatter3d": [
           {
            "line": {
             "colorbar": {
              "outlinewidth": 0,
              "ticks": ""
             }
            },
            "marker": {
             "colorbar": {
              "outlinewidth": 0,
              "ticks": ""
             }
            },
            "type": "scatter3d"
           }
          ],
          "scattercarpet": [
           {
            "marker": {
             "colorbar": {
              "outlinewidth": 0,
              "ticks": ""
             }
            },
            "type": "scattercarpet"
           }
          ],
          "scattergeo": [
           {
            "marker": {
             "colorbar": {
              "outlinewidth": 0,
              "ticks": ""
             }
            },
            "type": "scattergeo"
           }
          ],
          "scattergl": [
           {
            "marker": {
             "colorbar": {
              "outlinewidth": 0,
              "ticks": ""
             }
            },
            "type": "scattergl"
           }
          ],
          "scattermapbox": [
           {
            "marker": {
             "colorbar": {
              "outlinewidth": 0,
              "ticks": ""
             }
            },
            "type": "scattermapbox"
           }
          ],
          "scatterpolar": [
           {
            "marker": {
             "colorbar": {
              "outlinewidth": 0,
              "ticks": ""
             }
            },
            "type": "scatterpolar"
           }
          ],
          "scatterpolargl": [
           {
            "marker": {
             "colorbar": {
              "outlinewidth": 0,
              "ticks": ""
             }
            },
            "type": "scatterpolargl"
           }
          ],
          "scatterternary": [
           {
            "marker": {
             "colorbar": {
              "outlinewidth": 0,
              "ticks": ""
             }
            },
            "type": "scatterternary"
           }
          ],
          "surface": [
           {
            "colorbar": {
             "outlinewidth": 0,
             "ticks": ""
            },
            "colorscale": [
             [
              0,
              "#0d0887"
             ],
             [
              0.1111111111111111,
              "#46039f"
             ],
             [
              0.2222222222222222,
              "#7201a8"
             ],
             [
              0.3333333333333333,
              "#9c179e"
             ],
             [
              0.4444444444444444,
              "#bd3786"
             ],
             [
              0.5555555555555556,
              "#d8576b"
             ],
             [
              0.6666666666666666,
              "#ed7953"
             ],
             [
              0.7777777777777778,
              "#fb9f3a"
             ],
             [
              0.8888888888888888,
              "#fdca26"
             ],
             [
              1,
              "#f0f921"
             ]
            ],
            "type": "surface"
           }
          ],
          "table": [
           {
            "cells": {
             "fill": {
              "color": "#EBF0F8"
             },
             "line": {
              "color": "white"
             }
            },
            "header": {
             "fill": {
              "color": "#C8D4E3"
             },
             "line": {
              "color": "white"
             }
            },
            "type": "table"
           }
          ]
         },
         "layout": {
          "annotationdefaults": {
           "arrowcolor": "#2a3f5f",
           "arrowhead": 0,
           "arrowwidth": 1
          },
          "autotypenumbers": "strict",
          "coloraxis": {
           "colorbar": {
            "outlinewidth": 0,
            "ticks": ""
           }
          },
          "colorscale": {
           "diverging": [
            [
             0,
             "#8e0152"
            ],
            [
             0.1,
             "#c51b7d"
            ],
            [
             0.2,
             "#de77ae"
            ],
            [
             0.3,
             "#f1b6da"
            ],
            [
             0.4,
             "#fde0ef"
            ],
            [
             0.5,
             "#f7f7f7"
            ],
            [
             0.6,
             "#e6f5d0"
            ],
            [
             0.7,
             "#b8e186"
            ],
            [
             0.8,
             "#7fbc41"
            ],
            [
             0.9,
             "#4d9221"
            ],
            [
             1,
             "#276419"
            ]
           ],
           "sequential": [
            [
             0,
             "#0d0887"
            ],
            [
             0.1111111111111111,
             "#46039f"
            ],
            [
             0.2222222222222222,
             "#7201a8"
            ],
            [
             0.3333333333333333,
             "#9c179e"
            ],
            [
             0.4444444444444444,
             "#bd3786"
            ],
            [
             0.5555555555555556,
             "#d8576b"
            ],
            [
             0.6666666666666666,
             "#ed7953"
            ],
            [
             0.7777777777777778,
             "#fb9f3a"
            ],
            [
             0.8888888888888888,
             "#fdca26"
            ],
            [
             1,
             "#f0f921"
            ]
           ],
           "sequentialminus": [
            [
             0,
             "#0d0887"
            ],
            [
             0.1111111111111111,
             "#46039f"
            ],
            [
             0.2222222222222222,
             "#7201a8"
            ],
            [
             0.3333333333333333,
             "#9c179e"
            ],
            [
             0.4444444444444444,
             "#bd3786"
            ],
            [
             0.5555555555555556,
             "#d8576b"
            ],
            [
             0.6666666666666666,
             "#ed7953"
            ],
            [
             0.7777777777777778,
             "#fb9f3a"
            ],
            [
             0.8888888888888888,
             "#fdca26"
            ],
            [
             1,
             "#f0f921"
            ]
           ]
          },
          "colorway": [
           "#636efa",
           "#EF553B",
           "#00cc96",
           "#ab63fa",
           "#FFA15A",
           "#19d3f3",
           "#FF6692",
           "#B6E880",
           "#FF97FF",
           "#FECB52"
          ],
          "font": {
           "color": "#2a3f5f"
          },
          "geo": {
           "bgcolor": "white",
           "lakecolor": "white",
           "landcolor": "#E5ECF6",
           "showlakes": true,
           "showland": true,
           "subunitcolor": "white"
          },
          "hoverlabel": {
           "align": "left"
          },
          "hovermode": "closest",
          "mapbox": {
           "style": "light"
          },
          "paper_bgcolor": "white",
          "plot_bgcolor": "#E5ECF6",
          "polar": {
           "angularaxis": {
            "gridcolor": "white",
            "linecolor": "white",
            "ticks": ""
           },
           "bgcolor": "#E5ECF6",
           "radialaxis": {
            "gridcolor": "white",
            "linecolor": "white",
            "ticks": ""
           }
          },
          "scene": {
           "xaxis": {
            "backgroundcolor": "#E5ECF6",
            "gridcolor": "white",
            "gridwidth": 2,
            "linecolor": "white",
            "showbackground": true,
            "ticks": "",
            "zerolinecolor": "white"
           },
           "yaxis": {
            "backgroundcolor": "#E5ECF6",
            "gridcolor": "white",
            "gridwidth": 2,
            "linecolor": "white",
            "showbackground": true,
            "ticks": "",
            "zerolinecolor": "white"
           },
           "zaxis": {
            "backgroundcolor": "#E5ECF6",
            "gridcolor": "white",
            "gridwidth": 2,
            "linecolor": "white",
            "showbackground": true,
            "ticks": "",
            "zerolinecolor": "white"
           }
          },
          "shapedefaults": {
           "line": {
            "color": "#2a3f5f"
           }
          },
          "ternary": {
           "aaxis": {
            "gridcolor": "white",
            "linecolor": "white",
            "ticks": ""
           },
           "baxis": {
            "gridcolor": "white",
            "linecolor": "white",
            "ticks": ""
           },
           "bgcolor": "#E5ECF6",
           "caxis": {
            "gridcolor": "white",
            "linecolor": "white",
            "ticks": ""
           }
          },
          "title": {
           "x": 0.05
          },
          "xaxis": {
           "automargin": true,
           "gridcolor": "white",
           "linecolor": "white",
           "ticks": "",
           "title": {
            "standoff": 15
           },
           "zerolinecolor": "white",
           "zerolinewidth": 2
          },
          "yaxis": {
           "automargin": true,
           "gridcolor": "white",
           "linecolor": "white",
           "ticks": "",
           "title": {
            "standoff": 15
           },
           "zerolinecolor": "white",
           "zerolinewidth": 2
          }
         }
        },
        "title": {
         "font": {
          "color": "#4D5663"
         }
        },
        "xaxis": {
         "gridcolor": "#E1E5ED",
         "showgrid": true,
         "tickfont": {
          "color": "#4D5663"
         },
         "title": {
          "font": {
           "color": "#4D5663"
          },
          "text": ""
         },
         "zerolinecolor": "#E1E5ED"
        },
        "yaxis": {
         "gridcolor": "#E1E5ED",
         "showgrid": true,
         "tickfont": {
          "color": "#4D5663"
         },
         "title": {
          "font": {
           "color": "#4D5663"
          },
          "text": ""
         },
         "zerolinecolor": "#E1E5ED"
        }
       }
      },
      "text/html": [
       "<div>                            <div id=\"6ff8fb69-5440-4efa-88c6-baab0bca9a02\" class=\"plotly-graph-div\" style=\"height:525px; width:100%;\"></div>            <script type=\"text/javascript\">                require([\"plotly\"], function(Plotly) {                    window.PLOTLYENV=window.PLOTLYENV || {};\n",
       "                    window.PLOTLYENV.BASE_URL='https://plot.ly';                                    if (document.getElementById(\"6ff8fb69-5440-4efa-88c6-baab0bca9a02\")) {                    Plotly.newPlot(                        \"6ff8fb69-5440-4efa-88c6-baab0bca9a02\",                        [{\"marker\": {\"color\": \"rgba(255, 153, 51, 0.6)\", \"line\": {\"color\": \"rgba(255, 153, 51, 1.0)\", \"width\": 1}}, \"name\": \"Value\", \"orientation\": \"v\", \"text\": \"\", \"type\": \"bar\", \"x\": [\"A\", \"B\", \"C\"], \"y\": [32, 43, 50]}],                        {\"legend\": {\"bgcolor\": \"#F5F6F9\", \"font\": {\"color\": \"#4D5663\"}}, \"paper_bgcolor\": \"#F5F6F9\", \"plot_bgcolor\": \"#F5F6F9\", \"template\": {\"data\": {\"bar\": [{\"error_x\": {\"color\": \"#2a3f5f\"}, \"error_y\": {\"color\": \"#2a3f5f\"}, \"marker\": {\"line\": {\"color\": \"#E5ECF6\", \"width\": 0.5}}, \"type\": \"bar\"}], \"barpolar\": [{\"marker\": {\"line\": {\"color\": \"#E5ECF6\", \"width\": 0.5}}, \"type\": \"barpolar\"}], \"carpet\": [{\"aaxis\": {\"endlinecolor\": \"#2a3f5f\", \"gridcolor\": \"white\", \"linecolor\": \"white\", \"minorgridcolor\": \"white\", \"startlinecolor\": \"#2a3f5f\"}, \"baxis\": {\"endlinecolor\": \"#2a3f5f\", \"gridcolor\": \"white\", \"linecolor\": \"white\", \"minorgridcolor\": \"white\", \"startlinecolor\": \"#2a3f5f\"}, \"type\": \"carpet\"}], \"choropleth\": [{\"colorbar\": {\"outlinewidth\": 0, \"ticks\": \"\"}, \"type\": \"choropleth\"}], \"contour\": [{\"colorbar\": {\"outlinewidth\": 0, \"ticks\": \"\"}, \"colorscale\": [[0.0, \"#0d0887\"], [0.1111111111111111, \"#46039f\"], [0.2222222222222222, \"#7201a8\"], [0.3333333333333333, \"#9c179e\"], [0.4444444444444444, \"#bd3786\"], [0.5555555555555556, \"#d8576b\"], [0.6666666666666666, \"#ed7953\"], [0.7777777777777778, \"#fb9f3a\"], [0.8888888888888888, \"#fdca26\"], [1.0, \"#f0f921\"]], \"type\": \"contour\"}], \"contourcarpet\": [{\"colorbar\": {\"outlinewidth\": 0, \"ticks\": \"\"}, \"type\": \"contourcarpet\"}], \"heatmap\": [{\"colorbar\": {\"outlinewidth\": 0, \"ticks\": \"\"}, \"colorscale\": [[0.0, \"#0d0887\"], [0.1111111111111111, \"#46039f\"], [0.2222222222222222, \"#7201a8\"], [0.3333333333333333, \"#9c179e\"], [0.4444444444444444, \"#bd3786\"], [0.5555555555555556, \"#d8576b\"], [0.6666666666666666, \"#ed7953\"], [0.7777777777777778, \"#fb9f3a\"], [0.8888888888888888, \"#fdca26\"], [1.0, \"#f0f921\"]], \"type\": \"heatmap\"}], \"heatmapgl\": [{\"colorbar\": {\"outlinewidth\": 0, \"ticks\": \"\"}, \"colorscale\": [[0.0, \"#0d0887\"], [0.1111111111111111, \"#46039f\"], [0.2222222222222222, \"#7201a8\"], [0.3333333333333333, \"#9c179e\"], [0.4444444444444444, \"#bd3786\"], [0.5555555555555556, \"#d8576b\"], [0.6666666666666666, \"#ed7953\"], [0.7777777777777778, \"#fb9f3a\"], [0.8888888888888888, \"#fdca26\"], [1.0, \"#f0f921\"]], \"type\": \"heatmapgl\"}], \"histogram\": [{\"marker\": {\"colorbar\": {\"outlinewidth\": 0, \"ticks\": \"\"}}, \"type\": \"histogram\"}], \"histogram2d\": [{\"colorbar\": {\"outlinewidth\": 0, \"ticks\": \"\"}, \"colorscale\": [[0.0, \"#0d0887\"], [0.1111111111111111, \"#46039f\"], [0.2222222222222222, \"#7201a8\"], [0.3333333333333333, \"#9c179e\"], [0.4444444444444444, \"#bd3786\"], [0.5555555555555556, \"#d8576b\"], [0.6666666666666666, \"#ed7953\"], [0.7777777777777778, \"#fb9f3a\"], [0.8888888888888888, \"#fdca26\"], [1.0, \"#f0f921\"]], \"type\": \"histogram2d\"}], \"histogram2dcontour\": [{\"colorbar\": {\"outlinewidth\": 0, \"ticks\": \"\"}, \"colorscale\": [[0.0, \"#0d0887\"], [0.1111111111111111, \"#46039f\"], [0.2222222222222222, \"#7201a8\"], [0.3333333333333333, \"#9c179e\"], [0.4444444444444444, \"#bd3786\"], [0.5555555555555556, \"#d8576b\"], [0.6666666666666666, \"#ed7953\"], [0.7777777777777778, \"#fb9f3a\"], [0.8888888888888888, \"#fdca26\"], [1.0, \"#f0f921\"]], \"type\": \"histogram2dcontour\"}], \"mesh3d\": [{\"colorbar\": {\"outlinewidth\": 0, \"ticks\": \"\"}, \"type\": \"mesh3d\"}], \"parcoords\": [{\"line\": {\"colorbar\": {\"outlinewidth\": 0, \"ticks\": \"\"}}, \"type\": \"parcoords\"}], \"pie\": [{\"automargin\": true, \"type\": \"pie\"}], \"scatter\": [{\"marker\": {\"colorbar\": {\"outlinewidth\": 0, \"ticks\": \"\"}}, \"type\": \"scatter\"}], \"scatter3d\": [{\"line\": {\"colorbar\": {\"outlinewidth\": 0, \"ticks\": \"\"}}, \"marker\": {\"colorbar\": {\"outlinewidth\": 0, \"ticks\": \"\"}}, \"type\": \"scatter3d\"}], \"scattercarpet\": [{\"marker\": {\"colorbar\": {\"outlinewidth\": 0, \"ticks\": \"\"}}, \"type\": \"scattercarpet\"}], \"scattergeo\": [{\"marker\": {\"colorbar\": {\"outlinewidth\": 0, \"ticks\": \"\"}}, \"type\": \"scattergeo\"}], \"scattergl\": [{\"marker\": {\"colorbar\": {\"outlinewidth\": 0, \"ticks\": \"\"}}, \"type\": \"scattergl\"}], \"scattermapbox\": [{\"marker\": {\"colorbar\": {\"outlinewidth\": 0, \"ticks\": \"\"}}, \"type\": \"scattermapbox\"}], \"scatterpolar\": [{\"marker\": {\"colorbar\": {\"outlinewidth\": 0, \"ticks\": \"\"}}, \"type\": \"scatterpolar\"}], \"scatterpolargl\": [{\"marker\": {\"colorbar\": {\"outlinewidth\": 0, \"ticks\": \"\"}}, \"type\": \"scatterpolargl\"}], \"scatterternary\": [{\"marker\": {\"colorbar\": {\"outlinewidth\": 0, \"ticks\": \"\"}}, \"type\": \"scatterternary\"}], \"surface\": [{\"colorbar\": {\"outlinewidth\": 0, \"ticks\": \"\"}, \"colorscale\": [[0.0, \"#0d0887\"], [0.1111111111111111, \"#46039f\"], [0.2222222222222222, \"#7201a8\"], [0.3333333333333333, \"#9c179e\"], [0.4444444444444444, \"#bd3786\"], [0.5555555555555556, \"#d8576b\"], [0.6666666666666666, \"#ed7953\"], [0.7777777777777778, \"#fb9f3a\"], [0.8888888888888888, \"#fdca26\"], [1.0, \"#f0f921\"]], \"type\": \"surface\"}], \"table\": [{\"cells\": {\"fill\": {\"color\": \"#EBF0F8\"}, \"line\": {\"color\": \"white\"}}, \"header\": {\"fill\": {\"color\": \"#C8D4E3\"}, \"line\": {\"color\": \"white\"}}, \"type\": \"table\"}]}, \"layout\": {\"annotationdefaults\": {\"arrowcolor\": \"#2a3f5f\", \"arrowhead\": 0, \"arrowwidth\": 1}, \"autotypenumbers\": \"strict\", \"coloraxis\": {\"colorbar\": {\"outlinewidth\": 0, \"ticks\": \"\"}}, \"colorscale\": {\"diverging\": [[0, \"#8e0152\"], [0.1, \"#c51b7d\"], [0.2, \"#de77ae\"], [0.3, \"#f1b6da\"], [0.4, \"#fde0ef\"], [0.5, \"#f7f7f7\"], [0.6, \"#e6f5d0\"], [0.7, \"#b8e186\"], [0.8, \"#7fbc41\"], [0.9, \"#4d9221\"], [1, \"#276419\"]], \"sequential\": [[0.0, \"#0d0887\"], [0.1111111111111111, \"#46039f\"], [0.2222222222222222, \"#7201a8\"], [0.3333333333333333, \"#9c179e\"], [0.4444444444444444, \"#bd3786\"], [0.5555555555555556, \"#d8576b\"], [0.6666666666666666, \"#ed7953\"], [0.7777777777777778, \"#fb9f3a\"], [0.8888888888888888, \"#fdca26\"], [1.0, \"#f0f921\"]], \"sequentialminus\": [[0.0, \"#0d0887\"], [0.1111111111111111, \"#46039f\"], [0.2222222222222222, \"#7201a8\"], [0.3333333333333333, \"#9c179e\"], [0.4444444444444444, \"#bd3786\"], [0.5555555555555556, \"#d8576b\"], [0.6666666666666666, \"#ed7953\"], [0.7777777777777778, \"#fb9f3a\"], [0.8888888888888888, \"#fdca26\"], [1.0, \"#f0f921\"]]}, \"colorway\": [\"#636efa\", \"#EF553B\", \"#00cc96\", \"#ab63fa\", \"#FFA15A\", \"#19d3f3\", \"#FF6692\", \"#B6E880\", \"#FF97FF\", \"#FECB52\"], \"font\": {\"color\": \"#2a3f5f\"}, \"geo\": {\"bgcolor\": \"white\", \"lakecolor\": \"white\", \"landcolor\": \"#E5ECF6\", \"showlakes\": true, \"showland\": true, \"subunitcolor\": \"white\"}, \"hoverlabel\": {\"align\": \"left\"}, \"hovermode\": \"closest\", \"mapbox\": {\"style\": \"light\"}, \"paper_bgcolor\": \"white\", \"plot_bgcolor\": \"#E5ECF6\", \"polar\": {\"angularaxis\": {\"gridcolor\": \"white\", \"linecolor\": \"white\", \"ticks\": \"\"}, \"bgcolor\": \"#E5ECF6\", \"radialaxis\": {\"gridcolor\": \"white\", \"linecolor\": \"white\", \"ticks\": \"\"}}, \"scene\": {\"xaxis\": {\"backgroundcolor\": \"#E5ECF6\", \"gridcolor\": \"white\", \"gridwidth\": 2, \"linecolor\": \"white\", \"showbackground\": true, \"ticks\": \"\", \"zerolinecolor\": \"white\"}, \"yaxis\": {\"backgroundcolor\": \"#E5ECF6\", \"gridcolor\": \"white\", \"gridwidth\": 2, \"linecolor\": \"white\", \"showbackground\": true, \"ticks\": \"\", \"zerolinecolor\": \"white\"}, \"zaxis\": {\"backgroundcolor\": \"#E5ECF6\", \"gridcolor\": \"white\", \"gridwidth\": 2, \"linecolor\": \"white\", \"showbackground\": true, \"ticks\": \"\", \"zerolinecolor\": \"white\"}}, \"shapedefaults\": {\"line\": {\"color\": \"#2a3f5f\"}}, \"ternary\": {\"aaxis\": {\"gridcolor\": \"white\", \"linecolor\": \"white\", \"ticks\": \"\"}, \"baxis\": {\"gridcolor\": \"white\", \"linecolor\": \"white\", \"ticks\": \"\"}, \"bgcolor\": \"#E5ECF6\", \"caxis\": {\"gridcolor\": \"white\", \"linecolor\": \"white\", \"ticks\": \"\"}}, \"title\": {\"x\": 0.05}, \"xaxis\": {\"automargin\": true, \"gridcolor\": \"white\", \"linecolor\": \"white\", \"ticks\": \"\", \"title\": {\"standoff\": 15}, \"zerolinecolor\": \"white\", \"zerolinewidth\": 2}, \"yaxis\": {\"automargin\": true, \"gridcolor\": \"white\", \"linecolor\": \"white\", \"ticks\": \"\", \"title\": {\"standoff\": 15}, \"zerolinecolor\": \"white\", \"zerolinewidth\": 2}}}, \"title\": {\"font\": {\"color\": \"#4D5663\"}}, \"xaxis\": {\"gridcolor\": \"#E1E5ED\", \"showgrid\": true, \"tickfont\": {\"color\": \"#4D5663\"}, \"title\": {\"font\": {\"color\": \"#4D5663\"}, \"text\": \"\"}, \"zerolinecolor\": \"#E1E5ED\"}, \"yaxis\": {\"gridcolor\": \"#E1E5ED\", \"showgrid\": true, \"tickfont\": {\"color\": \"#4D5663\"}, \"title\": {\"font\": {\"color\": \"#4D5663\"}, \"text\": \"\"}, \"zerolinecolor\": \"#E1E5ED\"}},                        {\"showLink\": true, \"linkText\": \"Export to plot.ly\", \"plotlyServerURL\": \"https://plot.ly\", \"responsive\": true}                    ).then(function(){\n",
       "                            \n",
       "var gd = document.getElementById('6ff8fb69-5440-4efa-88c6-baab0bca9a02');\n",
       "var x = new MutationObserver(function (mutations, observer) {{\n",
       "        var display = window.getComputedStyle(gd).display;\n",
       "        if (!display || display === 'none') {{\n",
       "            console.log([gd, 'removed!']);\n",
       "            Plotly.purge(gd);\n",
       "            observer.disconnect();\n",
       "        }}\n",
       "}});\n",
       "\n",
       "// Listen for the removal of the full notebook cells\n",
       "var notebookContainer = gd.closest('#notebook-container');\n",
       "if (notebookContainer) {{\n",
       "    x.observe(notebookContainer, {childList: true});\n",
       "}}\n",
       "\n",
       "// Listen for the clearing of the current output cell\n",
       "var outputEl = gd.closest('.output');\n",
       "if (outputEl) {{\n",
       "    x.observe(outputEl, {childList: true});\n",
       "}}\n",
       "\n",
       "                        })                };                });            </script>        </div>"
      ]
     },
     "metadata": {},
     "output_type": "display_data"
    }
   ],
   "source": [
    "df2.iplot(kind='bar',x='Category',y='Value')"
   ]
  },
  {
   "cell_type": "code",
   "execution_count": 23,
   "metadata": {},
   "outputs": [
    {
     "data": {
      "application/vnd.plotly.v1+json": {
       "config": {
        "linkText": "Export to plot.ly",
        "plotlyServerURL": "https://plot.ly",
        "showLink": true
       },
       "data": [
        {
         "marker": {
          "color": "rgba(255, 153, 51, 0.6)",
          "line": {
           "color": "rgba(255, 153, 51, 1.0)",
           "width": 1
          }
         },
         "name": "A",
         "orientation": "v",
         "text": "",
         "type": "bar",
         "x": [
          0,
          1,
          2,
          3,
          4,
          5,
          6,
          7,
          8,
          9,
          10,
          11,
          12,
          13,
          14,
          15,
          16,
          17,
          18,
          19,
          20,
          21,
          22,
          23,
          24,
          25,
          26,
          27,
          28,
          29,
          30,
          31,
          32,
          33,
          34,
          35,
          36,
          37,
          38,
          39,
          40,
          41,
          42,
          43,
          44,
          45,
          46,
          47,
          48,
          49,
          50,
          51,
          52,
          53,
          54,
          55,
          56,
          57,
          58,
          59,
          60,
          61,
          62,
          63,
          64,
          65,
          66,
          67,
          68,
          69,
          70,
          71,
          72,
          73,
          74,
          75,
          76,
          77,
          78,
          79,
          80,
          81,
          82,
          83,
          84,
          85,
          86,
          87,
          88,
          89,
          90,
          91,
          92,
          93,
          94,
          95,
          96,
          97,
          98,
          99
         ],
         "y": [
          -0.1601183780470847,
          0.15940940597672718,
          -0.8691414452109293,
          2.1010276114389423,
          0.17164077472576567,
          -0.3615969648072336,
          -1.4329312503554597,
          1.0348622009763033,
          -0.9530959678937821,
          -1.949144277250312,
          -0.653801018600976,
          -1.0586602896818622,
          0.28861617739230505,
          1.6481156904717285,
          0.5021988384451932,
          0.7419461664678879,
          0.17745499512664956,
          -0.38325620812446526,
          0.12849351472190346,
          0.15024354836000892,
          -1.9046735986048597,
          0.06729564255980032,
          1.3114167690497167,
          0.6532864418010814,
          0.7736641644900281,
          0.9710332051307252,
          -1.2950688683078926,
          -0.2330559856021781,
          -0.2506005785170448,
          0.8746518298457197,
          0.49012434927847653,
          1.952542960328725,
          1.422053288373496,
          -0.041017606165554964,
          -0.5696189873368337,
          1.3796194148641876,
          -0.9684850941850984,
          -0.6867169752967174,
          1.2175982302306936,
          -0.7950270858687128,
          -0.20268130839797435,
          -0.3166116775607073,
          0.013265786411123252,
          1.3609161101425622,
          0.918899536952606,
          0.8946799623180145,
          -0.32355619688753906,
          -0.26159337861282134,
          1.7316425076849074,
          0.18598089946101812,
          0.5735137879874297,
          0.5584074518494194,
          -0.39038838391341496,
          0.9879393225390422,
          2.5030105940459157,
          -0.48432032452495916,
          -0.41613166505421517,
          -1.3139722396678235,
          0.22869715598900986,
          -0.5435803703335473,
          2.487064416501825,
          -0.44198082209238426,
          -0.3539645120194969,
          0.27099557207341957,
          0.45250919764242253,
          -0.0576693407543129,
          -0.7573808849544862,
          -1.3875401356438606,
          0.5770513485881394,
          1.2340897966166007,
          1.014934806523684,
          0.1530954629770791,
          -1.0723060534055624,
          1.085507498157262,
          1.3346837122325887,
          -1.3698512217275174,
          -0.10433179640403041,
          -1.201928853898415,
          -0.30352824810029955,
          0.33826194670927395,
          -0.7785433241744303,
          -0.14302780228701797,
          0.6172268757774699,
          -1.5310619955784,
          -0.9632272022705074,
          0.8562948380132994,
          -0.137384953960321,
          -0.9653087534475998,
          -0.4426437998567408,
          0.5304095588563396,
          1.4850884827390285,
          0.1906684616642033,
          0.246574144712053,
          -0.2369541408221221,
          0.963784194598969,
          0.44074100274933714,
          0.546935093537091,
          -1.756855506983355,
          1.8244298964505592,
          -1.4031423867604629
         ]
        },
        {
         "marker": {
          "color": "rgba(55, 128, 191, 0.6)",
          "line": {
           "color": "rgba(55, 128, 191, 1.0)",
           "width": 1
          }
         },
         "name": "B",
         "orientation": "v",
         "text": "",
         "type": "bar",
         "x": [
          0,
          1,
          2,
          3,
          4,
          5,
          6,
          7,
          8,
          9,
          10,
          11,
          12,
          13,
          14,
          15,
          16,
          17,
          18,
          19,
          20,
          21,
          22,
          23,
          24,
          25,
          26,
          27,
          28,
          29,
          30,
          31,
          32,
          33,
          34,
          35,
          36,
          37,
          38,
          39,
          40,
          41,
          42,
          43,
          44,
          45,
          46,
          47,
          48,
          49,
          50,
          51,
          52,
          53,
          54,
          55,
          56,
          57,
          58,
          59,
          60,
          61,
          62,
          63,
          64,
          65,
          66,
          67,
          68,
          69,
          70,
          71,
          72,
          73,
          74,
          75,
          76,
          77,
          78,
          79,
          80,
          81,
          82,
          83,
          84,
          85,
          86,
          87,
          88,
          89,
          90,
          91,
          92,
          93,
          94,
          95,
          96,
          97,
          98,
          99
         ],
         "y": [
          -0.2644633545863186,
          1.5714302027771738,
          -0.022060694285092157,
          0.44695975606255306,
          1.6437621966592817,
          -2.1304958014639213,
          -0.34165423712052057,
          0.7735034696623291,
          0.4361167369817292,
          0.38315007358375436,
          -0.13683266188575985,
          0.2963414389906744,
          -2.1731658439592922,
          0.20259417441792585,
          0.09984009734314357,
          0.691047349227367,
          1.314807118205364,
          -0.521105250810098,
          -0.2822920873303137,
          -1.815604989842956,
          -1.0381784939062224,
          -1.540817803928697,
          0.7999428656890234,
          -1.719359604418866,
          1.2745453748761055,
          1.504906159003659,
          -0.03548530175341141,
          -0.47520221229360315,
          -0.03341052408579652,
          0.41606932003300406,
          -1.4669960816172585,
          0.3399043588728614,
          -0.1322471972177475,
          0.3885005500255243,
          -0.1296864888337782,
          0.3725902163354231,
          -0.1681840505469514,
          -0.5380402156473689,
          -1.7400857956585742,
          1.1274655014808161,
          -0.1642696740906239,
          0.3284104283712735,
          1.6754071912755992,
          0.19180608461248194,
          1.370769793189238,
          1.7483301226382149,
          -0.25010508806739873,
          0.13449895716815247,
          0.4234980413886394,
          -0.6292563951712109,
          2.2953199758200236,
          -0.17969684632277028,
          1.2987890271027225,
          0.4030094700678754,
          0.08036747531795806,
          -0.08069390393910325,
          1.9924420651500254,
          -0.2698486232006421,
          0.9189127955439805,
          1.4636227816733902,
          0.938845731900176,
          0.3774223763929635,
          -0.06039266365866485,
          0.9786792112048589,
          0.18303575909528905,
          1.6213974948934198,
          -0.9011226730985576,
          1.5550696967051754,
          -0.5287319696533463,
          -2.134382600497725,
          -2.4884498634990253,
          0.9141044261447112,
          -1.0929243882156412,
          0.33144393850878756,
          -0.11164949938320748,
          -0.3069432766632717,
          1.1173680553813508,
          0.26683988452577584,
          2.572799719475098,
          0.15916196813082964,
          0.07842255156767423,
          -0.3913927786082702,
          -0.6787973075228827,
          -0.42382151492180364,
          -0.3450314270380239,
          -2.2701907481405805,
          -0.25405633676066053,
          -1.1065213219948289,
          -0.9709405991456087,
          -0.4193028156423804,
          -0.7262378201660576,
          1.0725696136192406,
          -0.5523869569628342,
          1.6427537695901733,
          1.5568589945640556,
          2.570984921845135,
          -0.36030875900544634,
          0.26494896940570273,
          -1.3263649914452567,
          0.3256623316086684
         ]
        },
        {
         "marker": {
          "color": "rgba(50, 171, 96, 0.6)",
          "line": {
           "color": "rgba(50, 171, 96, 1.0)",
           "width": 1
          }
         },
         "name": "C",
         "orientation": "v",
         "text": "",
         "type": "bar",
         "x": [
          0,
          1,
          2,
          3,
          4,
          5,
          6,
          7,
          8,
          9,
          10,
          11,
          12,
          13,
          14,
          15,
          16,
          17,
          18,
          19,
          20,
          21,
          22,
          23,
          24,
          25,
          26,
          27,
          28,
          29,
          30,
          31,
          32,
          33,
          34,
          35,
          36,
          37,
          38,
          39,
          40,
          41,
          42,
          43,
          44,
          45,
          46,
          47,
          48,
          49,
          50,
          51,
          52,
          53,
          54,
          55,
          56,
          57,
          58,
          59,
          60,
          61,
          62,
          63,
          64,
          65,
          66,
          67,
          68,
          69,
          70,
          71,
          72,
          73,
          74,
          75,
          76,
          77,
          78,
          79,
          80,
          81,
          82,
          83,
          84,
          85,
          86,
          87,
          88,
          89,
          90,
          91,
          92,
          93,
          94,
          95,
          96,
          97,
          98,
          99
         ],
         "y": [
          -0.11348786453792516,
          -0.1311524782899683,
          0.506578319243623,
          -0.04641283626244963,
          0.392212467710873,
          -0.6553786708887571,
          0.5571977672878804,
          2.1052672448775063,
          0.10340710707386995,
          -0.8974770305577208,
          1.9384578639188583,
          0.15974699198145836,
          0.31680044214315034,
          0.3530189009363819,
          -0.6863570397708625,
          0.6748926487769098,
          -1.53963708500794,
          -0.6064150850079467,
          -2.285154574606842,
          1.6087609096634756,
          1.4703270008301461,
          -0.9055417363838063,
          -0.48767724288311354,
          1.6677638524446878,
          0.4953296083138165,
          -1.2837673697054308,
          -0.17466900588527673,
          1.7550914473984882,
          -0.08137639105933259,
          -0.7303431206142009,
          -2.2602950720275503,
          0.33518836539457775,
          -0.07526806056324023,
          -0.036577505440543064,
          0.710015868627727,
          0.6998353100073591,
          0.19950402567226277,
          -1.092821161366645,
          1.038682114597619,
          -0.943972451379481,
          -0.33186493395713546,
          0.009566765795468796,
          -1.3043815067990907,
          -0.47903710828837115,
          -1.681324460350031,
          -0.1004688071250641,
          0.34107993712471174,
          -0.02319459821086625,
          -0.3172287282686062,
          0.25571725829735864,
          -1.1537289156229074,
          0.04125732193811072,
          -0.37183401874919636,
          0.4800509318471511,
          0.6829947057833371,
          0.03647745140630001,
          0.08589699451217257,
          -0.3506312190885835,
          0.19439322728550584,
          -0.28144931640232496,
          -0.06229460813495941,
          0.860135991154396,
          -0.6336830074983791,
          2.1614194464065206,
          1.4886188417324488,
          1.948739186374998,
          -1.65932556580322,
          -1.7890236709376695,
          -1.024603199127202,
          -0.2839461673175258,
          -1.5504822872573811,
          -0.3173611535046725,
          1.2497166679966984,
          -0.8689612255158649,
          0.1308449392924964,
          -0.11046281885570239,
          -2.4373915395181656,
          -1.0245728612602316,
          -0.5055241101912172,
          0.056595626695443206,
          0.5176723372772564,
          0.15009361114403955,
          0.15658771344225464,
          0.33471699558951534,
          0.8813025543563201,
          -0.8391595392038008,
          -2.490208577476746,
          0.6042632646657747,
          -0.331476611827571,
          1.5813863192310202,
          0.7390671386615796,
          -0.23184846099447173,
          0.5662094173049512,
          1.827832646415857,
          0.15221010404191296,
          0.5398875261115618,
          0.30910642989010956,
          -0.9162187067758907,
          1.4429566269436902,
          0.8159551231165043
         ]
        },
        {
         "marker": {
          "color": "rgba(128, 0, 128, 0.6)",
          "line": {
           "color": "rgba(128, 0, 128, 1.0)",
           "width": 1
          }
         },
         "name": "D",
         "orientation": "v",
         "text": "",
         "type": "bar",
         "x": [
          0,
          1,
          2,
          3,
          4,
          5,
          6,
          7,
          8,
          9,
          10,
          11,
          12,
          13,
          14,
          15,
          16,
          17,
          18,
          19,
          20,
          21,
          22,
          23,
          24,
          25,
          26,
          27,
          28,
          29,
          30,
          31,
          32,
          33,
          34,
          35,
          36,
          37,
          38,
          39,
          40,
          41,
          42,
          43,
          44,
          45,
          46,
          47,
          48,
          49,
          50,
          51,
          52,
          53,
          54,
          55,
          56,
          57,
          58,
          59,
          60,
          61,
          62,
          63,
          64,
          65,
          66,
          67,
          68,
          69,
          70,
          71,
          72,
          73,
          74,
          75,
          76,
          77,
          78,
          79,
          80,
          81,
          82,
          83,
          84,
          85,
          86,
          87,
          88,
          89,
          90,
          91,
          92,
          93,
          94,
          95,
          96,
          97,
          98,
          99
         ],
         "y": [
          -0.3141047776814371,
          -0.8970192710960458,
          0.5736914479068228,
          -0.5206411120771636,
          0.16576510518810794,
          -0.5587118804610727,
          0.9878309483052345,
          0.5023609075433647,
          0.9745608398826814,
          0.16655342964635966,
          0.9788192259549774,
          -0.09074367425800649,
          1.5829907682035778,
          -0.764247292231081,
          0.17308183983488762,
          -0.24791312488305745,
          -0.6938234905748255,
          0.30415868202200325,
          -1.4573797696393782,
          -0.8029910175529617,
          -0.7457353564480751,
          3.0306751179427884,
          0.045915555843682884,
          1.196333482147036,
          1.2186397325655025,
          -0.2512862780510248,
          -0.5218023758906899,
          0.0006545154733645155,
          0.0882807793245977,
          0.08032544568298304,
          0.300452263420204,
          -0.7004037709231044,
          1.5959195349326478,
          -1.1456317403017728,
          -1.6090083148862744,
          -0.024979196647730097,
          -2.7855243796398645,
          0.19365146667022942,
          0.9458482394605472,
          -0.6450285898838843,
          -0.6619920977863117,
          -0.286079247403523,
          0.6729421552051487,
          -0.7424158022191921,
          0.15674906928135854,
          1.525833682709512,
          0.8354744054671075,
          -0.10945542092806206,
          -0.7903659987502104,
          2.252293455006751,
          1.0305338642195672,
          -2.143230338789938,
          0.3854367833308197,
          0.5065383599856818,
          0.012066202860070952,
          -1.4437774899649107,
          -0.6746762056654647,
          -0.19410968709492404,
          -1.147512403615673,
          0.33062408255489073,
          -0.28855419839694224,
          -1.3760381340868197,
          0.89767228673124,
          0.199628224052539,
          -0.8269461131144589,
          -2.0310134868416885,
          -1.311605317804653,
          1.0244985960728157,
          0.34724634350785616,
          0.8354198106887961,
          0.8379992652748512,
          0.2130903288179697,
          0.41486346653232337,
          -0.021864543671643935,
          -1.1005092230234894,
          -0.8906576571862331,
          -0.676797498832179,
          -0.35325718962322256,
          -0.08108079990629014,
          1.1853695718411121,
          0.30057746921104944,
          -0.40043517461693023,
          -1.5278058799076497,
          -0.8711964279517036,
          -1.5409210468656107,
          0.22816741726104836,
          -0.03255898174171499,
          0.026687251866059098,
          0.4294202743518761,
          0.3950280004384783,
          1.0450196729200016,
          -0.875516508014222,
          -0.4722584961793411,
          -0.5692715168213826,
          0.9682407212914111,
          0.08000451194139384,
          0.2782152013702495,
          0.24866085181437123,
          -1.005337704907483,
          1.490533209873795
         ]
        }
       ],
       "layout": {
        "legend": {
         "bgcolor": "#F5F6F9",
         "font": {
          "color": "#4D5663"
         }
        },
        "paper_bgcolor": "#F5F6F9",
        "plot_bgcolor": "#F5F6F9",
        "template": {
         "data": {
          "bar": [
           {
            "error_x": {
             "color": "#2a3f5f"
            },
            "error_y": {
             "color": "#2a3f5f"
            },
            "marker": {
             "line": {
              "color": "#E5ECF6",
              "width": 0.5
             }
            },
            "type": "bar"
           }
          ],
          "barpolar": [
           {
            "marker": {
             "line": {
              "color": "#E5ECF6",
              "width": 0.5
             }
            },
            "type": "barpolar"
           }
          ],
          "carpet": [
           {
            "aaxis": {
             "endlinecolor": "#2a3f5f",
             "gridcolor": "white",
             "linecolor": "white",
             "minorgridcolor": "white",
             "startlinecolor": "#2a3f5f"
            },
            "baxis": {
             "endlinecolor": "#2a3f5f",
             "gridcolor": "white",
             "linecolor": "white",
             "minorgridcolor": "white",
             "startlinecolor": "#2a3f5f"
            },
            "type": "carpet"
           }
          ],
          "choropleth": [
           {
            "colorbar": {
             "outlinewidth": 0,
             "ticks": ""
            },
            "type": "choropleth"
           }
          ],
          "contour": [
           {
            "colorbar": {
             "outlinewidth": 0,
             "ticks": ""
            },
            "colorscale": [
             [
              0,
              "#0d0887"
             ],
             [
              0.1111111111111111,
              "#46039f"
             ],
             [
              0.2222222222222222,
              "#7201a8"
             ],
             [
              0.3333333333333333,
              "#9c179e"
             ],
             [
              0.4444444444444444,
              "#bd3786"
             ],
             [
              0.5555555555555556,
              "#d8576b"
             ],
             [
              0.6666666666666666,
              "#ed7953"
             ],
             [
              0.7777777777777778,
              "#fb9f3a"
             ],
             [
              0.8888888888888888,
              "#fdca26"
             ],
             [
              1,
              "#f0f921"
             ]
            ],
            "type": "contour"
           }
          ],
          "contourcarpet": [
           {
            "colorbar": {
             "outlinewidth": 0,
             "ticks": ""
            },
            "type": "contourcarpet"
           }
          ],
          "heatmap": [
           {
            "colorbar": {
             "outlinewidth": 0,
             "ticks": ""
            },
            "colorscale": [
             [
              0,
              "#0d0887"
             ],
             [
              0.1111111111111111,
              "#46039f"
             ],
             [
              0.2222222222222222,
              "#7201a8"
             ],
             [
              0.3333333333333333,
              "#9c179e"
             ],
             [
              0.4444444444444444,
              "#bd3786"
             ],
             [
              0.5555555555555556,
              "#d8576b"
             ],
             [
              0.6666666666666666,
              "#ed7953"
             ],
             [
              0.7777777777777778,
              "#fb9f3a"
             ],
             [
              0.8888888888888888,
              "#fdca26"
             ],
             [
              1,
              "#f0f921"
             ]
            ],
            "type": "heatmap"
           }
          ],
          "heatmapgl": [
           {
            "colorbar": {
             "outlinewidth": 0,
             "ticks": ""
            },
            "colorscale": [
             [
              0,
              "#0d0887"
             ],
             [
              0.1111111111111111,
              "#46039f"
             ],
             [
              0.2222222222222222,
              "#7201a8"
             ],
             [
              0.3333333333333333,
              "#9c179e"
             ],
             [
              0.4444444444444444,
              "#bd3786"
             ],
             [
              0.5555555555555556,
              "#d8576b"
             ],
             [
              0.6666666666666666,
              "#ed7953"
             ],
             [
              0.7777777777777778,
              "#fb9f3a"
             ],
             [
              0.8888888888888888,
              "#fdca26"
             ],
             [
              1,
              "#f0f921"
             ]
            ],
            "type": "heatmapgl"
           }
          ],
          "histogram": [
           {
            "marker": {
             "colorbar": {
              "outlinewidth": 0,
              "ticks": ""
             }
            },
            "type": "histogram"
           }
          ],
          "histogram2d": [
           {
            "colorbar": {
             "outlinewidth": 0,
             "ticks": ""
            },
            "colorscale": [
             [
              0,
              "#0d0887"
             ],
             [
              0.1111111111111111,
              "#46039f"
             ],
             [
              0.2222222222222222,
              "#7201a8"
             ],
             [
              0.3333333333333333,
              "#9c179e"
             ],
             [
              0.4444444444444444,
              "#bd3786"
             ],
             [
              0.5555555555555556,
              "#d8576b"
             ],
             [
              0.6666666666666666,
              "#ed7953"
             ],
             [
              0.7777777777777778,
              "#fb9f3a"
             ],
             [
              0.8888888888888888,
              "#fdca26"
             ],
             [
              1,
              "#f0f921"
             ]
            ],
            "type": "histogram2d"
           }
          ],
          "histogram2dcontour": [
           {
            "colorbar": {
             "outlinewidth": 0,
             "ticks": ""
            },
            "colorscale": [
             [
              0,
              "#0d0887"
             ],
             [
              0.1111111111111111,
              "#46039f"
             ],
             [
              0.2222222222222222,
              "#7201a8"
             ],
             [
              0.3333333333333333,
              "#9c179e"
             ],
             [
              0.4444444444444444,
              "#bd3786"
             ],
             [
              0.5555555555555556,
              "#d8576b"
             ],
             [
              0.6666666666666666,
              "#ed7953"
             ],
             [
              0.7777777777777778,
              "#fb9f3a"
             ],
             [
              0.8888888888888888,
              "#fdca26"
             ],
             [
              1,
              "#f0f921"
             ]
            ],
            "type": "histogram2dcontour"
           }
          ],
          "mesh3d": [
           {
            "colorbar": {
             "outlinewidth": 0,
             "ticks": ""
            },
            "type": "mesh3d"
           }
          ],
          "parcoords": [
           {
            "line": {
             "colorbar": {
              "outlinewidth": 0,
              "ticks": ""
             }
            },
            "type": "parcoords"
           }
          ],
          "pie": [
           {
            "automargin": true,
            "type": "pie"
           }
          ],
          "scatter": [
           {
            "marker": {
             "colorbar": {
              "outlinewidth": 0,
              "ticks": ""
             }
            },
            "type": "scatter"
           }
          ],
          "scatter3d": [
           {
            "line": {
             "colorbar": {
              "outlinewidth": 0,
              "ticks": ""
             }
            },
            "marker": {
             "colorbar": {
              "outlinewidth": 0,
              "ticks": ""
             }
            },
            "type": "scatter3d"
           }
          ],
          "scattercarpet": [
           {
            "marker": {
             "colorbar": {
              "outlinewidth": 0,
              "ticks": ""
             }
            },
            "type": "scattercarpet"
           }
          ],
          "scattergeo": [
           {
            "marker": {
             "colorbar": {
              "outlinewidth": 0,
              "ticks": ""
             }
            },
            "type": "scattergeo"
           }
          ],
          "scattergl": [
           {
            "marker": {
             "colorbar": {
              "outlinewidth": 0,
              "ticks": ""
             }
            },
            "type": "scattergl"
           }
          ],
          "scattermapbox": [
           {
            "marker": {
             "colorbar": {
              "outlinewidth": 0,
              "ticks": ""
             }
            },
            "type": "scattermapbox"
           }
          ],
          "scatterpolar": [
           {
            "marker": {
             "colorbar": {
              "outlinewidth": 0,
              "ticks": ""
             }
            },
            "type": "scatterpolar"
           }
          ],
          "scatterpolargl": [
           {
            "marker": {
             "colorbar": {
              "outlinewidth": 0,
              "ticks": ""
             }
            },
            "type": "scatterpolargl"
           }
          ],
          "scatterternary": [
           {
            "marker": {
             "colorbar": {
              "outlinewidth": 0,
              "ticks": ""
             }
            },
            "type": "scatterternary"
           }
          ],
          "surface": [
           {
            "colorbar": {
             "outlinewidth": 0,
             "ticks": ""
            },
            "colorscale": [
             [
              0,
              "#0d0887"
             ],
             [
              0.1111111111111111,
              "#46039f"
             ],
             [
              0.2222222222222222,
              "#7201a8"
             ],
             [
              0.3333333333333333,
              "#9c179e"
             ],
             [
              0.4444444444444444,
              "#bd3786"
             ],
             [
              0.5555555555555556,
              "#d8576b"
             ],
             [
              0.6666666666666666,
              "#ed7953"
             ],
             [
              0.7777777777777778,
              "#fb9f3a"
             ],
             [
              0.8888888888888888,
              "#fdca26"
             ],
             [
              1,
              "#f0f921"
             ]
            ],
            "type": "surface"
           }
          ],
          "table": [
           {
            "cells": {
             "fill": {
              "color": "#EBF0F8"
             },
             "line": {
              "color": "white"
             }
            },
            "header": {
             "fill": {
              "color": "#C8D4E3"
             },
             "line": {
              "color": "white"
             }
            },
            "type": "table"
           }
          ]
         },
         "layout": {
          "annotationdefaults": {
           "arrowcolor": "#2a3f5f",
           "arrowhead": 0,
           "arrowwidth": 1
          },
          "autotypenumbers": "strict",
          "coloraxis": {
           "colorbar": {
            "outlinewidth": 0,
            "ticks": ""
           }
          },
          "colorscale": {
           "diverging": [
            [
             0,
             "#8e0152"
            ],
            [
             0.1,
             "#c51b7d"
            ],
            [
             0.2,
             "#de77ae"
            ],
            [
             0.3,
             "#f1b6da"
            ],
            [
             0.4,
             "#fde0ef"
            ],
            [
             0.5,
             "#f7f7f7"
            ],
            [
             0.6,
             "#e6f5d0"
            ],
            [
             0.7,
             "#b8e186"
            ],
            [
             0.8,
             "#7fbc41"
            ],
            [
             0.9,
             "#4d9221"
            ],
            [
             1,
             "#276419"
            ]
           ],
           "sequential": [
            [
             0,
             "#0d0887"
            ],
            [
             0.1111111111111111,
             "#46039f"
            ],
            [
             0.2222222222222222,
             "#7201a8"
            ],
            [
             0.3333333333333333,
             "#9c179e"
            ],
            [
             0.4444444444444444,
             "#bd3786"
            ],
            [
             0.5555555555555556,
             "#d8576b"
            ],
            [
             0.6666666666666666,
             "#ed7953"
            ],
            [
             0.7777777777777778,
             "#fb9f3a"
            ],
            [
             0.8888888888888888,
             "#fdca26"
            ],
            [
             1,
             "#f0f921"
            ]
           ],
           "sequentialminus": [
            [
             0,
             "#0d0887"
            ],
            [
             0.1111111111111111,
             "#46039f"
            ],
            [
             0.2222222222222222,
             "#7201a8"
            ],
            [
             0.3333333333333333,
             "#9c179e"
            ],
            [
             0.4444444444444444,
             "#bd3786"
            ],
            [
             0.5555555555555556,
             "#d8576b"
            ],
            [
             0.6666666666666666,
             "#ed7953"
            ],
            [
             0.7777777777777778,
             "#fb9f3a"
            ],
            [
             0.8888888888888888,
             "#fdca26"
            ],
            [
             1,
             "#f0f921"
            ]
           ]
          },
          "colorway": [
           "#636efa",
           "#EF553B",
           "#00cc96",
           "#ab63fa",
           "#FFA15A",
           "#19d3f3",
           "#FF6692",
           "#B6E880",
           "#FF97FF",
           "#FECB52"
          ],
          "font": {
           "color": "#2a3f5f"
          },
          "geo": {
           "bgcolor": "white",
           "lakecolor": "white",
           "landcolor": "#E5ECF6",
           "showlakes": true,
           "showland": true,
           "subunitcolor": "white"
          },
          "hoverlabel": {
           "align": "left"
          },
          "hovermode": "closest",
          "mapbox": {
           "style": "light"
          },
          "paper_bgcolor": "white",
          "plot_bgcolor": "#E5ECF6",
          "polar": {
           "angularaxis": {
            "gridcolor": "white",
            "linecolor": "white",
            "ticks": ""
           },
           "bgcolor": "#E5ECF6",
           "radialaxis": {
            "gridcolor": "white",
            "linecolor": "white",
            "ticks": ""
           }
          },
          "scene": {
           "xaxis": {
            "backgroundcolor": "#E5ECF6",
            "gridcolor": "white",
            "gridwidth": 2,
            "linecolor": "white",
            "showbackground": true,
            "ticks": "",
            "zerolinecolor": "white"
           },
           "yaxis": {
            "backgroundcolor": "#E5ECF6",
            "gridcolor": "white",
            "gridwidth": 2,
            "linecolor": "white",
            "showbackground": true,
            "ticks": "",
            "zerolinecolor": "white"
           },
           "zaxis": {
            "backgroundcolor": "#E5ECF6",
            "gridcolor": "white",
            "gridwidth": 2,
            "linecolor": "white",
            "showbackground": true,
            "ticks": "",
            "zerolinecolor": "white"
           }
          },
          "shapedefaults": {
           "line": {
            "color": "#2a3f5f"
           }
          },
          "ternary": {
           "aaxis": {
            "gridcolor": "white",
            "linecolor": "white",
            "ticks": ""
           },
           "baxis": {
            "gridcolor": "white",
            "linecolor": "white",
            "ticks": ""
           },
           "bgcolor": "#E5ECF6",
           "caxis": {
            "gridcolor": "white",
            "linecolor": "white",
            "ticks": ""
           }
          },
          "title": {
           "x": 0.05
          },
          "xaxis": {
           "automargin": true,
           "gridcolor": "white",
           "linecolor": "white",
           "ticks": "",
           "title": {
            "standoff": 15
           },
           "zerolinecolor": "white",
           "zerolinewidth": 2
          },
          "yaxis": {
           "automargin": true,
           "gridcolor": "white",
           "linecolor": "white",
           "ticks": "",
           "title": {
            "standoff": 15
           },
           "zerolinecolor": "white",
           "zerolinewidth": 2
          }
         }
        },
        "title": {
         "font": {
          "color": "#4D5663"
         }
        },
        "xaxis": {
         "gridcolor": "#E1E5ED",
         "showgrid": true,
         "tickfont": {
          "color": "#4D5663"
         },
         "title": {
          "font": {
           "color": "#4D5663"
          },
          "text": ""
         },
         "zerolinecolor": "#E1E5ED"
        },
        "yaxis": {
         "gridcolor": "#E1E5ED",
         "showgrid": true,
         "tickfont": {
          "color": "#4D5663"
         },
         "title": {
          "font": {
           "color": "#4D5663"
          },
          "text": ""
         },
         "zerolinecolor": "#E1E5ED"
        }
       }
      },
      "text/html": [
       "<div>                            <div id=\"81917690-3ebc-4770-a84b-8c5d309ae4dd\" class=\"plotly-graph-div\" style=\"height:525px; width:100%;\"></div>            <script type=\"text/javascript\">                require([\"plotly\"], function(Plotly) {                    window.PLOTLYENV=window.PLOTLYENV || {};\n",
       "                    window.PLOTLYENV.BASE_URL='https://plot.ly';                                    if (document.getElementById(\"81917690-3ebc-4770-a84b-8c5d309ae4dd\")) {                    Plotly.newPlot(                        \"81917690-3ebc-4770-a84b-8c5d309ae4dd\",                        [{\"marker\": {\"color\": \"rgba(255, 153, 51, 0.6)\", \"line\": {\"color\": \"rgba(255, 153, 51, 1.0)\", \"width\": 1}}, \"name\": \"A\", \"orientation\": \"v\", \"text\": \"\", \"type\": \"bar\", \"x\": [0, 1, 2, 3, 4, 5, 6, 7, 8, 9, 10, 11, 12, 13, 14, 15, 16, 17, 18, 19, 20, 21, 22, 23, 24, 25, 26, 27, 28, 29, 30, 31, 32, 33, 34, 35, 36, 37, 38, 39, 40, 41, 42, 43, 44, 45, 46, 47, 48, 49, 50, 51, 52, 53, 54, 55, 56, 57, 58, 59, 60, 61, 62, 63, 64, 65, 66, 67, 68, 69, 70, 71, 72, 73, 74, 75, 76, 77, 78, 79, 80, 81, 82, 83, 84, 85, 86, 87, 88, 89, 90, 91, 92, 93, 94, 95, 96, 97, 98, 99], \"y\": [-0.1601183780470847, 0.15940940597672718, -0.8691414452109293, 2.1010276114389423, 0.17164077472576567, -0.3615969648072336, -1.4329312503554597, 1.0348622009763033, -0.9530959678937821, -1.949144277250312, -0.653801018600976, -1.0586602896818622, 0.28861617739230505, 1.6481156904717285, 0.5021988384451932, 0.7419461664678879, 0.17745499512664956, -0.38325620812446526, 0.12849351472190346, 0.15024354836000892, -1.9046735986048597, 0.06729564255980032, 1.3114167690497167, 0.6532864418010814, 0.7736641644900281, 0.9710332051307252, -1.2950688683078926, -0.2330559856021781, -0.2506005785170448, 0.8746518298457197, 0.49012434927847653, 1.952542960328725, 1.422053288373496, -0.041017606165554964, -0.5696189873368337, 1.3796194148641876, -0.9684850941850984, -0.6867169752967174, 1.2175982302306936, -0.7950270858687128, -0.20268130839797435, -0.3166116775607073, 0.013265786411123252, 1.3609161101425622, 0.918899536952606, 0.8946799623180145, -0.32355619688753906, -0.26159337861282134, 1.7316425076849074, 0.18598089946101812, 0.5735137879874297, 0.5584074518494194, -0.39038838391341496, 0.9879393225390422, 2.5030105940459157, -0.48432032452495916, -0.41613166505421517, -1.3139722396678235, 0.22869715598900986, -0.5435803703335473, 2.487064416501825, -0.44198082209238426, -0.3539645120194969, 0.27099557207341957, 0.45250919764242253, -0.0576693407543129, -0.7573808849544862, -1.3875401356438606, 0.5770513485881394, 1.2340897966166007, 1.014934806523684, 0.1530954629770791, -1.0723060534055624, 1.085507498157262, 1.3346837122325887, -1.3698512217275174, -0.10433179640403041, -1.201928853898415, -0.30352824810029955, 0.33826194670927395, -0.7785433241744303, -0.14302780228701797, 0.6172268757774699, -1.5310619955784, -0.9632272022705074, 0.8562948380132994, -0.137384953960321, -0.9653087534475998, -0.4426437998567408, 0.5304095588563396, 1.4850884827390285, 0.1906684616642033, 0.246574144712053, -0.2369541408221221, 0.963784194598969, 0.44074100274933714, 0.546935093537091, -1.756855506983355, 1.8244298964505592, -1.4031423867604629]}, {\"marker\": {\"color\": \"rgba(55, 128, 191, 0.6)\", \"line\": {\"color\": \"rgba(55, 128, 191, 1.0)\", \"width\": 1}}, \"name\": \"B\", \"orientation\": \"v\", \"text\": \"\", \"type\": \"bar\", \"x\": [0, 1, 2, 3, 4, 5, 6, 7, 8, 9, 10, 11, 12, 13, 14, 15, 16, 17, 18, 19, 20, 21, 22, 23, 24, 25, 26, 27, 28, 29, 30, 31, 32, 33, 34, 35, 36, 37, 38, 39, 40, 41, 42, 43, 44, 45, 46, 47, 48, 49, 50, 51, 52, 53, 54, 55, 56, 57, 58, 59, 60, 61, 62, 63, 64, 65, 66, 67, 68, 69, 70, 71, 72, 73, 74, 75, 76, 77, 78, 79, 80, 81, 82, 83, 84, 85, 86, 87, 88, 89, 90, 91, 92, 93, 94, 95, 96, 97, 98, 99], \"y\": [-0.2644633545863186, 1.5714302027771738, -0.022060694285092157, 0.44695975606255306, 1.6437621966592817, -2.1304958014639213, -0.34165423712052057, 0.7735034696623291, 0.4361167369817292, 0.38315007358375436, -0.13683266188575985, 0.2963414389906744, -2.1731658439592922, 0.20259417441792585, 0.09984009734314357, 0.691047349227367, 1.314807118205364, -0.521105250810098, -0.2822920873303137, -1.815604989842956, -1.0381784939062224, -1.540817803928697, 0.7999428656890234, -1.719359604418866, 1.2745453748761055, 1.504906159003659, -0.03548530175341141, -0.47520221229360315, -0.03341052408579652, 0.41606932003300406, -1.4669960816172585, 0.3399043588728614, -0.1322471972177475, 0.3885005500255243, -0.1296864888337782, 0.3725902163354231, -0.1681840505469514, -0.5380402156473689, -1.7400857956585742, 1.1274655014808161, -0.1642696740906239, 0.3284104283712735, 1.6754071912755992, 0.19180608461248194, 1.370769793189238, 1.7483301226382149, -0.25010508806739873, 0.13449895716815247, 0.4234980413886394, -0.6292563951712109, 2.2953199758200236, -0.17969684632277028, 1.2987890271027225, 0.4030094700678754, 0.08036747531795806, -0.08069390393910325, 1.9924420651500254, -0.2698486232006421, 0.9189127955439805, 1.4636227816733902, 0.938845731900176, 0.3774223763929635, -0.06039266365866485, 0.9786792112048589, 0.18303575909528905, 1.6213974948934198, -0.9011226730985576, 1.5550696967051754, -0.5287319696533463, -2.134382600497725, -2.4884498634990253, 0.9141044261447112, -1.0929243882156412, 0.33144393850878756, -0.11164949938320748, -0.3069432766632717, 1.1173680553813508, 0.26683988452577584, 2.572799719475098, 0.15916196813082964, 0.07842255156767423, -0.3913927786082702, -0.6787973075228827, -0.42382151492180364, -0.3450314270380239, -2.2701907481405805, -0.25405633676066053, -1.1065213219948289, -0.9709405991456087, -0.4193028156423804, -0.7262378201660576, 1.0725696136192406, -0.5523869569628342, 1.6427537695901733, 1.5568589945640556, 2.570984921845135, -0.36030875900544634, 0.26494896940570273, -1.3263649914452567, 0.3256623316086684]}, {\"marker\": {\"color\": \"rgba(50, 171, 96, 0.6)\", \"line\": {\"color\": \"rgba(50, 171, 96, 1.0)\", \"width\": 1}}, \"name\": \"C\", \"orientation\": \"v\", \"text\": \"\", \"type\": \"bar\", \"x\": [0, 1, 2, 3, 4, 5, 6, 7, 8, 9, 10, 11, 12, 13, 14, 15, 16, 17, 18, 19, 20, 21, 22, 23, 24, 25, 26, 27, 28, 29, 30, 31, 32, 33, 34, 35, 36, 37, 38, 39, 40, 41, 42, 43, 44, 45, 46, 47, 48, 49, 50, 51, 52, 53, 54, 55, 56, 57, 58, 59, 60, 61, 62, 63, 64, 65, 66, 67, 68, 69, 70, 71, 72, 73, 74, 75, 76, 77, 78, 79, 80, 81, 82, 83, 84, 85, 86, 87, 88, 89, 90, 91, 92, 93, 94, 95, 96, 97, 98, 99], \"y\": [-0.11348786453792516, -0.1311524782899683, 0.506578319243623, -0.04641283626244963, 0.392212467710873, -0.6553786708887571, 0.5571977672878804, 2.1052672448775063, 0.10340710707386995, -0.8974770305577208, 1.9384578639188583, 0.15974699198145836, 0.31680044214315034, 0.3530189009363819, -0.6863570397708625, 0.6748926487769098, -1.53963708500794, -0.6064150850079467, -2.285154574606842, 1.6087609096634756, 1.4703270008301461, -0.9055417363838063, -0.48767724288311354, 1.6677638524446878, 0.4953296083138165, -1.2837673697054308, -0.17466900588527673, 1.7550914473984882, -0.08137639105933259, -0.7303431206142009, -2.2602950720275503, 0.33518836539457775, -0.07526806056324023, -0.036577505440543064, 0.710015868627727, 0.6998353100073591, 0.19950402567226277, -1.092821161366645, 1.038682114597619, -0.943972451379481, -0.33186493395713546, 0.009566765795468796, -1.3043815067990907, -0.47903710828837115, -1.681324460350031, -0.1004688071250641, 0.34107993712471174, -0.02319459821086625, -0.3172287282686062, 0.25571725829735864, -1.1537289156229074, 0.04125732193811072, -0.37183401874919636, 0.4800509318471511, 0.6829947057833371, 0.03647745140630001, 0.08589699451217257, -0.3506312190885835, 0.19439322728550584, -0.28144931640232496, -0.06229460813495941, 0.860135991154396, -0.6336830074983791, 2.1614194464065206, 1.4886188417324488, 1.948739186374998, -1.65932556580322, -1.7890236709376695, -1.024603199127202, -0.2839461673175258, -1.5504822872573811, -0.3173611535046725, 1.2497166679966984, -0.8689612255158649, 0.1308449392924964, -0.11046281885570239, -2.4373915395181656, -1.0245728612602316, -0.5055241101912172, 0.056595626695443206, 0.5176723372772564, 0.15009361114403955, 0.15658771344225464, 0.33471699558951534, 0.8813025543563201, -0.8391595392038008, -2.490208577476746, 0.6042632646657747, -0.331476611827571, 1.5813863192310202, 0.7390671386615796, -0.23184846099447173, 0.5662094173049512, 1.827832646415857, 0.15221010404191296, 0.5398875261115618, 0.30910642989010956, -0.9162187067758907, 1.4429566269436902, 0.8159551231165043]}, {\"marker\": {\"color\": \"rgba(128, 0, 128, 0.6)\", \"line\": {\"color\": \"rgba(128, 0, 128, 1.0)\", \"width\": 1}}, \"name\": \"D\", \"orientation\": \"v\", \"text\": \"\", \"type\": \"bar\", \"x\": [0, 1, 2, 3, 4, 5, 6, 7, 8, 9, 10, 11, 12, 13, 14, 15, 16, 17, 18, 19, 20, 21, 22, 23, 24, 25, 26, 27, 28, 29, 30, 31, 32, 33, 34, 35, 36, 37, 38, 39, 40, 41, 42, 43, 44, 45, 46, 47, 48, 49, 50, 51, 52, 53, 54, 55, 56, 57, 58, 59, 60, 61, 62, 63, 64, 65, 66, 67, 68, 69, 70, 71, 72, 73, 74, 75, 76, 77, 78, 79, 80, 81, 82, 83, 84, 85, 86, 87, 88, 89, 90, 91, 92, 93, 94, 95, 96, 97, 98, 99], \"y\": [-0.3141047776814371, -0.8970192710960458, 0.5736914479068228, -0.5206411120771636, 0.16576510518810794, -0.5587118804610727, 0.9878309483052345, 0.5023609075433647, 0.9745608398826814, 0.16655342964635966, 0.9788192259549774, -0.09074367425800649, 1.5829907682035778, -0.764247292231081, 0.17308183983488762, -0.24791312488305745, -0.6938234905748255, 0.30415868202200325, -1.4573797696393782, -0.8029910175529617, -0.7457353564480751, 3.0306751179427884, 0.045915555843682884, 1.196333482147036, 1.2186397325655025, -0.2512862780510248, -0.5218023758906899, 0.0006545154733645155, 0.0882807793245977, 0.08032544568298304, 0.300452263420204, -0.7004037709231044, 1.5959195349326478, -1.1456317403017728, -1.6090083148862744, -0.024979196647730097, -2.7855243796398645, 0.19365146667022942, 0.9458482394605472, -0.6450285898838843, -0.6619920977863117, -0.286079247403523, 0.6729421552051487, -0.7424158022191921, 0.15674906928135854, 1.525833682709512, 0.8354744054671075, -0.10945542092806206, -0.7903659987502104, 2.252293455006751, 1.0305338642195672, -2.143230338789938, 0.3854367833308197, 0.5065383599856818, 0.012066202860070952, -1.4437774899649107, -0.6746762056654647, -0.19410968709492404, -1.147512403615673, 0.33062408255489073, -0.28855419839694224, -1.3760381340868197, 0.89767228673124, 0.199628224052539, -0.8269461131144589, -2.0310134868416885, -1.311605317804653, 1.0244985960728157, 0.34724634350785616, 0.8354198106887961, 0.8379992652748512, 0.2130903288179697, 0.41486346653232337, -0.021864543671643935, -1.1005092230234894, -0.8906576571862331, -0.676797498832179, -0.35325718962322256, -0.08108079990629014, 1.1853695718411121, 0.30057746921104944, -0.40043517461693023, -1.5278058799076497, -0.8711964279517036, -1.5409210468656107, 0.22816741726104836, -0.03255898174171499, 0.026687251866059098, 0.4294202743518761, 0.3950280004384783, 1.0450196729200016, -0.875516508014222, -0.4722584961793411, -0.5692715168213826, 0.9682407212914111, 0.08000451194139384, 0.2782152013702495, 0.24866085181437123, -1.005337704907483, 1.490533209873795]}],                        {\"legend\": {\"bgcolor\": \"#F5F6F9\", \"font\": {\"color\": \"#4D5663\"}}, \"paper_bgcolor\": \"#F5F6F9\", \"plot_bgcolor\": \"#F5F6F9\", \"template\": {\"data\": {\"bar\": [{\"error_x\": {\"color\": \"#2a3f5f\"}, \"error_y\": {\"color\": \"#2a3f5f\"}, \"marker\": {\"line\": {\"color\": \"#E5ECF6\", \"width\": 0.5}}, \"type\": \"bar\"}], \"barpolar\": [{\"marker\": {\"line\": {\"color\": \"#E5ECF6\", \"width\": 0.5}}, \"type\": \"barpolar\"}], \"carpet\": [{\"aaxis\": {\"endlinecolor\": \"#2a3f5f\", \"gridcolor\": \"white\", \"linecolor\": \"white\", \"minorgridcolor\": \"white\", \"startlinecolor\": \"#2a3f5f\"}, \"baxis\": {\"endlinecolor\": \"#2a3f5f\", \"gridcolor\": \"white\", \"linecolor\": \"white\", \"minorgridcolor\": \"white\", \"startlinecolor\": \"#2a3f5f\"}, \"type\": \"carpet\"}], \"choropleth\": [{\"colorbar\": {\"outlinewidth\": 0, \"ticks\": \"\"}, \"type\": \"choropleth\"}], \"contour\": [{\"colorbar\": {\"outlinewidth\": 0, \"ticks\": \"\"}, \"colorscale\": [[0.0, \"#0d0887\"], [0.1111111111111111, \"#46039f\"], [0.2222222222222222, \"#7201a8\"], [0.3333333333333333, \"#9c179e\"], [0.4444444444444444, \"#bd3786\"], [0.5555555555555556, \"#d8576b\"], [0.6666666666666666, \"#ed7953\"], [0.7777777777777778, \"#fb9f3a\"], [0.8888888888888888, \"#fdca26\"], [1.0, \"#f0f921\"]], \"type\": \"contour\"}], \"contourcarpet\": [{\"colorbar\": {\"outlinewidth\": 0, \"ticks\": \"\"}, \"type\": \"contourcarpet\"}], \"heatmap\": [{\"colorbar\": {\"outlinewidth\": 0, \"ticks\": \"\"}, \"colorscale\": [[0.0, \"#0d0887\"], [0.1111111111111111, \"#46039f\"], [0.2222222222222222, \"#7201a8\"], [0.3333333333333333, \"#9c179e\"], [0.4444444444444444, \"#bd3786\"], [0.5555555555555556, \"#d8576b\"], [0.6666666666666666, \"#ed7953\"], [0.7777777777777778, \"#fb9f3a\"], [0.8888888888888888, \"#fdca26\"], [1.0, \"#f0f921\"]], \"type\": \"heatmap\"}], \"heatmapgl\": [{\"colorbar\": {\"outlinewidth\": 0, \"ticks\": \"\"}, \"colorscale\": [[0.0, \"#0d0887\"], [0.1111111111111111, \"#46039f\"], [0.2222222222222222, \"#7201a8\"], [0.3333333333333333, \"#9c179e\"], [0.4444444444444444, \"#bd3786\"], [0.5555555555555556, \"#d8576b\"], [0.6666666666666666, \"#ed7953\"], [0.7777777777777778, \"#fb9f3a\"], [0.8888888888888888, \"#fdca26\"], [1.0, \"#f0f921\"]], \"type\": \"heatmapgl\"}], \"histogram\": [{\"marker\": {\"colorbar\": {\"outlinewidth\": 0, \"ticks\": \"\"}}, \"type\": \"histogram\"}], \"histogram2d\": [{\"colorbar\": {\"outlinewidth\": 0, \"ticks\": \"\"}, \"colorscale\": [[0.0, \"#0d0887\"], [0.1111111111111111, \"#46039f\"], [0.2222222222222222, \"#7201a8\"], [0.3333333333333333, \"#9c179e\"], [0.4444444444444444, \"#bd3786\"], [0.5555555555555556, \"#d8576b\"], [0.6666666666666666, \"#ed7953\"], [0.7777777777777778, \"#fb9f3a\"], [0.8888888888888888, \"#fdca26\"], [1.0, \"#f0f921\"]], \"type\": \"histogram2d\"}], \"histogram2dcontour\": [{\"colorbar\": {\"outlinewidth\": 0, \"ticks\": \"\"}, \"colorscale\": [[0.0, \"#0d0887\"], [0.1111111111111111, \"#46039f\"], [0.2222222222222222, \"#7201a8\"], [0.3333333333333333, \"#9c179e\"], [0.4444444444444444, \"#bd3786\"], [0.5555555555555556, \"#d8576b\"], [0.6666666666666666, \"#ed7953\"], [0.7777777777777778, \"#fb9f3a\"], [0.8888888888888888, \"#fdca26\"], [1.0, \"#f0f921\"]], \"type\": \"histogram2dcontour\"}], \"mesh3d\": [{\"colorbar\": {\"outlinewidth\": 0, \"ticks\": \"\"}, \"type\": \"mesh3d\"}], \"parcoords\": [{\"line\": {\"colorbar\": {\"outlinewidth\": 0, \"ticks\": \"\"}}, \"type\": \"parcoords\"}], \"pie\": [{\"automargin\": true, \"type\": \"pie\"}], \"scatter\": [{\"marker\": {\"colorbar\": {\"outlinewidth\": 0, \"ticks\": \"\"}}, \"type\": \"scatter\"}], \"scatter3d\": [{\"line\": {\"colorbar\": {\"outlinewidth\": 0, \"ticks\": \"\"}}, \"marker\": {\"colorbar\": {\"outlinewidth\": 0, \"ticks\": \"\"}}, \"type\": \"scatter3d\"}], \"scattercarpet\": [{\"marker\": {\"colorbar\": {\"outlinewidth\": 0, \"ticks\": \"\"}}, \"type\": \"scattercarpet\"}], \"scattergeo\": [{\"marker\": {\"colorbar\": {\"outlinewidth\": 0, \"ticks\": \"\"}}, \"type\": \"scattergeo\"}], \"scattergl\": [{\"marker\": {\"colorbar\": {\"outlinewidth\": 0, \"ticks\": \"\"}}, \"type\": \"scattergl\"}], \"scattermapbox\": [{\"marker\": {\"colorbar\": {\"outlinewidth\": 0, \"ticks\": \"\"}}, \"type\": \"scattermapbox\"}], \"scatterpolar\": [{\"marker\": {\"colorbar\": {\"outlinewidth\": 0, \"ticks\": \"\"}}, \"type\": \"scatterpolar\"}], \"scatterpolargl\": [{\"marker\": {\"colorbar\": {\"outlinewidth\": 0, \"ticks\": \"\"}}, \"type\": \"scatterpolargl\"}], \"scatterternary\": [{\"marker\": {\"colorbar\": {\"outlinewidth\": 0, \"ticks\": \"\"}}, \"type\": \"scatterternary\"}], \"surface\": [{\"colorbar\": {\"outlinewidth\": 0, \"ticks\": \"\"}, \"colorscale\": [[0.0, \"#0d0887\"], [0.1111111111111111, \"#46039f\"], [0.2222222222222222, \"#7201a8\"], [0.3333333333333333, \"#9c179e\"], [0.4444444444444444, \"#bd3786\"], [0.5555555555555556, \"#d8576b\"], [0.6666666666666666, \"#ed7953\"], [0.7777777777777778, \"#fb9f3a\"], [0.8888888888888888, \"#fdca26\"], [1.0, \"#f0f921\"]], \"type\": \"surface\"}], \"table\": [{\"cells\": {\"fill\": {\"color\": \"#EBF0F8\"}, \"line\": {\"color\": \"white\"}}, \"header\": {\"fill\": {\"color\": \"#C8D4E3\"}, \"line\": {\"color\": \"white\"}}, \"type\": \"table\"}]}, \"layout\": {\"annotationdefaults\": {\"arrowcolor\": \"#2a3f5f\", \"arrowhead\": 0, \"arrowwidth\": 1}, \"autotypenumbers\": \"strict\", \"coloraxis\": {\"colorbar\": {\"outlinewidth\": 0, \"ticks\": \"\"}}, \"colorscale\": {\"diverging\": [[0, \"#8e0152\"], [0.1, \"#c51b7d\"], [0.2, \"#de77ae\"], [0.3, \"#f1b6da\"], [0.4, \"#fde0ef\"], [0.5, \"#f7f7f7\"], [0.6, \"#e6f5d0\"], [0.7, \"#b8e186\"], [0.8, \"#7fbc41\"], [0.9, \"#4d9221\"], [1, \"#276419\"]], \"sequential\": [[0.0, \"#0d0887\"], [0.1111111111111111, \"#46039f\"], [0.2222222222222222, \"#7201a8\"], [0.3333333333333333, \"#9c179e\"], [0.4444444444444444, \"#bd3786\"], [0.5555555555555556, \"#d8576b\"], [0.6666666666666666, \"#ed7953\"], [0.7777777777777778, \"#fb9f3a\"], [0.8888888888888888, \"#fdca26\"], [1.0, \"#f0f921\"]], \"sequentialminus\": [[0.0, \"#0d0887\"], [0.1111111111111111, \"#46039f\"], [0.2222222222222222, \"#7201a8\"], [0.3333333333333333, \"#9c179e\"], [0.4444444444444444, \"#bd3786\"], [0.5555555555555556, \"#d8576b\"], [0.6666666666666666, \"#ed7953\"], [0.7777777777777778, \"#fb9f3a\"], [0.8888888888888888, \"#fdca26\"], [1.0, \"#f0f921\"]]}, \"colorway\": [\"#636efa\", \"#EF553B\", \"#00cc96\", \"#ab63fa\", \"#FFA15A\", \"#19d3f3\", \"#FF6692\", \"#B6E880\", \"#FF97FF\", \"#FECB52\"], \"font\": {\"color\": \"#2a3f5f\"}, \"geo\": {\"bgcolor\": \"white\", \"lakecolor\": \"white\", \"landcolor\": \"#E5ECF6\", \"showlakes\": true, \"showland\": true, \"subunitcolor\": \"white\"}, \"hoverlabel\": {\"align\": \"left\"}, \"hovermode\": \"closest\", \"mapbox\": {\"style\": \"light\"}, \"paper_bgcolor\": \"white\", \"plot_bgcolor\": \"#E5ECF6\", \"polar\": {\"angularaxis\": {\"gridcolor\": \"white\", \"linecolor\": \"white\", \"ticks\": \"\"}, \"bgcolor\": \"#E5ECF6\", \"radialaxis\": {\"gridcolor\": \"white\", \"linecolor\": \"white\", \"ticks\": \"\"}}, \"scene\": {\"xaxis\": {\"backgroundcolor\": \"#E5ECF6\", \"gridcolor\": \"white\", \"gridwidth\": 2, \"linecolor\": \"white\", \"showbackground\": true, \"ticks\": \"\", \"zerolinecolor\": \"white\"}, \"yaxis\": {\"backgroundcolor\": \"#E5ECF6\", \"gridcolor\": \"white\", \"gridwidth\": 2, \"linecolor\": \"white\", \"showbackground\": true, \"ticks\": \"\", \"zerolinecolor\": \"white\"}, \"zaxis\": {\"backgroundcolor\": \"#E5ECF6\", \"gridcolor\": \"white\", \"gridwidth\": 2, \"linecolor\": \"white\", \"showbackground\": true, \"ticks\": \"\", \"zerolinecolor\": \"white\"}}, \"shapedefaults\": {\"line\": {\"color\": \"#2a3f5f\"}}, \"ternary\": {\"aaxis\": {\"gridcolor\": \"white\", \"linecolor\": \"white\", \"ticks\": \"\"}, \"baxis\": {\"gridcolor\": \"white\", \"linecolor\": \"white\", \"ticks\": \"\"}, \"bgcolor\": \"#E5ECF6\", \"caxis\": {\"gridcolor\": \"white\", \"linecolor\": \"white\", \"ticks\": \"\"}}, \"title\": {\"x\": 0.05}, \"xaxis\": {\"automargin\": true, \"gridcolor\": \"white\", \"linecolor\": \"white\", \"ticks\": \"\", \"title\": {\"standoff\": 15}, \"zerolinecolor\": \"white\", \"zerolinewidth\": 2}, \"yaxis\": {\"automargin\": true, \"gridcolor\": \"white\", \"linecolor\": \"white\", \"ticks\": \"\", \"title\": {\"standoff\": 15}, \"zerolinecolor\": \"white\", \"zerolinewidth\": 2}}}, \"title\": {\"font\": {\"color\": \"#4D5663\"}}, \"xaxis\": {\"gridcolor\": \"#E1E5ED\", \"showgrid\": true, \"tickfont\": {\"color\": \"#4D5663\"}, \"title\": {\"font\": {\"color\": \"#4D5663\"}, \"text\": \"\"}, \"zerolinecolor\": \"#E1E5ED\"}, \"yaxis\": {\"gridcolor\": \"#E1E5ED\", \"showgrid\": true, \"tickfont\": {\"color\": \"#4D5663\"}, \"title\": {\"font\": {\"color\": \"#4D5663\"}, \"text\": \"\"}, \"zerolinecolor\": \"#E1E5ED\"}},                        {\"showLink\": true, \"linkText\": \"Export to plot.ly\", \"plotlyServerURL\": \"https://plot.ly\", \"responsive\": true}                    ).then(function(){\n",
       "                            \n",
       "var gd = document.getElementById('81917690-3ebc-4770-a84b-8c5d309ae4dd');\n",
       "var x = new MutationObserver(function (mutations, observer) {{\n",
       "        var display = window.getComputedStyle(gd).display;\n",
       "        if (!display || display === 'none') {{\n",
       "            console.log([gd, 'removed!']);\n",
       "            Plotly.purge(gd);\n",
       "            observer.disconnect();\n",
       "        }}\n",
       "}});\n",
       "\n",
       "// Listen for the removal of the full notebook cells\n",
       "var notebookContainer = gd.closest('#notebook-container');\n",
       "if (notebookContainer) {{\n",
       "    x.observe(notebookContainer, {childList: true});\n",
       "}}\n",
       "\n",
       "// Listen for the clearing of the current output cell\n",
       "var outputEl = gd.closest('.output');\n",
       "if (outputEl) {{\n",
       "    x.observe(outputEl, {childList: true});\n",
       "}}\n",
       "\n",
       "                        })                };                });            </script>        </div>"
      ]
     },
     "metadata": {},
     "output_type": "display_data"
    }
   ],
   "source": [
    "df.iplot(kind='bar')"
   ]
  },
  {
   "cell_type": "code",
   "execution_count": 24,
   "metadata": {},
   "outputs": [
    {
     "data": {
      "application/vnd.plotly.v1+json": {
       "config": {
        "linkText": "Export to plot.ly",
        "plotlyServerURL": "https://plot.ly",
        "showLink": true
       },
       "data": [
        {
         "marker": {
          "color": "rgba(255, 153, 51, 0.6)",
          "line": {
           "color": "rgba(255, 153, 51, 1.0)",
           "width": 1
          }
         },
         "name": "None",
         "orientation": "v",
         "text": "",
         "type": "bar",
         "x": [
          "A",
          "B",
          "C",
          "D"
         ],
         "y": [
          100,
          100,
          100,
          100
         ]
        }
       ],
       "layout": {
        "legend": {
         "bgcolor": "#F5F6F9",
         "font": {
          "color": "#4D5663"
         }
        },
        "paper_bgcolor": "#F5F6F9",
        "plot_bgcolor": "#F5F6F9",
        "template": {
         "data": {
          "bar": [
           {
            "error_x": {
             "color": "#2a3f5f"
            },
            "error_y": {
             "color": "#2a3f5f"
            },
            "marker": {
             "line": {
              "color": "#E5ECF6",
              "width": 0.5
             }
            },
            "type": "bar"
           }
          ],
          "barpolar": [
           {
            "marker": {
             "line": {
              "color": "#E5ECF6",
              "width": 0.5
             }
            },
            "type": "barpolar"
           }
          ],
          "carpet": [
           {
            "aaxis": {
             "endlinecolor": "#2a3f5f",
             "gridcolor": "white",
             "linecolor": "white",
             "minorgridcolor": "white",
             "startlinecolor": "#2a3f5f"
            },
            "baxis": {
             "endlinecolor": "#2a3f5f",
             "gridcolor": "white",
             "linecolor": "white",
             "minorgridcolor": "white",
             "startlinecolor": "#2a3f5f"
            },
            "type": "carpet"
           }
          ],
          "choropleth": [
           {
            "colorbar": {
             "outlinewidth": 0,
             "ticks": ""
            },
            "type": "choropleth"
           }
          ],
          "contour": [
           {
            "colorbar": {
             "outlinewidth": 0,
             "ticks": ""
            },
            "colorscale": [
             [
              0,
              "#0d0887"
             ],
             [
              0.1111111111111111,
              "#46039f"
             ],
             [
              0.2222222222222222,
              "#7201a8"
             ],
             [
              0.3333333333333333,
              "#9c179e"
             ],
             [
              0.4444444444444444,
              "#bd3786"
             ],
             [
              0.5555555555555556,
              "#d8576b"
             ],
             [
              0.6666666666666666,
              "#ed7953"
             ],
             [
              0.7777777777777778,
              "#fb9f3a"
             ],
             [
              0.8888888888888888,
              "#fdca26"
             ],
             [
              1,
              "#f0f921"
             ]
            ],
            "type": "contour"
           }
          ],
          "contourcarpet": [
           {
            "colorbar": {
             "outlinewidth": 0,
             "ticks": ""
            },
            "type": "contourcarpet"
           }
          ],
          "heatmap": [
           {
            "colorbar": {
             "outlinewidth": 0,
             "ticks": ""
            },
            "colorscale": [
             [
              0,
              "#0d0887"
             ],
             [
              0.1111111111111111,
              "#46039f"
             ],
             [
              0.2222222222222222,
              "#7201a8"
             ],
             [
              0.3333333333333333,
              "#9c179e"
             ],
             [
              0.4444444444444444,
              "#bd3786"
             ],
             [
              0.5555555555555556,
              "#d8576b"
             ],
             [
              0.6666666666666666,
              "#ed7953"
             ],
             [
              0.7777777777777778,
              "#fb9f3a"
             ],
             [
              0.8888888888888888,
              "#fdca26"
             ],
             [
              1,
              "#f0f921"
             ]
            ],
            "type": "heatmap"
           }
          ],
          "heatmapgl": [
           {
            "colorbar": {
             "outlinewidth": 0,
             "ticks": ""
            },
            "colorscale": [
             [
              0,
              "#0d0887"
             ],
             [
              0.1111111111111111,
              "#46039f"
             ],
             [
              0.2222222222222222,
              "#7201a8"
             ],
             [
              0.3333333333333333,
              "#9c179e"
             ],
             [
              0.4444444444444444,
              "#bd3786"
             ],
             [
              0.5555555555555556,
              "#d8576b"
             ],
             [
              0.6666666666666666,
              "#ed7953"
             ],
             [
              0.7777777777777778,
              "#fb9f3a"
             ],
             [
              0.8888888888888888,
              "#fdca26"
             ],
             [
              1,
              "#f0f921"
             ]
            ],
            "type": "heatmapgl"
           }
          ],
          "histogram": [
           {
            "marker": {
             "colorbar": {
              "outlinewidth": 0,
              "ticks": ""
             }
            },
            "type": "histogram"
           }
          ],
          "histogram2d": [
           {
            "colorbar": {
             "outlinewidth": 0,
             "ticks": ""
            },
            "colorscale": [
             [
              0,
              "#0d0887"
             ],
             [
              0.1111111111111111,
              "#46039f"
             ],
             [
              0.2222222222222222,
              "#7201a8"
             ],
             [
              0.3333333333333333,
              "#9c179e"
             ],
             [
              0.4444444444444444,
              "#bd3786"
             ],
             [
              0.5555555555555556,
              "#d8576b"
             ],
             [
              0.6666666666666666,
              "#ed7953"
             ],
             [
              0.7777777777777778,
              "#fb9f3a"
             ],
             [
              0.8888888888888888,
              "#fdca26"
             ],
             [
              1,
              "#f0f921"
             ]
            ],
            "type": "histogram2d"
           }
          ],
          "histogram2dcontour": [
           {
            "colorbar": {
             "outlinewidth": 0,
             "ticks": ""
            },
            "colorscale": [
             [
              0,
              "#0d0887"
             ],
             [
              0.1111111111111111,
              "#46039f"
             ],
             [
              0.2222222222222222,
              "#7201a8"
             ],
             [
              0.3333333333333333,
              "#9c179e"
             ],
             [
              0.4444444444444444,
              "#bd3786"
             ],
             [
              0.5555555555555556,
              "#d8576b"
             ],
             [
              0.6666666666666666,
              "#ed7953"
             ],
             [
              0.7777777777777778,
              "#fb9f3a"
             ],
             [
              0.8888888888888888,
              "#fdca26"
             ],
             [
              1,
              "#f0f921"
             ]
            ],
            "type": "histogram2dcontour"
           }
          ],
          "mesh3d": [
           {
            "colorbar": {
             "outlinewidth": 0,
             "ticks": ""
            },
            "type": "mesh3d"
           }
          ],
          "parcoords": [
           {
            "line": {
             "colorbar": {
              "outlinewidth": 0,
              "ticks": ""
             }
            },
            "type": "parcoords"
           }
          ],
          "pie": [
           {
            "automargin": true,
            "type": "pie"
           }
          ],
          "scatter": [
           {
            "marker": {
             "colorbar": {
              "outlinewidth": 0,
              "ticks": ""
             }
            },
            "type": "scatter"
           }
          ],
          "scatter3d": [
           {
            "line": {
             "colorbar": {
              "outlinewidth": 0,
              "ticks": ""
             }
            },
            "marker": {
             "colorbar": {
              "outlinewidth": 0,
              "ticks": ""
             }
            },
            "type": "scatter3d"
           }
          ],
          "scattercarpet": [
           {
            "marker": {
             "colorbar": {
              "outlinewidth": 0,
              "ticks": ""
             }
            },
            "type": "scattercarpet"
           }
          ],
          "scattergeo": [
           {
            "marker": {
             "colorbar": {
              "outlinewidth": 0,
              "ticks": ""
             }
            },
            "type": "scattergeo"
           }
          ],
          "scattergl": [
           {
            "marker": {
             "colorbar": {
              "outlinewidth": 0,
              "ticks": ""
             }
            },
            "type": "scattergl"
           }
          ],
          "scattermapbox": [
           {
            "marker": {
             "colorbar": {
              "outlinewidth": 0,
              "ticks": ""
             }
            },
            "type": "scattermapbox"
           }
          ],
          "scatterpolar": [
           {
            "marker": {
             "colorbar": {
              "outlinewidth": 0,
              "ticks": ""
             }
            },
            "type": "scatterpolar"
           }
          ],
          "scatterpolargl": [
           {
            "marker": {
             "colorbar": {
              "outlinewidth": 0,
              "ticks": ""
             }
            },
            "type": "scatterpolargl"
           }
          ],
          "scatterternary": [
           {
            "marker": {
             "colorbar": {
              "outlinewidth": 0,
              "ticks": ""
             }
            },
            "type": "scatterternary"
           }
          ],
          "surface": [
           {
            "colorbar": {
             "outlinewidth": 0,
             "ticks": ""
            },
            "colorscale": [
             [
              0,
              "#0d0887"
             ],
             [
              0.1111111111111111,
              "#46039f"
             ],
             [
              0.2222222222222222,
              "#7201a8"
             ],
             [
              0.3333333333333333,
              "#9c179e"
             ],
             [
              0.4444444444444444,
              "#bd3786"
             ],
             [
              0.5555555555555556,
              "#d8576b"
             ],
             [
              0.6666666666666666,
              "#ed7953"
             ],
             [
              0.7777777777777778,
              "#fb9f3a"
             ],
             [
              0.8888888888888888,
              "#fdca26"
             ],
             [
              1,
              "#f0f921"
             ]
            ],
            "type": "surface"
           }
          ],
          "table": [
           {
            "cells": {
             "fill": {
              "color": "#EBF0F8"
             },
             "line": {
              "color": "white"
             }
            },
            "header": {
             "fill": {
              "color": "#C8D4E3"
             },
             "line": {
              "color": "white"
             }
            },
            "type": "table"
           }
          ]
         },
         "layout": {
          "annotationdefaults": {
           "arrowcolor": "#2a3f5f",
           "arrowhead": 0,
           "arrowwidth": 1
          },
          "autotypenumbers": "strict",
          "coloraxis": {
           "colorbar": {
            "outlinewidth": 0,
            "ticks": ""
           }
          },
          "colorscale": {
           "diverging": [
            [
             0,
             "#8e0152"
            ],
            [
             0.1,
             "#c51b7d"
            ],
            [
             0.2,
             "#de77ae"
            ],
            [
             0.3,
             "#f1b6da"
            ],
            [
             0.4,
             "#fde0ef"
            ],
            [
             0.5,
             "#f7f7f7"
            ],
            [
             0.6,
             "#e6f5d0"
            ],
            [
             0.7,
             "#b8e186"
            ],
            [
             0.8,
             "#7fbc41"
            ],
            [
             0.9,
             "#4d9221"
            ],
            [
             1,
             "#276419"
            ]
           ],
           "sequential": [
            [
             0,
             "#0d0887"
            ],
            [
             0.1111111111111111,
             "#46039f"
            ],
            [
             0.2222222222222222,
             "#7201a8"
            ],
            [
             0.3333333333333333,
             "#9c179e"
            ],
            [
             0.4444444444444444,
             "#bd3786"
            ],
            [
             0.5555555555555556,
             "#d8576b"
            ],
            [
             0.6666666666666666,
             "#ed7953"
            ],
            [
             0.7777777777777778,
             "#fb9f3a"
            ],
            [
             0.8888888888888888,
             "#fdca26"
            ],
            [
             1,
             "#f0f921"
            ]
           ],
           "sequentialminus": [
            [
             0,
             "#0d0887"
            ],
            [
             0.1111111111111111,
             "#46039f"
            ],
            [
             0.2222222222222222,
             "#7201a8"
            ],
            [
             0.3333333333333333,
             "#9c179e"
            ],
            [
             0.4444444444444444,
             "#bd3786"
            ],
            [
             0.5555555555555556,
             "#d8576b"
            ],
            [
             0.6666666666666666,
             "#ed7953"
            ],
            [
             0.7777777777777778,
             "#fb9f3a"
            ],
            [
             0.8888888888888888,
             "#fdca26"
            ],
            [
             1,
             "#f0f921"
            ]
           ]
          },
          "colorway": [
           "#636efa",
           "#EF553B",
           "#00cc96",
           "#ab63fa",
           "#FFA15A",
           "#19d3f3",
           "#FF6692",
           "#B6E880",
           "#FF97FF",
           "#FECB52"
          ],
          "font": {
           "color": "#2a3f5f"
          },
          "geo": {
           "bgcolor": "white",
           "lakecolor": "white",
           "landcolor": "#E5ECF6",
           "showlakes": true,
           "showland": true,
           "subunitcolor": "white"
          },
          "hoverlabel": {
           "align": "left"
          },
          "hovermode": "closest",
          "mapbox": {
           "style": "light"
          },
          "paper_bgcolor": "white",
          "plot_bgcolor": "#E5ECF6",
          "polar": {
           "angularaxis": {
            "gridcolor": "white",
            "linecolor": "white",
            "ticks": ""
           },
           "bgcolor": "#E5ECF6",
           "radialaxis": {
            "gridcolor": "white",
            "linecolor": "white",
            "ticks": ""
           }
          },
          "scene": {
           "xaxis": {
            "backgroundcolor": "#E5ECF6",
            "gridcolor": "white",
            "gridwidth": 2,
            "linecolor": "white",
            "showbackground": true,
            "ticks": "",
            "zerolinecolor": "white"
           },
           "yaxis": {
            "backgroundcolor": "#E5ECF6",
            "gridcolor": "white",
            "gridwidth": 2,
            "linecolor": "white",
            "showbackground": true,
            "ticks": "",
            "zerolinecolor": "white"
           },
           "zaxis": {
            "backgroundcolor": "#E5ECF6",
            "gridcolor": "white",
            "gridwidth": 2,
            "linecolor": "white",
            "showbackground": true,
            "ticks": "",
            "zerolinecolor": "white"
           }
          },
          "shapedefaults": {
           "line": {
            "color": "#2a3f5f"
           }
          },
          "ternary": {
           "aaxis": {
            "gridcolor": "white",
            "linecolor": "white",
            "ticks": ""
           },
           "baxis": {
            "gridcolor": "white",
            "linecolor": "white",
            "ticks": ""
           },
           "bgcolor": "#E5ECF6",
           "caxis": {
            "gridcolor": "white",
            "linecolor": "white",
            "ticks": ""
           }
          },
          "title": {
           "x": 0.05
          },
          "xaxis": {
           "automargin": true,
           "gridcolor": "white",
           "linecolor": "white",
           "ticks": "",
           "title": {
            "standoff": 15
           },
           "zerolinecolor": "white",
           "zerolinewidth": 2
          },
          "yaxis": {
           "automargin": true,
           "gridcolor": "white",
           "linecolor": "white",
           "ticks": "",
           "title": {
            "standoff": 15
           },
           "zerolinecolor": "white",
           "zerolinewidth": 2
          }
         }
        },
        "title": {
         "font": {
          "color": "#4D5663"
         }
        },
        "xaxis": {
         "gridcolor": "#E1E5ED",
         "showgrid": true,
         "tickfont": {
          "color": "#4D5663"
         },
         "title": {
          "font": {
           "color": "#4D5663"
          },
          "text": ""
         },
         "zerolinecolor": "#E1E5ED"
        },
        "yaxis": {
         "gridcolor": "#E1E5ED",
         "showgrid": true,
         "tickfont": {
          "color": "#4D5663"
         },
         "title": {
          "font": {
           "color": "#4D5663"
          },
          "text": ""
         },
         "zerolinecolor": "#E1E5ED"
        }
       }
      },
      "text/html": [
       "<div>                            <div id=\"a433928a-9489-4339-8aef-0877aa69cbee\" class=\"plotly-graph-div\" style=\"height:525px; width:100%;\"></div>            <script type=\"text/javascript\">                require([\"plotly\"], function(Plotly) {                    window.PLOTLYENV=window.PLOTLYENV || {};\n",
       "                    window.PLOTLYENV.BASE_URL='https://plot.ly';                                    if (document.getElementById(\"a433928a-9489-4339-8aef-0877aa69cbee\")) {                    Plotly.newPlot(                        \"a433928a-9489-4339-8aef-0877aa69cbee\",                        [{\"marker\": {\"color\": \"rgba(255, 153, 51, 0.6)\", \"line\": {\"color\": \"rgba(255, 153, 51, 1.0)\", \"width\": 1}}, \"name\": \"None\", \"orientation\": \"v\", \"text\": \"\", \"type\": \"bar\", \"x\": [\"A\", \"B\", \"C\", \"D\"], \"y\": [100, 100, 100, 100]}],                        {\"legend\": {\"bgcolor\": \"#F5F6F9\", \"font\": {\"color\": \"#4D5663\"}}, \"paper_bgcolor\": \"#F5F6F9\", \"plot_bgcolor\": \"#F5F6F9\", \"template\": {\"data\": {\"bar\": [{\"error_x\": {\"color\": \"#2a3f5f\"}, \"error_y\": {\"color\": \"#2a3f5f\"}, \"marker\": {\"line\": {\"color\": \"#E5ECF6\", \"width\": 0.5}}, \"type\": \"bar\"}], \"barpolar\": [{\"marker\": {\"line\": {\"color\": \"#E5ECF6\", \"width\": 0.5}}, \"type\": \"barpolar\"}], \"carpet\": [{\"aaxis\": {\"endlinecolor\": \"#2a3f5f\", \"gridcolor\": \"white\", \"linecolor\": \"white\", \"minorgridcolor\": \"white\", \"startlinecolor\": \"#2a3f5f\"}, \"baxis\": {\"endlinecolor\": \"#2a3f5f\", \"gridcolor\": \"white\", \"linecolor\": \"white\", \"minorgridcolor\": \"white\", \"startlinecolor\": \"#2a3f5f\"}, \"type\": \"carpet\"}], \"choropleth\": [{\"colorbar\": {\"outlinewidth\": 0, \"ticks\": \"\"}, \"type\": \"choropleth\"}], \"contour\": [{\"colorbar\": {\"outlinewidth\": 0, \"ticks\": \"\"}, \"colorscale\": [[0.0, \"#0d0887\"], [0.1111111111111111, \"#46039f\"], [0.2222222222222222, \"#7201a8\"], [0.3333333333333333, \"#9c179e\"], [0.4444444444444444, \"#bd3786\"], [0.5555555555555556, \"#d8576b\"], [0.6666666666666666, \"#ed7953\"], [0.7777777777777778, \"#fb9f3a\"], [0.8888888888888888, \"#fdca26\"], [1.0, \"#f0f921\"]], \"type\": \"contour\"}], \"contourcarpet\": [{\"colorbar\": {\"outlinewidth\": 0, \"ticks\": \"\"}, \"type\": \"contourcarpet\"}], \"heatmap\": [{\"colorbar\": {\"outlinewidth\": 0, \"ticks\": \"\"}, \"colorscale\": [[0.0, \"#0d0887\"], [0.1111111111111111, \"#46039f\"], [0.2222222222222222, \"#7201a8\"], [0.3333333333333333, \"#9c179e\"], [0.4444444444444444, \"#bd3786\"], [0.5555555555555556, \"#d8576b\"], [0.6666666666666666, \"#ed7953\"], [0.7777777777777778, \"#fb9f3a\"], [0.8888888888888888, \"#fdca26\"], [1.0, \"#f0f921\"]], \"type\": \"heatmap\"}], \"heatmapgl\": [{\"colorbar\": {\"outlinewidth\": 0, \"ticks\": \"\"}, \"colorscale\": [[0.0, \"#0d0887\"], [0.1111111111111111, \"#46039f\"], [0.2222222222222222, \"#7201a8\"], [0.3333333333333333, \"#9c179e\"], [0.4444444444444444, \"#bd3786\"], [0.5555555555555556, \"#d8576b\"], [0.6666666666666666, \"#ed7953\"], [0.7777777777777778, \"#fb9f3a\"], [0.8888888888888888, \"#fdca26\"], [1.0, \"#f0f921\"]], \"type\": \"heatmapgl\"}], \"histogram\": [{\"marker\": {\"colorbar\": {\"outlinewidth\": 0, \"ticks\": \"\"}}, \"type\": \"histogram\"}], \"histogram2d\": [{\"colorbar\": {\"outlinewidth\": 0, \"ticks\": \"\"}, \"colorscale\": [[0.0, \"#0d0887\"], [0.1111111111111111, \"#46039f\"], [0.2222222222222222, \"#7201a8\"], [0.3333333333333333, \"#9c179e\"], [0.4444444444444444, \"#bd3786\"], [0.5555555555555556, \"#d8576b\"], [0.6666666666666666, \"#ed7953\"], [0.7777777777777778, \"#fb9f3a\"], [0.8888888888888888, \"#fdca26\"], [1.0, \"#f0f921\"]], \"type\": \"histogram2d\"}], \"histogram2dcontour\": [{\"colorbar\": {\"outlinewidth\": 0, \"ticks\": \"\"}, \"colorscale\": [[0.0, \"#0d0887\"], [0.1111111111111111, \"#46039f\"], [0.2222222222222222, \"#7201a8\"], [0.3333333333333333, \"#9c179e\"], [0.4444444444444444, \"#bd3786\"], [0.5555555555555556, \"#d8576b\"], [0.6666666666666666, \"#ed7953\"], [0.7777777777777778, \"#fb9f3a\"], [0.8888888888888888, \"#fdca26\"], [1.0, \"#f0f921\"]], \"type\": \"histogram2dcontour\"}], \"mesh3d\": [{\"colorbar\": {\"outlinewidth\": 0, \"ticks\": \"\"}, \"type\": \"mesh3d\"}], \"parcoords\": [{\"line\": {\"colorbar\": {\"outlinewidth\": 0, \"ticks\": \"\"}}, \"type\": \"parcoords\"}], \"pie\": [{\"automargin\": true, \"type\": \"pie\"}], \"scatter\": [{\"marker\": {\"colorbar\": {\"outlinewidth\": 0, \"ticks\": \"\"}}, \"type\": \"scatter\"}], \"scatter3d\": [{\"line\": {\"colorbar\": {\"outlinewidth\": 0, \"ticks\": \"\"}}, \"marker\": {\"colorbar\": {\"outlinewidth\": 0, \"ticks\": \"\"}}, \"type\": \"scatter3d\"}], \"scattercarpet\": [{\"marker\": {\"colorbar\": {\"outlinewidth\": 0, \"ticks\": \"\"}}, \"type\": \"scattercarpet\"}], \"scattergeo\": [{\"marker\": {\"colorbar\": {\"outlinewidth\": 0, \"ticks\": \"\"}}, \"type\": \"scattergeo\"}], \"scattergl\": [{\"marker\": {\"colorbar\": {\"outlinewidth\": 0, \"ticks\": \"\"}}, \"type\": \"scattergl\"}], \"scattermapbox\": [{\"marker\": {\"colorbar\": {\"outlinewidth\": 0, \"ticks\": \"\"}}, \"type\": \"scattermapbox\"}], \"scatterpolar\": [{\"marker\": {\"colorbar\": {\"outlinewidth\": 0, \"ticks\": \"\"}}, \"type\": \"scatterpolar\"}], \"scatterpolargl\": [{\"marker\": {\"colorbar\": {\"outlinewidth\": 0, \"ticks\": \"\"}}, \"type\": \"scatterpolargl\"}], \"scatterternary\": [{\"marker\": {\"colorbar\": {\"outlinewidth\": 0, \"ticks\": \"\"}}, \"type\": \"scatterternary\"}], \"surface\": [{\"colorbar\": {\"outlinewidth\": 0, \"ticks\": \"\"}, \"colorscale\": [[0.0, \"#0d0887\"], [0.1111111111111111, \"#46039f\"], [0.2222222222222222, \"#7201a8\"], [0.3333333333333333, \"#9c179e\"], [0.4444444444444444, \"#bd3786\"], [0.5555555555555556, \"#d8576b\"], [0.6666666666666666, \"#ed7953\"], [0.7777777777777778, \"#fb9f3a\"], [0.8888888888888888, \"#fdca26\"], [1.0, \"#f0f921\"]], \"type\": \"surface\"}], \"table\": [{\"cells\": {\"fill\": {\"color\": \"#EBF0F8\"}, \"line\": {\"color\": \"white\"}}, \"header\": {\"fill\": {\"color\": \"#C8D4E3\"}, \"line\": {\"color\": \"white\"}}, \"type\": \"table\"}]}, \"layout\": {\"annotationdefaults\": {\"arrowcolor\": \"#2a3f5f\", \"arrowhead\": 0, \"arrowwidth\": 1}, \"autotypenumbers\": \"strict\", \"coloraxis\": {\"colorbar\": {\"outlinewidth\": 0, \"ticks\": \"\"}}, \"colorscale\": {\"diverging\": [[0, \"#8e0152\"], [0.1, \"#c51b7d\"], [0.2, \"#de77ae\"], [0.3, \"#f1b6da\"], [0.4, \"#fde0ef\"], [0.5, \"#f7f7f7\"], [0.6, \"#e6f5d0\"], [0.7, \"#b8e186\"], [0.8, \"#7fbc41\"], [0.9, \"#4d9221\"], [1, \"#276419\"]], \"sequential\": [[0.0, \"#0d0887\"], [0.1111111111111111, \"#46039f\"], [0.2222222222222222, \"#7201a8\"], [0.3333333333333333, \"#9c179e\"], [0.4444444444444444, \"#bd3786\"], [0.5555555555555556, \"#d8576b\"], [0.6666666666666666, \"#ed7953\"], [0.7777777777777778, \"#fb9f3a\"], [0.8888888888888888, \"#fdca26\"], [1.0, \"#f0f921\"]], \"sequentialminus\": [[0.0, \"#0d0887\"], [0.1111111111111111, \"#46039f\"], [0.2222222222222222, \"#7201a8\"], [0.3333333333333333, \"#9c179e\"], [0.4444444444444444, \"#bd3786\"], [0.5555555555555556, \"#d8576b\"], [0.6666666666666666, \"#ed7953\"], [0.7777777777777778, \"#fb9f3a\"], [0.8888888888888888, \"#fdca26\"], [1.0, \"#f0f921\"]]}, \"colorway\": [\"#636efa\", \"#EF553B\", \"#00cc96\", \"#ab63fa\", \"#FFA15A\", \"#19d3f3\", \"#FF6692\", \"#B6E880\", \"#FF97FF\", \"#FECB52\"], \"font\": {\"color\": \"#2a3f5f\"}, \"geo\": {\"bgcolor\": \"white\", \"lakecolor\": \"white\", \"landcolor\": \"#E5ECF6\", \"showlakes\": true, \"showland\": true, \"subunitcolor\": \"white\"}, \"hoverlabel\": {\"align\": \"left\"}, \"hovermode\": \"closest\", \"mapbox\": {\"style\": \"light\"}, \"paper_bgcolor\": \"white\", \"plot_bgcolor\": \"#E5ECF6\", \"polar\": {\"angularaxis\": {\"gridcolor\": \"white\", \"linecolor\": \"white\", \"ticks\": \"\"}, \"bgcolor\": \"#E5ECF6\", \"radialaxis\": {\"gridcolor\": \"white\", \"linecolor\": \"white\", \"ticks\": \"\"}}, \"scene\": {\"xaxis\": {\"backgroundcolor\": \"#E5ECF6\", \"gridcolor\": \"white\", \"gridwidth\": 2, \"linecolor\": \"white\", \"showbackground\": true, \"ticks\": \"\", \"zerolinecolor\": \"white\"}, \"yaxis\": {\"backgroundcolor\": \"#E5ECF6\", \"gridcolor\": \"white\", \"gridwidth\": 2, \"linecolor\": \"white\", \"showbackground\": true, \"ticks\": \"\", \"zerolinecolor\": \"white\"}, \"zaxis\": {\"backgroundcolor\": \"#E5ECF6\", \"gridcolor\": \"white\", \"gridwidth\": 2, \"linecolor\": \"white\", \"showbackground\": true, \"ticks\": \"\", \"zerolinecolor\": \"white\"}}, \"shapedefaults\": {\"line\": {\"color\": \"#2a3f5f\"}}, \"ternary\": {\"aaxis\": {\"gridcolor\": \"white\", \"linecolor\": \"white\", \"ticks\": \"\"}, \"baxis\": {\"gridcolor\": \"white\", \"linecolor\": \"white\", \"ticks\": \"\"}, \"bgcolor\": \"#E5ECF6\", \"caxis\": {\"gridcolor\": \"white\", \"linecolor\": \"white\", \"ticks\": \"\"}}, \"title\": {\"x\": 0.05}, \"xaxis\": {\"automargin\": true, \"gridcolor\": \"white\", \"linecolor\": \"white\", \"ticks\": \"\", \"title\": {\"standoff\": 15}, \"zerolinecolor\": \"white\", \"zerolinewidth\": 2}, \"yaxis\": {\"automargin\": true, \"gridcolor\": \"white\", \"linecolor\": \"white\", \"ticks\": \"\", \"title\": {\"standoff\": 15}, \"zerolinecolor\": \"white\", \"zerolinewidth\": 2}}}, \"title\": {\"font\": {\"color\": \"#4D5663\"}}, \"xaxis\": {\"gridcolor\": \"#E1E5ED\", \"showgrid\": true, \"tickfont\": {\"color\": \"#4D5663\"}, \"title\": {\"font\": {\"color\": \"#4D5663\"}, \"text\": \"\"}, \"zerolinecolor\": \"#E1E5ED\"}, \"yaxis\": {\"gridcolor\": \"#E1E5ED\", \"showgrid\": true, \"tickfont\": {\"color\": \"#4D5663\"}, \"title\": {\"font\": {\"color\": \"#4D5663\"}, \"text\": \"\"}, \"zerolinecolor\": \"#E1E5ED\"}},                        {\"showLink\": true, \"linkText\": \"Export to plot.ly\", \"plotlyServerURL\": \"https://plot.ly\", \"responsive\": true}                    ).then(function(){\n",
       "                            \n",
       "var gd = document.getElementById('a433928a-9489-4339-8aef-0877aa69cbee');\n",
       "var x = new MutationObserver(function (mutations, observer) {{\n",
       "        var display = window.getComputedStyle(gd).display;\n",
       "        if (!display || display === 'none') {{\n",
       "            console.log([gd, 'removed!']);\n",
       "            Plotly.purge(gd);\n",
       "            observer.disconnect();\n",
       "        }}\n",
       "}});\n",
       "\n",
       "// Listen for the removal of the full notebook cells\n",
       "var notebookContainer = gd.closest('#notebook-container');\n",
       "if (notebookContainer) {{\n",
       "    x.observe(notebookContainer, {childList: true});\n",
       "}}\n",
       "\n",
       "// Listen for the clearing of the current output cell\n",
       "var outputEl = gd.closest('.output');\n",
       "if (outputEl) {{\n",
       "    x.observe(outputEl, {childList: true});\n",
       "}}\n",
       "\n",
       "                        })                };                });            </script>        </div>"
      ]
     },
     "metadata": {},
     "output_type": "display_data"
    }
   ],
   "source": [
    "#aggregate functions\n",
    "df.count().iplot(kind='bar')"
   ]
  },
  {
   "cell_type": "code",
   "execution_count": 25,
   "metadata": {},
   "outputs": [
    {
     "data": {
      "application/vnd.plotly.v1+json": {
       "config": {
        "linkText": "Export to plot.ly",
        "plotlyServerURL": "https://plot.ly",
        "showLink": true
       },
       "data": [
        {
         "marker": {
          "color": "rgba(255, 153, 51, 0.6)",
          "line": {
           "color": "rgba(255, 153, 51, 1.0)",
           "width": 1
          }
         },
         "name": "None",
         "orientation": "v",
         "text": "",
         "type": "bar",
         "x": [
          "A",
          "B",
          "C",
          "D"
         ],
         "y": [
          10.597116782606438,
          11.207841050098002,
          -0.774638147565746,
          -4.9628721404075735
         ]
        }
       ],
       "layout": {
        "legend": {
         "bgcolor": "#F5F6F9",
         "font": {
          "color": "#4D5663"
         }
        },
        "paper_bgcolor": "#F5F6F9",
        "plot_bgcolor": "#F5F6F9",
        "template": {
         "data": {
          "bar": [
           {
            "error_x": {
             "color": "#2a3f5f"
            },
            "error_y": {
             "color": "#2a3f5f"
            },
            "marker": {
             "line": {
              "color": "#E5ECF6",
              "width": 0.5
             }
            },
            "type": "bar"
           }
          ],
          "barpolar": [
           {
            "marker": {
             "line": {
              "color": "#E5ECF6",
              "width": 0.5
             }
            },
            "type": "barpolar"
           }
          ],
          "carpet": [
           {
            "aaxis": {
             "endlinecolor": "#2a3f5f",
             "gridcolor": "white",
             "linecolor": "white",
             "minorgridcolor": "white",
             "startlinecolor": "#2a3f5f"
            },
            "baxis": {
             "endlinecolor": "#2a3f5f",
             "gridcolor": "white",
             "linecolor": "white",
             "minorgridcolor": "white",
             "startlinecolor": "#2a3f5f"
            },
            "type": "carpet"
           }
          ],
          "choropleth": [
           {
            "colorbar": {
             "outlinewidth": 0,
             "ticks": ""
            },
            "type": "choropleth"
           }
          ],
          "contour": [
           {
            "colorbar": {
             "outlinewidth": 0,
             "ticks": ""
            },
            "colorscale": [
             [
              0,
              "#0d0887"
             ],
             [
              0.1111111111111111,
              "#46039f"
             ],
             [
              0.2222222222222222,
              "#7201a8"
             ],
             [
              0.3333333333333333,
              "#9c179e"
             ],
             [
              0.4444444444444444,
              "#bd3786"
             ],
             [
              0.5555555555555556,
              "#d8576b"
             ],
             [
              0.6666666666666666,
              "#ed7953"
             ],
             [
              0.7777777777777778,
              "#fb9f3a"
             ],
             [
              0.8888888888888888,
              "#fdca26"
             ],
             [
              1,
              "#f0f921"
             ]
            ],
            "type": "contour"
           }
          ],
          "contourcarpet": [
           {
            "colorbar": {
             "outlinewidth": 0,
             "ticks": ""
            },
            "type": "contourcarpet"
           }
          ],
          "heatmap": [
           {
            "colorbar": {
             "outlinewidth": 0,
             "ticks": ""
            },
            "colorscale": [
             [
              0,
              "#0d0887"
             ],
             [
              0.1111111111111111,
              "#46039f"
             ],
             [
              0.2222222222222222,
              "#7201a8"
             ],
             [
              0.3333333333333333,
              "#9c179e"
             ],
             [
              0.4444444444444444,
              "#bd3786"
             ],
             [
              0.5555555555555556,
              "#d8576b"
             ],
             [
              0.6666666666666666,
              "#ed7953"
             ],
             [
              0.7777777777777778,
              "#fb9f3a"
             ],
             [
              0.8888888888888888,
              "#fdca26"
             ],
             [
              1,
              "#f0f921"
             ]
            ],
            "type": "heatmap"
           }
          ],
          "heatmapgl": [
           {
            "colorbar": {
             "outlinewidth": 0,
             "ticks": ""
            },
            "colorscale": [
             [
              0,
              "#0d0887"
             ],
             [
              0.1111111111111111,
              "#46039f"
             ],
             [
              0.2222222222222222,
              "#7201a8"
             ],
             [
              0.3333333333333333,
              "#9c179e"
             ],
             [
              0.4444444444444444,
              "#bd3786"
             ],
             [
              0.5555555555555556,
              "#d8576b"
             ],
             [
              0.6666666666666666,
              "#ed7953"
             ],
             [
              0.7777777777777778,
              "#fb9f3a"
             ],
             [
              0.8888888888888888,
              "#fdca26"
             ],
             [
              1,
              "#f0f921"
             ]
            ],
            "type": "heatmapgl"
           }
          ],
          "histogram": [
           {
            "marker": {
             "colorbar": {
              "outlinewidth": 0,
              "ticks": ""
             }
            },
            "type": "histogram"
           }
          ],
          "histogram2d": [
           {
            "colorbar": {
             "outlinewidth": 0,
             "ticks": ""
            },
            "colorscale": [
             [
              0,
              "#0d0887"
             ],
             [
              0.1111111111111111,
              "#46039f"
             ],
             [
              0.2222222222222222,
              "#7201a8"
             ],
             [
              0.3333333333333333,
              "#9c179e"
             ],
             [
              0.4444444444444444,
              "#bd3786"
             ],
             [
              0.5555555555555556,
              "#d8576b"
             ],
             [
              0.6666666666666666,
              "#ed7953"
             ],
             [
              0.7777777777777778,
              "#fb9f3a"
             ],
             [
              0.8888888888888888,
              "#fdca26"
             ],
             [
              1,
              "#f0f921"
             ]
            ],
            "type": "histogram2d"
           }
          ],
          "histogram2dcontour": [
           {
            "colorbar": {
             "outlinewidth": 0,
             "ticks": ""
            },
            "colorscale": [
             [
              0,
              "#0d0887"
             ],
             [
              0.1111111111111111,
              "#46039f"
             ],
             [
              0.2222222222222222,
              "#7201a8"
             ],
             [
              0.3333333333333333,
              "#9c179e"
             ],
             [
              0.4444444444444444,
              "#bd3786"
             ],
             [
              0.5555555555555556,
              "#d8576b"
             ],
             [
              0.6666666666666666,
              "#ed7953"
             ],
             [
              0.7777777777777778,
              "#fb9f3a"
             ],
             [
              0.8888888888888888,
              "#fdca26"
             ],
             [
              1,
              "#f0f921"
             ]
            ],
            "type": "histogram2dcontour"
           }
          ],
          "mesh3d": [
           {
            "colorbar": {
             "outlinewidth": 0,
             "ticks": ""
            },
            "type": "mesh3d"
           }
          ],
          "parcoords": [
           {
            "line": {
             "colorbar": {
              "outlinewidth": 0,
              "ticks": ""
             }
            },
            "type": "parcoords"
           }
          ],
          "pie": [
           {
            "automargin": true,
            "type": "pie"
           }
          ],
          "scatter": [
           {
            "marker": {
             "colorbar": {
              "outlinewidth": 0,
              "ticks": ""
             }
            },
            "type": "scatter"
           }
          ],
          "scatter3d": [
           {
            "line": {
             "colorbar": {
              "outlinewidth": 0,
              "ticks": ""
             }
            },
            "marker": {
             "colorbar": {
              "outlinewidth": 0,
              "ticks": ""
             }
            },
            "type": "scatter3d"
           }
          ],
          "scattercarpet": [
           {
            "marker": {
             "colorbar": {
              "outlinewidth": 0,
              "ticks": ""
             }
            },
            "type": "scattercarpet"
           }
          ],
          "scattergeo": [
           {
            "marker": {
             "colorbar": {
              "outlinewidth": 0,
              "ticks": ""
             }
            },
            "type": "scattergeo"
           }
          ],
          "scattergl": [
           {
            "marker": {
             "colorbar": {
              "outlinewidth": 0,
              "ticks": ""
             }
            },
            "type": "scattergl"
           }
          ],
          "scattermapbox": [
           {
            "marker": {
             "colorbar": {
              "outlinewidth": 0,
              "ticks": ""
             }
            },
            "type": "scattermapbox"
           }
          ],
          "scatterpolar": [
           {
            "marker": {
             "colorbar": {
              "outlinewidth": 0,
              "ticks": ""
             }
            },
            "type": "scatterpolar"
           }
          ],
          "scatterpolargl": [
           {
            "marker": {
             "colorbar": {
              "outlinewidth": 0,
              "ticks": ""
             }
            },
            "type": "scatterpolargl"
           }
          ],
          "scatterternary": [
           {
            "marker": {
             "colorbar": {
              "outlinewidth": 0,
              "ticks": ""
             }
            },
            "type": "scatterternary"
           }
          ],
          "surface": [
           {
            "colorbar": {
             "outlinewidth": 0,
             "ticks": ""
            },
            "colorscale": [
             [
              0,
              "#0d0887"
             ],
             [
              0.1111111111111111,
              "#46039f"
             ],
             [
              0.2222222222222222,
              "#7201a8"
             ],
             [
              0.3333333333333333,
              "#9c179e"
             ],
             [
              0.4444444444444444,
              "#bd3786"
             ],
             [
              0.5555555555555556,
              "#d8576b"
             ],
             [
              0.6666666666666666,
              "#ed7953"
             ],
             [
              0.7777777777777778,
              "#fb9f3a"
             ],
             [
              0.8888888888888888,
              "#fdca26"
             ],
             [
              1,
              "#f0f921"
             ]
            ],
            "type": "surface"
           }
          ],
          "table": [
           {
            "cells": {
             "fill": {
              "color": "#EBF0F8"
             },
             "line": {
              "color": "white"
             }
            },
            "header": {
             "fill": {
              "color": "#C8D4E3"
             },
             "line": {
              "color": "white"
             }
            },
            "type": "table"
           }
          ]
         },
         "layout": {
          "annotationdefaults": {
           "arrowcolor": "#2a3f5f",
           "arrowhead": 0,
           "arrowwidth": 1
          },
          "autotypenumbers": "strict",
          "coloraxis": {
           "colorbar": {
            "outlinewidth": 0,
            "ticks": ""
           }
          },
          "colorscale": {
           "diverging": [
            [
             0,
             "#8e0152"
            ],
            [
             0.1,
             "#c51b7d"
            ],
            [
             0.2,
             "#de77ae"
            ],
            [
             0.3,
             "#f1b6da"
            ],
            [
             0.4,
             "#fde0ef"
            ],
            [
             0.5,
             "#f7f7f7"
            ],
            [
             0.6,
             "#e6f5d0"
            ],
            [
             0.7,
             "#b8e186"
            ],
            [
             0.8,
             "#7fbc41"
            ],
            [
             0.9,
             "#4d9221"
            ],
            [
             1,
             "#276419"
            ]
           ],
           "sequential": [
            [
             0,
             "#0d0887"
            ],
            [
             0.1111111111111111,
             "#46039f"
            ],
            [
             0.2222222222222222,
             "#7201a8"
            ],
            [
             0.3333333333333333,
             "#9c179e"
            ],
            [
             0.4444444444444444,
             "#bd3786"
            ],
            [
             0.5555555555555556,
             "#d8576b"
            ],
            [
             0.6666666666666666,
             "#ed7953"
            ],
            [
             0.7777777777777778,
             "#fb9f3a"
            ],
            [
             0.8888888888888888,
             "#fdca26"
            ],
            [
             1,
             "#f0f921"
            ]
           ],
           "sequentialminus": [
            [
             0,
             "#0d0887"
            ],
            [
             0.1111111111111111,
             "#46039f"
            ],
            [
             0.2222222222222222,
             "#7201a8"
            ],
            [
             0.3333333333333333,
             "#9c179e"
            ],
            [
             0.4444444444444444,
             "#bd3786"
            ],
            [
             0.5555555555555556,
             "#d8576b"
            ],
            [
             0.6666666666666666,
             "#ed7953"
            ],
            [
             0.7777777777777778,
             "#fb9f3a"
            ],
            [
             0.8888888888888888,
             "#fdca26"
            ],
            [
             1,
             "#f0f921"
            ]
           ]
          },
          "colorway": [
           "#636efa",
           "#EF553B",
           "#00cc96",
           "#ab63fa",
           "#FFA15A",
           "#19d3f3",
           "#FF6692",
           "#B6E880",
           "#FF97FF",
           "#FECB52"
          ],
          "font": {
           "color": "#2a3f5f"
          },
          "geo": {
           "bgcolor": "white",
           "lakecolor": "white",
           "landcolor": "#E5ECF6",
           "showlakes": true,
           "showland": true,
           "subunitcolor": "white"
          },
          "hoverlabel": {
           "align": "left"
          },
          "hovermode": "closest",
          "mapbox": {
           "style": "light"
          },
          "paper_bgcolor": "white",
          "plot_bgcolor": "#E5ECF6",
          "polar": {
           "angularaxis": {
            "gridcolor": "white",
            "linecolor": "white",
            "ticks": ""
           },
           "bgcolor": "#E5ECF6",
           "radialaxis": {
            "gridcolor": "white",
            "linecolor": "white",
            "ticks": ""
           }
          },
          "scene": {
           "xaxis": {
            "backgroundcolor": "#E5ECF6",
            "gridcolor": "white",
            "gridwidth": 2,
            "linecolor": "white",
            "showbackground": true,
            "ticks": "",
            "zerolinecolor": "white"
           },
           "yaxis": {
            "backgroundcolor": "#E5ECF6",
            "gridcolor": "white",
            "gridwidth": 2,
            "linecolor": "white",
            "showbackground": true,
            "ticks": "",
            "zerolinecolor": "white"
           },
           "zaxis": {
            "backgroundcolor": "#E5ECF6",
            "gridcolor": "white",
            "gridwidth": 2,
            "linecolor": "white",
            "showbackground": true,
            "ticks": "",
            "zerolinecolor": "white"
           }
          },
          "shapedefaults": {
           "line": {
            "color": "#2a3f5f"
           }
          },
          "ternary": {
           "aaxis": {
            "gridcolor": "white",
            "linecolor": "white",
            "ticks": ""
           },
           "baxis": {
            "gridcolor": "white",
            "linecolor": "white",
            "ticks": ""
           },
           "bgcolor": "#E5ECF6",
           "caxis": {
            "gridcolor": "white",
            "linecolor": "white",
            "ticks": ""
           }
          },
          "title": {
           "x": 0.05
          },
          "xaxis": {
           "automargin": true,
           "gridcolor": "white",
           "linecolor": "white",
           "ticks": "",
           "title": {
            "standoff": 15
           },
           "zerolinecolor": "white",
           "zerolinewidth": 2
          },
          "yaxis": {
           "automargin": true,
           "gridcolor": "white",
           "linecolor": "white",
           "ticks": "",
           "title": {
            "standoff": 15
           },
           "zerolinecolor": "white",
           "zerolinewidth": 2
          }
         }
        },
        "title": {
         "font": {
          "color": "#4D5663"
         }
        },
        "xaxis": {
         "gridcolor": "#E1E5ED",
         "showgrid": true,
         "tickfont": {
          "color": "#4D5663"
         },
         "title": {
          "font": {
           "color": "#4D5663"
          },
          "text": ""
         },
         "zerolinecolor": "#E1E5ED"
        },
        "yaxis": {
         "gridcolor": "#E1E5ED",
         "showgrid": true,
         "tickfont": {
          "color": "#4D5663"
         },
         "title": {
          "font": {
           "color": "#4D5663"
          },
          "text": ""
         },
         "zerolinecolor": "#E1E5ED"
        }
       }
      },
      "text/html": [
       "<div>                            <div id=\"11a56618-f4ff-4256-a4a2-3626374fc989\" class=\"plotly-graph-div\" style=\"height:525px; width:100%;\"></div>            <script type=\"text/javascript\">                require([\"plotly\"], function(Plotly) {                    window.PLOTLYENV=window.PLOTLYENV || {};\n",
       "                    window.PLOTLYENV.BASE_URL='https://plot.ly';                                    if (document.getElementById(\"11a56618-f4ff-4256-a4a2-3626374fc989\")) {                    Plotly.newPlot(                        \"11a56618-f4ff-4256-a4a2-3626374fc989\",                        [{\"marker\": {\"color\": \"rgba(255, 153, 51, 0.6)\", \"line\": {\"color\": \"rgba(255, 153, 51, 1.0)\", \"width\": 1}}, \"name\": \"None\", \"orientation\": \"v\", \"text\": \"\", \"type\": \"bar\", \"x\": [\"A\", \"B\", \"C\", \"D\"], \"y\": [10.597116782606438, 11.207841050098002, -0.774638147565746, -4.9628721404075735]}],                        {\"legend\": {\"bgcolor\": \"#F5F6F9\", \"font\": {\"color\": \"#4D5663\"}}, \"paper_bgcolor\": \"#F5F6F9\", \"plot_bgcolor\": \"#F5F6F9\", \"template\": {\"data\": {\"bar\": [{\"error_x\": {\"color\": \"#2a3f5f\"}, \"error_y\": {\"color\": \"#2a3f5f\"}, \"marker\": {\"line\": {\"color\": \"#E5ECF6\", \"width\": 0.5}}, \"type\": \"bar\"}], \"barpolar\": [{\"marker\": {\"line\": {\"color\": \"#E5ECF6\", \"width\": 0.5}}, \"type\": \"barpolar\"}], \"carpet\": [{\"aaxis\": {\"endlinecolor\": \"#2a3f5f\", \"gridcolor\": \"white\", \"linecolor\": \"white\", \"minorgridcolor\": \"white\", \"startlinecolor\": \"#2a3f5f\"}, \"baxis\": {\"endlinecolor\": \"#2a3f5f\", \"gridcolor\": \"white\", \"linecolor\": \"white\", \"minorgridcolor\": \"white\", \"startlinecolor\": \"#2a3f5f\"}, \"type\": \"carpet\"}], \"choropleth\": [{\"colorbar\": {\"outlinewidth\": 0, \"ticks\": \"\"}, \"type\": \"choropleth\"}], \"contour\": [{\"colorbar\": {\"outlinewidth\": 0, \"ticks\": \"\"}, \"colorscale\": [[0.0, \"#0d0887\"], [0.1111111111111111, \"#46039f\"], [0.2222222222222222, \"#7201a8\"], [0.3333333333333333, \"#9c179e\"], [0.4444444444444444, \"#bd3786\"], [0.5555555555555556, \"#d8576b\"], [0.6666666666666666, \"#ed7953\"], [0.7777777777777778, \"#fb9f3a\"], [0.8888888888888888, \"#fdca26\"], [1.0, \"#f0f921\"]], \"type\": \"contour\"}], \"contourcarpet\": [{\"colorbar\": {\"outlinewidth\": 0, \"ticks\": \"\"}, \"type\": \"contourcarpet\"}], \"heatmap\": [{\"colorbar\": {\"outlinewidth\": 0, \"ticks\": \"\"}, \"colorscale\": [[0.0, \"#0d0887\"], [0.1111111111111111, \"#46039f\"], [0.2222222222222222, \"#7201a8\"], [0.3333333333333333, \"#9c179e\"], [0.4444444444444444, \"#bd3786\"], [0.5555555555555556, \"#d8576b\"], [0.6666666666666666, \"#ed7953\"], [0.7777777777777778, \"#fb9f3a\"], [0.8888888888888888, \"#fdca26\"], [1.0, \"#f0f921\"]], \"type\": \"heatmap\"}], \"heatmapgl\": [{\"colorbar\": {\"outlinewidth\": 0, \"ticks\": \"\"}, \"colorscale\": [[0.0, \"#0d0887\"], [0.1111111111111111, \"#46039f\"], [0.2222222222222222, \"#7201a8\"], [0.3333333333333333, \"#9c179e\"], [0.4444444444444444, \"#bd3786\"], [0.5555555555555556, \"#d8576b\"], [0.6666666666666666, \"#ed7953\"], [0.7777777777777778, \"#fb9f3a\"], [0.8888888888888888, \"#fdca26\"], [1.0, \"#f0f921\"]], \"type\": \"heatmapgl\"}], \"histogram\": [{\"marker\": {\"colorbar\": {\"outlinewidth\": 0, \"ticks\": \"\"}}, \"type\": \"histogram\"}], \"histogram2d\": [{\"colorbar\": {\"outlinewidth\": 0, \"ticks\": \"\"}, \"colorscale\": [[0.0, \"#0d0887\"], [0.1111111111111111, \"#46039f\"], [0.2222222222222222, \"#7201a8\"], [0.3333333333333333, \"#9c179e\"], [0.4444444444444444, \"#bd3786\"], [0.5555555555555556, \"#d8576b\"], [0.6666666666666666, \"#ed7953\"], [0.7777777777777778, \"#fb9f3a\"], [0.8888888888888888, \"#fdca26\"], [1.0, \"#f0f921\"]], \"type\": \"histogram2d\"}], \"histogram2dcontour\": [{\"colorbar\": {\"outlinewidth\": 0, \"ticks\": \"\"}, \"colorscale\": [[0.0, \"#0d0887\"], [0.1111111111111111, \"#46039f\"], [0.2222222222222222, \"#7201a8\"], [0.3333333333333333, \"#9c179e\"], [0.4444444444444444, \"#bd3786\"], [0.5555555555555556, \"#d8576b\"], [0.6666666666666666, \"#ed7953\"], [0.7777777777777778, \"#fb9f3a\"], [0.8888888888888888, \"#fdca26\"], [1.0, \"#f0f921\"]], \"type\": \"histogram2dcontour\"}], \"mesh3d\": [{\"colorbar\": {\"outlinewidth\": 0, \"ticks\": \"\"}, \"type\": \"mesh3d\"}], \"parcoords\": [{\"line\": {\"colorbar\": {\"outlinewidth\": 0, \"ticks\": \"\"}}, \"type\": \"parcoords\"}], \"pie\": [{\"automargin\": true, \"type\": \"pie\"}], \"scatter\": [{\"marker\": {\"colorbar\": {\"outlinewidth\": 0, \"ticks\": \"\"}}, \"type\": \"scatter\"}], \"scatter3d\": [{\"line\": {\"colorbar\": {\"outlinewidth\": 0, \"ticks\": \"\"}}, \"marker\": {\"colorbar\": {\"outlinewidth\": 0, \"ticks\": \"\"}}, \"type\": \"scatter3d\"}], \"scattercarpet\": [{\"marker\": {\"colorbar\": {\"outlinewidth\": 0, \"ticks\": \"\"}}, \"type\": \"scattercarpet\"}], \"scattergeo\": [{\"marker\": {\"colorbar\": {\"outlinewidth\": 0, \"ticks\": \"\"}}, \"type\": \"scattergeo\"}], \"scattergl\": [{\"marker\": {\"colorbar\": {\"outlinewidth\": 0, \"ticks\": \"\"}}, \"type\": \"scattergl\"}], \"scattermapbox\": [{\"marker\": {\"colorbar\": {\"outlinewidth\": 0, \"ticks\": \"\"}}, \"type\": \"scattermapbox\"}], \"scatterpolar\": [{\"marker\": {\"colorbar\": {\"outlinewidth\": 0, \"ticks\": \"\"}}, \"type\": \"scatterpolar\"}], \"scatterpolargl\": [{\"marker\": {\"colorbar\": {\"outlinewidth\": 0, \"ticks\": \"\"}}, \"type\": \"scatterpolargl\"}], \"scatterternary\": [{\"marker\": {\"colorbar\": {\"outlinewidth\": 0, \"ticks\": \"\"}}, \"type\": \"scatterternary\"}], \"surface\": [{\"colorbar\": {\"outlinewidth\": 0, \"ticks\": \"\"}, \"colorscale\": [[0.0, \"#0d0887\"], [0.1111111111111111, \"#46039f\"], [0.2222222222222222, \"#7201a8\"], [0.3333333333333333, \"#9c179e\"], [0.4444444444444444, \"#bd3786\"], [0.5555555555555556, \"#d8576b\"], [0.6666666666666666, \"#ed7953\"], [0.7777777777777778, \"#fb9f3a\"], [0.8888888888888888, \"#fdca26\"], [1.0, \"#f0f921\"]], \"type\": \"surface\"}], \"table\": [{\"cells\": {\"fill\": {\"color\": \"#EBF0F8\"}, \"line\": {\"color\": \"white\"}}, \"header\": {\"fill\": {\"color\": \"#C8D4E3\"}, \"line\": {\"color\": \"white\"}}, \"type\": \"table\"}]}, \"layout\": {\"annotationdefaults\": {\"arrowcolor\": \"#2a3f5f\", \"arrowhead\": 0, \"arrowwidth\": 1}, \"autotypenumbers\": \"strict\", \"coloraxis\": {\"colorbar\": {\"outlinewidth\": 0, \"ticks\": \"\"}}, \"colorscale\": {\"diverging\": [[0, \"#8e0152\"], [0.1, \"#c51b7d\"], [0.2, \"#de77ae\"], [0.3, \"#f1b6da\"], [0.4, \"#fde0ef\"], [0.5, \"#f7f7f7\"], [0.6, \"#e6f5d0\"], [0.7, \"#b8e186\"], [0.8, \"#7fbc41\"], [0.9, \"#4d9221\"], [1, \"#276419\"]], \"sequential\": [[0.0, \"#0d0887\"], [0.1111111111111111, \"#46039f\"], [0.2222222222222222, \"#7201a8\"], [0.3333333333333333, \"#9c179e\"], [0.4444444444444444, \"#bd3786\"], [0.5555555555555556, \"#d8576b\"], [0.6666666666666666, \"#ed7953\"], [0.7777777777777778, \"#fb9f3a\"], [0.8888888888888888, \"#fdca26\"], [1.0, \"#f0f921\"]], \"sequentialminus\": [[0.0, \"#0d0887\"], [0.1111111111111111, \"#46039f\"], [0.2222222222222222, \"#7201a8\"], [0.3333333333333333, \"#9c179e\"], [0.4444444444444444, \"#bd3786\"], [0.5555555555555556, \"#d8576b\"], [0.6666666666666666, \"#ed7953\"], [0.7777777777777778, \"#fb9f3a\"], [0.8888888888888888, \"#fdca26\"], [1.0, \"#f0f921\"]]}, \"colorway\": [\"#636efa\", \"#EF553B\", \"#00cc96\", \"#ab63fa\", \"#FFA15A\", \"#19d3f3\", \"#FF6692\", \"#B6E880\", \"#FF97FF\", \"#FECB52\"], \"font\": {\"color\": \"#2a3f5f\"}, \"geo\": {\"bgcolor\": \"white\", \"lakecolor\": \"white\", \"landcolor\": \"#E5ECF6\", \"showlakes\": true, \"showland\": true, \"subunitcolor\": \"white\"}, \"hoverlabel\": {\"align\": \"left\"}, \"hovermode\": \"closest\", \"mapbox\": {\"style\": \"light\"}, \"paper_bgcolor\": \"white\", \"plot_bgcolor\": \"#E5ECF6\", \"polar\": {\"angularaxis\": {\"gridcolor\": \"white\", \"linecolor\": \"white\", \"ticks\": \"\"}, \"bgcolor\": \"#E5ECF6\", \"radialaxis\": {\"gridcolor\": \"white\", \"linecolor\": \"white\", \"ticks\": \"\"}}, \"scene\": {\"xaxis\": {\"backgroundcolor\": \"#E5ECF6\", \"gridcolor\": \"white\", \"gridwidth\": 2, \"linecolor\": \"white\", \"showbackground\": true, \"ticks\": \"\", \"zerolinecolor\": \"white\"}, \"yaxis\": {\"backgroundcolor\": \"#E5ECF6\", \"gridcolor\": \"white\", \"gridwidth\": 2, \"linecolor\": \"white\", \"showbackground\": true, \"ticks\": \"\", \"zerolinecolor\": \"white\"}, \"zaxis\": {\"backgroundcolor\": \"#E5ECF6\", \"gridcolor\": \"white\", \"gridwidth\": 2, \"linecolor\": \"white\", \"showbackground\": true, \"ticks\": \"\", \"zerolinecolor\": \"white\"}}, \"shapedefaults\": {\"line\": {\"color\": \"#2a3f5f\"}}, \"ternary\": {\"aaxis\": {\"gridcolor\": \"white\", \"linecolor\": \"white\", \"ticks\": \"\"}, \"baxis\": {\"gridcolor\": \"white\", \"linecolor\": \"white\", \"ticks\": \"\"}, \"bgcolor\": \"#E5ECF6\", \"caxis\": {\"gridcolor\": \"white\", \"linecolor\": \"white\", \"ticks\": \"\"}}, \"title\": {\"x\": 0.05}, \"xaxis\": {\"automargin\": true, \"gridcolor\": \"white\", \"linecolor\": \"white\", \"ticks\": \"\", \"title\": {\"standoff\": 15}, \"zerolinecolor\": \"white\", \"zerolinewidth\": 2}, \"yaxis\": {\"automargin\": true, \"gridcolor\": \"white\", \"linecolor\": \"white\", \"ticks\": \"\", \"title\": {\"standoff\": 15}, \"zerolinecolor\": \"white\", \"zerolinewidth\": 2}}}, \"title\": {\"font\": {\"color\": \"#4D5663\"}}, \"xaxis\": {\"gridcolor\": \"#E1E5ED\", \"showgrid\": true, \"tickfont\": {\"color\": \"#4D5663\"}, \"title\": {\"font\": {\"color\": \"#4D5663\"}, \"text\": \"\"}, \"zerolinecolor\": \"#E1E5ED\"}, \"yaxis\": {\"gridcolor\": \"#E1E5ED\", \"showgrid\": true, \"tickfont\": {\"color\": \"#4D5663\"}, \"title\": {\"font\": {\"color\": \"#4D5663\"}, \"text\": \"\"}, \"zerolinecolor\": \"#E1E5ED\"}},                        {\"showLink\": true, \"linkText\": \"Export to plot.ly\", \"plotlyServerURL\": \"https://plot.ly\", \"responsive\": true}                    ).then(function(){\n",
       "                            \n",
       "var gd = document.getElementById('11a56618-f4ff-4256-a4a2-3626374fc989');\n",
       "var x = new MutationObserver(function (mutations, observer) {{\n",
       "        var display = window.getComputedStyle(gd).display;\n",
       "        if (!display || display === 'none') {{\n",
       "            console.log([gd, 'removed!']);\n",
       "            Plotly.purge(gd);\n",
       "            observer.disconnect();\n",
       "        }}\n",
       "}});\n",
       "\n",
       "// Listen for the removal of the full notebook cells\n",
       "var notebookContainer = gd.closest('#notebook-container');\n",
       "if (notebookContainer) {{\n",
       "    x.observe(notebookContainer, {childList: true});\n",
       "}}\n",
       "\n",
       "// Listen for the clearing of the current output cell\n",
       "var outputEl = gd.closest('.output');\n",
       "if (outputEl) {{\n",
       "    x.observe(outputEl, {childList: true});\n",
       "}}\n",
       "\n",
       "                        })                };                });            </script>        </div>"
      ]
     },
     "metadata": {},
     "output_type": "display_data"
    }
   ],
   "source": [
    "df.sum().iplot(kind='bar')"
   ]
  },
  {
   "cell_type": "code",
   "execution_count": 26,
   "metadata": {},
   "outputs": [
    {
     "data": {
      "application/vnd.plotly.v1+json": {
       "config": {
        "linkText": "Export to plot.ly",
        "plotlyServerURL": "https://plot.ly",
        "showLink": true
       },
       "data": [
        {
         "boxpoints": false,
         "line": {
          "width": 1.3
         },
         "marker": {
          "color": "rgba(255, 153, 51, 1.0)"
         },
         "name": "A",
         "orientation": "v",
         "type": "box",
         "y": [
          -0.1601183780470847,
          0.15940940597672718,
          -0.8691414452109293,
          2.1010276114389423,
          0.17164077472576567,
          -0.3615969648072336,
          -1.4329312503554597,
          1.0348622009763033,
          -0.9530959678937821,
          -1.949144277250312,
          -0.653801018600976,
          -1.0586602896818622,
          0.28861617739230505,
          1.6481156904717285,
          0.5021988384451932,
          0.7419461664678879,
          0.17745499512664956,
          -0.38325620812446526,
          0.12849351472190346,
          0.15024354836000892,
          -1.9046735986048597,
          0.06729564255980032,
          1.3114167690497167,
          0.6532864418010814,
          0.7736641644900281,
          0.9710332051307252,
          -1.2950688683078926,
          -0.2330559856021781,
          -0.2506005785170448,
          0.8746518298457197,
          0.49012434927847653,
          1.952542960328725,
          1.422053288373496,
          -0.041017606165554964,
          -0.5696189873368337,
          1.3796194148641876,
          -0.9684850941850984,
          -0.6867169752967174,
          1.2175982302306936,
          -0.7950270858687128,
          -0.20268130839797435,
          -0.3166116775607073,
          0.013265786411123252,
          1.3609161101425622,
          0.918899536952606,
          0.8946799623180145,
          -0.32355619688753906,
          -0.26159337861282134,
          1.7316425076849074,
          0.18598089946101812,
          0.5735137879874297,
          0.5584074518494194,
          -0.39038838391341496,
          0.9879393225390422,
          2.5030105940459157,
          -0.48432032452495916,
          -0.41613166505421517,
          -1.3139722396678235,
          0.22869715598900986,
          -0.5435803703335473,
          2.487064416501825,
          -0.44198082209238426,
          -0.3539645120194969,
          0.27099557207341957,
          0.45250919764242253,
          -0.0576693407543129,
          -0.7573808849544862,
          -1.3875401356438606,
          0.5770513485881394,
          1.2340897966166007,
          1.014934806523684,
          0.1530954629770791,
          -1.0723060534055624,
          1.085507498157262,
          1.3346837122325887,
          -1.3698512217275174,
          -0.10433179640403041,
          -1.201928853898415,
          -0.30352824810029955,
          0.33826194670927395,
          -0.7785433241744303,
          -0.14302780228701797,
          0.6172268757774699,
          -1.5310619955784,
          -0.9632272022705074,
          0.8562948380132994,
          -0.137384953960321,
          -0.9653087534475998,
          -0.4426437998567408,
          0.5304095588563396,
          1.4850884827390285,
          0.1906684616642033,
          0.246574144712053,
          -0.2369541408221221,
          0.963784194598969,
          0.44074100274933714,
          0.546935093537091,
          -1.756855506983355,
          1.8244298964505592,
          -1.4031423867604629
         ]
        },
        {
         "boxpoints": false,
         "line": {
          "width": 1.3
         },
         "marker": {
          "color": "rgba(55, 128, 191, 1.0)"
         },
         "name": "B",
         "orientation": "v",
         "type": "box",
         "y": [
          -0.2644633545863186,
          1.5714302027771738,
          -0.022060694285092157,
          0.44695975606255306,
          1.6437621966592817,
          -2.1304958014639213,
          -0.34165423712052057,
          0.7735034696623291,
          0.4361167369817292,
          0.38315007358375436,
          -0.13683266188575985,
          0.2963414389906744,
          -2.1731658439592922,
          0.20259417441792585,
          0.09984009734314357,
          0.691047349227367,
          1.314807118205364,
          -0.521105250810098,
          -0.2822920873303137,
          -1.815604989842956,
          -1.0381784939062224,
          -1.540817803928697,
          0.7999428656890234,
          -1.719359604418866,
          1.2745453748761055,
          1.504906159003659,
          -0.03548530175341141,
          -0.47520221229360315,
          -0.03341052408579652,
          0.41606932003300406,
          -1.4669960816172585,
          0.3399043588728614,
          -0.1322471972177475,
          0.3885005500255243,
          -0.1296864888337782,
          0.3725902163354231,
          -0.1681840505469514,
          -0.5380402156473689,
          -1.7400857956585742,
          1.1274655014808161,
          -0.1642696740906239,
          0.3284104283712735,
          1.6754071912755992,
          0.19180608461248194,
          1.370769793189238,
          1.7483301226382149,
          -0.25010508806739873,
          0.13449895716815247,
          0.4234980413886394,
          -0.6292563951712109,
          2.2953199758200236,
          -0.17969684632277028,
          1.2987890271027225,
          0.4030094700678754,
          0.08036747531795806,
          -0.08069390393910325,
          1.9924420651500254,
          -0.2698486232006421,
          0.9189127955439805,
          1.4636227816733902,
          0.938845731900176,
          0.3774223763929635,
          -0.06039266365866485,
          0.9786792112048589,
          0.18303575909528905,
          1.6213974948934198,
          -0.9011226730985576,
          1.5550696967051754,
          -0.5287319696533463,
          -2.134382600497725,
          -2.4884498634990253,
          0.9141044261447112,
          -1.0929243882156412,
          0.33144393850878756,
          -0.11164949938320748,
          -0.3069432766632717,
          1.1173680553813508,
          0.26683988452577584,
          2.572799719475098,
          0.15916196813082964,
          0.07842255156767423,
          -0.3913927786082702,
          -0.6787973075228827,
          -0.42382151492180364,
          -0.3450314270380239,
          -2.2701907481405805,
          -0.25405633676066053,
          -1.1065213219948289,
          -0.9709405991456087,
          -0.4193028156423804,
          -0.7262378201660576,
          1.0725696136192406,
          -0.5523869569628342,
          1.6427537695901733,
          1.5568589945640556,
          2.570984921845135,
          -0.36030875900544634,
          0.26494896940570273,
          -1.3263649914452567,
          0.3256623316086684
         ]
        },
        {
         "boxpoints": false,
         "line": {
          "width": 1.3
         },
         "marker": {
          "color": "rgba(50, 171, 96, 1.0)"
         },
         "name": "C",
         "orientation": "v",
         "type": "box",
         "y": [
          -0.11348786453792516,
          -0.1311524782899683,
          0.506578319243623,
          -0.04641283626244963,
          0.392212467710873,
          -0.6553786708887571,
          0.5571977672878804,
          2.1052672448775063,
          0.10340710707386995,
          -0.8974770305577208,
          1.9384578639188583,
          0.15974699198145836,
          0.31680044214315034,
          0.3530189009363819,
          -0.6863570397708625,
          0.6748926487769098,
          -1.53963708500794,
          -0.6064150850079467,
          -2.285154574606842,
          1.6087609096634756,
          1.4703270008301461,
          -0.9055417363838063,
          -0.48767724288311354,
          1.6677638524446878,
          0.4953296083138165,
          -1.2837673697054308,
          -0.17466900588527673,
          1.7550914473984882,
          -0.08137639105933259,
          -0.7303431206142009,
          -2.2602950720275503,
          0.33518836539457775,
          -0.07526806056324023,
          -0.036577505440543064,
          0.710015868627727,
          0.6998353100073591,
          0.19950402567226277,
          -1.092821161366645,
          1.038682114597619,
          -0.943972451379481,
          -0.33186493395713546,
          0.009566765795468796,
          -1.3043815067990907,
          -0.47903710828837115,
          -1.681324460350031,
          -0.1004688071250641,
          0.34107993712471174,
          -0.02319459821086625,
          -0.3172287282686062,
          0.25571725829735864,
          -1.1537289156229074,
          0.04125732193811072,
          -0.37183401874919636,
          0.4800509318471511,
          0.6829947057833371,
          0.03647745140630001,
          0.08589699451217257,
          -0.3506312190885835,
          0.19439322728550584,
          -0.28144931640232496,
          -0.06229460813495941,
          0.860135991154396,
          -0.6336830074983791,
          2.1614194464065206,
          1.4886188417324488,
          1.948739186374998,
          -1.65932556580322,
          -1.7890236709376695,
          -1.024603199127202,
          -0.2839461673175258,
          -1.5504822872573811,
          -0.3173611535046725,
          1.2497166679966984,
          -0.8689612255158649,
          0.1308449392924964,
          -0.11046281885570239,
          -2.4373915395181656,
          -1.0245728612602316,
          -0.5055241101912172,
          0.056595626695443206,
          0.5176723372772564,
          0.15009361114403955,
          0.15658771344225464,
          0.33471699558951534,
          0.8813025543563201,
          -0.8391595392038008,
          -2.490208577476746,
          0.6042632646657747,
          -0.331476611827571,
          1.5813863192310202,
          0.7390671386615796,
          -0.23184846099447173,
          0.5662094173049512,
          1.827832646415857,
          0.15221010404191296,
          0.5398875261115618,
          0.30910642989010956,
          -0.9162187067758907,
          1.4429566269436902,
          0.8159551231165043
         ]
        },
        {
         "boxpoints": false,
         "line": {
          "width": 1.3
         },
         "marker": {
          "color": "rgba(128, 0, 128, 1.0)"
         },
         "name": "D",
         "orientation": "v",
         "type": "box",
         "y": [
          -0.3141047776814371,
          -0.8970192710960458,
          0.5736914479068228,
          -0.5206411120771636,
          0.16576510518810794,
          -0.5587118804610727,
          0.9878309483052345,
          0.5023609075433647,
          0.9745608398826814,
          0.16655342964635966,
          0.9788192259549774,
          -0.09074367425800649,
          1.5829907682035778,
          -0.764247292231081,
          0.17308183983488762,
          -0.24791312488305745,
          -0.6938234905748255,
          0.30415868202200325,
          -1.4573797696393782,
          -0.8029910175529617,
          -0.7457353564480751,
          3.0306751179427884,
          0.045915555843682884,
          1.196333482147036,
          1.2186397325655025,
          -0.2512862780510248,
          -0.5218023758906899,
          0.0006545154733645155,
          0.0882807793245977,
          0.08032544568298304,
          0.300452263420204,
          -0.7004037709231044,
          1.5959195349326478,
          -1.1456317403017728,
          -1.6090083148862744,
          -0.024979196647730097,
          -2.7855243796398645,
          0.19365146667022942,
          0.9458482394605472,
          -0.6450285898838843,
          -0.6619920977863117,
          -0.286079247403523,
          0.6729421552051487,
          -0.7424158022191921,
          0.15674906928135854,
          1.525833682709512,
          0.8354744054671075,
          -0.10945542092806206,
          -0.7903659987502104,
          2.252293455006751,
          1.0305338642195672,
          -2.143230338789938,
          0.3854367833308197,
          0.5065383599856818,
          0.012066202860070952,
          -1.4437774899649107,
          -0.6746762056654647,
          -0.19410968709492404,
          -1.147512403615673,
          0.33062408255489073,
          -0.28855419839694224,
          -1.3760381340868197,
          0.89767228673124,
          0.199628224052539,
          -0.8269461131144589,
          -2.0310134868416885,
          -1.311605317804653,
          1.0244985960728157,
          0.34724634350785616,
          0.8354198106887961,
          0.8379992652748512,
          0.2130903288179697,
          0.41486346653232337,
          -0.021864543671643935,
          -1.1005092230234894,
          -0.8906576571862331,
          -0.676797498832179,
          -0.35325718962322256,
          -0.08108079990629014,
          1.1853695718411121,
          0.30057746921104944,
          -0.40043517461693023,
          -1.5278058799076497,
          -0.8711964279517036,
          -1.5409210468656107,
          0.22816741726104836,
          -0.03255898174171499,
          0.026687251866059098,
          0.4294202743518761,
          0.3950280004384783,
          1.0450196729200016,
          -0.875516508014222,
          -0.4722584961793411,
          -0.5692715168213826,
          0.9682407212914111,
          0.08000451194139384,
          0.2782152013702495,
          0.24866085181437123,
          -1.005337704907483,
          1.490533209873795
         ]
        }
       ],
       "layout": {
        "legend": {
         "bgcolor": "#F5F6F9",
         "font": {
          "color": "#4D5663"
         }
        },
        "paper_bgcolor": "#F5F6F9",
        "plot_bgcolor": "#F5F6F9",
        "template": {
         "data": {
          "bar": [
           {
            "error_x": {
             "color": "#2a3f5f"
            },
            "error_y": {
             "color": "#2a3f5f"
            },
            "marker": {
             "line": {
              "color": "#E5ECF6",
              "width": 0.5
             }
            },
            "type": "bar"
           }
          ],
          "barpolar": [
           {
            "marker": {
             "line": {
              "color": "#E5ECF6",
              "width": 0.5
             }
            },
            "type": "barpolar"
           }
          ],
          "carpet": [
           {
            "aaxis": {
             "endlinecolor": "#2a3f5f",
             "gridcolor": "white",
             "linecolor": "white",
             "minorgridcolor": "white",
             "startlinecolor": "#2a3f5f"
            },
            "baxis": {
             "endlinecolor": "#2a3f5f",
             "gridcolor": "white",
             "linecolor": "white",
             "minorgridcolor": "white",
             "startlinecolor": "#2a3f5f"
            },
            "type": "carpet"
           }
          ],
          "choropleth": [
           {
            "colorbar": {
             "outlinewidth": 0,
             "ticks": ""
            },
            "type": "choropleth"
           }
          ],
          "contour": [
           {
            "colorbar": {
             "outlinewidth": 0,
             "ticks": ""
            },
            "colorscale": [
             [
              0,
              "#0d0887"
             ],
             [
              0.1111111111111111,
              "#46039f"
             ],
             [
              0.2222222222222222,
              "#7201a8"
             ],
             [
              0.3333333333333333,
              "#9c179e"
             ],
             [
              0.4444444444444444,
              "#bd3786"
             ],
             [
              0.5555555555555556,
              "#d8576b"
             ],
             [
              0.6666666666666666,
              "#ed7953"
             ],
             [
              0.7777777777777778,
              "#fb9f3a"
             ],
             [
              0.8888888888888888,
              "#fdca26"
             ],
             [
              1,
              "#f0f921"
             ]
            ],
            "type": "contour"
           }
          ],
          "contourcarpet": [
           {
            "colorbar": {
             "outlinewidth": 0,
             "ticks": ""
            },
            "type": "contourcarpet"
           }
          ],
          "heatmap": [
           {
            "colorbar": {
             "outlinewidth": 0,
             "ticks": ""
            },
            "colorscale": [
             [
              0,
              "#0d0887"
             ],
             [
              0.1111111111111111,
              "#46039f"
             ],
             [
              0.2222222222222222,
              "#7201a8"
             ],
             [
              0.3333333333333333,
              "#9c179e"
             ],
             [
              0.4444444444444444,
              "#bd3786"
             ],
             [
              0.5555555555555556,
              "#d8576b"
             ],
             [
              0.6666666666666666,
              "#ed7953"
             ],
             [
              0.7777777777777778,
              "#fb9f3a"
             ],
             [
              0.8888888888888888,
              "#fdca26"
             ],
             [
              1,
              "#f0f921"
             ]
            ],
            "type": "heatmap"
           }
          ],
          "heatmapgl": [
           {
            "colorbar": {
             "outlinewidth": 0,
             "ticks": ""
            },
            "colorscale": [
             [
              0,
              "#0d0887"
             ],
             [
              0.1111111111111111,
              "#46039f"
             ],
             [
              0.2222222222222222,
              "#7201a8"
             ],
             [
              0.3333333333333333,
              "#9c179e"
             ],
             [
              0.4444444444444444,
              "#bd3786"
             ],
             [
              0.5555555555555556,
              "#d8576b"
             ],
             [
              0.6666666666666666,
              "#ed7953"
             ],
             [
              0.7777777777777778,
              "#fb9f3a"
             ],
             [
              0.8888888888888888,
              "#fdca26"
             ],
             [
              1,
              "#f0f921"
             ]
            ],
            "type": "heatmapgl"
           }
          ],
          "histogram": [
           {
            "marker": {
             "colorbar": {
              "outlinewidth": 0,
              "ticks": ""
             }
            },
            "type": "histogram"
           }
          ],
          "histogram2d": [
           {
            "colorbar": {
             "outlinewidth": 0,
             "ticks": ""
            },
            "colorscale": [
             [
              0,
              "#0d0887"
             ],
             [
              0.1111111111111111,
              "#46039f"
             ],
             [
              0.2222222222222222,
              "#7201a8"
             ],
             [
              0.3333333333333333,
              "#9c179e"
             ],
             [
              0.4444444444444444,
              "#bd3786"
             ],
             [
              0.5555555555555556,
              "#d8576b"
             ],
             [
              0.6666666666666666,
              "#ed7953"
             ],
             [
              0.7777777777777778,
              "#fb9f3a"
             ],
             [
              0.8888888888888888,
              "#fdca26"
             ],
             [
              1,
              "#f0f921"
             ]
            ],
            "type": "histogram2d"
           }
          ],
          "histogram2dcontour": [
           {
            "colorbar": {
             "outlinewidth": 0,
             "ticks": ""
            },
            "colorscale": [
             [
              0,
              "#0d0887"
             ],
             [
              0.1111111111111111,
              "#46039f"
             ],
             [
              0.2222222222222222,
              "#7201a8"
             ],
             [
              0.3333333333333333,
              "#9c179e"
             ],
             [
              0.4444444444444444,
              "#bd3786"
             ],
             [
              0.5555555555555556,
              "#d8576b"
             ],
             [
              0.6666666666666666,
              "#ed7953"
             ],
             [
              0.7777777777777778,
              "#fb9f3a"
             ],
             [
              0.8888888888888888,
              "#fdca26"
             ],
             [
              1,
              "#f0f921"
             ]
            ],
            "type": "histogram2dcontour"
           }
          ],
          "mesh3d": [
           {
            "colorbar": {
             "outlinewidth": 0,
             "ticks": ""
            },
            "type": "mesh3d"
           }
          ],
          "parcoords": [
           {
            "line": {
             "colorbar": {
              "outlinewidth": 0,
              "ticks": ""
             }
            },
            "type": "parcoords"
           }
          ],
          "pie": [
           {
            "automargin": true,
            "type": "pie"
           }
          ],
          "scatter": [
           {
            "marker": {
             "colorbar": {
              "outlinewidth": 0,
              "ticks": ""
             }
            },
            "type": "scatter"
           }
          ],
          "scatter3d": [
           {
            "line": {
             "colorbar": {
              "outlinewidth": 0,
              "ticks": ""
             }
            },
            "marker": {
             "colorbar": {
              "outlinewidth": 0,
              "ticks": ""
             }
            },
            "type": "scatter3d"
           }
          ],
          "scattercarpet": [
           {
            "marker": {
             "colorbar": {
              "outlinewidth": 0,
              "ticks": ""
             }
            },
            "type": "scattercarpet"
           }
          ],
          "scattergeo": [
           {
            "marker": {
             "colorbar": {
              "outlinewidth": 0,
              "ticks": ""
             }
            },
            "type": "scattergeo"
           }
          ],
          "scattergl": [
           {
            "marker": {
             "colorbar": {
              "outlinewidth": 0,
              "ticks": ""
             }
            },
            "type": "scattergl"
           }
          ],
          "scattermapbox": [
           {
            "marker": {
             "colorbar": {
              "outlinewidth": 0,
              "ticks": ""
             }
            },
            "type": "scattermapbox"
           }
          ],
          "scatterpolar": [
           {
            "marker": {
             "colorbar": {
              "outlinewidth": 0,
              "ticks": ""
             }
            },
            "type": "scatterpolar"
           }
          ],
          "scatterpolargl": [
           {
            "marker": {
             "colorbar": {
              "outlinewidth": 0,
              "ticks": ""
             }
            },
            "type": "scatterpolargl"
           }
          ],
          "scatterternary": [
           {
            "marker": {
             "colorbar": {
              "outlinewidth": 0,
              "ticks": ""
             }
            },
            "type": "scatterternary"
           }
          ],
          "surface": [
           {
            "colorbar": {
             "outlinewidth": 0,
             "ticks": ""
            },
            "colorscale": [
             [
              0,
              "#0d0887"
             ],
             [
              0.1111111111111111,
              "#46039f"
             ],
             [
              0.2222222222222222,
              "#7201a8"
             ],
             [
              0.3333333333333333,
              "#9c179e"
             ],
             [
              0.4444444444444444,
              "#bd3786"
             ],
             [
              0.5555555555555556,
              "#d8576b"
             ],
             [
              0.6666666666666666,
              "#ed7953"
             ],
             [
              0.7777777777777778,
              "#fb9f3a"
             ],
             [
              0.8888888888888888,
              "#fdca26"
             ],
             [
              1,
              "#f0f921"
             ]
            ],
            "type": "surface"
           }
          ],
          "table": [
           {
            "cells": {
             "fill": {
              "color": "#EBF0F8"
             },
             "line": {
              "color": "white"
             }
            },
            "header": {
             "fill": {
              "color": "#C8D4E3"
             },
             "line": {
              "color": "white"
             }
            },
            "type": "table"
           }
          ]
         },
         "layout": {
          "annotationdefaults": {
           "arrowcolor": "#2a3f5f",
           "arrowhead": 0,
           "arrowwidth": 1
          },
          "autotypenumbers": "strict",
          "coloraxis": {
           "colorbar": {
            "outlinewidth": 0,
            "ticks": ""
           }
          },
          "colorscale": {
           "diverging": [
            [
             0,
             "#8e0152"
            ],
            [
             0.1,
             "#c51b7d"
            ],
            [
             0.2,
             "#de77ae"
            ],
            [
             0.3,
             "#f1b6da"
            ],
            [
             0.4,
             "#fde0ef"
            ],
            [
             0.5,
             "#f7f7f7"
            ],
            [
             0.6,
             "#e6f5d0"
            ],
            [
             0.7,
             "#b8e186"
            ],
            [
             0.8,
             "#7fbc41"
            ],
            [
             0.9,
             "#4d9221"
            ],
            [
             1,
             "#276419"
            ]
           ],
           "sequential": [
            [
             0,
             "#0d0887"
            ],
            [
             0.1111111111111111,
             "#46039f"
            ],
            [
             0.2222222222222222,
             "#7201a8"
            ],
            [
             0.3333333333333333,
             "#9c179e"
            ],
            [
             0.4444444444444444,
             "#bd3786"
            ],
            [
             0.5555555555555556,
             "#d8576b"
            ],
            [
             0.6666666666666666,
             "#ed7953"
            ],
            [
             0.7777777777777778,
             "#fb9f3a"
            ],
            [
             0.8888888888888888,
             "#fdca26"
            ],
            [
             1,
             "#f0f921"
            ]
           ],
           "sequentialminus": [
            [
             0,
             "#0d0887"
            ],
            [
             0.1111111111111111,
             "#46039f"
            ],
            [
             0.2222222222222222,
             "#7201a8"
            ],
            [
             0.3333333333333333,
             "#9c179e"
            ],
            [
             0.4444444444444444,
             "#bd3786"
            ],
            [
             0.5555555555555556,
             "#d8576b"
            ],
            [
             0.6666666666666666,
             "#ed7953"
            ],
            [
             0.7777777777777778,
             "#fb9f3a"
            ],
            [
             0.8888888888888888,
             "#fdca26"
            ],
            [
             1,
             "#f0f921"
            ]
           ]
          },
          "colorway": [
           "#636efa",
           "#EF553B",
           "#00cc96",
           "#ab63fa",
           "#FFA15A",
           "#19d3f3",
           "#FF6692",
           "#B6E880",
           "#FF97FF",
           "#FECB52"
          ],
          "font": {
           "color": "#2a3f5f"
          },
          "geo": {
           "bgcolor": "white",
           "lakecolor": "white",
           "landcolor": "#E5ECF6",
           "showlakes": true,
           "showland": true,
           "subunitcolor": "white"
          },
          "hoverlabel": {
           "align": "left"
          },
          "hovermode": "closest",
          "mapbox": {
           "style": "light"
          },
          "paper_bgcolor": "white",
          "plot_bgcolor": "#E5ECF6",
          "polar": {
           "angularaxis": {
            "gridcolor": "white",
            "linecolor": "white",
            "ticks": ""
           },
           "bgcolor": "#E5ECF6",
           "radialaxis": {
            "gridcolor": "white",
            "linecolor": "white",
            "ticks": ""
           }
          },
          "scene": {
           "xaxis": {
            "backgroundcolor": "#E5ECF6",
            "gridcolor": "white",
            "gridwidth": 2,
            "linecolor": "white",
            "showbackground": true,
            "ticks": "",
            "zerolinecolor": "white"
           },
           "yaxis": {
            "backgroundcolor": "#E5ECF6",
            "gridcolor": "white",
            "gridwidth": 2,
            "linecolor": "white",
            "showbackground": true,
            "ticks": "",
            "zerolinecolor": "white"
           },
           "zaxis": {
            "backgroundcolor": "#E5ECF6",
            "gridcolor": "white",
            "gridwidth": 2,
            "linecolor": "white",
            "showbackground": true,
            "ticks": "",
            "zerolinecolor": "white"
           }
          },
          "shapedefaults": {
           "line": {
            "color": "#2a3f5f"
           }
          },
          "ternary": {
           "aaxis": {
            "gridcolor": "white",
            "linecolor": "white",
            "ticks": ""
           },
           "baxis": {
            "gridcolor": "white",
            "linecolor": "white",
            "ticks": ""
           },
           "bgcolor": "#E5ECF6",
           "caxis": {
            "gridcolor": "white",
            "linecolor": "white",
            "ticks": ""
           }
          },
          "title": {
           "x": 0.05
          },
          "xaxis": {
           "automargin": true,
           "gridcolor": "white",
           "linecolor": "white",
           "ticks": "",
           "title": {
            "standoff": 15
           },
           "zerolinecolor": "white",
           "zerolinewidth": 2
          },
          "yaxis": {
           "automargin": true,
           "gridcolor": "white",
           "linecolor": "white",
           "ticks": "",
           "title": {
            "standoff": 15
           },
           "zerolinecolor": "white",
           "zerolinewidth": 2
          }
         }
        },
        "title": {
         "font": {
          "color": "#4D5663"
         }
        },
        "xaxis": {
         "gridcolor": "#E1E5ED",
         "showgrid": true,
         "tickfont": {
          "color": "#4D5663"
         },
         "title": {
          "font": {
           "color": "#4D5663"
          },
          "text": ""
         },
         "zerolinecolor": "#E1E5ED"
        },
        "yaxis": {
         "gridcolor": "#E1E5ED",
         "showgrid": true,
         "tickfont": {
          "color": "#4D5663"
         },
         "title": {
          "font": {
           "color": "#4D5663"
          },
          "text": ""
         },
         "zerolinecolor": "#E1E5ED"
        }
       }
      },
      "text/html": [
       "<div>                            <div id=\"c5107a65-739a-49d0-89f5-0e115858e5fe\" class=\"plotly-graph-div\" style=\"height:525px; width:100%;\"></div>            <script type=\"text/javascript\">                require([\"plotly\"], function(Plotly) {                    window.PLOTLYENV=window.PLOTLYENV || {};\n",
       "                    window.PLOTLYENV.BASE_URL='https://plot.ly';                                    if (document.getElementById(\"c5107a65-739a-49d0-89f5-0e115858e5fe\")) {                    Plotly.newPlot(                        \"c5107a65-739a-49d0-89f5-0e115858e5fe\",                        [{\"boxpoints\": false, \"line\": {\"width\": 1.3}, \"marker\": {\"color\": \"rgba(255, 153, 51, 1.0)\"}, \"name\": \"A\", \"orientation\": \"v\", \"type\": \"box\", \"y\": [-0.1601183780470847, 0.15940940597672718, -0.8691414452109293, 2.1010276114389423, 0.17164077472576567, -0.3615969648072336, -1.4329312503554597, 1.0348622009763033, -0.9530959678937821, -1.949144277250312, -0.653801018600976, -1.0586602896818622, 0.28861617739230505, 1.6481156904717285, 0.5021988384451932, 0.7419461664678879, 0.17745499512664956, -0.38325620812446526, 0.12849351472190346, 0.15024354836000892, -1.9046735986048597, 0.06729564255980032, 1.3114167690497167, 0.6532864418010814, 0.7736641644900281, 0.9710332051307252, -1.2950688683078926, -0.2330559856021781, -0.2506005785170448, 0.8746518298457197, 0.49012434927847653, 1.952542960328725, 1.422053288373496, -0.041017606165554964, -0.5696189873368337, 1.3796194148641876, -0.9684850941850984, -0.6867169752967174, 1.2175982302306936, -0.7950270858687128, -0.20268130839797435, -0.3166116775607073, 0.013265786411123252, 1.3609161101425622, 0.918899536952606, 0.8946799623180145, -0.32355619688753906, -0.26159337861282134, 1.7316425076849074, 0.18598089946101812, 0.5735137879874297, 0.5584074518494194, -0.39038838391341496, 0.9879393225390422, 2.5030105940459157, -0.48432032452495916, -0.41613166505421517, -1.3139722396678235, 0.22869715598900986, -0.5435803703335473, 2.487064416501825, -0.44198082209238426, -0.3539645120194969, 0.27099557207341957, 0.45250919764242253, -0.0576693407543129, -0.7573808849544862, -1.3875401356438606, 0.5770513485881394, 1.2340897966166007, 1.014934806523684, 0.1530954629770791, -1.0723060534055624, 1.085507498157262, 1.3346837122325887, -1.3698512217275174, -0.10433179640403041, -1.201928853898415, -0.30352824810029955, 0.33826194670927395, -0.7785433241744303, -0.14302780228701797, 0.6172268757774699, -1.5310619955784, -0.9632272022705074, 0.8562948380132994, -0.137384953960321, -0.9653087534475998, -0.4426437998567408, 0.5304095588563396, 1.4850884827390285, 0.1906684616642033, 0.246574144712053, -0.2369541408221221, 0.963784194598969, 0.44074100274933714, 0.546935093537091, -1.756855506983355, 1.8244298964505592, -1.4031423867604629]}, {\"boxpoints\": false, \"line\": {\"width\": 1.3}, \"marker\": {\"color\": \"rgba(55, 128, 191, 1.0)\"}, \"name\": \"B\", \"orientation\": \"v\", \"type\": \"box\", \"y\": [-0.2644633545863186, 1.5714302027771738, -0.022060694285092157, 0.44695975606255306, 1.6437621966592817, -2.1304958014639213, -0.34165423712052057, 0.7735034696623291, 0.4361167369817292, 0.38315007358375436, -0.13683266188575985, 0.2963414389906744, -2.1731658439592922, 0.20259417441792585, 0.09984009734314357, 0.691047349227367, 1.314807118205364, -0.521105250810098, -0.2822920873303137, -1.815604989842956, -1.0381784939062224, -1.540817803928697, 0.7999428656890234, -1.719359604418866, 1.2745453748761055, 1.504906159003659, -0.03548530175341141, -0.47520221229360315, -0.03341052408579652, 0.41606932003300406, -1.4669960816172585, 0.3399043588728614, -0.1322471972177475, 0.3885005500255243, -0.1296864888337782, 0.3725902163354231, -0.1681840505469514, -0.5380402156473689, -1.7400857956585742, 1.1274655014808161, -0.1642696740906239, 0.3284104283712735, 1.6754071912755992, 0.19180608461248194, 1.370769793189238, 1.7483301226382149, -0.25010508806739873, 0.13449895716815247, 0.4234980413886394, -0.6292563951712109, 2.2953199758200236, -0.17969684632277028, 1.2987890271027225, 0.4030094700678754, 0.08036747531795806, -0.08069390393910325, 1.9924420651500254, -0.2698486232006421, 0.9189127955439805, 1.4636227816733902, 0.938845731900176, 0.3774223763929635, -0.06039266365866485, 0.9786792112048589, 0.18303575909528905, 1.6213974948934198, -0.9011226730985576, 1.5550696967051754, -0.5287319696533463, -2.134382600497725, -2.4884498634990253, 0.9141044261447112, -1.0929243882156412, 0.33144393850878756, -0.11164949938320748, -0.3069432766632717, 1.1173680553813508, 0.26683988452577584, 2.572799719475098, 0.15916196813082964, 0.07842255156767423, -0.3913927786082702, -0.6787973075228827, -0.42382151492180364, -0.3450314270380239, -2.2701907481405805, -0.25405633676066053, -1.1065213219948289, -0.9709405991456087, -0.4193028156423804, -0.7262378201660576, 1.0725696136192406, -0.5523869569628342, 1.6427537695901733, 1.5568589945640556, 2.570984921845135, -0.36030875900544634, 0.26494896940570273, -1.3263649914452567, 0.3256623316086684]}, {\"boxpoints\": false, \"line\": {\"width\": 1.3}, \"marker\": {\"color\": \"rgba(50, 171, 96, 1.0)\"}, \"name\": \"C\", \"orientation\": \"v\", \"type\": \"box\", \"y\": [-0.11348786453792516, -0.1311524782899683, 0.506578319243623, -0.04641283626244963, 0.392212467710873, -0.6553786708887571, 0.5571977672878804, 2.1052672448775063, 0.10340710707386995, -0.8974770305577208, 1.9384578639188583, 0.15974699198145836, 0.31680044214315034, 0.3530189009363819, -0.6863570397708625, 0.6748926487769098, -1.53963708500794, -0.6064150850079467, -2.285154574606842, 1.6087609096634756, 1.4703270008301461, -0.9055417363838063, -0.48767724288311354, 1.6677638524446878, 0.4953296083138165, -1.2837673697054308, -0.17466900588527673, 1.7550914473984882, -0.08137639105933259, -0.7303431206142009, -2.2602950720275503, 0.33518836539457775, -0.07526806056324023, -0.036577505440543064, 0.710015868627727, 0.6998353100073591, 0.19950402567226277, -1.092821161366645, 1.038682114597619, -0.943972451379481, -0.33186493395713546, 0.009566765795468796, -1.3043815067990907, -0.47903710828837115, -1.681324460350031, -0.1004688071250641, 0.34107993712471174, -0.02319459821086625, -0.3172287282686062, 0.25571725829735864, -1.1537289156229074, 0.04125732193811072, -0.37183401874919636, 0.4800509318471511, 0.6829947057833371, 0.03647745140630001, 0.08589699451217257, -0.3506312190885835, 0.19439322728550584, -0.28144931640232496, -0.06229460813495941, 0.860135991154396, -0.6336830074983791, 2.1614194464065206, 1.4886188417324488, 1.948739186374998, -1.65932556580322, -1.7890236709376695, -1.024603199127202, -0.2839461673175258, -1.5504822872573811, -0.3173611535046725, 1.2497166679966984, -0.8689612255158649, 0.1308449392924964, -0.11046281885570239, -2.4373915395181656, -1.0245728612602316, -0.5055241101912172, 0.056595626695443206, 0.5176723372772564, 0.15009361114403955, 0.15658771344225464, 0.33471699558951534, 0.8813025543563201, -0.8391595392038008, -2.490208577476746, 0.6042632646657747, -0.331476611827571, 1.5813863192310202, 0.7390671386615796, -0.23184846099447173, 0.5662094173049512, 1.827832646415857, 0.15221010404191296, 0.5398875261115618, 0.30910642989010956, -0.9162187067758907, 1.4429566269436902, 0.8159551231165043]}, {\"boxpoints\": false, \"line\": {\"width\": 1.3}, \"marker\": {\"color\": \"rgba(128, 0, 128, 1.0)\"}, \"name\": \"D\", \"orientation\": \"v\", \"type\": \"box\", \"y\": [-0.3141047776814371, -0.8970192710960458, 0.5736914479068228, -0.5206411120771636, 0.16576510518810794, -0.5587118804610727, 0.9878309483052345, 0.5023609075433647, 0.9745608398826814, 0.16655342964635966, 0.9788192259549774, -0.09074367425800649, 1.5829907682035778, -0.764247292231081, 0.17308183983488762, -0.24791312488305745, -0.6938234905748255, 0.30415868202200325, -1.4573797696393782, -0.8029910175529617, -0.7457353564480751, 3.0306751179427884, 0.045915555843682884, 1.196333482147036, 1.2186397325655025, -0.2512862780510248, -0.5218023758906899, 0.0006545154733645155, 0.0882807793245977, 0.08032544568298304, 0.300452263420204, -0.7004037709231044, 1.5959195349326478, -1.1456317403017728, -1.6090083148862744, -0.024979196647730097, -2.7855243796398645, 0.19365146667022942, 0.9458482394605472, -0.6450285898838843, -0.6619920977863117, -0.286079247403523, 0.6729421552051487, -0.7424158022191921, 0.15674906928135854, 1.525833682709512, 0.8354744054671075, -0.10945542092806206, -0.7903659987502104, 2.252293455006751, 1.0305338642195672, -2.143230338789938, 0.3854367833308197, 0.5065383599856818, 0.012066202860070952, -1.4437774899649107, -0.6746762056654647, -0.19410968709492404, -1.147512403615673, 0.33062408255489073, -0.28855419839694224, -1.3760381340868197, 0.89767228673124, 0.199628224052539, -0.8269461131144589, -2.0310134868416885, -1.311605317804653, 1.0244985960728157, 0.34724634350785616, 0.8354198106887961, 0.8379992652748512, 0.2130903288179697, 0.41486346653232337, -0.021864543671643935, -1.1005092230234894, -0.8906576571862331, -0.676797498832179, -0.35325718962322256, -0.08108079990629014, 1.1853695718411121, 0.30057746921104944, -0.40043517461693023, -1.5278058799076497, -0.8711964279517036, -1.5409210468656107, 0.22816741726104836, -0.03255898174171499, 0.026687251866059098, 0.4294202743518761, 0.3950280004384783, 1.0450196729200016, -0.875516508014222, -0.4722584961793411, -0.5692715168213826, 0.9682407212914111, 0.08000451194139384, 0.2782152013702495, 0.24866085181437123, -1.005337704907483, 1.490533209873795]}],                        {\"legend\": {\"bgcolor\": \"#F5F6F9\", \"font\": {\"color\": \"#4D5663\"}}, \"paper_bgcolor\": \"#F5F6F9\", \"plot_bgcolor\": \"#F5F6F9\", \"template\": {\"data\": {\"bar\": [{\"error_x\": {\"color\": \"#2a3f5f\"}, \"error_y\": {\"color\": \"#2a3f5f\"}, \"marker\": {\"line\": {\"color\": \"#E5ECF6\", \"width\": 0.5}}, \"type\": \"bar\"}], \"barpolar\": [{\"marker\": {\"line\": {\"color\": \"#E5ECF6\", \"width\": 0.5}}, \"type\": \"barpolar\"}], \"carpet\": [{\"aaxis\": {\"endlinecolor\": \"#2a3f5f\", \"gridcolor\": \"white\", \"linecolor\": \"white\", \"minorgridcolor\": \"white\", \"startlinecolor\": \"#2a3f5f\"}, \"baxis\": {\"endlinecolor\": \"#2a3f5f\", \"gridcolor\": \"white\", \"linecolor\": \"white\", \"minorgridcolor\": \"white\", \"startlinecolor\": \"#2a3f5f\"}, \"type\": \"carpet\"}], \"choropleth\": [{\"colorbar\": {\"outlinewidth\": 0, \"ticks\": \"\"}, \"type\": \"choropleth\"}], \"contour\": [{\"colorbar\": {\"outlinewidth\": 0, \"ticks\": \"\"}, \"colorscale\": [[0.0, \"#0d0887\"], [0.1111111111111111, \"#46039f\"], [0.2222222222222222, \"#7201a8\"], [0.3333333333333333, \"#9c179e\"], [0.4444444444444444, \"#bd3786\"], [0.5555555555555556, \"#d8576b\"], [0.6666666666666666, \"#ed7953\"], [0.7777777777777778, \"#fb9f3a\"], [0.8888888888888888, \"#fdca26\"], [1.0, \"#f0f921\"]], \"type\": \"contour\"}], \"contourcarpet\": [{\"colorbar\": {\"outlinewidth\": 0, \"ticks\": \"\"}, \"type\": \"contourcarpet\"}], \"heatmap\": [{\"colorbar\": {\"outlinewidth\": 0, \"ticks\": \"\"}, \"colorscale\": [[0.0, \"#0d0887\"], [0.1111111111111111, \"#46039f\"], [0.2222222222222222, \"#7201a8\"], [0.3333333333333333, \"#9c179e\"], [0.4444444444444444, \"#bd3786\"], [0.5555555555555556, \"#d8576b\"], [0.6666666666666666, \"#ed7953\"], [0.7777777777777778, \"#fb9f3a\"], [0.8888888888888888, \"#fdca26\"], [1.0, \"#f0f921\"]], \"type\": \"heatmap\"}], \"heatmapgl\": [{\"colorbar\": {\"outlinewidth\": 0, \"ticks\": \"\"}, \"colorscale\": [[0.0, \"#0d0887\"], [0.1111111111111111, \"#46039f\"], [0.2222222222222222, \"#7201a8\"], [0.3333333333333333, \"#9c179e\"], [0.4444444444444444, \"#bd3786\"], [0.5555555555555556, \"#d8576b\"], [0.6666666666666666, \"#ed7953\"], [0.7777777777777778, \"#fb9f3a\"], [0.8888888888888888, \"#fdca26\"], [1.0, \"#f0f921\"]], \"type\": \"heatmapgl\"}], \"histogram\": [{\"marker\": {\"colorbar\": {\"outlinewidth\": 0, \"ticks\": \"\"}}, \"type\": \"histogram\"}], \"histogram2d\": [{\"colorbar\": {\"outlinewidth\": 0, \"ticks\": \"\"}, \"colorscale\": [[0.0, \"#0d0887\"], [0.1111111111111111, \"#46039f\"], [0.2222222222222222, \"#7201a8\"], [0.3333333333333333, \"#9c179e\"], [0.4444444444444444, \"#bd3786\"], [0.5555555555555556, \"#d8576b\"], [0.6666666666666666, \"#ed7953\"], [0.7777777777777778, \"#fb9f3a\"], [0.8888888888888888, \"#fdca26\"], [1.0, \"#f0f921\"]], \"type\": \"histogram2d\"}], \"histogram2dcontour\": [{\"colorbar\": {\"outlinewidth\": 0, \"ticks\": \"\"}, \"colorscale\": [[0.0, \"#0d0887\"], [0.1111111111111111, \"#46039f\"], [0.2222222222222222, \"#7201a8\"], [0.3333333333333333, \"#9c179e\"], [0.4444444444444444, \"#bd3786\"], [0.5555555555555556, \"#d8576b\"], [0.6666666666666666, \"#ed7953\"], [0.7777777777777778, \"#fb9f3a\"], [0.8888888888888888, \"#fdca26\"], [1.0, \"#f0f921\"]], \"type\": \"histogram2dcontour\"}], \"mesh3d\": [{\"colorbar\": {\"outlinewidth\": 0, \"ticks\": \"\"}, \"type\": \"mesh3d\"}], \"parcoords\": [{\"line\": {\"colorbar\": {\"outlinewidth\": 0, \"ticks\": \"\"}}, \"type\": \"parcoords\"}], \"pie\": [{\"automargin\": true, \"type\": \"pie\"}], \"scatter\": [{\"marker\": {\"colorbar\": {\"outlinewidth\": 0, \"ticks\": \"\"}}, \"type\": \"scatter\"}], \"scatter3d\": [{\"line\": {\"colorbar\": {\"outlinewidth\": 0, \"ticks\": \"\"}}, \"marker\": {\"colorbar\": {\"outlinewidth\": 0, \"ticks\": \"\"}}, \"type\": \"scatter3d\"}], \"scattercarpet\": [{\"marker\": {\"colorbar\": {\"outlinewidth\": 0, \"ticks\": \"\"}}, \"type\": \"scattercarpet\"}], \"scattergeo\": [{\"marker\": {\"colorbar\": {\"outlinewidth\": 0, \"ticks\": \"\"}}, \"type\": \"scattergeo\"}], \"scattergl\": [{\"marker\": {\"colorbar\": {\"outlinewidth\": 0, \"ticks\": \"\"}}, \"type\": \"scattergl\"}], \"scattermapbox\": [{\"marker\": {\"colorbar\": {\"outlinewidth\": 0, \"ticks\": \"\"}}, \"type\": \"scattermapbox\"}], \"scatterpolar\": [{\"marker\": {\"colorbar\": {\"outlinewidth\": 0, \"ticks\": \"\"}}, \"type\": \"scatterpolar\"}], \"scatterpolargl\": [{\"marker\": {\"colorbar\": {\"outlinewidth\": 0, \"ticks\": \"\"}}, \"type\": \"scatterpolargl\"}], \"scatterternary\": [{\"marker\": {\"colorbar\": {\"outlinewidth\": 0, \"ticks\": \"\"}}, \"type\": \"scatterternary\"}], \"surface\": [{\"colorbar\": {\"outlinewidth\": 0, \"ticks\": \"\"}, \"colorscale\": [[0.0, \"#0d0887\"], [0.1111111111111111, \"#46039f\"], [0.2222222222222222, \"#7201a8\"], [0.3333333333333333, \"#9c179e\"], [0.4444444444444444, \"#bd3786\"], [0.5555555555555556, \"#d8576b\"], [0.6666666666666666, \"#ed7953\"], [0.7777777777777778, \"#fb9f3a\"], [0.8888888888888888, \"#fdca26\"], [1.0, \"#f0f921\"]], \"type\": \"surface\"}], \"table\": [{\"cells\": {\"fill\": {\"color\": \"#EBF0F8\"}, \"line\": {\"color\": \"white\"}}, \"header\": {\"fill\": {\"color\": \"#C8D4E3\"}, \"line\": {\"color\": \"white\"}}, \"type\": \"table\"}]}, \"layout\": {\"annotationdefaults\": {\"arrowcolor\": \"#2a3f5f\", \"arrowhead\": 0, \"arrowwidth\": 1}, \"autotypenumbers\": \"strict\", \"coloraxis\": {\"colorbar\": {\"outlinewidth\": 0, \"ticks\": \"\"}}, \"colorscale\": {\"diverging\": [[0, \"#8e0152\"], [0.1, \"#c51b7d\"], [0.2, \"#de77ae\"], [0.3, \"#f1b6da\"], [0.4, \"#fde0ef\"], [0.5, \"#f7f7f7\"], [0.6, \"#e6f5d0\"], [0.7, \"#b8e186\"], [0.8, \"#7fbc41\"], [0.9, \"#4d9221\"], [1, \"#276419\"]], \"sequential\": [[0.0, \"#0d0887\"], [0.1111111111111111, \"#46039f\"], [0.2222222222222222, \"#7201a8\"], [0.3333333333333333, \"#9c179e\"], [0.4444444444444444, \"#bd3786\"], [0.5555555555555556, \"#d8576b\"], [0.6666666666666666, \"#ed7953\"], [0.7777777777777778, \"#fb9f3a\"], [0.8888888888888888, \"#fdca26\"], [1.0, \"#f0f921\"]], \"sequentialminus\": [[0.0, \"#0d0887\"], [0.1111111111111111, \"#46039f\"], [0.2222222222222222, \"#7201a8\"], [0.3333333333333333, \"#9c179e\"], [0.4444444444444444, \"#bd3786\"], [0.5555555555555556, \"#d8576b\"], [0.6666666666666666, \"#ed7953\"], [0.7777777777777778, \"#fb9f3a\"], [0.8888888888888888, \"#fdca26\"], [1.0, \"#f0f921\"]]}, \"colorway\": [\"#636efa\", \"#EF553B\", \"#00cc96\", \"#ab63fa\", \"#FFA15A\", \"#19d3f3\", \"#FF6692\", \"#B6E880\", \"#FF97FF\", \"#FECB52\"], \"font\": {\"color\": \"#2a3f5f\"}, \"geo\": {\"bgcolor\": \"white\", \"lakecolor\": \"white\", \"landcolor\": \"#E5ECF6\", \"showlakes\": true, \"showland\": true, \"subunitcolor\": \"white\"}, \"hoverlabel\": {\"align\": \"left\"}, \"hovermode\": \"closest\", \"mapbox\": {\"style\": \"light\"}, \"paper_bgcolor\": \"white\", \"plot_bgcolor\": \"#E5ECF6\", \"polar\": {\"angularaxis\": {\"gridcolor\": \"white\", \"linecolor\": \"white\", \"ticks\": \"\"}, \"bgcolor\": \"#E5ECF6\", \"radialaxis\": {\"gridcolor\": \"white\", \"linecolor\": \"white\", \"ticks\": \"\"}}, \"scene\": {\"xaxis\": {\"backgroundcolor\": \"#E5ECF6\", \"gridcolor\": \"white\", \"gridwidth\": 2, \"linecolor\": \"white\", \"showbackground\": true, \"ticks\": \"\", \"zerolinecolor\": \"white\"}, \"yaxis\": {\"backgroundcolor\": \"#E5ECF6\", \"gridcolor\": \"white\", \"gridwidth\": 2, \"linecolor\": \"white\", \"showbackground\": true, \"ticks\": \"\", \"zerolinecolor\": \"white\"}, \"zaxis\": {\"backgroundcolor\": \"#E5ECF6\", \"gridcolor\": \"white\", \"gridwidth\": 2, \"linecolor\": \"white\", \"showbackground\": true, \"ticks\": \"\", \"zerolinecolor\": \"white\"}}, \"shapedefaults\": {\"line\": {\"color\": \"#2a3f5f\"}}, \"ternary\": {\"aaxis\": {\"gridcolor\": \"white\", \"linecolor\": \"white\", \"ticks\": \"\"}, \"baxis\": {\"gridcolor\": \"white\", \"linecolor\": \"white\", \"ticks\": \"\"}, \"bgcolor\": \"#E5ECF6\", \"caxis\": {\"gridcolor\": \"white\", \"linecolor\": \"white\", \"ticks\": \"\"}}, \"title\": {\"x\": 0.05}, \"xaxis\": {\"automargin\": true, \"gridcolor\": \"white\", \"linecolor\": \"white\", \"ticks\": \"\", \"title\": {\"standoff\": 15}, \"zerolinecolor\": \"white\", \"zerolinewidth\": 2}, \"yaxis\": {\"automargin\": true, \"gridcolor\": \"white\", \"linecolor\": \"white\", \"ticks\": \"\", \"title\": {\"standoff\": 15}, \"zerolinecolor\": \"white\", \"zerolinewidth\": 2}}}, \"title\": {\"font\": {\"color\": \"#4D5663\"}}, \"xaxis\": {\"gridcolor\": \"#E1E5ED\", \"showgrid\": true, \"tickfont\": {\"color\": \"#4D5663\"}, \"title\": {\"font\": {\"color\": \"#4D5663\"}, \"text\": \"\"}, \"zerolinecolor\": \"#E1E5ED\"}, \"yaxis\": {\"gridcolor\": \"#E1E5ED\", \"showgrid\": true, \"tickfont\": {\"color\": \"#4D5663\"}, \"title\": {\"font\": {\"color\": \"#4D5663\"}, \"text\": \"\"}, \"zerolinecolor\": \"#E1E5ED\"}},                        {\"showLink\": true, \"linkText\": \"Export to plot.ly\", \"plotlyServerURL\": \"https://plot.ly\", \"responsive\": true}                    ).then(function(){\n",
       "                            \n",
       "var gd = document.getElementById('c5107a65-739a-49d0-89f5-0e115858e5fe');\n",
       "var x = new MutationObserver(function (mutations, observer) {{\n",
       "        var display = window.getComputedStyle(gd).display;\n",
       "        if (!display || display === 'none') {{\n",
       "            console.log([gd, 'removed!']);\n",
       "            Plotly.purge(gd);\n",
       "            observer.disconnect();\n",
       "        }}\n",
       "}});\n",
       "\n",
       "// Listen for the removal of the full notebook cells\n",
       "var notebookContainer = gd.closest('#notebook-container');\n",
       "if (notebookContainer) {{\n",
       "    x.observe(notebookContainer, {childList: true});\n",
       "}}\n",
       "\n",
       "// Listen for the clearing of the current output cell\n",
       "var outputEl = gd.closest('.output');\n",
       "if (outputEl) {{\n",
       "    x.observe(outputEl, {childList: true});\n",
       "}}\n",
       "\n",
       "                        })                };                });            </script>        </div>"
      ]
     },
     "metadata": {},
     "output_type": "display_data"
    }
   ],
   "source": [
    "df.iplot(kind='box')"
   ]
  },
  {
   "cell_type": "code",
   "execution_count": 27,
   "metadata": {},
   "outputs": [],
   "source": [
    "df3 = pd.DataFrame({'x':[1,2,3,4,5],'y':[10,20,30,20,10],'z':[500,400,300,200,100]})"
   ]
  },
  {
   "cell_type": "code",
   "execution_count": 30,
   "metadata": {},
   "outputs": [
    {
     "data": {
      "application/vnd.plotly.v1+json": {
       "config": {
        "linkText": "Export to plot.ly",
        "plotlyServerURL": "https://plot.ly",
        "showLink": true
       },
       "data": [
        {
         "colorscale": [
          [
           0,
           "rgb(255, 153, 51)"
          ],
          [
           0.1111111111111111,
           "rgb(55, 128, 191)"
          ],
          [
           0.2222222222222222,
           "rgb(50, 171, 96)"
          ],
          [
           0.3333333333333333,
           "rgb(128, 0, 128)"
          ],
          [
           0.4444444444444444,
           "rgb(219, 64, 82)"
          ],
          [
           0.5555555555555556,
           "rgb(0, 128, 128)"
          ],
          [
           0.6666666666666666,
           "rgb(255, 255, 51)"
          ],
          [
           0.7777777777777778,
           "rgb(128, 128, 0)"
          ],
          [
           0.8888888888888888,
           "rgb(251, 128, 114)"
          ],
          [
           1,
           "rgb(128, 177, 211)"
          ]
         ],
         "type": "surface",
         "x": [
          0,
          1,
          2,
          3,
          4
         ],
         "y": [
          "x",
          "y",
          "z"
         ],
         "z": [
          [
           1,
           2,
           3,
           4,
           5
          ],
          [
           10,
           20,
           30,
           20,
           10
          ],
          [
           500,
           400,
           300,
           200,
           100
          ]
         ]
        }
       ],
       "layout": {
        "legend": {
         "bgcolor": "#F5F6F9",
         "font": {
          "color": "#4D5663"
         }
        },
        "paper_bgcolor": "#F5F6F9",
        "plot_bgcolor": "#F5F6F9",
        "template": {
         "data": {
          "bar": [
           {
            "error_x": {
             "color": "#2a3f5f"
            },
            "error_y": {
             "color": "#2a3f5f"
            },
            "marker": {
             "line": {
              "color": "#E5ECF6",
              "width": 0.5
             }
            },
            "type": "bar"
           }
          ],
          "barpolar": [
           {
            "marker": {
             "line": {
              "color": "#E5ECF6",
              "width": 0.5
             }
            },
            "type": "barpolar"
           }
          ],
          "carpet": [
           {
            "aaxis": {
             "endlinecolor": "#2a3f5f",
             "gridcolor": "white",
             "linecolor": "white",
             "minorgridcolor": "white",
             "startlinecolor": "#2a3f5f"
            },
            "baxis": {
             "endlinecolor": "#2a3f5f",
             "gridcolor": "white",
             "linecolor": "white",
             "minorgridcolor": "white",
             "startlinecolor": "#2a3f5f"
            },
            "type": "carpet"
           }
          ],
          "choropleth": [
           {
            "colorbar": {
             "outlinewidth": 0,
             "ticks": ""
            },
            "type": "choropleth"
           }
          ],
          "contour": [
           {
            "colorbar": {
             "outlinewidth": 0,
             "ticks": ""
            },
            "colorscale": [
             [
              0,
              "#0d0887"
             ],
             [
              0.1111111111111111,
              "#46039f"
             ],
             [
              0.2222222222222222,
              "#7201a8"
             ],
             [
              0.3333333333333333,
              "#9c179e"
             ],
             [
              0.4444444444444444,
              "#bd3786"
             ],
             [
              0.5555555555555556,
              "#d8576b"
             ],
             [
              0.6666666666666666,
              "#ed7953"
             ],
             [
              0.7777777777777778,
              "#fb9f3a"
             ],
             [
              0.8888888888888888,
              "#fdca26"
             ],
             [
              1,
              "#f0f921"
             ]
            ],
            "type": "contour"
           }
          ],
          "contourcarpet": [
           {
            "colorbar": {
             "outlinewidth": 0,
             "ticks": ""
            },
            "type": "contourcarpet"
           }
          ],
          "heatmap": [
           {
            "colorbar": {
             "outlinewidth": 0,
             "ticks": ""
            },
            "colorscale": [
             [
              0,
              "#0d0887"
             ],
             [
              0.1111111111111111,
              "#46039f"
             ],
             [
              0.2222222222222222,
              "#7201a8"
             ],
             [
              0.3333333333333333,
              "#9c179e"
             ],
             [
              0.4444444444444444,
              "#bd3786"
             ],
             [
              0.5555555555555556,
              "#d8576b"
             ],
             [
              0.6666666666666666,
              "#ed7953"
             ],
             [
              0.7777777777777778,
              "#fb9f3a"
             ],
             [
              0.8888888888888888,
              "#fdca26"
             ],
             [
              1,
              "#f0f921"
             ]
            ],
            "type": "heatmap"
           }
          ],
          "heatmapgl": [
           {
            "colorbar": {
             "outlinewidth": 0,
             "ticks": ""
            },
            "colorscale": [
             [
              0,
              "#0d0887"
             ],
             [
              0.1111111111111111,
              "#46039f"
             ],
             [
              0.2222222222222222,
              "#7201a8"
             ],
             [
              0.3333333333333333,
              "#9c179e"
             ],
             [
              0.4444444444444444,
              "#bd3786"
             ],
             [
              0.5555555555555556,
              "#d8576b"
             ],
             [
              0.6666666666666666,
              "#ed7953"
             ],
             [
              0.7777777777777778,
              "#fb9f3a"
             ],
             [
              0.8888888888888888,
              "#fdca26"
             ],
             [
              1,
              "#f0f921"
             ]
            ],
            "type": "heatmapgl"
           }
          ],
          "histogram": [
           {
            "marker": {
             "colorbar": {
              "outlinewidth": 0,
              "ticks": ""
             }
            },
            "type": "histogram"
           }
          ],
          "histogram2d": [
           {
            "colorbar": {
             "outlinewidth": 0,
             "ticks": ""
            },
            "colorscale": [
             [
              0,
              "#0d0887"
             ],
             [
              0.1111111111111111,
              "#46039f"
             ],
             [
              0.2222222222222222,
              "#7201a8"
             ],
             [
              0.3333333333333333,
              "#9c179e"
             ],
             [
              0.4444444444444444,
              "#bd3786"
             ],
             [
              0.5555555555555556,
              "#d8576b"
             ],
             [
              0.6666666666666666,
              "#ed7953"
             ],
             [
              0.7777777777777778,
              "#fb9f3a"
             ],
             [
              0.8888888888888888,
              "#fdca26"
             ],
             [
              1,
              "#f0f921"
             ]
            ],
            "type": "histogram2d"
           }
          ],
          "histogram2dcontour": [
           {
            "colorbar": {
             "outlinewidth": 0,
             "ticks": ""
            },
            "colorscale": [
             [
              0,
              "#0d0887"
             ],
             [
              0.1111111111111111,
              "#46039f"
             ],
             [
              0.2222222222222222,
              "#7201a8"
             ],
             [
              0.3333333333333333,
              "#9c179e"
             ],
             [
              0.4444444444444444,
              "#bd3786"
             ],
             [
              0.5555555555555556,
              "#d8576b"
             ],
             [
              0.6666666666666666,
              "#ed7953"
             ],
             [
              0.7777777777777778,
              "#fb9f3a"
             ],
             [
              0.8888888888888888,
              "#fdca26"
             ],
             [
              1,
              "#f0f921"
             ]
            ],
            "type": "histogram2dcontour"
           }
          ],
          "mesh3d": [
           {
            "colorbar": {
             "outlinewidth": 0,
             "ticks": ""
            },
            "type": "mesh3d"
           }
          ],
          "parcoords": [
           {
            "line": {
             "colorbar": {
              "outlinewidth": 0,
              "ticks": ""
             }
            },
            "type": "parcoords"
           }
          ],
          "pie": [
           {
            "automargin": true,
            "type": "pie"
           }
          ],
          "scatter": [
           {
            "marker": {
             "colorbar": {
              "outlinewidth": 0,
              "ticks": ""
             }
            },
            "type": "scatter"
           }
          ],
          "scatter3d": [
           {
            "line": {
             "colorbar": {
              "outlinewidth": 0,
              "ticks": ""
             }
            },
            "marker": {
             "colorbar": {
              "outlinewidth": 0,
              "ticks": ""
             }
            },
            "type": "scatter3d"
           }
          ],
          "scattercarpet": [
           {
            "marker": {
             "colorbar": {
              "outlinewidth": 0,
              "ticks": ""
             }
            },
            "type": "scattercarpet"
           }
          ],
          "scattergeo": [
           {
            "marker": {
             "colorbar": {
              "outlinewidth": 0,
              "ticks": ""
             }
            },
            "type": "scattergeo"
           }
          ],
          "scattergl": [
           {
            "marker": {
             "colorbar": {
              "outlinewidth": 0,
              "ticks": ""
             }
            },
            "type": "scattergl"
           }
          ],
          "scattermapbox": [
           {
            "marker": {
             "colorbar": {
              "outlinewidth": 0,
              "ticks": ""
             }
            },
            "type": "scattermapbox"
           }
          ],
          "scatterpolar": [
           {
            "marker": {
             "colorbar": {
              "outlinewidth": 0,
              "ticks": ""
             }
            },
            "type": "scatterpolar"
           }
          ],
          "scatterpolargl": [
           {
            "marker": {
             "colorbar": {
              "outlinewidth": 0,
              "ticks": ""
             }
            },
            "type": "scatterpolargl"
           }
          ],
          "scatterternary": [
           {
            "marker": {
             "colorbar": {
              "outlinewidth": 0,
              "ticks": ""
             }
            },
            "type": "scatterternary"
           }
          ],
          "surface": [
           {
            "colorbar": {
             "outlinewidth": 0,
             "ticks": ""
            },
            "colorscale": [
             [
              0,
              "#0d0887"
             ],
             [
              0.1111111111111111,
              "#46039f"
             ],
             [
              0.2222222222222222,
              "#7201a8"
             ],
             [
              0.3333333333333333,
              "#9c179e"
             ],
             [
              0.4444444444444444,
              "#bd3786"
             ],
             [
              0.5555555555555556,
              "#d8576b"
             ],
             [
              0.6666666666666666,
              "#ed7953"
             ],
             [
              0.7777777777777778,
              "#fb9f3a"
             ],
             [
              0.8888888888888888,
              "#fdca26"
             ],
             [
              1,
              "#f0f921"
             ]
            ],
            "type": "surface"
           }
          ],
          "table": [
           {
            "cells": {
             "fill": {
              "color": "#EBF0F8"
             },
             "line": {
              "color": "white"
             }
            },
            "header": {
             "fill": {
              "color": "#C8D4E3"
             },
             "line": {
              "color": "white"
             }
            },
            "type": "table"
           }
          ]
         },
         "layout": {
          "annotationdefaults": {
           "arrowcolor": "#2a3f5f",
           "arrowhead": 0,
           "arrowwidth": 1
          },
          "autotypenumbers": "strict",
          "coloraxis": {
           "colorbar": {
            "outlinewidth": 0,
            "ticks": ""
           }
          },
          "colorscale": {
           "diverging": [
            [
             0,
             "#8e0152"
            ],
            [
             0.1,
             "#c51b7d"
            ],
            [
             0.2,
             "#de77ae"
            ],
            [
             0.3,
             "#f1b6da"
            ],
            [
             0.4,
             "#fde0ef"
            ],
            [
             0.5,
             "#f7f7f7"
            ],
            [
             0.6,
             "#e6f5d0"
            ],
            [
             0.7,
             "#b8e186"
            ],
            [
             0.8,
             "#7fbc41"
            ],
            [
             0.9,
             "#4d9221"
            ],
            [
             1,
             "#276419"
            ]
           ],
           "sequential": [
            [
             0,
             "#0d0887"
            ],
            [
             0.1111111111111111,
             "#46039f"
            ],
            [
             0.2222222222222222,
             "#7201a8"
            ],
            [
             0.3333333333333333,
             "#9c179e"
            ],
            [
             0.4444444444444444,
             "#bd3786"
            ],
            [
             0.5555555555555556,
             "#d8576b"
            ],
            [
             0.6666666666666666,
             "#ed7953"
            ],
            [
             0.7777777777777778,
             "#fb9f3a"
            ],
            [
             0.8888888888888888,
             "#fdca26"
            ],
            [
             1,
             "#f0f921"
            ]
           ],
           "sequentialminus": [
            [
             0,
             "#0d0887"
            ],
            [
             0.1111111111111111,
             "#46039f"
            ],
            [
             0.2222222222222222,
             "#7201a8"
            ],
            [
             0.3333333333333333,
             "#9c179e"
            ],
            [
             0.4444444444444444,
             "#bd3786"
            ],
            [
             0.5555555555555556,
             "#d8576b"
            ],
            [
             0.6666666666666666,
             "#ed7953"
            ],
            [
             0.7777777777777778,
             "#fb9f3a"
            ],
            [
             0.8888888888888888,
             "#fdca26"
            ],
            [
             1,
             "#f0f921"
            ]
           ]
          },
          "colorway": [
           "#636efa",
           "#EF553B",
           "#00cc96",
           "#ab63fa",
           "#FFA15A",
           "#19d3f3",
           "#FF6692",
           "#B6E880",
           "#FF97FF",
           "#FECB52"
          ],
          "font": {
           "color": "#2a3f5f"
          },
          "geo": {
           "bgcolor": "white",
           "lakecolor": "white",
           "landcolor": "#E5ECF6",
           "showlakes": true,
           "showland": true,
           "subunitcolor": "white"
          },
          "hoverlabel": {
           "align": "left"
          },
          "hovermode": "closest",
          "mapbox": {
           "style": "light"
          },
          "paper_bgcolor": "white",
          "plot_bgcolor": "#E5ECF6",
          "polar": {
           "angularaxis": {
            "gridcolor": "white",
            "linecolor": "white",
            "ticks": ""
           },
           "bgcolor": "#E5ECF6",
           "radialaxis": {
            "gridcolor": "white",
            "linecolor": "white",
            "ticks": ""
           }
          },
          "scene": {
           "xaxis": {
            "backgroundcolor": "#E5ECF6",
            "gridcolor": "white",
            "gridwidth": 2,
            "linecolor": "white",
            "showbackground": true,
            "ticks": "",
            "zerolinecolor": "white"
           },
           "yaxis": {
            "backgroundcolor": "#E5ECF6",
            "gridcolor": "white",
            "gridwidth": 2,
            "linecolor": "white",
            "showbackground": true,
            "ticks": "",
            "zerolinecolor": "white"
           },
           "zaxis": {
            "backgroundcolor": "#E5ECF6",
            "gridcolor": "white",
            "gridwidth": 2,
            "linecolor": "white",
            "showbackground": true,
            "ticks": "",
            "zerolinecolor": "white"
           }
          },
          "shapedefaults": {
           "line": {
            "color": "#2a3f5f"
           }
          },
          "ternary": {
           "aaxis": {
            "gridcolor": "white",
            "linecolor": "white",
            "ticks": ""
           },
           "baxis": {
            "gridcolor": "white",
            "linecolor": "white",
            "ticks": ""
           },
           "bgcolor": "#E5ECF6",
           "caxis": {
            "gridcolor": "white",
            "linecolor": "white",
            "ticks": ""
           }
          },
          "title": {
           "x": 0.05
          },
          "xaxis": {
           "automargin": true,
           "gridcolor": "white",
           "linecolor": "white",
           "ticks": "",
           "title": {
            "standoff": 15
           },
           "zerolinecolor": "white",
           "zerolinewidth": 2
          },
          "yaxis": {
           "automargin": true,
           "gridcolor": "white",
           "linecolor": "white",
           "ticks": "",
           "title": {
            "standoff": 15
           },
           "zerolinecolor": "white",
           "zerolinewidth": 2
          }
         }
        },
        "title": {
         "font": {
          "color": "#4D5663"
         }
        },
        "xaxis": {
         "gridcolor": "#E1E5ED",
         "showgrid": true,
         "tickfont": {
          "color": "#4D5663"
         },
         "title": {
          "font": {
           "color": "#4D5663"
          },
          "text": ""
         },
         "zerolinecolor": "#E1E5ED"
        },
        "yaxis": {
         "gridcolor": "#E1E5ED",
         "showgrid": true,
         "tickfont": {
          "color": "#4D5663"
         },
         "title": {
          "font": {
           "color": "#4D5663"
          },
          "text": ""
         },
         "zerolinecolor": "#E1E5ED"
        }
       }
      },
      "text/html": [
       "<div>                            <div id=\"dfe1c0de-2cab-431e-ace2-d6ecda39761a\" class=\"plotly-graph-div\" style=\"height:525px; width:100%;\"></div>            <script type=\"text/javascript\">                require([\"plotly\"], function(Plotly) {                    window.PLOTLYENV=window.PLOTLYENV || {};\n",
       "                    window.PLOTLYENV.BASE_URL='https://plot.ly';                                    if (document.getElementById(\"dfe1c0de-2cab-431e-ace2-d6ecda39761a\")) {                    Plotly.newPlot(                        \"dfe1c0de-2cab-431e-ace2-d6ecda39761a\",                        [{\"colorscale\": [[0.0, \"rgb(255, 153, 51)\"], [0.1111111111111111, \"rgb(55, 128, 191)\"], [0.2222222222222222, \"rgb(50, 171, 96)\"], [0.3333333333333333, \"rgb(128, 0, 128)\"], [0.4444444444444444, \"rgb(219, 64, 82)\"], [0.5555555555555556, \"rgb(0, 128, 128)\"], [0.6666666666666666, \"rgb(255, 255, 51)\"], [0.7777777777777778, \"rgb(128, 128, 0)\"], [0.8888888888888888, \"rgb(251, 128, 114)\"], [1.0, \"rgb(128, 177, 211)\"]], \"type\": \"surface\", \"x\": [0, 1, 2, 3, 4], \"y\": [\"x\", \"y\", \"z\"], \"z\": [[1, 2, 3, 4, 5], [10, 20, 30, 20, 10], [500, 400, 300, 200, 100]]}],                        {\"legend\": {\"bgcolor\": \"#F5F6F9\", \"font\": {\"color\": \"#4D5663\"}}, \"paper_bgcolor\": \"#F5F6F9\", \"plot_bgcolor\": \"#F5F6F9\", \"template\": {\"data\": {\"bar\": [{\"error_x\": {\"color\": \"#2a3f5f\"}, \"error_y\": {\"color\": \"#2a3f5f\"}, \"marker\": {\"line\": {\"color\": \"#E5ECF6\", \"width\": 0.5}}, \"type\": \"bar\"}], \"barpolar\": [{\"marker\": {\"line\": {\"color\": \"#E5ECF6\", \"width\": 0.5}}, \"type\": \"barpolar\"}], \"carpet\": [{\"aaxis\": {\"endlinecolor\": \"#2a3f5f\", \"gridcolor\": \"white\", \"linecolor\": \"white\", \"minorgridcolor\": \"white\", \"startlinecolor\": \"#2a3f5f\"}, \"baxis\": {\"endlinecolor\": \"#2a3f5f\", \"gridcolor\": \"white\", \"linecolor\": \"white\", \"minorgridcolor\": \"white\", \"startlinecolor\": \"#2a3f5f\"}, \"type\": \"carpet\"}], \"choropleth\": [{\"colorbar\": {\"outlinewidth\": 0, \"ticks\": \"\"}, \"type\": \"choropleth\"}], \"contour\": [{\"colorbar\": {\"outlinewidth\": 0, \"ticks\": \"\"}, \"colorscale\": [[0.0, \"#0d0887\"], [0.1111111111111111, \"#46039f\"], [0.2222222222222222, \"#7201a8\"], [0.3333333333333333, \"#9c179e\"], [0.4444444444444444, \"#bd3786\"], [0.5555555555555556, \"#d8576b\"], [0.6666666666666666, \"#ed7953\"], [0.7777777777777778, \"#fb9f3a\"], [0.8888888888888888, \"#fdca26\"], [1.0, \"#f0f921\"]], \"type\": \"contour\"}], \"contourcarpet\": [{\"colorbar\": {\"outlinewidth\": 0, \"ticks\": \"\"}, \"type\": \"contourcarpet\"}], \"heatmap\": [{\"colorbar\": {\"outlinewidth\": 0, \"ticks\": \"\"}, \"colorscale\": [[0.0, \"#0d0887\"], [0.1111111111111111, \"#46039f\"], [0.2222222222222222, \"#7201a8\"], [0.3333333333333333, \"#9c179e\"], [0.4444444444444444, \"#bd3786\"], [0.5555555555555556, \"#d8576b\"], [0.6666666666666666, \"#ed7953\"], [0.7777777777777778, \"#fb9f3a\"], [0.8888888888888888, \"#fdca26\"], [1.0, \"#f0f921\"]], \"type\": \"heatmap\"}], \"heatmapgl\": [{\"colorbar\": {\"outlinewidth\": 0, \"ticks\": \"\"}, \"colorscale\": [[0.0, \"#0d0887\"], [0.1111111111111111, \"#46039f\"], [0.2222222222222222, \"#7201a8\"], [0.3333333333333333, \"#9c179e\"], [0.4444444444444444, \"#bd3786\"], [0.5555555555555556, \"#d8576b\"], [0.6666666666666666, \"#ed7953\"], [0.7777777777777778, \"#fb9f3a\"], [0.8888888888888888, \"#fdca26\"], [1.0, \"#f0f921\"]], \"type\": \"heatmapgl\"}], \"histogram\": [{\"marker\": {\"colorbar\": {\"outlinewidth\": 0, \"ticks\": \"\"}}, \"type\": \"histogram\"}], \"histogram2d\": [{\"colorbar\": {\"outlinewidth\": 0, \"ticks\": \"\"}, \"colorscale\": [[0.0, \"#0d0887\"], [0.1111111111111111, \"#46039f\"], [0.2222222222222222, \"#7201a8\"], [0.3333333333333333, \"#9c179e\"], [0.4444444444444444, \"#bd3786\"], [0.5555555555555556, \"#d8576b\"], [0.6666666666666666, \"#ed7953\"], [0.7777777777777778, \"#fb9f3a\"], [0.8888888888888888, \"#fdca26\"], [1.0, \"#f0f921\"]], \"type\": \"histogram2d\"}], \"histogram2dcontour\": [{\"colorbar\": {\"outlinewidth\": 0, \"ticks\": \"\"}, \"colorscale\": [[0.0, \"#0d0887\"], [0.1111111111111111, \"#46039f\"], [0.2222222222222222, \"#7201a8\"], [0.3333333333333333, \"#9c179e\"], [0.4444444444444444, \"#bd3786\"], [0.5555555555555556, \"#d8576b\"], [0.6666666666666666, \"#ed7953\"], [0.7777777777777778, \"#fb9f3a\"], [0.8888888888888888, \"#fdca26\"], [1.0, \"#f0f921\"]], \"type\": \"histogram2dcontour\"}], \"mesh3d\": [{\"colorbar\": {\"outlinewidth\": 0, \"ticks\": \"\"}, \"type\": \"mesh3d\"}], \"parcoords\": [{\"line\": {\"colorbar\": {\"outlinewidth\": 0, \"ticks\": \"\"}}, \"type\": \"parcoords\"}], \"pie\": [{\"automargin\": true, \"type\": \"pie\"}], \"scatter\": [{\"marker\": {\"colorbar\": {\"outlinewidth\": 0, \"ticks\": \"\"}}, \"type\": \"scatter\"}], \"scatter3d\": [{\"line\": {\"colorbar\": {\"outlinewidth\": 0, \"ticks\": \"\"}}, \"marker\": {\"colorbar\": {\"outlinewidth\": 0, \"ticks\": \"\"}}, \"type\": \"scatter3d\"}], \"scattercarpet\": [{\"marker\": {\"colorbar\": {\"outlinewidth\": 0, \"ticks\": \"\"}}, \"type\": \"scattercarpet\"}], \"scattergeo\": [{\"marker\": {\"colorbar\": {\"outlinewidth\": 0, \"ticks\": \"\"}}, \"type\": \"scattergeo\"}], \"scattergl\": [{\"marker\": {\"colorbar\": {\"outlinewidth\": 0, \"ticks\": \"\"}}, \"type\": \"scattergl\"}], \"scattermapbox\": [{\"marker\": {\"colorbar\": {\"outlinewidth\": 0, \"ticks\": \"\"}}, \"type\": \"scattermapbox\"}], \"scatterpolar\": [{\"marker\": {\"colorbar\": {\"outlinewidth\": 0, \"ticks\": \"\"}}, \"type\": \"scatterpolar\"}], \"scatterpolargl\": [{\"marker\": {\"colorbar\": {\"outlinewidth\": 0, \"ticks\": \"\"}}, \"type\": \"scatterpolargl\"}], \"scatterternary\": [{\"marker\": {\"colorbar\": {\"outlinewidth\": 0, \"ticks\": \"\"}}, \"type\": \"scatterternary\"}], \"surface\": [{\"colorbar\": {\"outlinewidth\": 0, \"ticks\": \"\"}, \"colorscale\": [[0.0, \"#0d0887\"], [0.1111111111111111, \"#46039f\"], [0.2222222222222222, \"#7201a8\"], [0.3333333333333333, \"#9c179e\"], [0.4444444444444444, \"#bd3786\"], [0.5555555555555556, \"#d8576b\"], [0.6666666666666666, \"#ed7953\"], [0.7777777777777778, \"#fb9f3a\"], [0.8888888888888888, \"#fdca26\"], [1.0, \"#f0f921\"]], \"type\": \"surface\"}], \"table\": [{\"cells\": {\"fill\": {\"color\": \"#EBF0F8\"}, \"line\": {\"color\": \"white\"}}, \"header\": {\"fill\": {\"color\": \"#C8D4E3\"}, \"line\": {\"color\": \"white\"}}, \"type\": \"table\"}]}, \"layout\": {\"annotationdefaults\": {\"arrowcolor\": \"#2a3f5f\", \"arrowhead\": 0, \"arrowwidth\": 1}, \"autotypenumbers\": \"strict\", \"coloraxis\": {\"colorbar\": {\"outlinewidth\": 0, \"ticks\": \"\"}}, \"colorscale\": {\"diverging\": [[0, \"#8e0152\"], [0.1, \"#c51b7d\"], [0.2, \"#de77ae\"], [0.3, \"#f1b6da\"], [0.4, \"#fde0ef\"], [0.5, \"#f7f7f7\"], [0.6, \"#e6f5d0\"], [0.7, \"#b8e186\"], [0.8, \"#7fbc41\"], [0.9, \"#4d9221\"], [1, \"#276419\"]], \"sequential\": [[0.0, \"#0d0887\"], [0.1111111111111111, \"#46039f\"], [0.2222222222222222, \"#7201a8\"], [0.3333333333333333, \"#9c179e\"], [0.4444444444444444, \"#bd3786\"], [0.5555555555555556, \"#d8576b\"], [0.6666666666666666, \"#ed7953\"], [0.7777777777777778, \"#fb9f3a\"], [0.8888888888888888, \"#fdca26\"], [1.0, \"#f0f921\"]], \"sequentialminus\": [[0.0, \"#0d0887\"], [0.1111111111111111, \"#46039f\"], [0.2222222222222222, \"#7201a8\"], [0.3333333333333333, \"#9c179e\"], [0.4444444444444444, \"#bd3786\"], [0.5555555555555556, \"#d8576b\"], [0.6666666666666666, \"#ed7953\"], [0.7777777777777778, \"#fb9f3a\"], [0.8888888888888888, \"#fdca26\"], [1.0, \"#f0f921\"]]}, \"colorway\": [\"#636efa\", \"#EF553B\", \"#00cc96\", \"#ab63fa\", \"#FFA15A\", \"#19d3f3\", \"#FF6692\", \"#B6E880\", \"#FF97FF\", \"#FECB52\"], \"font\": {\"color\": \"#2a3f5f\"}, \"geo\": {\"bgcolor\": \"white\", \"lakecolor\": \"white\", \"landcolor\": \"#E5ECF6\", \"showlakes\": true, \"showland\": true, \"subunitcolor\": \"white\"}, \"hoverlabel\": {\"align\": \"left\"}, \"hovermode\": \"closest\", \"mapbox\": {\"style\": \"light\"}, \"paper_bgcolor\": \"white\", \"plot_bgcolor\": \"#E5ECF6\", \"polar\": {\"angularaxis\": {\"gridcolor\": \"white\", \"linecolor\": \"white\", \"ticks\": \"\"}, \"bgcolor\": \"#E5ECF6\", \"radialaxis\": {\"gridcolor\": \"white\", \"linecolor\": \"white\", \"ticks\": \"\"}}, \"scene\": {\"xaxis\": {\"backgroundcolor\": \"#E5ECF6\", \"gridcolor\": \"white\", \"gridwidth\": 2, \"linecolor\": \"white\", \"showbackground\": true, \"ticks\": \"\", \"zerolinecolor\": \"white\"}, \"yaxis\": {\"backgroundcolor\": \"#E5ECF6\", \"gridcolor\": \"white\", \"gridwidth\": 2, \"linecolor\": \"white\", \"showbackground\": true, \"ticks\": \"\", \"zerolinecolor\": \"white\"}, \"zaxis\": {\"backgroundcolor\": \"#E5ECF6\", \"gridcolor\": \"white\", \"gridwidth\": 2, \"linecolor\": \"white\", \"showbackground\": true, \"ticks\": \"\", \"zerolinecolor\": \"white\"}}, \"shapedefaults\": {\"line\": {\"color\": \"#2a3f5f\"}}, \"ternary\": {\"aaxis\": {\"gridcolor\": \"white\", \"linecolor\": \"white\", \"ticks\": \"\"}, \"baxis\": {\"gridcolor\": \"white\", \"linecolor\": \"white\", \"ticks\": \"\"}, \"bgcolor\": \"#E5ECF6\", \"caxis\": {\"gridcolor\": \"white\", \"linecolor\": \"white\", \"ticks\": \"\"}}, \"title\": {\"x\": 0.05}, \"xaxis\": {\"automargin\": true, \"gridcolor\": \"white\", \"linecolor\": \"white\", \"ticks\": \"\", \"title\": {\"standoff\": 15}, \"zerolinecolor\": \"white\", \"zerolinewidth\": 2}, \"yaxis\": {\"automargin\": true, \"gridcolor\": \"white\", \"linecolor\": \"white\", \"ticks\": \"\", \"title\": {\"standoff\": 15}, \"zerolinecolor\": \"white\", \"zerolinewidth\": 2}}}, \"title\": {\"font\": {\"color\": \"#4D5663\"}}, \"xaxis\": {\"gridcolor\": \"#E1E5ED\", \"showgrid\": true, \"tickfont\": {\"color\": \"#4D5663\"}, \"title\": {\"font\": {\"color\": \"#4D5663\"}, \"text\": \"\"}, \"zerolinecolor\": \"#E1E5ED\"}, \"yaxis\": {\"gridcolor\": \"#E1E5ED\", \"showgrid\": true, \"tickfont\": {\"color\": \"#4D5663\"}, \"title\": {\"font\": {\"color\": \"#4D5663\"}, \"text\": \"\"}, \"zerolinecolor\": \"#E1E5ED\"}},                        {\"showLink\": true, \"linkText\": \"Export to plot.ly\", \"plotlyServerURL\": \"https://plot.ly\", \"responsive\": true}                    ).then(function(){\n",
       "                            \n",
       "var gd = document.getElementById('dfe1c0de-2cab-431e-ace2-d6ecda39761a');\n",
       "var x = new MutationObserver(function (mutations, observer) {{\n",
       "        var display = window.getComputedStyle(gd).display;\n",
       "        if (!display || display === 'none') {{\n",
       "            console.log([gd, 'removed!']);\n",
       "            Plotly.purge(gd);\n",
       "            observer.disconnect();\n",
       "        }}\n",
       "}});\n",
       "\n",
       "// Listen for the removal of the full notebook cells\n",
       "var notebookContainer = gd.closest('#notebook-container');\n",
       "if (notebookContainer) {{\n",
       "    x.observe(notebookContainer, {childList: true});\n",
       "}}\n",
       "\n",
       "// Listen for the clearing of the current output cell\n",
       "var outputEl = gd.closest('.output');\n",
       "if (outputEl) {{\n",
       "    x.observe(outputEl, {childList: true});\n",
       "}}\n",
       "\n",
       "                        })                };                });            </script>        </div>"
      ]
     },
     "metadata": {},
     "output_type": "display_data"
    }
   ],
   "source": [
    "#3-dimensional of values\n",
    "df3.iplot(kind='surface')"
   ]
  },
  {
   "cell_type": "code",
   "execution_count": 32,
   "metadata": {},
   "outputs": [
    {
     "data": {
      "application/vnd.plotly.v1+json": {
       "config": {
        "linkText": "Export to plot.ly",
        "plotlyServerURL": "https://plot.ly",
        "showLink": true
       },
       "data": [
        {
         "colorscale": [
          [
           0,
           "rgb(165,0,38)"
          ],
          [
           0.1,
           "rgb(215,48,39)"
          ],
          [
           0.2,
           "rgb(244,109,67)"
          ],
          [
           0.3,
           "rgb(253,174,97)"
          ],
          [
           0.4,
           "rgb(254,224,144)"
          ],
          [
           0.5,
           "rgb(255,255,191)"
          ],
          [
           0.6,
           "rgb(224,243,248)"
          ],
          [
           0.7,
           "rgb(171,217,233)"
          ],
          [
           0.8,
           "rgb(116,173,209)"
          ],
          [
           0.9,
           "rgb(69,117,180)"
          ],
          [
           1,
           "rgb(49,54,149)"
          ]
         ],
         "type": "surface",
         "x": [
          0,
          1,
          2,
          3,
          4
         ],
         "y": [
          "x",
          "y",
          "z"
         ],
         "z": [
          [
           1,
           2,
           3,
           4,
           5
          ],
          [
           10,
           20,
           30,
           20,
           10
          ],
          [
           5,
           4,
           3,
           2,
           1
          ]
         ]
        }
       ],
       "layout": {
        "legend": {
         "bgcolor": "#F5F6F9",
         "font": {
          "color": "#4D5663"
         }
        },
        "paper_bgcolor": "#F5F6F9",
        "plot_bgcolor": "#F5F6F9",
        "template": {
         "data": {
          "bar": [
           {
            "error_x": {
             "color": "#2a3f5f"
            },
            "error_y": {
             "color": "#2a3f5f"
            },
            "marker": {
             "line": {
              "color": "#E5ECF6",
              "width": 0.5
             }
            },
            "type": "bar"
           }
          ],
          "barpolar": [
           {
            "marker": {
             "line": {
              "color": "#E5ECF6",
              "width": 0.5
             }
            },
            "type": "barpolar"
           }
          ],
          "carpet": [
           {
            "aaxis": {
             "endlinecolor": "#2a3f5f",
             "gridcolor": "white",
             "linecolor": "white",
             "minorgridcolor": "white",
             "startlinecolor": "#2a3f5f"
            },
            "baxis": {
             "endlinecolor": "#2a3f5f",
             "gridcolor": "white",
             "linecolor": "white",
             "minorgridcolor": "white",
             "startlinecolor": "#2a3f5f"
            },
            "type": "carpet"
           }
          ],
          "choropleth": [
           {
            "colorbar": {
             "outlinewidth": 0,
             "ticks": ""
            },
            "type": "choropleth"
           }
          ],
          "contour": [
           {
            "colorbar": {
             "outlinewidth": 0,
             "ticks": ""
            },
            "colorscale": [
             [
              0,
              "#0d0887"
             ],
             [
              0.1111111111111111,
              "#46039f"
             ],
             [
              0.2222222222222222,
              "#7201a8"
             ],
             [
              0.3333333333333333,
              "#9c179e"
             ],
             [
              0.4444444444444444,
              "#bd3786"
             ],
             [
              0.5555555555555556,
              "#d8576b"
             ],
             [
              0.6666666666666666,
              "#ed7953"
             ],
             [
              0.7777777777777778,
              "#fb9f3a"
             ],
             [
              0.8888888888888888,
              "#fdca26"
             ],
             [
              1,
              "#f0f921"
             ]
            ],
            "type": "contour"
           }
          ],
          "contourcarpet": [
           {
            "colorbar": {
             "outlinewidth": 0,
             "ticks": ""
            },
            "type": "contourcarpet"
           }
          ],
          "heatmap": [
           {
            "colorbar": {
             "outlinewidth": 0,
             "ticks": ""
            },
            "colorscale": [
             [
              0,
              "#0d0887"
             ],
             [
              0.1111111111111111,
              "#46039f"
             ],
             [
              0.2222222222222222,
              "#7201a8"
             ],
             [
              0.3333333333333333,
              "#9c179e"
             ],
             [
              0.4444444444444444,
              "#bd3786"
             ],
             [
              0.5555555555555556,
              "#d8576b"
             ],
             [
              0.6666666666666666,
              "#ed7953"
             ],
             [
              0.7777777777777778,
              "#fb9f3a"
             ],
             [
              0.8888888888888888,
              "#fdca26"
             ],
             [
              1,
              "#f0f921"
             ]
            ],
            "type": "heatmap"
           }
          ],
          "heatmapgl": [
           {
            "colorbar": {
             "outlinewidth": 0,
             "ticks": ""
            },
            "colorscale": [
             [
              0,
              "#0d0887"
             ],
             [
              0.1111111111111111,
              "#46039f"
             ],
             [
              0.2222222222222222,
              "#7201a8"
             ],
             [
              0.3333333333333333,
              "#9c179e"
             ],
             [
              0.4444444444444444,
              "#bd3786"
             ],
             [
              0.5555555555555556,
              "#d8576b"
             ],
             [
              0.6666666666666666,
              "#ed7953"
             ],
             [
              0.7777777777777778,
              "#fb9f3a"
             ],
             [
              0.8888888888888888,
              "#fdca26"
             ],
             [
              1,
              "#f0f921"
             ]
            ],
            "type": "heatmapgl"
           }
          ],
          "histogram": [
           {
            "marker": {
             "colorbar": {
              "outlinewidth": 0,
              "ticks": ""
             }
            },
            "type": "histogram"
           }
          ],
          "histogram2d": [
           {
            "colorbar": {
             "outlinewidth": 0,
             "ticks": ""
            },
            "colorscale": [
             [
              0,
              "#0d0887"
             ],
             [
              0.1111111111111111,
              "#46039f"
             ],
             [
              0.2222222222222222,
              "#7201a8"
             ],
             [
              0.3333333333333333,
              "#9c179e"
             ],
             [
              0.4444444444444444,
              "#bd3786"
             ],
             [
              0.5555555555555556,
              "#d8576b"
             ],
             [
              0.6666666666666666,
              "#ed7953"
             ],
             [
              0.7777777777777778,
              "#fb9f3a"
             ],
             [
              0.8888888888888888,
              "#fdca26"
             ],
             [
              1,
              "#f0f921"
             ]
            ],
            "type": "histogram2d"
           }
          ],
          "histogram2dcontour": [
           {
            "colorbar": {
             "outlinewidth": 0,
             "ticks": ""
            },
            "colorscale": [
             [
              0,
              "#0d0887"
             ],
             [
              0.1111111111111111,
              "#46039f"
             ],
             [
              0.2222222222222222,
              "#7201a8"
             ],
             [
              0.3333333333333333,
              "#9c179e"
             ],
             [
              0.4444444444444444,
              "#bd3786"
             ],
             [
              0.5555555555555556,
              "#d8576b"
             ],
             [
              0.6666666666666666,
              "#ed7953"
             ],
             [
              0.7777777777777778,
              "#fb9f3a"
             ],
             [
              0.8888888888888888,
              "#fdca26"
             ],
             [
              1,
              "#f0f921"
             ]
            ],
            "type": "histogram2dcontour"
           }
          ],
          "mesh3d": [
           {
            "colorbar": {
             "outlinewidth": 0,
             "ticks": ""
            },
            "type": "mesh3d"
           }
          ],
          "parcoords": [
           {
            "line": {
             "colorbar": {
              "outlinewidth": 0,
              "ticks": ""
             }
            },
            "type": "parcoords"
           }
          ],
          "pie": [
           {
            "automargin": true,
            "type": "pie"
           }
          ],
          "scatter": [
           {
            "marker": {
             "colorbar": {
              "outlinewidth": 0,
              "ticks": ""
             }
            },
            "type": "scatter"
           }
          ],
          "scatter3d": [
           {
            "line": {
             "colorbar": {
              "outlinewidth": 0,
              "ticks": ""
             }
            },
            "marker": {
             "colorbar": {
              "outlinewidth": 0,
              "ticks": ""
             }
            },
            "type": "scatter3d"
           }
          ],
          "scattercarpet": [
           {
            "marker": {
             "colorbar": {
              "outlinewidth": 0,
              "ticks": ""
             }
            },
            "type": "scattercarpet"
           }
          ],
          "scattergeo": [
           {
            "marker": {
             "colorbar": {
              "outlinewidth": 0,
              "ticks": ""
             }
            },
            "type": "scattergeo"
           }
          ],
          "scattergl": [
           {
            "marker": {
             "colorbar": {
              "outlinewidth": 0,
              "ticks": ""
             }
            },
            "type": "scattergl"
           }
          ],
          "scattermapbox": [
           {
            "marker": {
             "colorbar": {
              "outlinewidth": 0,
              "ticks": ""
             }
            },
            "type": "scattermapbox"
           }
          ],
          "scatterpolar": [
           {
            "marker": {
             "colorbar": {
              "outlinewidth": 0,
              "ticks": ""
             }
            },
            "type": "scatterpolar"
           }
          ],
          "scatterpolargl": [
           {
            "marker": {
             "colorbar": {
              "outlinewidth": 0,
              "ticks": ""
             }
            },
            "type": "scatterpolargl"
           }
          ],
          "scatterternary": [
           {
            "marker": {
             "colorbar": {
              "outlinewidth": 0,
              "ticks": ""
             }
            },
            "type": "scatterternary"
           }
          ],
          "surface": [
           {
            "colorbar": {
             "outlinewidth": 0,
             "ticks": ""
            },
            "colorscale": [
             [
              0,
              "#0d0887"
             ],
             [
              0.1111111111111111,
              "#46039f"
             ],
             [
              0.2222222222222222,
              "#7201a8"
             ],
             [
              0.3333333333333333,
              "#9c179e"
             ],
             [
              0.4444444444444444,
              "#bd3786"
             ],
             [
              0.5555555555555556,
              "#d8576b"
             ],
             [
              0.6666666666666666,
              "#ed7953"
             ],
             [
              0.7777777777777778,
              "#fb9f3a"
             ],
             [
              0.8888888888888888,
              "#fdca26"
             ],
             [
              1,
              "#f0f921"
             ]
            ],
            "type": "surface"
           }
          ],
          "table": [
           {
            "cells": {
             "fill": {
              "color": "#EBF0F8"
             },
             "line": {
              "color": "white"
             }
            },
            "header": {
             "fill": {
              "color": "#C8D4E3"
             },
             "line": {
              "color": "white"
             }
            },
            "type": "table"
           }
          ]
         },
         "layout": {
          "annotationdefaults": {
           "arrowcolor": "#2a3f5f",
           "arrowhead": 0,
           "arrowwidth": 1
          },
          "autotypenumbers": "strict",
          "coloraxis": {
           "colorbar": {
            "outlinewidth": 0,
            "ticks": ""
           }
          },
          "colorscale": {
           "diverging": [
            [
             0,
             "#8e0152"
            ],
            [
             0.1,
             "#c51b7d"
            ],
            [
             0.2,
             "#de77ae"
            ],
            [
             0.3,
             "#f1b6da"
            ],
            [
             0.4,
             "#fde0ef"
            ],
            [
             0.5,
             "#f7f7f7"
            ],
            [
             0.6,
             "#e6f5d0"
            ],
            [
             0.7,
             "#b8e186"
            ],
            [
             0.8,
             "#7fbc41"
            ],
            [
             0.9,
             "#4d9221"
            ],
            [
             1,
             "#276419"
            ]
           ],
           "sequential": [
            [
             0,
             "#0d0887"
            ],
            [
             0.1111111111111111,
             "#46039f"
            ],
            [
             0.2222222222222222,
             "#7201a8"
            ],
            [
             0.3333333333333333,
             "#9c179e"
            ],
            [
             0.4444444444444444,
             "#bd3786"
            ],
            [
             0.5555555555555556,
             "#d8576b"
            ],
            [
             0.6666666666666666,
             "#ed7953"
            ],
            [
             0.7777777777777778,
             "#fb9f3a"
            ],
            [
             0.8888888888888888,
             "#fdca26"
            ],
            [
             1,
             "#f0f921"
            ]
           ],
           "sequentialminus": [
            [
             0,
             "#0d0887"
            ],
            [
             0.1111111111111111,
             "#46039f"
            ],
            [
             0.2222222222222222,
             "#7201a8"
            ],
            [
             0.3333333333333333,
             "#9c179e"
            ],
            [
             0.4444444444444444,
             "#bd3786"
            ],
            [
             0.5555555555555556,
             "#d8576b"
            ],
            [
             0.6666666666666666,
             "#ed7953"
            ],
            [
             0.7777777777777778,
             "#fb9f3a"
            ],
            [
             0.8888888888888888,
             "#fdca26"
            ],
            [
             1,
             "#f0f921"
            ]
           ]
          },
          "colorway": [
           "#636efa",
           "#EF553B",
           "#00cc96",
           "#ab63fa",
           "#FFA15A",
           "#19d3f3",
           "#FF6692",
           "#B6E880",
           "#FF97FF",
           "#FECB52"
          ],
          "font": {
           "color": "#2a3f5f"
          },
          "geo": {
           "bgcolor": "white",
           "lakecolor": "white",
           "landcolor": "#E5ECF6",
           "showlakes": true,
           "showland": true,
           "subunitcolor": "white"
          },
          "hoverlabel": {
           "align": "left"
          },
          "hovermode": "closest",
          "mapbox": {
           "style": "light"
          },
          "paper_bgcolor": "white",
          "plot_bgcolor": "#E5ECF6",
          "polar": {
           "angularaxis": {
            "gridcolor": "white",
            "linecolor": "white",
            "ticks": ""
           },
           "bgcolor": "#E5ECF6",
           "radialaxis": {
            "gridcolor": "white",
            "linecolor": "white",
            "ticks": ""
           }
          },
          "scene": {
           "xaxis": {
            "backgroundcolor": "#E5ECF6",
            "gridcolor": "white",
            "gridwidth": 2,
            "linecolor": "white",
            "showbackground": true,
            "ticks": "",
            "zerolinecolor": "white"
           },
           "yaxis": {
            "backgroundcolor": "#E5ECF6",
            "gridcolor": "white",
            "gridwidth": 2,
            "linecolor": "white",
            "showbackground": true,
            "ticks": "",
            "zerolinecolor": "white"
           },
           "zaxis": {
            "backgroundcolor": "#E5ECF6",
            "gridcolor": "white",
            "gridwidth": 2,
            "linecolor": "white",
            "showbackground": true,
            "ticks": "",
            "zerolinecolor": "white"
           }
          },
          "shapedefaults": {
           "line": {
            "color": "#2a3f5f"
           }
          },
          "ternary": {
           "aaxis": {
            "gridcolor": "white",
            "linecolor": "white",
            "ticks": ""
           },
           "baxis": {
            "gridcolor": "white",
            "linecolor": "white",
            "ticks": ""
           },
           "bgcolor": "#E5ECF6",
           "caxis": {
            "gridcolor": "white",
            "linecolor": "white",
            "ticks": ""
           }
          },
          "title": {
           "x": 0.05
          },
          "xaxis": {
           "automargin": true,
           "gridcolor": "white",
           "linecolor": "white",
           "ticks": "",
           "title": {
            "standoff": 15
           },
           "zerolinecolor": "white",
           "zerolinewidth": 2
          },
          "yaxis": {
           "automargin": true,
           "gridcolor": "white",
           "linecolor": "white",
           "ticks": "",
           "title": {
            "standoff": 15
           },
           "zerolinecolor": "white",
           "zerolinewidth": 2
          }
         }
        },
        "title": {
         "font": {
          "color": "#4D5663"
         }
        },
        "xaxis": {
         "gridcolor": "#E1E5ED",
         "showgrid": true,
         "tickfont": {
          "color": "#4D5663"
         },
         "title": {
          "font": {
           "color": "#4D5663"
          },
          "text": ""
         },
         "zerolinecolor": "#E1E5ED"
        },
        "yaxis": {
         "gridcolor": "#E1E5ED",
         "showgrid": true,
         "tickfont": {
          "color": "#4D5663"
         },
         "title": {
          "font": {
           "color": "#4D5663"
          },
          "text": ""
         },
         "zerolinecolor": "#E1E5ED"
        }
       }
      },
      "text/html": [
       "<div>                            <div id=\"c95bd11e-9a56-48e4-96e2-8a9813752eda\" class=\"plotly-graph-div\" style=\"height:525px; width:100%;\"></div>            <script type=\"text/javascript\">                require([\"plotly\"], function(Plotly) {                    window.PLOTLYENV=window.PLOTLYENV || {};\n",
       "                    window.PLOTLYENV.BASE_URL='https://plot.ly';                                    if (document.getElementById(\"c95bd11e-9a56-48e4-96e2-8a9813752eda\")) {                    Plotly.newPlot(                        \"c95bd11e-9a56-48e4-96e2-8a9813752eda\",                        [{\"colorscale\": [[0.0, \"rgb(165,0,38)\"], [0.1, \"rgb(215,48,39)\"], [0.2, \"rgb(244,109,67)\"], [0.3, \"rgb(253,174,97)\"], [0.4, \"rgb(254,224,144)\"], [0.5, \"rgb(255,255,191)\"], [0.6, \"rgb(224,243,248)\"], [0.7, \"rgb(171,217,233)\"], [0.8, \"rgb(116,173,209)\"], [0.9, \"rgb(69,117,180)\"], [1.0, \"rgb(49,54,149)\"]], \"type\": \"surface\", \"x\": [0, 1, 2, 3, 4], \"y\": [\"x\", \"y\", \"z\"], \"z\": [[1, 2, 3, 4, 5], [10, 20, 30, 20, 10], [5, 4, 3, 2, 1]]}],                        {\"legend\": {\"bgcolor\": \"#F5F6F9\", \"font\": {\"color\": \"#4D5663\"}}, \"paper_bgcolor\": \"#F5F6F9\", \"plot_bgcolor\": \"#F5F6F9\", \"template\": {\"data\": {\"bar\": [{\"error_x\": {\"color\": \"#2a3f5f\"}, \"error_y\": {\"color\": \"#2a3f5f\"}, \"marker\": {\"line\": {\"color\": \"#E5ECF6\", \"width\": 0.5}}, \"type\": \"bar\"}], \"barpolar\": [{\"marker\": {\"line\": {\"color\": \"#E5ECF6\", \"width\": 0.5}}, \"type\": \"barpolar\"}], \"carpet\": [{\"aaxis\": {\"endlinecolor\": \"#2a3f5f\", \"gridcolor\": \"white\", \"linecolor\": \"white\", \"minorgridcolor\": \"white\", \"startlinecolor\": \"#2a3f5f\"}, \"baxis\": {\"endlinecolor\": \"#2a3f5f\", \"gridcolor\": \"white\", \"linecolor\": \"white\", \"minorgridcolor\": \"white\", \"startlinecolor\": \"#2a3f5f\"}, \"type\": \"carpet\"}], \"choropleth\": [{\"colorbar\": {\"outlinewidth\": 0, \"ticks\": \"\"}, \"type\": \"choropleth\"}], \"contour\": [{\"colorbar\": {\"outlinewidth\": 0, \"ticks\": \"\"}, \"colorscale\": [[0.0, \"#0d0887\"], [0.1111111111111111, \"#46039f\"], [0.2222222222222222, \"#7201a8\"], [0.3333333333333333, \"#9c179e\"], [0.4444444444444444, \"#bd3786\"], [0.5555555555555556, \"#d8576b\"], [0.6666666666666666, \"#ed7953\"], [0.7777777777777778, \"#fb9f3a\"], [0.8888888888888888, \"#fdca26\"], [1.0, \"#f0f921\"]], \"type\": \"contour\"}], \"contourcarpet\": [{\"colorbar\": {\"outlinewidth\": 0, \"ticks\": \"\"}, \"type\": \"contourcarpet\"}], \"heatmap\": [{\"colorbar\": {\"outlinewidth\": 0, \"ticks\": \"\"}, \"colorscale\": [[0.0, \"#0d0887\"], [0.1111111111111111, \"#46039f\"], [0.2222222222222222, \"#7201a8\"], [0.3333333333333333, \"#9c179e\"], [0.4444444444444444, \"#bd3786\"], [0.5555555555555556, \"#d8576b\"], [0.6666666666666666, \"#ed7953\"], [0.7777777777777778, \"#fb9f3a\"], [0.8888888888888888, \"#fdca26\"], [1.0, \"#f0f921\"]], \"type\": \"heatmap\"}], \"heatmapgl\": [{\"colorbar\": {\"outlinewidth\": 0, \"ticks\": \"\"}, \"colorscale\": [[0.0, \"#0d0887\"], [0.1111111111111111, \"#46039f\"], [0.2222222222222222, \"#7201a8\"], [0.3333333333333333, \"#9c179e\"], [0.4444444444444444, \"#bd3786\"], [0.5555555555555556, \"#d8576b\"], [0.6666666666666666, \"#ed7953\"], [0.7777777777777778, \"#fb9f3a\"], [0.8888888888888888, \"#fdca26\"], [1.0, \"#f0f921\"]], \"type\": \"heatmapgl\"}], \"histogram\": [{\"marker\": {\"colorbar\": {\"outlinewidth\": 0, \"ticks\": \"\"}}, \"type\": \"histogram\"}], \"histogram2d\": [{\"colorbar\": {\"outlinewidth\": 0, \"ticks\": \"\"}, \"colorscale\": [[0.0, \"#0d0887\"], [0.1111111111111111, \"#46039f\"], [0.2222222222222222, \"#7201a8\"], [0.3333333333333333, \"#9c179e\"], [0.4444444444444444, \"#bd3786\"], [0.5555555555555556, \"#d8576b\"], [0.6666666666666666, \"#ed7953\"], [0.7777777777777778, \"#fb9f3a\"], [0.8888888888888888, \"#fdca26\"], [1.0, \"#f0f921\"]], \"type\": \"histogram2d\"}], \"histogram2dcontour\": [{\"colorbar\": {\"outlinewidth\": 0, \"ticks\": \"\"}, \"colorscale\": [[0.0, \"#0d0887\"], [0.1111111111111111, \"#46039f\"], [0.2222222222222222, \"#7201a8\"], [0.3333333333333333, \"#9c179e\"], [0.4444444444444444, \"#bd3786\"], [0.5555555555555556, \"#d8576b\"], [0.6666666666666666, \"#ed7953\"], [0.7777777777777778, \"#fb9f3a\"], [0.8888888888888888, \"#fdca26\"], [1.0, \"#f0f921\"]], \"type\": \"histogram2dcontour\"}], \"mesh3d\": [{\"colorbar\": {\"outlinewidth\": 0, \"ticks\": \"\"}, \"type\": \"mesh3d\"}], \"parcoords\": [{\"line\": {\"colorbar\": {\"outlinewidth\": 0, \"ticks\": \"\"}}, \"type\": \"parcoords\"}], \"pie\": [{\"automargin\": true, \"type\": \"pie\"}], \"scatter\": [{\"marker\": {\"colorbar\": {\"outlinewidth\": 0, \"ticks\": \"\"}}, \"type\": \"scatter\"}], \"scatter3d\": [{\"line\": {\"colorbar\": {\"outlinewidth\": 0, \"ticks\": \"\"}}, \"marker\": {\"colorbar\": {\"outlinewidth\": 0, \"ticks\": \"\"}}, \"type\": \"scatter3d\"}], \"scattercarpet\": [{\"marker\": {\"colorbar\": {\"outlinewidth\": 0, \"ticks\": \"\"}}, \"type\": \"scattercarpet\"}], \"scattergeo\": [{\"marker\": {\"colorbar\": {\"outlinewidth\": 0, \"ticks\": \"\"}}, \"type\": \"scattergeo\"}], \"scattergl\": [{\"marker\": {\"colorbar\": {\"outlinewidth\": 0, \"ticks\": \"\"}}, \"type\": \"scattergl\"}], \"scattermapbox\": [{\"marker\": {\"colorbar\": {\"outlinewidth\": 0, \"ticks\": \"\"}}, \"type\": \"scattermapbox\"}], \"scatterpolar\": [{\"marker\": {\"colorbar\": {\"outlinewidth\": 0, \"ticks\": \"\"}}, \"type\": \"scatterpolar\"}], \"scatterpolargl\": [{\"marker\": {\"colorbar\": {\"outlinewidth\": 0, \"ticks\": \"\"}}, \"type\": \"scatterpolargl\"}], \"scatterternary\": [{\"marker\": {\"colorbar\": {\"outlinewidth\": 0, \"ticks\": \"\"}}, \"type\": \"scatterternary\"}], \"surface\": [{\"colorbar\": {\"outlinewidth\": 0, \"ticks\": \"\"}, \"colorscale\": [[0.0, \"#0d0887\"], [0.1111111111111111, \"#46039f\"], [0.2222222222222222, \"#7201a8\"], [0.3333333333333333, \"#9c179e\"], [0.4444444444444444, \"#bd3786\"], [0.5555555555555556, \"#d8576b\"], [0.6666666666666666, \"#ed7953\"], [0.7777777777777778, \"#fb9f3a\"], [0.8888888888888888, \"#fdca26\"], [1.0, \"#f0f921\"]], \"type\": \"surface\"}], \"table\": [{\"cells\": {\"fill\": {\"color\": \"#EBF0F8\"}, \"line\": {\"color\": \"white\"}}, \"header\": {\"fill\": {\"color\": \"#C8D4E3\"}, \"line\": {\"color\": \"white\"}}, \"type\": \"table\"}]}, \"layout\": {\"annotationdefaults\": {\"arrowcolor\": \"#2a3f5f\", \"arrowhead\": 0, \"arrowwidth\": 1}, \"autotypenumbers\": \"strict\", \"coloraxis\": {\"colorbar\": {\"outlinewidth\": 0, \"ticks\": \"\"}}, \"colorscale\": {\"diverging\": [[0, \"#8e0152\"], [0.1, \"#c51b7d\"], [0.2, \"#de77ae\"], [0.3, \"#f1b6da\"], [0.4, \"#fde0ef\"], [0.5, \"#f7f7f7\"], [0.6, \"#e6f5d0\"], [0.7, \"#b8e186\"], [0.8, \"#7fbc41\"], [0.9, \"#4d9221\"], [1, \"#276419\"]], \"sequential\": [[0.0, \"#0d0887\"], [0.1111111111111111, \"#46039f\"], [0.2222222222222222, \"#7201a8\"], [0.3333333333333333, \"#9c179e\"], [0.4444444444444444, \"#bd3786\"], [0.5555555555555556, \"#d8576b\"], [0.6666666666666666, \"#ed7953\"], [0.7777777777777778, \"#fb9f3a\"], [0.8888888888888888, \"#fdca26\"], [1.0, \"#f0f921\"]], \"sequentialminus\": [[0.0, \"#0d0887\"], [0.1111111111111111, \"#46039f\"], [0.2222222222222222, \"#7201a8\"], [0.3333333333333333, \"#9c179e\"], [0.4444444444444444, \"#bd3786\"], [0.5555555555555556, \"#d8576b\"], [0.6666666666666666, \"#ed7953\"], [0.7777777777777778, \"#fb9f3a\"], [0.8888888888888888, \"#fdca26\"], [1.0, \"#f0f921\"]]}, \"colorway\": [\"#636efa\", \"#EF553B\", \"#00cc96\", \"#ab63fa\", \"#FFA15A\", \"#19d3f3\", \"#FF6692\", \"#B6E880\", \"#FF97FF\", \"#FECB52\"], \"font\": {\"color\": \"#2a3f5f\"}, \"geo\": {\"bgcolor\": \"white\", \"lakecolor\": \"white\", \"landcolor\": \"#E5ECF6\", \"showlakes\": true, \"showland\": true, \"subunitcolor\": \"white\"}, \"hoverlabel\": {\"align\": \"left\"}, \"hovermode\": \"closest\", \"mapbox\": {\"style\": \"light\"}, \"paper_bgcolor\": \"white\", \"plot_bgcolor\": \"#E5ECF6\", \"polar\": {\"angularaxis\": {\"gridcolor\": \"white\", \"linecolor\": \"white\", \"ticks\": \"\"}, \"bgcolor\": \"#E5ECF6\", \"radialaxis\": {\"gridcolor\": \"white\", \"linecolor\": \"white\", \"ticks\": \"\"}}, \"scene\": {\"xaxis\": {\"backgroundcolor\": \"#E5ECF6\", \"gridcolor\": \"white\", \"gridwidth\": 2, \"linecolor\": \"white\", \"showbackground\": true, \"ticks\": \"\", \"zerolinecolor\": \"white\"}, \"yaxis\": {\"backgroundcolor\": \"#E5ECF6\", \"gridcolor\": \"white\", \"gridwidth\": 2, \"linecolor\": \"white\", \"showbackground\": true, \"ticks\": \"\", \"zerolinecolor\": \"white\"}, \"zaxis\": {\"backgroundcolor\": \"#E5ECF6\", \"gridcolor\": \"white\", \"gridwidth\": 2, \"linecolor\": \"white\", \"showbackground\": true, \"ticks\": \"\", \"zerolinecolor\": \"white\"}}, \"shapedefaults\": {\"line\": {\"color\": \"#2a3f5f\"}}, \"ternary\": {\"aaxis\": {\"gridcolor\": \"white\", \"linecolor\": \"white\", \"ticks\": \"\"}, \"baxis\": {\"gridcolor\": \"white\", \"linecolor\": \"white\", \"ticks\": \"\"}, \"bgcolor\": \"#E5ECF6\", \"caxis\": {\"gridcolor\": \"white\", \"linecolor\": \"white\", \"ticks\": \"\"}}, \"title\": {\"x\": 0.05}, \"xaxis\": {\"automargin\": true, \"gridcolor\": \"white\", \"linecolor\": \"white\", \"ticks\": \"\", \"title\": {\"standoff\": 15}, \"zerolinecolor\": \"white\", \"zerolinewidth\": 2}, \"yaxis\": {\"automargin\": true, \"gridcolor\": \"white\", \"linecolor\": \"white\", \"ticks\": \"\", \"title\": {\"standoff\": 15}, \"zerolinecolor\": \"white\", \"zerolinewidth\": 2}}}, \"title\": {\"font\": {\"color\": \"#4D5663\"}}, \"xaxis\": {\"gridcolor\": \"#E1E5ED\", \"showgrid\": true, \"tickfont\": {\"color\": \"#4D5663\"}, \"title\": {\"font\": {\"color\": \"#4D5663\"}, \"text\": \"\"}, \"zerolinecolor\": \"#E1E5ED\"}, \"yaxis\": {\"gridcolor\": \"#E1E5ED\", \"showgrid\": true, \"tickfont\": {\"color\": \"#4D5663\"}, \"title\": {\"font\": {\"color\": \"#4D5663\"}, \"text\": \"\"}, \"zerolinecolor\": \"#E1E5ED\"}},                        {\"showLink\": true, \"linkText\": \"Export to plot.ly\", \"plotlyServerURL\": \"https://plot.ly\", \"responsive\": true}                    ).then(function(){\n",
       "                            \n",
       "var gd = document.getElementById('c95bd11e-9a56-48e4-96e2-8a9813752eda');\n",
       "var x = new MutationObserver(function (mutations, observer) {{\n",
       "        var display = window.getComputedStyle(gd).display;\n",
       "        if (!display || display === 'none') {{\n",
       "            console.log([gd, 'removed!']);\n",
       "            Plotly.purge(gd);\n",
       "            observer.disconnect();\n",
       "        }}\n",
       "}});\n",
       "\n",
       "// Listen for the removal of the full notebook cells\n",
       "var notebookContainer = gd.closest('#notebook-container');\n",
       "if (notebookContainer) {{\n",
       "    x.observe(notebookContainer, {childList: true});\n",
       "}}\n",
       "\n",
       "// Listen for the clearing of the current output cell\n",
       "var outputEl = gd.closest('.output');\n",
       "if (outputEl) {{\n",
       "    x.observe(outputEl, {childList: true});\n",
       "}}\n",
       "\n",
       "                        })                };                });            </script>        </div>"
      ]
     },
     "metadata": {},
     "output_type": "display_data"
    }
   ],
   "source": [
    "df4 = pd.DataFrame({'x':[1,2,3,4,5],'y':[10,20,30,20,10],'z':[5,4,3,2,1]})\n",
    "df4.iplot(kind='surface',colorscale='rdylbu')"
   ]
  },
  {
   "cell_type": "code",
   "execution_count": 36,
   "metadata": {},
   "outputs": [
    {
     "data": {
      "application/vnd.plotly.v1+json": {
       "config": {
        "linkText": "Export to plot.ly",
        "plotlyServerURL": "https://plot.ly",
        "showLink": true
       },
       "data": [
        {
         "histfunc": "count",
         "histnorm": "",
         "marker": {
          "color": "rgba(255, 153, 51, 1.0)",
          "line": {
           "color": "#4D5663",
           "width": 1.3
          }
         },
         "name": "A",
         "nbinsx": 25,
         "opacity": 0.8,
         "orientation": "v",
         "type": "histogram",
         "x": [
          -0.1601183780470847,
          0.15940940597672718,
          -0.8691414452109293,
          2.1010276114389423,
          0.17164077472576567,
          -0.3615969648072336,
          -1.4329312503554597,
          1.0348622009763033,
          -0.9530959678937821,
          -1.949144277250312,
          -0.653801018600976,
          -1.0586602896818622,
          0.28861617739230505,
          1.6481156904717285,
          0.5021988384451932,
          0.7419461664678879,
          0.17745499512664956,
          -0.38325620812446526,
          0.12849351472190346,
          0.15024354836000892,
          -1.9046735986048597,
          0.06729564255980032,
          1.3114167690497167,
          0.6532864418010814,
          0.7736641644900281,
          0.9710332051307252,
          -1.2950688683078926,
          -0.2330559856021781,
          -0.2506005785170448,
          0.8746518298457197,
          0.49012434927847653,
          1.952542960328725,
          1.422053288373496,
          -0.041017606165554964,
          -0.5696189873368337,
          1.3796194148641876,
          -0.9684850941850984,
          -0.6867169752967174,
          1.2175982302306936,
          -0.7950270858687128,
          -0.20268130839797435,
          -0.3166116775607073,
          0.013265786411123252,
          1.3609161101425622,
          0.918899536952606,
          0.8946799623180145,
          -0.32355619688753906,
          -0.26159337861282134,
          1.7316425076849074,
          0.18598089946101812,
          0.5735137879874297,
          0.5584074518494194,
          -0.39038838391341496,
          0.9879393225390422,
          2.5030105940459157,
          -0.48432032452495916,
          -0.41613166505421517,
          -1.3139722396678235,
          0.22869715598900986,
          -0.5435803703335473,
          2.487064416501825,
          -0.44198082209238426,
          -0.3539645120194969,
          0.27099557207341957,
          0.45250919764242253,
          -0.0576693407543129,
          -0.7573808849544862,
          -1.3875401356438606,
          0.5770513485881394,
          1.2340897966166007,
          1.014934806523684,
          0.1530954629770791,
          -1.0723060534055624,
          1.085507498157262,
          1.3346837122325887,
          -1.3698512217275174,
          -0.10433179640403041,
          -1.201928853898415,
          -0.30352824810029955,
          0.33826194670927395,
          -0.7785433241744303,
          -0.14302780228701797,
          0.6172268757774699,
          -1.5310619955784,
          -0.9632272022705074,
          0.8562948380132994,
          -0.137384953960321,
          -0.9653087534475998,
          -0.4426437998567408,
          0.5304095588563396,
          1.4850884827390285,
          0.1906684616642033,
          0.246574144712053,
          -0.2369541408221221,
          0.963784194598969,
          0.44074100274933714,
          0.546935093537091,
          -1.756855506983355,
          1.8244298964505592,
          -1.4031423867604629
         ]
        }
       ],
       "layout": {
        "barmode": "overlay",
        "legend": {
         "bgcolor": "#F5F6F9",
         "font": {
          "color": "#4D5663"
         }
        },
        "paper_bgcolor": "#F5F6F9",
        "plot_bgcolor": "#F5F6F9",
        "template": {
         "data": {
          "bar": [
           {
            "error_x": {
             "color": "#2a3f5f"
            },
            "error_y": {
             "color": "#2a3f5f"
            },
            "marker": {
             "line": {
              "color": "#E5ECF6",
              "width": 0.5
             }
            },
            "type": "bar"
           }
          ],
          "barpolar": [
           {
            "marker": {
             "line": {
              "color": "#E5ECF6",
              "width": 0.5
             }
            },
            "type": "barpolar"
           }
          ],
          "carpet": [
           {
            "aaxis": {
             "endlinecolor": "#2a3f5f",
             "gridcolor": "white",
             "linecolor": "white",
             "minorgridcolor": "white",
             "startlinecolor": "#2a3f5f"
            },
            "baxis": {
             "endlinecolor": "#2a3f5f",
             "gridcolor": "white",
             "linecolor": "white",
             "minorgridcolor": "white",
             "startlinecolor": "#2a3f5f"
            },
            "type": "carpet"
           }
          ],
          "choropleth": [
           {
            "colorbar": {
             "outlinewidth": 0,
             "ticks": ""
            },
            "type": "choropleth"
           }
          ],
          "contour": [
           {
            "colorbar": {
             "outlinewidth": 0,
             "ticks": ""
            },
            "colorscale": [
             [
              0,
              "#0d0887"
             ],
             [
              0.1111111111111111,
              "#46039f"
             ],
             [
              0.2222222222222222,
              "#7201a8"
             ],
             [
              0.3333333333333333,
              "#9c179e"
             ],
             [
              0.4444444444444444,
              "#bd3786"
             ],
             [
              0.5555555555555556,
              "#d8576b"
             ],
             [
              0.6666666666666666,
              "#ed7953"
             ],
             [
              0.7777777777777778,
              "#fb9f3a"
             ],
             [
              0.8888888888888888,
              "#fdca26"
             ],
             [
              1,
              "#f0f921"
             ]
            ],
            "type": "contour"
           }
          ],
          "contourcarpet": [
           {
            "colorbar": {
             "outlinewidth": 0,
             "ticks": ""
            },
            "type": "contourcarpet"
           }
          ],
          "heatmap": [
           {
            "colorbar": {
             "outlinewidth": 0,
             "ticks": ""
            },
            "colorscale": [
             [
              0,
              "#0d0887"
             ],
             [
              0.1111111111111111,
              "#46039f"
             ],
             [
              0.2222222222222222,
              "#7201a8"
             ],
             [
              0.3333333333333333,
              "#9c179e"
             ],
             [
              0.4444444444444444,
              "#bd3786"
             ],
             [
              0.5555555555555556,
              "#d8576b"
             ],
             [
              0.6666666666666666,
              "#ed7953"
             ],
             [
              0.7777777777777778,
              "#fb9f3a"
             ],
             [
              0.8888888888888888,
              "#fdca26"
             ],
             [
              1,
              "#f0f921"
             ]
            ],
            "type": "heatmap"
           }
          ],
          "heatmapgl": [
           {
            "colorbar": {
             "outlinewidth": 0,
             "ticks": ""
            },
            "colorscale": [
             [
              0,
              "#0d0887"
             ],
             [
              0.1111111111111111,
              "#46039f"
             ],
             [
              0.2222222222222222,
              "#7201a8"
             ],
             [
              0.3333333333333333,
              "#9c179e"
             ],
             [
              0.4444444444444444,
              "#bd3786"
             ],
             [
              0.5555555555555556,
              "#d8576b"
             ],
             [
              0.6666666666666666,
              "#ed7953"
             ],
             [
              0.7777777777777778,
              "#fb9f3a"
             ],
             [
              0.8888888888888888,
              "#fdca26"
             ],
             [
              1,
              "#f0f921"
             ]
            ],
            "type": "heatmapgl"
           }
          ],
          "histogram": [
           {
            "marker": {
             "colorbar": {
              "outlinewidth": 0,
              "ticks": ""
             }
            },
            "type": "histogram"
           }
          ],
          "histogram2d": [
           {
            "colorbar": {
             "outlinewidth": 0,
             "ticks": ""
            },
            "colorscale": [
             [
              0,
              "#0d0887"
             ],
             [
              0.1111111111111111,
              "#46039f"
             ],
             [
              0.2222222222222222,
              "#7201a8"
             ],
             [
              0.3333333333333333,
              "#9c179e"
             ],
             [
              0.4444444444444444,
              "#bd3786"
             ],
             [
              0.5555555555555556,
              "#d8576b"
             ],
             [
              0.6666666666666666,
              "#ed7953"
             ],
             [
              0.7777777777777778,
              "#fb9f3a"
             ],
             [
              0.8888888888888888,
              "#fdca26"
             ],
             [
              1,
              "#f0f921"
             ]
            ],
            "type": "histogram2d"
           }
          ],
          "histogram2dcontour": [
           {
            "colorbar": {
             "outlinewidth": 0,
             "ticks": ""
            },
            "colorscale": [
             [
              0,
              "#0d0887"
             ],
             [
              0.1111111111111111,
              "#46039f"
             ],
             [
              0.2222222222222222,
              "#7201a8"
             ],
             [
              0.3333333333333333,
              "#9c179e"
             ],
             [
              0.4444444444444444,
              "#bd3786"
             ],
             [
              0.5555555555555556,
              "#d8576b"
             ],
             [
              0.6666666666666666,
              "#ed7953"
             ],
             [
              0.7777777777777778,
              "#fb9f3a"
             ],
             [
              0.8888888888888888,
              "#fdca26"
             ],
             [
              1,
              "#f0f921"
             ]
            ],
            "type": "histogram2dcontour"
           }
          ],
          "mesh3d": [
           {
            "colorbar": {
             "outlinewidth": 0,
             "ticks": ""
            },
            "type": "mesh3d"
           }
          ],
          "parcoords": [
           {
            "line": {
             "colorbar": {
              "outlinewidth": 0,
              "ticks": ""
             }
            },
            "type": "parcoords"
           }
          ],
          "pie": [
           {
            "automargin": true,
            "type": "pie"
           }
          ],
          "scatter": [
           {
            "marker": {
             "colorbar": {
              "outlinewidth": 0,
              "ticks": ""
             }
            },
            "type": "scatter"
           }
          ],
          "scatter3d": [
           {
            "line": {
             "colorbar": {
              "outlinewidth": 0,
              "ticks": ""
             }
            },
            "marker": {
             "colorbar": {
              "outlinewidth": 0,
              "ticks": ""
             }
            },
            "type": "scatter3d"
           }
          ],
          "scattercarpet": [
           {
            "marker": {
             "colorbar": {
              "outlinewidth": 0,
              "ticks": ""
             }
            },
            "type": "scattercarpet"
           }
          ],
          "scattergeo": [
           {
            "marker": {
             "colorbar": {
              "outlinewidth": 0,
              "ticks": ""
             }
            },
            "type": "scattergeo"
           }
          ],
          "scattergl": [
           {
            "marker": {
             "colorbar": {
              "outlinewidth": 0,
              "ticks": ""
             }
            },
            "type": "scattergl"
           }
          ],
          "scattermapbox": [
           {
            "marker": {
             "colorbar": {
              "outlinewidth": 0,
              "ticks": ""
             }
            },
            "type": "scattermapbox"
           }
          ],
          "scatterpolar": [
           {
            "marker": {
             "colorbar": {
              "outlinewidth": 0,
              "ticks": ""
             }
            },
            "type": "scatterpolar"
           }
          ],
          "scatterpolargl": [
           {
            "marker": {
             "colorbar": {
              "outlinewidth": 0,
              "ticks": ""
             }
            },
            "type": "scatterpolargl"
           }
          ],
          "scatterternary": [
           {
            "marker": {
             "colorbar": {
              "outlinewidth": 0,
              "ticks": ""
             }
            },
            "type": "scatterternary"
           }
          ],
          "surface": [
           {
            "colorbar": {
             "outlinewidth": 0,
             "ticks": ""
            },
            "colorscale": [
             [
              0,
              "#0d0887"
             ],
             [
              0.1111111111111111,
              "#46039f"
             ],
             [
              0.2222222222222222,
              "#7201a8"
             ],
             [
              0.3333333333333333,
              "#9c179e"
             ],
             [
              0.4444444444444444,
              "#bd3786"
             ],
             [
              0.5555555555555556,
              "#d8576b"
             ],
             [
              0.6666666666666666,
              "#ed7953"
             ],
             [
              0.7777777777777778,
              "#fb9f3a"
             ],
             [
              0.8888888888888888,
              "#fdca26"
             ],
             [
              1,
              "#f0f921"
             ]
            ],
            "type": "surface"
           }
          ],
          "table": [
           {
            "cells": {
             "fill": {
              "color": "#EBF0F8"
             },
             "line": {
              "color": "white"
             }
            },
            "header": {
             "fill": {
              "color": "#C8D4E3"
             },
             "line": {
              "color": "white"
             }
            },
            "type": "table"
           }
          ]
         },
         "layout": {
          "annotationdefaults": {
           "arrowcolor": "#2a3f5f",
           "arrowhead": 0,
           "arrowwidth": 1
          },
          "autotypenumbers": "strict",
          "coloraxis": {
           "colorbar": {
            "outlinewidth": 0,
            "ticks": ""
           }
          },
          "colorscale": {
           "diverging": [
            [
             0,
             "#8e0152"
            ],
            [
             0.1,
             "#c51b7d"
            ],
            [
             0.2,
             "#de77ae"
            ],
            [
             0.3,
             "#f1b6da"
            ],
            [
             0.4,
             "#fde0ef"
            ],
            [
             0.5,
             "#f7f7f7"
            ],
            [
             0.6,
             "#e6f5d0"
            ],
            [
             0.7,
             "#b8e186"
            ],
            [
             0.8,
             "#7fbc41"
            ],
            [
             0.9,
             "#4d9221"
            ],
            [
             1,
             "#276419"
            ]
           ],
           "sequential": [
            [
             0,
             "#0d0887"
            ],
            [
             0.1111111111111111,
             "#46039f"
            ],
            [
             0.2222222222222222,
             "#7201a8"
            ],
            [
             0.3333333333333333,
             "#9c179e"
            ],
            [
             0.4444444444444444,
             "#bd3786"
            ],
            [
             0.5555555555555556,
             "#d8576b"
            ],
            [
             0.6666666666666666,
             "#ed7953"
            ],
            [
             0.7777777777777778,
             "#fb9f3a"
            ],
            [
             0.8888888888888888,
             "#fdca26"
            ],
            [
             1,
             "#f0f921"
            ]
           ],
           "sequentialminus": [
            [
             0,
             "#0d0887"
            ],
            [
             0.1111111111111111,
             "#46039f"
            ],
            [
             0.2222222222222222,
             "#7201a8"
            ],
            [
             0.3333333333333333,
             "#9c179e"
            ],
            [
             0.4444444444444444,
             "#bd3786"
            ],
            [
             0.5555555555555556,
             "#d8576b"
            ],
            [
             0.6666666666666666,
             "#ed7953"
            ],
            [
             0.7777777777777778,
             "#fb9f3a"
            ],
            [
             0.8888888888888888,
             "#fdca26"
            ],
            [
             1,
             "#f0f921"
            ]
           ]
          },
          "colorway": [
           "#636efa",
           "#EF553B",
           "#00cc96",
           "#ab63fa",
           "#FFA15A",
           "#19d3f3",
           "#FF6692",
           "#B6E880",
           "#FF97FF",
           "#FECB52"
          ],
          "font": {
           "color": "#2a3f5f"
          },
          "geo": {
           "bgcolor": "white",
           "lakecolor": "white",
           "landcolor": "#E5ECF6",
           "showlakes": true,
           "showland": true,
           "subunitcolor": "white"
          },
          "hoverlabel": {
           "align": "left"
          },
          "hovermode": "closest",
          "mapbox": {
           "style": "light"
          },
          "paper_bgcolor": "white",
          "plot_bgcolor": "#E5ECF6",
          "polar": {
           "angularaxis": {
            "gridcolor": "white",
            "linecolor": "white",
            "ticks": ""
           },
           "bgcolor": "#E5ECF6",
           "radialaxis": {
            "gridcolor": "white",
            "linecolor": "white",
            "ticks": ""
           }
          },
          "scene": {
           "xaxis": {
            "backgroundcolor": "#E5ECF6",
            "gridcolor": "white",
            "gridwidth": 2,
            "linecolor": "white",
            "showbackground": true,
            "ticks": "",
            "zerolinecolor": "white"
           },
           "yaxis": {
            "backgroundcolor": "#E5ECF6",
            "gridcolor": "white",
            "gridwidth": 2,
            "linecolor": "white",
            "showbackground": true,
            "ticks": "",
            "zerolinecolor": "white"
           },
           "zaxis": {
            "backgroundcolor": "#E5ECF6",
            "gridcolor": "white",
            "gridwidth": 2,
            "linecolor": "white",
            "showbackground": true,
            "ticks": "",
            "zerolinecolor": "white"
           }
          },
          "shapedefaults": {
           "line": {
            "color": "#2a3f5f"
           }
          },
          "ternary": {
           "aaxis": {
            "gridcolor": "white",
            "linecolor": "white",
            "ticks": ""
           },
           "baxis": {
            "gridcolor": "white",
            "linecolor": "white",
            "ticks": ""
           },
           "bgcolor": "#E5ECF6",
           "caxis": {
            "gridcolor": "white",
            "linecolor": "white",
            "ticks": ""
           }
          },
          "title": {
           "x": 0.05
          },
          "xaxis": {
           "automargin": true,
           "gridcolor": "white",
           "linecolor": "white",
           "ticks": "",
           "title": {
            "standoff": 15
           },
           "zerolinecolor": "white",
           "zerolinewidth": 2
          },
          "yaxis": {
           "automargin": true,
           "gridcolor": "white",
           "linecolor": "white",
           "ticks": "",
           "title": {
            "standoff": 15
           },
           "zerolinecolor": "white",
           "zerolinewidth": 2
          }
         }
        },
        "title": {
         "font": {
          "color": "#4D5663"
         }
        },
        "xaxis": {
         "gridcolor": "#E1E5ED",
         "showgrid": true,
         "tickfont": {
          "color": "#4D5663"
         },
         "title": {
          "font": {
           "color": "#4D5663"
          },
          "text": ""
         },
         "zerolinecolor": "#E1E5ED"
        },
        "yaxis": {
         "gridcolor": "#E1E5ED",
         "showgrid": true,
         "tickfont": {
          "color": "#4D5663"
         },
         "title": {
          "font": {
           "color": "#4D5663"
          },
          "text": ""
         },
         "zerolinecolor": "#E1E5ED"
        }
       }
      },
      "text/html": [
       "<div>                            <div id=\"6bcbfac2-9994-4886-a34c-5a643f05fee4\" class=\"plotly-graph-div\" style=\"height:525px; width:100%;\"></div>            <script type=\"text/javascript\">                require([\"plotly\"], function(Plotly) {                    window.PLOTLYENV=window.PLOTLYENV || {};\n",
       "                    window.PLOTLYENV.BASE_URL='https://plot.ly';                                    if (document.getElementById(\"6bcbfac2-9994-4886-a34c-5a643f05fee4\")) {                    Plotly.newPlot(                        \"6bcbfac2-9994-4886-a34c-5a643f05fee4\",                        [{\"histfunc\": \"count\", \"histnorm\": \"\", \"marker\": {\"color\": \"rgba(255, 153, 51, 1.0)\", \"line\": {\"color\": \"#4D5663\", \"width\": 1.3}}, \"name\": \"A\", \"nbinsx\": 25, \"opacity\": 0.8, \"orientation\": \"v\", \"type\": \"histogram\", \"x\": [-0.1601183780470847, 0.15940940597672718, -0.8691414452109293, 2.1010276114389423, 0.17164077472576567, -0.3615969648072336, -1.4329312503554597, 1.0348622009763033, -0.9530959678937821, -1.949144277250312, -0.653801018600976, -1.0586602896818622, 0.28861617739230505, 1.6481156904717285, 0.5021988384451932, 0.7419461664678879, 0.17745499512664956, -0.38325620812446526, 0.12849351472190346, 0.15024354836000892, -1.9046735986048597, 0.06729564255980032, 1.3114167690497167, 0.6532864418010814, 0.7736641644900281, 0.9710332051307252, -1.2950688683078926, -0.2330559856021781, -0.2506005785170448, 0.8746518298457197, 0.49012434927847653, 1.952542960328725, 1.422053288373496, -0.041017606165554964, -0.5696189873368337, 1.3796194148641876, -0.9684850941850984, -0.6867169752967174, 1.2175982302306936, -0.7950270858687128, -0.20268130839797435, -0.3166116775607073, 0.013265786411123252, 1.3609161101425622, 0.918899536952606, 0.8946799623180145, -0.32355619688753906, -0.26159337861282134, 1.7316425076849074, 0.18598089946101812, 0.5735137879874297, 0.5584074518494194, -0.39038838391341496, 0.9879393225390422, 2.5030105940459157, -0.48432032452495916, -0.41613166505421517, -1.3139722396678235, 0.22869715598900986, -0.5435803703335473, 2.487064416501825, -0.44198082209238426, -0.3539645120194969, 0.27099557207341957, 0.45250919764242253, -0.0576693407543129, -0.7573808849544862, -1.3875401356438606, 0.5770513485881394, 1.2340897966166007, 1.014934806523684, 0.1530954629770791, -1.0723060534055624, 1.085507498157262, 1.3346837122325887, -1.3698512217275174, -0.10433179640403041, -1.201928853898415, -0.30352824810029955, 0.33826194670927395, -0.7785433241744303, -0.14302780228701797, 0.6172268757774699, -1.5310619955784, -0.9632272022705074, 0.8562948380132994, -0.137384953960321, -0.9653087534475998, -0.4426437998567408, 0.5304095588563396, 1.4850884827390285, 0.1906684616642033, 0.246574144712053, -0.2369541408221221, 0.963784194598969, 0.44074100274933714, 0.546935093537091, -1.756855506983355, 1.8244298964505592, -1.4031423867604629]}],                        {\"barmode\": \"overlay\", \"legend\": {\"bgcolor\": \"#F5F6F9\", \"font\": {\"color\": \"#4D5663\"}}, \"paper_bgcolor\": \"#F5F6F9\", \"plot_bgcolor\": \"#F5F6F9\", \"template\": {\"data\": {\"bar\": [{\"error_x\": {\"color\": \"#2a3f5f\"}, \"error_y\": {\"color\": \"#2a3f5f\"}, \"marker\": {\"line\": {\"color\": \"#E5ECF6\", \"width\": 0.5}}, \"type\": \"bar\"}], \"barpolar\": [{\"marker\": {\"line\": {\"color\": \"#E5ECF6\", \"width\": 0.5}}, \"type\": \"barpolar\"}], \"carpet\": [{\"aaxis\": {\"endlinecolor\": \"#2a3f5f\", \"gridcolor\": \"white\", \"linecolor\": \"white\", \"minorgridcolor\": \"white\", \"startlinecolor\": \"#2a3f5f\"}, \"baxis\": {\"endlinecolor\": \"#2a3f5f\", \"gridcolor\": \"white\", \"linecolor\": \"white\", \"minorgridcolor\": \"white\", \"startlinecolor\": \"#2a3f5f\"}, \"type\": \"carpet\"}], \"choropleth\": [{\"colorbar\": {\"outlinewidth\": 0, \"ticks\": \"\"}, \"type\": \"choropleth\"}], \"contour\": [{\"colorbar\": {\"outlinewidth\": 0, \"ticks\": \"\"}, \"colorscale\": [[0.0, \"#0d0887\"], [0.1111111111111111, \"#46039f\"], [0.2222222222222222, \"#7201a8\"], [0.3333333333333333, \"#9c179e\"], [0.4444444444444444, \"#bd3786\"], [0.5555555555555556, \"#d8576b\"], [0.6666666666666666, \"#ed7953\"], [0.7777777777777778, \"#fb9f3a\"], [0.8888888888888888, \"#fdca26\"], [1.0, \"#f0f921\"]], \"type\": \"contour\"}], \"contourcarpet\": [{\"colorbar\": {\"outlinewidth\": 0, \"ticks\": \"\"}, \"type\": \"contourcarpet\"}], \"heatmap\": [{\"colorbar\": {\"outlinewidth\": 0, \"ticks\": \"\"}, \"colorscale\": [[0.0, \"#0d0887\"], [0.1111111111111111, \"#46039f\"], [0.2222222222222222, \"#7201a8\"], [0.3333333333333333, \"#9c179e\"], [0.4444444444444444, \"#bd3786\"], [0.5555555555555556, \"#d8576b\"], [0.6666666666666666, \"#ed7953\"], [0.7777777777777778, \"#fb9f3a\"], [0.8888888888888888, \"#fdca26\"], [1.0, \"#f0f921\"]], \"type\": \"heatmap\"}], \"heatmapgl\": [{\"colorbar\": {\"outlinewidth\": 0, \"ticks\": \"\"}, \"colorscale\": [[0.0, \"#0d0887\"], [0.1111111111111111, \"#46039f\"], [0.2222222222222222, \"#7201a8\"], [0.3333333333333333, \"#9c179e\"], [0.4444444444444444, \"#bd3786\"], [0.5555555555555556, \"#d8576b\"], [0.6666666666666666, \"#ed7953\"], [0.7777777777777778, \"#fb9f3a\"], [0.8888888888888888, \"#fdca26\"], [1.0, \"#f0f921\"]], \"type\": \"heatmapgl\"}], \"histogram\": [{\"marker\": {\"colorbar\": {\"outlinewidth\": 0, \"ticks\": \"\"}}, \"type\": \"histogram\"}], \"histogram2d\": [{\"colorbar\": {\"outlinewidth\": 0, \"ticks\": \"\"}, \"colorscale\": [[0.0, \"#0d0887\"], [0.1111111111111111, \"#46039f\"], [0.2222222222222222, \"#7201a8\"], [0.3333333333333333, \"#9c179e\"], [0.4444444444444444, \"#bd3786\"], [0.5555555555555556, \"#d8576b\"], [0.6666666666666666, \"#ed7953\"], [0.7777777777777778, \"#fb9f3a\"], [0.8888888888888888, \"#fdca26\"], [1.0, \"#f0f921\"]], \"type\": \"histogram2d\"}], \"histogram2dcontour\": [{\"colorbar\": {\"outlinewidth\": 0, \"ticks\": \"\"}, \"colorscale\": [[0.0, \"#0d0887\"], [0.1111111111111111, \"#46039f\"], [0.2222222222222222, \"#7201a8\"], [0.3333333333333333, \"#9c179e\"], [0.4444444444444444, \"#bd3786\"], [0.5555555555555556, \"#d8576b\"], [0.6666666666666666, \"#ed7953\"], [0.7777777777777778, \"#fb9f3a\"], [0.8888888888888888, \"#fdca26\"], [1.0, \"#f0f921\"]], \"type\": \"histogram2dcontour\"}], \"mesh3d\": [{\"colorbar\": {\"outlinewidth\": 0, \"ticks\": \"\"}, \"type\": \"mesh3d\"}], \"parcoords\": [{\"line\": {\"colorbar\": {\"outlinewidth\": 0, \"ticks\": \"\"}}, \"type\": \"parcoords\"}], \"pie\": [{\"automargin\": true, \"type\": \"pie\"}], \"scatter\": [{\"marker\": {\"colorbar\": {\"outlinewidth\": 0, \"ticks\": \"\"}}, \"type\": \"scatter\"}], \"scatter3d\": [{\"line\": {\"colorbar\": {\"outlinewidth\": 0, \"ticks\": \"\"}}, \"marker\": {\"colorbar\": {\"outlinewidth\": 0, \"ticks\": \"\"}}, \"type\": \"scatter3d\"}], \"scattercarpet\": [{\"marker\": {\"colorbar\": {\"outlinewidth\": 0, \"ticks\": \"\"}}, \"type\": \"scattercarpet\"}], \"scattergeo\": [{\"marker\": {\"colorbar\": {\"outlinewidth\": 0, \"ticks\": \"\"}}, \"type\": \"scattergeo\"}], \"scattergl\": [{\"marker\": {\"colorbar\": {\"outlinewidth\": 0, \"ticks\": \"\"}}, \"type\": \"scattergl\"}], \"scattermapbox\": [{\"marker\": {\"colorbar\": {\"outlinewidth\": 0, \"ticks\": \"\"}}, \"type\": \"scattermapbox\"}], \"scatterpolar\": [{\"marker\": {\"colorbar\": {\"outlinewidth\": 0, \"ticks\": \"\"}}, \"type\": \"scatterpolar\"}], \"scatterpolargl\": [{\"marker\": {\"colorbar\": {\"outlinewidth\": 0, \"ticks\": \"\"}}, \"type\": \"scatterpolargl\"}], \"scatterternary\": [{\"marker\": {\"colorbar\": {\"outlinewidth\": 0, \"ticks\": \"\"}}, \"type\": \"scatterternary\"}], \"surface\": [{\"colorbar\": {\"outlinewidth\": 0, \"ticks\": \"\"}, \"colorscale\": [[0.0, \"#0d0887\"], [0.1111111111111111, \"#46039f\"], [0.2222222222222222, \"#7201a8\"], [0.3333333333333333, \"#9c179e\"], [0.4444444444444444, \"#bd3786\"], [0.5555555555555556, \"#d8576b\"], [0.6666666666666666, \"#ed7953\"], [0.7777777777777778, \"#fb9f3a\"], [0.8888888888888888, \"#fdca26\"], [1.0, \"#f0f921\"]], \"type\": \"surface\"}], \"table\": [{\"cells\": {\"fill\": {\"color\": \"#EBF0F8\"}, \"line\": {\"color\": \"white\"}}, \"header\": {\"fill\": {\"color\": \"#C8D4E3\"}, \"line\": {\"color\": \"white\"}}, \"type\": \"table\"}]}, \"layout\": {\"annotationdefaults\": {\"arrowcolor\": \"#2a3f5f\", \"arrowhead\": 0, \"arrowwidth\": 1}, \"autotypenumbers\": \"strict\", \"coloraxis\": {\"colorbar\": {\"outlinewidth\": 0, \"ticks\": \"\"}}, \"colorscale\": {\"diverging\": [[0, \"#8e0152\"], [0.1, \"#c51b7d\"], [0.2, \"#de77ae\"], [0.3, \"#f1b6da\"], [0.4, \"#fde0ef\"], [0.5, \"#f7f7f7\"], [0.6, \"#e6f5d0\"], [0.7, \"#b8e186\"], [0.8, \"#7fbc41\"], [0.9, \"#4d9221\"], [1, \"#276419\"]], \"sequential\": [[0.0, \"#0d0887\"], [0.1111111111111111, \"#46039f\"], [0.2222222222222222, \"#7201a8\"], [0.3333333333333333, \"#9c179e\"], [0.4444444444444444, \"#bd3786\"], [0.5555555555555556, \"#d8576b\"], [0.6666666666666666, \"#ed7953\"], [0.7777777777777778, \"#fb9f3a\"], [0.8888888888888888, \"#fdca26\"], [1.0, \"#f0f921\"]], \"sequentialminus\": [[0.0, \"#0d0887\"], [0.1111111111111111, \"#46039f\"], [0.2222222222222222, \"#7201a8\"], [0.3333333333333333, \"#9c179e\"], [0.4444444444444444, \"#bd3786\"], [0.5555555555555556, \"#d8576b\"], [0.6666666666666666, \"#ed7953\"], [0.7777777777777778, \"#fb9f3a\"], [0.8888888888888888, \"#fdca26\"], [1.0, \"#f0f921\"]]}, \"colorway\": [\"#636efa\", \"#EF553B\", \"#00cc96\", \"#ab63fa\", \"#FFA15A\", \"#19d3f3\", \"#FF6692\", \"#B6E880\", \"#FF97FF\", \"#FECB52\"], \"font\": {\"color\": \"#2a3f5f\"}, \"geo\": {\"bgcolor\": \"white\", \"lakecolor\": \"white\", \"landcolor\": \"#E5ECF6\", \"showlakes\": true, \"showland\": true, \"subunitcolor\": \"white\"}, \"hoverlabel\": {\"align\": \"left\"}, \"hovermode\": \"closest\", \"mapbox\": {\"style\": \"light\"}, \"paper_bgcolor\": \"white\", \"plot_bgcolor\": \"#E5ECF6\", \"polar\": {\"angularaxis\": {\"gridcolor\": \"white\", \"linecolor\": \"white\", \"ticks\": \"\"}, \"bgcolor\": \"#E5ECF6\", \"radialaxis\": {\"gridcolor\": \"white\", \"linecolor\": \"white\", \"ticks\": \"\"}}, \"scene\": {\"xaxis\": {\"backgroundcolor\": \"#E5ECF6\", \"gridcolor\": \"white\", \"gridwidth\": 2, \"linecolor\": \"white\", \"showbackground\": true, \"ticks\": \"\", \"zerolinecolor\": \"white\"}, \"yaxis\": {\"backgroundcolor\": \"#E5ECF6\", \"gridcolor\": \"white\", \"gridwidth\": 2, \"linecolor\": \"white\", \"showbackground\": true, \"ticks\": \"\", \"zerolinecolor\": \"white\"}, \"zaxis\": {\"backgroundcolor\": \"#E5ECF6\", \"gridcolor\": \"white\", \"gridwidth\": 2, \"linecolor\": \"white\", \"showbackground\": true, \"ticks\": \"\", \"zerolinecolor\": \"white\"}}, \"shapedefaults\": {\"line\": {\"color\": \"#2a3f5f\"}}, \"ternary\": {\"aaxis\": {\"gridcolor\": \"white\", \"linecolor\": \"white\", \"ticks\": \"\"}, \"baxis\": {\"gridcolor\": \"white\", \"linecolor\": \"white\", \"ticks\": \"\"}, \"bgcolor\": \"#E5ECF6\", \"caxis\": {\"gridcolor\": \"white\", \"linecolor\": \"white\", \"ticks\": \"\"}}, \"title\": {\"x\": 0.05}, \"xaxis\": {\"automargin\": true, \"gridcolor\": \"white\", \"linecolor\": \"white\", \"ticks\": \"\", \"title\": {\"standoff\": 15}, \"zerolinecolor\": \"white\", \"zerolinewidth\": 2}, \"yaxis\": {\"automargin\": true, \"gridcolor\": \"white\", \"linecolor\": \"white\", \"ticks\": \"\", \"title\": {\"standoff\": 15}, \"zerolinecolor\": \"white\", \"zerolinewidth\": 2}}}, \"title\": {\"font\": {\"color\": \"#4D5663\"}}, \"xaxis\": {\"gridcolor\": \"#E1E5ED\", \"showgrid\": true, \"tickfont\": {\"color\": \"#4D5663\"}, \"title\": {\"font\": {\"color\": \"#4D5663\"}, \"text\": \"\"}, \"zerolinecolor\": \"#E1E5ED\"}, \"yaxis\": {\"gridcolor\": \"#E1E5ED\", \"showgrid\": true, \"tickfont\": {\"color\": \"#4D5663\"}, \"title\": {\"font\": {\"color\": \"#4D5663\"}, \"text\": \"\"}, \"zerolinecolor\": \"#E1E5ED\"}},                        {\"showLink\": true, \"linkText\": \"Export to plot.ly\", \"plotlyServerURL\": \"https://plot.ly\", \"responsive\": true}                    ).then(function(){\n",
       "                            \n",
       "var gd = document.getElementById('6bcbfac2-9994-4886-a34c-5a643f05fee4');\n",
       "var x = new MutationObserver(function (mutations, observer) {{\n",
       "        var display = window.getComputedStyle(gd).display;\n",
       "        if (!display || display === 'none') {{\n",
       "            console.log([gd, 'removed!']);\n",
       "            Plotly.purge(gd);\n",
       "            observer.disconnect();\n",
       "        }}\n",
       "}});\n",
       "\n",
       "// Listen for the removal of the full notebook cells\n",
       "var notebookContainer = gd.closest('#notebook-container');\n",
       "if (notebookContainer) {{\n",
       "    x.observe(notebookContainer, {childList: true});\n",
       "}}\n",
       "\n",
       "// Listen for the clearing of the current output cell\n",
       "var outputEl = gd.closest('.output');\n",
       "if (outputEl) {{\n",
       "    x.observe(outputEl, {childList: true});\n",
       "}}\n",
       "\n",
       "                        })                };                });            </script>        </div>"
      ]
     },
     "metadata": {},
     "output_type": "display_data"
    }
   ],
   "source": [
    "df['A'].iplot(kind='hist',bins=25)"
   ]
  },
  {
   "cell_type": "code",
   "execution_count": 37,
   "metadata": {},
   "outputs": [
    {
     "data": {
      "application/vnd.plotly.v1+json": {
       "config": {
        "linkText": "Export to plot.ly",
        "plotlyServerURL": "https://plot.ly",
        "showLink": true
       },
       "data": [
        {
         "histfunc": "count",
         "histnorm": "",
         "marker": {
          "color": "rgba(255, 153, 51, 1.0)",
          "line": {
           "color": "#4D5663",
           "width": 1.3
          }
         },
         "name": "A",
         "nbinsx": 25,
         "opacity": 0.8,
         "orientation": "v",
         "type": "histogram",
         "x": [
          -0.1601183780470847,
          0.15940940597672718,
          -0.8691414452109293,
          2.1010276114389423,
          0.17164077472576567,
          -0.3615969648072336,
          -1.4329312503554597,
          1.0348622009763033,
          -0.9530959678937821,
          -1.949144277250312,
          -0.653801018600976,
          -1.0586602896818622,
          0.28861617739230505,
          1.6481156904717285,
          0.5021988384451932,
          0.7419461664678879,
          0.17745499512664956,
          -0.38325620812446526,
          0.12849351472190346,
          0.15024354836000892,
          -1.9046735986048597,
          0.06729564255980032,
          1.3114167690497167,
          0.6532864418010814,
          0.7736641644900281,
          0.9710332051307252,
          -1.2950688683078926,
          -0.2330559856021781,
          -0.2506005785170448,
          0.8746518298457197,
          0.49012434927847653,
          1.952542960328725,
          1.422053288373496,
          -0.041017606165554964,
          -0.5696189873368337,
          1.3796194148641876,
          -0.9684850941850984,
          -0.6867169752967174,
          1.2175982302306936,
          -0.7950270858687128,
          -0.20268130839797435,
          -0.3166116775607073,
          0.013265786411123252,
          1.3609161101425622,
          0.918899536952606,
          0.8946799623180145,
          -0.32355619688753906,
          -0.26159337861282134,
          1.7316425076849074,
          0.18598089946101812,
          0.5735137879874297,
          0.5584074518494194,
          -0.39038838391341496,
          0.9879393225390422,
          2.5030105940459157,
          -0.48432032452495916,
          -0.41613166505421517,
          -1.3139722396678235,
          0.22869715598900986,
          -0.5435803703335473,
          2.487064416501825,
          -0.44198082209238426,
          -0.3539645120194969,
          0.27099557207341957,
          0.45250919764242253,
          -0.0576693407543129,
          -0.7573808849544862,
          -1.3875401356438606,
          0.5770513485881394,
          1.2340897966166007,
          1.014934806523684,
          0.1530954629770791,
          -1.0723060534055624,
          1.085507498157262,
          1.3346837122325887,
          -1.3698512217275174,
          -0.10433179640403041,
          -1.201928853898415,
          -0.30352824810029955,
          0.33826194670927395,
          -0.7785433241744303,
          -0.14302780228701797,
          0.6172268757774699,
          -1.5310619955784,
          -0.9632272022705074,
          0.8562948380132994,
          -0.137384953960321,
          -0.9653087534475998,
          -0.4426437998567408,
          0.5304095588563396,
          1.4850884827390285,
          0.1906684616642033,
          0.246574144712053,
          -0.2369541408221221,
          0.963784194598969,
          0.44074100274933714,
          0.546935093537091,
          -1.756855506983355,
          1.8244298964505592,
          -1.4031423867604629
         ]
        },
        {
         "histfunc": "count",
         "histnorm": "",
         "marker": {
          "color": "rgba(55, 128, 191, 1.0)",
          "line": {
           "color": "#4D5663",
           "width": 1.3
          }
         },
         "name": "B",
         "nbinsx": 25,
         "opacity": 0.8,
         "orientation": "v",
         "type": "histogram",
         "x": [
          -0.2644633545863186,
          1.5714302027771738,
          -0.022060694285092157,
          0.44695975606255306,
          1.6437621966592817,
          -2.1304958014639213,
          -0.34165423712052057,
          0.7735034696623291,
          0.4361167369817292,
          0.38315007358375436,
          -0.13683266188575985,
          0.2963414389906744,
          -2.1731658439592922,
          0.20259417441792585,
          0.09984009734314357,
          0.691047349227367,
          1.314807118205364,
          -0.521105250810098,
          -0.2822920873303137,
          -1.815604989842956,
          -1.0381784939062224,
          -1.540817803928697,
          0.7999428656890234,
          -1.719359604418866,
          1.2745453748761055,
          1.504906159003659,
          -0.03548530175341141,
          -0.47520221229360315,
          -0.03341052408579652,
          0.41606932003300406,
          -1.4669960816172585,
          0.3399043588728614,
          -0.1322471972177475,
          0.3885005500255243,
          -0.1296864888337782,
          0.3725902163354231,
          -0.1681840505469514,
          -0.5380402156473689,
          -1.7400857956585742,
          1.1274655014808161,
          -0.1642696740906239,
          0.3284104283712735,
          1.6754071912755992,
          0.19180608461248194,
          1.370769793189238,
          1.7483301226382149,
          -0.25010508806739873,
          0.13449895716815247,
          0.4234980413886394,
          -0.6292563951712109,
          2.2953199758200236,
          -0.17969684632277028,
          1.2987890271027225,
          0.4030094700678754,
          0.08036747531795806,
          -0.08069390393910325,
          1.9924420651500254,
          -0.2698486232006421,
          0.9189127955439805,
          1.4636227816733902,
          0.938845731900176,
          0.3774223763929635,
          -0.06039266365866485,
          0.9786792112048589,
          0.18303575909528905,
          1.6213974948934198,
          -0.9011226730985576,
          1.5550696967051754,
          -0.5287319696533463,
          -2.134382600497725,
          -2.4884498634990253,
          0.9141044261447112,
          -1.0929243882156412,
          0.33144393850878756,
          -0.11164949938320748,
          -0.3069432766632717,
          1.1173680553813508,
          0.26683988452577584,
          2.572799719475098,
          0.15916196813082964,
          0.07842255156767423,
          -0.3913927786082702,
          -0.6787973075228827,
          -0.42382151492180364,
          -0.3450314270380239,
          -2.2701907481405805,
          -0.25405633676066053,
          -1.1065213219948289,
          -0.9709405991456087,
          -0.4193028156423804,
          -0.7262378201660576,
          1.0725696136192406,
          -0.5523869569628342,
          1.6427537695901733,
          1.5568589945640556,
          2.570984921845135,
          -0.36030875900544634,
          0.26494896940570273,
          -1.3263649914452567,
          0.3256623316086684
         ]
        },
        {
         "histfunc": "count",
         "histnorm": "",
         "marker": {
          "color": "rgba(50, 171, 96, 1.0)",
          "line": {
           "color": "#4D5663",
           "width": 1.3
          }
         },
         "name": "C",
         "nbinsx": 25,
         "opacity": 0.8,
         "orientation": "v",
         "type": "histogram",
         "x": [
          -0.11348786453792516,
          -0.1311524782899683,
          0.506578319243623,
          -0.04641283626244963,
          0.392212467710873,
          -0.6553786708887571,
          0.5571977672878804,
          2.1052672448775063,
          0.10340710707386995,
          -0.8974770305577208,
          1.9384578639188583,
          0.15974699198145836,
          0.31680044214315034,
          0.3530189009363819,
          -0.6863570397708625,
          0.6748926487769098,
          -1.53963708500794,
          -0.6064150850079467,
          -2.285154574606842,
          1.6087609096634756,
          1.4703270008301461,
          -0.9055417363838063,
          -0.48767724288311354,
          1.6677638524446878,
          0.4953296083138165,
          -1.2837673697054308,
          -0.17466900588527673,
          1.7550914473984882,
          -0.08137639105933259,
          -0.7303431206142009,
          -2.2602950720275503,
          0.33518836539457775,
          -0.07526806056324023,
          -0.036577505440543064,
          0.710015868627727,
          0.6998353100073591,
          0.19950402567226277,
          -1.092821161366645,
          1.038682114597619,
          -0.943972451379481,
          -0.33186493395713546,
          0.009566765795468796,
          -1.3043815067990907,
          -0.47903710828837115,
          -1.681324460350031,
          -0.1004688071250641,
          0.34107993712471174,
          -0.02319459821086625,
          -0.3172287282686062,
          0.25571725829735864,
          -1.1537289156229074,
          0.04125732193811072,
          -0.37183401874919636,
          0.4800509318471511,
          0.6829947057833371,
          0.03647745140630001,
          0.08589699451217257,
          -0.3506312190885835,
          0.19439322728550584,
          -0.28144931640232496,
          -0.06229460813495941,
          0.860135991154396,
          -0.6336830074983791,
          2.1614194464065206,
          1.4886188417324488,
          1.948739186374998,
          -1.65932556580322,
          -1.7890236709376695,
          -1.024603199127202,
          -0.2839461673175258,
          -1.5504822872573811,
          -0.3173611535046725,
          1.2497166679966984,
          -0.8689612255158649,
          0.1308449392924964,
          -0.11046281885570239,
          -2.4373915395181656,
          -1.0245728612602316,
          -0.5055241101912172,
          0.056595626695443206,
          0.5176723372772564,
          0.15009361114403955,
          0.15658771344225464,
          0.33471699558951534,
          0.8813025543563201,
          -0.8391595392038008,
          -2.490208577476746,
          0.6042632646657747,
          -0.331476611827571,
          1.5813863192310202,
          0.7390671386615796,
          -0.23184846099447173,
          0.5662094173049512,
          1.827832646415857,
          0.15221010404191296,
          0.5398875261115618,
          0.30910642989010956,
          -0.9162187067758907,
          1.4429566269436902,
          0.8159551231165043
         ]
        },
        {
         "histfunc": "count",
         "histnorm": "",
         "marker": {
          "color": "rgba(128, 0, 128, 1.0)",
          "line": {
           "color": "#4D5663",
           "width": 1.3
          }
         },
         "name": "D",
         "nbinsx": 25,
         "opacity": 0.8,
         "orientation": "v",
         "type": "histogram",
         "x": [
          -0.3141047776814371,
          -0.8970192710960458,
          0.5736914479068228,
          -0.5206411120771636,
          0.16576510518810794,
          -0.5587118804610727,
          0.9878309483052345,
          0.5023609075433647,
          0.9745608398826814,
          0.16655342964635966,
          0.9788192259549774,
          -0.09074367425800649,
          1.5829907682035778,
          -0.764247292231081,
          0.17308183983488762,
          -0.24791312488305745,
          -0.6938234905748255,
          0.30415868202200325,
          -1.4573797696393782,
          -0.8029910175529617,
          -0.7457353564480751,
          3.0306751179427884,
          0.045915555843682884,
          1.196333482147036,
          1.2186397325655025,
          -0.2512862780510248,
          -0.5218023758906899,
          0.0006545154733645155,
          0.0882807793245977,
          0.08032544568298304,
          0.300452263420204,
          -0.7004037709231044,
          1.5959195349326478,
          -1.1456317403017728,
          -1.6090083148862744,
          -0.024979196647730097,
          -2.7855243796398645,
          0.19365146667022942,
          0.9458482394605472,
          -0.6450285898838843,
          -0.6619920977863117,
          -0.286079247403523,
          0.6729421552051487,
          -0.7424158022191921,
          0.15674906928135854,
          1.525833682709512,
          0.8354744054671075,
          -0.10945542092806206,
          -0.7903659987502104,
          2.252293455006751,
          1.0305338642195672,
          -2.143230338789938,
          0.3854367833308197,
          0.5065383599856818,
          0.012066202860070952,
          -1.4437774899649107,
          -0.6746762056654647,
          -0.19410968709492404,
          -1.147512403615673,
          0.33062408255489073,
          -0.28855419839694224,
          -1.3760381340868197,
          0.89767228673124,
          0.199628224052539,
          -0.8269461131144589,
          -2.0310134868416885,
          -1.311605317804653,
          1.0244985960728157,
          0.34724634350785616,
          0.8354198106887961,
          0.8379992652748512,
          0.2130903288179697,
          0.41486346653232337,
          -0.021864543671643935,
          -1.1005092230234894,
          -0.8906576571862331,
          -0.676797498832179,
          -0.35325718962322256,
          -0.08108079990629014,
          1.1853695718411121,
          0.30057746921104944,
          -0.40043517461693023,
          -1.5278058799076497,
          -0.8711964279517036,
          -1.5409210468656107,
          0.22816741726104836,
          -0.03255898174171499,
          0.026687251866059098,
          0.4294202743518761,
          0.3950280004384783,
          1.0450196729200016,
          -0.875516508014222,
          -0.4722584961793411,
          -0.5692715168213826,
          0.9682407212914111,
          0.08000451194139384,
          0.2782152013702495,
          0.24866085181437123,
          -1.005337704907483,
          1.490533209873795
         ]
        }
       ],
       "layout": {
        "barmode": "overlay",
        "legend": {
         "bgcolor": "#F5F6F9",
         "font": {
          "color": "#4D5663"
         }
        },
        "paper_bgcolor": "#F5F6F9",
        "plot_bgcolor": "#F5F6F9",
        "template": {
         "data": {
          "bar": [
           {
            "error_x": {
             "color": "#2a3f5f"
            },
            "error_y": {
             "color": "#2a3f5f"
            },
            "marker": {
             "line": {
              "color": "#E5ECF6",
              "width": 0.5
             }
            },
            "type": "bar"
           }
          ],
          "barpolar": [
           {
            "marker": {
             "line": {
              "color": "#E5ECF6",
              "width": 0.5
             }
            },
            "type": "barpolar"
           }
          ],
          "carpet": [
           {
            "aaxis": {
             "endlinecolor": "#2a3f5f",
             "gridcolor": "white",
             "linecolor": "white",
             "minorgridcolor": "white",
             "startlinecolor": "#2a3f5f"
            },
            "baxis": {
             "endlinecolor": "#2a3f5f",
             "gridcolor": "white",
             "linecolor": "white",
             "minorgridcolor": "white",
             "startlinecolor": "#2a3f5f"
            },
            "type": "carpet"
           }
          ],
          "choropleth": [
           {
            "colorbar": {
             "outlinewidth": 0,
             "ticks": ""
            },
            "type": "choropleth"
           }
          ],
          "contour": [
           {
            "colorbar": {
             "outlinewidth": 0,
             "ticks": ""
            },
            "colorscale": [
             [
              0,
              "#0d0887"
             ],
             [
              0.1111111111111111,
              "#46039f"
             ],
             [
              0.2222222222222222,
              "#7201a8"
             ],
             [
              0.3333333333333333,
              "#9c179e"
             ],
             [
              0.4444444444444444,
              "#bd3786"
             ],
             [
              0.5555555555555556,
              "#d8576b"
             ],
             [
              0.6666666666666666,
              "#ed7953"
             ],
             [
              0.7777777777777778,
              "#fb9f3a"
             ],
             [
              0.8888888888888888,
              "#fdca26"
             ],
             [
              1,
              "#f0f921"
             ]
            ],
            "type": "contour"
           }
          ],
          "contourcarpet": [
           {
            "colorbar": {
             "outlinewidth": 0,
             "ticks": ""
            },
            "type": "contourcarpet"
           }
          ],
          "heatmap": [
           {
            "colorbar": {
             "outlinewidth": 0,
             "ticks": ""
            },
            "colorscale": [
             [
              0,
              "#0d0887"
             ],
             [
              0.1111111111111111,
              "#46039f"
             ],
             [
              0.2222222222222222,
              "#7201a8"
             ],
             [
              0.3333333333333333,
              "#9c179e"
             ],
             [
              0.4444444444444444,
              "#bd3786"
             ],
             [
              0.5555555555555556,
              "#d8576b"
             ],
             [
              0.6666666666666666,
              "#ed7953"
             ],
             [
              0.7777777777777778,
              "#fb9f3a"
             ],
             [
              0.8888888888888888,
              "#fdca26"
             ],
             [
              1,
              "#f0f921"
             ]
            ],
            "type": "heatmap"
           }
          ],
          "heatmapgl": [
           {
            "colorbar": {
             "outlinewidth": 0,
             "ticks": ""
            },
            "colorscale": [
             [
              0,
              "#0d0887"
             ],
             [
              0.1111111111111111,
              "#46039f"
             ],
             [
              0.2222222222222222,
              "#7201a8"
             ],
             [
              0.3333333333333333,
              "#9c179e"
             ],
             [
              0.4444444444444444,
              "#bd3786"
             ],
             [
              0.5555555555555556,
              "#d8576b"
             ],
             [
              0.6666666666666666,
              "#ed7953"
             ],
             [
              0.7777777777777778,
              "#fb9f3a"
             ],
             [
              0.8888888888888888,
              "#fdca26"
             ],
             [
              1,
              "#f0f921"
             ]
            ],
            "type": "heatmapgl"
           }
          ],
          "histogram": [
           {
            "marker": {
             "colorbar": {
              "outlinewidth": 0,
              "ticks": ""
             }
            },
            "type": "histogram"
           }
          ],
          "histogram2d": [
           {
            "colorbar": {
             "outlinewidth": 0,
             "ticks": ""
            },
            "colorscale": [
             [
              0,
              "#0d0887"
             ],
             [
              0.1111111111111111,
              "#46039f"
             ],
             [
              0.2222222222222222,
              "#7201a8"
             ],
             [
              0.3333333333333333,
              "#9c179e"
             ],
             [
              0.4444444444444444,
              "#bd3786"
             ],
             [
              0.5555555555555556,
              "#d8576b"
             ],
             [
              0.6666666666666666,
              "#ed7953"
             ],
             [
              0.7777777777777778,
              "#fb9f3a"
             ],
             [
              0.8888888888888888,
              "#fdca26"
             ],
             [
              1,
              "#f0f921"
             ]
            ],
            "type": "histogram2d"
           }
          ],
          "histogram2dcontour": [
           {
            "colorbar": {
             "outlinewidth": 0,
             "ticks": ""
            },
            "colorscale": [
             [
              0,
              "#0d0887"
             ],
             [
              0.1111111111111111,
              "#46039f"
             ],
             [
              0.2222222222222222,
              "#7201a8"
             ],
             [
              0.3333333333333333,
              "#9c179e"
             ],
             [
              0.4444444444444444,
              "#bd3786"
             ],
             [
              0.5555555555555556,
              "#d8576b"
             ],
             [
              0.6666666666666666,
              "#ed7953"
             ],
             [
              0.7777777777777778,
              "#fb9f3a"
             ],
             [
              0.8888888888888888,
              "#fdca26"
             ],
             [
              1,
              "#f0f921"
             ]
            ],
            "type": "histogram2dcontour"
           }
          ],
          "mesh3d": [
           {
            "colorbar": {
             "outlinewidth": 0,
             "ticks": ""
            },
            "type": "mesh3d"
           }
          ],
          "parcoords": [
           {
            "line": {
             "colorbar": {
              "outlinewidth": 0,
              "ticks": ""
             }
            },
            "type": "parcoords"
           }
          ],
          "pie": [
           {
            "automargin": true,
            "type": "pie"
           }
          ],
          "scatter": [
           {
            "marker": {
             "colorbar": {
              "outlinewidth": 0,
              "ticks": ""
             }
            },
            "type": "scatter"
           }
          ],
          "scatter3d": [
           {
            "line": {
             "colorbar": {
              "outlinewidth": 0,
              "ticks": ""
             }
            },
            "marker": {
             "colorbar": {
              "outlinewidth": 0,
              "ticks": ""
             }
            },
            "type": "scatter3d"
           }
          ],
          "scattercarpet": [
           {
            "marker": {
             "colorbar": {
              "outlinewidth": 0,
              "ticks": ""
             }
            },
            "type": "scattercarpet"
           }
          ],
          "scattergeo": [
           {
            "marker": {
             "colorbar": {
              "outlinewidth": 0,
              "ticks": ""
             }
            },
            "type": "scattergeo"
           }
          ],
          "scattergl": [
           {
            "marker": {
             "colorbar": {
              "outlinewidth": 0,
              "ticks": ""
             }
            },
            "type": "scattergl"
           }
          ],
          "scattermapbox": [
           {
            "marker": {
             "colorbar": {
              "outlinewidth": 0,
              "ticks": ""
             }
            },
            "type": "scattermapbox"
           }
          ],
          "scatterpolar": [
           {
            "marker": {
             "colorbar": {
              "outlinewidth": 0,
              "ticks": ""
             }
            },
            "type": "scatterpolar"
           }
          ],
          "scatterpolargl": [
           {
            "marker": {
             "colorbar": {
              "outlinewidth": 0,
              "ticks": ""
             }
            },
            "type": "scatterpolargl"
           }
          ],
          "scatterternary": [
           {
            "marker": {
             "colorbar": {
              "outlinewidth": 0,
              "ticks": ""
             }
            },
            "type": "scatterternary"
           }
          ],
          "surface": [
           {
            "colorbar": {
             "outlinewidth": 0,
             "ticks": ""
            },
            "colorscale": [
             [
              0,
              "#0d0887"
             ],
             [
              0.1111111111111111,
              "#46039f"
             ],
             [
              0.2222222222222222,
              "#7201a8"
             ],
             [
              0.3333333333333333,
              "#9c179e"
             ],
             [
              0.4444444444444444,
              "#bd3786"
             ],
             [
              0.5555555555555556,
              "#d8576b"
             ],
             [
              0.6666666666666666,
              "#ed7953"
             ],
             [
              0.7777777777777778,
              "#fb9f3a"
             ],
             [
              0.8888888888888888,
              "#fdca26"
             ],
             [
              1,
              "#f0f921"
             ]
            ],
            "type": "surface"
           }
          ],
          "table": [
           {
            "cells": {
             "fill": {
              "color": "#EBF0F8"
             },
             "line": {
              "color": "white"
             }
            },
            "header": {
             "fill": {
              "color": "#C8D4E3"
             },
             "line": {
              "color": "white"
             }
            },
            "type": "table"
           }
          ]
         },
         "layout": {
          "annotationdefaults": {
           "arrowcolor": "#2a3f5f",
           "arrowhead": 0,
           "arrowwidth": 1
          },
          "autotypenumbers": "strict",
          "coloraxis": {
           "colorbar": {
            "outlinewidth": 0,
            "ticks": ""
           }
          },
          "colorscale": {
           "diverging": [
            [
             0,
             "#8e0152"
            ],
            [
             0.1,
             "#c51b7d"
            ],
            [
             0.2,
             "#de77ae"
            ],
            [
             0.3,
             "#f1b6da"
            ],
            [
             0.4,
             "#fde0ef"
            ],
            [
             0.5,
             "#f7f7f7"
            ],
            [
             0.6,
             "#e6f5d0"
            ],
            [
             0.7,
             "#b8e186"
            ],
            [
             0.8,
             "#7fbc41"
            ],
            [
             0.9,
             "#4d9221"
            ],
            [
             1,
             "#276419"
            ]
           ],
           "sequential": [
            [
             0,
             "#0d0887"
            ],
            [
             0.1111111111111111,
             "#46039f"
            ],
            [
             0.2222222222222222,
             "#7201a8"
            ],
            [
             0.3333333333333333,
             "#9c179e"
            ],
            [
             0.4444444444444444,
             "#bd3786"
            ],
            [
             0.5555555555555556,
             "#d8576b"
            ],
            [
             0.6666666666666666,
             "#ed7953"
            ],
            [
             0.7777777777777778,
             "#fb9f3a"
            ],
            [
             0.8888888888888888,
             "#fdca26"
            ],
            [
             1,
             "#f0f921"
            ]
           ],
           "sequentialminus": [
            [
             0,
             "#0d0887"
            ],
            [
             0.1111111111111111,
             "#46039f"
            ],
            [
             0.2222222222222222,
             "#7201a8"
            ],
            [
             0.3333333333333333,
             "#9c179e"
            ],
            [
             0.4444444444444444,
             "#bd3786"
            ],
            [
             0.5555555555555556,
             "#d8576b"
            ],
            [
             0.6666666666666666,
             "#ed7953"
            ],
            [
             0.7777777777777778,
             "#fb9f3a"
            ],
            [
             0.8888888888888888,
             "#fdca26"
            ],
            [
             1,
             "#f0f921"
            ]
           ]
          },
          "colorway": [
           "#636efa",
           "#EF553B",
           "#00cc96",
           "#ab63fa",
           "#FFA15A",
           "#19d3f3",
           "#FF6692",
           "#B6E880",
           "#FF97FF",
           "#FECB52"
          ],
          "font": {
           "color": "#2a3f5f"
          },
          "geo": {
           "bgcolor": "white",
           "lakecolor": "white",
           "landcolor": "#E5ECF6",
           "showlakes": true,
           "showland": true,
           "subunitcolor": "white"
          },
          "hoverlabel": {
           "align": "left"
          },
          "hovermode": "closest",
          "mapbox": {
           "style": "light"
          },
          "paper_bgcolor": "white",
          "plot_bgcolor": "#E5ECF6",
          "polar": {
           "angularaxis": {
            "gridcolor": "white",
            "linecolor": "white",
            "ticks": ""
           },
           "bgcolor": "#E5ECF6",
           "radialaxis": {
            "gridcolor": "white",
            "linecolor": "white",
            "ticks": ""
           }
          },
          "scene": {
           "xaxis": {
            "backgroundcolor": "#E5ECF6",
            "gridcolor": "white",
            "gridwidth": 2,
            "linecolor": "white",
            "showbackground": true,
            "ticks": "",
            "zerolinecolor": "white"
           },
           "yaxis": {
            "backgroundcolor": "#E5ECF6",
            "gridcolor": "white",
            "gridwidth": 2,
            "linecolor": "white",
            "showbackground": true,
            "ticks": "",
            "zerolinecolor": "white"
           },
           "zaxis": {
            "backgroundcolor": "#E5ECF6",
            "gridcolor": "white",
            "gridwidth": 2,
            "linecolor": "white",
            "showbackground": true,
            "ticks": "",
            "zerolinecolor": "white"
           }
          },
          "shapedefaults": {
           "line": {
            "color": "#2a3f5f"
           }
          },
          "ternary": {
           "aaxis": {
            "gridcolor": "white",
            "linecolor": "white",
            "ticks": ""
           },
           "baxis": {
            "gridcolor": "white",
            "linecolor": "white",
            "ticks": ""
           },
           "bgcolor": "#E5ECF6",
           "caxis": {
            "gridcolor": "white",
            "linecolor": "white",
            "ticks": ""
           }
          },
          "title": {
           "x": 0.05
          },
          "xaxis": {
           "automargin": true,
           "gridcolor": "white",
           "linecolor": "white",
           "ticks": "",
           "title": {
            "standoff": 15
           },
           "zerolinecolor": "white",
           "zerolinewidth": 2
          },
          "yaxis": {
           "automargin": true,
           "gridcolor": "white",
           "linecolor": "white",
           "ticks": "",
           "title": {
            "standoff": 15
           },
           "zerolinecolor": "white",
           "zerolinewidth": 2
          }
         }
        },
        "title": {
         "font": {
          "color": "#4D5663"
         }
        },
        "xaxis": {
         "gridcolor": "#E1E5ED",
         "showgrid": true,
         "tickfont": {
          "color": "#4D5663"
         },
         "title": {
          "font": {
           "color": "#4D5663"
          },
          "text": ""
         },
         "zerolinecolor": "#E1E5ED"
        },
        "yaxis": {
         "gridcolor": "#E1E5ED",
         "showgrid": true,
         "tickfont": {
          "color": "#4D5663"
         },
         "title": {
          "font": {
           "color": "#4D5663"
          },
          "text": ""
         },
         "zerolinecolor": "#E1E5ED"
        }
       }
      },
      "text/html": [
       "<div>                            <div id=\"d98c35b1-3824-418e-a10f-48ad2b61ad92\" class=\"plotly-graph-div\" style=\"height:525px; width:100%;\"></div>            <script type=\"text/javascript\">                require([\"plotly\"], function(Plotly) {                    window.PLOTLYENV=window.PLOTLYENV || {};\n",
       "                    window.PLOTLYENV.BASE_URL='https://plot.ly';                                    if (document.getElementById(\"d98c35b1-3824-418e-a10f-48ad2b61ad92\")) {                    Plotly.newPlot(                        \"d98c35b1-3824-418e-a10f-48ad2b61ad92\",                        [{\"histfunc\": \"count\", \"histnorm\": \"\", \"marker\": {\"color\": \"rgba(255, 153, 51, 1.0)\", \"line\": {\"color\": \"#4D5663\", \"width\": 1.3}}, \"name\": \"A\", \"nbinsx\": 25, \"opacity\": 0.8, \"orientation\": \"v\", \"type\": \"histogram\", \"x\": [-0.1601183780470847, 0.15940940597672718, -0.8691414452109293, 2.1010276114389423, 0.17164077472576567, -0.3615969648072336, -1.4329312503554597, 1.0348622009763033, -0.9530959678937821, -1.949144277250312, -0.653801018600976, -1.0586602896818622, 0.28861617739230505, 1.6481156904717285, 0.5021988384451932, 0.7419461664678879, 0.17745499512664956, -0.38325620812446526, 0.12849351472190346, 0.15024354836000892, -1.9046735986048597, 0.06729564255980032, 1.3114167690497167, 0.6532864418010814, 0.7736641644900281, 0.9710332051307252, -1.2950688683078926, -0.2330559856021781, -0.2506005785170448, 0.8746518298457197, 0.49012434927847653, 1.952542960328725, 1.422053288373496, -0.041017606165554964, -0.5696189873368337, 1.3796194148641876, -0.9684850941850984, -0.6867169752967174, 1.2175982302306936, -0.7950270858687128, -0.20268130839797435, -0.3166116775607073, 0.013265786411123252, 1.3609161101425622, 0.918899536952606, 0.8946799623180145, -0.32355619688753906, -0.26159337861282134, 1.7316425076849074, 0.18598089946101812, 0.5735137879874297, 0.5584074518494194, -0.39038838391341496, 0.9879393225390422, 2.5030105940459157, -0.48432032452495916, -0.41613166505421517, -1.3139722396678235, 0.22869715598900986, -0.5435803703335473, 2.487064416501825, -0.44198082209238426, -0.3539645120194969, 0.27099557207341957, 0.45250919764242253, -0.0576693407543129, -0.7573808849544862, -1.3875401356438606, 0.5770513485881394, 1.2340897966166007, 1.014934806523684, 0.1530954629770791, -1.0723060534055624, 1.085507498157262, 1.3346837122325887, -1.3698512217275174, -0.10433179640403041, -1.201928853898415, -0.30352824810029955, 0.33826194670927395, -0.7785433241744303, -0.14302780228701797, 0.6172268757774699, -1.5310619955784, -0.9632272022705074, 0.8562948380132994, -0.137384953960321, -0.9653087534475998, -0.4426437998567408, 0.5304095588563396, 1.4850884827390285, 0.1906684616642033, 0.246574144712053, -0.2369541408221221, 0.963784194598969, 0.44074100274933714, 0.546935093537091, -1.756855506983355, 1.8244298964505592, -1.4031423867604629]}, {\"histfunc\": \"count\", \"histnorm\": \"\", \"marker\": {\"color\": \"rgba(55, 128, 191, 1.0)\", \"line\": {\"color\": \"#4D5663\", \"width\": 1.3}}, \"name\": \"B\", \"nbinsx\": 25, \"opacity\": 0.8, \"orientation\": \"v\", \"type\": \"histogram\", \"x\": [-0.2644633545863186, 1.5714302027771738, -0.022060694285092157, 0.44695975606255306, 1.6437621966592817, -2.1304958014639213, -0.34165423712052057, 0.7735034696623291, 0.4361167369817292, 0.38315007358375436, -0.13683266188575985, 0.2963414389906744, -2.1731658439592922, 0.20259417441792585, 0.09984009734314357, 0.691047349227367, 1.314807118205364, -0.521105250810098, -0.2822920873303137, -1.815604989842956, -1.0381784939062224, -1.540817803928697, 0.7999428656890234, -1.719359604418866, 1.2745453748761055, 1.504906159003659, -0.03548530175341141, -0.47520221229360315, -0.03341052408579652, 0.41606932003300406, -1.4669960816172585, 0.3399043588728614, -0.1322471972177475, 0.3885005500255243, -0.1296864888337782, 0.3725902163354231, -0.1681840505469514, -0.5380402156473689, -1.7400857956585742, 1.1274655014808161, -0.1642696740906239, 0.3284104283712735, 1.6754071912755992, 0.19180608461248194, 1.370769793189238, 1.7483301226382149, -0.25010508806739873, 0.13449895716815247, 0.4234980413886394, -0.6292563951712109, 2.2953199758200236, -0.17969684632277028, 1.2987890271027225, 0.4030094700678754, 0.08036747531795806, -0.08069390393910325, 1.9924420651500254, -0.2698486232006421, 0.9189127955439805, 1.4636227816733902, 0.938845731900176, 0.3774223763929635, -0.06039266365866485, 0.9786792112048589, 0.18303575909528905, 1.6213974948934198, -0.9011226730985576, 1.5550696967051754, -0.5287319696533463, -2.134382600497725, -2.4884498634990253, 0.9141044261447112, -1.0929243882156412, 0.33144393850878756, -0.11164949938320748, -0.3069432766632717, 1.1173680553813508, 0.26683988452577584, 2.572799719475098, 0.15916196813082964, 0.07842255156767423, -0.3913927786082702, -0.6787973075228827, -0.42382151492180364, -0.3450314270380239, -2.2701907481405805, -0.25405633676066053, -1.1065213219948289, -0.9709405991456087, -0.4193028156423804, -0.7262378201660576, 1.0725696136192406, -0.5523869569628342, 1.6427537695901733, 1.5568589945640556, 2.570984921845135, -0.36030875900544634, 0.26494896940570273, -1.3263649914452567, 0.3256623316086684]}, {\"histfunc\": \"count\", \"histnorm\": \"\", \"marker\": {\"color\": \"rgba(50, 171, 96, 1.0)\", \"line\": {\"color\": \"#4D5663\", \"width\": 1.3}}, \"name\": \"C\", \"nbinsx\": 25, \"opacity\": 0.8, \"orientation\": \"v\", \"type\": \"histogram\", \"x\": [-0.11348786453792516, -0.1311524782899683, 0.506578319243623, -0.04641283626244963, 0.392212467710873, -0.6553786708887571, 0.5571977672878804, 2.1052672448775063, 0.10340710707386995, -0.8974770305577208, 1.9384578639188583, 0.15974699198145836, 0.31680044214315034, 0.3530189009363819, -0.6863570397708625, 0.6748926487769098, -1.53963708500794, -0.6064150850079467, -2.285154574606842, 1.6087609096634756, 1.4703270008301461, -0.9055417363838063, -0.48767724288311354, 1.6677638524446878, 0.4953296083138165, -1.2837673697054308, -0.17466900588527673, 1.7550914473984882, -0.08137639105933259, -0.7303431206142009, -2.2602950720275503, 0.33518836539457775, -0.07526806056324023, -0.036577505440543064, 0.710015868627727, 0.6998353100073591, 0.19950402567226277, -1.092821161366645, 1.038682114597619, -0.943972451379481, -0.33186493395713546, 0.009566765795468796, -1.3043815067990907, -0.47903710828837115, -1.681324460350031, -0.1004688071250641, 0.34107993712471174, -0.02319459821086625, -0.3172287282686062, 0.25571725829735864, -1.1537289156229074, 0.04125732193811072, -0.37183401874919636, 0.4800509318471511, 0.6829947057833371, 0.03647745140630001, 0.08589699451217257, -0.3506312190885835, 0.19439322728550584, -0.28144931640232496, -0.06229460813495941, 0.860135991154396, -0.6336830074983791, 2.1614194464065206, 1.4886188417324488, 1.948739186374998, -1.65932556580322, -1.7890236709376695, -1.024603199127202, -0.2839461673175258, -1.5504822872573811, -0.3173611535046725, 1.2497166679966984, -0.8689612255158649, 0.1308449392924964, -0.11046281885570239, -2.4373915395181656, -1.0245728612602316, -0.5055241101912172, 0.056595626695443206, 0.5176723372772564, 0.15009361114403955, 0.15658771344225464, 0.33471699558951534, 0.8813025543563201, -0.8391595392038008, -2.490208577476746, 0.6042632646657747, -0.331476611827571, 1.5813863192310202, 0.7390671386615796, -0.23184846099447173, 0.5662094173049512, 1.827832646415857, 0.15221010404191296, 0.5398875261115618, 0.30910642989010956, -0.9162187067758907, 1.4429566269436902, 0.8159551231165043]}, {\"histfunc\": \"count\", \"histnorm\": \"\", \"marker\": {\"color\": \"rgba(128, 0, 128, 1.0)\", \"line\": {\"color\": \"#4D5663\", \"width\": 1.3}}, \"name\": \"D\", \"nbinsx\": 25, \"opacity\": 0.8, \"orientation\": \"v\", \"type\": \"histogram\", \"x\": [-0.3141047776814371, -0.8970192710960458, 0.5736914479068228, -0.5206411120771636, 0.16576510518810794, -0.5587118804610727, 0.9878309483052345, 0.5023609075433647, 0.9745608398826814, 0.16655342964635966, 0.9788192259549774, -0.09074367425800649, 1.5829907682035778, -0.764247292231081, 0.17308183983488762, -0.24791312488305745, -0.6938234905748255, 0.30415868202200325, -1.4573797696393782, -0.8029910175529617, -0.7457353564480751, 3.0306751179427884, 0.045915555843682884, 1.196333482147036, 1.2186397325655025, -0.2512862780510248, -0.5218023758906899, 0.0006545154733645155, 0.0882807793245977, 0.08032544568298304, 0.300452263420204, -0.7004037709231044, 1.5959195349326478, -1.1456317403017728, -1.6090083148862744, -0.024979196647730097, -2.7855243796398645, 0.19365146667022942, 0.9458482394605472, -0.6450285898838843, -0.6619920977863117, -0.286079247403523, 0.6729421552051487, -0.7424158022191921, 0.15674906928135854, 1.525833682709512, 0.8354744054671075, -0.10945542092806206, -0.7903659987502104, 2.252293455006751, 1.0305338642195672, -2.143230338789938, 0.3854367833308197, 0.5065383599856818, 0.012066202860070952, -1.4437774899649107, -0.6746762056654647, -0.19410968709492404, -1.147512403615673, 0.33062408255489073, -0.28855419839694224, -1.3760381340868197, 0.89767228673124, 0.199628224052539, -0.8269461131144589, -2.0310134868416885, -1.311605317804653, 1.0244985960728157, 0.34724634350785616, 0.8354198106887961, 0.8379992652748512, 0.2130903288179697, 0.41486346653232337, -0.021864543671643935, -1.1005092230234894, -0.8906576571862331, -0.676797498832179, -0.35325718962322256, -0.08108079990629014, 1.1853695718411121, 0.30057746921104944, -0.40043517461693023, -1.5278058799076497, -0.8711964279517036, -1.5409210468656107, 0.22816741726104836, -0.03255898174171499, 0.026687251866059098, 0.4294202743518761, 0.3950280004384783, 1.0450196729200016, -0.875516508014222, -0.4722584961793411, -0.5692715168213826, 0.9682407212914111, 0.08000451194139384, 0.2782152013702495, 0.24866085181437123, -1.005337704907483, 1.490533209873795]}],                        {\"barmode\": \"overlay\", \"legend\": {\"bgcolor\": \"#F5F6F9\", \"font\": {\"color\": \"#4D5663\"}}, \"paper_bgcolor\": \"#F5F6F9\", \"plot_bgcolor\": \"#F5F6F9\", \"template\": {\"data\": {\"bar\": [{\"error_x\": {\"color\": \"#2a3f5f\"}, \"error_y\": {\"color\": \"#2a3f5f\"}, \"marker\": {\"line\": {\"color\": \"#E5ECF6\", \"width\": 0.5}}, \"type\": \"bar\"}], \"barpolar\": [{\"marker\": {\"line\": {\"color\": \"#E5ECF6\", \"width\": 0.5}}, \"type\": \"barpolar\"}], \"carpet\": [{\"aaxis\": {\"endlinecolor\": \"#2a3f5f\", \"gridcolor\": \"white\", \"linecolor\": \"white\", \"minorgridcolor\": \"white\", \"startlinecolor\": \"#2a3f5f\"}, \"baxis\": {\"endlinecolor\": \"#2a3f5f\", \"gridcolor\": \"white\", \"linecolor\": \"white\", \"minorgridcolor\": \"white\", \"startlinecolor\": \"#2a3f5f\"}, \"type\": \"carpet\"}], \"choropleth\": [{\"colorbar\": {\"outlinewidth\": 0, \"ticks\": \"\"}, \"type\": \"choropleth\"}], \"contour\": [{\"colorbar\": {\"outlinewidth\": 0, \"ticks\": \"\"}, \"colorscale\": [[0.0, \"#0d0887\"], [0.1111111111111111, \"#46039f\"], [0.2222222222222222, \"#7201a8\"], [0.3333333333333333, \"#9c179e\"], [0.4444444444444444, \"#bd3786\"], [0.5555555555555556, \"#d8576b\"], [0.6666666666666666, \"#ed7953\"], [0.7777777777777778, \"#fb9f3a\"], [0.8888888888888888, \"#fdca26\"], [1.0, \"#f0f921\"]], \"type\": \"contour\"}], \"contourcarpet\": [{\"colorbar\": {\"outlinewidth\": 0, \"ticks\": \"\"}, \"type\": \"contourcarpet\"}], \"heatmap\": [{\"colorbar\": {\"outlinewidth\": 0, \"ticks\": \"\"}, \"colorscale\": [[0.0, \"#0d0887\"], [0.1111111111111111, \"#46039f\"], [0.2222222222222222, \"#7201a8\"], [0.3333333333333333, \"#9c179e\"], [0.4444444444444444, \"#bd3786\"], [0.5555555555555556, \"#d8576b\"], [0.6666666666666666, \"#ed7953\"], [0.7777777777777778, \"#fb9f3a\"], [0.8888888888888888, \"#fdca26\"], [1.0, \"#f0f921\"]], \"type\": \"heatmap\"}], \"heatmapgl\": [{\"colorbar\": {\"outlinewidth\": 0, \"ticks\": \"\"}, \"colorscale\": [[0.0, \"#0d0887\"], [0.1111111111111111, \"#46039f\"], [0.2222222222222222, \"#7201a8\"], [0.3333333333333333, \"#9c179e\"], [0.4444444444444444, \"#bd3786\"], [0.5555555555555556, \"#d8576b\"], [0.6666666666666666, \"#ed7953\"], [0.7777777777777778, \"#fb9f3a\"], [0.8888888888888888, \"#fdca26\"], [1.0, \"#f0f921\"]], \"type\": \"heatmapgl\"}], \"histogram\": [{\"marker\": {\"colorbar\": {\"outlinewidth\": 0, \"ticks\": \"\"}}, \"type\": \"histogram\"}], \"histogram2d\": [{\"colorbar\": {\"outlinewidth\": 0, \"ticks\": \"\"}, \"colorscale\": [[0.0, \"#0d0887\"], [0.1111111111111111, \"#46039f\"], [0.2222222222222222, \"#7201a8\"], [0.3333333333333333, \"#9c179e\"], [0.4444444444444444, \"#bd3786\"], [0.5555555555555556, \"#d8576b\"], [0.6666666666666666, \"#ed7953\"], [0.7777777777777778, \"#fb9f3a\"], [0.8888888888888888, \"#fdca26\"], [1.0, \"#f0f921\"]], \"type\": \"histogram2d\"}], \"histogram2dcontour\": [{\"colorbar\": {\"outlinewidth\": 0, \"ticks\": \"\"}, \"colorscale\": [[0.0, \"#0d0887\"], [0.1111111111111111, \"#46039f\"], [0.2222222222222222, \"#7201a8\"], [0.3333333333333333, \"#9c179e\"], [0.4444444444444444, \"#bd3786\"], [0.5555555555555556, \"#d8576b\"], [0.6666666666666666, \"#ed7953\"], [0.7777777777777778, \"#fb9f3a\"], [0.8888888888888888, \"#fdca26\"], [1.0, \"#f0f921\"]], \"type\": \"histogram2dcontour\"}], \"mesh3d\": [{\"colorbar\": {\"outlinewidth\": 0, \"ticks\": \"\"}, \"type\": \"mesh3d\"}], \"parcoords\": [{\"line\": {\"colorbar\": {\"outlinewidth\": 0, \"ticks\": \"\"}}, \"type\": \"parcoords\"}], \"pie\": [{\"automargin\": true, \"type\": \"pie\"}], \"scatter\": [{\"marker\": {\"colorbar\": {\"outlinewidth\": 0, \"ticks\": \"\"}}, \"type\": \"scatter\"}], \"scatter3d\": [{\"line\": {\"colorbar\": {\"outlinewidth\": 0, \"ticks\": \"\"}}, \"marker\": {\"colorbar\": {\"outlinewidth\": 0, \"ticks\": \"\"}}, \"type\": \"scatter3d\"}], \"scattercarpet\": [{\"marker\": {\"colorbar\": {\"outlinewidth\": 0, \"ticks\": \"\"}}, \"type\": \"scattercarpet\"}], \"scattergeo\": [{\"marker\": {\"colorbar\": {\"outlinewidth\": 0, \"ticks\": \"\"}}, \"type\": \"scattergeo\"}], \"scattergl\": [{\"marker\": {\"colorbar\": {\"outlinewidth\": 0, \"ticks\": \"\"}}, \"type\": \"scattergl\"}], \"scattermapbox\": [{\"marker\": {\"colorbar\": {\"outlinewidth\": 0, \"ticks\": \"\"}}, \"type\": \"scattermapbox\"}], \"scatterpolar\": [{\"marker\": {\"colorbar\": {\"outlinewidth\": 0, \"ticks\": \"\"}}, \"type\": \"scatterpolar\"}], \"scatterpolargl\": [{\"marker\": {\"colorbar\": {\"outlinewidth\": 0, \"ticks\": \"\"}}, \"type\": \"scatterpolargl\"}], \"scatterternary\": [{\"marker\": {\"colorbar\": {\"outlinewidth\": 0, \"ticks\": \"\"}}, \"type\": \"scatterternary\"}], \"surface\": [{\"colorbar\": {\"outlinewidth\": 0, \"ticks\": \"\"}, \"colorscale\": [[0.0, \"#0d0887\"], [0.1111111111111111, \"#46039f\"], [0.2222222222222222, \"#7201a8\"], [0.3333333333333333, \"#9c179e\"], [0.4444444444444444, \"#bd3786\"], [0.5555555555555556, \"#d8576b\"], [0.6666666666666666, \"#ed7953\"], [0.7777777777777778, \"#fb9f3a\"], [0.8888888888888888, \"#fdca26\"], [1.0, \"#f0f921\"]], \"type\": \"surface\"}], \"table\": [{\"cells\": {\"fill\": {\"color\": \"#EBF0F8\"}, \"line\": {\"color\": \"white\"}}, \"header\": {\"fill\": {\"color\": \"#C8D4E3\"}, \"line\": {\"color\": \"white\"}}, \"type\": \"table\"}]}, \"layout\": {\"annotationdefaults\": {\"arrowcolor\": \"#2a3f5f\", \"arrowhead\": 0, \"arrowwidth\": 1}, \"autotypenumbers\": \"strict\", \"coloraxis\": {\"colorbar\": {\"outlinewidth\": 0, \"ticks\": \"\"}}, \"colorscale\": {\"diverging\": [[0, \"#8e0152\"], [0.1, \"#c51b7d\"], [0.2, \"#de77ae\"], [0.3, \"#f1b6da\"], [0.4, \"#fde0ef\"], [0.5, \"#f7f7f7\"], [0.6, \"#e6f5d0\"], [0.7, \"#b8e186\"], [0.8, \"#7fbc41\"], [0.9, \"#4d9221\"], [1, \"#276419\"]], \"sequential\": [[0.0, \"#0d0887\"], [0.1111111111111111, \"#46039f\"], [0.2222222222222222, \"#7201a8\"], [0.3333333333333333, \"#9c179e\"], [0.4444444444444444, \"#bd3786\"], [0.5555555555555556, \"#d8576b\"], [0.6666666666666666, \"#ed7953\"], [0.7777777777777778, \"#fb9f3a\"], [0.8888888888888888, \"#fdca26\"], [1.0, \"#f0f921\"]], \"sequentialminus\": [[0.0, \"#0d0887\"], [0.1111111111111111, \"#46039f\"], [0.2222222222222222, \"#7201a8\"], [0.3333333333333333, \"#9c179e\"], [0.4444444444444444, \"#bd3786\"], [0.5555555555555556, \"#d8576b\"], [0.6666666666666666, \"#ed7953\"], [0.7777777777777778, \"#fb9f3a\"], [0.8888888888888888, \"#fdca26\"], [1.0, \"#f0f921\"]]}, \"colorway\": [\"#636efa\", \"#EF553B\", \"#00cc96\", \"#ab63fa\", \"#FFA15A\", \"#19d3f3\", \"#FF6692\", \"#B6E880\", \"#FF97FF\", \"#FECB52\"], \"font\": {\"color\": \"#2a3f5f\"}, \"geo\": {\"bgcolor\": \"white\", \"lakecolor\": \"white\", \"landcolor\": \"#E5ECF6\", \"showlakes\": true, \"showland\": true, \"subunitcolor\": \"white\"}, \"hoverlabel\": {\"align\": \"left\"}, \"hovermode\": \"closest\", \"mapbox\": {\"style\": \"light\"}, \"paper_bgcolor\": \"white\", \"plot_bgcolor\": \"#E5ECF6\", \"polar\": {\"angularaxis\": {\"gridcolor\": \"white\", \"linecolor\": \"white\", \"ticks\": \"\"}, \"bgcolor\": \"#E5ECF6\", \"radialaxis\": {\"gridcolor\": \"white\", \"linecolor\": \"white\", \"ticks\": \"\"}}, \"scene\": {\"xaxis\": {\"backgroundcolor\": \"#E5ECF6\", \"gridcolor\": \"white\", \"gridwidth\": 2, \"linecolor\": \"white\", \"showbackground\": true, \"ticks\": \"\", \"zerolinecolor\": \"white\"}, \"yaxis\": {\"backgroundcolor\": \"#E5ECF6\", \"gridcolor\": \"white\", \"gridwidth\": 2, \"linecolor\": \"white\", \"showbackground\": true, \"ticks\": \"\", \"zerolinecolor\": \"white\"}, \"zaxis\": {\"backgroundcolor\": \"#E5ECF6\", \"gridcolor\": \"white\", \"gridwidth\": 2, \"linecolor\": \"white\", \"showbackground\": true, \"ticks\": \"\", \"zerolinecolor\": \"white\"}}, \"shapedefaults\": {\"line\": {\"color\": \"#2a3f5f\"}}, \"ternary\": {\"aaxis\": {\"gridcolor\": \"white\", \"linecolor\": \"white\", \"ticks\": \"\"}, \"baxis\": {\"gridcolor\": \"white\", \"linecolor\": \"white\", \"ticks\": \"\"}, \"bgcolor\": \"#E5ECF6\", \"caxis\": {\"gridcolor\": \"white\", \"linecolor\": \"white\", \"ticks\": \"\"}}, \"title\": {\"x\": 0.05}, \"xaxis\": {\"automargin\": true, \"gridcolor\": \"white\", \"linecolor\": \"white\", \"ticks\": \"\", \"title\": {\"standoff\": 15}, \"zerolinecolor\": \"white\", \"zerolinewidth\": 2}, \"yaxis\": {\"automargin\": true, \"gridcolor\": \"white\", \"linecolor\": \"white\", \"ticks\": \"\", \"title\": {\"standoff\": 15}, \"zerolinecolor\": \"white\", \"zerolinewidth\": 2}}}, \"title\": {\"font\": {\"color\": \"#4D5663\"}}, \"xaxis\": {\"gridcolor\": \"#E1E5ED\", \"showgrid\": true, \"tickfont\": {\"color\": \"#4D5663\"}, \"title\": {\"font\": {\"color\": \"#4D5663\"}, \"text\": \"\"}, \"zerolinecolor\": \"#E1E5ED\"}, \"yaxis\": {\"gridcolor\": \"#E1E5ED\", \"showgrid\": true, \"tickfont\": {\"color\": \"#4D5663\"}, \"title\": {\"font\": {\"color\": \"#4D5663\"}, \"text\": \"\"}, \"zerolinecolor\": \"#E1E5ED\"}},                        {\"showLink\": true, \"linkText\": \"Export to plot.ly\", \"plotlyServerURL\": \"https://plot.ly\", \"responsive\": true}                    ).then(function(){\n",
       "                            \n",
       "var gd = document.getElementById('d98c35b1-3824-418e-a10f-48ad2b61ad92');\n",
       "var x = new MutationObserver(function (mutations, observer) {{\n",
       "        var display = window.getComputedStyle(gd).display;\n",
       "        if (!display || display === 'none') {{\n",
       "            console.log([gd, 'removed!']);\n",
       "            Plotly.purge(gd);\n",
       "            observer.disconnect();\n",
       "        }}\n",
       "}});\n",
       "\n",
       "// Listen for the removal of the full notebook cells\n",
       "var notebookContainer = gd.closest('#notebook-container');\n",
       "if (notebookContainer) {{\n",
       "    x.observe(notebookContainer, {childList: true});\n",
       "}}\n",
       "\n",
       "// Listen for the clearing of the current output cell\n",
       "var outputEl = gd.closest('.output');\n",
       "if (outputEl) {{\n",
       "    x.observe(outputEl, {childList: true});\n",
       "}}\n",
       "\n",
       "                        })                };                });            </script>        </div>"
      ]
     },
     "metadata": {},
     "output_type": "display_data"
    }
   ],
   "source": [
    "#overlap\n",
    "df.iplot(kind='hist',bins=25)"
   ]
  },
  {
   "cell_type": "code",
   "execution_count": 39,
   "metadata": {},
   "outputs": [
    {
     "name": "stderr",
     "output_type": "stream",
     "text": [
      "C:\\Users\\picek\\anaconda3\\lib\\site-packages\\cufflinks\\plotlytools.py:849: FutureWarning:\n",
      "\n",
      "The pandas.np module is deprecated and will be removed from pandas in a future version. Import numpy directly instead\n",
      "\n",
      "C:\\Users\\picek\\anaconda3\\lib\\site-packages\\cufflinks\\plotlytools.py:850: FutureWarning:\n",
      "\n",
      "The pandas.np module is deprecated and will be removed from pandas in a future version. Import numpy directly instead\n",
      "\n"
     ]
    },
    {
     "data": {
      "application/vnd.plotly.v1+json": {
       "config": {
        "linkText": "Export to plot.ly",
        "plotlyServerURL": "https://plot.ly",
        "showLink": true
       },
       "data": [
        {
         "line": {
          "color": "rgba(255, 153, 51, 1.0)",
          "dash": "solid",
          "shape": "linear",
          "width": 1.3
         },
         "mode": "lines",
         "name": "A",
         "text": "",
         "type": "scatter",
         "x": [
          0,
          1,
          2,
          3,
          4,
          5,
          6,
          7,
          8,
          9,
          10,
          11,
          12,
          13,
          14,
          15,
          16,
          17,
          18,
          19,
          20,
          21,
          22,
          23,
          24,
          25,
          26,
          27,
          28,
          29,
          30,
          31,
          32,
          33,
          34,
          35,
          36,
          37,
          38,
          39,
          40,
          41,
          42,
          43,
          44,
          45,
          46,
          47,
          48,
          49,
          50,
          51,
          52,
          53,
          54,
          55,
          56,
          57,
          58,
          59,
          60,
          61,
          62,
          63,
          64,
          65,
          66,
          67,
          68,
          69,
          70,
          71,
          72,
          73,
          74,
          75,
          76,
          77,
          78,
          79,
          80,
          81,
          82,
          83,
          84,
          85,
          86,
          87,
          88,
          89,
          90,
          91,
          92,
          93,
          94,
          95,
          96,
          97,
          98,
          99
         ],
         "y": [
          -0.1601183780470847,
          0.15940940597672718,
          -0.8691414452109293,
          2.1010276114389423,
          0.17164077472576567,
          -0.3615969648072336,
          -1.4329312503554597,
          1.0348622009763033,
          -0.9530959678937821,
          -1.949144277250312,
          -0.653801018600976,
          -1.0586602896818622,
          0.28861617739230505,
          1.6481156904717285,
          0.5021988384451932,
          0.7419461664678879,
          0.17745499512664956,
          -0.38325620812446526,
          0.12849351472190346,
          0.15024354836000892,
          -1.9046735986048597,
          0.06729564255980032,
          1.3114167690497167,
          0.6532864418010814,
          0.7736641644900281,
          0.9710332051307252,
          -1.2950688683078926,
          -0.2330559856021781,
          -0.2506005785170448,
          0.8746518298457197,
          0.49012434927847653,
          1.952542960328725,
          1.422053288373496,
          -0.041017606165554964,
          -0.5696189873368337,
          1.3796194148641876,
          -0.9684850941850984,
          -0.6867169752967174,
          1.2175982302306936,
          -0.7950270858687128,
          -0.20268130839797435,
          -0.3166116775607073,
          0.013265786411123252,
          1.3609161101425622,
          0.918899536952606,
          0.8946799623180145,
          -0.32355619688753906,
          -0.26159337861282134,
          1.7316425076849074,
          0.18598089946101812,
          0.5735137879874297,
          0.5584074518494194,
          -0.39038838391341496,
          0.9879393225390422,
          2.5030105940459157,
          -0.48432032452495916,
          -0.41613166505421517,
          -1.3139722396678235,
          0.22869715598900986,
          -0.5435803703335473,
          2.487064416501825,
          -0.44198082209238426,
          -0.3539645120194969,
          0.27099557207341957,
          0.45250919764242253,
          -0.0576693407543129,
          -0.7573808849544862,
          -1.3875401356438606,
          0.5770513485881394,
          1.2340897966166007,
          1.014934806523684,
          0.1530954629770791,
          -1.0723060534055624,
          1.085507498157262,
          1.3346837122325887,
          -1.3698512217275174,
          -0.10433179640403041,
          -1.201928853898415,
          -0.30352824810029955,
          0.33826194670927395,
          -0.7785433241744303,
          -0.14302780228701797,
          0.6172268757774699,
          -1.5310619955784,
          -0.9632272022705074,
          0.8562948380132994,
          -0.137384953960321,
          -0.9653087534475998,
          -0.4426437998567408,
          0.5304095588563396,
          1.4850884827390285,
          0.1906684616642033,
          0.246574144712053,
          -0.2369541408221221,
          0.963784194598969,
          0.44074100274933714,
          0.546935093537091,
          -1.756855506983355,
          1.8244298964505592,
          -1.4031423867604629
         ]
        },
        {
         "line": {
          "color": "rgba(55, 128, 191, 1.0)",
          "dash": "solid",
          "shape": "linear",
          "width": 1.3
         },
         "mode": "lines",
         "name": "B",
         "text": "",
         "type": "scatter",
         "x": [
          0,
          1,
          2,
          3,
          4,
          5,
          6,
          7,
          8,
          9,
          10,
          11,
          12,
          13,
          14,
          15,
          16,
          17,
          18,
          19,
          20,
          21,
          22,
          23,
          24,
          25,
          26,
          27,
          28,
          29,
          30,
          31,
          32,
          33,
          34,
          35,
          36,
          37,
          38,
          39,
          40,
          41,
          42,
          43,
          44,
          45,
          46,
          47,
          48,
          49,
          50,
          51,
          52,
          53,
          54,
          55,
          56,
          57,
          58,
          59,
          60,
          61,
          62,
          63,
          64,
          65,
          66,
          67,
          68,
          69,
          70,
          71,
          72,
          73,
          74,
          75,
          76,
          77,
          78,
          79,
          80,
          81,
          82,
          83,
          84,
          85,
          86,
          87,
          88,
          89,
          90,
          91,
          92,
          93,
          94,
          95,
          96,
          97,
          98,
          99
         ],
         "y": [
          -0.2644633545863186,
          1.5714302027771738,
          -0.022060694285092157,
          0.44695975606255306,
          1.6437621966592817,
          -2.1304958014639213,
          -0.34165423712052057,
          0.7735034696623291,
          0.4361167369817292,
          0.38315007358375436,
          -0.13683266188575985,
          0.2963414389906744,
          -2.1731658439592922,
          0.20259417441792585,
          0.09984009734314357,
          0.691047349227367,
          1.314807118205364,
          -0.521105250810098,
          -0.2822920873303137,
          -1.815604989842956,
          -1.0381784939062224,
          -1.540817803928697,
          0.7999428656890234,
          -1.719359604418866,
          1.2745453748761055,
          1.504906159003659,
          -0.03548530175341141,
          -0.47520221229360315,
          -0.03341052408579652,
          0.41606932003300406,
          -1.4669960816172585,
          0.3399043588728614,
          -0.1322471972177475,
          0.3885005500255243,
          -0.1296864888337782,
          0.3725902163354231,
          -0.1681840505469514,
          -0.5380402156473689,
          -1.7400857956585742,
          1.1274655014808161,
          -0.1642696740906239,
          0.3284104283712735,
          1.6754071912755992,
          0.19180608461248194,
          1.370769793189238,
          1.7483301226382149,
          -0.25010508806739873,
          0.13449895716815247,
          0.4234980413886394,
          -0.6292563951712109,
          2.2953199758200236,
          -0.17969684632277028,
          1.2987890271027225,
          0.4030094700678754,
          0.08036747531795806,
          -0.08069390393910325,
          1.9924420651500254,
          -0.2698486232006421,
          0.9189127955439805,
          1.4636227816733902,
          0.938845731900176,
          0.3774223763929635,
          -0.06039266365866485,
          0.9786792112048589,
          0.18303575909528905,
          1.6213974948934198,
          -0.9011226730985576,
          1.5550696967051754,
          -0.5287319696533463,
          -2.134382600497725,
          -2.4884498634990253,
          0.9141044261447112,
          -1.0929243882156412,
          0.33144393850878756,
          -0.11164949938320748,
          -0.3069432766632717,
          1.1173680553813508,
          0.26683988452577584,
          2.572799719475098,
          0.15916196813082964,
          0.07842255156767423,
          -0.3913927786082702,
          -0.6787973075228827,
          -0.42382151492180364,
          -0.3450314270380239,
          -2.2701907481405805,
          -0.25405633676066053,
          -1.1065213219948289,
          -0.9709405991456087,
          -0.4193028156423804,
          -0.7262378201660576,
          1.0725696136192406,
          -0.5523869569628342,
          1.6427537695901733,
          1.5568589945640556,
          2.570984921845135,
          -0.36030875900544634,
          0.26494896940570273,
          -1.3263649914452567,
          0.3256623316086684
         ]
        },
        {
         "connectgaps": false,
         "fill": "tozeroy",
         "line": {
          "color": "green",
          "dash": "solid",
          "shape": "linear",
          "width": 0.5
         },
         "mode": "lines",
         "name": "Spread",
         "showlegend": false,
         "type": "scatter",
         "x": [
          0,
          1,
          2,
          3,
          4,
          5,
          6,
          7,
          8,
          9,
          10,
          11,
          12,
          13,
          14,
          15,
          16,
          17,
          18,
          19,
          20,
          21,
          22,
          23,
          24,
          25,
          26,
          27,
          28,
          29,
          30,
          31,
          32,
          33,
          34,
          35,
          36,
          37,
          38,
          39,
          40,
          41,
          42,
          43,
          44,
          45,
          46,
          47,
          48,
          49,
          50,
          51,
          52,
          53,
          54,
          55,
          56,
          57,
          58,
          59,
          60,
          61,
          62,
          63,
          64,
          65,
          66,
          67,
          68,
          69,
          70,
          71,
          72,
          73,
          74,
          75,
          76,
          77,
          78,
          79,
          80,
          81,
          82,
          83,
          84,
          85,
          86,
          87,
          88,
          89,
          90,
          91,
          92,
          93,
          94,
          95,
          96,
          97,
          98,
          99
         ],
         "xaxis": "x2",
         "y": [
          0.10434497653923389,
          "",
          "",
          1.6540678553763892,
          "",
          1.7688988366566876,
          "",
          0.26135873131397425,
          "",
          "",
          "",
          "",
          2.4617820213515973,
          1.4455215160538026,
          0.4023587411020496,
          0.05089881724052092,
          "",
          0.1378490426856327,
          0.41078560205221715,
          1.965848538202965,
          "",
          1.6081134464884974,
          0.5114739033606933,
          2.3726460462199475,
          "",
          "",
          "",
          0.24214622669142505,
          "",
          0.4585825098127156,
          1.957120430895735,
          1.6126386014558636,
          1.5543004855912435,
          "",
          "",
          1.0070291985287645,
          "",
          "",
          2.957684025889268,
          "",
          "",
          "",
          "",
          1.1691100255300801,
          "",
          "",
          "",
          "",
          1.308144466296268,
          0.815237294632229,
          "",
          0.7381042981721897,
          "",
          0.5849298524711668,
          2.4226431187279576,
          "",
          "",
          "",
          "",
          "",
          1.5482186846016492,
          "",
          "",
          "",
          0.26947343854713346,
          "",
          0.14374178814407146,
          "",
          1.1057833182414858,
          3.3684723971143256,
          3.5033846700227094,
          "",
          0.020618334810078798,
          0.7540635596484746,
          1.4463332116157963,
          "",
          "",
          "",
          "",
          0.1790999785784443,
          "",
          0.24836497632125223,
          1.2960241833003527,
          "",
          "",
          3.12648558615388,
          0.11667138280033953,
          0.14121256854722908,
          0.5282967992888679,
          0.9497123744987199,
          2.211326302905086,
          "",
          0.7989611016748872,
          "",
          "",
          "",
          0.9072438525425374,
          "",
          3.150794887895816,
          ""
         ],
         "yaxis": "y2"
        },
        {
         "connectgaps": false,
         "fill": "tozeroy",
         "line": {
          "color": "red",
          "dash": "solid",
          "shape": "linear",
          "width": 0.5
         },
         "mode": "lines",
         "name": "Spread",
         "showlegend": false,
         "type": "scatter",
         "x": [
          0,
          1,
          2,
          3,
          4,
          5,
          6,
          7,
          8,
          9,
          10,
          11,
          12,
          13,
          14,
          15,
          16,
          17,
          18,
          19,
          20,
          21,
          22,
          23,
          24,
          25,
          26,
          27,
          28,
          29,
          30,
          31,
          32,
          33,
          34,
          35,
          36,
          37,
          38,
          39,
          40,
          41,
          42,
          43,
          44,
          45,
          46,
          47,
          48,
          49,
          50,
          51,
          52,
          53,
          54,
          55,
          56,
          57,
          58,
          59,
          60,
          61,
          62,
          63,
          64,
          65,
          66,
          67,
          68,
          69,
          70,
          71,
          72,
          73,
          74,
          75,
          76,
          77,
          78,
          79,
          80,
          81,
          82,
          83,
          84,
          85,
          86,
          87,
          88,
          89,
          90,
          91,
          92,
          93,
          94,
          95,
          96,
          97,
          98,
          99
         ],
         "xaxis": "x2",
         "y": [
          "",
          -1.4120207968004466,
          -0.8470807509258371,
          "",
          -1.4721214219335161,
          "",
          -1.0912770132349392,
          "",
          -1.3892127048755114,
          -2.3322943508340663,
          -0.5169683567152161,
          -1.3550017286725367,
          "",
          "",
          "",
          "",
          -1.1373521230787145,
          "",
          "",
          "",
          -0.8664951046986373,
          "",
          "",
          "",
          -0.5008812103860775,
          -0.5338729538729338,
          -1.2595835665544812,
          "",
          -0.21719005443124828,
          "",
          "",
          "",
          "",
          -0.42951815619107925,
          -0.4399324985030555,
          "",
          -0.800301043638147,
          -0.14867675964934846,
          "",
          -1.922492587349529,
          -0.03841163430735045,
          -0.6450221059319807,
          -1.662141404864476,
          "",
          -0.451870256236632,
          -0.8536501603202004,
          -0.07345110882014033,
          -0.3960923357809738,
          "",
          "",
          -1.7218061878325939,
          "",
          -1.6891774110161375,
          "",
          "",
          -0.4036264205858559,
          -2.4085737302042407,
          -1.0441236164671814,
          -0.6902156395549707,
          -2.0072031520069373,
          "",
          -0.8194031984853478,
          -0.29357184836083206,
          -0.7076836391314394,
          "",
          -1.6790668356477327,
          "",
          -2.942609832349036,
          "",
          "",
          "",
          -0.7610089631676321,
          "",
          "",
          "",
          -1.0629079450642456,
          -1.2216998517853812,
          -1.4687687384241908,
          -2.8763279675753974,
          "",
          -0.8569658757421045,
          "",
          "",
          -1.1072404806565963,
          -0.6181957752324835,
          "",
          "",
          "",
          "",
          "",
          "",
          -0.8819011519550374,
          "",
          -1.8797079104122953,
          -0.5930747999650866,
          -2.130243919095798,
          "",
          -2.0218044763890575,
          "",
          -1.7288047183691313
         ],
         "yaxis": "y2"
        }
       ],
       "layout": {
        "hovermode": "x",
        "legend": {
         "bgcolor": "#F5F6F9",
         "font": {
          "color": "#4D5663"
         }
        },
        "paper_bgcolor": "#F5F6F9",
        "plot_bgcolor": "#F5F6F9",
        "template": {
         "data": {
          "bar": [
           {
            "error_x": {
             "color": "#2a3f5f"
            },
            "error_y": {
             "color": "#2a3f5f"
            },
            "marker": {
             "line": {
              "color": "#E5ECF6",
              "width": 0.5
             }
            },
            "type": "bar"
           }
          ],
          "barpolar": [
           {
            "marker": {
             "line": {
              "color": "#E5ECF6",
              "width": 0.5
             }
            },
            "type": "barpolar"
           }
          ],
          "carpet": [
           {
            "aaxis": {
             "endlinecolor": "#2a3f5f",
             "gridcolor": "white",
             "linecolor": "white",
             "minorgridcolor": "white",
             "startlinecolor": "#2a3f5f"
            },
            "baxis": {
             "endlinecolor": "#2a3f5f",
             "gridcolor": "white",
             "linecolor": "white",
             "minorgridcolor": "white",
             "startlinecolor": "#2a3f5f"
            },
            "type": "carpet"
           }
          ],
          "choropleth": [
           {
            "colorbar": {
             "outlinewidth": 0,
             "ticks": ""
            },
            "type": "choropleth"
           }
          ],
          "contour": [
           {
            "colorbar": {
             "outlinewidth": 0,
             "ticks": ""
            },
            "colorscale": [
             [
              0,
              "#0d0887"
             ],
             [
              0.1111111111111111,
              "#46039f"
             ],
             [
              0.2222222222222222,
              "#7201a8"
             ],
             [
              0.3333333333333333,
              "#9c179e"
             ],
             [
              0.4444444444444444,
              "#bd3786"
             ],
             [
              0.5555555555555556,
              "#d8576b"
             ],
             [
              0.6666666666666666,
              "#ed7953"
             ],
             [
              0.7777777777777778,
              "#fb9f3a"
             ],
             [
              0.8888888888888888,
              "#fdca26"
             ],
             [
              1,
              "#f0f921"
             ]
            ],
            "type": "contour"
           }
          ],
          "contourcarpet": [
           {
            "colorbar": {
             "outlinewidth": 0,
             "ticks": ""
            },
            "type": "contourcarpet"
           }
          ],
          "heatmap": [
           {
            "colorbar": {
             "outlinewidth": 0,
             "ticks": ""
            },
            "colorscale": [
             [
              0,
              "#0d0887"
             ],
             [
              0.1111111111111111,
              "#46039f"
             ],
             [
              0.2222222222222222,
              "#7201a8"
             ],
             [
              0.3333333333333333,
              "#9c179e"
             ],
             [
              0.4444444444444444,
              "#bd3786"
             ],
             [
              0.5555555555555556,
              "#d8576b"
             ],
             [
              0.6666666666666666,
              "#ed7953"
             ],
             [
              0.7777777777777778,
              "#fb9f3a"
             ],
             [
              0.8888888888888888,
              "#fdca26"
             ],
             [
              1,
              "#f0f921"
             ]
            ],
            "type": "heatmap"
           }
          ],
          "heatmapgl": [
           {
            "colorbar": {
             "outlinewidth": 0,
             "ticks": ""
            },
            "colorscale": [
             [
              0,
              "#0d0887"
             ],
             [
              0.1111111111111111,
              "#46039f"
             ],
             [
              0.2222222222222222,
              "#7201a8"
             ],
             [
              0.3333333333333333,
              "#9c179e"
             ],
             [
              0.4444444444444444,
              "#bd3786"
             ],
             [
              0.5555555555555556,
              "#d8576b"
             ],
             [
              0.6666666666666666,
              "#ed7953"
             ],
             [
              0.7777777777777778,
              "#fb9f3a"
             ],
             [
              0.8888888888888888,
              "#fdca26"
             ],
             [
              1,
              "#f0f921"
             ]
            ],
            "type": "heatmapgl"
           }
          ],
          "histogram": [
           {
            "marker": {
             "colorbar": {
              "outlinewidth": 0,
              "ticks": ""
             }
            },
            "type": "histogram"
           }
          ],
          "histogram2d": [
           {
            "colorbar": {
             "outlinewidth": 0,
             "ticks": ""
            },
            "colorscale": [
             [
              0,
              "#0d0887"
             ],
             [
              0.1111111111111111,
              "#46039f"
             ],
             [
              0.2222222222222222,
              "#7201a8"
             ],
             [
              0.3333333333333333,
              "#9c179e"
             ],
             [
              0.4444444444444444,
              "#bd3786"
             ],
             [
              0.5555555555555556,
              "#d8576b"
             ],
             [
              0.6666666666666666,
              "#ed7953"
             ],
             [
              0.7777777777777778,
              "#fb9f3a"
             ],
             [
              0.8888888888888888,
              "#fdca26"
             ],
             [
              1,
              "#f0f921"
             ]
            ],
            "type": "histogram2d"
           }
          ],
          "histogram2dcontour": [
           {
            "colorbar": {
             "outlinewidth": 0,
             "ticks": ""
            },
            "colorscale": [
             [
              0,
              "#0d0887"
             ],
             [
              0.1111111111111111,
              "#46039f"
             ],
             [
              0.2222222222222222,
              "#7201a8"
             ],
             [
              0.3333333333333333,
              "#9c179e"
             ],
             [
              0.4444444444444444,
              "#bd3786"
             ],
             [
              0.5555555555555556,
              "#d8576b"
             ],
             [
              0.6666666666666666,
              "#ed7953"
             ],
             [
              0.7777777777777778,
              "#fb9f3a"
             ],
             [
              0.8888888888888888,
              "#fdca26"
             ],
             [
              1,
              "#f0f921"
             ]
            ],
            "type": "histogram2dcontour"
           }
          ],
          "mesh3d": [
           {
            "colorbar": {
             "outlinewidth": 0,
             "ticks": ""
            },
            "type": "mesh3d"
           }
          ],
          "parcoords": [
           {
            "line": {
             "colorbar": {
              "outlinewidth": 0,
              "ticks": ""
             }
            },
            "type": "parcoords"
           }
          ],
          "pie": [
           {
            "automargin": true,
            "type": "pie"
           }
          ],
          "scatter": [
           {
            "marker": {
             "colorbar": {
              "outlinewidth": 0,
              "ticks": ""
             }
            },
            "type": "scatter"
           }
          ],
          "scatter3d": [
           {
            "line": {
             "colorbar": {
              "outlinewidth": 0,
              "ticks": ""
             }
            },
            "marker": {
             "colorbar": {
              "outlinewidth": 0,
              "ticks": ""
             }
            },
            "type": "scatter3d"
           }
          ],
          "scattercarpet": [
           {
            "marker": {
             "colorbar": {
              "outlinewidth": 0,
              "ticks": ""
             }
            },
            "type": "scattercarpet"
           }
          ],
          "scattergeo": [
           {
            "marker": {
             "colorbar": {
              "outlinewidth": 0,
              "ticks": ""
             }
            },
            "type": "scattergeo"
           }
          ],
          "scattergl": [
           {
            "marker": {
             "colorbar": {
              "outlinewidth": 0,
              "ticks": ""
             }
            },
            "type": "scattergl"
           }
          ],
          "scattermapbox": [
           {
            "marker": {
             "colorbar": {
              "outlinewidth": 0,
              "ticks": ""
             }
            },
            "type": "scattermapbox"
           }
          ],
          "scatterpolar": [
           {
            "marker": {
             "colorbar": {
              "outlinewidth": 0,
              "ticks": ""
             }
            },
            "type": "scatterpolar"
           }
          ],
          "scatterpolargl": [
           {
            "marker": {
             "colorbar": {
              "outlinewidth": 0,
              "ticks": ""
             }
            },
            "type": "scatterpolargl"
           }
          ],
          "scatterternary": [
           {
            "marker": {
             "colorbar": {
              "outlinewidth": 0,
              "ticks": ""
             }
            },
            "type": "scatterternary"
           }
          ],
          "surface": [
           {
            "colorbar": {
             "outlinewidth": 0,
             "ticks": ""
            },
            "colorscale": [
             [
              0,
              "#0d0887"
             ],
             [
              0.1111111111111111,
              "#46039f"
             ],
             [
              0.2222222222222222,
              "#7201a8"
             ],
             [
              0.3333333333333333,
              "#9c179e"
             ],
             [
              0.4444444444444444,
              "#bd3786"
             ],
             [
              0.5555555555555556,
              "#d8576b"
             ],
             [
              0.6666666666666666,
              "#ed7953"
             ],
             [
              0.7777777777777778,
              "#fb9f3a"
             ],
             [
              0.8888888888888888,
              "#fdca26"
             ],
             [
              1,
              "#f0f921"
             ]
            ],
            "type": "surface"
           }
          ],
          "table": [
           {
            "cells": {
             "fill": {
              "color": "#EBF0F8"
             },
             "line": {
              "color": "white"
             }
            },
            "header": {
             "fill": {
              "color": "#C8D4E3"
             },
             "line": {
              "color": "white"
             }
            },
            "type": "table"
           }
          ]
         },
         "layout": {
          "annotationdefaults": {
           "arrowcolor": "#2a3f5f",
           "arrowhead": 0,
           "arrowwidth": 1
          },
          "autotypenumbers": "strict",
          "coloraxis": {
           "colorbar": {
            "outlinewidth": 0,
            "ticks": ""
           }
          },
          "colorscale": {
           "diverging": [
            [
             0,
             "#8e0152"
            ],
            [
             0.1,
             "#c51b7d"
            ],
            [
             0.2,
             "#de77ae"
            ],
            [
             0.3,
             "#f1b6da"
            ],
            [
             0.4,
             "#fde0ef"
            ],
            [
             0.5,
             "#f7f7f7"
            ],
            [
             0.6,
             "#e6f5d0"
            ],
            [
             0.7,
             "#b8e186"
            ],
            [
             0.8,
             "#7fbc41"
            ],
            [
             0.9,
             "#4d9221"
            ],
            [
             1,
             "#276419"
            ]
           ],
           "sequential": [
            [
             0,
             "#0d0887"
            ],
            [
             0.1111111111111111,
             "#46039f"
            ],
            [
             0.2222222222222222,
             "#7201a8"
            ],
            [
             0.3333333333333333,
             "#9c179e"
            ],
            [
             0.4444444444444444,
             "#bd3786"
            ],
            [
             0.5555555555555556,
             "#d8576b"
            ],
            [
             0.6666666666666666,
             "#ed7953"
            ],
            [
             0.7777777777777778,
             "#fb9f3a"
            ],
            [
             0.8888888888888888,
             "#fdca26"
            ],
            [
             1,
             "#f0f921"
            ]
           ],
           "sequentialminus": [
            [
             0,
             "#0d0887"
            ],
            [
             0.1111111111111111,
             "#46039f"
            ],
            [
             0.2222222222222222,
             "#7201a8"
            ],
            [
             0.3333333333333333,
             "#9c179e"
            ],
            [
             0.4444444444444444,
             "#bd3786"
            ],
            [
             0.5555555555555556,
             "#d8576b"
            ],
            [
             0.6666666666666666,
             "#ed7953"
            ],
            [
             0.7777777777777778,
             "#fb9f3a"
            ],
            [
             0.8888888888888888,
             "#fdca26"
            ],
            [
             1,
             "#f0f921"
            ]
           ]
          },
          "colorway": [
           "#636efa",
           "#EF553B",
           "#00cc96",
           "#ab63fa",
           "#FFA15A",
           "#19d3f3",
           "#FF6692",
           "#B6E880",
           "#FF97FF",
           "#FECB52"
          ],
          "font": {
           "color": "#2a3f5f"
          },
          "geo": {
           "bgcolor": "white",
           "lakecolor": "white",
           "landcolor": "#E5ECF6",
           "showlakes": true,
           "showland": true,
           "subunitcolor": "white"
          },
          "hoverlabel": {
           "align": "left"
          },
          "hovermode": "closest",
          "mapbox": {
           "style": "light"
          },
          "paper_bgcolor": "white",
          "plot_bgcolor": "#E5ECF6",
          "polar": {
           "angularaxis": {
            "gridcolor": "white",
            "linecolor": "white",
            "ticks": ""
           },
           "bgcolor": "#E5ECF6",
           "radialaxis": {
            "gridcolor": "white",
            "linecolor": "white",
            "ticks": ""
           }
          },
          "scene": {
           "xaxis": {
            "backgroundcolor": "#E5ECF6",
            "gridcolor": "white",
            "gridwidth": 2,
            "linecolor": "white",
            "showbackground": true,
            "ticks": "",
            "zerolinecolor": "white"
           },
           "yaxis": {
            "backgroundcolor": "#E5ECF6",
            "gridcolor": "white",
            "gridwidth": 2,
            "linecolor": "white",
            "showbackground": true,
            "ticks": "",
            "zerolinecolor": "white"
           },
           "zaxis": {
            "backgroundcolor": "#E5ECF6",
            "gridcolor": "white",
            "gridwidth": 2,
            "linecolor": "white",
            "showbackground": true,
            "ticks": "",
            "zerolinecolor": "white"
           }
          },
          "shapedefaults": {
           "line": {
            "color": "#2a3f5f"
           }
          },
          "ternary": {
           "aaxis": {
            "gridcolor": "white",
            "linecolor": "white",
            "ticks": ""
           },
           "baxis": {
            "gridcolor": "white",
            "linecolor": "white",
            "ticks": ""
           },
           "bgcolor": "#E5ECF6",
           "caxis": {
            "gridcolor": "white",
            "linecolor": "white",
            "ticks": ""
           }
          },
          "title": {
           "x": 0.05
          },
          "xaxis": {
           "automargin": true,
           "gridcolor": "white",
           "linecolor": "white",
           "ticks": "",
           "title": {
            "standoff": 15
           },
           "zerolinecolor": "white",
           "zerolinewidth": 2
          },
          "yaxis": {
           "automargin": true,
           "gridcolor": "white",
           "linecolor": "white",
           "ticks": "",
           "title": {
            "standoff": 15
           },
           "zerolinecolor": "white",
           "zerolinewidth": 2
          }
         }
        },
        "title": {
         "font": {
          "color": "#4D5663"
         }
        },
        "xaxis": {
         "gridcolor": "#E1E5ED",
         "showgrid": true,
         "tickfont": {
          "color": "#4D5663"
         },
         "title": {
          "font": {
           "color": "#4D5663"
          },
          "text": ""
         },
         "zerolinecolor": "#E1E5ED"
        },
        "xaxis2": {
         "anchor": "y2",
         "gridcolor": "#E1E5ED",
         "showgrid": true,
         "showticklabels": false,
         "tickfont": {
          "color": "#4D5663"
         },
         "title": {
          "font": {
           "color": "#4D5663"
          },
          "text": ""
         },
         "zerolinecolor": "#E1E5ED"
        },
        "yaxis": {
         "domain": [
          0.3,
          1
         ],
         "gridcolor": "#E1E5ED",
         "showgrid": true,
         "tickfont": {
          "color": "#4D5663"
         },
         "title": {
          "font": {
           "color": "#4D5663"
          },
          "text": ""
         },
         "zerolinecolor": "#E1E5ED"
        },
        "yaxis2": {
         "domain": [
          0,
          0.25
         ],
         "gridcolor": "#E1E5ED",
         "showgrid": true,
         "tickfont": {
          "color": "#4D5663"
         },
         "title": {
          "font": {
           "color": "#4D5663"
          },
          "text": "Spread"
         },
         "zerolinecolor": "#E1E5ED"
        }
       }
      },
      "text/html": [
       "<div>                            <div id=\"b0f621bf-a0fc-4905-840a-bac83170b5bb\" class=\"plotly-graph-div\" style=\"height:525px; width:100%;\"></div>            <script type=\"text/javascript\">                require([\"plotly\"], function(Plotly) {                    window.PLOTLYENV=window.PLOTLYENV || {};\n",
       "                    window.PLOTLYENV.BASE_URL='https://plot.ly';                                    if (document.getElementById(\"b0f621bf-a0fc-4905-840a-bac83170b5bb\")) {                    Plotly.newPlot(                        \"b0f621bf-a0fc-4905-840a-bac83170b5bb\",                        [{\"line\": {\"color\": \"rgba(255, 153, 51, 1.0)\", \"dash\": \"solid\", \"shape\": \"linear\", \"width\": 1.3}, \"mode\": \"lines\", \"name\": \"A\", \"text\": \"\", \"type\": \"scatter\", \"x\": [0, 1, 2, 3, 4, 5, 6, 7, 8, 9, 10, 11, 12, 13, 14, 15, 16, 17, 18, 19, 20, 21, 22, 23, 24, 25, 26, 27, 28, 29, 30, 31, 32, 33, 34, 35, 36, 37, 38, 39, 40, 41, 42, 43, 44, 45, 46, 47, 48, 49, 50, 51, 52, 53, 54, 55, 56, 57, 58, 59, 60, 61, 62, 63, 64, 65, 66, 67, 68, 69, 70, 71, 72, 73, 74, 75, 76, 77, 78, 79, 80, 81, 82, 83, 84, 85, 86, 87, 88, 89, 90, 91, 92, 93, 94, 95, 96, 97, 98, 99], \"y\": [-0.1601183780470847, 0.15940940597672718, -0.8691414452109293, 2.1010276114389423, 0.17164077472576567, -0.3615969648072336, -1.4329312503554597, 1.0348622009763033, -0.9530959678937821, -1.949144277250312, -0.653801018600976, -1.0586602896818622, 0.28861617739230505, 1.6481156904717285, 0.5021988384451932, 0.7419461664678879, 0.17745499512664956, -0.38325620812446526, 0.12849351472190346, 0.15024354836000892, -1.9046735986048597, 0.06729564255980032, 1.3114167690497167, 0.6532864418010814, 0.7736641644900281, 0.9710332051307252, -1.2950688683078926, -0.2330559856021781, -0.2506005785170448, 0.8746518298457197, 0.49012434927847653, 1.952542960328725, 1.422053288373496, -0.041017606165554964, -0.5696189873368337, 1.3796194148641876, -0.9684850941850984, -0.6867169752967174, 1.2175982302306936, -0.7950270858687128, -0.20268130839797435, -0.3166116775607073, 0.013265786411123252, 1.3609161101425622, 0.918899536952606, 0.8946799623180145, -0.32355619688753906, -0.26159337861282134, 1.7316425076849074, 0.18598089946101812, 0.5735137879874297, 0.5584074518494194, -0.39038838391341496, 0.9879393225390422, 2.5030105940459157, -0.48432032452495916, -0.41613166505421517, -1.3139722396678235, 0.22869715598900986, -0.5435803703335473, 2.487064416501825, -0.44198082209238426, -0.3539645120194969, 0.27099557207341957, 0.45250919764242253, -0.0576693407543129, -0.7573808849544862, -1.3875401356438606, 0.5770513485881394, 1.2340897966166007, 1.014934806523684, 0.1530954629770791, -1.0723060534055624, 1.085507498157262, 1.3346837122325887, -1.3698512217275174, -0.10433179640403041, -1.201928853898415, -0.30352824810029955, 0.33826194670927395, -0.7785433241744303, -0.14302780228701797, 0.6172268757774699, -1.5310619955784, -0.9632272022705074, 0.8562948380132994, -0.137384953960321, -0.9653087534475998, -0.4426437998567408, 0.5304095588563396, 1.4850884827390285, 0.1906684616642033, 0.246574144712053, -0.2369541408221221, 0.963784194598969, 0.44074100274933714, 0.546935093537091, -1.756855506983355, 1.8244298964505592, -1.4031423867604629]}, {\"line\": {\"color\": \"rgba(55, 128, 191, 1.0)\", \"dash\": \"solid\", \"shape\": \"linear\", \"width\": 1.3}, \"mode\": \"lines\", \"name\": \"B\", \"text\": \"\", \"type\": \"scatter\", \"x\": [0, 1, 2, 3, 4, 5, 6, 7, 8, 9, 10, 11, 12, 13, 14, 15, 16, 17, 18, 19, 20, 21, 22, 23, 24, 25, 26, 27, 28, 29, 30, 31, 32, 33, 34, 35, 36, 37, 38, 39, 40, 41, 42, 43, 44, 45, 46, 47, 48, 49, 50, 51, 52, 53, 54, 55, 56, 57, 58, 59, 60, 61, 62, 63, 64, 65, 66, 67, 68, 69, 70, 71, 72, 73, 74, 75, 76, 77, 78, 79, 80, 81, 82, 83, 84, 85, 86, 87, 88, 89, 90, 91, 92, 93, 94, 95, 96, 97, 98, 99], \"y\": [-0.2644633545863186, 1.5714302027771738, -0.022060694285092157, 0.44695975606255306, 1.6437621966592817, -2.1304958014639213, -0.34165423712052057, 0.7735034696623291, 0.4361167369817292, 0.38315007358375436, -0.13683266188575985, 0.2963414389906744, -2.1731658439592922, 0.20259417441792585, 0.09984009734314357, 0.691047349227367, 1.314807118205364, -0.521105250810098, -0.2822920873303137, -1.815604989842956, -1.0381784939062224, -1.540817803928697, 0.7999428656890234, -1.719359604418866, 1.2745453748761055, 1.504906159003659, -0.03548530175341141, -0.47520221229360315, -0.03341052408579652, 0.41606932003300406, -1.4669960816172585, 0.3399043588728614, -0.1322471972177475, 0.3885005500255243, -0.1296864888337782, 0.3725902163354231, -0.1681840505469514, -0.5380402156473689, -1.7400857956585742, 1.1274655014808161, -0.1642696740906239, 0.3284104283712735, 1.6754071912755992, 0.19180608461248194, 1.370769793189238, 1.7483301226382149, -0.25010508806739873, 0.13449895716815247, 0.4234980413886394, -0.6292563951712109, 2.2953199758200236, -0.17969684632277028, 1.2987890271027225, 0.4030094700678754, 0.08036747531795806, -0.08069390393910325, 1.9924420651500254, -0.2698486232006421, 0.9189127955439805, 1.4636227816733902, 0.938845731900176, 0.3774223763929635, -0.06039266365866485, 0.9786792112048589, 0.18303575909528905, 1.6213974948934198, -0.9011226730985576, 1.5550696967051754, -0.5287319696533463, -2.134382600497725, -2.4884498634990253, 0.9141044261447112, -1.0929243882156412, 0.33144393850878756, -0.11164949938320748, -0.3069432766632717, 1.1173680553813508, 0.26683988452577584, 2.572799719475098, 0.15916196813082964, 0.07842255156767423, -0.3913927786082702, -0.6787973075228827, -0.42382151492180364, -0.3450314270380239, -2.2701907481405805, -0.25405633676066053, -1.1065213219948289, -0.9709405991456087, -0.4193028156423804, -0.7262378201660576, 1.0725696136192406, -0.5523869569628342, 1.6427537695901733, 1.5568589945640556, 2.570984921845135, -0.36030875900544634, 0.26494896940570273, -1.3263649914452567, 0.3256623316086684]}, {\"connectgaps\": false, \"fill\": \"tozeroy\", \"line\": {\"color\": \"green\", \"dash\": \"solid\", \"shape\": \"linear\", \"width\": 0.5}, \"mode\": \"lines\", \"name\": \"Spread\", \"showlegend\": false, \"type\": \"scatter\", \"x\": [0, 1, 2, 3, 4, 5, 6, 7, 8, 9, 10, 11, 12, 13, 14, 15, 16, 17, 18, 19, 20, 21, 22, 23, 24, 25, 26, 27, 28, 29, 30, 31, 32, 33, 34, 35, 36, 37, 38, 39, 40, 41, 42, 43, 44, 45, 46, 47, 48, 49, 50, 51, 52, 53, 54, 55, 56, 57, 58, 59, 60, 61, 62, 63, 64, 65, 66, 67, 68, 69, 70, 71, 72, 73, 74, 75, 76, 77, 78, 79, 80, 81, 82, 83, 84, 85, 86, 87, 88, 89, 90, 91, 92, 93, 94, 95, 96, 97, 98, 99], \"xaxis\": \"x2\", \"y\": [0.10434497653923389, \"\", \"\", 1.6540678553763892, \"\", 1.7688988366566876, \"\", 0.26135873131397425, \"\", \"\", \"\", \"\", 2.4617820213515973, 1.4455215160538026, 0.4023587411020496, 0.05089881724052092, \"\", 0.1378490426856327, 0.41078560205221715, 1.965848538202965, \"\", 1.6081134464884974, 0.5114739033606933, 2.3726460462199475, \"\", \"\", \"\", 0.24214622669142505, \"\", 0.4585825098127156, 1.957120430895735, 1.6126386014558636, 1.5543004855912435, \"\", \"\", 1.0070291985287645, \"\", \"\", 2.957684025889268, \"\", \"\", \"\", \"\", 1.1691100255300801, \"\", \"\", \"\", \"\", 1.308144466296268, 0.815237294632229, \"\", 0.7381042981721897, \"\", 0.5849298524711668, 2.4226431187279576, \"\", \"\", \"\", \"\", \"\", 1.5482186846016492, \"\", \"\", \"\", 0.26947343854713346, \"\", 0.14374178814407146, \"\", 1.1057833182414858, 3.3684723971143256, 3.5033846700227094, \"\", 0.020618334810078798, 0.7540635596484746, 1.4463332116157963, \"\", \"\", \"\", \"\", 0.1790999785784443, \"\", 0.24836497632125223, 1.2960241833003527, \"\", \"\", 3.12648558615388, 0.11667138280033953, 0.14121256854722908, 0.5282967992888679, 0.9497123744987199, 2.211326302905086, \"\", 0.7989611016748872, \"\", \"\", \"\", 0.9072438525425374, \"\", 3.150794887895816, \"\"], \"yaxis\": \"y2\"}, {\"connectgaps\": false, \"fill\": \"tozeroy\", \"line\": {\"color\": \"red\", \"dash\": \"solid\", \"shape\": \"linear\", \"width\": 0.5}, \"mode\": \"lines\", \"name\": \"Spread\", \"showlegend\": false, \"type\": \"scatter\", \"x\": [0, 1, 2, 3, 4, 5, 6, 7, 8, 9, 10, 11, 12, 13, 14, 15, 16, 17, 18, 19, 20, 21, 22, 23, 24, 25, 26, 27, 28, 29, 30, 31, 32, 33, 34, 35, 36, 37, 38, 39, 40, 41, 42, 43, 44, 45, 46, 47, 48, 49, 50, 51, 52, 53, 54, 55, 56, 57, 58, 59, 60, 61, 62, 63, 64, 65, 66, 67, 68, 69, 70, 71, 72, 73, 74, 75, 76, 77, 78, 79, 80, 81, 82, 83, 84, 85, 86, 87, 88, 89, 90, 91, 92, 93, 94, 95, 96, 97, 98, 99], \"xaxis\": \"x2\", \"y\": [\"\", -1.4120207968004466, -0.8470807509258371, \"\", -1.4721214219335161, \"\", -1.0912770132349392, \"\", -1.3892127048755114, -2.3322943508340663, -0.5169683567152161, -1.3550017286725367, \"\", \"\", \"\", \"\", -1.1373521230787145, \"\", \"\", \"\", -0.8664951046986373, \"\", \"\", \"\", -0.5008812103860775, -0.5338729538729338, -1.2595835665544812, \"\", -0.21719005443124828, \"\", \"\", \"\", \"\", -0.42951815619107925, -0.4399324985030555, \"\", -0.800301043638147, -0.14867675964934846, \"\", -1.922492587349529, -0.03841163430735045, -0.6450221059319807, -1.662141404864476, \"\", -0.451870256236632, -0.8536501603202004, -0.07345110882014033, -0.3960923357809738, \"\", \"\", -1.7218061878325939, \"\", -1.6891774110161375, \"\", \"\", -0.4036264205858559, -2.4085737302042407, -1.0441236164671814, -0.6902156395549707, -2.0072031520069373, \"\", -0.8194031984853478, -0.29357184836083206, -0.7076836391314394, \"\", -1.6790668356477327, \"\", -2.942609832349036, \"\", \"\", \"\", -0.7610089631676321, \"\", \"\", \"\", -1.0629079450642456, -1.2216998517853812, -1.4687687384241908, -2.8763279675753974, \"\", -0.8569658757421045, \"\", \"\", -1.1072404806565963, -0.6181957752324835, \"\", \"\", \"\", \"\", \"\", \"\", -0.8819011519550374, \"\", -1.8797079104122953, -0.5930747999650866, -2.130243919095798, \"\", -2.0218044763890575, \"\", -1.7288047183691313], \"yaxis\": \"y2\"}],                        {\"hovermode\": \"x\", \"legend\": {\"bgcolor\": \"#F5F6F9\", \"font\": {\"color\": \"#4D5663\"}}, \"paper_bgcolor\": \"#F5F6F9\", \"plot_bgcolor\": \"#F5F6F9\", \"template\": {\"data\": {\"bar\": [{\"error_x\": {\"color\": \"#2a3f5f\"}, \"error_y\": {\"color\": \"#2a3f5f\"}, \"marker\": {\"line\": {\"color\": \"#E5ECF6\", \"width\": 0.5}}, \"type\": \"bar\"}], \"barpolar\": [{\"marker\": {\"line\": {\"color\": \"#E5ECF6\", \"width\": 0.5}}, \"type\": \"barpolar\"}], \"carpet\": [{\"aaxis\": {\"endlinecolor\": \"#2a3f5f\", \"gridcolor\": \"white\", \"linecolor\": \"white\", \"minorgridcolor\": \"white\", \"startlinecolor\": \"#2a3f5f\"}, \"baxis\": {\"endlinecolor\": \"#2a3f5f\", \"gridcolor\": \"white\", \"linecolor\": \"white\", \"minorgridcolor\": \"white\", \"startlinecolor\": \"#2a3f5f\"}, \"type\": \"carpet\"}], \"choropleth\": [{\"colorbar\": {\"outlinewidth\": 0, \"ticks\": \"\"}, \"type\": \"choropleth\"}], \"contour\": [{\"colorbar\": {\"outlinewidth\": 0, \"ticks\": \"\"}, \"colorscale\": [[0.0, \"#0d0887\"], [0.1111111111111111, \"#46039f\"], [0.2222222222222222, \"#7201a8\"], [0.3333333333333333, \"#9c179e\"], [0.4444444444444444, \"#bd3786\"], [0.5555555555555556, \"#d8576b\"], [0.6666666666666666, \"#ed7953\"], [0.7777777777777778, \"#fb9f3a\"], [0.8888888888888888, \"#fdca26\"], [1.0, \"#f0f921\"]], \"type\": \"contour\"}], \"contourcarpet\": [{\"colorbar\": {\"outlinewidth\": 0, \"ticks\": \"\"}, \"type\": \"contourcarpet\"}], \"heatmap\": [{\"colorbar\": {\"outlinewidth\": 0, \"ticks\": \"\"}, \"colorscale\": [[0.0, \"#0d0887\"], [0.1111111111111111, \"#46039f\"], [0.2222222222222222, \"#7201a8\"], [0.3333333333333333, \"#9c179e\"], [0.4444444444444444, \"#bd3786\"], [0.5555555555555556, \"#d8576b\"], [0.6666666666666666, \"#ed7953\"], [0.7777777777777778, \"#fb9f3a\"], [0.8888888888888888, \"#fdca26\"], [1.0, \"#f0f921\"]], \"type\": \"heatmap\"}], \"heatmapgl\": [{\"colorbar\": {\"outlinewidth\": 0, \"ticks\": \"\"}, \"colorscale\": [[0.0, \"#0d0887\"], [0.1111111111111111, \"#46039f\"], [0.2222222222222222, \"#7201a8\"], [0.3333333333333333, \"#9c179e\"], [0.4444444444444444, \"#bd3786\"], [0.5555555555555556, \"#d8576b\"], [0.6666666666666666, \"#ed7953\"], [0.7777777777777778, \"#fb9f3a\"], [0.8888888888888888, \"#fdca26\"], [1.0, \"#f0f921\"]], \"type\": \"heatmapgl\"}], \"histogram\": [{\"marker\": {\"colorbar\": {\"outlinewidth\": 0, \"ticks\": \"\"}}, \"type\": \"histogram\"}], \"histogram2d\": [{\"colorbar\": {\"outlinewidth\": 0, \"ticks\": \"\"}, \"colorscale\": [[0.0, \"#0d0887\"], [0.1111111111111111, \"#46039f\"], [0.2222222222222222, \"#7201a8\"], [0.3333333333333333, \"#9c179e\"], [0.4444444444444444, \"#bd3786\"], [0.5555555555555556, \"#d8576b\"], [0.6666666666666666, \"#ed7953\"], [0.7777777777777778, \"#fb9f3a\"], [0.8888888888888888, \"#fdca26\"], [1.0, \"#f0f921\"]], \"type\": \"histogram2d\"}], \"histogram2dcontour\": [{\"colorbar\": {\"outlinewidth\": 0, \"ticks\": \"\"}, \"colorscale\": [[0.0, \"#0d0887\"], [0.1111111111111111, \"#46039f\"], [0.2222222222222222, \"#7201a8\"], [0.3333333333333333, \"#9c179e\"], [0.4444444444444444, \"#bd3786\"], [0.5555555555555556, \"#d8576b\"], [0.6666666666666666, \"#ed7953\"], [0.7777777777777778, \"#fb9f3a\"], [0.8888888888888888, \"#fdca26\"], [1.0, \"#f0f921\"]], \"type\": \"histogram2dcontour\"}], \"mesh3d\": [{\"colorbar\": {\"outlinewidth\": 0, \"ticks\": \"\"}, \"type\": \"mesh3d\"}], \"parcoords\": [{\"line\": {\"colorbar\": {\"outlinewidth\": 0, \"ticks\": \"\"}}, \"type\": \"parcoords\"}], \"pie\": [{\"automargin\": true, \"type\": \"pie\"}], \"scatter\": [{\"marker\": {\"colorbar\": {\"outlinewidth\": 0, \"ticks\": \"\"}}, \"type\": \"scatter\"}], \"scatter3d\": [{\"line\": {\"colorbar\": {\"outlinewidth\": 0, \"ticks\": \"\"}}, \"marker\": {\"colorbar\": {\"outlinewidth\": 0, \"ticks\": \"\"}}, \"type\": \"scatter3d\"}], \"scattercarpet\": [{\"marker\": {\"colorbar\": {\"outlinewidth\": 0, \"ticks\": \"\"}}, \"type\": \"scattercarpet\"}], \"scattergeo\": [{\"marker\": {\"colorbar\": {\"outlinewidth\": 0, \"ticks\": \"\"}}, \"type\": \"scattergeo\"}], \"scattergl\": [{\"marker\": {\"colorbar\": {\"outlinewidth\": 0, \"ticks\": \"\"}}, \"type\": \"scattergl\"}], \"scattermapbox\": [{\"marker\": {\"colorbar\": {\"outlinewidth\": 0, \"ticks\": \"\"}}, \"type\": \"scattermapbox\"}], \"scatterpolar\": [{\"marker\": {\"colorbar\": {\"outlinewidth\": 0, \"ticks\": \"\"}}, \"type\": \"scatterpolar\"}], \"scatterpolargl\": [{\"marker\": {\"colorbar\": {\"outlinewidth\": 0, \"ticks\": \"\"}}, \"type\": \"scatterpolargl\"}], \"scatterternary\": [{\"marker\": {\"colorbar\": {\"outlinewidth\": 0, \"ticks\": \"\"}}, \"type\": \"scatterternary\"}], \"surface\": [{\"colorbar\": {\"outlinewidth\": 0, \"ticks\": \"\"}, \"colorscale\": [[0.0, \"#0d0887\"], [0.1111111111111111, \"#46039f\"], [0.2222222222222222, \"#7201a8\"], [0.3333333333333333, \"#9c179e\"], [0.4444444444444444, \"#bd3786\"], [0.5555555555555556, \"#d8576b\"], [0.6666666666666666, \"#ed7953\"], [0.7777777777777778, \"#fb9f3a\"], [0.8888888888888888, \"#fdca26\"], [1.0, \"#f0f921\"]], \"type\": \"surface\"}], \"table\": [{\"cells\": {\"fill\": {\"color\": \"#EBF0F8\"}, \"line\": {\"color\": \"white\"}}, \"header\": {\"fill\": {\"color\": \"#C8D4E3\"}, \"line\": {\"color\": \"white\"}}, \"type\": \"table\"}]}, \"layout\": {\"annotationdefaults\": {\"arrowcolor\": \"#2a3f5f\", \"arrowhead\": 0, \"arrowwidth\": 1}, \"autotypenumbers\": \"strict\", \"coloraxis\": {\"colorbar\": {\"outlinewidth\": 0, \"ticks\": \"\"}}, \"colorscale\": {\"diverging\": [[0, \"#8e0152\"], [0.1, \"#c51b7d\"], [0.2, \"#de77ae\"], [0.3, \"#f1b6da\"], [0.4, \"#fde0ef\"], [0.5, \"#f7f7f7\"], [0.6, \"#e6f5d0\"], [0.7, \"#b8e186\"], [0.8, \"#7fbc41\"], [0.9, \"#4d9221\"], [1, \"#276419\"]], \"sequential\": [[0.0, \"#0d0887\"], [0.1111111111111111, \"#46039f\"], [0.2222222222222222, \"#7201a8\"], [0.3333333333333333, \"#9c179e\"], [0.4444444444444444, \"#bd3786\"], [0.5555555555555556, \"#d8576b\"], [0.6666666666666666, \"#ed7953\"], [0.7777777777777778, \"#fb9f3a\"], [0.8888888888888888, \"#fdca26\"], [1.0, \"#f0f921\"]], \"sequentialminus\": [[0.0, \"#0d0887\"], [0.1111111111111111, \"#46039f\"], [0.2222222222222222, \"#7201a8\"], [0.3333333333333333, \"#9c179e\"], [0.4444444444444444, \"#bd3786\"], [0.5555555555555556, \"#d8576b\"], [0.6666666666666666, \"#ed7953\"], [0.7777777777777778, \"#fb9f3a\"], [0.8888888888888888, \"#fdca26\"], [1.0, \"#f0f921\"]]}, \"colorway\": [\"#636efa\", \"#EF553B\", \"#00cc96\", \"#ab63fa\", \"#FFA15A\", \"#19d3f3\", \"#FF6692\", \"#B6E880\", \"#FF97FF\", \"#FECB52\"], \"font\": {\"color\": \"#2a3f5f\"}, \"geo\": {\"bgcolor\": \"white\", \"lakecolor\": \"white\", \"landcolor\": \"#E5ECF6\", \"showlakes\": true, \"showland\": true, \"subunitcolor\": \"white\"}, \"hoverlabel\": {\"align\": \"left\"}, \"hovermode\": \"closest\", \"mapbox\": {\"style\": \"light\"}, \"paper_bgcolor\": \"white\", \"plot_bgcolor\": \"#E5ECF6\", \"polar\": {\"angularaxis\": {\"gridcolor\": \"white\", \"linecolor\": \"white\", \"ticks\": \"\"}, \"bgcolor\": \"#E5ECF6\", \"radialaxis\": {\"gridcolor\": \"white\", \"linecolor\": \"white\", \"ticks\": \"\"}}, \"scene\": {\"xaxis\": {\"backgroundcolor\": \"#E5ECF6\", \"gridcolor\": \"white\", \"gridwidth\": 2, \"linecolor\": \"white\", \"showbackground\": true, \"ticks\": \"\", \"zerolinecolor\": \"white\"}, \"yaxis\": {\"backgroundcolor\": \"#E5ECF6\", \"gridcolor\": \"white\", \"gridwidth\": 2, \"linecolor\": \"white\", \"showbackground\": true, \"ticks\": \"\", \"zerolinecolor\": \"white\"}, \"zaxis\": {\"backgroundcolor\": \"#E5ECF6\", \"gridcolor\": \"white\", \"gridwidth\": 2, \"linecolor\": \"white\", \"showbackground\": true, \"ticks\": \"\", \"zerolinecolor\": \"white\"}}, \"shapedefaults\": {\"line\": {\"color\": \"#2a3f5f\"}}, \"ternary\": {\"aaxis\": {\"gridcolor\": \"white\", \"linecolor\": \"white\", \"ticks\": \"\"}, \"baxis\": {\"gridcolor\": \"white\", \"linecolor\": \"white\", \"ticks\": \"\"}, \"bgcolor\": \"#E5ECF6\", \"caxis\": {\"gridcolor\": \"white\", \"linecolor\": \"white\", \"ticks\": \"\"}}, \"title\": {\"x\": 0.05}, \"xaxis\": {\"automargin\": true, \"gridcolor\": \"white\", \"linecolor\": \"white\", \"ticks\": \"\", \"title\": {\"standoff\": 15}, \"zerolinecolor\": \"white\", \"zerolinewidth\": 2}, \"yaxis\": {\"automargin\": true, \"gridcolor\": \"white\", \"linecolor\": \"white\", \"ticks\": \"\", \"title\": {\"standoff\": 15}, \"zerolinecolor\": \"white\", \"zerolinewidth\": 2}}}, \"title\": {\"font\": {\"color\": \"#4D5663\"}}, \"xaxis\": {\"gridcolor\": \"#E1E5ED\", \"showgrid\": true, \"tickfont\": {\"color\": \"#4D5663\"}, \"title\": {\"font\": {\"color\": \"#4D5663\"}, \"text\": \"\"}, \"zerolinecolor\": \"#E1E5ED\"}, \"xaxis2\": {\"anchor\": \"y2\", \"gridcolor\": \"#E1E5ED\", \"showgrid\": true, \"showticklabels\": false, \"tickfont\": {\"color\": \"#4D5663\"}, \"title\": {\"font\": {\"color\": \"#4D5663\"}, \"text\": \"\"}, \"zerolinecolor\": \"#E1E5ED\"}, \"yaxis\": {\"domain\": [0.3, 1], \"gridcolor\": \"#E1E5ED\", \"showgrid\": true, \"tickfont\": {\"color\": \"#4D5663\"}, \"title\": {\"font\": {\"color\": \"#4D5663\"}, \"text\": \"\"}, \"zerolinecolor\": \"#E1E5ED\"}, \"yaxis2\": {\"domain\": [0, 0.25], \"gridcolor\": \"#E1E5ED\", \"showgrid\": true, \"tickfont\": {\"color\": \"#4D5663\"}, \"title\": {\"font\": {\"color\": \"#4D5663\"}, \"text\": \"Spread\"}, \"zerolinecolor\": \"#E1E5ED\"}},                        {\"showLink\": true, \"linkText\": \"Export to plot.ly\", \"plotlyServerURL\": \"https://plot.ly\", \"responsive\": true}                    ).then(function(){\n",
       "                            \n",
       "var gd = document.getElementById('b0f621bf-a0fc-4905-840a-bac83170b5bb');\n",
       "var x = new MutationObserver(function (mutations, observer) {{\n",
       "        var display = window.getComputedStyle(gd).display;\n",
       "        if (!display || display === 'none') {{\n",
       "            console.log([gd, 'removed!']);\n",
       "            Plotly.purge(gd);\n",
       "            observer.disconnect();\n",
       "        }}\n",
       "}});\n",
       "\n",
       "// Listen for the removal of the full notebook cells\n",
       "var notebookContainer = gd.closest('#notebook-container');\n",
       "if (notebookContainer) {{\n",
       "    x.observe(notebookContainer, {childList: true});\n",
       "}}\n",
       "\n",
       "// Listen for the clearing of the current output cell\n",
       "var outputEl = gd.closest('.output');\n",
       "if (outputEl) {{\n",
       "    x.observe(outputEl, {childList: true});\n",
       "}}\n",
       "\n",
       "                        })                };                });            </script>        </div>"
      ]
     },
     "metadata": {},
     "output_type": "display_data"
    }
   ],
   "source": [
    "df[['A','B']].iplot(kind='spread')"
   ]
  },
  {
   "cell_type": "code",
   "execution_count": 40,
   "metadata": {},
   "outputs": [
    {
     "data": {
      "application/vnd.plotly.v1+json": {
       "config": {
        "linkText": "Export to plot.ly",
        "plotlyServerURL": "https://plot.ly",
        "showLink": true
       },
       "data": [
        {
         "marker": {
          "color": [
           "rgb(255, 153, 51)",
           "rgb(55, 128, 191)",
           "rgb(50, 171, 96)",
           "rgb(128, 0, 128)",
           "rgb(219, 64, 82)",
           "rgb(0, 128, 128)",
           "rgb(255, 255, 51)",
           "rgb(128, 128, 0)",
           "rgb(251, 128, 114)",
           "rgb(128, 177, 211)"
          ],
          "line": {
           "width": 1.3
          },
          "size": [
           63,
           62,
           76,
           64,
           73,
           51,
           77,
           110,
           67,
           46,
           107,
           68,
           72,
           73,
           50,
           80,
           32,
           52,
           16,
           100,
           97,
           46,
           55,
           101,
           76,
           37,
           61,
           103,
           63,
           49,
           16,
           72,
           63,
           64,
           80,
           80,
           69,
           42,
           87,
           45,
           58,
           65,
           37,
           55,
           29,
           63,
           72,
           65,
           58,
           71,
           40,
           66,
           57,
           75,
           80,
           66,
           67,
           57,
           69,
           59,
           64,
           84,
           51,
           112,
           97,
           107,
           29,
           27,
           43,
           59,
           32,
           58,
           92,
           46,
           68,
           63,
           13,
           43,
           54,
           66,
           76,
           68,
           68,
           72,
           84,
           47,
           12,
           78,
           58,
           99,
           81,
           60,
           77,
           104,
           68,
           77,
           72,
           45,
           96,
           83
          ],
          "symbol": "circle"
         },
         "mode": "markers",
         "text": "",
         "type": "scatter",
         "x": [
          -0.1601183780470847,
          0.15940940597672718,
          -0.8691414452109293,
          2.1010276114389423,
          0.17164077472576567,
          -0.3615969648072336,
          -1.4329312503554597,
          1.0348622009763033,
          -0.9530959678937821,
          -1.949144277250312,
          -0.653801018600976,
          -1.0586602896818622,
          0.28861617739230505,
          1.6481156904717285,
          0.5021988384451932,
          0.7419461664678879,
          0.17745499512664956,
          -0.38325620812446526,
          0.12849351472190346,
          0.15024354836000892,
          -1.9046735986048597,
          0.06729564255980032,
          1.3114167690497167,
          0.6532864418010814,
          0.7736641644900281,
          0.9710332051307252,
          -1.2950688683078926,
          -0.2330559856021781,
          -0.2506005785170448,
          0.8746518298457197,
          0.49012434927847653,
          1.952542960328725,
          1.422053288373496,
          -0.041017606165554964,
          -0.5696189873368337,
          1.3796194148641876,
          -0.9684850941850984,
          -0.6867169752967174,
          1.2175982302306936,
          -0.7950270858687128,
          -0.20268130839797435,
          -0.3166116775607073,
          0.013265786411123252,
          1.3609161101425622,
          0.918899536952606,
          0.8946799623180145,
          -0.32355619688753906,
          -0.26159337861282134,
          1.7316425076849074,
          0.18598089946101812,
          0.5735137879874297,
          0.5584074518494194,
          -0.39038838391341496,
          0.9879393225390422,
          2.5030105940459157,
          -0.48432032452495916,
          -0.41613166505421517,
          -1.3139722396678235,
          0.22869715598900986,
          -0.5435803703335473,
          2.487064416501825,
          -0.44198082209238426,
          -0.3539645120194969,
          0.27099557207341957,
          0.45250919764242253,
          -0.0576693407543129,
          -0.7573808849544862,
          -1.3875401356438606,
          0.5770513485881394,
          1.2340897966166007,
          1.014934806523684,
          0.1530954629770791,
          -1.0723060534055624,
          1.085507498157262,
          1.3346837122325887,
          -1.3698512217275174,
          -0.10433179640403041,
          -1.201928853898415,
          -0.30352824810029955,
          0.33826194670927395,
          -0.7785433241744303,
          -0.14302780228701797,
          0.6172268757774699,
          -1.5310619955784,
          -0.9632272022705074,
          0.8562948380132994,
          -0.137384953960321,
          -0.9653087534475998,
          -0.4426437998567408,
          0.5304095588563396,
          1.4850884827390285,
          0.1906684616642033,
          0.246574144712053,
          -0.2369541408221221,
          0.963784194598969,
          0.44074100274933714,
          0.546935093537091,
          -1.756855506983355,
          1.8244298964505592,
          -1.4031423867604629
         ],
         "y": [
          -0.2644633545863186,
          1.5714302027771738,
          -0.022060694285092157,
          0.44695975606255306,
          1.6437621966592817,
          -2.1304958014639213,
          -0.34165423712052057,
          0.7735034696623291,
          0.4361167369817292,
          0.38315007358375436,
          -0.13683266188575985,
          0.2963414389906744,
          -2.1731658439592922,
          0.20259417441792585,
          0.09984009734314357,
          0.691047349227367,
          1.314807118205364,
          -0.521105250810098,
          -0.2822920873303137,
          -1.815604989842956,
          -1.0381784939062224,
          -1.540817803928697,
          0.7999428656890234,
          -1.719359604418866,
          1.2745453748761055,
          1.504906159003659,
          -0.03548530175341141,
          -0.47520221229360315,
          -0.03341052408579652,
          0.41606932003300406,
          -1.4669960816172585,
          0.3399043588728614,
          -0.1322471972177475,
          0.3885005500255243,
          -0.1296864888337782,
          0.3725902163354231,
          -0.1681840505469514,
          -0.5380402156473689,
          -1.7400857956585742,
          1.1274655014808161,
          -0.1642696740906239,
          0.3284104283712735,
          1.6754071912755992,
          0.19180608461248194,
          1.370769793189238,
          1.7483301226382149,
          -0.25010508806739873,
          0.13449895716815247,
          0.4234980413886394,
          -0.6292563951712109,
          2.2953199758200236,
          -0.17969684632277028,
          1.2987890271027225,
          0.4030094700678754,
          0.08036747531795806,
          -0.08069390393910325,
          1.9924420651500254,
          -0.2698486232006421,
          0.9189127955439805,
          1.4636227816733902,
          0.938845731900176,
          0.3774223763929635,
          -0.06039266365866485,
          0.9786792112048589,
          0.18303575909528905,
          1.6213974948934198,
          -0.9011226730985576,
          1.5550696967051754,
          -0.5287319696533463,
          -2.134382600497725,
          -2.4884498634990253,
          0.9141044261447112,
          -1.0929243882156412,
          0.33144393850878756,
          -0.11164949938320748,
          -0.3069432766632717,
          1.1173680553813508,
          0.26683988452577584,
          2.572799719475098,
          0.15916196813082964,
          0.07842255156767423,
          -0.3913927786082702,
          -0.6787973075228827,
          -0.42382151492180364,
          -0.3450314270380239,
          -2.2701907481405805,
          -0.25405633676066053,
          -1.1065213219948289,
          -0.9709405991456087,
          -0.4193028156423804,
          -0.7262378201660576,
          1.0725696136192406,
          -0.5523869569628342,
          1.6427537695901733,
          1.5568589945640556,
          2.570984921845135,
          -0.36030875900544634,
          0.26494896940570273,
          -1.3263649914452567,
          0.3256623316086684
         ]
        }
       ],
       "layout": {
        "legend": {
         "bgcolor": "#F5F6F9",
         "font": {
          "color": "#4D5663"
         }
        },
        "paper_bgcolor": "#F5F6F9",
        "plot_bgcolor": "#F5F6F9",
        "template": {
         "data": {
          "bar": [
           {
            "error_x": {
             "color": "#2a3f5f"
            },
            "error_y": {
             "color": "#2a3f5f"
            },
            "marker": {
             "line": {
              "color": "#E5ECF6",
              "width": 0.5
             }
            },
            "type": "bar"
           }
          ],
          "barpolar": [
           {
            "marker": {
             "line": {
              "color": "#E5ECF6",
              "width": 0.5
             }
            },
            "type": "barpolar"
           }
          ],
          "carpet": [
           {
            "aaxis": {
             "endlinecolor": "#2a3f5f",
             "gridcolor": "white",
             "linecolor": "white",
             "minorgridcolor": "white",
             "startlinecolor": "#2a3f5f"
            },
            "baxis": {
             "endlinecolor": "#2a3f5f",
             "gridcolor": "white",
             "linecolor": "white",
             "minorgridcolor": "white",
             "startlinecolor": "#2a3f5f"
            },
            "type": "carpet"
           }
          ],
          "choropleth": [
           {
            "colorbar": {
             "outlinewidth": 0,
             "ticks": ""
            },
            "type": "choropleth"
           }
          ],
          "contour": [
           {
            "colorbar": {
             "outlinewidth": 0,
             "ticks": ""
            },
            "colorscale": [
             [
              0,
              "#0d0887"
             ],
             [
              0.1111111111111111,
              "#46039f"
             ],
             [
              0.2222222222222222,
              "#7201a8"
             ],
             [
              0.3333333333333333,
              "#9c179e"
             ],
             [
              0.4444444444444444,
              "#bd3786"
             ],
             [
              0.5555555555555556,
              "#d8576b"
             ],
             [
              0.6666666666666666,
              "#ed7953"
             ],
             [
              0.7777777777777778,
              "#fb9f3a"
             ],
             [
              0.8888888888888888,
              "#fdca26"
             ],
             [
              1,
              "#f0f921"
             ]
            ],
            "type": "contour"
           }
          ],
          "contourcarpet": [
           {
            "colorbar": {
             "outlinewidth": 0,
             "ticks": ""
            },
            "type": "contourcarpet"
           }
          ],
          "heatmap": [
           {
            "colorbar": {
             "outlinewidth": 0,
             "ticks": ""
            },
            "colorscale": [
             [
              0,
              "#0d0887"
             ],
             [
              0.1111111111111111,
              "#46039f"
             ],
             [
              0.2222222222222222,
              "#7201a8"
             ],
             [
              0.3333333333333333,
              "#9c179e"
             ],
             [
              0.4444444444444444,
              "#bd3786"
             ],
             [
              0.5555555555555556,
              "#d8576b"
             ],
             [
              0.6666666666666666,
              "#ed7953"
             ],
             [
              0.7777777777777778,
              "#fb9f3a"
             ],
             [
              0.8888888888888888,
              "#fdca26"
             ],
             [
              1,
              "#f0f921"
             ]
            ],
            "type": "heatmap"
           }
          ],
          "heatmapgl": [
           {
            "colorbar": {
             "outlinewidth": 0,
             "ticks": ""
            },
            "colorscale": [
             [
              0,
              "#0d0887"
             ],
             [
              0.1111111111111111,
              "#46039f"
             ],
             [
              0.2222222222222222,
              "#7201a8"
             ],
             [
              0.3333333333333333,
              "#9c179e"
             ],
             [
              0.4444444444444444,
              "#bd3786"
             ],
             [
              0.5555555555555556,
              "#d8576b"
             ],
             [
              0.6666666666666666,
              "#ed7953"
             ],
             [
              0.7777777777777778,
              "#fb9f3a"
             ],
             [
              0.8888888888888888,
              "#fdca26"
             ],
             [
              1,
              "#f0f921"
             ]
            ],
            "type": "heatmapgl"
           }
          ],
          "histogram": [
           {
            "marker": {
             "colorbar": {
              "outlinewidth": 0,
              "ticks": ""
             }
            },
            "type": "histogram"
           }
          ],
          "histogram2d": [
           {
            "colorbar": {
             "outlinewidth": 0,
             "ticks": ""
            },
            "colorscale": [
             [
              0,
              "#0d0887"
             ],
             [
              0.1111111111111111,
              "#46039f"
             ],
             [
              0.2222222222222222,
              "#7201a8"
             ],
             [
              0.3333333333333333,
              "#9c179e"
             ],
             [
              0.4444444444444444,
              "#bd3786"
             ],
             [
              0.5555555555555556,
              "#d8576b"
             ],
             [
              0.6666666666666666,
              "#ed7953"
             ],
             [
              0.7777777777777778,
              "#fb9f3a"
             ],
             [
              0.8888888888888888,
              "#fdca26"
             ],
             [
              1,
              "#f0f921"
             ]
            ],
            "type": "histogram2d"
           }
          ],
          "histogram2dcontour": [
           {
            "colorbar": {
             "outlinewidth": 0,
             "ticks": ""
            },
            "colorscale": [
             [
              0,
              "#0d0887"
             ],
             [
              0.1111111111111111,
              "#46039f"
             ],
             [
              0.2222222222222222,
              "#7201a8"
             ],
             [
              0.3333333333333333,
              "#9c179e"
             ],
             [
              0.4444444444444444,
              "#bd3786"
             ],
             [
              0.5555555555555556,
              "#d8576b"
             ],
             [
              0.6666666666666666,
              "#ed7953"
             ],
             [
              0.7777777777777778,
              "#fb9f3a"
             ],
             [
              0.8888888888888888,
              "#fdca26"
             ],
             [
              1,
              "#f0f921"
             ]
            ],
            "type": "histogram2dcontour"
           }
          ],
          "mesh3d": [
           {
            "colorbar": {
             "outlinewidth": 0,
             "ticks": ""
            },
            "type": "mesh3d"
           }
          ],
          "parcoords": [
           {
            "line": {
             "colorbar": {
              "outlinewidth": 0,
              "ticks": ""
             }
            },
            "type": "parcoords"
           }
          ],
          "pie": [
           {
            "automargin": true,
            "type": "pie"
           }
          ],
          "scatter": [
           {
            "marker": {
             "colorbar": {
              "outlinewidth": 0,
              "ticks": ""
             }
            },
            "type": "scatter"
           }
          ],
          "scatter3d": [
           {
            "line": {
             "colorbar": {
              "outlinewidth": 0,
              "ticks": ""
             }
            },
            "marker": {
             "colorbar": {
              "outlinewidth": 0,
              "ticks": ""
             }
            },
            "type": "scatter3d"
           }
          ],
          "scattercarpet": [
           {
            "marker": {
             "colorbar": {
              "outlinewidth": 0,
              "ticks": ""
             }
            },
            "type": "scattercarpet"
           }
          ],
          "scattergeo": [
           {
            "marker": {
             "colorbar": {
              "outlinewidth": 0,
              "ticks": ""
             }
            },
            "type": "scattergeo"
           }
          ],
          "scattergl": [
           {
            "marker": {
             "colorbar": {
              "outlinewidth": 0,
              "ticks": ""
             }
            },
            "type": "scattergl"
           }
          ],
          "scattermapbox": [
           {
            "marker": {
             "colorbar": {
              "outlinewidth": 0,
              "ticks": ""
             }
            },
            "type": "scattermapbox"
           }
          ],
          "scatterpolar": [
           {
            "marker": {
             "colorbar": {
              "outlinewidth": 0,
              "ticks": ""
             }
            },
            "type": "scatterpolar"
           }
          ],
          "scatterpolargl": [
           {
            "marker": {
             "colorbar": {
              "outlinewidth": 0,
              "ticks": ""
             }
            },
            "type": "scatterpolargl"
           }
          ],
          "scatterternary": [
           {
            "marker": {
             "colorbar": {
              "outlinewidth": 0,
              "ticks": ""
             }
            },
            "type": "scatterternary"
           }
          ],
          "surface": [
           {
            "colorbar": {
             "outlinewidth": 0,
             "ticks": ""
            },
            "colorscale": [
             [
              0,
              "#0d0887"
             ],
             [
              0.1111111111111111,
              "#46039f"
             ],
             [
              0.2222222222222222,
              "#7201a8"
             ],
             [
              0.3333333333333333,
              "#9c179e"
             ],
             [
              0.4444444444444444,
              "#bd3786"
             ],
             [
              0.5555555555555556,
              "#d8576b"
             ],
             [
              0.6666666666666666,
              "#ed7953"
             ],
             [
              0.7777777777777778,
              "#fb9f3a"
             ],
             [
              0.8888888888888888,
              "#fdca26"
             ],
             [
              1,
              "#f0f921"
             ]
            ],
            "type": "surface"
           }
          ],
          "table": [
           {
            "cells": {
             "fill": {
              "color": "#EBF0F8"
             },
             "line": {
              "color": "white"
             }
            },
            "header": {
             "fill": {
              "color": "#C8D4E3"
             },
             "line": {
              "color": "white"
             }
            },
            "type": "table"
           }
          ]
         },
         "layout": {
          "annotationdefaults": {
           "arrowcolor": "#2a3f5f",
           "arrowhead": 0,
           "arrowwidth": 1
          },
          "autotypenumbers": "strict",
          "coloraxis": {
           "colorbar": {
            "outlinewidth": 0,
            "ticks": ""
           }
          },
          "colorscale": {
           "diverging": [
            [
             0,
             "#8e0152"
            ],
            [
             0.1,
             "#c51b7d"
            ],
            [
             0.2,
             "#de77ae"
            ],
            [
             0.3,
             "#f1b6da"
            ],
            [
             0.4,
             "#fde0ef"
            ],
            [
             0.5,
             "#f7f7f7"
            ],
            [
             0.6,
             "#e6f5d0"
            ],
            [
             0.7,
             "#b8e186"
            ],
            [
             0.8,
             "#7fbc41"
            ],
            [
             0.9,
             "#4d9221"
            ],
            [
             1,
             "#276419"
            ]
           ],
           "sequential": [
            [
             0,
             "#0d0887"
            ],
            [
             0.1111111111111111,
             "#46039f"
            ],
            [
             0.2222222222222222,
             "#7201a8"
            ],
            [
             0.3333333333333333,
             "#9c179e"
            ],
            [
             0.4444444444444444,
             "#bd3786"
            ],
            [
             0.5555555555555556,
             "#d8576b"
            ],
            [
             0.6666666666666666,
             "#ed7953"
            ],
            [
             0.7777777777777778,
             "#fb9f3a"
            ],
            [
             0.8888888888888888,
             "#fdca26"
            ],
            [
             1,
             "#f0f921"
            ]
           ],
           "sequentialminus": [
            [
             0,
             "#0d0887"
            ],
            [
             0.1111111111111111,
             "#46039f"
            ],
            [
             0.2222222222222222,
             "#7201a8"
            ],
            [
             0.3333333333333333,
             "#9c179e"
            ],
            [
             0.4444444444444444,
             "#bd3786"
            ],
            [
             0.5555555555555556,
             "#d8576b"
            ],
            [
             0.6666666666666666,
             "#ed7953"
            ],
            [
             0.7777777777777778,
             "#fb9f3a"
            ],
            [
             0.8888888888888888,
             "#fdca26"
            ],
            [
             1,
             "#f0f921"
            ]
           ]
          },
          "colorway": [
           "#636efa",
           "#EF553B",
           "#00cc96",
           "#ab63fa",
           "#FFA15A",
           "#19d3f3",
           "#FF6692",
           "#B6E880",
           "#FF97FF",
           "#FECB52"
          ],
          "font": {
           "color": "#2a3f5f"
          },
          "geo": {
           "bgcolor": "white",
           "lakecolor": "white",
           "landcolor": "#E5ECF6",
           "showlakes": true,
           "showland": true,
           "subunitcolor": "white"
          },
          "hoverlabel": {
           "align": "left"
          },
          "hovermode": "closest",
          "mapbox": {
           "style": "light"
          },
          "paper_bgcolor": "white",
          "plot_bgcolor": "#E5ECF6",
          "polar": {
           "angularaxis": {
            "gridcolor": "white",
            "linecolor": "white",
            "ticks": ""
           },
           "bgcolor": "#E5ECF6",
           "radialaxis": {
            "gridcolor": "white",
            "linecolor": "white",
            "ticks": ""
           }
          },
          "scene": {
           "xaxis": {
            "backgroundcolor": "#E5ECF6",
            "gridcolor": "white",
            "gridwidth": 2,
            "linecolor": "white",
            "showbackground": true,
            "ticks": "",
            "zerolinecolor": "white"
           },
           "yaxis": {
            "backgroundcolor": "#E5ECF6",
            "gridcolor": "white",
            "gridwidth": 2,
            "linecolor": "white",
            "showbackground": true,
            "ticks": "",
            "zerolinecolor": "white"
           },
           "zaxis": {
            "backgroundcolor": "#E5ECF6",
            "gridcolor": "white",
            "gridwidth": 2,
            "linecolor": "white",
            "showbackground": true,
            "ticks": "",
            "zerolinecolor": "white"
           }
          },
          "shapedefaults": {
           "line": {
            "color": "#2a3f5f"
           }
          },
          "ternary": {
           "aaxis": {
            "gridcolor": "white",
            "linecolor": "white",
            "ticks": ""
           },
           "baxis": {
            "gridcolor": "white",
            "linecolor": "white",
            "ticks": ""
           },
           "bgcolor": "#E5ECF6",
           "caxis": {
            "gridcolor": "white",
            "linecolor": "white",
            "ticks": ""
           }
          },
          "title": {
           "x": 0.05
          },
          "xaxis": {
           "automargin": true,
           "gridcolor": "white",
           "linecolor": "white",
           "ticks": "",
           "title": {
            "standoff": 15
           },
           "zerolinecolor": "white",
           "zerolinewidth": 2
          },
          "yaxis": {
           "automargin": true,
           "gridcolor": "white",
           "linecolor": "white",
           "ticks": "",
           "title": {
            "standoff": 15
           },
           "zerolinecolor": "white",
           "zerolinewidth": 2
          }
         }
        },
        "title": {
         "font": {
          "color": "#4D5663"
         }
        },
        "xaxis": {
         "gridcolor": "#E1E5ED",
         "showgrid": true,
         "tickfont": {
          "color": "#4D5663"
         },
         "title": {
          "font": {
           "color": "#4D5663"
          },
          "text": ""
         },
         "zerolinecolor": "#E1E5ED"
        },
        "yaxis": {
         "gridcolor": "#E1E5ED",
         "showgrid": true,
         "tickfont": {
          "color": "#4D5663"
         },
         "title": {
          "font": {
           "color": "#4D5663"
          },
          "text": ""
         },
         "zerolinecolor": "#E1E5ED"
        }
       }
      },
      "text/html": [
       "<div>                            <div id=\"b7fd5357-7b7d-48ca-951f-c798e38c425b\" class=\"plotly-graph-div\" style=\"height:525px; width:100%;\"></div>            <script type=\"text/javascript\">                require([\"plotly\"], function(Plotly) {                    window.PLOTLYENV=window.PLOTLYENV || {};\n",
       "                    window.PLOTLYENV.BASE_URL='https://plot.ly';                                    if (document.getElementById(\"b7fd5357-7b7d-48ca-951f-c798e38c425b\")) {                    Plotly.newPlot(                        \"b7fd5357-7b7d-48ca-951f-c798e38c425b\",                        [{\"marker\": {\"color\": [\"rgb(255, 153, 51)\", \"rgb(55, 128, 191)\", \"rgb(50, 171, 96)\", \"rgb(128, 0, 128)\", \"rgb(219, 64, 82)\", \"rgb(0, 128, 128)\", \"rgb(255, 255, 51)\", \"rgb(128, 128, 0)\", \"rgb(251, 128, 114)\", \"rgb(128, 177, 211)\"], \"line\": {\"width\": 1.3}, \"size\": [63, 62, 76, 64, 73, 51, 77, 110, 67, 46, 107, 68, 72, 73, 50, 80, 32, 52, 16, 100, 97, 46, 55, 101, 76, 37, 61, 103, 63, 49, 16, 72, 63, 64, 80, 80, 69, 42, 87, 45, 58, 65, 37, 55, 29, 63, 72, 65, 58, 71, 40, 66, 57, 75, 80, 66, 67, 57, 69, 59, 64, 84, 51, 112, 97, 107, 29, 27, 43, 59, 32, 58, 92, 46, 68, 63, 13, 43, 54, 66, 76, 68, 68, 72, 84, 47, 12, 78, 58, 99, 81, 60, 77, 104, 68, 77, 72, 45, 96, 83], \"symbol\": \"circle\"}, \"mode\": \"markers\", \"text\": \"\", \"type\": \"scatter\", \"x\": [-0.1601183780470847, 0.15940940597672718, -0.8691414452109293, 2.1010276114389423, 0.17164077472576567, -0.3615969648072336, -1.4329312503554597, 1.0348622009763033, -0.9530959678937821, -1.949144277250312, -0.653801018600976, -1.0586602896818622, 0.28861617739230505, 1.6481156904717285, 0.5021988384451932, 0.7419461664678879, 0.17745499512664956, -0.38325620812446526, 0.12849351472190346, 0.15024354836000892, -1.9046735986048597, 0.06729564255980032, 1.3114167690497167, 0.6532864418010814, 0.7736641644900281, 0.9710332051307252, -1.2950688683078926, -0.2330559856021781, -0.2506005785170448, 0.8746518298457197, 0.49012434927847653, 1.952542960328725, 1.422053288373496, -0.041017606165554964, -0.5696189873368337, 1.3796194148641876, -0.9684850941850984, -0.6867169752967174, 1.2175982302306936, -0.7950270858687128, -0.20268130839797435, -0.3166116775607073, 0.013265786411123252, 1.3609161101425622, 0.918899536952606, 0.8946799623180145, -0.32355619688753906, -0.26159337861282134, 1.7316425076849074, 0.18598089946101812, 0.5735137879874297, 0.5584074518494194, -0.39038838391341496, 0.9879393225390422, 2.5030105940459157, -0.48432032452495916, -0.41613166505421517, -1.3139722396678235, 0.22869715598900986, -0.5435803703335473, 2.487064416501825, -0.44198082209238426, -0.3539645120194969, 0.27099557207341957, 0.45250919764242253, -0.0576693407543129, -0.7573808849544862, -1.3875401356438606, 0.5770513485881394, 1.2340897966166007, 1.014934806523684, 0.1530954629770791, -1.0723060534055624, 1.085507498157262, 1.3346837122325887, -1.3698512217275174, -0.10433179640403041, -1.201928853898415, -0.30352824810029955, 0.33826194670927395, -0.7785433241744303, -0.14302780228701797, 0.6172268757774699, -1.5310619955784, -0.9632272022705074, 0.8562948380132994, -0.137384953960321, -0.9653087534475998, -0.4426437998567408, 0.5304095588563396, 1.4850884827390285, 0.1906684616642033, 0.246574144712053, -0.2369541408221221, 0.963784194598969, 0.44074100274933714, 0.546935093537091, -1.756855506983355, 1.8244298964505592, -1.4031423867604629], \"y\": [-0.2644633545863186, 1.5714302027771738, -0.022060694285092157, 0.44695975606255306, 1.6437621966592817, -2.1304958014639213, -0.34165423712052057, 0.7735034696623291, 0.4361167369817292, 0.38315007358375436, -0.13683266188575985, 0.2963414389906744, -2.1731658439592922, 0.20259417441792585, 0.09984009734314357, 0.691047349227367, 1.314807118205364, -0.521105250810098, -0.2822920873303137, -1.815604989842956, -1.0381784939062224, -1.540817803928697, 0.7999428656890234, -1.719359604418866, 1.2745453748761055, 1.504906159003659, -0.03548530175341141, -0.47520221229360315, -0.03341052408579652, 0.41606932003300406, -1.4669960816172585, 0.3399043588728614, -0.1322471972177475, 0.3885005500255243, -0.1296864888337782, 0.3725902163354231, -0.1681840505469514, -0.5380402156473689, -1.7400857956585742, 1.1274655014808161, -0.1642696740906239, 0.3284104283712735, 1.6754071912755992, 0.19180608461248194, 1.370769793189238, 1.7483301226382149, -0.25010508806739873, 0.13449895716815247, 0.4234980413886394, -0.6292563951712109, 2.2953199758200236, -0.17969684632277028, 1.2987890271027225, 0.4030094700678754, 0.08036747531795806, -0.08069390393910325, 1.9924420651500254, -0.2698486232006421, 0.9189127955439805, 1.4636227816733902, 0.938845731900176, 0.3774223763929635, -0.06039266365866485, 0.9786792112048589, 0.18303575909528905, 1.6213974948934198, -0.9011226730985576, 1.5550696967051754, -0.5287319696533463, -2.134382600497725, -2.4884498634990253, 0.9141044261447112, -1.0929243882156412, 0.33144393850878756, -0.11164949938320748, -0.3069432766632717, 1.1173680553813508, 0.26683988452577584, 2.572799719475098, 0.15916196813082964, 0.07842255156767423, -0.3913927786082702, -0.6787973075228827, -0.42382151492180364, -0.3450314270380239, -2.2701907481405805, -0.25405633676066053, -1.1065213219948289, -0.9709405991456087, -0.4193028156423804, -0.7262378201660576, 1.0725696136192406, -0.5523869569628342, 1.6427537695901733, 1.5568589945640556, 2.570984921845135, -0.36030875900544634, 0.26494896940570273, -1.3263649914452567, 0.3256623316086684]}],                        {\"legend\": {\"bgcolor\": \"#F5F6F9\", \"font\": {\"color\": \"#4D5663\"}}, \"paper_bgcolor\": \"#F5F6F9\", \"plot_bgcolor\": \"#F5F6F9\", \"template\": {\"data\": {\"bar\": [{\"error_x\": {\"color\": \"#2a3f5f\"}, \"error_y\": {\"color\": \"#2a3f5f\"}, \"marker\": {\"line\": {\"color\": \"#E5ECF6\", \"width\": 0.5}}, \"type\": \"bar\"}], \"barpolar\": [{\"marker\": {\"line\": {\"color\": \"#E5ECF6\", \"width\": 0.5}}, \"type\": \"barpolar\"}], \"carpet\": [{\"aaxis\": {\"endlinecolor\": \"#2a3f5f\", \"gridcolor\": \"white\", \"linecolor\": \"white\", \"minorgridcolor\": \"white\", \"startlinecolor\": \"#2a3f5f\"}, \"baxis\": {\"endlinecolor\": \"#2a3f5f\", \"gridcolor\": \"white\", \"linecolor\": \"white\", \"minorgridcolor\": \"white\", \"startlinecolor\": \"#2a3f5f\"}, \"type\": \"carpet\"}], \"choropleth\": [{\"colorbar\": {\"outlinewidth\": 0, \"ticks\": \"\"}, \"type\": \"choropleth\"}], \"contour\": [{\"colorbar\": {\"outlinewidth\": 0, \"ticks\": \"\"}, \"colorscale\": [[0.0, \"#0d0887\"], [0.1111111111111111, \"#46039f\"], [0.2222222222222222, \"#7201a8\"], [0.3333333333333333, \"#9c179e\"], [0.4444444444444444, \"#bd3786\"], [0.5555555555555556, \"#d8576b\"], [0.6666666666666666, \"#ed7953\"], [0.7777777777777778, \"#fb9f3a\"], [0.8888888888888888, \"#fdca26\"], [1.0, \"#f0f921\"]], \"type\": \"contour\"}], \"contourcarpet\": [{\"colorbar\": {\"outlinewidth\": 0, \"ticks\": \"\"}, \"type\": \"contourcarpet\"}], \"heatmap\": [{\"colorbar\": {\"outlinewidth\": 0, \"ticks\": \"\"}, \"colorscale\": [[0.0, \"#0d0887\"], [0.1111111111111111, \"#46039f\"], [0.2222222222222222, \"#7201a8\"], [0.3333333333333333, \"#9c179e\"], [0.4444444444444444, \"#bd3786\"], [0.5555555555555556, \"#d8576b\"], [0.6666666666666666, \"#ed7953\"], [0.7777777777777778, \"#fb9f3a\"], [0.8888888888888888, \"#fdca26\"], [1.0, \"#f0f921\"]], \"type\": \"heatmap\"}], \"heatmapgl\": [{\"colorbar\": {\"outlinewidth\": 0, \"ticks\": \"\"}, \"colorscale\": [[0.0, \"#0d0887\"], [0.1111111111111111, \"#46039f\"], [0.2222222222222222, \"#7201a8\"], [0.3333333333333333, \"#9c179e\"], [0.4444444444444444, \"#bd3786\"], [0.5555555555555556, \"#d8576b\"], [0.6666666666666666, \"#ed7953\"], [0.7777777777777778, \"#fb9f3a\"], [0.8888888888888888, \"#fdca26\"], [1.0, \"#f0f921\"]], \"type\": \"heatmapgl\"}], \"histogram\": [{\"marker\": {\"colorbar\": {\"outlinewidth\": 0, \"ticks\": \"\"}}, \"type\": \"histogram\"}], \"histogram2d\": [{\"colorbar\": {\"outlinewidth\": 0, \"ticks\": \"\"}, \"colorscale\": [[0.0, \"#0d0887\"], [0.1111111111111111, \"#46039f\"], [0.2222222222222222, \"#7201a8\"], [0.3333333333333333, \"#9c179e\"], [0.4444444444444444, \"#bd3786\"], [0.5555555555555556, \"#d8576b\"], [0.6666666666666666, \"#ed7953\"], [0.7777777777777778, \"#fb9f3a\"], [0.8888888888888888, \"#fdca26\"], [1.0, \"#f0f921\"]], \"type\": \"histogram2d\"}], \"histogram2dcontour\": [{\"colorbar\": {\"outlinewidth\": 0, \"ticks\": \"\"}, \"colorscale\": [[0.0, \"#0d0887\"], [0.1111111111111111, \"#46039f\"], [0.2222222222222222, \"#7201a8\"], [0.3333333333333333, \"#9c179e\"], [0.4444444444444444, \"#bd3786\"], [0.5555555555555556, \"#d8576b\"], [0.6666666666666666, \"#ed7953\"], [0.7777777777777778, \"#fb9f3a\"], [0.8888888888888888, \"#fdca26\"], [1.0, \"#f0f921\"]], \"type\": \"histogram2dcontour\"}], \"mesh3d\": [{\"colorbar\": {\"outlinewidth\": 0, \"ticks\": \"\"}, \"type\": \"mesh3d\"}], \"parcoords\": [{\"line\": {\"colorbar\": {\"outlinewidth\": 0, \"ticks\": \"\"}}, \"type\": \"parcoords\"}], \"pie\": [{\"automargin\": true, \"type\": \"pie\"}], \"scatter\": [{\"marker\": {\"colorbar\": {\"outlinewidth\": 0, \"ticks\": \"\"}}, \"type\": \"scatter\"}], \"scatter3d\": [{\"line\": {\"colorbar\": {\"outlinewidth\": 0, \"ticks\": \"\"}}, \"marker\": {\"colorbar\": {\"outlinewidth\": 0, \"ticks\": \"\"}}, \"type\": \"scatter3d\"}], \"scattercarpet\": [{\"marker\": {\"colorbar\": {\"outlinewidth\": 0, \"ticks\": \"\"}}, \"type\": \"scattercarpet\"}], \"scattergeo\": [{\"marker\": {\"colorbar\": {\"outlinewidth\": 0, \"ticks\": \"\"}}, \"type\": \"scattergeo\"}], \"scattergl\": [{\"marker\": {\"colorbar\": {\"outlinewidth\": 0, \"ticks\": \"\"}}, \"type\": \"scattergl\"}], \"scattermapbox\": [{\"marker\": {\"colorbar\": {\"outlinewidth\": 0, \"ticks\": \"\"}}, \"type\": \"scattermapbox\"}], \"scatterpolar\": [{\"marker\": {\"colorbar\": {\"outlinewidth\": 0, \"ticks\": \"\"}}, \"type\": \"scatterpolar\"}], \"scatterpolargl\": [{\"marker\": {\"colorbar\": {\"outlinewidth\": 0, \"ticks\": \"\"}}, \"type\": \"scatterpolargl\"}], \"scatterternary\": [{\"marker\": {\"colorbar\": {\"outlinewidth\": 0, \"ticks\": \"\"}}, \"type\": \"scatterternary\"}], \"surface\": [{\"colorbar\": {\"outlinewidth\": 0, \"ticks\": \"\"}, \"colorscale\": [[0.0, \"#0d0887\"], [0.1111111111111111, \"#46039f\"], [0.2222222222222222, \"#7201a8\"], [0.3333333333333333, \"#9c179e\"], [0.4444444444444444, \"#bd3786\"], [0.5555555555555556, \"#d8576b\"], [0.6666666666666666, \"#ed7953\"], [0.7777777777777778, \"#fb9f3a\"], [0.8888888888888888, \"#fdca26\"], [1.0, \"#f0f921\"]], \"type\": \"surface\"}], \"table\": [{\"cells\": {\"fill\": {\"color\": \"#EBF0F8\"}, \"line\": {\"color\": \"white\"}}, \"header\": {\"fill\": {\"color\": \"#C8D4E3\"}, \"line\": {\"color\": \"white\"}}, \"type\": \"table\"}]}, \"layout\": {\"annotationdefaults\": {\"arrowcolor\": \"#2a3f5f\", \"arrowhead\": 0, \"arrowwidth\": 1}, \"autotypenumbers\": \"strict\", \"coloraxis\": {\"colorbar\": {\"outlinewidth\": 0, \"ticks\": \"\"}}, \"colorscale\": {\"diverging\": [[0, \"#8e0152\"], [0.1, \"#c51b7d\"], [0.2, \"#de77ae\"], [0.3, \"#f1b6da\"], [0.4, \"#fde0ef\"], [0.5, \"#f7f7f7\"], [0.6, \"#e6f5d0\"], [0.7, \"#b8e186\"], [0.8, \"#7fbc41\"], [0.9, \"#4d9221\"], [1, \"#276419\"]], \"sequential\": [[0.0, \"#0d0887\"], [0.1111111111111111, \"#46039f\"], [0.2222222222222222, \"#7201a8\"], [0.3333333333333333, \"#9c179e\"], [0.4444444444444444, \"#bd3786\"], [0.5555555555555556, \"#d8576b\"], [0.6666666666666666, \"#ed7953\"], [0.7777777777777778, \"#fb9f3a\"], [0.8888888888888888, \"#fdca26\"], [1.0, \"#f0f921\"]], \"sequentialminus\": [[0.0, \"#0d0887\"], [0.1111111111111111, \"#46039f\"], [0.2222222222222222, \"#7201a8\"], [0.3333333333333333, \"#9c179e\"], [0.4444444444444444, \"#bd3786\"], [0.5555555555555556, \"#d8576b\"], [0.6666666666666666, \"#ed7953\"], [0.7777777777777778, \"#fb9f3a\"], [0.8888888888888888, \"#fdca26\"], [1.0, \"#f0f921\"]]}, \"colorway\": [\"#636efa\", \"#EF553B\", \"#00cc96\", \"#ab63fa\", \"#FFA15A\", \"#19d3f3\", \"#FF6692\", \"#B6E880\", \"#FF97FF\", \"#FECB52\"], \"font\": {\"color\": \"#2a3f5f\"}, \"geo\": {\"bgcolor\": \"white\", \"lakecolor\": \"white\", \"landcolor\": \"#E5ECF6\", \"showlakes\": true, \"showland\": true, \"subunitcolor\": \"white\"}, \"hoverlabel\": {\"align\": \"left\"}, \"hovermode\": \"closest\", \"mapbox\": {\"style\": \"light\"}, \"paper_bgcolor\": \"white\", \"plot_bgcolor\": \"#E5ECF6\", \"polar\": {\"angularaxis\": {\"gridcolor\": \"white\", \"linecolor\": \"white\", \"ticks\": \"\"}, \"bgcolor\": \"#E5ECF6\", \"radialaxis\": {\"gridcolor\": \"white\", \"linecolor\": \"white\", \"ticks\": \"\"}}, \"scene\": {\"xaxis\": {\"backgroundcolor\": \"#E5ECF6\", \"gridcolor\": \"white\", \"gridwidth\": 2, \"linecolor\": \"white\", \"showbackground\": true, \"ticks\": \"\", \"zerolinecolor\": \"white\"}, \"yaxis\": {\"backgroundcolor\": \"#E5ECF6\", \"gridcolor\": \"white\", \"gridwidth\": 2, \"linecolor\": \"white\", \"showbackground\": true, \"ticks\": \"\", \"zerolinecolor\": \"white\"}, \"zaxis\": {\"backgroundcolor\": \"#E5ECF6\", \"gridcolor\": \"white\", \"gridwidth\": 2, \"linecolor\": \"white\", \"showbackground\": true, \"ticks\": \"\", \"zerolinecolor\": \"white\"}}, \"shapedefaults\": {\"line\": {\"color\": \"#2a3f5f\"}}, \"ternary\": {\"aaxis\": {\"gridcolor\": \"white\", \"linecolor\": \"white\", \"ticks\": \"\"}, \"baxis\": {\"gridcolor\": \"white\", \"linecolor\": \"white\", \"ticks\": \"\"}, \"bgcolor\": \"#E5ECF6\", \"caxis\": {\"gridcolor\": \"white\", \"linecolor\": \"white\", \"ticks\": \"\"}}, \"title\": {\"x\": 0.05}, \"xaxis\": {\"automargin\": true, \"gridcolor\": \"white\", \"linecolor\": \"white\", \"ticks\": \"\", \"title\": {\"standoff\": 15}, \"zerolinecolor\": \"white\", \"zerolinewidth\": 2}, \"yaxis\": {\"automargin\": true, \"gridcolor\": \"white\", \"linecolor\": \"white\", \"ticks\": \"\", \"title\": {\"standoff\": 15}, \"zerolinecolor\": \"white\", \"zerolinewidth\": 2}}}, \"title\": {\"font\": {\"color\": \"#4D5663\"}}, \"xaxis\": {\"gridcolor\": \"#E1E5ED\", \"showgrid\": true, \"tickfont\": {\"color\": \"#4D5663\"}, \"title\": {\"font\": {\"color\": \"#4D5663\"}, \"text\": \"\"}, \"zerolinecolor\": \"#E1E5ED\"}, \"yaxis\": {\"gridcolor\": \"#E1E5ED\", \"showgrid\": true, \"tickfont\": {\"color\": \"#4D5663\"}, \"title\": {\"font\": {\"color\": \"#4D5663\"}, \"text\": \"\"}, \"zerolinecolor\": \"#E1E5ED\"}},                        {\"showLink\": true, \"linkText\": \"Export to plot.ly\", \"plotlyServerURL\": \"https://plot.ly\", \"responsive\": true}                    ).then(function(){\n",
       "                            \n",
       "var gd = document.getElementById('b7fd5357-7b7d-48ca-951f-c798e38c425b');\n",
       "var x = new MutationObserver(function (mutations, observer) {{\n",
       "        var display = window.getComputedStyle(gd).display;\n",
       "        if (!display || display === 'none') {{\n",
       "            console.log([gd, 'removed!']);\n",
       "            Plotly.purge(gd);\n",
       "            observer.disconnect();\n",
       "        }}\n",
       "}});\n",
       "\n",
       "// Listen for the removal of the full notebook cells\n",
       "var notebookContainer = gd.closest('#notebook-container');\n",
       "if (notebookContainer) {{\n",
       "    x.observe(notebookContainer, {childList: true});\n",
       "}}\n",
       "\n",
       "// Listen for the clearing of the current output cell\n",
       "var outputEl = gd.closest('.output');\n",
       "if (outputEl) {{\n",
       "    x.observe(outputEl, {childList: true});\n",
       "}}\n",
       "\n",
       "                        })                };                });            </script>        </div>"
      ]
     },
     "metadata": {},
     "output_type": "display_data"
    }
   ],
   "source": [
    "df.iplot(kind='bubble',x='A',y='B',size='C')"
   ]
  },
  {
   "cell_type": "code",
   "execution_count": 41,
   "metadata": {},
   "outputs": [
    {
     "data": {
      "application/vnd.plotly.v1+json": {
       "config": {
        "linkText": "Export to plot.ly",
        "plotlyServerURL": "https://plot.ly",
        "showLink": true
       },
       "data": [
        {
         "histfunc": "count",
         "histnorm": "",
         "marker": {
          "color": "rgba(255, 153, 51, 1.0)",
          "line": {
           "color": "#4D5663",
           "width": 1.3
          }
         },
         "name": "A",
         "nbinsx": 10,
         "opacity": 0.8,
         "orientation": "v",
         "type": "histogram",
         "x": [
          -0.1601183780470847,
          0.15940940597672718,
          -0.8691414452109293,
          2.1010276114389423,
          0.17164077472576567,
          -0.3615969648072336,
          -1.4329312503554597,
          1.0348622009763033,
          -0.9530959678937821,
          -1.949144277250312,
          -0.653801018600976,
          -1.0586602896818622,
          0.28861617739230505,
          1.6481156904717285,
          0.5021988384451932,
          0.7419461664678879,
          0.17745499512664956,
          -0.38325620812446526,
          0.12849351472190346,
          0.15024354836000892,
          -1.9046735986048597,
          0.06729564255980032,
          1.3114167690497167,
          0.6532864418010814,
          0.7736641644900281,
          0.9710332051307252,
          -1.2950688683078926,
          -0.2330559856021781,
          -0.2506005785170448,
          0.8746518298457197,
          0.49012434927847653,
          1.952542960328725,
          1.422053288373496,
          -0.041017606165554964,
          -0.5696189873368337,
          1.3796194148641876,
          -0.9684850941850984,
          -0.6867169752967174,
          1.2175982302306936,
          -0.7950270858687128,
          -0.20268130839797435,
          -0.3166116775607073,
          0.013265786411123252,
          1.3609161101425622,
          0.918899536952606,
          0.8946799623180145,
          -0.32355619688753906,
          -0.26159337861282134,
          1.7316425076849074,
          0.18598089946101812,
          0.5735137879874297,
          0.5584074518494194,
          -0.39038838391341496,
          0.9879393225390422,
          2.5030105940459157,
          -0.48432032452495916,
          -0.41613166505421517,
          -1.3139722396678235,
          0.22869715598900986,
          -0.5435803703335473,
          2.487064416501825,
          -0.44198082209238426,
          -0.3539645120194969,
          0.27099557207341957,
          0.45250919764242253,
          -0.0576693407543129,
          -0.7573808849544862,
          -1.3875401356438606,
          0.5770513485881394,
          1.2340897966166007,
          1.014934806523684,
          0.1530954629770791,
          -1.0723060534055624,
          1.085507498157262,
          1.3346837122325887,
          -1.3698512217275174,
          -0.10433179640403041,
          -1.201928853898415,
          -0.30352824810029955,
          0.33826194670927395,
          -0.7785433241744303,
          -0.14302780228701797,
          0.6172268757774699,
          -1.5310619955784,
          -0.9632272022705074,
          0.8562948380132994,
          -0.137384953960321,
          -0.9653087534475998,
          -0.4426437998567408,
          0.5304095588563396,
          1.4850884827390285,
          0.1906684616642033,
          0.246574144712053,
          -0.2369541408221221,
          0.963784194598969,
          0.44074100274933714,
          0.546935093537091,
          -1.756855506983355,
          1.8244298964505592,
          -1.4031423867604629
         ],
         "xaxis": "x",
         "yaxis": "y"
        },
        {
         "line": {
          "color": "rgba(128, 128, 128, 1.0)",
          "dash": "solid",
          "shape": "linear",
          "width": 1.3
         },
         "marker": {
          "size": 2,
          "symbol": "circle"
         },
         "mode": "markers",
         "name": "A",
         "text": "",
         "type": "scatter",
         "x": [
          -0.2644633545863186,
          1.5714302027771738,
          -0.022060694285092157,
          0.44695975606255306,
          1.6437621966592817,
          -2.1304958014639213,
          -0.34165423712052057,
          0.7735034696623291,
          0.4361167369817292,
          0.38315007358375436,
          -0.13683266188575985,
          0.2963414389906744,
          -2.1731658439592922,
          0.20259417441792585,
          0.09984009734314357,
          0.691047349227367,
          1.314807118205364,
          -0.521105250810098,
          -0.2822920873303137,
          -1.815604989842956,
          -1.0381784939062224,
          -1.540817803928697,
          0.7999428656890234,
          -1.719359604418866,
          1.2745453748761055,
          1.504906159003659,
          -0.03548530175341141,
          -0.47520221229360315,
          -0.03341052408579652,
          0.41606932003300406,
          -1.4669960816172585,
          0.3399043588728614,
          -0.1322471972177475,
          0.3885005500255243,
          -0.1296864888337782,
          0.3725902163354231,
          -0.1681840505469514,
          -0.5380402156473689,
          -1.7400857956585742,
          1.1274655014808161,
          -0.1642696740906239,
          0.3284104283712735,
          1.6754071912755992,
          0.19180608461248194,
          1.370769793189238,
          1.7483301226382149,
          -0.25010508806739873,
          0.13449895716815247,
          0.4234980413886394,
          -0.6292563951712109,
          2.2953199758200236,
          -0.17969684632277028,
          1.2987890271027225,
          0.4030094700678754,
          0.08036747531795806,
          -0.08069390393910325,
          1.9924420651500254,
          -0.2698486232006421,
          0.9189127955439805,
          1.4636227816733902,
          0.938845731900176,
          0.3774223763929635,
          -0.06039266365866485,
          0.9786792112048589,
          0.18303575909528905,
          1.6213974948934198,
          -0.9011226730985576,
          1.5550696967051754,
          -0.5287319696533463,
          -2.134382600497725,
          -2.4884498634990253,
          0.9141044261447112,
          -1.0929243882156412,
          0.33144393850878756,
          -0.11164949938320748,
          -0.3069432766632717,
          1.1173680553813508,
          0.26683988452577584,
          2.572799719475098,
          0.15916196813082964,
          0.07842255156767423,
          -0.3913927786082702,
          -0.6787973075228827,
          -0.42382151492180364,
          -0.3450314270380239,
          -2.2701907481405805,
          -0.25405633676066053,
          -1.1065213219948289,
          -0.9709405991456087,
          -0.4193028156423804,
          -0.7262378201660576,
          1.0725696136192406,
          -0.5523869569628342,
          1.6427537695901733,
          1.5568589945640556,
          2.570984921845135,
          -0.36030875900544634,
          0.26494896940570273,
          -1.3263649914452567,
          0.3256623316086684
         ],
         "xaxis": "x2",
         "y": [
          -0.1601183780470847,
          0.15940940597672718,
          -0.8691414452109293,
          2.1010276114389423,
          0.17164077472576567,
          -0.3615969648072336,
          -1.4329312503554597,
          1.0348622009763033,
          -0.9530959678937821,
          -1.949144277250312,
          -0.653801018600976,
          -1.0586602896818622,
          0.28861617739230505,
          1.6481156904717285,
          0.5021988384451932,
          0.7419461664678879,
          0.17745499512664956,
          -0.38325620812446526,
          0.12849351472190346,
          0.15024354836000892,
          -1.9046735986048597,
          0.06729564255980032,
          1.3114167690497167,
          0.6532864418010814,
          0.7736641644900281,
          0.9710332051307252,
          -1.2950688683078926,
          -0.2330559856021781,
          -0.2506005785170448,
          0.8746518298457197,
          0.49012434927847653,
          1.952542960328725,
          1.422053288373496,
          -0.041017606165554964,
          -0.5696189873368337,
          1.3796194148641876,
          -0.9684850941850984,
          -0.6867169752967174,
          1.2175982302306936,
          -0.7950270858687128,
          -0.20268130839797435,
          -0.3166116775607073,
          0.013265786411123252,
          1.3609161101425622,
          0.918899536952606,
          0.8946799623180145,
          -0.32355619688753906,
          -0.26159337861282134,
          1.7316425076849074,
          0.18598089946101812,
          0.5735137879874297,
          0.5584074518494194,
          -0.39038838391341496,
          0.9879393225390422,
          2.5030105940459157,
          -0.48432032452495916,
          -0.41613166505421517,
          -1.3139722396678235,
          0.22869715598900986,
          -0.5435803703335473,
          2.487064416501825,
          -0.44198082209238426,
          -0.3539645120194969,
          0.27099557207341957,
          0.45250919764242253,
          -0.0576693407543129,
          -0.7573808849544862,
          -1.3875401356438606,
          0.5770513485881394,
          1.2340897966166007,
          1.014934806523684,
          0.1530954629770791,
          -1.0723060534055624,
          1.085507498157262,
          1.3346837122325887,
          -1.3698512217275174,
          -0.10433179640403041,
          -1.201928853898415,
          -0.30352824810029955,
          0.33826194670927395,
          -0.7785433241744303,
          -0.14302780228701797,
          0.6172268757774699,
          -1.5310619955784,
          -0.9632272022705074,
          0.8562948380132994,
          -0.137384953960321,
          -0.9653087534475998,
          -0.4426437998567408,
          0.5304095588563396,
          1.4850884827390285,
          0.1906684616642033,
          0.246574144712053,
          -0.2369541408221221,
          0.963784194598969,
          0.44074100274933714,
          0.546935093537091,
          -1.756855506983355,
          1.8244298964505592,
          -1.4031423867604629
         ],
         "yaxis": "y2"
        },
        {
         "line": {
          "color": "rgba(128, 128, 128, 1.0)",
          "dash": "solid",
          "shape": "linear",
          "width": 1.3
         },
         "marker": {
          "size": 2,
          "symbol": "circle"
         },
         "mode": "markers",
         "name": "A",
         "text": "",
         "type": "scatter",
         "x": [
          -0.11348786453792516,
          -0.1311524782899683,
          0.506578319243623,
          -0.04641283626244963,
          0.392212467710873,
          -0.6553786708887571,
          0.5571977672878804,
          2.1052672448775063,
          0.10340710707386995,
          -0.8974770305577208,
          1.9384578639188583,
          0.15974699198145836,
          0.31680044214315034,
          0.3530189009363819,
          -0.6863570397708625,
          0.6748926487769098,
          -1.53963708500794,
          -0.6064150850079467,
          -2.285154574606842,
          1.6087609096634756,
          1.4703270008301461,
          -0.9055417363838063,
          -0.48767724288311354,
          1.6677638524446878,
          0.4953296083138165,
          -1.2837673697054308,
          -0.17466900588527673,
          1.7550914473984882,
          -0.08137639105933259,
          -0.7303431206142009,
          -2.2602950720275503,
          0.33518836539457775,
          -0.07526806056324023,
          -0.036577505440543064,
          0.710015868627727,
          0.6998353100073591,
          0.19950402567226277,
          -1.092821161366645,
          1.038682114597619,
          -0.943972451379481,
          -0.33186493395713546,
          0.009566765795468796,
          -1.3043815067990907,
          -0.47903710828837115,
          -1.681324460350031,
          -0.1004688071250641,
          0.34107993712471174,
          -0.02319459821086625,
          -0.3172287282686062,
          0.25571725829735864,
          -1.1537289156229074,
          0.04125732193811072,
          -0.37183401874919636,
          0.4800509318471511,
          0.6829947057833371,
          0.03647745140630001,
          0.08589699451217257,
          -0.3506312190885835,
          0.19439322728550584,
          -0.28144931640232496,
          -0.06229460813495941,
          0.860135991154396,
          -0.6336830074983791,
          2.1614194464065206,
          1.4886188417324488,
          1.948739186374998,
          -1.65932556580322,
          -1.7890236709376695,
          -1.024603199127202,
          -0.2839461673175258,
          -1.5504822872573811,
          -0.3173611535046725,
          1.2497166679966984,
          -0.8689612255158649,
          0.1308449392924964,
          -0.11046281885570239,
          -2.4373915395181656,
          -1.0245728612602316,
          -0.5055241101912172,
          0.056595626695443206,
          0.5176723372772564,
          0.15009361114403955,
          0.15658771344225464,
          0.33471699558951534,
          0.8813025543563201,
          -0.8391595392038008,
          -2.490208577476746,
          0.6042632646657747,
          -0.331476611827571,
          1.5813863192310202,
          0.7390671386615796,
          -0.23184846099447173,
          0.5662094173049512,
          1.827832646415857,
          0.15221010404191296,
          0.5398875261115618,
          0.30910642989010956,
          -0.9162187067758907,
          1.4429566269436902,
          0.8159551231165043
         ],
         "xaxis": "x3",
         "y": [
          -0.1601183780470847,
          0.15940940597672718,
          -0.8691414452109293,
          2.1010276114389423,
          0.17164077472576567,
          -0.3615969648072336,
          -1.4329312503554597,
          1.0348622009763033,
          -0.9530959678937821,
          -1.949144277250312,
          -0.653801018600976,
          -1.0586602896818622,
          0.28861617739230505,
          1.6481156904717285,
          0.5021988384451932,
          0.7419461664678879,
          0.17745499512664956,
          -0.38325620812446526,
          0.12849351472190346,
          0.15024354836000892,
          -1.9046735986048597,
          0.06729564255980032,
          1.3114167690497167,
          0.6532864418010814,
          0.7736641644900281,
          0.9710332051307252,
          -1.2950688683078926,
          -0.2330559856021781,
          -0.2506005785170448,
          0.8746518298457197,
          0.49012434927847653,
          1.952542960328725,
          1.422053288373496,
          -0.041017606165554964,
          -0.5696189873368337,
          1.3796194148641876,
          -0.9684850941850984,
          -0.6867169752967174,
          1.2175982302306936,
          -0.7950270858687128,
          -0.20268130839797435,
          -0.3166116775607073,
          0.013265786411123252,
          1.3609161101425622,
          0.918899536952606,
          0.8946799623180145,
          -0.32355619688753906,
          -0.26159337861282134,
          1.7316425076849074,
          0.18598089946101812,
          0.5735137879874297,
          0.5584074518494194,
          -0.39038838391341496,
          0.9879393225390422,
          2.5030105940459157,
          -0.48432032452495916,
          -0.41613166505421517,
          -1.3139722396678235,
          0.22869715598900986,
          -0.5435803703335473,
          2.487064416501825,
          -0.44198082209238426,
          -0.3539645120194969,
          0.27099557207341957,
          0.45250919764242253,
          -0.0576693407543129,
          -0.7573808849544862,
          -1.3875401356438606,
          0.5770513485881394,
          1.2340897966166007,
          1.014934806523684,
          0.1530954629770791,
          -1.0723060534055624,
          1.085507498157262,
          1.3346837122325887,
          -1.3698512217275174,
          -0.10433179640403041,
          -1.201928853898415,
          -0.30352824810029955,
          0.33826194670927395,
          -0.7785433241744303,
          -0.14302780228701797,
          0.6172268757774699,
          -1.5310619955784,
          -0.9632272022705074,
          0.8562948380132994,
          -0.137384953960321,
          -0.9653087534475998,
          -0.4426437998567408,
          0.5304095588563396,
          1.4850884827390285,
          0.1906684616642033,
          0.246574144712053,
          -0.2369541408221221,
          0.963784194598969,
          0.44074100274933714,
          0.546935093537091,
          -1.756855506983355,
          1.8244298964505592,
          -1.4031423867604629
         ],
         "yaxis": "y3"
        },
        {
         "line": {
          "color": "rgba(128, 128, 128, 1.0)",
          "dash": "solid",
          "shape": "linear",
          "width": 1.3
         },
         "marker": {
          "size": 2,
          "symbol": "circle"
         },
         "mode": "markers",
         "name": "A",
         "text": "",
         "type": "scatter",
         "x": [
          -0.3141047776814371,
          -0.8970192710960458,
          0.5736914479068228,
          -0.5206411120771636,
          0.16576510518810794,
          -0.5587118804610727,
          0.9878309483052345,
          0.5023609075433647,
          0.9745608398826814,
          0.16655342964635966,
          0.9788192259549774,
          -0.09074367425800649,
          1.5829907682035778,
          -0.764247292231081,
          0.17308183983488762,
          -0.24791312488305745,
          -0.6938234905748255,
          0.30415868202200325,
          -1.4573797696393782,
          -0.8029910175529617,
          -0.7457353564480751,
          3.0306751179427884,
          0.045915555843682884,
          1.196333482147036,
          1.2186397325655025,
          -0.2512862780510248,
          -0.5218023758906899,
          0.0006545154733645155,
          0.0882807793245977,
          0.08032544568298304,
          0.300452263420204,
          -0.7004037709231044,
          1.5959195349326478,
          -1.1456317403017728,
          -1.6090083148862744,
          -0.024979196647730097,
          -2.7855243796398645,
          0.19365146667022942,
          0.9458482394605472,
          -0.6450285898838843,
          -0.6619920977863117,
          -0.286079247403523,
          0.6729421552051487,
          -0.7424158022191921,
          0.15674906928135854,
          1.525833682709512,
          0.8354744054671075,
          -0.10945542092806206,
          -0.7903659987502104,
          2.252293455006751,
          1.0305338642195672,
          -2.143230338789938,
          0.3854367833308197,
          0.5065383599856818,
          0.012066202860070952,
          -1.4437774899649107,
          -0.6746762056654647,
          -0.19410968709492404,
          -1.147512403615673,
          0.33062408255489073,
          -0.28855419839694224,
          -1.3760381340868197,
          0.89767228673124,
          0.199628224052539,
          -0.8269461131144589,
          -2.0310134868416885,
          -1.311605317804653,
          1.0244985960728157,
          0.34724634350785616,
          0.8354198106887961,
          0.8379992652748512,
          0.2130903288179697,
          0.41486346653232337,
          -0.021864543671643935,
          -1.1005092230234894,
          -0.8906576571862331,
          -0.676797498832179,
          -0.35325718962322256,
          -0.08108079990629014,
          1.1853695718411121,
          0.30057746921104944,
          -0.40043517461693023,
          -1.5278058799076497,
          -0.8711964279517036,
          -1.5409210468656107,
          0.22816741726104836,
          -0.03255898174171499,
          0.026687251866059098,
          0.4294202743518761,
          0.3950280004384783,
          1.0450196729200016,
          -0.875516508014222,
          -0.4722584961793411,
          -0.5692715168213826,
          0.9682407212914111,
          0.08000451194139384,
          0.2782152013702495,
          0.24866085181437123,
          -1.005337704907483,
          1.490533209873795
         ],
         "xaxis": "x4",
         "y": [
          -0.1601183780470847,
          0.15940940597672718,
          -0.8691414452109293,
          2.1010276114389423,
          0.17164077472576567,
          -0.3615969648072336,
          -1.4329312503554597,
          1.0348622009763033,
          -0.9530959678937821,
          -1.949144277250312,
          -0.653801018600976,
          -1.0586602896818622,
          0.28861617739230505,
          1.6481156904717285,
          0.5021988384451932,
          0.7419461664678879,
          0.17745499512664956,
          -0.38325620812446526,
          0.12849351472190346,
          0.15024354836000892,
          -1.9046735986048597,
          0.06729564255980032,
          1.3114167690497167,
          0.6532864418010814,
          0.7736641644900281,
          0.9710332051307252,
          -1.2950688683078926,
          -0.2330559856021781,
          -0.2506005785170448,
          0.8746518298457197,
          0.49012434927847653,
          1.952542960328725,
          1.422053288373496,
          -0.041017606165554964,
          -0.5696189873368337,
          1.3796194148641876,
          -0.9684850941850984,
          -0.6867169752967174,
          1.2175982302306936,
          -0.7950270858687128,
          -0.20268130839797435,
          -0.3166116775607073,
          0.013265786411123252,
          1.3609161101425622,
          0.918899536952606,
          0.8946799623180145,
          -0.32355619688753906,
          -0.26159337861282134,
          1.7316425076849074,
          0.18598089946101812,
          0.5735137879874297,
          0.5584074518494194,
          -0.39038838391341496,
          0.9879393225390422,
          2.5030105940459157,
          -0.48432032452495916,
          -0.41613166505421517,
          -1.3139722396678235,
          0.22869715598900986,
          -0.5435803703335473,
          2.487064416501825,
          -0.44198082209238426,
          -0.3539645120194969,
          0.27099557207341957,
          0.45250919764242253,
          -0.0576693407543129,
          -0.7573808849544862,
          -1.3875401356438606,
          0.5770513485881394,
          1.2340897966166007,
          1.014934806523684,
          0.1530954629770791,
          -1.0723060534055624,
          1.085507498157262,
          1.3346837122325887,
          -1.3698512217275174,
          -0.10433179640403041,
          -1.201928853898415,
          -0.30352824810029955,
          0.33826194670927395,
          -0.7785433241744303,
          -0.14302780228701797,
          0.6172268757774699,
          -1.5310619955784,
          -0.9632272022705074,
          0.8562948380132994,
          -0.137384953960321,
          -0.9653087534475998,
          -0.4426437998567408,
          0.5304095588563396,
          1.4850884827390285,
          0.1906684616642033,
          0.246574144712053,
          -0.2369541408221221,
          0.963784194598969,
          0.44074100274933714,
          0.546935093537091,
          -1.756855506983355,
          1.8244298964505592,
          -1.4031423867604629
         ],
         "yaxis": "y4"
        },
        {
         "line": {
          "color": "rgba(128, 128, 128, 1.0)",
          "dash": "solid",
          "shape": "linear",
          "width": 1.3
         },
         "marker": {
          "size": 2,
          "symbol": "circle"
         },
         "mode": "markers",
         "name": "B",
         "text": "",
         "type": "scatter",
         "x": [
          -0.1601183780470847,
          0.15940940597672718,
          -0.8691414452109293,
          2.1010276114389423,
          0.17164077472576567,
          -0.3615969648072336,
          -1.4329312503554597,
          1.0348622009763033,
          -0.9530959678937821,
          -1.949144277250312,
          -0.653801018600976,
          -1.0586602896818622,
          0.28861617739230505,
          1.6481156904717285,
          0.5021988384451932,
          0.7419461664678879,
          0.17745499512664956,
          -0.38325620812446526,
          0.12849351472190346,
          0.15024354836000892,
          -1.9046735986048597,
          0.06729564255980032,
          1.3114167690497167,
          0.6532864418010814,
          0.7736641644900281,
          0.9710332051307252,
          -1.2950688683078926,
          -0.2330559856021781,
          -0.2506005785170448,
          0.8746518298457197,
          0.49012434927847653,
          1.952542960328725,
          1.422053288373496,
          -0.041017606165554964,
          -0.5696189873368337,
          1.3796194148641876,
          -0.9684850941850984,
          -0.6867169752967174,
          1.2175982302306936,
          -0.7950270858687128,
          -0.20268130839797435,
          -0.3166116775607073,
          0.013265786411123252,
          1.3609161101425622,
          0.918899536952606,
          0.8946799623180145,
          -0.32355619688753906,
          -0.26159337861282134,
          1.7316425076849074,
          0.18598089946101812,
          0.5735137879874297,
          0.5584074518494194,
          -0.39038838391341496,
          0.9879393225390422,
          2.5030105940459157,
          -0.48432032452495916,
          -0.41613166505421517,
          -1.3139722396678235,
          0.22869715598900986,
          -0.5435803703335473,
          2.487064416501825,
          -0.44198082209238426,
          -0.3539645120194969,
          0.27099557207341957,
          0.45250919764242253,
          -0.0576693407543129,
          -0.7573808849544862,
          -1.3875401356438606,
          0.5770513485881394,
          1.2340897966166007,
          1.014934806523684,
          0.1530954629770791,
          -1.0723060534055624,
          1.085507498157262,
          1.3346837122325887,
          -1.3698512217275174,
          -0.10433179640403041,
          -1.201928853898415,
          -0.30352824810029955,
          0.33826194670927395,
          -0.7785433241744303,
          -0.14302780228701797,
          0.6172268757774699,
          -1.5310619955784,
          -0.9632272022705074,
          0.8562948380132994,
          -0.137384953960321,
          -0.9653087534475998,
          -0.4426437998567408,
          0.5304095588563396,
          1.4850884827390285,
          0.1906684616642033,
          0.246574144712053,
          -0.2369541408221221,
          0.963784194598969,
          0.44074100274933714,
          0.546935093537091,
          -1.756855506983355,
          1.8244298964505592,
          -1.4031423867604629
         ],
         "xaxis": "x5",
         "y": [
          -0.2644633545863186,
          1.5714302027771738,
          -0.022060694285092157,
          0.44695975606255306,
          1.6437621966592817,
          -2.1304958014639213,
          -0.34165423712052057,
          0.7735034696623291,
          0.4361167369817292,
          0.38315007358375436,
          -0.13683266188575985,
          0.2963414389906744,
          -2.1731658439592922,
          0.20259417441792585,
          0.09984009734314357,
          0.691047349227367,
          1.314807118205364,
          -0.521105250810098,
          -0.2822920873303137,
          -1.815604989842956,
          -1.0381784939062224,
          -1.540817803928697,
          0.7999428656890234,
          -1.719359604418866,
          1.2745453748761055,
          1.504906159003659,
          -0.03548530175341141,
          -0.47520221229360315,
          -0.03341052408579652,
          0.41606932003300406,
          -1.4669960816172585,
          0.3399043588728614,
          -0.1322471972177475,
          0.3885005500255243,
          -0.1296864888337782,
          0.3725902163354231,
          -0.1681840505469514,
          -0.5380402156473689,
          -1.7400857956585742,
          1.1274655014808161,
          -0.1642696740906239,
          0.3284104283712735,
          1.6754071912755992,
          0.19180608461248194,
          1.370769793189238,
          1.7483301226382149,
          -0.25010508806739873,
          0.13449895716815247,
          0.4234980413886394,
          -0.6292563951712109,
          2.2953199758200236,
          -0.17969684632277028,
          1.2987890271027225,
          0.4030094700678754,
          0.08036747531795806,
          -0.08069390393910325,
          1.9924420651500254,
          -0.2698486232006421,
          0.9189127955439805,
          1.4636227816733902,
          0.938845731900176,
          0.3774223763929635,
          -0.06039266365866485,
          0.9786792112048589,
          0.18303575909528905,
          1.6213974948934198,
          -0.9011226730985576,
          1.5550696967051754,
          -0.5287319696533463,
          -2.134382600497725,
          -2.4884498634990253,
          0.9141044261447112,
          -1.0929243882156412,
          0.33144393850878756,
          -0.11164949938320748,
          -0.3069432766632717,
          1.1173680553813508,
          0.26683988452577584,
          2.572799719475098,
          0.15916196813082964,
          0.07842255156767423,
          -0.3913927786082702,
          -0.6787973075228827,
          -0.42382151492180364,
          -0.3450314270380239,
          -2.2701907481405805,
          -0.25405633676066053,
          -1.1065213219948289,
          -0.9709405991456087,
          -0.4193028156423804,
          -0.7262378201660576,
          1.0725696136192406,
          -0.5523869569628342,
          1.6427537695901733,
          1.5568589945640556,
          2.570984921845135,
          -0.36030875900544634,
          0.26494896940570273,
          -1.3263649914452567,
          0.3256623316086684
         ],
         "yaxis": "y5"
        },
        {
         "histfunc": "count",
         "histnorm": "",
         "marker": {
          "color": "rgba(55, 128, 191, 1.0)",
          "line": {
           "color": "#4D5663",
           "width": 1.3
          }
         },
         "name": "B",
         "nbinsx": 10,
         "opacity": 0.8,
         "orientation": "v",
         "type": "histogram",
         "x": [
          -0.2644633545863186,
          1.5714302027771738,
          -0.022060694285092157,
          0.44695975606255306,
          1.6437621966592817,
          -2.1304958014639213,
          -0.34165423712052057,
          0.7735034696623291,
          0.4361167369817292,
          0.38315007358375436,
          -0.13683266188575985,
          0.2963414389906744,
          -2.1731658439592922,
          0.20259417441792585,
          0.09984009734314357,
          0.691047349227367,
          1.314807118205364,
          -0.521105250810098,
          -0.2822920873303137,
          -1.815604989842956,
          -1.0381784939062224,
          -1.540817803928697,
          0.7999428656890234,
          -1.719359604418866,
          1.2745453748761055,
          1.504906159003659,
          -0.03548530175341141,
          -0.47520221229360315,
          -0.03341052408579652,
          0.41606932003300406,
          -1.4669960816172585,
          0.3399043588728614,
          -0.1322471972177475,
          0.3885005500255243,
          -0.1296864888337782,
          0.3725902163354231,
          -0.1681840505469514,
          -0.5380402156473689,
          -1.7400857956585742,
          1.1274655014808161,
          -0.1642696740906239,
          0.3284104283712735,
          1.6754071912755992,
          0.19180608461248194,
          1.370769793189238,
          1.7483301226382149,
          -0.25010508806739873,
          0.13449895716815247,
          0.4234980413886394,
          -0.6292563951712109,
          2.2953199758200236,
          -0.17969684632277028,
          1.2987890271027225,
          0.4030094700678754,
          0.08036747531795806,
          -0.08069390393910325,
          1.9924420651500254,
          -0.2698486232006421,
          0.9189127955439805,
          1.4636227816733902,
          0.938845731900176,
          0.3774223763929635,
          -0.06039266365866485,
          0.9786792112048589,
          0.18303575909528905,
          1.6213974948934198,
          -0.9011226730985576,
          1.5550696967051754,
          -0.5287319696533463,
          -2.134382600497725,
          -2.4884498634990253,
          0.9141044261447112,
          -1.0929243882156412,
          0.33144393850878756,
          -0.11164949938320748,
          -0.3069432766632717,
          1.1173680553813508,
          0.26683988452577584,
          2.572799719475098,
          0.15916196813082964,
          0.07842255156767423,
          -0.3913927786082702,
          -0.6787973075228827,
          -0.42382151492180364,
          -0.3450314270380239,
          -2.2701907481405805,
          -0.25405633676066053,
          -1.1065213219948289,
          -0.9709405991456087,
          -0.4193028156423804,
          -0.7262378201660576,
          1.0725696136192406,
          -0.5523869569628342,
          1.6427537695901733,
          1.5568589945640556,
          2.570984921845135,
          -0.36030875900544634,
          0.26494896940570273,
          -1.3263649914452567,
          0.3256623316086684
         ],
         "xaxis": "x6",
         "yaxis": "y6"
        },
        {
         "line": {
          "color": "rgba(128, 128, 128, 1.0)",
          "dash": "solid",
          "shape": "linear",
          "width": 1.3
         },
         "marker": {
          "size": 2,
          "symbol": "circle"
         },
         "mode": "markers",
         "name": "B",
         "text": "",
         "type": "scatter",
         "x": [
          -0.11348786453792516,
          -0.1311524782899683,
          0.506578319243623,
          -0.04641283626244963,
          0.392212467710873,
          -0.6553786708887571,
          0.5571977672878804,
          2.1052672448775063,
          0.10340710707386995,
          -0.8974770305577208,
          1.9384578639188583,
          0.15974699198145836,
          0.31680044214315034,
          0.3530189009363819,
          -0.6863570397708625,
          0.6748926487769098,
          -1.53963708500794,
          -0.6064150850079467,
          -2.285154574606842,
          1.6087609096634756,
          1.4703270008301461,
          -0.9055417363838063,
          -0.48767724288311354,
          1.6677638524446878,
          0.4953296083138165,
          -1.2837673697054308,
          -0.17466900588527673,
          1.7550914473984882,
          -0.08137639105933259,
          -0.7303431206142009,
          -2.2602950720275503,
          0.33518836539457775,
          -0.07526806056324023,
          -0.036577505440543064,
          0.710015868627727,
          0.6998353100073591,
          0.19950402567226277,
          -1.092821161366645,
          1.038682114597619,
          -0.943972451379481,
          -0.33186493395713546,
          0.009566765795468796,
          -1.3043815067990907,
          -0.47903710828837115,
          -1.681324460350031,
          -0.1004688071250641,
          0.34107993712471174,
          -0.02319459821086625,
          -0.3172287282686062,
          0.25571725829735864,
          -1.1537289156229074,
          0.04125732193811072,
          -0.37183401874919636,
          0.4800509318471511,
          0.6829947057833371,
          0.03647745140630001,
          0.08589699451217257,
          -0.3506312190885835,
          0.19439322728550584,
          -0.28144931640232496,
          -0.06229460813495941,
          0.860135991154396,
          -0.6336830074983791,
          2.1614194464065206,
          1.4886188417324488,
          1.948739186374998,
          -1.65932556580322,
          -1.7890236709376695,
          -1.024603199127202,
          -0.2839461673175258,
          -1.5504822872573811,
          -0.3173611535046725,
          1.2497166679966984,
          -0.8689612255158649,
          0.1308449392924964,
          -0.11046281885570239,
          -2.4373915395181656,
          -1.0245728612602316,
          -0.5055241101912172,
          0.056595626695443206,
          0.5176723372772564,
          0.15009361114403955,
          0.15658771344225464,
          0.33471699558951534,
          0.8813025543563201,
          -0.8391595392038008,
          -2.490208577476746,
          0.6042632646657747,
          -0.331476611827571,
          1.5813863192310202,
          0.7390671386615796,
          -0.23184846099447173,
          0.5662094173049512,
          1.827832646415857,
          0.15221010404191296,
          0.5398875261115618,
          0.30910642989010956,
          -0.9162187067758907,
          1.4429566269436902,
          0.8159551231165043
         ],
         "xaxis": "x7",
         "y": [
          -0.2644633545863186,
          1.5714302027771738,
          -0.022060694285092157,
          0.44695975606255306,
          1.6437621966592817,
          -2.1304958014639213,
          -0.34165423712052057,
          0.7735034696623291,
          0.4361167369817292,
          0.38315007358375436,
          -0.13683266188575985,
          0.2963414389906744,
          -2.1731658439592922,
          0.20259417441792585,
          0.09984009734314357,
          0.691047349227367,
          1.314807118205364,
          -0.521105250810098,
          -0.2822920873303137,
          -1.815604989842956,
          -1.0381784939062224,
          -1.540817803928697,
          0.7999428656890234,
          -1.719359604418866,
          1.2745453748761055,
          1.504906159003659,
          -0.03548530175341141,
          -0.47520221229360315,
          -0.03341052408579652,
          0.41606932003300406,
          -1.4669960816172585,
          0.3399043588728614,
          -0.1322471972177475,
          0.3885005500255243,
          -0.1296864888337782,
          0.3725902163354231,
          -0.1681840505469514,
          -0.5380402156473689,
          -1.7400857956585742,
          1.1274655014808161,
          -0.1642696740906239,
          0.3284104283712735,
          1.6754071912755992,
          0.19180608461248194,
          1.370769793189238,
          1.7483301226382149,
          -0.25010508806739873,
          0.13449895716815247,
          0.4234980413886394,
          -0.6292563951712109,
          2.2953199758200236,
          -0.17969684632277028,
          1.2987890271027225,
          0.4030094700678754,
          0.08036747531795806,
          -0.08069390393910325,
          1.9924420651500254,
          -0.2698486232006421,
          0.9189127955439805,
          1.4636227816733902,
          0.938845731900176,
          0.3774223763929635,
          -0.06039266365866485,
          0.9786792112048589,
          0.18303575909528905,
          1.6213974948934198,
          -0.9011226730985576,
          1.5550696967051754,
          -0.5287319696533463,
          -2.134382600497725,
          -2.4884498634990253,
          0.9141044261447112,
          -1.0929243882156412,
          0.33144393850878756,
          -0.11164949938320748,
          -0.3069432766632717,
          1.1173680553813508,
          0.26683988452577584,
          2.572799719475098,
          0.15916196813082964,
          0.07842255156767423,
          -0.3913927786082702,
          -0.6787973075228827,
          -0.42382151492180364,
          -0.3450314270380239,
          -2.2701907481405805,
          -0.25405633676066053,
          -1.1065213219948289,
          -0.9709405991456087,
          -0.4193028156423804,
          -0.7262378201660576,
          1.0725696136192406,
          -0.5523869569628342,
          1.6427537695901733,
          1.5568589945640556,
          2.570984921845135,
          -0.36030875900544634,
          0.26494896940570273,
          -1.3263649914452567,
          0.3256623316086684
         ],
         "yaxis": "y7"
        },
        {
         "line": {
          "color": "rgba(128, 128, 128, 1.0)",
          "dash": "solid",
          "shape": "linear",
          "width": 1.3
         },
         "marker": {
          "size": 2,
          "symbol": "circle"
         },
         "mode": "markers",
         "name": "B",
         "text": "",
         "type": "scatter",
         "x": [
          -0.3141047776814371,
          -0.8970192710960458,
          0.5736914479068228,
          -0.5206411120771636,
          0.16576510518810794,
          -0.5587118804610727,
          0.9878309483052345,
          0.5023609075433647,
          0.9745608398826814,
          0.16655342964635966,
          0.9788192259549774,
          -0.09074367425800649,
          1.5829907682035778,
          -0.764247292231081,
          0.17308183983488762,
          -0.24791312488305745,
          -0.6938234905748255,
          0.30415868202200325,
          -1.4573797696393782,
          -0.8029910175529617,
          -0.7457353564480751,
          3.0306751179427884,
          0.045915555843682884,
          1.196333482147036,
          1.2186397325655025,
          -0.2512862780510248,
          -0.5218023758906899,
          0.0006545154733645155,
          0.0882807793245977,
          0.08032544568298304,
          0.300452263420204,
          -0.7004037709231044,
          1.5959195349326478,
          -1.1456317403017728,
          -1.6090083148862744,
          -0.024979196647730097,
          -2.7855243796398645,
          0.19365146667022942,
          0.9458482394605472,
          -0.6450285898838843,
          -0.6619920977863117,
          -0.286079247403523,
          0.6729421552051487,
          -0.7424158022191921,
          0.15674906928135854,
          1.525833682709512,
          0.8354744054671075,
          -0.10945542092806206,
          -0.7903659987502104,
          2.252293455006751,
          1.0305338642195672,
          -2.143230338789938,
          0.3854367833308197,
          0.5065383599856818,
          0.012066202860070952,
          -1.4437774899649107,
          -0.6746762056654647,
          -0.19410968709492404,
          -1.147512403615673,
          0.33062408255489073,
          -0.28855419839694224,
          -1.3760381340868197,
          0.89767228673124,
          0.199628224052539,
          -0.8269461131144589,
          -2.0310134868416885,
          -1.311605317804653,
          1.0244985960728157,
          0.34724634350785616,
          0.8354198106887961,
          0.8379992652748512,
          0.2130903288179697,
          0.41486346653232337,
          -0.021864543671643935,
          -1.1005092230234894,
          -0.8906576571862331,
          -0.676797498832179,
          -0.35325718962322256,
          -0.08108079990629014,
          1.1853695718411121,
          0.30057746921104944,
          -0.40043517461693023,
          -1.5278058799076497,
          -0.8711964279517036,
          -1.5409210468656107,
          0.22816741726104836,
          -0.03255898174171499,
          0.026687251866059098,
          0.4294202743518761,
          0.3950280004384783,
          1.0450196729200016,
          -0.875516508014222,
          -0.4722584961793411,
          -0.5692715168213826,
          0.9682407212914111,
          0.08000451194139384,
          0.2782152013702495,
          0.24866085181437123,
          -1.005337704907483,
          1.490533209873795
         ],
         "xaxis": "x8",
         "y": [
          -0.2644633545863186,
          1.5714302027771738,
          -0.022060694285092157,
          0.44695975606255306,
          1.6437621966592817,
          -2.1304958014639213,
          -0.34165423712052057,
          0.7735034696623291,
          0.4361167369817292,
          0.38315007358375436,
          -0.13683266188575985,
          0.2963414389906744,
          -2.1731658439592922,
          0.20259417441792585,
          0.09984009734314357,
          0.691047349227367,
          1.314807118205364,
          -0.521105250810098,
          -0.2822920873303137,
          -1.815604989842956,
          -1.0381784939062224,
          -1.540817803928697,
          0.7999428656890234,
          -1.719359604418866,
          1.2745453748761055,
          1.504906159003659,
          -0.03548530175341141,
          -0.47520221229360315,
          -0.03341052408579652,
          0.41606932003300406,
          -1.4669960816172585,
          0.3399043588728614,
          -0.1322471972177475,
          0.3885005500255243,
          -0.1296864888337782,
          0.3725902163354231,
          -0.1681840505469514,
          -0.5380402156473689,
          -1.7400857956585742,
          1.1274655014808161,
          -0.1642696740906239,
          0.3284104283712735,
          1.6754071912755992,
          0.19180608461248194,
          1.370769793189238,
          1.7483301226382149,
          -0.25010508806739873,
          0.13449895716815247,
          0.4234980413886394,
          -0.6292563951712109,
          2.2953199758200236,
          -0.17969684632277028,
          1.2987890271027225,
          0.4030094700678754,
          0.08036747531795806,
          -0.08069390393910325,
          1.9924420651500254,
          -0.2698486232006421,
          0.9189127955439805,
          1.4636227816733902,
          0.938845731900176,
          0.3774223763929635,
          -0.06039266365866485,
          0.9786792112048589,
          0.18303575909528905,
          1.6213974948934198,
          -0.9011226730985576,
          1.5550696967051754,
          -0.5287319696533463,
          -2.134382600497725,
          -2.4884498634990253,
          0.9141044261447112,
          -1.0929243882156412,
          0.33144393850878756,
          -0.11164949938320748,
          -0.3069432766632717,
          1.1173680553813508,
          0.26683988452577584,
          2.572799719475098,
          0.15916196813082964,
          0.07842255156767423,
          -0.3913927786082702,
          -0.6787973075228827,
          -0.42382151492180364,
          -0.3450314270380239,
          -2.2701907481405805,
          -0.25405633676066053,
          -1.1065213219948289,
          -0.9709405991456087,
          -0.4193028156423804,
          -0.7262378201660576,
          1.0725696136192406,
          -0.5523869569628342,
          1.6427537695901733,
          1.5568589945640556,
          2.570984921845135,
          -0.36030875900544634,
          0.26494896940570273,
          -1.3263649914452567,
          0.3256623316086684
         ],
         "yaxis": "y8"
        },
        {
         "line": {
          "color": "rgba(128, 128, 128, 1.0)",
          "dash": "solid",
          "shape": "linear",
          "width": 1.3
         },
         "marker": {
          "size": 2,
          "symbol": "circle"
         },
         "mode": "markers",
         "name": "C",
         "text": "",
         "type": "scatter",
         "x": [
          -0.1601183780470847,
          0.15940940597672718,
          -0.8691414452109293,
          2.1010276114389423,
          0.17164077472576567,
          -0.3615969648072336,
          -1.4329312503554597,
          1.0348622009763033,
          -0.9530959678937821,
          -1.949144277250312,
          -0.653801018600976,
          -1.0586602896818622,
          0.28861617739230505,
          1.6481156904717285,
          0.5021988384451932,
          0.7419461664678879,
          0.17745499512664956,
          -0.38325620812446526,
          0.12849351472190346,
          0.15024354836000892,
          -1.9046735986048597,
          0.06729564255980032,
          1.3114167690497167,
          0.6532864418010814,
          0.7736641644900281,
          0.9710332051307252,
          -1.2950688683078926,
          -0.2330559856021781,
          -0.2506005785170448,
          0.8746518298457197,
          0.49012434927847653,
          1.952542960328725,
          1.422053288373496,
          -0.041017606165554964,
          -0.5696189873368337,
          1.3796194148641876,
          -0.9684850941850984,
          -0.6867169752967174,
          1.2175982302306936,
          -0.7950270858687128,
          -0.20268130839797435,
          -0.3166116775607073,
          0.013265786411123252,
          1.3609161101425622,
          0.918899536952606,
          0.8946799623180145,
          -0.32355619688753906,
          -0.26159337861282134,
          1.7316425076849074,
          0.18598089946101812,
          0.5735137879874297,
          0.5584074518494194,
          -0.39038838391341496,
          0.9879393225390422,
          2.5030105940459157,
          -0.48432032452495916,
          -0.41613166505421517,
          -1.3139722396678235,
          0.22869715598900986,
          -0.5435803703335473,
          2.487064416501825,
          -0.44198082209238426,
          -0.3539645120194969,
          0.27099557207341957,
          0.45250919764242253,
          -0.0576693407543129,
          -0.7573808849544862,
          -1.3875401356438606,
          0.5770513485881394,
          1.2340897966166007,
          1.014934806523684,
          0.1530954629770791,
          -1.0723060534055624,
          1.085507498157262,
          1.3346837122325887,
          -1.3698512217275174,
          -0.10433179640403041,
          -1.201928853898415,
          -0.30352824810029955,
          0.33826194670927395,
          -0.7785433241744303,
          -0.14302780228701797,
          0.6172268757774699,
          -1.5310619955784,
          -0.9632272022705074,
          0.8562948380132994,
          -0.137384953960321,
          -0.9653087534475998,
          -0.4426437998567408,
          0.5304095588563396,
          1.4850884827390285,
          0.1906684616642033,
          0.246574144712053,
          -0.2369541408221221,
          0.963784194598969,
          0.44074100274933714,
          0.546935093537091,
          -1.756855506983355,
          1.8244298964505592,
          -1.4031423867604629
         ],
         "xaxis": "x9",
         "y": [
          -0.11348786453792516,
          -0.1311524782899683,
          0.506578319243623,
          -0.04641283626244963,
          0.392212467710873,
          -0.6553786708887571,
          0.5571977672878804,
          2.1052672448775063,
          0.10340710707386995,
          -0.8974770305577208,
          1.9384578639188583,
          0.15974699198145836,
          0.31680044214315034,
          0.3530189009363819,
          -0.6863570397708625,
          0.6748926487769098,
          -1.53963708500794,
          -0.6064150850079467,
          -2.285154574606842,
          1.6087609096634756,
          1.4703270008301461,
          -0.9055417363838063,
          -0.48767724288311354,
          1.6677638524446878,
          0.4953296083138165,
          -1.2837673697054308,
          -0.17466900588527673,
          1.7550914473984882,
          -0.08137639105933259,
          -0.7303431206142009,
          -2.2602950720275503,
          0.33518836539457775,
          -0.07526806056324023,
          -0.036577505440543064,
          0.710015868627727,
          0.6998353100073591,
          0.19950402567226277,
          -1.092821161366645,
          1.038682114597619,
          -0.943972451379481,
          -0.33186493395713546,
          0.009566765795468796,
          -1.3043815067990907,
          -0.47903710828837115,
          -1.681324460350031,
          -0.1004688071250641,
          0.34107993712471174,
          -0.02319459821086625,
          -0.3172287282686062,
          0.25571725829735864,
          -1.1537289156229074,
          0.04125732193811072,
          -0.37183401874919636,
          0.4800509318471511,
          0.6829947057833371,
          0.03647745140630001,
          0.08589699451217257,
          -0.3506312190885835,
          0.19439322728550584,
          -0.28144931640232496,
          -0.06229460813495941,
          0.860135991154396,
          -0.6336830074983791,
          2.1614194464065206,
          1.4886188417324488,
          1.948739186374998,
          -1.65932556580322,
          -1.7890236709376695,
          -1.024603199127202,
          -0.2839461673175258,
          -1.5504822872573811,
          -0.3173611535046725,
          1.2497166679966984,
          -0.8689612255158649,
          0.1308449392924964,
          -0.11046281885570239,
          -2.4373915395181656,
          -1.0245728612602316,
          -0.5055241101912172,
          0.056595626695443206,
          0.5176723372772564,
          0.15009361114403955,
          0.15658771344225464,
          0.33471699558951534,
          0.8813025543563201,
          -0.8391595392038008,
          -2.490208577476746,
          0.6042632646657747,
          -0.331476611827571,
          1.5813863192310202,
          0.7390671386615796,
          -0.23184846099447173,
          0.5662094173049512,
          1.827832646415857,
          0.15221010404191296,
          0.5398875261115618,
          0.30910642989010956,
          -0.9162187067758907,
          1.4429566269436902,
          0.8159551231165043
         ],
         "yaxis": "y9"
        },
        {
         "line": {
          "color": "rgba(128, 128, 128, 1.0)",
          "dash": "solid",
          "shape": "linear",
          "width": 1.3
         },
         "marker": {
          "size": 2,
          "symbol": "circle"
         },
         "mode": "markers",
         "name": "C",
         "text": "",
         "type": "scatter",
         "x": [
          -0.2644633545863186,
          1.5714302027771738,
          -0.022060694285092157,
          0.44695975606255306,
          1.6437621966592817,
          -2.1304958014639213,
          -0.34165423712052057,
          0.7735034696623291,
          0.4361167369817292,
          0.38315007358375436,
          -0.13683266188575985,
          0.2963414389906744,
          -2.1731658439592922,
          0.20259417441792585,
          0.09984009734314357,
          0.691047349227367,
          1.314807118205364,
          -0.521105250810098,
          -0.2822920873303137,
          -1.815604989842956,
          -1.0381784939062224,
          -1.540817803928697,
          0.7999428656890234,
          -1.719359604418866,
          1.2745453748761055,
          1.504906159003659,
          -0.03548530175341141,
          -0.47520221229360315,
          -0.03341052408579652,
          0.41606932003300406,
          -1.4669960816172585,
          0.3399043588728614,
          -0.1322471972177475,
          0.3885005500255243,
          -0.1296864888337782,
          0.3725902163354231,
          -0.1681840505469514,
          -0.5380402156473689,
          -1.7400857956585742,
          1.1274655014808161,
          -0.1642696740906239,
          0.3284104283712735,
          1.6754071912755992,
          0.19180608461248194,
          1.370769793189238,
          1.7483301226382149,
          -0.25010508806739873,
          0.13449895716815247,
          0.4234980413886394,
          -0.6292563951712109,
          2.2953199758200236,
          -0.17969684632277028,
          1.2987890271027225,
          0.4030094700678754,
          0.08036747531795806,
          -0.08069390393910325,
          1.9924420651500254,
          -0.2698486232006421,
          0.9189127955439805,
          1.4636227816733902,
          0.938845731900176,
          0.3774223763929635,
          -0.06039266365866485,
          0.9786792112048589,
          0.18303575909528905,
          1.6213974948934198,
          -0.9011226730985576,
          1.5550696967051754,
          -0.5287319696533463,
          -2.134382600497725,
          -2.4884498634990253,
          0.9141044261447112,
          -1.0929243882156412,
          0.33144393850878756,
          -0.11164949938320748,
          -0.3069432766632717,
          1.1173680553813508,
          0.26683988452577584,
          2.572799719475098,
          0.15916196813082964,
          0.07842255156767423,
          -0.3913927786082702,
          -0.6787973075228827,
          -0.42382151492180364,
          -0.3450314270380239,
          -2.2701907481405805,
          -0.25405633676066053,
          -1.1065213219948289,
          -0.9709405991456087,
          -0.4193028156423804,
          -0.7262378201660576,
          1.0725696136192406,
          -0.5523869569628342,
          1.6427537695901733,
          1.5568589945640556,
          2.570984921845135,
          -0.36030875900544634,
          0.26494896940570273,
          -1.3263649914452567,
          0.3256623316086684
         ],
         "xaxis": "x10",
         "y": [
          -0.11348786453792516,
          -0.1311524782899683,
          0.506578319243623,
          -0.04641283626244963,
          0.392212467710873,
          -0.6553786708887571,
          0.5571977672878804,
          2.1052672448775063,
          0.10340710707386995,
          -0.8974770305577208,
          1.9384578639188583,
          0.15974699198145836,
          0.31680044214315034,
          0.3530189009363819,
          -0.6863570397708625,
          0.6748926487769098,
          -1.53963708500794,
          -0.6064150850079467,
          -2.285154574606842,
          1.6087609096634756,
          1.4703270008301461,
          -0.9055417363838063,
          -0.48767724288311354,
          1.6677638524446878,
          0.4953296083138165,
          -1.2837673697054308,
          -0.17466900588527673,
          1.7550914473984882,
          -0.08137639105933259,
          -0.7303431206142009,
          -2.2602950720275503,
          0.33518836539457775,
          -0.07526806056324023,
          -0.036577505440543064,
          0.710015868627727,
          0.6998353100073591,
          0.19950402567226277,
          -1.092821161366645,
          1.038682114597619,
          -0.943972451379481,
          -0.33186493395713546,
          0.009566765795468796,
          -1.3043815067990907,
          -0.47903710828837115,
          -1.681324460350031,
          -0.1004688071250641,
          0.34107993712471174,
          -0.02319459821086625,
          -0.3172287282686062,
          0.25571725829735864,
          -1.1537289156229074,
          0.04125732193811072,
          -0.37183401874919636,
          0.4800509318471511,
          0.6829947057833371,
          0.03647745140630001,
          0.08589699451217257,
          -0.3506312190885835,
          0.19439322728550584,
          -0.28144931640232496,
          -0.06229460813495941,
          0.860135991154396,
          -0.6336830074983791,
          2.1614194464065206,
          1.4886188417324488,
          1.948739186374998,
          -1.65932556580322,
          -1.7890236709376695,
          -1.024603199127202,
          -0.2839461673175258,
          -1.5504822872573811,
          -0.3173611535046725,
          1.2497166679966984,
          -0.8689612255158649,
          0.1308449392924964,
          -0.11046281885570239,
          -2.4373915395181656,
          -1.0245728612602316,
          -0.5055241101912172,
          0.056595626695443206,
          0.5176723372772564,
          0.15009361114403955,
          0.15658771344225464,
          0.33471699558951534,
          0.8813025543563201,
          -0.8391595392038008,
          -2.490208577476746,
          0.6042632646657747,
          -0.331476611827571,
          1.5813863192310202,
          0.7390671386615796,
          -0.23184846099447173,
          0.5662094173049512,
          1.827832646415857,
          0.15221010404191296,
          0.5398875261115618,
          0.30910642989010956,
          -0.9162187067758907,
          1.4429566269436902,
          0.8159551231165043
         ],
         "yaxis": "y10"
        },
        {
         "histfunc": "count",
         "histnorm": "",
         "marker": {
          "color": "rgba(50, 171, 96, 1.0)",
          "line": {
           "color": "#4D5663",
           "width": 1.3
          }
         },
         "name": "C",
         "nbinsx": 10,
         "opacity": 0.8,
         "orientation": "v",
         "type": "histogram",
         "x": [
          -0.11348786453792516,
          -0.1311524782899683,
          0.506578319243623,
          -0.04641283626244963,
          0.392212467710873,
          -0.6553786708887571,
          0.5571977672878804,
          2.1052672448775063,
          0.10340710707386995,
          -0.8974770305577208,
          1.9384578639188583,
          0.15974699198145836,
          0.31680044214315034,
          0.3530189009363819,
          -0.6863570397708625,
          0.6748926487769098,
          -1.53963708500794,
          -0.6064150850079467,
          -2.285154574606842,
          1.6087609096634756,
          1.4703270008301461,
          -0.9055417363838063,
          -0.48767724288311354,
          1.6677638524446878,
          0.4953296083138165,
          -1.2837673697054308,
          -0.17466900588527673,
          1.7550914473984882,
          -0.08137639105933259,
          -0.7303431206142009,
          -2.2602950720275503,
          0.33518836539457775,
          -0.07526806056324023,
          -0.036577505440543064,
          0.710015868627727,
          0.6998353100073591,
          0.19950402567226277,
          -1.092821161366645,
          1.038682114597619,
          -0.943972451379481,
          -0.33186493395713546,
          0.009566765795468796,
          -1.3043815067990907,
          -0.47903710828837115,
          -1.681324460350031,
          -0.1004688071250641,
          0.34107993712471174,
          -0.02319459821086625,
          -0.3172287282686062,
          0.25571725829735864,
          -1.1537289156229074,
          0.04125732193811072,
          -0.37183401874919636,
          0.4800509318471511,
          0.6829947057833371,
          0.03647745140630001,
          0.08589699451217257,
          -0.3506312190885835,
          0.19439322728550584,
          -0.28144931640232496,
          -0.06229460813495941,
          0.860135991154396,
          -0.6336830074983791,
          2.1614194464065206,
          1.4886188417324488,
          1.948739186374998,
          -1.65932556580322,
          -1.7890236709376695,
          -1.024603199127202,
          -0.2839461673175258,
          -1.5504822872573811,
          -0.3173611535046725,
          1.2497166679966984,
          -0.8689612255158649,
          0.1308449392924964,
          -0.11046281885570239,
          -2.4373915395181656,
          -1.0245728612602316,
          -0.5055241101912172,
          0.056595626695443206,
          0.5176723372772564,
          0.15009361114403955,
          0.15658771344225464,
          0.33471699558951534,
          0.8813025543563201,
          -0.8391595392038008,
          -2.490208577476746,
          0.6042632646657747,
          -0.331476611827571,
          1.5813863192310202,
          0.7390671386615796,
          -0.23184846099447173,
          0.5662094173049512,
          1.827832646415857,
          0.15221010404191296,
          0.5398875261115618,
          0.30910642989010956,
          -0.9162187067758907,
          1.4429566269436902,
          0.8159551231165043
         ],
         "xaxis": "x11",
         "yaxis": "y11"
        },
        {
         "line": {
          "color": "rgba(128, 128, 128, 1.0)",
          "dash": "solid",
          "shape": "linear",
          "width": 1.3
         },
         "marker": {
          "size": 2,
          "symbol": "circle"
         },
         "mode": "markers",
         "name": "C",
         "text": "",
         "type": "scatter",
         "x": [
          -0.3141047776814371,
          -0.8970192710960458,
          0.5736914479068228,
          -0.5206411120771636,
          0.16576510518810794,
          -0.5587118804610727,
          0.9878309483052345,
          0.5023609075433647,
          0.9745608398826814,
          0.16655342964635966,
          0.9788192259549774,
          -0.09074367425800649,
          1.5829907682035778,
          -0.764247292231081,
          0.17308183983488762,
          -0.24791312488305745,
          -0.6938234905748255,
          0.30415868202200325,
          -1.4573797696393782,
          -0.8029910175529617,
          -0.7457353564480751,
          3.0306751179427884,
          0.045915555843682884,
          1.196333482147036,
          1.2186397325655025,
          -0.2512862780510248,
          -0.5218023758906899,
          0.0006545154733645155,
          0.0882807793245977,
          0.08032544568298304,
          0.300452263420204,
          -0.7004037709231044,
          1.5959195349326478,
          -1.1456317403017728,
          -1.6090083148862744,
          -0.024979196647730097,
          -2.7855243796398645,
          0.19365146667022942,
          0.9458482394605472,
          -0.6450285898838843,
          -0.6619920977863117,
          -0.286079247403523,
          0.6729421552051487,
          -0.7424158022191921,
          0.15674906928135854,
          1.525833682709512,
          0.8354744054671075,
          -0.10945542092806206,
          -0.7903659987502104,
          2.252293455006751,
          1.0305338642195672,
          -2.143230338789938,
          0.3854367833308197,
          0.5065383599856818,
          0.012066202860070952,
          -1.4437774899649107,
          -0.6746762056654647,
          -0.19410968709492404,
          -1.147512403615673,
          0.33062408255489073,
          -0.28855419839694224,
          -1.3760381340868197,
          0.89767228673124,
          0.199628224052539,
          -0.8269461131144589,
          -2.0310134868416885,
          -1.311605317804653,
          1.0244985960728157,
          0.34724634350785616,
          0.8354198106887961,
          0.8379992652748512,
          0.2130903288179697,
          0.41486346653232337,
          -0.021864543671643935,
          -1.1005092230234894,
          -0.8906576571862331,
          -0.676797498832179,
          -0.35325718962322256,
          -0.08108079990629014,
          1.1853695718411121,
          0.30057746921104944,
          -0.40043517461693023,
          -1.5278058799076497,
          -0.8711964279517036,
          -1.5409210468656107,
          0.22816741726104836,
          -0.03255898174171499,
          0.026687251866059098,
          0.4294202743518761,
          0.3950280004384783,
          1.0450196729200016,
          -0.875516508014222,
          -0.4722584961793411,
          -0.5692715168213826,
          0.9682407212914111,
          0.08000451194139384,
          0.2782152013702495,
          0.24866085181437123,
          -1.005337704907483,
          1.490533209873795
         ],
         "xaxis": "x12",
         "y": [
          -0.11348786453792516,
          -0.1311524782899683,
          0.506578319243623,
          -0.04641283626244963,
          0.392212467710873,
          -0.6553786708887571,
          0.5571977672878804,
          2.1052672448775063,
          0.10340710707386995,
          -0.8974770305577208,
          1.9384578639188583,
          0.15974699198145836,
          0.31680044214315034,
          0.3530189009363819,
          -0.6863570397708625,
          0.6748926487769098,
          -1.53963708500794,
          -0.6064150850079467,
          -2.285154574606842,
          1.6087609096634756,
          1.4703270008301461,
          -0.9055417363838063,
          -0.48767724288311354,
          1.6677638524446878,
          0.4953296083138165,
          -1.2837673697054308,
          -0.17466900588527673,
          1.7550914473984882,
          -0.08137639105933259,
          -0.7303431206142009,
          -2.2602950720275503,
          0.33518836539457775,
          -0.07526806056324023,
          -0.036577505440543064,
          0.710015868627727,
          0.6998353100073591,
          0.19950402567226277,
          -1.092821161366645,
          1.038682114597619,
          -0.943972451379481,
          -0.33186493395713546,
          0.009566765795468796,
          -1.3043815067990907,
          -0.47903710828837115,
          -1.681324460350031,
          -0.1004688071250641,
          0.34107993712471174,
          -0.02319459821086625,
          -0.3172287282686062,
          0.25571725829735864,
          -1.1537289156229074,
          0.04125732193811072,
          -0.37183401874919636,
          0.4800509318471511,
          0.6829947057833371,
          0.03647745140630001,
          0.08589699451217257,
          -0.3506312190885835,
          0.19439322728550584,
          -0.28144931640232496,
          -0.06229460813495941,
          0.860135991154396,
          -0.6336830074983791,
          2.1614194464065206,
          1.4886188417324488,
          1.948739186374998,
          -1.65932556580322,
          -1.7890236709376695,
          -1.024603199127202,
          -0.2839461673175258,
          -1.5504822872573811,
          -0.3173611535046725,
          1.2497166679966984,
          -0.8689612255158649,
          0.1308449392924964,
          -0.11046281885570239,
          -2.4373915395181656,
          -1.0245728612602316,
          -0.5055241101912172,
          0.056595626695443206,
          0.5176723372772564,
          0.15009361114403955,
          0.15658771344225464,
          0.33471699558951534,
          0.8813025543563201,
          -0.8391595392038008,
          -2.490208577476746,
          0.6042632646657747,
          -0.331476611827571,
          1.5813863192310202,
          0.7390671386615796,
          -0.23184846099447173,
          0.5662094173049512,
          1.827832646415857,
          0.15221010404191296,
          0.5398875261115618,
          0.30910642989010956,
          -0.9162187067758907,
          1.4429566269436902,
          0.8159551231165043
         ],
         "yaxis": "y12"
        },
        {
         "line": {
          "color": "rgba(128, 128, 128, 1.0)",
          "dash": "solid",
          "shape": "linear",
          "width": 1.3
         },
         "marker": {
          "size": 2,
          "symbol": "circle"
         },
         "mode": "markers",
         "name": "D",
         "text": "",
         "type": "scatter",
         "x": [
          -0.1601183780470847,
          0.15940940597672718,
          -0.8691414452109293,
          2.1010276114389423,
          0.17164077472576567,
          -0.3615969648072336,
          -1.4329312503554597,
          1.0348622009763033,
          -0.9530959678937821,
          -1.949144277250312,
          -0.653801018600976,
          -1.0586602896818622,
          0.28861617739230505,
          1.6481156904717285,
          0.5021988384451932,
          0.7419461664678879,
          0.17745499512664956,
          -0.38325620812446526,
          0.12849351472190346,
          0.15024354836000892,
          -1.9046735986048597,
          0.06729564255980032,
          1.3114167690497167,
          0.6532864418010814,
          0.7736641644900281,
          0.9710332051307252,
          -1.2950688683078926,
          -0.2330559856021781,
          -0.2506005785170448,
          0.8746518298457197,
          0.49012434927847653,
          1.952542960328725,
          1.422053288373496,
          -0.041017606165554964,
          -0.5696189873368337,
          1.3796194148641876,
          -0.9684850941850984,
          -0.6867169752967174,
          1.2175982302306936,
          -0.7950270858687128,
          -0.20268130839797435,
          -0.3166116775607073,
          0.013265786411123252,
          1.3609161101425622,
          0.918899536952606,
          0.8946799623180145,
          -0.32355619688753906,
          -0.26159337861282134,
          1.7316425076849074,
          0.18598089946101812,
          0.5735137879874297,
          0.5584074518494194,
          -0.39038838391341496,
          0.9879393225390422,
          2.5030105940459157,
          -0.48432032452495916,
          -0.41613166505421517,
          -1.3139722396678235,
          0.22869715598900986,
          -0.5435803703335473,
          2.487064416501825,
          -0.44198082209238426,
          -0.3539645120194969,
          0.27099557207341957,
          0.45250919764242253,
          -0.0576693407543129,
          -0.7573808849544862,
          -1.3875401356438606,
          0.5770513485881394,
          1.2340897966166007,
          1.014934806523684,
          0.1530954629770791,
          -1.0723060534055624,
          1.085507498157262,
          1.3346837122325887,
          -1.3698512217275174,
          -0.10433179640403041,
          -1.201928853898415,
          -0.30352824810029955,
          0.33826194670927395,
          -0.7785433241744303,
          -0.14302780228701797,
          0.6172268757774699,
          -1.5310619955784,
          -0.9632272022705074,
          0.8562948380132994,
          -0.137384953960321,
          -0.9653087534475998,
          -0.4426437998567408,
          0.5304095588563396,
          1.4850884827390285,
          0.1906684616642033,
          0.246574144712053,
          -0.2369541408221221,
          0.963784194598969,
          0.44074100274933714,
          0.546935093537091,
          -1.756855506983355,
          1.8244298964505592,
          -1.4031423867604629
         ],
         "xaxis": "x13",
         "y": [
          -0.3141047776814371,
          -0.8970192710960458,
          0.5736914479068228,
          -0.5206411120771636,
          0.16576510518810794,
          -0.5587118804610727,
          0.9878309483052345,
          0.5023609075433647,
          0.9745608398826814,
          0.16655342964635966,
          0.9788192259549774,
          -0.09074367425800649,
          1.5829907682035778,
          -0.764247292231081,
          0.17308183983488762,
          -0.24791312488305745,
          -0.6938234905748255,
          0.30415868202200325,
          -1.4573797696393782,
          -0.8029910175529617,
          -0.7457353564480751,
          3.0306751179427884,
          0.045915555843682884,
          1.196333482147036,
          1.2186397325655025,
          -0.2512862780510248,
          -0.5218023758906899,
          0.0006545154733645155,
          0.0882807793245977,
          0.08032544568298304,
          0.300452263420204,
          -0.7004037709231044,
          1.5959195349326478,
          -1.1456317403017728,
          -1.6090083148862744,
          -0.024979196647730097,
          -2.7855243796398645,
          0.19365146667022942,
          0.9458482394605472,
          -0.6450285898838843,
          -0.6619920977863117,
          -0.286079247403523,
          0.6729421552051487,
          -0.7424158022191921,
          0.15674906928135854,
          1.525833682709512,
          0.8354744054671075,
          -0.10945542092806206,
          -0.7903659987502104,
          2.252293455006751,
          1.0305338642195672,
          -2.143230338789938,
          0.3854367833308197,
          0.5065383599856818,
          0.012066202860070952,
          -1.4437774899649107,
          -0.6746762056654647,
          -0.19410968709492404,
          -1.147512403615673,
          0.33062408255489073,
          -0.28855419839694224,
          -1.3760381340868197,
          0.89767228673124,
          0.199628224052539,
          -0.8269461131144589,
          -2.0310134868416885,
          -1.311605317804653,
          1.0244985960728157,
          0.34724634350785616,
          0.8354198106887961,
          0.8379992652748512,
          0.2130903288179697,
          0.41486346653232337,
          -0.021864543671643935,
          -1.1005092230234894,
          -0.8906576571862331,
          -0.676797498832179,
          -0.35325718962322256,
          -0.08108079990629014,
          1.1853695718411121,
          0.30057746921104944,
          -0.40043517461693023,
          -1.5278058799076497,
          -0.8711964279517036,
          -1.5409210468656107,
          0.22816741726104836,
          -0.03255898174171499,
          0.026687251866059098,
          0.4294202743518761,
          0.3950280004384783,
          1.0450196729200016,
          -0.875516508014222,
          -0.4722584961793411,
          -0.5692715168213826,
          0.9682407212914111,
          0.08000451194139384,
          0.2782152013702495,
          0.24866085181437123,
          -1.005337704907483,
          1.490533209873795
         ],
         "yaxis": "y13"
        },
        {
         "line": {
          "color": "rgba(128, 128, 128, 1.0)",
          "dash": "solid",
          "shape": "linear",
          "width": 1.3
         },
         "marker": {
          "size": 2,
          "symbol": "circle"
         },
         "mode": "markers",
         "name": "D",
         "text": "",
         "type": "scatter",
         "x": [
          -0.2644633545863186,
          1.5714302027771738,
          -0.022060694285092157,
          0.44695975606255306,
          1.6437621966592817,
          -2.1304958014639213,
          -0.34165423712052057,
          0.7735034696623291,
          0.4361167369817292,
          0.38315007358375436,
          -0.13683266188575985,
          0.2963414389906744,
          -2.1731658439592922,
          0.20259417441792585,
          0.09984009734314357,
          0.691047349227367,
          1.314807118205364,
          -0.521105250810098,
          -0.2822920873303137,
          -1.815604989842956,
          -1.0381784939062224,
          -1.540817803928697,
          0.7999428656890234,
          -1.719359604418866,
          1.2745453748761055,
          1.504906159003659,
          -0.03548530175341141,
          -0.47520221229360315,
          -0.03341052408579652,
          0.41606932003300406,
          -1.4669960816172585,
          0.3399043588728614,
          -0.1322471972177475,
          0.3885005500255243,
          -0.1296864888337782,
          0.3725902163354231,
          -0.1681840505469514,
          -0.5380402156473689,
          -1.7400857956585742,
          1.1274655014808161,
          -0.1642696740906239,
          0.3284104283712735,
          1.6754071912755992,
          0.19180608461248194,
          1.370769793189238,
          1.7483301226382149,
          -0.25010508806739873,
          0.13449895716815247,
          0.4234980413886394,
          -0.6292563951712109,
          2.2953199758200236,
          -0.17969684632277028,
          1.2987890271027225,
          0.4030094700678754,
          0.08036747531795806,
          -0.08069390393910325,
          1.9924420651500254,
          -0.2698486232006421,
          0.9189127955439805,
          1.4636227816733902,
          0.938845731900176,
          0.3774223763929635,
          -0.06039266365866485,
          0.9786792112048589,
          0.18303575909528905,
          1.6213974948934198,
          -0.9011226730985576,
          1.5550696967051754,
          -0.5287319696533463,
          -2.134382600497725,
          -2.4884498634990253,
          0.9141044261447112,
          -1.0929243882156412,
          0.33144393850878756,
          -0.11164949938320748,
          -0.3069432766632717,
          1.1173680553813508,
          0.26683988452577584,
          2.572799719475098,
          0.15916196813082964,
          0.07842255156767423,
          -0.3913927786082702,
          -0.6787973075228827,
          -0.42382151492180364,
          -0.3450314270380239,
          -2.2701907481405805,
          -0.25405633676066053,
          -1.1065213219948289,
          -0.9709405991456087,
          -0.4193028156423804,
          -0.7262378201660576,
          1.0725696136192406,
          -0.5523869569628342,
          1.6427537695901733,
          1.5568589945640556,
          2.570984921845135,
          -0.36030875900544634,
          0.26494896940570273,
          -1.3263649914452567,
          0.3256623316086684
         ],
         "xaxis": "x14",
         "y": [
          -0.3141047776814371,
          -0.8970192710960458,
          0.5736914479068228,
          -0.5206411120771636,
          0.16576510518810794,
          -0.5587118804610727,
          0.9878309483052345,
          0.5023609075433647,
          0.9745608398826814,
          0.16655342964635966,
          0.9788192259549774,
          -0.09074367425800649,
          1.5829907682035778,
          -0.764247292231081,
          0.17308183983488762,
          -0.24791312488305745,
          -0.6938234905748255,
          0.30415868202200325,
          -1.4573797696393782,
          -0.8029910175529617,
          -0.7457353564480751,
          3.0306751179427884,
          0.045915555843682884,
          1.196333482147036,
          1.2186397325655025,
          -0.2512862780510248,
          -0.5218023758906899,
          0.0006545154733645155,
          0.0882807793245977,
          0.08032544568298304,
          0.300452263420204,
          -0.7004037709231044,
          1.5959195349326478,
          -1.1456317403017728,
          -1.6090083148862744,
          -0.024979196647730097,
          -2.7855243796398645,
          0.19365146667022942,
          0.9458482394605472,
          -0.6450285898838843,
          -0.6619920977863117,
          -0.286079247403523,
          0.6729421552051487,
          -0.7424158022191921,
          0.15674906928135854,
          1.525833682709512,
          0.8354744054671075,
          -0.10945542092806206,
          -0.7903659987502104,
          2.252293455006751,
          1.0305338642195672,
          -2.143230338789938,
          0.3854367833308197,
          0.5065383599856818,
          0.012066202860070952,
          -1.4437774899649107,
          -0.6746762056654647,
          -0.19410968709492404,
          -1.147512403615673,
          0.33062408255489073,
          -0.28855419839694224,
          -1.3760381340868197,
          0.89767228673124,
          0.199628224052539,
          -0.8269461131144589,
          -2.0310134868416885,
          -1.311605317804653,
          1.0244985960728157,
          0.34724634350785616,
          0.8354198106887961,
          0.8379992652748512,
          0.2130903288179697,
          0.41486346653232337,
          -0.021864543671643935,
          -1.1005092230234894,
          -0.8906576571862331,
          -0.676797498832179,
          -0.35325718962322256,
          -0.08108079990629014,
          1.1853695718411121,
          0.30057746921104944,
          -0.40043517461693023,
          -1.5278058799076497,
          -0.8711964279517036,
          -1.5409210468656107,
          0.22816741726104836,
          -0.03255898174171499,
          0.026687251866059098,
          0.4294202743518761,
          0.3950280004384783,
          1.0450196729200016,
          -0.875516508014222,
          -0.4722584961793411,
          -0.5692715168213826,
          0.9682407212914111,
          0.08000451194139384,
          0.2782152013702495,
          0.24866085181437123,
          -1.005337704907483,
          1.490533209873795
         ],
         "yaxis": "y14"
        },
        {
         "line": {
          "color": "rgba(128, 128, 128, 1.0)",
          "dash": "solid",
          "shape": "linear",
          "width": 1.3
         },
         "marker": {
          "size": 2,
          "symbol": "circle"
         },
         "mode": "markers",
         "name": "D",
         "text": "",
         "type": "scatter",
         "x": [
          -0.11348786453792516,
          -0.1311524782899683,
          0.506578319243623,
          -0.04641283626244963,
          0.392212467710873,
          -0.6553786708887571,
          0.5571977672878804,
          2.1052672448775063,
          0.10340710707386995,
          -0.8974770305577208,
          1.9384578639188583,
          0.15974699198145836,
          0.31680044214315034,
          0.3530189009363819,
          -0.6863570397708625,
          0.6748926487769098,
          -1.53963708500794,
          -0.6064150850079467,
          -2.285154574606842,
          1.6087609096634756,
          1.4703270008301461,
          -0.9055417363838063,
          -0.48767724288311354,
          1.6677638524446878,
          0.4953296083138165,
          -1.2837673697054308,
          -0.17466900588527673,
          1.7550914473984882,
          -0.08137639105933259,
          -0.7303431206142009,
          -2.2602950720275503,
          0.33518836539457775,
          -0.07526806056324023,
          -0.036577505440543064,
          0.710015868627727,
          0.6998353100073591,
          0.19950402567226277,
          -1.092821161366645,
          1.038682114597619,
          -0.943972451379481,
          -0.33186493395713546,
          0.009566765795468796,
          -1.3043815067990907,
          -0.47903710828837115,
          -1.681324460350031,
          -0.1004688071250641,
          0.34107993712471174,
          -0.02319459821086625,
          -0.3172287282686062,
          0.25571725829735864,
          -1.1537289156229074,
          0.04125732193811072,
          -0.37183401874919636,
          0.4800509318471511,
          0.6829947057833371,
          0.03647745140630001,
          0.08589699451217257,
          -0.3506312190885835,
          0.19439322728550584,
          -0.28144931640232496,
          -0.06229460813495941,
          0.860135991154396,
          -0.6336830074983791,
          2.1614194464065206,
          1.4886188417324488,
          1.948739186374998,
          -1.65932556580322,
          -1.7890236709376695,
          -1.024603199127202,
          -0.2839461673175258,
          -1.5504822872573811,
          -0.3173611535046725,
          1.2497166679966984,
          -0.8689612255158649,
          0.1308449392924964,
          -0.11046281885570239,
          -2.4373915395181656,
          -1.0245728612602316,
          -0.5055241101912172,
          0.056595626695443206,
          0.5176723372772564,
          0.15009361114403955,
          0.15658771344225464,
          0.33471699558951534,
          0.8813025543563201,
          -0.8391595392038008,
          -2.490208577476746,
          0.6042632646657747,
          -0.331476611827571,
          1.5813863192310202,
          0.7390671386615796,
          -0.23184846099447173,
          0.5662094173049512,
          1.827832646415857,
          0.15221010404191296,
          0.5398875261115618,
          0.30910642989010956,
          -0.9162187067758907,
          1.4429566269436902,
          0.8159551231165043
         ],
         "xaxis": "x15",
         "y": [
          -0.3141047776814371,
          -0.8970192710960458,
          0.5736914479068228,
          -0.5206411120771636,
          0.16576510518810794,
          -0.5587118804610727,
          0.9878309483052345,
          0.5023609075433647,
          0.9745608398826814,
          0.16655342964635966,
          0.9788192259549774,
          -0.09074367425800649,
          1.5829907682035778,
          -0.764247292231081,
          0.17308183983488762,
          -0.24791312488305745,
          -0.6938234905748255,
          0.30415868202200325,
          -1.4573797696393782,
          -0.8029910175529617,
          -0.7457353564480751,
          3.0306751179427884,
          0.045915555843682884,
          1.196333482147036,
          1.2186397325655025,
          -0.2512862780510248,
          -0.5218023758906899,
          0.0006545154733645155,
          0.0882807793245977,
          0.08032544568298304,
          0.300452263420204,
          -0.7004037709231044,
          1.5959195349326478,
          -1.1456317403017728,
          -1.6090083148862744,
          -0.024979196647730097,
          -2.7855243796398645,
          0.19365146667022942,
          0.9458482394605472,
          -0.6450285898838843,
          -0.6619920977863117,
          -0.286079247403523,
          0.6729421552051487,
          -0.7424158022191921,
          0.15674906928135854,
          1.525833682709512,
          0.8354744054671075,
          -0.10945542092806206,
          -0.7903659987502104,
          2.252293455006751,
          1.0305338642195672,
          -2.143230338789938,
          0.3854367833308197,
          0.5065383599856818,
          0.012066202860070952,
          -1.4437774899649107,
          -0.6746762056654647,
          -0.19410968709492404,
          -1.147512403615673,
          0.33062408255489073,
          -0.28855419839694224,
          -1.3760381340868197,
          0.89767228673124,
          0.199628224052539,
          -0.8269461131144589,
          -2.0310134868416885,
          -1.311605317804653,
          1.0244985960728157,
          0.34724634350785616,
          0.8354198106887961,
          0.8379992652748512,
          0.2130903288179697,
          0.41486346653232337,
          -0.021864543671643935,
          -1.1005092230234894,
          -0.8906576571862331,
          -0.676797498832179,
          -0.35325718962322256,
          -0.08108079990629014,
          1.1853695718411121,
          0.30057746921104944,
          -0.40043517461693023,
          -1.5278058799076497,
          -0.8711964279517036,
          -1.5409210468656107,
          0.22816741726104836,
          -0.03255898174171499,
          0.026687251866059098,
          0.4294202743518761,
          0.3950280004384783,
          1.0450196729200016,
          -0.875516508014222,
          -0.4722584961793411,
          -0.5692715168213826,
          0.9682407212914111,
          0.08000451194139384,
          0.2782152013702495,
          0.24866085181437123,
          -1.005337704907483,
          1.490533209873795
         ],
         "yaxis": "y15"
        },
        {
         "histfunc": "count",
         "histnorm": "",
         "marker": {
          "color": "rgba(128, 0, 128, 1.0)",
          "line": {
           "color": "#4D5663",
           "width": 1.3
          }
         },
         "name": "D",
         "nbinsx": 10,
         "opacity": 0.8,
         "orientation": "v",
         "type": "histogram",
         "x": [
          -0.3141047776814371,
          -0.8970192710960458,
          0.5736914479068228,
          -0.5206411120771636,
          0.16576510518810794,
          -0.5587118804610727,
          0.9878309483052345,
          0.5023609075433647,
          0.9745608398826814,
          0.16655342964635966,
          0.9788192259549774,
          -0.09074367425800649,
          1.5829907682035778,
          -0.764247292231081,
          0.17308183983488762,
          -0.24791312488305745,
          -0.6938234905748255,
          0.30415868202200325,
          -1.4573797696393782,
          -0.8029910175529617,
          -0.7457353564480751,
          3.0306751179427884,
          0.045915555843682884,
          1.196333482147036,
          1.2186397325655025,
          -0.2512862780510248,
          -0.5218023758906899,
          0.0006545154733645155,
          0.0882807793245977,
          0.08032544568298304,
          0.300452263420204,
          -0.7004037709231044,
          1.5959195349326478,
          -1.1456317403017728,
          -1.6090083148862744,
          -0.024979196647730097,
          -2.7855243796398645,
          0.19365146667022942,
          0.9458482394605472,
          -0.6450285898838843,
          -0.6619920977863117,
          -0.286079247403523,
          0.6729421552051487,
          -0.7424158022191921,
          0.15674906928135854,
          1.525833682709512,
          0.8354744054671075,
          -0.10945542092806206,
          -0.7903659987502104,
          2.252293455006751,
          1.0305338642195672,
          -2.143230338789938,
          0.3854367833308197,
          0.5065383599856818,
          0.012066202860070952,
          -1.4437774899649107,
          -0.6746762056654647,
          -0.19410968709492404,
          -1.147512403615673,
          0.33062408255489073,
          -0.28855419839694224,
          -1.3760381340868197,
          0.89767228673124,
          0.199628224052539,
          -0.8269461131144589,
          -2.0310134868416885,
          -1.311605317804653,
          1.0244985960728157,
          0.34724634350785616,
          0.8354198106887961,
          0.8379992652748512,
          0.2130903288179697,
          0.41486346653232337,
          -0.021864543671643935,
          -1.1005092230234894,
          -0.8906576571862331,
          -0.676797498832179,
          -0.35325718962322256,
          -0.08108079990629014,
          1.1853695718411121,
          0.30057746921104944,
          -0.40043517461693023,
          -1.5278058799076497,
          -0.8711964279517036,
          -1.5409210468656107,
          0.22816741726104836,
          -0.03255898174171499,
          0.026687251866059098,
          0.4294202743518761,
          0.3950280004384783,
          1.0450196729200016,
          -0.875516508014222,
          -0.4722584961793411,
          -0.5692715168213826,
          0.9682407212914111,
          0.08000451194139384,
          0.2782152013702495,
          0.24866085181437123,
          -1.005337704907483,
          1.490533209873795
         ],
         "xaxis": "x16",
         "yaxis": "y16"
        }
       ],
       "layout": {
        "bargap": 0.02,
        "legend": {
         "bgcolor": "#F5F6F9",
         "font": {
          "color": "#4D5663"
         }
        },
        "paper_bgcolor": "#F5F6F9",
        "plot_bgcolor": "#F5F6F9",
        "showlegend": false,
        "template": {
         "data": {
          "bar": [
           {
            "error_x": {
             "color": "#2a3f5f"
            },
            "error_y": {
             "color": "#2a3f5f"
            },
            "marker": {
             "line": {
              "color": "#E5ECF6",
              "width": 0.5
             }
            },
            "type": "bar"
           }
          ],
          "barpolar": [
           {
            "marker": {
             "line": {
              "color": "#E5ECF6",
              "width": 0.5
             }
            },
            "type": "barpolar"
           }
          ],
          "carpet": [
           {
            "aaxis": {
             "endlinecolor": "#2a3f5f",
             "gridcolor": "white",
             "linecolor": "white",
             "minorgridcolor": "white",
             "startlinecolor": "#2a3f5f"
            },
            "baxis": {
             "endlinecolor": "#2a3f5f",
             "gridcolor": "white",
             "linecolor": "white",
             "minorgridcolor": "white",
             "startlinecolor": "#2a3f5f"
            },
            "type": "carpet"
           }
          ],
          "choropleth": [
           {
            "colorbar": {
             "outlinewidth": 0,
             "ticks": ""
            },
            "type": "choropleth"
           }
          ],
          "contour": [
           {
            "colorbar": {
             "outlinewidth": 0,
             "ticks": ""
            },
            "colorscale": [
             [
              0,
              "#0d0887"
             ],
             [
              0.1111111111111111,
              "#46039f"
             ],
             [
              0.2222222222222222,
              "#7201a8"
             ],
             [
              0.3333333333333333,
              "#9c179e"
             ],
             [
              0.4444444444444444,
              "#bd3786"
             ],
             [
              0.5555555555555556,
              "#d8576b"
             ],
             [
              0.6666666666666666,
              "#ed7953"
             ],
             [
              0.7777777777777778,
              "#fb9f3a"
             ],
             [
              0.8888888888888888,
              "#fdca26"
             ],
             [
              1,
              "#f0f921"
             ]
            ],
            "type": "contour"
           }
          ],
          "contourcarpet": [
           {
            "colorbar": {
             "outlinewidth": 0,
             "ticks": ""
            },
            "type": "contourcarpet"
           }
          ],
          "heatmap": [
           {
            "colorbar": {
             "outlinewidth": 0,
             "ticks": ""
            },
            "colorscale": [
             [
              0,
              "#0d0887"
             ],
             [
              0.1111111111111111,
              "#46039f"
             ],
             [
              0.2222222222222222,
              "#7201a8"
             ],
             [
              0.3333333333333333,
              "#9c179e"
             ],
             [
              0.4444444444444444,
              "#bd3786"
             ],
             [
              0.5555555555555556,
              "#d8576b"
             ],
             [
              0.6666666666666666,
              "#ed7953"
             ],
             [
              0.7777777777777778,
              "#fb9f3a"
             ],
             [
              0.8888888888888888,
              "#fdca26"
             ],
             [
              1,
              "#f0f921"
             ]
            ],
            "type": "heatmap"
           }
          ],
          "heatmapgl": [
           {
            "colorbar": {
             "outlinewidth": 0,
             "ticks": ""
            },
            "colorscale": [
             [
              0,
              "#0d0887"
             ],
             [
              0.1111111111111111,
              "#46039f"
             ],
             [
              0.2222222222222222,
              "#7201a8"
             ],
             [
              0.3333333333333333,
              "#9c179e"
             ],
             [
              0.4444444444444444,
              "#bd3786"
             ],
             [
              0.5555555555555556,
              "#d8576b"
             ],
             [
              0.6666666666666666,
              "#ed7953"
             ],
             [
              0.7777777777777778,
              "#fb9f3a"
             ],
             [
              0.8888888888888888,
              "#fdca26"
             ],
             [
              1,
              "#f0f921"
             ]
            ],
            "type": "heatmapgl"
           }
          ],
          "histogram": [
           {
            "marker": {
             "colorbar": {
              "outlinewidth": 0,
              "ticks": ""
             }
            },
            "type": "histogram"
           }
          ],
          "histogram2d": [
           {
            "colorbar": {
             "outlinewidth": 0,
             "ticks": ""
            },
            "colorscale": [
             [
              0,
              "#0d0887"
             ],
             [
              0.1111111111111111,
              "#46039f"
             ],
             [
              0.2222222222222222,
              "#7201a8"
             ],
             [
              0.3333333333333333,
              "#9c179e"
             ],
             [
              0.4444444444444444,
              "#bd3786"
             ],
             [
              0.5555555555555556,
              "#d8576b"
             ],
             [
              0.6666666666666666,
              "#ed7953"
             ],
             [
              0.7777777777777778,
              "#fb9f3a"
             ],
             [
              0.8888888888888888,
              "#fdca26"
             ],
             [
              1,
              "#f0f921"
             ]
            ],
            "type": "histogram2d"
           }
          ],
          "histogram2dcontour": [
           {
            "colorbar": {
             "outlinewidth": 0,
             "ticks": ""
            },
            "colorscale": [
             [
              0,
              "#0d0887"
             ],
             [
              0.1111111111111111,
              "#46039f"
             ],
             [
              0.2222222222222222,
              "#7201a8"
             ],
             [
              0.3333333333333333,
              "#9c179e"
             ],
             [
              0.4444444444444444,
              "#bd3786"
             ],
             [
              0.5555555555555556,
              "#d8576b"
             ],
             [
              0.6666666666666666,
              "#ed7953"
             ],
             [
              0.7777777777777778,
              "#fb9f3a"
             ],
             [
              0.8888888888888888,
              "#fdca26"
             ],
             [
              1,
              "#f0f921"
             ]
            ],
            "type": "histogram2dcontour"
           }
          ],
          "mesh3d": [
           {
            "colorbar": {
             "outlinewidth": 0,
             "ticks": ""
            },
            "type": "mesh3d"
           }
          ],
          "parcoords": [
           {
            "line": {
             "colorbar": {
              "outlinewidth": 0,
              "ticks": ""
             }
            },
            "type": "parcoords"
           }
          ],
          "pie": [
           {
            "automargin": true,
            "type": "pie"
           }
          ],
          "scatter": [
           {
            "marker": {
             "colorbar": {
              "outlinewidth": 0,
              "ticks": ""
             }
            },
            "type": "scatter"
           }
          ],
          "scatter3d": [
           {
            "line": {
             "colorbar": {
              "outlinewidth": 0,
              "ticks": ""
             }
            },
            "marker": {
             "colorbar": {
              "outlinewidth": 0,
              "ticks": ""
             }
            },
            "type": "scatter3d"
           }
          ],
          "scattercarpet": [
           {
            "marker": {
             "colorbar": {
              "outlinewidth": 0,
              "ticks": ""
             }
            },
            "type": "scattercarpet"
           }
          ],
          "scattergeo": [
           {
            "marker": {
             "colorbar": {
              "outlinewidth": 0,
              "ticks": ""
             }
            },
            "type": "scattergeo"
           }
          ],
          "scattergl": [
           {
            "marker": {
             "colorbar": {
              "outlinewidth": 0,
              "ticks": ""
             }
            },
            "type": "scattergl"
           }
          ],
          "scattermapbox": [
           {
            "marker": {
             "colorbar": {
              "outlinewidth": 0,
              "ticks": ""
             }
            },
            "type": "scattermapbox"
           }
          ],
          "scatterpolar": [
           {
            "marker": {
             "colorbar": {
              "outlinewidth": 0,
              "ticks": ""
             }
            },
            "type": "scatterpolar"
           }
          ],
          "scatterpolargl": [
           {
            "marker": {
             "colorbar": {
              "outlinewidth": 0,
              "ticks": ""
             }
            },
            "type": "scatterpolargl"
           }
          ],
          "scatterternary": [
           {
            "marker": {
             "colorbar": {
              "outlinewidth": 0,
              "ticks": ""
             }
            },
            "type": "scatterternary"
           }
          ],
          "surface": [
           {
            "colorbar": {
             "outlinewidth": 0,
             "ticks": ""
            },
            "colorscale": [
             [
              0,
              "#0d0887"
             ],
             [
              0.1111111111111111,
              "#46039f"
             ],
             [
              0.2222222222222222,
              "#7201a8"
             ],
             [
              0.3333333333333333,
              "#9c179e"
             ],
             [
              0.4444444444444444,
              "#bd3786"
             ],
             [
              0.5555555555555556,
              "#d8576b"
             ],
             [
              0.6666666666666666,
              "#ed7953"
             ],
             [
              0.7777777777777778,
              "#fb9f3a"
             ],
             [
              0.8888888888888888,
              "#fdca26"
             ],
             [
              1,
              "#f0f921"
             ]
            ],
            "type": "surface"
           }
          ],
          "table": [
           {
            "cells": {
             "fill": {
              "color": "#EBF0F8"
             },
             "line": {
              "color": "white"
             }
            },
            "header": {
             "fill": {
              "color": "#C8D4E3"
             },
             "line": {
              "color": "white"
             }
            },
            "type": "table"
           }
          ]
         },
         "layout": {
          "annotationdefaults": {
           "arrowcolor": "#2a3f5f",
           "arrowhead": 0,
           "arrowwidth": 1
          },
          "autotypenumbers": "strict",
          "coloraxis": {
           "colorbar": {
            "outlinewidth": 0,
            "ticks": ""
           }
          },
          "colorscale": {
           "diverging": [
            [
             0,
             "#8e0152"
            ],
            [
             0.1,
             "#c51b7d"
            ],
            [
             0.2,
             "#de77ae"
            ],
            [
             0.3,
             "#f1b6da"
            ],
            [
             0.4,
             "#fde0ef"
            ],
            [
             0.5,
             "#f7f7f7"
            ],
            [
             0.6,
             "#e6f5d0"
            ],
            [
             0.7,
             "#b8e186"
            ],
            [
             0.8,
             "#7fbc41"
            ],
            [
             0.9,
             "#4d9221"
            ],
            [
             1,
             "#276419"
            ]
           ],
           "sequential": [
            [
             0,
             "#0d0887"
            ],
            [
             0.1111111111111111,
             "#46039f"
            ],
            [
             0.2222222222222222,
             "#7201a8"
            ],
            [
             0.3333333333333333,
             "#9c179e"
            ],
            [
             0.4444444444444444,
             "#bd3786"
            ],
            [
             0.5555555555555556,
             "#d8576b"
            ],
            [
             0.6666666666666666,
             "#ed7953"
            ],
            [
             0.7777777777777778,
             "#fb9f3a"
            ],
            [
             0.8888888888888888,
             "#fdca26"
            ],
            [
             1,
             "#f0f921"
            ]
           ],
           "sequentialminus": [
            [
             0,
             "#0d0887"
            ],
            [
             0.1111111111111111,
             "#46039f"
            ],
            [
             0.2222222222222222,
             "#7201a8"
            ],
            [
             0.3333333333333333,
             "#9c179e"
            ],
            [
             0.4444444444444444,
             "#bd3786"
            ],
            [
             0.5555555555555556,
             "#d8576b"
            ],
            [
             0.6666666666666666,
             "#ed7953"
            ],
            [
             0.7777777777777778,
             "#fb9f3a"
            ],
            [
             0.8888888888888888,
             "#fdca26"
            ],
            [
             1,
             "#f0f921"
            ]
           ]
          },
          "colorway": [
           "#636efa",
           "#EF553B",
           "#00cc96",
           "#ab63fa",
           "#FFA15A",
           "#19d3f3",
           "#FF6692",
           "#B6E880",
           "#FF97FF",
           "#FECB52"
          ],
          "font": {
           "color": "#2a3f5f"
          },
          "geo": {
           "bgcolor": "white",
           "lakecolor": "white",
           "landcolor": "#E5ECF6",
           "showlakes": true,
           "showland": true,
           "subunitcolor": "white"
          },
          "hoverlabel": {
           "align": "left"
          },
          "hovermode": "closest",
          "mapbox": {
           "style": "light"
          },
          "paper_bgcolor": "white",
          "plot_bgcolor": "#E5ECF6",
          "polar": {
           "angularaxis": {
            "gridcolor": "white",
            "linecolor": "white",
            "ticks": ""
           },
           "bgcolor": "#E5ECF6",
           "radialaxis": {
            "gridcolor": "white",
            "linecolor": "white",
            "ticks": ""
           }
          },
          "scene": {
           "xaxis": {
            "backgroundcolor": "#E5ECF6",
            "gridcolor": "white",
            "gridwidth": 2,
            "linecolor": "white",
            "showbackground": true,
            "ticks": "",
            "zerolinecolor": "white"
           },
           "yaxis": {
            "backgroundcolor": "#E5ECF6",
            "gridcolor": "white",
            "gridwidth": 2,
            "linecolor": "white",
            "showbackground": true,
            "ticks": "",
            "zerolinecolor": "white"
           },
           "zaxis": {
            "backgroundcolor": "#E5ECF6",
            "gridcolor": "white",
            "gridwidth": 2,
            "linecolor": "white",
            "showbackground": true,
            "ticks": "",
            "zerolinecolor": "white"
           }
          },
          "shapedefaults": {
           "line": {
            "color": "#2a3f5f"
           }
          },
          "ternary": {
           "aaxis": {
            "gridcolor": "white",
            "linecolor": "white",
            "ticks": ""
           },
           "baxis": {
            "gridcolor": "white",
            "linecolor": "white",
            "ticks": ""
           },
           "bgcolor": "#E5ECF6",
           "caxis": {
            "gridcolor": "white",
            "linecolor": "white",
            "ticks": ""
           }
          },
          "title": {
           "x": 0.05
          },
          "xaxis": {
           "automargin": true,
           "gridcolor": "white",
           "linecolor": "white",
           "ticks": "",
           "title": {
            "standoff": 15
           },
           "zerolinecolor": "white",
           "zerolinewidth": 2
          },
          "yaxis": {
           "automargin": true,
           "gridcolor": "white",
           "linecolor": "white",
           "ticks": "",
           "title": {
            "standoff": 15
           },
           "zerolinecolor": "white",
           "zerolinewidth": 2
          }
         }
        },
        "title": {
         "font": {
          "color": "#4D5663"
         }
        },
        "xaxis": {
         "anchor": "y",
         "domain": [
          0,
          0.2125
         ],
         "gridcolor": "#E1E5ED",
         "showgrid": false,
         "tickfont": {
          "color": "#4D5663"
         },
         "title": {
          "font": {
           "color": "#4D5663"
          },
          "text": ""
         },
         "zerolinecolor": "#E1E5ED"
        },
        "xaxis10": {
         "anchor": "y10",
         "domain": [
          0.2625,
          0.475
         ],
         "gridcolor": "#E1E5ED",
         "showgrid": false,
         "tickfont": {
          "color": "#4D5663"
         },
         "title": {
          "font": {
           "color": "#4D5663"
          },
          "text": ""
         },
         "zerolinecolor": "#E1E5ED"
        },
        "xaxis11": {
         "anchor": "y11",
         "domain": [
          0.525,
          0.7375
         ],
         "gridcolor": "#E1E5ED",
         "showgrid": false,
         "tickfont": {
          "color": "#4D5663"
         },
         "title": {
          "font": {
           "color": "#4D5663"
          },
          "text": ""
         },
         "zerolinecolor": "#E1E5ED"
        },
        "xaxis12": {
         "anchor": "y12",
         "domain": [
          0.7875,
          1
         ],
         "gridcolor": "#E1E5ED",
         "showgrid": false,
         "tickfont": {
          "color": "#4D5663"
         },
         "title": {
          "font": {
           "color": "#4D5663"
          },
          "text": ""
         },
         "zerolinecolor": "#E1E5ED"
        },
        "xaxis13": {
         "anchor": "y13",
         "domain": [
          0,
          0.2125
         ],
         "gridcolor": "#E1E5ED",
         "showgrid": false,
         "tickfont": {
          "color": "#4D5663"
         },
         "title": {
          "font": {
           "color": "#4D5663"
          },
          "text": ""
         },
         "zerolinecolor": "#E1E5ED"
        },
        "xaxis14": {
         "anchor": "y14",
         "domain": [
          0.2625,
          0.475
         ],
         "gridcolor": "#E1E5ED",
         "showgrid": false,
         "tickfont": {
          "color": "#4D5663"
         },
         "title": {
          "font": {
           "color": "#4D5663"
          },
          "text": ""
         },
         "zerolinecolor": "#E1E5ED"
        },
        "xaxis15": {
         "anchor": "y15",
         "domain": [
          0.525,
          0.7375
         ],
         "gridcolor": "#E1E5ED",
         "showgrid": false,
         "tickfont": {
          "color": "#4D5663"
         },
         "title": {
          "font": {
           "color": "#4D5663"
          },
          "text": ""
         },
         "zerolinecolor": "#E1E5ED"
        },
        "xaxis16": {
         "anchor": "y16",
         "domain": [
          0.7875,
          1
         ],
         "gridcolor": "#E1E5ED",
         "showgrid": false,
         "tickfont": {
          "color": "#4D5663"
         },
         "title": {
          "font": {
           "color": "#4D5663"
          },
          "text": ""
         },
         "zerolinecolor": "#E1E5ED"
        },
        "xaxis2": {
         "anchor": "y2",
         "domain": [
          0.2625,
          0.475
         ],
         "gridcolor": "#E1E5ED",
         "showgrid": false,
         "tickfont": {
          "color": "#4D5663"
         },
         "title": {
          "font": {
           "color": "#4D5663"
          },
          "text": ""
         },
         "zerolinecolor": "#E1E5ED"
        },
        "xaxis3": {
         "anchor": "y3",
         "domain": [
          0.525,
          0.7375
         ],
         "gridcolor": "#E1E5ED",
         "showgrid": false,
         "tickfont": {
          "color": "#4D5663"
         },
         "title": {
          "font": {
           "color": "#4D5663"
          },
          "text": ""
         },
         "zerolinecolor": "#E1E5ED"
        },
        "xaxis4": {
         "anchor": "y4",
         "domain": [
          0.7875,
          1
         ],
         "gridcolor": "#E1E5ED",
         "showgrid": false,
         "tickfont": {
          "color": "#4D5663"
         },
         "title": {
          "font": {
           "color": "#4D5663"
          },
          "text": ""
         },
         "zerolinecolor": "#E1E5ED"
        },
        "xaxis5": {
         "anchor": "y5",
         "domain": [
          0,
          0.2125
         ],
         "gridcolor": "#E1E5ED",
         "showgrid": false,
         "tickfont": {
          "color": "#4D5663"
         },
         "title": {
          "font": {
           "color": "#4D5663"
          },
          "text": ""
         },
         "zerolinecolor": "#E1E5ED"
        },
        "xaxis6": {
         "anchor": "y6",
         "domain": [
          0.2625,
          0.475
         ],
         "gridcolor": "#E1E5ED",
         "showgrid": false,
         "tickfont": {
          "color": "#4D5663"
         },
         "title": {
          "font": {
           "color": "#4D5663"
          },
          "text": ""
         },
         "zerolinecolor": "#E1E5ED"
        },
        "xaxis7": {
         "anchor": "y7",
         "domain": [
          0.525,
          0.7375
         ],
         "gridcolor": "#E1E5ED",
         "showgrid": false,
         "tickfont": {
          "color": "#4D5663"
         },
         "title": {
          "font": {
           "color": "#4D5663"
          },
          "text": ""
         },
         "zerolinecolor": "#E1E5ED"
        },
        "xaxis8": {
         "anchor": "y8",
         "domain": [
          0.7875,
          1
         ],
         "gridcolor": "#E1E5ED",
         "showgrid": false,
         "tickfont": {
          "color": "#4D5663"
         },
         "title": {
          "font": {
           "color": "#4D5663"
          },
          "text": ""
         },
         "zerolinecolor": "#E1E5ED"
        },
        "xaxis9": {
         "anchor": "y9",
         "domain": [
          0,
          0.2125
         ],
         "gridcolor": "#E1E5ED",
         "showgrid": false,
         "tickfont": {
          "color": "#4D5663"
         },
         "title": {
          "font": {
           "color": "#4D5663"
          },
          "text": ""
         },
         "zerolinecolor": "#E1E5ED"
        },
        "yaxis": {
         "anchor": "x",
         "domain": [
          0.8025,
          1
         ],
         "gridcolor": "#E1E5ED",
         "showgrid": false,
         "tickfont": {
          "color": "#4D5663"
         },
         "title": {
          "font": {
           "color": "#4D5663"
          },
          "text": ""
         },
         "zerolinecolor": "#E1E5ED"
        },
        "yaxis10": {
         "anchor": "x10",
         "domain": [
          0.2675,
          0.465
         ],
         "gridcolor": "#E1E5ED",
         "showgrid": false,
         "tickfont": {
          "color": "#4D5663"
         },
         "title": {
          "font": {
           "color": "#4D5663"
          },
          "text": ""
         },
         "zerolinecolor": "#E1E5ED"
        },
        "yaxis11": {
         "anchor": "x11",
         "domain": [
          0.2675,
          0.465
         ],
         "gridcolor": "#E1E5ED",
         "showgrid": false,
         "tickfont": {
          "color": "#4D5663"
         },
         "title": {
          "font": {
           "color": "#4D5663"
          },
          "text": ""
         },
         "zerolinecolor": "#E1E5ED"
        },
        "yaxis12": {
         "anchor": "x12",
         "domain": [
          0.2675,
          0.465
         ],
         "gridcolor": "#E1E5ED",
         "showgrid": false,
         "tickfont": {
          "color": "#4D5663"
         },
         "title": {
          "font": {
           "color": "#4D5663"
          },
          "text": ""
         },
         "zerolinecolor": "#E1E5ED"
        },
        "yaxis13": {
         "anchor": "x13",
         "domain": [
          0,
          0.1975
         ],
         "gridcolor": "#E1E5ED",
         "showgrid": false,
         "tickfont": {
          "color": "#4D5663"
         },
         "title": {
          "font": {
           "color": "#4D5663"
          },
          "text": ""
         },
         "zerolinecolor": "#E1E5ED"
        },
        "yaxis14": {
         "anchor": "x14",
         "domain": [
          0,
          0.1975
         ],
         "gridcolor": "#E1E5ED",
         "showgrid": false,
         "tickfont": {
          "color": "#4D5663"
         },
         "title": {
          "font": {
           "color": "#4D5663"
          },
          "text": ""
         },
         "zerolinecolor": "#E1E5ED"
        },
        "yaxis15": {
         "anchor": "x15",
         "domain": [
          0,
          0.1975
         ],
         "gridcolor": "#E1E5ED",
         "showgrid": false,
         "tickfont": {
          "color": "#4D5663"
         },
         "title": {
          "font": {
           "color": "#4D5663"
          },
          "text": ""
         },
         "zerolinecolor": "#E1E5ED"
        },
        "yaxis16": {
         "anchor": "x16",
         "domain": [
          0,
          0.1975
         ],
         "gridcolor": "#E1E5ED",
         "showgrid": false,
         "tickfont": {
          "color": "#4D5663"
         },
         "title": {
          "font": {
           "color": "#4D5663"
          },
          "text": ""
         },
         "zerolinecolor": "#E1E5ED"
        },
        "yaxis2": {
         "anchor": "x2",
         "domain": [
          0.8025,
          1
         ],
         "gridcolor": "#E1E5ED",
         "showgrid": false,
         "tickfont": {
          "color": "#4D5663"
         },
         "title": {
          "font": {
           "color": "#4D5663"
          },
          "text": ""
         },
         "zerolinecolor": "#E1E5ED"
        },
        "yaxis3": {
         "anchor": "x3",
         "domain": [
          0.8025,
          1
         ],
         "gridcolor": "#E1E5ED",
         "showgrid": false,
         "tickfont": {
          "color": "#4D5663"
         },
         "title": {
          "font": {
           "color": "#4D5663"
          },
          "text": ""
         },
         "zerolinecolor": "#E1E5ED"
        },
        "yaxis4": {
         "anchor": "x4",
         "domain": [
          0.8025,
          1
         ],
         "gridcolor": "#E1E5ED",
         "showgrid": false,
         "tickfont": {
          "color": "#4D5663"
         },
         "title": {
          "font": {
           "color": "#4D5663"
          },
          "text": ""
         },
         "zerolinecolor": "#E1E5ED"
        },
        "yaxis5": {
         "anchor": "x5",
         "domain": [
          0.535,
          0.7325
         ],
         "gridcolor": "#E1E5ED",
         "showgrid": false,
         "tickfont": {
          "color": "#4D5663"
         },
         "title": {
          "font": {
           "color": "#4D5663"
          },
          "text": ""
         },
         "zerolinecolor": "#E1E5ED"
        },
        "yaxis6": {
         "anchor": "x6",
         "domain": [
          0.535,
          0.7325
         ],
         "gridcolor": "#E1E5ED",
         "showgrid": false,
         "tickfont": {
          "color": "#4D5663"
         },
         "title": {
          "font": {
           "color": "#4D5663"
          },
          "text": ""
         },
         "zerolinecolor": "#E1E5ED"
        },
        "yaxis7": {
         "anchor": "x7",
         "domain": [
          0.535,
          0.7325
         ],
         "gridcolor": "#E1E5ED",
         "showgrid": false,
         "tickfont": {
          "color": "#4D5663"
         },
         "title": {
          "font": {
           "color": "#4D5663"
          },
          "text": ""
         },
         "zerolinecolor": "#E1E5ED"
        },
        "yaxis8": {
         "anchor": "x8",
         "domain": [
          0.535,
          0.7325
         ],
         "gridcolor": "#E1E5ED",
         "showgrid": false,
         "tickfont": {
          "color": "#4D5663"
         },
         "title": {
          "font": {
           "color": "#4D5663"
          },
          "text": ""
         },
         "zerolinecolor": "#E1E5ED"
        },
        "yaxis9": {
         "anchor": "x9",
         "domain": [
          0.2675,
          0.465
         ],
         "gridcolor": "#E1E5ED",
         "showgrid": false,
         "tickfont": {
          "color": "#4D5663"
         },
         "title": {
          "font": {
           "color": "#4D5663"
          },
          "text": ""
         },
         "zerolinecolor": "#E1E5ED"
        }
       }
      },
      "text/html": [
       "<div>                            <div id=\"a93cbde7-fd8c-4ab2-866f-fb824c85fea7\" class=\"plotly-graph-div\" style=\"height:525px; width:100%;\"></div>            <script type=\"text/javascript\">                require([\"plotly\"], function(Plotly) {                    window.PLOTLYENV=window.PLOTLYENV || {};\n",
       "                    window.PLOTLYENV.BASE_URL='https://plot.ly';                                    if (document.getElementById(\"a93cbde7-fd8c-4ab2-866f-fb824c85fea7\")) {                    Plotly.newPlot(                        \"a93cbde7-fd8c-4ab2-866f-fb824c85fea7\",                        [{\"histfunc\": \"count\", \"histnorm\": \"\", \"marker\": {\"color\": \"rgba(255, 153, 51, 1.0)\", \"line\": {\"color\": \"#4D5663\", \"width\": 1.3}}, \"name\": \"A\", \"nbinsx\": 10, \"opacity\": 0.8, \"orientation\": \"v\", \"type\": \"histogram\", \"x\": [-0.1601183780470847, 0.15940940597672718, -0.8691414452109293, 2.1010276114389423, 0.17164077472576567, -0.3615969648072336, -1.4329312503554597, 1.0348622009763033, -0.9530959678937821, -1.949144277250312, -0.653801018600976, -1.0586602896818622, 0.28861617739230505, 1.6481156904717285, 0.5021988384451932, 0.7419461664678879, 0.17745499512664956, -0.38325620812446526, 0.12849351472190346, 0.15024354836000892, -1.9046735986048597, 0.06729564255980032, 1.3114167690497167, 0.6532864418010814, 0.7736641644900281, 0.9710332051307252, -1.2950688683078926, -0.2330559856021781, -0.2506005785170448, 0.8746518298457197, 0.49012434927847653, 1.952542960328725, 1.422053288373496, -0.041017606165554964, -0.5696189873368337, 1.3796194148641876, -0.9684850941850984, -0.6867169752967174, 1.2175982302306936, -0.7950270858687128, -0.20268130839797435, -0.3166116775607073, 0.013265786411123252, 1.3609161101425622, 0.918899536952606, 0.8946799623180145, -0.32355619688753906, -0.26159337861282134, 1.7316425076849074, 0.18598089946101812, 0.5735137879874297, 0.5584074518494194, -0.39038838391341496, 0.9879393225390422, 2.5030105940459157, -0.48432032452495916, -0.41613166505421517, -1.3139722396678235, 0.22869715598900986, -0.5435803703335473, 2.487064416501825, -0.44198082209238426, -0.3539645120194969, 0.27099557207341957, 0.45250919764242253, -0.0576693407543129, -0.7573808849544862, -1.3875401356438606, 0.5770513485881394, 1.2340897966166007, 1.014934806523684, 0.1530954629770791, -1.0723060534055624, 1.085507498157262, 1.3346837122325887, -1.3698512217275174, -0.10433179640403041, -1.201928853898415, -0.30352824810029955, 0.33826194670927395, -0.7785433241744303, -0.14302780228701797, 0.6172268757774699, -1.5310619955784, -0.9632272022705074, 0.8562948380132994, -0.137384953960321, -0.9653087534475998, -0.4426437998567408, 0.5304095588563396, 1.4850884827390285, 0.1906684616642033, 0.246574144712053, -0.2369541408221221, 0.963784194598969, 0.44074100274933714, 0.546935093537091, -1.756855506983355, 1.8244298964505592, -1.4031423867604629], \"xaxis\": \"x\", \"yaxis\": \"y\"}, {\"line\": {\"color\": \"rgba(128, 128, 128, 1.0)\", \"dash\": \"solid\", \"shape\": \"linear\", \"width\": 1.3}, \"marker\": {\"size\": 2, \"symbol\": \"circle\"}, \"mode\": \"markers\", \"name\": \"A\", \"text\": \"\", \"type\": \"scatter\", \"x\": [-0.2644633545863186, 1.5714302027771738, -0.022060694285092157, 0.44695975606255306, 1.6437621966592817, -2.1304958014639213, -0.34165423712052057, 0.7735034696623291, 0.4361167369817292, 0.38315007358375436, -0.13683266188575985, 0.2963414389906744, -2.1731658439592922, 0.20259417441792585, 0.09984009734314357, 0.691047349227367, 1.314807118205364, -0.521105250810098, -0.2822920873303137, -1.815604989842956, -1.0381784939062224, -1.540817803928697, 0.7999428656890234, -1.719359604418866, 1.2745453748761055, 1.504906159003659, -0.03548530175341141, -0.47520221229360315, -0.03341052408579652, 0.41606932003300406, -1.4669960816172585, 0.3399043588728614, -0.1322471972177475, 0.3885005500255243, -0.1296864888337782, 0.3725902163354231, -0.1681840505469514, -0.5380402156473689, -1.7400857956585742, 1.1274655014808161, -0.1642696740906239, 0.3284104283712735, 1.6754071912755992, 0.19180608461248194, 1.370769793189238, 1.7483301226382149, -0.25010508806739873, 0.13449895716815247, 0.4234980413886394, -0.6292563951712109, 2.2953199758200236, -0.17969684632277028, 1.2987890271027225, 0.4030094700678754, 0.08036747531795806, -0.08069390393910325, 1.9924420651500254, -0.2698486232006421, 0.9189127955439805, 1.4636227816733902, 0.938845731900176, 0.3774223763929635, -0.06039266365866485, 0.9786792112048589, 0.18303575909528905, 1.6213974948934198, -0.9011226730985576, 1.5550696967051754, -0.5287319696533463, -2.134382600497725, -2.4884498634990253, 0.9141044261447112, -1.0929243882156412, 0.33144393850878756, -0.11164949938320748, -0.3069432766632717, 1.1173680553813508, 0.26683988452577584, 2.572799719475098, 0.15916196813082964, 0.07842255156767423, -0.3913927786082702, -0.6787973075228827, -0.42382151492180364, -0.3450314270380239, -2.2701907481405805, -0.25405633676066053, -1.1065213219948289, -0.9709405991456087, -0.4193028156423804, -0.7262378201660576, 1.0725696136192406, -0.5523869569628342, 1.6427537695901733, 1.5568589945640556, 2.570984921845135, -0.36030875900544634, 0.26494896940570273, -1.3263649914452567, 0.3256623316086684], \"xaxis\": \"x2\", \"y\": [-0.1601183780470847, 0.15940940597672718, -0.8691414452109293, 2.1010276114389423, 0.17164077472576567, -0.3615969648072336, -1.4329312503554597, 1.0348622009763033, -0.9530959678937821, -1.949144277250312, -0.653801018600976, -1.0586602896818622, 0.28861617739230505, 1.6481156904717285, 0.5021988384451932, 0.7419461664678879, 0.17745499512664956, -0.38325620812446526, 0.12849351472190346, 0.15024354836000892, -1.9046735986048597, 0.06729564255980032, 1.3114167690497167, 0.6532864418010814, 0.7736641644900281, 0.9710332051307252, -1.2950688683078926, -0.2330559856021781, -0.2506005785170448, 0.8746518298457197, 0.49012434927847653, 1.952542960328725, 1.422053288373496, -0.041017606165554964, -0.5696189873368337, 1.3796194148641876, -0.9684850941850984, -0.6867169752967174, 1.2175982302306936, -0.7950270858687128, -0.20268130839797435, -0.3166116775607073, 0.013265786411123252, 1.3609161101425622, 0.918899536952606, 0.8946799623180145, -0.32355619688753906, -0.26159337861282134, 1.7316425076849074, 0.18598089946101812, 0.5735137879874297, 0.5584074518494194, -0.39038838391341496, 0.9879393225390422, 2.5030105940459157, -0.48432032452495916, -0.41613166505421517, -1.3139722396678235, 0.22869715598900986, -0.5435803703335473, 2.487064416501825, -0.44198082209238426, -0.3539645120194969, 0.27099557207341957, 0.45250919764242253, -0.0576693407543129, -0.7573808849544862, -1.3875401356438606, 0.5770513485881394, 1.2340897966166007, 1.014934806523684, 0.1530954629770791, -1.0723060534055624, 1.085507498157262, 1.3346837122325887, -1.3698512217275174, -0.10433179640403041, -1.201928853898415, -0.30352824810029955, 0.33826194670927395, -0.7785433241744303, -0.14302780228701797, 0.6172268757774699, -1.5310619955784, -0.9632272022705074, 0.8562948380132994, -0.137384953960321, -0.9653087534475998, -0.4426437998567408, 0.5304095588563396, 1.4850884827390285, 0.1906684616642033, 0.246574144712053, -0.2369541408221221, 0.963784194598969, 0.44074100274933714, 0.546935093537091, -1.756855506983355, 1.8244298964505592, -1.4031423867604629], \"yaxis\": \"y2\"}, {\"line\": {\"color\": \"rgba(128, 128, 128, 1.0)\", \"dash\": \"solid\", \"shape\": \"linear\", \"width\": 1.3}, \"marker\": {\"size\": 2, \"symbol\": \"circle\"}, \"mode\": \"markers\", \"name\": \"A\", \"text\": \"\", \"type\": \"scatter\", \"x\": [-0.11348786453792516, -0.1311524782899683, 0.506578319243623, -0.04641283626244963, 0.392212467710873, -0.6553786708887571, 0.5571977672878804, 2.1052672448775063, 0.10340710707386995, -0.8974770305577208, 1.9384578639188583, 0.15974699198145836, 0.31680044214315034, 0.3530189009363819, -0.6863570397708625, 0.6748926487769098, -1.53963708500794, -0.6064150850079467, -2.285154574606842, 1.6087609096634756, 1.4703270008301461, -0.9055417363838063, -0.48767724288311354, 1.6677638524446878, 0.4953296083138165, -1.2837673697054308, -0.17466900588527673, 1.7550914473984882, -0.08137639105933259, -0.7303431206142009, -2.2602950720275503, 0.33518836539457775, -0.07526806056324023, -0.036577505440543064, 0.710015868627727, 0.6998353100073591, 0.19950402567226277, -1.092821161366645, 1.038682114597619, -0.943972451379481, -0.33186493395713546, 0.009566765795468796, -1.3043815067990907, -0.47903710828837115, -1.681324460350031, -0.1004688071250641, 0.34107993712471174, -0.02319459821086625, -0.3172287282686062, 0.25571725829735864, -1.1537289156229074, 0.04125732193811072, -0.37183401874919636, 0.4800509318471511, 0.6829947057833371, 0.03647745140630001, 0.08589699451217257, -0.3506312190885835, 0.19439322728550584, -0.28144931640232496, -0.06229460813495941, 0.860135991154396, -0.6336830074983791, 2.1614194464065206, 1.4886188417324488, 1.948739186374998, -1.65932556580322, -1.7890236709376695, -1.024603199127202, -0.2839461673175258, -1.5504822872573811, -0.3173611535046725, 1.2497166679966984, -0.8689612255158649, 0.1308449392924964, -0.11046281885570239, -2.4373915395181656, -1.0245728612602316, -0.5055241101912172, 0.056595626695443206, 0.5176723372772564, 0.15009361114403955, 0.15658771344225464, 0.33471699558951534, 0.8813025543563201, -0.8391595392038008, -2.490208577476746, 0.6042632646657747, -0.331476611827571, 1.5813863192310202, 0.7390671386615796, -0.23184846099447173, 0.5662094173049512, 1.827832646415857, 0.15221010404191296, 0.5398875261115618, 0.30910642989010956, -0.9162187067758907, 1.4429566269436902, 0.8159551231165043], \"xaxis\": \"x3\", \"y\": [-0.1601183780470847, 0.15940940597672718, -0.8691414452109293, 2.1010276114389423, 0.17164077472576567, -0.3615969648072336, -1.4329312503554597, 1.0348622009763033, -0.9530959678937821, -1.949144277250312, -0.653801018600976, -1.0586602896818622, 0.28861617739230505, 1.6481156904717285, 0.5021988384451932, 0.7419461664678879, 0.17745499512664956, -0.38325620812446526, 0.12849351472190346, 0.15024354836000892, -1.9046735986048597, 0.06729564255980032, 1.3114167690497167, 0.6532864418010814, 0.7736641644900281, 0.9710332051307252, -1.2950688683078926, -0.2330559856021781, -0.2506005785170448, 0.8746518298457197, 0.49012434927847653, 1.952542960328725, 1.422053288373496, -0.041017606165554964, -0.5696189873368337, 1.3796194148641876, -0.9684850941850984, -0.6867169752967174, 1.2175982302306936, -0.7950270858687128, -0.20268130839797435, -0.3166116775607073, 0.013265786411123252, 1.3609161101425622, 0.918899536952606, 0.8946799623180145, -0.32355619688753906, -0.26159337861282134, 1.7316425076849074, 0.18598089946101812, 0.5735137879874297, 0.5584074518494194, -0.39038838391341496, 0.9879393225390422, 2.5030105940459157, -0.48432032452495916, -0.41613166505421517, -1.3139722396678235, 0.22869715598900986, -0.5435803703335473, 2.487064416501825, -0.44198082209238426, -0.3539645120194969, 0.27099557207341957, 0.45250919764242253, -0.0576693407543129, -0.7573808849544862, -1.3875401356438606, 0.5770513485881394, 1.2340897966166007, 1.014934806523684, 0.1530954629770791, -1.0723060534055624, 1.085507498157262, 1.3346837122325887, -1.3698512217275174, -0.10433179640403041, -1.201928853898415, -0.30352824810029955, 0.33826194670927395, -0.7785433241744303, -0.14302780228701797, 0.6172268757774699, -1.5310619955784, -0.9632272022705074, 0.8562948380132994, -0.137384953960321, -0.9653087534475998, -0.4426437998567408, 0.5304095588563396, 1.4850884827390285, 0.1906684616642033, 0.246574144712053, -0.2369541408221221, 0.963784194598969, 0.44074100274933714, 0.546935093537091, -1.756855506983355, 1.8244298964505592, -1.4031423867604629], \"yaxis\": \"y3\"}, {\"line\": {\"color\": \"rgba(128, 128, 128, 1.0)\", \"dash\": \"solid\", \"shape\": \"linear\", \"width\": 1.3}, \"marker\": {\"size\": 2, \"symbol\": \"circle\"}, \"mode\": \"markers\", \"name\": \"A\", \"text\": \"\", \"type\": \"scatter\", \"x\": [-0.3141047776814371, -0.8970192710960458, 0.5736914479068228, -0.5206411120771636, 0.16576510518810794, -0.5587118804610727, 0.9878309483052345, 0.5023609075433647, 0.9745608398826814, 0.16655342964635966, 0.9788192259549774, -0.09074367425800649, 1.5829907682035778, -0.764247292231081, 0.17308183983488762, -0.24791312488305745, -0.6938234905748255, 0.30415868202200325, -1.4573797696393782, -0.8029910175529617, -0.7457353564480751, 3.0306751179427884, 0.045915555843682884, 1.196333482147036, 1.2186397325655025, -0.2512862780510248, -0.5218023758906899, 0.0006545154733645155, 0.0882807793245977, 0.08032544568298304, 0.300452263420204, -0.7004037709231044, 1.5959195349326478, -1.1456317403017728, -1.6090083148862744, -0.024979196647730097, -2.7855243796398645, 0.19365146667022942, 0.9458482394605472, -0.6450285898838843, -0.6619920977863117, -0.286079247403523, 0.6729421552051487, -0.7424158022191921, 0.15674906928135854, 1.525833682709512, 0.8354744054671075, -0.10945542092806206, -0.7903659987502104, 2.252293455006751, 1.0305338642195672, -2.143230338789938, 0.3854367833308197, 0.5065383599856818, 0.012066202860070952, -1.4437774899649107, -0.6746762056654647, -0.19410968709492404, -1.147512403615673, 0.33062408255489073, -0.28855419839694224, -1.3760381340868197, 0.89767228673124, 0.199628224052539, -0.8269461131144589, -2.0310134868416885, -1.311605317804653, 1.0244985960728157, 0.34724634350785616, 0.8354198106887961, 0.8379992652748512, 0.2130903288179697, 0.41486346653232337, -0.021864543671643935, -1.1005092230234894, -0.8906576571862331, -0.676797498832179, -0.35325718962322256, -0.08108079990629014, 1.1853695718411121, 0.30057746921104944, -0.40043517461693023, -1.5278058799076497, -0.8711964279517036, -1.5409210468656107, 0.22816741726104836, -0.03255898174171499, 0.026687251866059098, 0.4294202743518761, 0.3950280004384783, 1.0450196729200016, -0.875516508014222, -0.4722584961793411, -0.5692715168213826, 0.9682407212914111, 0.08000451194139384, 0.2782152013702495, 0.24866085181437123, -1.005337704907483, 1.490533209873795], \"xaxis\": \"x4\", \"y\": [-0.1601183780470847, 0.15940940597672718, -0.8691414452109293, 2.1010276114389423, 0.17164077472576567, -0.3615969648072336, -1.4329312503554597, 1.0348622009763033, -0.9530959678937821, -1.949144277250312, -0.653801018600976, -1.0586602896818622, 0.28861617739230505, 1.6481156904717285, 0.5021988384451932, 0.7419461664678879, 0.17745499512664956, -0.38325620812446526, 0.12849351472190346, 0.15024354836000892, -1.9046735986048597, 0.06729564255980032, 1.3114167690497167, 0.6532864418010814, 0.7736641644900281, 0.9710332051307252, -1.2950688683078926, -0.2330559856021781, -0.2506005785170448, 0.8746518298457197, 0.49012434927847653, 1.952542960328725, 1.422053288373496, -0.041017606165554964, -0.5696189873368337, 1.3796194148641876, -0.9684850941850984, -0.6867169752967174, 1.2175982302306936, -0.7950270858687128, -0.20268130839797435, -0.3166116775607073, 0.013265786411123252, 1.3609161101425622, 0.918899536952606, 0.8946799623180145, -0.32355619688753906, -0.26159337861282134, 1.7316425076849074, 0.18598089946101812, 0.5735137879874297, 0.5584074518494194, -0.39038838391341496, 0.9879393225390422, 2.5030105940459157, -0.48432032452495916, -0.41613166505421517, -1.3139722396678235, 0.22869715598900986, -0.5435803703335473, 2.487064416501825, -0.44198082209238426, -0.3539645120194969, 0.27099557207341957, 0.45250919764242253, -0.0576693407543129, -0.7573808849544862, -1.3875401356438606, 0.5770513485881394, 1.2340897966166007, 1.014934806523684, 0.1530954629770791, -1.0723060534055624, 1.085507498157262, 1.3346837122325887, -1.3698512217275174, -0.10433179640403041, -1.201928853898415, -0.30352824810029955, 0.33826194670927395, -0.7785433241744303, -0.14302780228701797, 0.6172268757774699, -1.5310619955784, -0.9632272022705074, 0.8562948380132994, -0.137384953960321, -0.9653087534475998, -0.4426437998567408, 0.5304095588563396, 1.4850884827390285, 0.1906684616642033, 0.246574144712053, -0.2369541408221221, 0.963784194598969, 0.44074100274933714, 0.546935093537091, -1.756855506983355, 1.8244298964505592, -1.4031423867604629], \"yaxis\": \"y4\"}, {\"line\": {\"color\": \"rgba(128, 128, 128, 1.0)\", \"dash\": \"solid\", \"shape\": \"linear\", \"width\": 1.3}, \"marker\": {\"size\": 2, \"symbol\": \"circle\"}, \"mode\": \"markers\", \"name\": \"B\", \"text\": \"\", \"type\": \"scatter\", \"x\": [-0.1601183780470847, 0.15940940597672718, -0.8691414452109293, 2.1010276114389423, 0.17164077472576567, -0.3615969648072336, -1.4329312503554597, 1.0348622009763033, -0.9530959678937821, -1.949144277250312, -0.653801018600976, -1.0586602896818622, 0.28861617739230505, 1.6481156904717285, 0.5021988384451932, 0.7419461664678879, 0.17745499512664956, -0.38325620812446526, 0.12849351472190346, 0.15024354836000892, -1.9046735986048597, 0.06729564255980032, 1.3114167690497167, 0.6532864418010814, 0.7736641644900281, 0.9710332051307252, -1.2950688683078926, -0.2330559856021781, -0.2506005785170448, 0.8746518298457197, 0.49012434927847653, 1.952542960328725, 1.422053288373496, -0.041017606165554964, -0.5696189873368337, 1.3796194148641876, -0.9684850941850984, -0.6867169752967174, 1.2175982302306936, -0.7950270858687128, -0.20268130839797435, -0.3166116775607073, 0.013265786411123252, 1.3609161101425622, 0.918899536952606, 0.8946799623180145, -0.32355619688753906, -0.26159337861282134, 1.7316425076849074, 0.18598089946101812, 0.5735137879874297, 0.5584074518494194, -0.39038838391341496, 0.9879393225390422, 2.5030105940459157, -0.48432032452495916, -0.41613166505421517, -1.3139722396678235, 0.22869715598900986, -0.5435803703335473, 2.487064416501825, -0.44198082209238426, -0.3539645120194969, 0.27099557207341957, 0.45250919764242253, -0.0576693407543129, -0.7573808849544862, -1.3875401356438606, 0.5770513485881394, 1.2340897966166007, 1.014934806523684, 0.1530954629770791, -1.0723060534055624, 1.085507498157262, 1.3346837122325887, -1.3698512217275174, -0.10433179640403041, -1.201928853898415, -0.30352824810029955, 0.33826194670927395, -0.7785433241744303, -0.14302780228701797, 0.6172268757774699, -1.5310619955784, -0.9632272022705074, 0.8562948380132994, -0.137384953960321, -0.9653087534475998, -0.4426437998567408, 0.5304095588563396, 1.4850884827390285, 0.1906684616642033, 0.246574144712053, -0.2369541408221221, 0.963784194598969, 0.44074100274933714, 0.546935093537091, -1.756855506983355, 1.8244298964505592, -1.4031423867604629], \"xaxis\": \"x5\", \"y\": [-0.2644633545863186, 1.5714302027771738, -0.022060694285092157, 0.44695975606255306, 1.6437621966592817, -2.1304958014639213, -0.34165423712052057, 0.7735034696623291, 0.4361167369817292, 0.38315007358375436, -0.13683266188575985, 0.2963414389906744, -2.1731658439592922, 0.20259417441792585, 0.09984009734314357, 0.691047349227367, 1.314807118205364, -0.521105250810098, -0.2822920873303137, -1.815604989842956, -1.0381784939062224, -1.540817803928697, 0.7999428656890234, -1.719359604418866, 1.2745453748761055, 1.504906159003659, -0.03548530175341141, -0.47520221229360315, -0.03341052408579652, 0.41606932003300406, -1.4669960816172585, 0.3399043588728614, -0.1322471972177475, 0.3885005500255243, -0.1296864888337782, 0.3725902163354231, -0.1681840505469514, -0.5380402156473689, -1.7400857956585742, 1.1274655014808161, -0.1642696740906239, 0.3284104283712735, 1.6754071912755992, 0.19180608461248194, 1.370769793189238, 1.7483301226382149, -0.25010508806739873, 0.13449895716815247, 0.4234980413886394, -0.6292563951712109, 2.2953199758200236, -0.17969684632277028, 1.2987890271027225, 0.4030094700678754, 0.08036747531795806, -0.08069390393910325, 1.9924420651500254, -0.2698486232006421, 0.9189127955439805, 1.4636227816733902, 0.938845731900176, 0.3774223763929635, -0.06039266365866485, 0.9786792112048589, 0.18303575909528905, 1.6213974948934198, -0.9011226730985576, 1.5550696967051754, -0.5287319696533463, -2.134382600497725, -2.4884498634990253, 0.9141044261447112, -1.0929243882156412, 0.33144393850878756, -0.11164949938320748, -0.3069432766632717, 1.1173680553813508, 0.26683988452577584, 2.572799719475098, 0.15916196813082964, 0.07842255156767423, -0.3913927786082702, -0.6787973075228827, -0.42382151492180364, -0.3450314270380239, -2.2701907481405805, -0.25405633676066053, -1.1065213219948289, -0.9709405991456087, -0.4193028156423804, -0.7262378201660576, 1.0725696136192406, -0.5523869569628342, 1.6427537695901733, 1.5568589945640556, 2.570984921845135, -0.36030875900544634, 0.26494896940570273, -1.3263649914452567, 0.3256623316086684], \"yaxis\": \"y5\"}, {\"histfunc\": \"count\", \"histnorm\": \"\", \"marker\": {\"color\": \"rgba(55, 128, 191, 1.0)\", \"line\": {\"color\": \"#4D5663\", \"width\": 1.3}}, \"name\": \"B\", \"nbinsx\": 10, \"opacity\": 0.8, \"orientation\": \"v\", \"type\": \"histogram\", \"x\": [-0.2644633545863186, 1.5714302027771738, -0.022060694285092157, 0.44695975606255306, 1.6437621966592817, -2.1304958014639213, -0.34165423712052057, 0.7735034696623291, 0.4361167369817292, 0.38315007358375436, -0.13683266188575985, 0.2963414389906744, -2.1731658439592922, 0.20259417441792585, 0.09984009734314357, 0.691047349227367, 1.314807118205364, -0.521105250810098, -0.2822920873303137, -1.815604989842956, -1.0381784939062224, -1.540817803928697, 0.7999428656890234, -1.719359604418866, 1.2745453748761055, 1.504906159003659, -0.03548530175341141, -0.47520221229360315, -0.03341052408579652, 0.41606932003300406, -1.4669960816172585, 0.3399043588728614, -0.1322471972177475, 0.3885005500255243, -0.1296864888337782, 0.3725902163354231, -0.1681840505469514, -0.5380402156473689, -1.7400857956585742, 1.1274655014808161, -0.1642696740906239, 0.3284104283712735, 1.6754071912755992, 0.19180608461248194, 1.370769793189238, 1.7483301226382149, -0.25010508806739873, 0.13449895716815247, 0.4234980413886394, -0.6292563951712109, 2.2953199758200236, -0.17969684632277028, 1.2987890271027225, 0.4030094700678754, 0.08036747531795806, -0.08069390393910325, 1.9924420651500254, -0.2698486232006421, 0.9189127955439805, 1.4636227816733902, 0.938845731900176, 0.3774223763929635, -0.06039266365866485, 0.9786792112048589, 0.18303575909528905, 1.6213974948934198, -0.9011226730985576, 1.5550696967051754, -0.5287319696533463, -2.134382600497725, -2.4884498634990253, 0.9141044261447112, -1.0929243882156412, 0.33144393850878756, -0.11164949938320748, -0.3069432766632717, 1.1173680553813508, 0.26683988452577584, 2.572799719475098, 0.15916196813082964, 0.07842255156767423, -0.3913927786082702, -0.6787973075228827, -0.42382151492180364, -0.3450314270380239, -2.2701907481405805, -0.25405633676066053, -1.1065213219948289, -0.9709405991456087, -0.4193028156423804, -0.7262378201660576, 1.0725696136192406, -0.5523869569628342, 1.6427537695901733, 1.5568589945640556, 2.570984921845135, -0.36030875900544634, 0.26494896940570273, -1.3263649914452567, 0.3256623316086684], \"xaxis\": \"x6\", \"yaxis\": \"y6\"}, {\"line\": {\"color\": \"rgba(128, 128, 128, 1.0)\", \"dash\": \"solid\", \"shape\": \"linear\", \"width\": 1.3}, \"marker\": {\"size\": 2, \"symbol\": \"circle\"}, \"mode\": \"markers\", \"name\": \"B\", \"text\": \"\", \"type\": \"scatter\", \"x\": [-0.11348786453792516, -0.1311524782899683, 0.506578319243623, -0.04641283626244963, 0.392212467710873, -0.6553786708887571, 0.5571977672878804, 2.1052672448775063, 0.10340710707386995, -0.8974770305577208, 1.9384578639188583, 0.15974699198145836, 0.31680044214315034, 0.3530189009363819, -0.6863570397708625, 0.6748926487769098, -1.53963708500794, -0.6064150850079467, -2.285154574606842, 1.6087609096634756, 1.4703270008301461, -0.9055417363838063, -0.48767724288311354, 1.6677638524446878, 0.4953296083138165, -1.2837673697054308, -0.17466900588527673, 1.7550914473984882, -0.08137639105933259, -0.7303431206142009, -2.2602950720275503, 0.33518836539457775, -0.07526806056324023, -0.036577505440543064, 0.710015868627727, 0.6998353100073591, 0.19950402567226277, -1.092821161366645, 1.038682114597619, -0.943972451379481, -0.33186493395713546, 0.009566765795468796, -1.3043815067990907, -0.47903710828837115, -1.681324460350031, -0.1004688071250641, 0.34107993712471174, -0.02319459821086625, -0.3172287282686062, 0.25571725829735864, -1.1537289156229074, 0.04125732193811072, -0.37183401874919636, 0.4800509318471511, 0.6829947057833371, 0.03647745140630001, 0.08589699451217257, -0.3506312190885835, 0.19439322728550584, -0.28144931640232496, -0.06229460813495941, 0.860135991154396, -0.6336830074983791, 2.1614194464065206, 1.4886188417324488, 1.948739186374998, -1.65932556580322, -1.7890236709376695, -1.024603199127202, -0.2839461673175258, -1.5504822872573811, -0.3173611535046725, 1.2497166679966984, -0.8689612255158649, 0.1308449392924964, -0.11046281885570239, -2.4373915395181656, -1.0245728612602316, -0.5055241101912172, 0.056595626695443206, 0.5176723372772564, 0.15009361114403955, 0.15658771344225464, 0.33471699558951534, 0.8813025543563201, -0.8391595392038008, -2.490208577476746, 0.6042632646657747, -0.331476611827571, 1.5813863192310202, 0.7390671386615796, -0.23184846099447173, 0.5662094173049512, 1.827832646415857, 0.15221010404191296, 0.5398875261115618, 0.30910642989010956, -0.9162187067758907, 1.4429566269436902, 0.8159551231165043], \"xaxis\": \"x7\", \"y\": [-0.2644633545863186, 1.5714302027771738, -0.022060694285092157, 0.44695975606255306, 1.6437621966592817, -2.1304958014639213, -0.34165423712052057, 0.7735034696623291, 0.4361167369817292, 0.38315007358375436, -0.13683266188575985, 0.2963414389906744, -2.1731658439592922, 0.20259417441792585, 0.09984009734314357, 0.691047349227367, 1.314807118205364, -0.521105250810098, -0.2822920873303137, -1.815604989842956, -1.0381784939062224, -1.540817803928697, 0.7999428656890234, -1.719359604418866, 1.2745453748761055, 1.504906159003659, -0.03548530175341141, -0.47520221229360315, -0.03341052408579652, 0.41606932003300406, -1.4669960816172585, 0.3399043588728614, -0.1322471972177475, 0.3885005500255243, -0.1296864888337782, 0.3725902163354231, -0.1681840505469514, -0.5380402156473689, -1.7400857956585742, 1.1274655014808161, -0.1642696740906239, 0.3284104283712735, 1.6754071912755992, 0.19180608461248194, 1.370769793189238, 1.7483301226382149, -0.25010508806739873, 0.13449895716815247, 0.4234980413886394, -0.6292563951712109, 2.2953199758200236, -0.17969684632277028, 1.2987890271027225, 0.4030094700678754, 0.08036747531795806, -0.08069390393910325, 1.9924420651500254, -0.2698486232006421, 0.9189127955439805, 1.4636227816733902, 0.938845731900176, 0.3774223763929635, -0.06039266365866485, 0.9786792112048589, 0.18303575909528905, 1.6213974948934198, -0.9011226730985576, 1.5550696967051754, -0.5287319696533463, -2.134382600497725, -2.4884498634990253, 0.9141044261447112, -1.0929243882156412, 0.33144393850878756, -0.11164949938320748, -0.3069432766632717, 1.1173680553813508, 0.26683988452577584, 2.572799719475098, 0.15916196813082964, 0.07842255156767423, -0.3913927786082702, -0.6787973075228827, -0.42382151492180364, -0.3450314270380239, -2.2701907481405805, -0.25405633676066053, -1.1065213219948289, -0.9709405991456087, -0.4193028156423804, -0.7262378201660576, 1.0725696136192406, -0.5523869569628342, 1.6427537695901733, 1.5568589945640556, 2.570984921845135, -0.36030875900544634, 0.26494896940570273, -1.3263649914452567, 0.3256623316086684], \"yaxis\": \"y7\"}, {\"line\": {\"color\": \"rgba(128, 128, 128, 1.0)\", \"dash\": \"solid\", \"shape\": \"linear\", \"width\": 1.3}, \"marker\": {\"size\": 2, \"symbol\": \"circle\"}, \"mode\": \"markers\", \"name\": \"B\", \"text\": \"\", \"type\": \"scatter\", \"x\": [-0.3141047776814371, -0.8970192710960458, 0.5736914479068228, -0.5206411120771636, 0.16576510518810794, -0.5587118804610727, 0.9878309483052345, 0.5023609075433647, 0.9745608398826814, 0.16655342964635966, 0.9788192259549774, -0.09074367425800649, 1.5829907682035778, -0.764247292231081, 0.17308183983488762, -0.24791312488305745, -0.6938234905748255, 0.30415868202200325, -1.4573797696393782, -0.8029910175529617, -0.7457353564480751, 3.0306751179427884, 0.045915555843682884, 1.196333482147036, 1.2186397325655025, -0.2512862780510248, -0.5218023758906899, 0.0006545154733645155, 0.0882807793245977, 0.08032544568298304, 0.300452263420204, -0.7004037709231044, 1.5959195349326478, -1.1456317403017728, -1.6090083148862744, -0.024979196647730097, -2.7855243796398645, 0.19365146667022942, 0.9458482394605472, -0.6450285898838843, -0.6619920977863117, -0.286079247403523, 0.6729421552051487, -0.7424158022191921, 0.15674906928135854, 1.525833682709512, 0.8354744054671075, -0.10945542092806206, -0.7903659987502104, 2.252293455006751, 1.0305338642195672, -2.143230338789938, 0.3854367833308197, 0.5065383599856818, 0.012066202860070952, -1.4437774899649107, -0.6746762056654647, -0.19410968709492404, -1.147512403615673, 0.33062408255489073, -0.28855419839694224, -1.3760381340868197, 0.89767228673124, 0.199628224052539, -0.8269461131144589, -2.0310134868416885, -1.311605317804653, 1.0244985960728157, 0.34724634350785616, 0.8354198106887961, 0.8379992652748512, 0.2130903288179697, 0.41486346653232337, -0.021864543671643935, -1.1005092230234894, -0.8906576571862331, -0.676797498832179, -0.35325718962322256, -0.08108079990629014, 1.1853695718411121, 0.30057746921104944, -0.40043517461693023, -1.5278058799076497, -0.8711964279517036, -1.5409210468656107, 0.22816741726104836, -0.03255898174171499, 0.026687251866059098, 0.4294202743518761, 0.3950280004384783, 1.0450196729200016, -0.875516508014222, -0.4722584961793411, -0.5692715168213826, 0.9682407212914111, 0.08000451194139384, 0.2782152013702495, 0.24866085181437123, -1.005337704907483, 1.490533209873795], \"xaxis\": \"x8\", \"y\": [-0.2644633545863186, 1.5714302027771738, -0.022060694285092157, 0.44695975606255306, 1.6437621966592817, -2.1304958014639213, -0.34165423712052057, 0.7735034696623291, 0.4361167369817292, 0.38315007358375436, -0.13683266188575985, 0.2963414389906744, -2.1731658439592922, 0.20259417441792585, 0.09984009734314357, 0.691047349227367, 1.314807118205364, -0.521105250810098, -0.2822920873303137, -1.815604989842956, -1.0381784939062224, -1.540817803928697, 0.7999428656890234, -1.719359604418866, 1.2745453748761055, 1.504906159003659, -0.03548530175341141, -0.47520221229360315, -0.03341052408579652, 0.41606932003300406, -1.4669960816172585, 0.3399043588728614, -0.1322471972177475, 0.3885005500255243, -0.1296864888337782, 0.3725902163354231, -0.1681840505469514, -0.5380402156473689, -1.7400857956585742, 1.1274655014808161, -0.1642696740906239, 0.3284104283712735, 1.6754071912755992, 0.19180608461248194, 1.370769793189238, 1.7483301226382149, -0.25010508806739873, 0.13449895716815247, 0.4234980413886394, -0.6292563951712109, 2.2953199758200236, -0.17969684632277028, 1.2987890271027225, 0.4030094700678754, 0.08036747531795806, -0.08069390393910325, 1.9924420651500254, -0.2698486232006421, 0.9189127955439805, 1.4636227816733902, 0.938845731900176, 0.3774223763929635, -0.06039266365866485, 0.9786792112048589, 0.18303575909528905, 1.6213974948934198, -0.9011226730985576, 1.5550696967051754, -0.5287319696533463, -2.134382600497725, -2.4884498634990253, 0.9141044261447112, -1.0929243882156412, 0.33144393850878756, -0.11164949938320748, -0.3069432766632717, 1.1173680553813508, 0.26683988452577584, 2.572799719475098, 0.15916196813082964, 0.07842255156767423, -0.3913927786082702, -0.6787973075228827, -0.42382151492180364, -0.3450314270380239, -2.2701907481405805, -0.25405633676066053, -1.1065213219948289, -0.9709405991456087, -0.4193028156423804, -0.7262378201660576, 1.0725696136192406, -0.5523869569628342, 1.6427537695901733, 1.5568589945640556, 2.570984921845135, -0.36030875900544634, 0.26494896940570273, -1.3263649914452567, 0.3256623316086684], \"yaxis\": \"y8\"}, {\"line\": {\"color\": \"rgba(128, 128, 128, 1.0)\", \"dash\": \"solid\", \"shape\": \"linear\", \"width\": 1.3}, \"marker\": {\"size\": 2, \"symbol\": \"circle\"}, \"mode\": \"markers\", \"name\": \"C\", \"text\": \"\", \"type\": \"scatter\", \"x\": [-0.1601183780470847, 0.15940940597672718, -0.8691414452109293, 2.1010276114389423, 0.17164077472576567, -0.3615969648072336, -1.4329312503554597, 1.0348622009763033, -0.9530959678937821, -1.949144277250312, -0.653801018600976, -1.0586602896818622, 0.28861617739230505, 1.6481156904717285, 0.5021988384451932, 0.7419461664678879, 0.17745499512664956, -0.38325620812446526, 0.12849351472190346, 0.15024354836000892, -1.9046735986048597, 0.06729564255980032, 1.3114167690497167, 0.6532864418010814, 0.7736641644900281, 0.9710332051307252, -1.2950688683078926, -0.2330559856021781, -0.2506005785170448, 0.8746518298457197, 0.49012434927847653, 1.952542960328725, 1.422053288373496, -0.041017606165554964, -0.5696189873368337, 1.3796194148641876, -0.9684850941850984, -0.6867169752967174, 1.2175982302306936, -0.7950270858687128, -0.20268130839797435, -0.3166116775607073, 0.013265786411123252, 1.3609161101425622, 0.918899536952606, 0.8946799623180145, -0.32355619688753906, -0.26159337861282134, 1.7316425076849074, 0.18598089946101812, 0.5735137879874297, 0.5584074518494194, -0.39038838391341496, 0.9879393225390422, 2.5030105940459157, -0.48432032452495916, -0.41613166505421517, -1.3139722396678235, 0.22869715598900986, -0.5435803703335473, 2.487064416501825, -0.44198082209238426, -0.3539645120194969, 0.27099557207341957, 0.45250919764242253, -0.0576693407543129, -0.7573808849544862, -1.3875401356438606, 0.5770513485881394, 1.2340897966166007, 1.014934806523684, 0.1530954629770791, -1.0723060534055624, 1.085507498157262, 1.3346837122325887, -1.3698512217275174, -0.10433179640403041, -1.201928853898415, -0.30352824810029955, 0.33826194670927395, -0.7785433241744303, -0.14302780228701797, 0.6172268757774699, -1.5310619955784, -0.9632272022705074, 0.8562948380132994, -0.137384953960321, -0.9653087534475998, -0.4426437998567408, 0.5304095588563396, 1.4850884827390285, 0.1906684616642033, 0.246574144712053, -0.2369541408221221, 0.963784194598969, 0.44074100274933714, 0.546935093537091, -1.756855506983355, 1.8244298964505592, -1.4031423867604629], \"xaxis\": \"x9\", \"y\": [-0.11348786453792516, -0.1311524782899683, 0.506578319243623, -0.04641283626244963, 0.392212467710873, -0.6553786708887571, 0.5571977672878804, 2.1052672448775063, 0.10340710707386995, -0.8974770305577208, 1.9384578639188583, 0.15974699198145836, 0.31680044214315034, 0.3530189009363819, -0.6863570397708625, 0.6748926487769098, -1.53963708500794, -0.6064150850079467, -2.285154574606842, 1.6087609096634756, 1.4703270008301461, -0.9055417363838063, -0.48767724288311354, 1.6677638524446878, 0.4953296083138165, -1.2837673697054308, -0.17466900588527673, 1.7550914473984882, -0.08137639105933259, -0.7303431206142009, -2.2602950720275503, 0.33518836539457775, -0.07526806056324023, -0.036577505440543064, 0.710015868627727, 0.6998353100073591, 0.19950402567226277, -1.092821161366645, 1.038682114597619, -0.943972451379481, -0.33186493395713546, 0.009566765795468796, -1.3043815067990907, -0.47903710828837115, -1.681324460350031, -0.1004688071250641, 0.34107993712471174, -0.02319459821086625, -0.3172287282686062, 0.25571725829735864, -1.1537289156229074, 0.04125732193811072, -0.37183401874919636, 0.4800509318471511, 0.6829947057833371, 0.03647745140630001, 0.08589699451217257, -0.3506312190885835, 0.19439322728550584, -0.28144931640232496, -0.06229460813495941, 0.860135991154396, -0.6336830074983791, 2.1614194464065206, 1.4886188417324488, 1.948739186374998, -1.65932556580322, -1.7890236709376695, -1.024603199127202, -0.2839461673175258, -1.5504822872573811, -0.3173611535046725, 1.2497166679966984, -0.8689612255158649, 0.1308449392924964, -0.11046281885570239, -2.4373915395181656, -1.0245728612602316, -0.5055241101912172, 0.056595626695443206, 0.5176723372772564, 0.15009361114403955, 0.15658771344225464, 0.33471699558951534, 0.8813025543563201, -0.8391595392038008, -2.490208577476746, 0.6042632646657747, -0.331476611827571, 1.5813863192310202, 0.7390671386615796, -0.23184846099447173, 0.5662094173049512, 1.827832646415857, 0.15221010404191296, 0.5398875261115618, 0.30910642989010956, -0.9162187067758907, 1.4429566269436902, 0.8159551231165043], \"yaxis\": \"y9\"}, {\"line\": {\"color\": \"rgba(128, 128, 128, 1.0)\", \"dash\": \"solid\", \"shape\": \"linear\", \"width\": 1.3}, \"marker\": {\"size\": 2, \"symbol\": \"circle\"}, \"mode\": \"markers\", \"name\": \"C\", \"text\": \"\", \"type\": \"scatter\", \"x\": [-0.2644633545863186, 1.5714302027771738, -0.022060694285092157, 0.44695975606255306, 1.6437621966592817, -2.1304958014639213, -0.34165423712052057, 0.7735034696623291, 0.4361167369817292, 0.38315007358375436, -0.13683266188575985, 0.2963414389906744, -2.1731658439592922, 0.20259417441792585, 0.09984009734314357, 0.691047349227367, 1.314807118205364, -0.521105250810098, -0.2822920873303137, -1.815604989842956, -1.0381784939062224, -1.540817803928697, 0.7999428656890234, -1.719359604418866, 1.2745453748761055, 1.504906159003659, -0.03548530175341141, -0.47520221229360315, -0.03341052408579652, 0.41606932003300406, -1.4669960816172585, 0.3399043588728614, -0.1322471972177475, 0.3885005500255243, -0.1296864888337782, 0.3725902163354231, -0.1681840505469514, -0.5380402156473689, -1.7400857956585742, 1.1274655014808161, -0.1642696740906239, 0.3284104283712735, 1.6754071912755992, 0.19180608461248194, 1.370769793189238, 1.7483301226382149, -0.25010508806739873, 0.13449895716815247, 0.4234980413886394, -0.6292563951712109, 2.2953199758200236, -0.17969684632277028, 1.2987890271027225, 0.4030094700678754, 0.08036747531795806, -0.08069390393910325, 1.9924420651500254, -0.2698486232006421, 0.9189127955439805, 1.4636227816733902, 0.938845731900176, 0.3774223763929635, -0.06039266365866485, 0.9786792112048589, 0.18303575909528905, 1.6213974948934198, -0.9011226730985576, 1.5550696967051754, -0.5287319696533463, -2.134382600497725, -2.4884498634990253, 0.9141044261447112, -1.0929243882156412, 0.33144393850878756, -0.11164949938320748, -0.3069432766632717, 1.1173680553813508, 0.26683988452577584, 2.572799719475098, 0.15916196813082964, 0.07842255156767423, -0.3913927786082702, -0.6787973075228827, -0.42382151492180364, -0.3450314270380239, -2.2701907481405805, -0.25405633676066053, -1.1065213219948289, -0.9709405991456087, -0.4193028156423804, -0.7262378201660576, 1.0725696136192406, -0.5523869569628342, 1.6427537695901733, 1.5568589945640556, 2.570984921845135, -0.36030875900544634, 0.26494896940570273, -1.3263649914452567, 0.3256623316086684], \"xaxis\": \"x10\", \"y\": [-0.11348786453792516, -0.1311524782899683, 0.506578319243623, -0.04641283626244963, 0.392212467710873, -0.6553786708887571, 0.5571977672878804, 2.1052672448775063, 0.10340710707386995, -0.8974770305577208, 1.9384578639188583, 0.15974699198145836, 0.31680044214315034, 0.3530189009363819, -0.6863570397708625, 0.6748926487769098, -1.53963708500794, -0.6064150850079467, -2.285154574606842, 1.6087609096634756, 1.4703270008301461, -0.9055417363838063, -0.48767724288311354, 1.6677638524446878, 0.4953296083138165, -1.2837673697054308, -0.17466900588527673, 1.7550914473984882, -0.08137639105933259, -0.7303431206142009, -2.2602950720275503, 0.33518836539457775, -0.07526806056324023, -0.036577505440543064, 0.710015868627727, 0.6998353100073591, 0.19950402567226277, -1.092821161366645, 1.038682114597619, -0.943972451379481, -0.33186493395713546, 0.009566765795468796, -1.3043815067990907, -0.47903710828837115, -1.681324460350031, -0.1004688071250641, 0.34107993712471174, -0.02319459821086625, -0.3172287282686062, 0.25571725829735864, -1.1537289156229074, 0.04125732193811072, -0.37183401874919636, 0.4800509318471511, 0.6829947057833371, 0.03647745140630001, 0.08589699451217257, -0.3506312190885835, 0.19439322728550584, -0.28144931640232496, -0.06229460813495941, 0.860135991154396, -0.6336830074983791, 2.1614194464065206, 1.4886188417324488, 1.948739186374998, -1.65932556580322, -1.7890236709376695, -1.024603199127202, -0.2839461673175258, -1.5504822872573811, -0.3173611535046725, 1.2497166679966984, -0.8689612255158649, 0.1308449392924964, -0.11046281885570239, -2.4373915395181656, -1.0245728612602316, -0.5055241101912172, 0.056595626695443206, 0.5176723372772564, 0.15009361114403955, 0.15658771344225464, 0.33471699558951534, 0.8813025543563201, -0.8391595392038008, -2.490208577476746, 0.6042632646657747, -0.331476611827571, 1.5813863192310202, 0.7390671386615796, -0.23184846099447173, 0.5662094173049512, 1.827832646415857, 0.15221010404191296, 0.5398875261115618, 0.30910642989010956, -0.9162187067758907, 1.4429566269436902, 0.8159551231165043], \"yaxis\": \"y10\"}, {\"histfunc\": \"count\", \"histnorm\": \"\", \"marker\": {\"color\": \"rgba(50, 171, 96, 1.0)\", \"line\": {\"color\": \"#4D5663\", \"width\": 1.3}}, \"name\": \"C\", \"nbinsx\": 10, \"opacity\": 0.8, \"orientation\": \"v\", \"type\": \"histogram\", \"x\": [-0.11348786453792516, -0.1311524782899683, 0.506578319243623, -0.04641283626244963, 0.392212467710873, -0.6553786708887571, 0.5571977672878804, 2.1052672448775063, 0.10340710707386995, -0.8974770305577208, 1.9384578639188583, 0.15974699198145836, 0.31680044214315034, 0.3530189009363819, -0.6863570397708625, 0.6748926487769098, -1.53963708500794, -0.6064150850079467, -2.285154574606842, 1.6087609096634756, 1.4703270008301461, -0.9055417363838063, -0.48767724288311354, 1.6677638524446878, 0.4953296083138165, -1.2837673697054308, -0.17466900588527673, 1.7550914473984882, -0.08137639105933259, -0.7303431206142009, -2.2602950720275503, 0.33518836539457775, -0.07526806056324023, -0.036577505440543064, 0.710015868627727, 0.6998353100073591, 0.19950402567226277, -1.092821161366645, 1.038682114597619, -0.943972451379481, -0.33186493395713546, 0.009566765795468796, -1.3043815067990907, -0.47903710828837115, -1.681324460350031, -0.1004688071250641, 0.34107993712471174, -0.02319459821086625, -0.3172287282686062, 0.25571725829735864, -1.1537289156229074, 0.04125732193811072, -0.37183401874919636, 0.4800509318471511, 0.6829947057833371, 0.03647745140630001, 0.08589699451217257, -0.3506312190885835, 0.19439322728550584, -0.28144931640232496, -0.06229460813495941, 0.860135991154396, -0.6336830074983791, 2.1614194464065206, 1.4886188417324488, 1.948739186374998, -1.65932556580322, -1.7890236709376695, -1.024603199127202, -0.2839461673175258, -1.5504822872573811, -0.3173611535046725, 1.2497166679966984, -0.8689612255158649, 0.1308449392924964, -0.11046281885570239, -2.4373915395181656, -1.0245728612602316, -0.5055241101912172, 0.056595626695443206, 0.5176723372772564, 0.15009361114403955, 0.15658771344225464, 0.33471699558951534, 0.8813025543563201, -0.8391595392038008, -2.490208577476746, 0.6042632646657747, -0.331476611827571, 1.5813863192310202, 0.7390671386615796, -0.23184846099447173, 0.5662094173049512, 1.827832646415857, 0.15221010404191296, 0.5398875261115618, 0.30910642989010956, -0.9162187067758907, 1.4429566269436902, 0.8159551231165043], \"xaxis\": \"x11\", \"yaxis\": \"y11\"}, {\"line\": {\"color\": \"rgba(128, 128, 128, 1.0)\", \"dash\": \"solid\", \"shape\": \"linear\", \"width\": 1.3}, \"marker\": {\"size\": 2, \"symbol\": \"circle\"}, \"mode\": \"markers\", \"name\": \"C\", \"text\": \"\", \"type\": \"scatter\", \"x\": [-0.3141047776814371, -0.8970192710960458, 0.5736914479068228, -0.5206411120771636, 0.16576510518810794, -0.5587118804610727, 0.9878309483052345, 0.5023609075433647, 0.9745608398826814, 0.16655342964635966, 0.9788192259549774, -0.09074367425800649, 1.5829907682035778, -0.764247292231081, 0.17308183983488762, -0.24791312488305745, -0.6938234905748255, 0.30415868202200325, -1.4573797696393782, -0.8029910175529617, -0.7457353564480751, 3.0306751179427884, 0.045915555843682884, 1.196333482147036, 1.2186397325655025, -0.2512862780510248, -0.5218023758906899, 0.0006545154733645155, 0.0882807793245977, 0.08032544568298304, 0.300452263420204, -0.7004037709231044, 1.5959195349326478, -1.1456317403017728, -1.6090083148862744, -0.024979196647730097, -2.7855243796398645, 0.19365146667022942, 0.9458482394605472, -0.6450285898838843, -0.6619920977863117, -0.286079247403523, 0.6729421552051487, -0.7424158022191921, 0.15674906928135854, 1.525833682709512, 0.8354744054671075, -0.10945542092806206, -0.7903659987502104, 2.252293455006751, 1.0305338642195672, -2.143230338789938, 0.3854367833308197, 0.5065383599856818, 0.012066202860070952, -1.4437774899649107, -0.6746762056654647, -0.19410968709492404, -1.147512403615673, 0.33062408255489073, -0.28855419839694224, -1.3760381340868197, 0.89767228673124, 0.199628224052539, -0.8269461131144589, -2.0310134868416885, -1.311605317804653, 1.0244985960728157, 0.34724634350785616, 0.8354198106887961, 0.8379992652748512, 0.2130903288179697, 0.41486346653232337, -0.021864543671643935, -1.1005092230234894, -0.8906576571862331, -0.676797498832179, -0.35325718962322256, -0.08108079990629014, 1.1853695718411121, 0.30057746921104944, -0.40043517461693023, -1.5278058799076497, -0.8711964279517036, -1.5409210468656107, 0.22816741726104836, -0.03255898174171499, 0.026687251866059098, 0.4294202743518761, 0.3950280004384783, 1.0450196729200016, -0.875516508014222, -0.4722584961793411, -0.5692715168213826, 0.9682407212914111, 0.08000451194139384, 0.2782152013702495, 0.24866085181437123, -1.005337704907483, 1.490533209873795], \"xaxis\": \"x12\", \"y\": [-0.11348786453792516, -0.1311524782899683, 0.506578319243623, -0.04641283626244963, 0.392212467710873, -0.6553786708887571, 0.5571977672878804, 2.1052672448775063, 0.10340710707386995, -0.8974770305577208, 1.9384578639188583, 0.15974699198145836, 0.31680044214315034, 0.3530189009363819, -0.6863570397708625, 0.6748926487769098, -1.53963708500794, -0.6064150850079467, -2.285154574606842, 1.6087609096634756, 1.4703270008301461, -0.9055417363838063, -0.48767724288311354, 1.6677638524446878, 0.4953296083138165, -1.2837673697054308, -0.17466900588527673, 1.7550914473984882, -0.08137639105933259, -0.7303431206142009, -2.2602950720275503, 0.33518836539457775, -0.07526806056324023, -0.036577505440543064, 0.710015868627727, 0.6998353100073591, 0.19950402567226277, -1.092821161366645, 1.038682114597619, -0.943972451379481, -0.33186493395713546, 0.009566765795468796, -1.3043815067990907, -0.47903710828837115, -1.681324460350031, -0.1004688071250641, 0.34107993712471174, -0.02319459821086625, -0.3172287282686062, 0.25571725829735864, -1.1537289156229074, 0.04125732193811072, -0.37183401874919636, 0.4800509318471511, 0.6829947057833371, 0.03647745140630001, 0.08589699451217257, -0.3506312190885835, 0.19439322728550584, -0.28144931640232496, -0.06229460813495941, 0.860135991154396, -0.6336830074983791, 2.1614194464065206, 1.4886188417324488, 1.948739186374998, -1.65932556580322, -1.7890236709376695, -1.024603199127202, -0.2839461673175258, -1.5504822872573811, -0.3173611535046725, 1.2497166679966984, -0.8689612255158649, 0.1308449392924964, -0.11046281885570239, -2.4373915395181656, -1.0245728612602316, -0.5055241101912172, 0.056595626695443206, 0.5176723372772564, 0.15009361114403955, 0.15658771344225464, 0.33471699558951534, 0.8813025543563201, -0.8391595392038008, -2.490208577476746, 0.6042632646657747, -0.331476611827571, 1.5813863192310202, 0.7390671386615796, -0.23184846099447173, 0.5662094173049512, 1.827832646415857, 0.15221010404191296, 0.5398875261115618, 0.30910642989010956, -0.9162187067758907, 1.4429566269436902, 0.8159551231165043], \"yaxis\": \"y12\"}, {\"line\": {\"color\": \"rgba(128, 128, 128, 1.0)\", \"dash\": \"solid\", \"shape\": \"linear\", \"width\": 1.3}, \"marker\": {\"size\": 2, \"symbol\": \"circle\"}, \"mode\": \"markers\", \"name\": \"D\", \"text\": \"\", \"type\": \"scatter\", \"x\": [-0.1601183780470847, 0.15940940597672718, -0.8691414452109293, 2.1010276114389423, 0.17164077472576567, -0.3615969648072336, -1.4329312503554597, 1.0348622009763033, -0.9530959678937821, -1.949144277250312, -0.653801018600976, -1.0586602896818622, 0.28861617739230505, 1.6481156904717285, 0.5021988384451932, 0.7419461664678879, 0.17745499512664956, -0.38325620812446526, 0.12849351472190346, 0.15024354836000892, -1.9046735986048597, 0.06729564255980032, 1.3114167690497167, 0.6532864418010814, 0.7736641644900281, 0.9710332051307252, -1.2950688683078926, -0.2330559856021781, -0.2506005785170448, 0.8746518298457197, 0.49012434927847653, 1.952542960328725, 1.422053288373496, -0.041017606165554964, -0.5696189873368337, 1.3796194148641876, -0.9684850941850984, -0.6867169752967174, 1.2175982302306936, -0.7950270858687128, -0.20268130839797435, -0.3166116775607073, 0.013265786411123252, 1.3609161101425622, 0.918899536952606, 0.8946799623180145, -0.32355619688753906, -0.26159337861282134, 1.7316425076849074, 0.18598089946101812, 0.5735137879874297, 0.5584074518494194, -0.39038838391341496, 0.9879393225390422, 2.5030105940459157, -0.48432032452495916, -0.41613166505421517, -1.3139722396678235, 0.22869715598900986, -0.5435803703335473, 2.487064416501825, -0.44198082209238426, -0.3539645120194969, 0.27099557207341957, 0.45250919764242253, -0.0576693407543129, -0.7573808849544862, -1.3875401356438606, 0.5770513485881394, 1.2340897966166007, 1.014934806523684, 0.1530954629770791, -1.0723060534055624, 1.085507498157262, 1.3346837122325887, -1.3698512217275174, -0.10433179640403041, -1.201928853898415, -0.30352824810029955, 0.33826194670927395, -0.7785433241744303, -0.14302780228701797, 0.6172268757774699, -1.5310619955784, -0.9632272022705074, 0.8562948380132994, -0.137384953960321, -0.9653087534475998, -0.4426437998567408, 0.5304095588563396, 1.4850884827390285, 0.1906684616642033, 0.246574144712053, -0.2369541408221221, 0.963784194598969, 0.44074100274933714, 0.546935093537091, -1.756855506983355, 1.8244298964505592, -1.4031423867604629], \"xaxis\": \"x13\", \"y\": [-0.3141047776814371, -0.8970192710960458, 0.5736914479068228, -0.5206411120771636, 0.16576510518810794, -0.5587118804610727, 0.9878309483052345, 0.5023609075433647, 0.9745608398826814, 0.16655342964635966, 0.9788192259549774, -0.09074367425800649, 1.5829907682035778, -0.764247292231081, 0.17308183983488762, -0.24791312488305745, -0.6938234905748255, 0.30415868202200325, -1.4573797696393782, -0.8029910175529617, -0.7457353564480751, 3.0306751179427884, 0.045915555843682884, 1.196333482147036, 1.2186397325655025, -0.2512862780510248, -0.5218023758906899, 0.0006545154733645155, 0.0882807793245977, 0.08032544568298304, 0.300452263420204, -0.7004037709231044, 1.5959195349326478, -1.1456317403017728, -1.6090083148862744, -0.024979196647730097, -2.7855243796398645, 0.19365146667022942, 0.9458482394605472, -0.6450285898838843, -0.6619920977863117, -0.286079247403523, 0.6729421552051487, -0.7424158022191921, 0.15674906928135854, 1.525833682709512, 0.8354744054671075, -0.10945542092806206, -0.7903659987502104, 2.252293455006751, 1.0305338642195672, -2.143230338789938, 0.3854367833308197, 0.5065383599856818, 0.012066202860070952, -1.4437774899649107, -0.6746762056654647, -0.19410968709492404, -1.147512403615673, 0.33062408255489073, -0.28855419839694224, -1.3760381340868197, 0.89767228673124, 0.199628224052539, -0.8269461131144589, -2.0310134868416885, -1.311605317804653, 1.0244985960728157, 0.34724634350785616, 0.8354198106887961, 0.8379992652748512, 0.2130903288179697, 0.41486346653232337, -0.021864543671643935, -1.1005092230234894, -0.8906576571862331, -0.676797498832179, -0.35325718962322256, -0.08108079990629014, 1.1853695718411121, 0.30057746921104944, -0.40043517461693023, -1.5278058799076497, -0.8711964279517036, -1.5409210468656107, 0.22816741726104836, -0.03255898174171499, 0.026687251866059098, 0.4294202743518761, 0.3950280004384783, 1.0450196729200016, -0.875516508014222, -0.4722584961793411, -0.5692715168213826, 0.9682407212914111, 0.08000451194139384, 0.2782152013702495, 0.24866085181437123, -1.005337704907483, 1.490533209873795], \"yaxis\": \"y13\"}, {\"line\": {\"color\": \"rgba(128, 128, 128, 1.0)\", \"dash\": \"solid\", \"shape\": \"linear\", \"width\": 1.3}, \"marker\": {\"size\": 2, \"symbol\": \"circle\"}, \"mode\": \"markers\", \"name\": \"D\", \"text\": \"\", \"type\": \"scatter\", \"x\": [-0.2644633545863186, 1.5714302027771738, -0.022060694285092157, 0.44695975606255306, 1.6437621966592817, -2.1304958014639213, -0.34165423712052057, 0.7735034696623291, 0.4361167369817292, 0.38315007358375436, -0.13683266188575985, 0.2963414389906744, -2.1731658439592922, 0.20259417441792585, 0.09984009734314357, 0.691047349227367, 1.314807118205364, -0.521105250810098, -0.2822920873303137, -1.815604989842956, -1.0381784939062224, -1.540817803928697, 0.7999428656890234, -1.719359604418866, 1.2745453748761055, 1.504906159003659, -0.03548530175341141, -0.47520221229360315, -0.03341052408579652, 0.41606932003300406, -1.4669960816172585, 0.3399043588728614, -0.1322471972177475, 0.3885005500255243, -0.1296864888337782, 0.3725902163354231, -0.1681840505469514, -0.5380402156473689, -1.7400857956585742, 1.1274655014808161, -0.1642696740906239, 0.3284104283712735, 1.6754071912755992, 0.19180608461248194, 1.370769793189238, 1.7483301226382149, -0.25010508806739873, 0.13449895716815247, 0.4234980413886394, -0.6292563951712109, 2.2953199758200236, -0.17969684632277028, 1.2987890271027225, 0.4030094700678754, 0.08036747531795806, -0.08069390393910325, 1.9924420651500254, -0.2698486232006421, 0.9189127955439805, 1.4636227816733902, 0.938845731900176, 0.3774223763929635, -0.06039266365866485, 0.9786792112048589, 0.18303575909528905, 1.6213974948934198, -0.9011226730985576, 1.5550696967051754, -0.5287319696533463, -2.134382600497725, -2.4884498634990253, 0.9141044261447112, -1.0929243882156412, 0.33144393850878756, -0.11164949938320748, -0.3069432766632717, 1.1173680553813508, 0.26683988452577584, 2.572799719475098, 0.15916196813082964, 0.07842255156767423, -0.3913927786082702, -0.6787973075228827, -0.42382151492180364, -0.3450314270380239, -2.2701907481405805, -0.25405633676066053, -1.1065213219948289, -0.9709405991456087, -0.4193028156423804, -0.7262378201660576, 1.0725696136192406, -0.5523869569628342, 1.6427537695901733, 1.5568589945640556, 2.570984921845135, -0.36030875900544634, 0.26494896940570273, -1.3263649914452567, 0.3256623316086684], \"xaxis\": \"x14\", \"y\": [-0.3141047776814371, -0.8970192710960458, 0.5736914479068228, -0.5206411120771636, 0.16576510518810794, -0.5587118804610727, 0.9878309483052345, 0.5023609075433647, 0.9745608398826814, 0.16655342964635966, 0.9788192259549774, -0.09074367425800649, 1.5829907682035778, -0.764247292231081, 0.17308183983488762, -0.24791312488305745, -0.6938234905748255, 0.30415868202200325, -1.4573797696393782, -0.8029910175529617, -0.7457353564480751, 3.0306751179427884, 0.045915555843682884, 1.196333482147036, 1.2186397325655025, -0.2512862780510248, -0.5218023758906899, 0.0006545154733645155, 0.0882807793245977, 0.08032544568298304, 0.300452263420204, -0.7004037709231044, 1.5959195349326478, -1.1456317403017728, -1.6090083148862744, -0.024979196647730097, -2.7855243796398645, 0.19365146667022942, 0.9458482394605472, -0.6450285898838843, -0.6619920977863117, -0.286079247403523, 0.6729421552051487, -0.7424158022191921, 0.15674906928135854, 1.525833682709512, 0.8354744054671075, -0.10945542092806206, -0.7903659987502104, 2.252293455006751, 1.0305338642195672, -2.143230338789938, 0.3854367833308197, 0.5065383599856818, 0.012066202860070952, -1.4437774899649107, -0.6746762056654647, -0.19410968709492404, -1.147512403615673, 0.33062408255489073, -0.28855419839694224, -1.3760381340868197, 0.89767228673124, 0.199628224052539, -0.8269461131144589, -2.0310134868416885, -1.311605317804653, 1.0244985960728157, 0.34724634350785616, 0.8354198106887961, 0.8379992652748512, 0.2130903288179697, 0.41486346653232337, -0.021864543671643935, -1.1005092230234894, -0.8906576571862331, -0.676797498832179, -0.35325718962322256, -0.08108079990629014, 1.1853695718411121, 0.30057746921104944, -0.40043517461693023, -1.5278058799076497, -0.8711964279517036, -1.5409210468656107, 0.22816741726104836, -0.03255898174171499, 0.026687251866059098, 0.4294202743518761, 0.3950280004384783, 1.0450196729200016, -0.875516508014222, -0.4722584961793411, -0.5692715168213826, 0.9682407212914111, 0.08000451194139384, 0.2782152013702495, 0.24866085181437123, -1.005337704907483, 1.490533209873795], \"yaxis\": \"y14\"}, {\"line\": {\"color\": \"rgba(128, 128, 128, 1.0)\", \"dash\": \"solid\", \"shape\": \"linear\", \"width\": 1.3}, \"marker\": {\"size\": 2, \"symbol\": \"circle\"}, \"mode\": \"markers\", \"name\": \"D\", \"text\": \"\", \"type\": \"scatter\", \"x\": [-0.11348786453792516, -0.1311524782899683, 0.506578319243623, -0.04641283626244963, 0.392212467710873, -0.6553786708887571, 0.5571977672878804, 2.1052672448775063, 0.10340710707386995, -0.8974770305577208, 1.9384578639188583, 0.15974699198145836, 0.31680044214315034, 0.3530189009363819, -0.6863570397708625, 0.6748926487769098, -1.53963708500794, -0.6064150850079467, -2.285154574606842, 1.6087609096634756, 1.4703270008301461, -0.9055417363838063, -0.48767724288311354, 1.6677638524446878, 0.4953296083138165, -1.2837673697054308, -0.17466900588527673, 1.7550914473984882, -0.08137639105933259, -0.7303431206142009, -2.2602950720275503, 0.33518836539457775, -0.07526806056324023, -0.036577505440543064, 0.710015868627727, 0.6998353100073591, 0.19950402567226277, -1.092821161366645, 1.038682114597619, -0.943972451379481, -0.33186493395713546, 0.009566765795468796, -1.3043815067990907, -0.47903710828837115, -1.681324460350031, -0.1004688071250641, 0.34107993712471174, -0.02319459821086625, -0.3172287282686062, 0.25571725829735864, -1.1537289156229074, 0.04125732193811072, -0.37183401874919636, 0.4800509318471511, 0.6829947057833371, 0.03647745140630001, 0.08589699451217257, -0.3506312190885835, 0.19439322728550584, -0.28144931640232496, -0.06229460813495941, 0.860135991154396, -0.6336830074983791, 2.1614194464065206, 1.4886188417324488, 1.948739186374998, -1.65932556580322, -1.7890236709376695, -1.024603199127202, -0.2839461673175258, -1.5504822872573811, -0.3173611535046725, 1.2497166679966984, -0.8689612255158649, 0.1308449392924964, -0.11046281885570239, -2.4373915395181656, -1.0245728612602316, -0.5055241101912172, 0.056595626695443206, 0.5176723372772564, 0.15009361114403955, 0.15658771344225464, 0.33471699558951534, 0.8813025543563201, -0.8391595392038008, -2.490208577476746, 0.6042632646657747, -0.331476611827571, 1.5813863192310202, 0.7390671386615796, -0.23184846099447173, 0.5662094173049512, 1.827832646415857, 0.15221010404191296, 0.5398875261115618, 0.30910642989010956, -0.9162187067758907, 1.4429566269436902, 0.8159551231165043], \"xaxis\": \"x15\", \"y\": [-0.3141047776814371, -0.8970192710960458, 0.5736914479068228, -0.5206411120771636, 0.16576510518810794, -0.5587118804610727, 0.9878309483052345, 0.5023609075433647, 0.9745608398826814, 0.16655342964635966, 0.9788192259549774, -0.09074367425800649, 1.5829907682035778, -0.764247292231081, 0.17308183983488762, -0.24791312488305745, -0.6938234905748255, 0.30415868202200325, -1.4573797696393782, -0.8029910175529617, -0.7457353564480751, 3.0306751179427884, 0.045915555843682884, 1.196333482147036, 1.2186397325655025, -0.2512862780510248, -0.5218023758906899, 0.0006545154733645155, 0.0882807793245977, 0.08032544568298304, 0.300452263420204, -0.7004037709231044, 1.5959195349326478, -1.1456317403017728, -1.6090083148862744, -0.024979196647730097, -2.7855243796398645, 0.19365146667022942, 0.9458482394605472, -0.6450285898838843, -0.6619920977863117, -0.286079247403523, 0.6729421552051487, -0.7424158022191921, 0.15674906928135854, 1.525833682709512, 0.8354744054671075, -0.10945542092806206, -0.7903659987502104, 2.252293455006751, 1.0305338642195672, -2.143230338789938, 0.3854367833308197, 0.5065383599856818, 0.012066202860070952, -1.4437774899649107, -0.6746762056654647, -0.19410968709492404, -1.147512403615673, 0.33062408255489073, -0.28855419839694224, -1.3760381340868197, 0.89767228673124, 0.199628224052539, -0.8269461131144589, -2.0310134868416885, -1.311605317804653, 1.0244985960728157, 0.34724634350785616, 0.8354198106887961, 0.8379992652748512, 0.2130903288179697, 0.41486346653232337, -0.021864543671643935, -1.1005092230234894, -0.8906576571862331, -0.676797498832179, -0.35325718962322256, -0.08108079990629014, 1.1853695718411121, 0.30057746921104944, -0.40043517461693023, -1.5278058799076497, -0.8711964279517036, -1.5409210468656107, 0.22816741726104836, -0.03255898174171499, 0.026687251866059098, 0.4294202743518761, 0.3950280004384783, 1.0450196729200016, -0.875516508014222, -0.4722584961793411, -0.5692715168213826, 0.9682407212914111, 0.08000451194139384, 0.2782152013702495, 0.24866085181437123, -1.005337704907483, 1.490533209873795], \"yaxis\": \"y15\"}, {\"histfunc\": \"count\", \"histnorm\": \"\", \"marker\": {\"color\": \"rgba(128, 0, 128, 1.0)\", \"line\": {\"color\": \"#4D5663\", \"width\": 1.3}}, \"name\": \"D\", \"nbinsx\": 10, \"opacity\": 0.8, \"orientation\": \"v\", \"type\": \"histogram\", \"x\": [-0.3141047776814371, -0.8970192710960458, 0.5736914479068228, -0.5206411120771636, 0.16576510518810794, -0.5587118804610727, 0.9878309483052345, 0.5023609075433647, 0.9745608398826814, 0.16655342964635966, 0.9788192259549774, -0.09074367425800649, 1.5829907682035778, -0.764247292231081, 0.17308183983488762, -0.24791312488305745, -0.6938234905748255, 0.30415868202200325, -1.4573797696393782, -0.8029910175529617, -0.7457353564480751, 3.0306751179427884, 0.045915555843682884, 1.196333482147036, 1.2186397325655025, -0.2512862780510248, -0.5218023758906899, 0.0006545154733645155, 0.0882807793245977, 0.08032544568298304, 0.300452263420204, -0.7004037709231044, 1.5959195349326478, -1.1456317403017728, -1.6090083148862744, -0.024979196647730097, -2.7855243796398645, 0.19365146667022942, 0.9458482394605472, -0.6450285898838843, -0.6619920977863117, -0.286079247403523, 0.6729421552051487, -0.7424158022191921, 0.15674906928135854, 1.525833682709512, 0.8354744054671075, -0.10945542092806206, -0.7903659987502104, 2.252293455006751, 1.0305338642195672, -2.143230338789938, 0.3854367833308197, 0.5065383599856818, 0.012066202860070952, -1.4437774899649107, -0.6746762056654647, -0.19410968709492404, -1.147512403615673, 0.33062408255489073, -0.28855419839694224, -1.3760381340868197, 0.89767228673124, 0.199628224052539, -0.8269461131144589, -2.0310134868416885, -1.311605317804653, 1.0244985960728157, 0.34724634350785616, 0.8354198106887961, 0.8379992652748512, 0.2130903288179697, 0.41486346653232337, -0.021864543671643935, -1.1005092230234894, -0.8906576571862331, -0.676797498832179, -0.35325718962322256, -0.08108079990629014, 1.1853695718411121, 0.30057746921104944, -0.40043517461693023, -1.5278058799076497, -0.8711964279517036, -1.5409210468656107, 0.22816741726104836, -0.03255898174171499, 0.026687251866059098, 0.4294202743518761, 0.3950280004384783, 1.0450196729200016, -0.875516508014222, -0.4722584961793411, -0.5692715168213826, 0.9682407212914111, 0.08000451194139384, 0.2782152013702495, 0.24866085181437123, -1.005337704907483, 1.490533209873795], \"xaxis\": \"x16\", \"yaxis\": \"y16\"}],                        {\"bargap\": 0.02, \"legend\": {\"bgcolor\": \"#F5F6F9\", \"font\": {\"color\": \"#4D5663\"}}, \"paper_bgcolor\": \"#F5F6F9\", \"plot_bgcolor\": \"#F5F6F9\", \"showlegend\": false, \"template\": {\"data\": {\"bar\": [{\"error_x\": {\"color\": \"#2a3f5f\"}, \"error_y\": {\"color\": \"#2a3f5f\"}, \"marker\": {\"line\": {\"color\": \"#E5ECF6\", \"width\": 0.5}}, \"type\": \"bar\"}], \"barpolar\": [{\"marker\": {\"line\": {\"color\": \"#E5ECF6\", \"width\": 0.5}}, \"type\": \"barpolar\"}], \"carpet\": [{\"aaxis\": {\"endlinecolor\": \"#2a3f5f\", \"gridcolor\": \"white\", \"linecolor\": \"white\", \"minorgridcolor\": \"white\", \"startlinecolor\": \"#2a3f5f\"}, \"baxis\": {\"endlinecolor\": \"#2a3f5f\", \"gridcolor\": \"white\", \"linecolor\": \"white\", \"minorgridcolor\": \"white\", \"startlinecolor\": \"#2a3f5f\"}, \"type\": \"carpet\"}], \"choropleth\": [{\"colorbar\": {\"outlinewidth\": 0, \"ticks\": \"\"}, \"type\": \"choropleth\"}], \"contour\": [{\"colorbar\": {\"outlinewidth\": 0, \"ticks\": \"\"}, \"colorscale\": [[0.0, \"#0d0887\"], [0.1111111111111111, \"#46039f\"], [0.2222222222222222, \"#7201a8\"], [0.3333333333333333, \"#9c179e\"], [0.4444444444444444, \"#bd3786\"], [0.5555555555555556, \"#d8576b\"], [0.6666666666666666, \"#ed7953\"], [0.7777777777777778, \"#fb9f3a\"], [0.8888888888888888, \"#fdca26\"], [1.0, \"#f0f921\"]], \"type\": \"contour\"}], \"contourcarpet\": [{\"colorbar\": {\"outlinewidth\": 0, \"ticks\": \"\"}, \"type\": \"contourcarpet\"}], \"heatmap\": [{\"colorbar\": {\"outlinewidth\": 0, \"ticks\": \"\"}, \"colorscale\": [[0.0, \"#0d0887\"], [0.1111111111111111, \"#46039f\"], [0.2222222222222222, \"#7201a8\"], [0.3333333333333333, \"#9c179e\"], [0.4444444444444444, \"#bd3786\"], [0.5555555555555556, \"#d8576b\"], [0.6666666666666666, \"#ed7953\"], [0.7777777777777778, \"#fb9f3a\"], [0.8888888888888888, \"#fdca26\"], [1.0, \"#f0f921\"]], \"type\": \"heatmap\"}], \"heatmapgl\": [{\"colorbar\": {\"outlinewidth\": 0, \"ticks\": \"\"}, \"colorscale\": [[0.0, \"#0d0887\"], [0.1111111111111111, \"#46039f\"], [0.2222222222222222, \"#7201a8\"], [0.3333333333333333, \"#9c179e\"], [0.4444444444444444, \"#bd3786\"], [0.5555555555555556, \"#d8576b\"], [0.6666666666666666, \"#ed7953\"], [0.7777777777777778, \"#fb9f3a\"], [0.8888888888888888, \"#fdca26\"], [1.0, \"#f0f921\"]], \"type\": \"heatmapgl\"}], \"histogram\": [{\"marker\": {\"colorbar\": {\"outlinewidth\": 0, \"ticks\": \"\"}}, \"type\": \"histogram\"}], \"histogram2d\": [{\"colorbar\": {\"outlinewidth\": 0, \"ticks\": \"\"}, \"colorscale\": [[0.0, \"#0d0887\"], [0.1111111111111111, \"#46039f\"], [0.2222222222222222, \"#7201a8\"], [0.3333333333333333, \"#9c179e\"], [0.4444444444444444, \"#bd3786\"], [0.5555555555555556, \"#d8576b\"], [0.6666666666666666, \"#ed7953\"], [0.7777777777777778, \"#fb9f3a\"], [0.8888888888888888, \"#fdca26\"], [1.0, \"#f0f921\"]], \"type\": \"histogram2d\"}], \"histogram2dcontour\": [{\"colorbar\": {\"outlinewidth\": 0, \"ticks\": \"\"}, \"colorscale\": [[0.0, \"#0d0887\"], [0.1111111111111111, \"#46039f\"], [0.2222222222222222, \"#7201a8\"], [0.3333333333333333, \"#9c179e\"], [0.4444444444444444, \"#bd3786\"], [0.5555555555555556, \"#d8576b\"], [0.6666666666666666, \"#ed7953\"], [0.7777777777777778, \"#fb9f3a\"], [0.8888888888888888, \"#fdca26\"], [1.0, \"#f0f921\"]], \"type\": \"histogram2dcontour\"}], \"mesh3d\": [{\"colorbar\": {\"outlinewidth\": 0, \"ticks\": \"\"}, \"type\": \"mesh3d\"}], \"parcoords\": [{\"line\": {\"colorbar\": {\"outlinewidth\": 0, \"ticks\": \"\"}}, \"type\": \"parcoords\"}], \"pie\": [{\"automargin\": true, \"type\": \"pie\"}], \"scatter\": [{\"marker\": {\"colorbar\": {\"outlinewidth\": 0, \"ticks\": \"\"}}, \"type\": \"scatter\"}], \"scatter3d\": [{\"line\": {\"colorbar\": {\"outlinewidth\": 0, \"ticks\": \"\"}}, \"marker\": {\"colorbar\": {\"outlinewidth\": 0, \"ticks\": \"\"}}, \"type\": \"scatter3d\"}], \"scattercarpet\": [{\"marker\": {\"colorbar\": {\"outlinewidth\": 0, \"ticks\": \"\"}}, \"type\": \"scattercarpet\"}], \"scattergeo\": [{\"marker\": {\"colorbar\": {\"outlinewidth\": 0, \"ticks\": \"\"}}, \"type\": \"scattergeo\"}], \"scattergl\": [{\"marker\": {\"colorbar\": {\"outlinewidth\": 0, \"ticks\": \"\"}}, \"type\": \"scattergl\"}], \"scattermapbox\": [{\"marker\": {\"colorbar\": {\"outlinewidth\": 0, \"ticks\": \"\"}}, \"type\": \"scattermapbox\"}], \"scatterpolar\": [{\"marker\": {\"colorbar\": {\"outlinewidth\": 0, \"ticks\": \"\"}}, \"type\": \"scatterpolar\"}], \"scatterpolargl\": [{\"marker\": {\"colorbar\": {\"outlinewidth\": 0, \"ticks\": \"\"}}, \"type\": \"scatterpolargl\"}], \"scatterternary\": [{\"marker\": {\"colorbar\": {\"outlinewidth\": 0, \"ticks\": \"\"}}, \"type\": \"scatterternary\"}], \"surface\": [{\"colorbar\": {\"outlinewidth\": 0, \"ticks\": \"\"}, \"colorscale\": [[0.0, \"#0d0887\"], [0.1111111111111111, \"#46039f\"], [0.2222222222222222, \"#7201a8\"], [0.3333333333333333, \"#9c179e\"], [0.4444444444444444, \"#bd3786\"], [0.5555555555555556, \"#d8576b\"], [0.6666666666666666, \"#ed7953\"], [0.7777777777777778, \"#fb9f3a\"], [0.8888888888888888, \"#fdca26\"], [1.0, \"#f0f921\"]], \"type\": \"surface\"}], \"table\": [{\"cells\": {\"fill\": {\"color\": \"#EBF0F8\"}, \"line\": {\"color\": \"white\"}}, \"header\": {\"fill\": {\"color\": \"#C8D4E3\"}, \"line\": {\"color\": \"white\"}}, \"type\": \"table\"}]}, \"layout\": {\"annotationdefaults\": {\"arrowcolor\": \"#2a3f5f\", \"arrowhead\": 0, \"arrowwidth\": 1}, \"autotypenumbers\": \"strict\", \"coloraxis\": {\"colorbar\": {\"outlinewidth\": 0, \"ticks\": \"\"}}, \"colorscale\": {\"diverging\": [[0, \"#8e0152\"], [0.1, \"#c51b7d\"], [0.2, \"#de77ae\"], [0.3, \"#f1b6da\"], [0.4, \"#fde0ef\"], [0.5, \"#f7f7f7\"], [0.6, \"#e6f5d0\"], [0.7, \"#b8e186\"], [0.8, \"#7fbc41\"], [0.9, \"#4d9221\"], [1, \"#276419\"]], \"sequential\": [[0.0, \"#0d0887\"], [0.1111111111111111, \"#46039f\"], [0.2222222222222222, \"#7201a8\"], [0.3333333333333333, \"#9c179e\"], [0.4444444444444444, \"#bd3786\"], [0.5555555555555556, \"#d8576b\"], [0.6666666666666666, \"#ed7953\"], [0.7777777777777778, \"#fb9f3a\"], [0.8888888888888888, \"#fdca26\"], [1.0, \"#f0f921\"]], \"sequentialminus\": [[0.0, \"#0d0887\"], [0.1111111111111111, \"#46039f\"], [0.2222222222222222, \"#7201a8\"], [0.3333333333333333, \"#9c179e\"], [0.4444444444444444, \"#bd3786\"], [0.5555555555555556, \"#d8576b\"], [0.6666666666666666, \"#ed7953\"], [0.7777777777777778, \"#fb9f3a\"], [0.8888888888888888, \"#fdca26\"], [1.0, \"#f0f921\"]]}, \"colorway\": [\"#636efa\", \"#EF553B\", \"#00cc96\", \"#ab63fa\", \"#FFA15A\", \"#19d3f3\", \"#FF6692\", \"#B6E880\", \"#FF97FF\", \"#FECB52\"], \"font\": {\"color\": \"#2a3f5f\"}, \"geo\": {\"bgcolor\": \"white\", \"lakecolor\": \"white\", \"landcolor\": \"#E5ECF6\", \"showlakes\": true, \"showland\": true, \"subunitcolor\": \"white\"}, \"hoverlabel\": {\"align\": \"left\"}, \"hovermode\": \"closest\", \"mapbox\": {\"style\": \"light\"}, \"paper_bgcolor\": \"white\", \"plot_bgcolor\": \"#E5ECF6\", \"polar\": {\"angularaxis\": {\"gridcolor\": \"white\", \"linecolor\": \"white\", \"ticks\": \"\"}, \"bgcolor\": \"#E5ECF6\", \"radialaxis\": {\"gridcolor\": \"white\", \"linecolor\": \"white\", \"ticks\": \"\"}}, \"scene\": {\"xaxis\": {\"backgroundcolor\": \"#E5ECF6\", \"gridcolor\": \"white\", \"gridwidth\": 2, \"linecolor\": \"white\", \"showbackground\": true, \"ticks\": \"\", \"zerolinecolor\": \"white\"}, \"yaxis\": {\"backgroundcolor\": \"#E5ECF6\", \"gridcolor\": \"white\", \"gridwidth\": 2, \"linecolor\": \"white\", \"showbackground\": true, \"ticks\": \"\", \"zerolinecolor\": \"white\"}, \"zaxis\": {\"backgroundcolor\": \"#E5ECF6\", \"gridcolor\": \"white\", \"gridwidth\": 2, \"linecolor\": \"white\", \"showbackground\": true, \"ticks\": \"\", \"zerolinecolor\": \"white\"}}, \"shapedefaults\": {\"line\": {\"color\": \"#2a3f5f\"}}, \"ternary\": {\"aaxis\": {\"gridcolor\": \"white\", \"linecolor\": \"white\", \"ticks\": \"\"}, \"baxis\": {\"gridcolor\": \"white\", \"linecolor\": \"white\", \"ticks\": \"\"}, \"bgcolor\": \"#E5ECF6\", \"caxis\": {\"gridcolor\": \"white\", \"linecolor\": \"white\", \"ticks\": \"\"}}, \"title\": {\"x\": 0.05}, \"xaxis\": {\"automargin\": true, \"gridcolor\": \"white\", \"linecolor\": \"white\", \"ticks\": \"\", \"title\": {\"standoff\": 15}, \"zerolinecolor\": \"white\", \"zerolinewidth\": 2}, \"yaxis\": {\"automargin\": true, \"gridcolor\": \"white\", \"linecolor\": \"white\", \"ticks\": \"\", \"title\": {\"standoff\": 15}, \"zerolinecolor\": \"white\", \"zerolinewidth\": 2}}}, \"title\": {\"font\": {\"color\": \"#4D5663\"}}, \"xaxis\": {\"anchor\": \"y\", \"domain\": [0.0, 0.2125], \"gridcolor\": \"#E1E5ED\", \"showgrid\": false, \"tickfont\": {\"color\": \"#4D5663\"}, \"title\": {\"font\": {\"color\": \"#4D5663\"}, \"text\": \"\"}, \"zerolinecolor\": \"#E1E5ED\"}, \"xaxis10\": {\"anchor\": \"y10\", \"domain\": [0.2625, 0.475], \"gridcolor\": \"#E1E5ED\", \"showgrid\": false, \"tickfont\": {\"color\": \"#4D5663\"}, \"title\": {\"font\": {\"color\": \"#4D5663\"}, \"text\": \"\"}, \"zerolinecolor\": \"#E1E5ED\"}, \"xaxis11\": {\"anchor\": \"y11\", \"domain\": [0.525, 0.7375], \"gridcolor\": \"#E1E5ED\", \"showgrid\": false, \"tickfont\": {\"color\": \"#4D5663\"}, \"title\": {\"font\": {\"color\": \"#4D5663\"}, \"text\": \"\"}, \"zerolinecolor\": \"#E1E5ED\"}, \"xaxis12\": {\"anchor\": \"y12\", \"domain\": [0.7875, 1.0], \"gridcolor\": \"#E1E5ED\", \"showgrid\": false, \"tickfont\": {\"color\": \"#4D5663\"}, \"title\": {\"font\": {\"color\": \"#4D5663\"}, \"text\": \"\"}, \"zerolinecolor\": \"#E1E5ED\"}, \"xaxis13\": {\"anchor\": \"y13\", \"domain\": [0.0, 0.2125], \"gridcolor\": \"#E1E5ED\", \"showgrid\": false, \"tickfont\": {\"color\": \"#4D5663\"}, \"title\": {\"font\": {\"color\": \"#4D5663\"}, \"text\": \"\"}, \"zerolinecolor\": \"#E1E5ED\"}, \"xaxis14\": {\"anchor\": \"y14\", \"domain\": [0.2625, 0.475], \"gridcolor\": \"#E1E5ED\", \"showgrid\": false, \"tickfont\": {\"color\": \"#4D5663\"}, \"title\": {\"font\": {\"color\": \"#4D5663\"}, \"text\": \"\"}, \"zerolinecolor\": \"#E1E5ED\"}, \"xaxis15\": {\"anchor\": \"y15\", \"domain\": [0.525, 0.7375], \"gridcolor\": \"#E1E5ED\", \"showgrid\": false, \"tickfont\": {\"color\": \"#4D5663\"}, \"title\": {\"font\": {\"color\": \"#4D5663\"}, \"text\": \"\"}, \"zerolinecolor\": \"#E1E5ED\"}, \"xaxis16\": {\"anchor\": \"y16\", \"domain\": [0.7875, 1.0], \"gridcolor\": \"#E1E5ED\", \"showgrid\": false, \"tickfont\": {\"color\": \"#4D5663\"}, \"title\": {\"font\": {\"color\": \"#4D5663\"}, \"text\": \"\"}, \"zerolinecolor\": \"#E1E5ED\"}, \"xaxis2\": {\"anchor\": \"y2\", \"domain\": [0.2625, 0.475], \"gridcolor\": \"#E1E5ED\", \"showgrid\": false, \"tickfont\": {\"color\": \"#4D5663\"}, \"title\": {\"font\": {\"color\": \"#4D5663\"}, \"text\": \"\"}, \"zerolinecolor\": \"#E1E5ED\"}, \"xaxis3\": {\"anchor\": \"y3\", \"domain\": [0.525, 0.7375], \"gridcolor\": \"#E1E5ED\", \"showgrid\": false, \"tickfont\": {\"color\": \"#4D5663\"}, \"title\": {\"font\": {\"color\": \"#4D5663\"}, \"text\": \"\"}, \"zerolinecolor\": \"#E1E5ED\"}, \"xaxis4\": {\"anchor\": \"y4\", \"domain\": [0.7875, 1.0], \"gridcolor\": \"#E1E5ED\", \"showgrid\": false, \"tickfont\": {\"color\": \"#4D5663\"}, \"title\": {\"font\": {\"color\": \"#4D5663\"}, \"text\": \"\"}, \"zerolinecolor\": \"#E1E5ED\"}, \"xaxis5\": {\"anchor\": \"y5\", \"domain\": [0.0, 0.2125], \"gridcolor\": \"#E1E5ED\", \"showgrid\": false, \"tickfont\": {\"color\": \"#4D5663\"}, \"title\": {\"font\": {\"color\": \"#4D5663\"}, \"text\": \"\"}, \"zerolinecolor\": \"#E1E5ED\"}, \"xaxis6\": {\"anchor\": \"y6\", \"domain\": [0.2625, 0.475], \"gridcolor\": \"#E1E5ED\", \"showgrid\": false, \"tickfont\": {\"color\": \"#4D5663\"}, \"title\": {\"font\": {\"color\": \"#4D5663\"}, \"text\": \"\"}, \"zerolinecolor\": \"#E1E5ED\"}, \"xaxis7\": {\"anchor\": \"y7\", \"domain\": [0.525, 0.7375], \"gridcolor\": \"#E1E5ED\", \"showgrid\": false, \"tickfont\": {\"color\": \"#4D5663\"}, \"title\": {\"font\": {\"color\": \"#4D5663\"}, \"text\": \"\"}, \"zerolinecolor\": \"#E1E5ED\"}, \"xaxis8\": {\"anchor\": \"y8\", \"domain\": [0.7875, 1.0], \"gridcolor\": \"#E1E5ED\", \"showgrid\": false, \"tickfont\": {\"color\": \"#4D5663\"}, \"title\": {\"font\": {\"color\": \"#4D5663\"}, \"text\": \"\"}, \"zerolinecolor\": \"#E1E5ED\"}, \"xaxis9\": {\"anchor\": \"y9\", \"domain\": [0.0, 0.2125], \"gridcolor\": \"#E1E5ED\", \"showgrid\": false, \"tickfont\": {\"color\": \"#4D5663\"}, \"title\": {\"font\": {\"color\": \"#4D5663\"}, \"text\": \"\"}, \"zerolinecolor\": \"#E1E5ED\"}, \"yaxis\": {\"anchor\": \"x\", \"domain\": [0.8025, 1.0], \"gridcolor\": \"#E1E5ED\", \"showgrid\": false, \"tickfont\": {\"color\": \"#4D5663\"}, \"title\": {\"font\": {\"color\": \"#4D5663\"}, \"text\": \"\"}, \"zerolinecolor\": \"#E1E5ED\"}, \"yaxis10\": {\"anchor\": \"x10\", \"domain\": [0.2675, 0.465], \"gridcolor\": \"#E1E5ED\", \"showgrid\": false, \"tickfont\": {\"color\": \"#4D5663\"}, \"title\": {\"font\": {\"color\": \"#4D5663\"}, \"text\": \"\"}, \"zerolinecolor\": \"#E1E5ED\"}, \"yaxis11\": {\"anchor\": \"x11\", \"domain\": [0.2675, 0.465], \"gridcolor\": \"#E1E5ED\", \"showgrid\": false, \"tickfont\": {\"color\": \"#4D5663\"}, \"title\": {\"font\": {\"color\": \"#4D5663\"}, \"text\": \"\"}, \"zerolinecolor\": \"#E1E5ED\"}, \"yaxis12\": {\"anchor\": \"x12\", \"domain\": [0.2675, 0.465], \"gridcolor\": \"#E1E5ED\", \"showgrid\": false, \"tickfont\": {\"color\": \"#4D5663\"}, \"title\": {\"font\": {\"color\": \"#4D5663\"}, \"text\": \"\"}, \"zerolinecolor\": \"#E1E5ED\"}, \"yaxis13\": {\"anchor\": \"x13\", \"domain\": [0.0, 0.1975], \"gridcolor\": \"#E1E5ED\", \"showgrid\": false, \"tickfont\": {\"color\": \"#4D5663\"}, \"title\": {\"font\": {\"color\": \"#4D5663\"}, \"text\": \"\"}, \"zerolinecolor\": \"#E1E5ED\"}, \"yaxis14\": {\"anchor\": \"x14\", \"domain\": [0.0, 0.1975], \"gridcolor\": \"#E1E5ED\", \"showgrid\": false, \"tickfont\": {\"color\": \"#4D5663\"}, \"title\": {\"font\": {\"color\": \"#4D5663\"}, \"text\": \"\"}, \"zerolinecolor\": \"#E1E5ED\"}, \"yaxis15\": {\"anchor\": \"x15\", \"domain\": [0.0, 0.1975], \"gridcolor\": \"#E1E5ED\", \"showgrid\": false, \"tickfont\": {\"color\": \"#4D5663\"}, \"title\": {\"font\": {\"color\": \"#4D5663\"}, \"text\": \"\"}, \"zerolinecolor\": \"#E1E5ED\"}, \"yaxis16\": {\"anchor\": \"x16\", \"domain\": [0.0, 0.1975], \"gridcolor\": \"#E1E5ED\", \"showgrid\": false, \"tickfont\": {\"color\": \"#4D5663\"}, \"title\": {\"font\": {\"color\": \"#4D5663\"}, \"text\": \"\"}, \"zerolinecolor\": \"#E1E5ED\"}, \"yaxis2\": {\"anchor\": \"x2\", \"domain\": [0.8025, 1.0], \"gridcolor\": \"#E1E5ED\", \"showgrid\": false, \"tickfont\": {\"color\": \"#4D5663\"}, \"title\": {\"font\": {\"color\": \"#4D5663\"}, \"text\": \"\"}, \"zerolinecolor\": \"#E1E5ED\"}, \"yaxis3\": {\"anchor\": \"x3\", \"domain\": [0.8025, 1.0], \"gridcolor\": \"#E1E5ED\", \"showgrid\": false, \"tickfont\": {\"color\": \"#4D5663\"}, \"title\": {\"font\": {\"color\": \"#4D5663\"}, \"text\": \"\"}, \"zerolinecolor\": \"#E1E5ED\"}, \"yaxis4\": {\"anchor\": \"x4\", \"domain\": [0.8025, 1.0], \"gridcolor\": \"#E1E5ED\", \"showgrid\": false, \"tickfont\": {\"color\": \"#4D5663\"}, \"title\": {\"font\": {\"color\": \"#4D5663\"}, \"text\": \"\"}, \"zerolinecolor\": \"#E1E5ED\"}, \"yaxis5\": {\"anchor\": \"x5\", \"domain\": [0.535, 0.7325], \"gridcolor\": \"#E1E5ED\", \"showgrid\": false, \"tickfont\": {\"color\": \"#4D5663\"}, \"title\": {\"font\": {\"color\": \"#4D5663\"}, \"text\": \"\"}, \"zerolinecolor\": \"#E1E5ED\"}, \"yaxis6\": {\"anchor\": \"x6\", \"domain\": [0.535, 0.7325], \"gridcolor\": \"#E1E5ED\", \"showgrid\": false, \"tickfont\": {\"color\": \"#4D5663\"}, \"title\": {\"font\": {\"color\": \"#4D5663\"}, \"text\": \"\"}, \"zerolinecolor\": \"#E1E5ED\"}, \"yaxis7\": {\"anchor\": \"x7\", \"domain\": [0.535, 0.7325], \"gridcolor\": \"#E1E5ED\", \"showgrid\": false, \"tickfont\": {\"color\": \"#4D5663\"}, \"title\": {\"font\": {\"color\": \"#4D5663\"}, \"text\": \"\"}, \"zerolinecolor\": \"#E1E5ED\"}, \"yaxis8\": {\"anchor\": \"x8\", \"domain\": [0.535, 0.7325], \"gridcolor\": \"#E1E5ED\", \"showgrid\": false, \"tickfont\": {\"color\": \"#4D5663\"}, \"title\": {\"font\": {\"color\": \"#4D5663\"}, \"text\": \"\"}, \"zerolinecolor\": \"#E1E5ED\"}, \"yaxis9\": {\"anchor\": \"x9\", \"domain\": [0.2675, 0.465], \"gridcolor\": \"#E1E5ED\", \"showgrid\": false, \"tickfont\": {\"color\": \"#4D5663\"}, \"title\": {\"font\": {\"color\": \"#4D5663\"}, \"text\": \"\"}, \"zerolinecolor\": \"#E1E5ED\"}},                        {\"showLink\": true, \"linkText\": \"Export to plot.ly\", \"plotlyServerURL\": \"https://plot.ly\", \"responsive\": true}                    ).then(function(){\n",
       "                            \n",
       "var gd = document.getElementById('a93cbde7-fd8c-4ab2-866f-fb824c85fea7');\n",
       "var x = new MutationObserver(function (mutations, observer) {{\n",
       "        var display = window.getComputedStyle(gd).display;\n",
       "        if (!display || display === 'none') {{\n",
       "            console.log([gd, 'removed!']);\n",
       "            Plotly.purge(gd);\n",
       "            observer.disconnect();\n",
       "        }}\n",
       "}});\n",
       "\n",
       "// Listen for the removal of the full notebook cells\n",
       "var notebookContainer = gd.closest('#notebook-container');\n",
       "if (notebookContainer) {{\n",
       "    x.observe(notebookContainer, {childList: true});\n",
       "}}\n",
       "\n",
       "// Listen for the clearing of the current output cell\n",
       "var outputEl = gd.closest('.output');\n",
       "if (outputEl) {{\n",
       "    x.observe(outputEl, {childList: true});\n",
       "}}\n",
       "\n",
       "                        })                };                });            </script>        </div>"
      ]
     },
     "metadata": {},
     "output_type": "display_data"
    }
   ],
   "source": [
    "df.scatter_matrix()"
   ]
  },
  {
   "cell_type": "markdown",
   "metadata": {},
   "source": [
    "# WELL DONE!"
   ]
  }
 ],
 "metadata": {
  "kernelspec": {
   "display_name": "Python 3",
   "language": "python",
   "name": "python3"
  },
  "language_info": {
   "codemirror_mode": {
    "name": "ipython",
    "version": 3
   },
   "file_extension": ".py",
   "mimetype": "text/x-python",
   "name": "python",
   "nbconvert_exporter": "python",
   "pygments_lexer": "ipython3",
   "version": "3.8.3"
  }
 },
 "nbformat": 4,
 "nbformat_minor": 4
}
